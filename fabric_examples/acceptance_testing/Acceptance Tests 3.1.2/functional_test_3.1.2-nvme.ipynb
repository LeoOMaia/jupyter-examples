{
 "cells": [
  {
   "cell_type": "markdown",
   "metadata": {},
   "source": [
    "# Functional Test 3.1.2 - NVMEs\n",
    "\n",
    "This Jupyter notebook will allow you to create VMs on different sites and worker nodes consistent with requirements for test 3.1.2 for testing NVMe attachment.\n",
    "\n",
    "## Step 1:  Configure the Environment\n",
    "\n",
    "Before running this notebook, you will need to configure your environment using the [Configure Environment](../fablib_api/configure_environment/configure_environment.ipynb) notebook. Please stop here, open and run that notebook, then return to this notebook.\n",
    "\n",
    "**This only needs to be done once.**"
   ]
  },
  {
   "cell_type": "markdown",
   "metadata": {},
   "source": [
    "## Step 2: Import the FABlib Library"
   ]
  },
  {
   "cell_type": "code",
   "execution_count": 1,
   "metadata": {},
   "outputs": [
    {
     "name": "stdout",
     "output_type": "stream",
     "text": [
      "-----------------------------------  --------------------------------------------------\n",
      "credmgr_host                         cm.fabric-testbed.net\n",
      "orchestrator_host                    orchestrator.fabric-testbed.net\n",
      "fabric_token                         /home/fabric/.tokens.json\n",
      "project_id                           990d8a8b-7e50-4d13-a3be-0f133ffa8653\n",
      "bastion_username                     ibaldin_0000241998\n",
      "bastion_key_filename                 /home/fabric/work/fabric_config/fabric_bastion_key\n",
      "bastion_public_addr                  bastion-1.fabric-testbed.net\n",
      "bastion_passphrase                   None\n",
      "slice_public_key_file                /home/fabric/work/fabric_config/slice_key.pub\n",
      "slice_private_key_file               /home/fabric/work/fabric_config/slice_key\n",
      "fabric_slice_private_key_passphrase  None\n",
      "fablib_log_file                      /tmp/fablib/fablib.log\n",
      "fablib_log_level                     INFO\n",
      "-----------------------------------  --------------------------------------------------\n"
     ]
    }
   ],
   "source": [
    "from fabrictestbed_extensions.fablib.fablib import FablibManager as fablib_manager\n",
    "\n",
    "fablib = fablib_manager()\n",
    "                     \n",
    "fablib.show_config()"
   ]
  },
  {
   "cell_type": "markdown",
   "metadata": {},
   "source": [
    "## Step 3 Check your existing slices\n",
    "\n",
    "Since testing can get confusing, check what slices you actually have. It may print nothing if you have no active slices."
   ]
  },
  {
   "cell_type": "code",
   "execution_count": 2,
   "metadata": {},
   "outputs": [],
   "source": [
    "try:\n",
    "    for slice in fablib.get_slices():\n",
    "        print(f\"{slice}\")\n",
    "except Exception as e:\n",
    "    print(f\"Exception: {e}\")"
   ]
  },
  {
   "cell_type": "markdown",
   "metadata": {},
   "source": [
    "## Step 4: Create the test Slice\n",
    "\n",
    "This creates a VM with two NVMes on a specific worker at a specific site (there are typically at least 2 available at each worker). If you are unsure, the generated ads for each site ([in JSON format](https://github.com/fabric-testbed/aggregate-ads/tree/main/JSON)) can help. \n",
    "\n",
    "**The code to create the slice will auto-refresh until the slice is created or it fails**"
   ]
  },
  {
   "cell_type": "code",
   "execution_count": 3,
   "metadata": {},
   "outputs": [],
   "source": [
    "from datetime import datetime\n",
    "from dateutil import tz\n",
    "\n",
    "name='Node1'\n",
    "nvme_name1='nvme1'\n",
    "nvme_name2='nvme2'\n",
    "site='TACC'\n",
    "# since all workers have a standard naming scheme, you can just change the worker\n",
    "# to move from worker to worker\n",
    "worker=f'{site.lower()}-w1.fabric-testbed.net'\n",
    "cores=10\n",
    "ram=20\n",
    "disk=50\n",
    "slice_name=f\"Slice Test 3.1.2-NVMe {site} on {worker} on {datetime.now()}\""
   ]
  },
  {
   "cell_type": "code",
   "execution_count": 4,
   "metadata": {},
   "outputs": [
    {
     "name": "stdout",
     "output_type": "stream",
     "text": [
      "\n",
      "-----------  --------------------------------------------------------------------------------------\n",
      "Slice Name   Slice Test 3.1.2-NVMe TACC on tacc-w1.fabric-testbed.net on 2022-08-31 01:50:40.103182\n",
      "Slice ID     20832e92-0c1b-4e04-bf2a-da22be7a88a6\n",
      "Slice State  StableOK\n",
      "Lease End    2022-09-01 01:50:43 +0000\n",
      "-----------  --------------------------------------------------------------------------------------\n",
      "\n",
      "Retry: 9, Time: 104 sec\n",
      "\n",
      "ID                                    Name    Site    Host                          Cores    RAM    Disk  Image            Management IP    State    Error\n",
      "------------------------------------  ------  ------  --------------------------  -------  -----  ------  ---------------  ---------------  -------  -------\n",
      "b58f1e42-5f3f-43cd-9fa8-57ffbbf001df  Node1   TACC    tacc-w1.fabric-testbed.net       10     32     100  default_rocky_8  129.114.110.93   Active\n",
      "\n",
      "Time to stable 104 seconds\n",
      "Running post_boot_config ... Time to post boot config 105 seconds\n"
     ]
    }
   ],
   "source": [
    "try:\n",
    "    #Create Slice\n",
    "    print(f'Creating slice {slice_name}')\n",
    "    slice = fablib.new_slice(name=slice_name)\n",
    "\n",
    "    # Add node\n",
    "    node = slice.add_node(name=name, site=site, host=worker, cores=cores, ram=ram, disk=disk)\n",
    "    \n",
    "    #Add an NVMe Drive\n",
    "    node.add_component(model='NVME_P4510', name=nvme_name1)\n",
    "    #Add another NVMe Drive\n",
    "    node.add_component(model='NVME_P4510', name=nvme_name2)\n",
    "\n",
    "    #Submit Slice Request\n",
    "    slice.submit()\n",
    "except Exception as e:\n",
    "    print(f\"Exception: {e}\")"
   ]
  },
  {
   "cell_type": "markdown",
   "metadata": {},
   "source": [
    "## Step 5: Observe the Slice's Attributes\n",
    "\n",
    "### Print the slice "
   ]
  },
  {
   "cell_type": "code",
   "execution_count": 5,
   "metadata": {},
   "outputs": [
    {
     "name": "stdout",
     "output_type": "stream",
     "text": [
      "-----------  --------------------------------------------------------------------------------------\n",
      "Slice Name   Slice Test 3.1.2-NVMe TACC on tacc-w1.fabric-testbed.net on 2022-08-31 01:50:40.103182\n",
      "Slice ID     20832e92-0c1b-4e04-bf2a-da22be7a88a6\n",
      "Slice State  StableOK\n",
      "Lease End    2022-09-01 01:50:43 +0000\n",
      "-----------  --------------------------------------------------------------------------------------\n"
     ]
    }
   ],
   "source": [
    "try:\n",
    "    slice = fablib.get_slice(name=slice_name)\n",
    "    print(f\"{slice}\")\n",
    "except Exception as e:\n",
    "    print(f\"Exception: {e}\")"
   ]
  },
  {
   "cell_type": "markdown",
   "metadata": {},
   "source": [
    "### Print the node\n",
    "\n",
    "Each node in the slice has a set of get functions that return the node's attributes. Use the returned `SSH Command` string to check the node. You can do it from a Bash launched inside the Jupyter container.\n"
   ]
  },
  {
   "cell_type": "code",
   "execution_count": 6,
   "metadata": {},
   "outputs": [
    {
     "name": "stdout",
     "output_type": "stream",
     "text": [
      "-----------------  ------------------------------------------------------------------------------------------------------------------------\n",
      "ID                 b58f1e42-5f3f-43cd-9fa8-57ffbbf001df\n",
      "Name               Node1\n",
      "Cores              10\n",
      "RAM                32\n",
      "Disk               100\n",
      "Image              default_rocky_8\n",
      "Image Type         qcow2\n",
      "Host               tacc-w1.fabric-testbed.net\n",
      "Site               TACC\n",
      "Management IP      129.114.110.93\n",
      "Reservation State  Active\n",
      "Error Message\n",
      "SSH Command        ssh -i /home/fabric/work/fabric_config/slice_key -J ibaldin_0000241998@bastion-1.fabric-testbed.net rocky@129.114.110.93\n",
      "-----------------  ------------------------------------------------------------------------------------------------------------------------\n",
      "-----------  -------------------------------------\n",
      "Name         Node1-nvme1\n",
      "Details      Dell Express Flash NVMe P4510 1TB SFF\n",
      "Disk (G)     0\n",
      "Units        1\n",
      "PCI Address  0000:22:00.0\n",
      "Model        NVME_P4510\n",
      "Type         NVME\n",
      "-----------  -------------------------------------\n",
      "-----------  -------------------------------------\n",
      "Name         Node1-nvme2\n",
      "Details      Dell Express Flash NVMe P4510 1TB SFF\n",
      "Disk (G)     0\n",
      "Units        1\n",
      "PCI Address  0000:21:00.0\n",
      "Model        NVME_P4510\n",
      "Type         NVME\n",
      "-----------  -------------------------------------\n"
     ]
    }
   ],
   "source": [
    "try:\n",
    "    node = slice.get_node(name) \n",
    "    print(f\"{node}\")\n",
    "  \n",
    "    nvme1 = node.get_component(nvme_name1)\n",
    "    print(f\"{nvme1}\")\n",
    "    \n",
    "    nvme2 = node.get_component(nvme_name2)\n",
    "    print(f\"{nvme2}\")\n",
    "except Exception as e:\n",
    "    print(f\"Exception: {e}\")"
   ]
  },
  {
   "cell_type": "markdown",
   "metadata": {},
   "source": [
    "### NVMe PCI Devices\n",
    "\n",
    "Run the command <code>lspci</code> to see your GPU PCI device(s). This is the raw GPU PCI device that is not yet configured for use.  You can use the GPUs as you would any GPUs.\n",
    "\n",
    "View node1's NVMe's"
   ]
  },
  {
   "cell_type": "code",
   "execution_count": 7,
   "metadata": {},
   "outputs": [
    {
     "name": "stdout",
     "output_type": "stream",
     "text": [
      "stdout: \n",
      "Installed:\n",
      "  pciutils-3.7.0-1.el8.x86_64                                                   \n",
      "\n",
      "00:00.0 Host bridge: Intel Corporation 440FX - 82441FX PMC [Natoma] (rev 02)\n",
      "00:01.0 ISA bridge: Intel Corporation 82371SB PIIX3 ISA [Natoma/Triton II]\n",
      "00:01.1 IDE interface: Intel Corporation 82371SB PIIX3 IDE [Natoma/Triton II]\n",
      "00:01.2 USB controller: Intel Corporation 82371SB PIIX3 USB [Natoma/Triton II] (rev 01)\n",
      "00:01.3 Bridge: Intel Corporation 82371AB/EB/MB PIIX4 ACPI (rev 03)\n",
      "00:02.0 VGA compatible controller: Cirrus Logic GD 5446\n",
      "00:03.0 Ethernet controller: Red Hat, Inc. Virtio network device\n",
      "00:04.0 SCSI storage controller: Red Hat, Inc. Virtio block device\n",
      "00:05.0 Unclassified device [00ff]: Red Hat, Inc. Virtio memory balloon\n",
      "00:06.0 Unclassified device [00ff]: Red Hat, Inc. Virtio RNG\n",
      "00:07.0 Non-Volatile memory controller: Toshiba Corporation NVMe SSD Controller Cx5 (rev 01)\n",
      "00:08.0 Non-Volatile memory controller: Toshiba Corporation NVMe SSD Controller Cx5 (rev 01)\n",
      "\n"
     ]
    }
   ],
   "source": [
    "command = \"sudo dnf install -q -y pciutils && lspci\"\n",
    "try:\n",
    "    stdout, stderr = node.execute(command)\n",
    "    print(f\"stdout: {stdout}\")\n",
    "except Exception as e:\n",
    "    print(f\"Exception: {e}\")"
   ]
  },
  {
   "cell_type": "markdown",
   "metadata": {},
   "source": [
    "## Step 6: Configure NVMe drives\n",
    "\n",
    "NVMe storage is provided as bare PCI block devices and will need to be partitioned, formated, and mounted before use. Observe the devices."
   ]
  },
  {
   "cell_type": "code",
   "execution_count": 8,
   "metadata": {},
   "outputs": [],
   "source": [
    "try:\n",
    "    nvme1.configure_nvme()\n",
    "    nvme2.configure_nvme()\n",
    "except Exception as e:\n",
    "    print(f\"Exception: {e}\")"
   ]
  },
  {
   "cell_type": "code",
   "execution_count": 9,
   "metadata": {},
   "outputs": [
    {
     "name": "stdout",
     "output_type": "stream",
     "text": [
      "stdout: Disk /dev/vda: 100 GiB, 107374182400 bytes, 209715200 sectors\n",
      "Units: sectors of 1 * 512 = 512 bytes\n",
      "Sector size (logical/physical): 512 bytes / 512 bytes\n",
      "I/O size (minimum/optimal): 512 bytes / 512 bytes\n",
      "Disklabel type: dos\n",
      "Disk identifier: 0x2cc9c27e\n",
      "\n",
      "Device     Boot Start       End   Sectors  Size Id Type\n",
      "/dev/vda1  *     2048 209715166 209713119  100G 83 Linux\n",
      "\n",
      "\n",
      "Disk /dev/nvme0n1: 894.3 GiB, 960197124096 bytes, 1875385008 sectors\n",
      "Units: sectors of 1 * 512 = 512 bytes\n",
      "Sector size (logical/physical): 512 bytes / 512 bytes\n",
      "I/O size (minimum/optimal): 512 bytes / 512 bytes\n",
      "Disklabel type: gpt\n",
      "Disk identifier: C386A624-8064-4DEB-A794-BE1B9D30318A\n",
      "\n",
      "Device         Start        End    Sectors   Size Type\n",
      "/dev/nvme0n1p1  2048 1875384319 1875382272 894.3G Linux filesystem\n",
      "\n",
      "\n",
      "Disk /dev/nvme1n1: 894.3 GiB, 960197124096 bytes, 1875385008 sectors\n",
      "Units: sectors of 1 * 512 = 512 bytes\n",
      "Sector size (logical/physical): 512 bytes / 512 bytes\n",
      "I/O size (minimum/optimal): 512 bytes / 512 bytes\n",
      "\n"
     ]
    }
   ],
   "source": [
    "command = \"sudo fdisk -l\"\n",
    "try:\n",
    "    stdout, stderr = node.execute(command)\n",
    "    print(f\"stdout: {stdout}\")\n",
    "except Exception as e:\n",
    "    print(f\"Exception: {e}\")"
   ]
  },
  {
   "cell_type": "markdown",
   "metadata": {},
   "source": [
    "## Step 7: Cleanup Your Slice"
   ]
  },
  {
   "cell_type": "code",
   "execution_count": 10,
   "metadata": {},
   "outputs": [],
   "source": [
    "try:\n",
    "    slice = fablib.get_slice(name=slice_name)\n",
    "    slice.delete()\n",
    "except Exception as e:\n",
    "    print(f\"Exception: {e}\")"
   ]
  },
  {
   "cell_type": "code",
   "execution_count": null,
   "metadata": {},
   "outputs": [],
   "source": []
  }
 ],
 "metadata": {
  "kernelspec": {
   "display_name": "Python 3 (ipykernel)",
   "language": "python",
   "name": "python3"
  },
  "language_info": {
   "codemirror_mode": {
    "name": "ipython",
    "version": 3
   },
   "file_extension": ".py",
   "mimetype": "text/x-python",
   "name": "python",
   "nbconvert_exporter": "python",
   "pygments_lexer": "ipython3",
   "version": "3.9.7"
  }
 },
 "nbformat": 4,
 "nbformat_minor": 4
}
