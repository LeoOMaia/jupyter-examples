{
 "cells": [
  {
   "cell_type": "markdown",
   "metadata": {},
   "source": [
    "# Functional Test 3.1.2 - NVMEs\n",
    "\n",
    "This Jupyter notebook will allow you to create VMs on different sites and worker nodes consistent with requirements for test 3.1.2 for testing NVMe attachment.\n",
    "\n",
    "## Step 1:  Configure the Environment\n",
    "\n",
    "Before running this notebook, you will need to configure your environment using the [Configure Environment](../../fablib_api/configure_environment/configure_environment.ipynb) notebook. Please stop here, open and run that notebook, then return to this notebook.\n",
    "\n",
    "**This only needs to be done once.**"
   ]
  },
  {
   "cell_type": "markdown",
   "metadata": {},
   "source": [
    "## Step 2: Import the FABlib Library"
   ]
  },
  {
   "cell_type": "code",
   "execution_count": null,
   "metadata": {},
   "outputs": [],
   "source": [
    "from fabrictestbed_extensions.fablib.fablib import FablibManager as fablib_manager\n",
    "\n",
    "fablib = fablib_manager()\n",
    "                     \n",
    "fablib.show_config()"
   ]
  },
  {
   "cell_type": "markdown",
   "metadata": {},
   "source": [
    "## Step 3 Check your existing slices\n",
    "\n",
    "Since testing can get confusing, check what slices you actually have. It may print nothing if you have no active slices."
   ]
  },
  {
   "cell_type": "code",
   "execution_count": null,
   "metadata": {
    "tags": []
   },
   "outputs": [],
   "source": [
    "try:\n",
    "    for slice in fablib.get_slices():\n",
    "        print(f\"{slice}\")\n",
    "except Exception as e:\n",
    "    print(f\"Exception: {e}\")"
   ]
  },
  {
   "cell_type": "markdown",
   "metadata": {},
   "source": [
    "## Step 4: Create the test Slice\n",
    "\n",
    "This creates a VM with two NVMes on a specific worker at a specific site (there are typically at least 2 available at each worker). If you are unsure, the generated ads for each site ([in JSON format](https://github.com/fabric-testbed/aggregate-ads/tree/main/JSON)) can help. \n",
    "\n",
    "**The code to create the slice will auto-refresh until the slice is created or it fails**"
   ]
  },
  {
   "cell_type": "code",
   "execution_count": null,
   "metadata": {
    "tags": []
   },
   "outputs": [],
   "source": [
    "from datetime import datetime\n",
    "from dateutil import tz\n",
    "\n",
    "name='Node1'\n",
    "nvme_name1='nvme1'\n",
    "nvme_name2='nvme2'\n",
    "site='TACC'\n",
    "# since all workers have a standard naming scheme, you can just change the worker\n",
    "# to move from worker to worker\n",
    "worker=f'{site.lower()}-w1.fabric-testbed.net'\n",
    "cores=10\n",
    "ram=20\n",
    "disk=50\n",
    "slice_name=f\"Slice Test 3.1.2-NVMe {site} on {worker} on {datetime.now()}\""
   ]
  },
  {
   "cell_type": "code",
   "execution_count": null,
   "metadata": {},
   "outputs": [],
   "source": [
    "try:\n",
    "    #Create Slice\n",
    "    print(f'Creating slice {slice_name}')\n",
    "    slice = fablib.new_slice(name=slice_name)\n",
    "\n",
    "    # Add node\n",
    "    node = slice.add_node(name=name, site=site, host=worker, cores=cores, ram=ram, disk=disk)\n",
    "    \n",
    "    #Add an NVMe Drive\n",
    "    node.add_component(model='NVME_P4510', name=nvme_name1)\n",
    "    #Add another NVMe Drive\n",
    "    node.add_component(model='NVME_P4510', name=nvme_name2)\n",
    "\n",
    "    #Submit Slice Request\n",
    "    slice.submit()\n",
    "except Exception as e:\n",
    "    print(f\"Exception: {e}\")"
   ]
  },
  {
   "cell_type": "markdown",
   "metadata": {},
   "source": [
    "## Step 5: Observe the Slice's Attributes\n",
    "\n",
    "### Print the slice "
   ]
  },
  {
   "cell_type": "code",
   "execution_count": null,
   "metadata": {},
   "outputs": [],
   "source": [
    "try:\n",
    "    slice = fablib.get_slice(name=slice_name)\n",
    "    print(f\"{slice}\")\n",
    "except Exception as e:\n",
    "    print(f\"Exception: {e}\")"
   ]
  },
  {
   "cell_type": "markdown",
   "metadata": {},
   "source": [
    "### Print the node\n",
    "\n",
    "Each node in the slice has a set of get functions that return the node's attributes. Use the returned `SSH Command` string to check the node. You can do it from a Bash launched inside the Jupyter container.\n"
   ]
  },
  {
   "cell_type": "code",
   "execution_count": null,
   "metadata": {},
   "outputs": [],
   "source": [
    "try:\n",
    "    node = slice.get_node(name) \n",
    "    print(f\"{node}\")\n",
    "  \n",
    "    nvme1 = node.get_component(nvme_name1)\n",
    "    print(f\"{nvme1}\")\n",
    "    \n",
    "    nvme2 = node.get_component(nvme_name2)\n",
    "    print(f\"{nvme2}\")\n",
    "except Exception as e:\n",
    "    print(f\"Exception: {e}\")"
   ]
  },
  {
   "cell_type": "markdown",
   "metadata": {},
   "source": [
    "### NVMe PCI Devices\n",
    "\n",
    "Run the command <code>lspci</code> to see your NVMe PCI device(s). \n",
    "\n",
    "View node1's NVMe's"
   ]
  },
  {
   "cell_type": "code",
   "execution_count": null,
   "metadata": {},
   "outputs": [],
   "source": [
    "command = \"sudo dnf install -q -y pciutils && lspci\"\n",
    "try:\n",
    "    stdout, stderr = node.execute(command)\n",
    "    print(f\"stdout: {stdout}\")\n",
    "except Exception as e:\n",
    "    print(f\"Exception: {e}\")"
   ]
  },
  {
   "cell_type": "markdown",
   "metadata": {},
   "source": [
    "## Step 6: Configure NVMe drives\n",
    "\n",
    "NVMe storage is provided as bare PCI block devices and will need to be partitioned, formated, and mounted before use. Observe the devices."
   ]
  },
  {
   "cell_type": "code",
   "execution_count": null,
   "metadata": {},
   "outputs": [],
   "source": [
    "try:\n",
    "    nvme1.configure_nvme()\n",
    "    nvme2.configure_nvme()\n",
    "except Exception as e:\n",
    "    print(f\"Exception: {e}\")"
   ]
  },
  {
   "cell_type": "code",
   "execution_count": null,
   "metadata": {},
   "outputs": [],
   "source": [
    "command = \"sudo fdisk -l\"\n",
    "try:\n",
    "    stdout, stderr = node.execute(command)\n",
    "    print(f\"stdout: {stdout}\")\n",
    "except Exception as e:\n",
    "    print(f\"Exception: {e}\")"
   ]
  },
  {
   "cell_type": "markdown",
   "metadata": {},
   "source": [
    "## Step 7: Cleanup Your Slice"
   ]
  },
  {
   "cell_type": "code",
   "execution_count": null,
   "metadata": {},
   "outputs": [],
   "source": [
    "try:\n",
    "    slice = fablib.get_slice(name=slice_name)\n",
    "    slice.delete()\n",
    "except Exception as e:\n",
    "    print(f\"Exception: {e}\")"
   ]
  },
  {
   "cell_type": "code",
   "execution_count": null,
   "metadata": {},
   "outputs": [],
   "source": []
  }
 ],
 "metadata": {
  "kernelspec": {
   "display_name": "Python 3 (ipykernel)",
   "language": "python",
   "name": "python3"
  },
  "language_info": {
   "codemirror_mode": {
    "name": "ipython",
    "version": 3
   },
   "file_extension": ".py",
   "mimetype": "text/x-python",
   "name": "python",
   "nbconvert_exporter": "python",
   "pygments_lexer": "ipython3",
   "version": "3.9.7"
  }
 },
 "nbformat": 4,
 "nbformat_minor": 4
}
