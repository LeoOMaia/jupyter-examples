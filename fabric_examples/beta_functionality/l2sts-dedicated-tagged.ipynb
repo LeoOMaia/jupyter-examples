{
 "cells": [
  {
   "cell_type": "markdown",
   "metadata": {},
   "source": [
    "## This notebook shows how to use Orchestrator APIs for user experiments"
   ]
  },
  {
   "cell_type": "code",
   "execution_count": null,
   "metadata": {},
   "outputs": [],
   "source": [
    "import os\n",
    "from fabrictestbed.slice_manager import SliceManager, Status, SliceState\n",
    "import json"
   ]
  },
  {
   "cell_type": "code",
   "execution_count": null,
   "metadata": {},
   "outputs": [],
   "source": [
    "ssh_key_file_priv=os.environ['HOME']+\"/work/.ssh/id_rsa\"\n",
    "ssh_key_file_pub=os.environ['HOME']+\"/work/.ssh/id_rsa.pub\"\n",
    "\n",
    "ssh_key_pub = None\n",
    "with open (ssh_key_file_pub, \"r\") as myfile:\n",
    "    ssh_key_pub=myfile.read()\n",
    "    ssh_key_pub=ssh_key_pub.strip()"
   ]
  },
  {
   "cell_type": "code",
   "execution_count": null,
   "metadata": {},
   "outputs": [],
   "source": [
    "slice_name='Slice-sts-ded-tag'"
   ]
  },
  {
   "cell_type": "markdown",
   "metadata": {},
   "source": [
    "## Create Slice Manager Object\n",
    "Users can request tokens with different Project and Scopes by altering `project_name` and `scope` parameters in the refresh call below."
   ]
  },
  {
   "cell_type": "code",
   "execution_count": null,
   "metadata": {},
   "outputs": [],
   "source": [
    "slice_manager = SliceManager()"
   ]
  },
  {
   "cell_type": "markdown",
   "metadata": {},
   "source": [
    "### Orchestrator API example to query for available resources"
   ]
  },
  {
   "cell_type": "code",
   "execution_count": null,
   "metadata": {},
   "outputs": [],
   "source": [
    "status, advertised_topology = slice_manager.resources()\n",
    "\n",
    "print(f\"Status: {status}\")\n",
    "if status == Status.OK:\n",
    "    print(f\"Toplogy: {advertised_topology}\")\n",
    "else:\n",
    "    print(f\"Error: {advertised_topology}\")"
   ]
  },
  {
   "cell_type": "code",
   "execution_count": null,
   "metadata": {},
   "outputs": [],
   "source": [
    "if status == Status.OK:\n",
    "    advertised_topology.draw()"
   ]
  },
  {
   "cell_type": "markdown",
   "metadata": {},
   "source": [
    "## Create Slice\n",
    "\n",
    "In Release 1.0, user is expected to create tagged interface and assign the IP addresses manually. Please use the example comands indicated below:\n",
    "\n",
    "### Run on Node N1\n",
    "```\n",
    "ip link add link eth1 name eth1.200 type vlan id 200\n",
    "ip link set dev eth1.200 up\n",
    "ip addr add 192.168.10.51/24 dev eth1.200\n",
    "```\n",
    "### Run on Node N2\n",
    "```\n",
    "ip link add link eth1 name eth1.200 type vlan id 200\n",
    "ip link set dev eth1.200 up\n",
    "ip addr add 192.168.10.52/24 dev eth1.200\n",
    "```\n",
    "### Run on Node N3\n",
    "```\n",
    "ip link add link eth1 name eth1.200 type vlan id 200\n",
    "ip link set dev eth1.200 up\n",
    "ip addr add 192.168.10.53/24 dev eth1.200\n",
    "```"
   ]
  },
  {
   "cell_type": "code",
   "execution_count": null,
   "metadata": {},
   "outputs": [],
   "source": [
    "from fabrictestbed.slice_editor import ExperimentTopology, Capacities, ComponentType, ComponentModelType, ServiceType\n",
    "# Create topology\n",
    "t = ExperimentTopology()\n",
    "\n",
    "\n",
    "# Set capacities\n",
    "cap = Capacities(core=2, ram=6, disk=10)\n",
    "\n",
    "\n",
    "sites = ['STAR', 'NCSA']\n",
    "name=\"node\"\n",
    "i=0\n",
    "for s in sites:\n",
    "    # Add node\n",
    "    nm = f\"{name}-{i}\"\n",
    "    \n",
    "    n = t.add_node(name=f\"{name}-{i}\", site=s)\n",
    "\n",
    "    # Set properties\n",
    "    n.set_properties(capacities=cap, image_type='qcow2', image_ref='default_rocky_8')\n",
    "    n.add_component(model_type=ComponentModelType.SmartNIC_ConnectX_6, name=f\"{name}-{i}-nic1\")\n",
    "    i += 1\n",
    "\n",
    "\n",
    "# L2STS Service\n",
    "t.add_network_service(name='sts1', nstype=ServiceType.L2STS,\n",
    "                      interfaces=t.interface_list)\n",
    "\n",
    "\n",
    "# Specify VLAN\n",
    "for i in t.interface_list:\n",
    "    if_labels = i.get_property(pname=\"labels\")\n",
    "    if_labels.vlan = \"200\"\n",
    "    i.set_properties(labels=if_labels)\n",
    "\n",
    "# Generate Slice Graph\n",
    "slice_graph = t.serialize()\n",
    "\n",
    "# Request slice from Orchestrator\n",
    "status, reservations = slice_manager.create(slice_name=slice_name, slice_graph=slice_graph, ssh_key=ssh_key_pub)\n",
    "\n",
    "print(\"Response Status {}\".format(status))\n",
    "if status == Status.OK:\n",
    "    print(\"Reservations created {}\".format(reservations))\n",
    "    slice_id = reservations[0].slice_id\n",
    "else:\n",
    "    print(f\"Failure: {reservations}\")"
   ]
  },
  {
   "cell_type": "markdown",
   "metadata": {},
   "source": [
    "## Query Slices"
   ]
  },
  {
   "cell_type": "code",
   "execution_count": null,
   "metadata": {},
   "outputs": [],
   "source": [
    "status, slices = slice_manager.slices()\n",
    "\n",
    "print(\"Response Status {}\".format(status))\n",
    "if status == Status.OK:    \n",
    "    slice_object=list(filter(lambda s: s.slice_id == slice_id, slices))[0]\n",
    "    print(slice_object)\n",
    "else:\n",
    "    print(f\"Failure: {slices}\")"
   ]
  },
  {
   "cell_type": "markdown",
   "metadata": {},
   "source": [
    "## Query Slivers"
   ]
  },
  {
   "cell_type": "code",
   "execution_count": null,
   "metadata": {},
   "outputs": [],
   "source": [
    "status, slivers = slice_manager.slivers(slice_object=slice_object)\n",
    "\n",
    "print(\"Response Status {}\".format(status))\n",
    "if status == Status.OK:\n",
    "    for s in slivers:\n",
    "        print(\"=====================\")\n",
    "        print(\"ReservationId {}\".format(s.reservation_id))\n",
    "        print(\"State         {}\".format(s.reservation_state))\n",
    "        print(\"Pending       {}\".format(s.pending_state))\n",
    "        print(\"Join State    {}\".format(s.join_state))\n",
    "        print(\"Sliver Type   {}\".format(s.sliver_type))\n",
    "        print(\"Sliver        {}\".format(s.sliver))\n",
    "        if s.sliver_type == \"NodeSliver\":\n",
    "            for d in s.sliver.attached_components_info.devices.values():\n",
    "                print(\"-------------------------\")\n",
    "                print(\"COMPONENT        {}\".format(d))\n",
    "                print(\"-------------------------\")\n",
    "        else:\n",
    "            for d in s.sliver.interface_info.interfaces.values():\n",
    "                print(\"-------------------------\")\n",
    "                print(\"INTERFACE        {}\".format(d))\n",
    "                print(\"-------------------------\")\n",
    "                \n",
    "        print(\"Notices       {}\".format(s.notices))\n",
    "        print(\"=====================\")\n",
    "else:\n",
    "    print(f\"Failure: {slivers}\")"
   ]
  },
  {
   "cell_type": "markdown",
   "metadata": {},
   "source": [
    "## Delete Slice"
   ]
  },
  {
   "cell_type": "code",
   "execution_count": null,
   "metadata": {},
   "outputs": [],
   "source": [
    "status, result = slice_manager.delete(slice_object=slice_object)\n",
    "\n",
    "print(\"Response Status {}\".format(status))\n",
    "print(\"Response received {}\".format(result))"
   ]
  },
  {
   "cell_type": "code",
   "execution_count": null,
   "metadata": {},
   "outputs": [],
   "source": []
  }
 ],
 "metadata": {
  "kernelspec": {
   "display_name": "Python 3 (ipykernel)",
   "language": "python",
   "name": "python3"
  },
  "language_info": {
   "codemirror_mode": {
    "name": "ipython",
    "version": 3
   },
   "file_extension": ".py",
   "mimetype": "text/x-python",
   "name": "python",
   "nbconvert_exporter": "python",
   "pygments_lexer": "ipython3",
   "version": "3.9.2"
  }
 },
 "nbformat": 4,
 "nbformat_minor": 4
}
