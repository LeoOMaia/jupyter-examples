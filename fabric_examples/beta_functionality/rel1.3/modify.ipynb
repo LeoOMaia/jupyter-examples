{
 "cells": [
  {
   "cell_type": "markdown",
   "metadata": {},
   "source": [
    "# Modify an existing slice\n",
    "This notebook describes how to modify an existing slice.\n",
    "Initially a slice containing two VMs (Node1, Node2) on a site1 connected with FABnetv4 service which is FABRIC's private IPv4 internet is provisioned.\n",
    "\n",
    "It is then modified to add two VMs Node3 on site2 and Node4 on site1. Node3 is connected to FABNetv4 service and Node4 is then connected to Node2 via L2Bridge."
   ]
  },
  {
   "cell_type": "markdown",
   "metadata": {},
   "source": [
    "## Import the FABlib Library"
   ]
  },
  {
   "cell_type": "code",
   "execution_count": null,
   "metadata": {},
   "outputs": [],
   "source": [
    "from fabrictestbed.slice_editor import ComponentModelType\n",
    "from fabrictestbed_extensions.fablib.fablib import FablibManager as fablib_manager\n",
    "fablib = fablib_manager()\n",
    "fablib.show_config()"
   ]
  },
  {
   "cell_type": "markdown",
   "metadata": {},
   "source": [
    "## Load the plugins"
   ]
  },
  {
   "cell_type": "code",
   "execution_count": null,
   "metadata": {},
   "outputs": [],
   "source": [
    "from plugins import Plugins\n",
    "import traceback\n",
    "try:\n",
    "    Plugins.load()\n",
    "except Exception as e:\n",
    "    traceback.print_exc()"
   ]
  },
  {
   "cell_type": "markdown",
   "metadata": {},
   "source": [
    "## Create the Experiment Slice\n",
    "Create two VMs Node1 and Node2 connected to NIC_Basic on site1.\n",
    "Add a L3Network and connect Node1 to the L3Network.\n",
    "\n",
    "NIC component models options:\n",
    "- NIC_Basic: 100 Gbps Mellanox ConnectX-6 SR-IOV VF (1 Port)\n",
    "- NIC_ConnectX_5: 25 Gbps Dedicated Mellanox ConnectX-5 PCI Device (2 Ports)\n",
    "- NIC_ConnectX_6: 100 Gbps Dedicated Mellanox ConnectX-6 PCI Device (2 Ports)"
   ]
  },
  {
   "cell_type": "code",
   "execution_count": null,
   "metadata": {},
   "outputs": [],
   "source": [
    "slice_name = 'MySlice-modify'\n",
    "#[site1,site2] = fablib.get_random_sites(count=2)\n",
    "#print(f\"Sites: {site1}, {site2}\")\n",
    "site1 = \"RENC\"\n",
    "site2 = \"UKY\"\n",
    "node1_name = 'Node1'\n",
    "node2_name = 'Node2'\n",
    "node3_name = 'Node3'\n",
    "node4_name = 'Node4'\n",
    "network1_name = 'net1'\n",
    "network2_name = 'net2'\n",
    "network3_name = 'net3'\n",
    "node1_nic_name = 'nic1'\n",
    "node2_nic_name = 'nic2'\n",
    "node3_nic_name = 'nic3'\n",
    "node4_nic_name = 'nic4'\n",
    "iface2_name = None"
   ]
  },
  {
   "cell_type": "markdown",
   "metadata": {},
   "source": [
    "### L2 Network"
   ]
  },
  {
   "cell_type": "code",
   "execution_count": null,
   "metadata": {},
   "outputs": [],
   "source": [
    "from ipaddress import ip_address, IPv4Address, IPv6Address, IPv4Network, IPv6Network\n",
    "\n",
    "try:\n",
    "    subnet = IPv4Network(\"192.168.1.0/24\")\n",
    "    available_ips = list(subnet)[1:]\n",
    "except Exception as e:\n",
    "    print(f\"Exception: {e}\")"
   ]
  },
  {
   "cell_type": "markdown",
   "metadata": {},
   "source": [
    "## Create the Slice\n",
    "- Two VMs Node1 and Node2 on site1\n",
    "- Node2 connected to L3 Network Service FABNetv4"
   ]
  },
  {
   "cell_type": "code",
   "execution_count": null,
   "metadata": {},
   "outputs": [],
   "source": [
    "try:\n",
    "    # Create Slice\n",
    "    slice = fablib.new_slice(name=slice_name)\n",
    "\n",
    "    # Node1\n",
    "    node1 = slice.add_node(name=node1_name, site=site1)\n",
    "    iface1 = node1.add_component(model='NIC_Basic', name=node1_nic_name).get_interfaces()[0]\n",
    "\n",
    "    # Node2\n",
    "    node2 = slice.add_node(name=node2_name, site=site1)\n",
    "    iface2 = node2.add_component(model='NIC_Basic', name=node2_nic_name).get_interfaces()[0]\n",
    "    iface2_name = iface2.get_name()\n",
    "\n",
    "    # Network\n",
    "    net1 = slice.add_l3network(name=network1_name, interfaces=[iface1], type='IPv4')\n",
    "\n",
    "    # Submit Slice Request\n",
    "    slice.submit()\n",
    "except Exception as e:\n",
    "    print(f\"Exception: {e}\")"
   ]
  },
  {
   "cell_type": "markdown",
   "metadata": {},
   "source": [
    "## Observe the Slice's Attributes"
   ]
  },
  {
   "cell_type": "code",
   "execution_count": null,
   "metadata": {},
   "outputs": [],
   "source": [
    "### Print the slice\n",
    "try:\n",
    "    slice = fablib.get_slice(name=slice_name)\n",
    "    print(f\"{slice}\")\n",
    "    for node in slice.get_nodes():\n",
    "        print(f\"{node}\")\n",
    "    print(f\"{slice.list_interfaces()}\")\n",
    "except Exception as e:\n",
    "    print(f\"Exception: {e}\")"
   ]
  },
  {
   "cell_type": "markdown",
   "metadata": {},
   "source": [
    "## Modify Slice\n",
    "- Add Node3 on site2 and Node4 on site1\n",
    "- Add L3 Network connecting Node3 to it.\n",
    "- Add L2Bridge Network connecting Node2 to Node4."
   ]
  },
  {
   "cell_type": "code",
   "execution_count": null,
   "metadata": {},
   "outputs": [],
   "source": [
    "print(\"Modifying the slice\")\n",
    "try:\n",
    "    # Modify Slice\n",
    "    slice = fablib.get_slice(name=slice_name)\n",
    "    # Node3\n",
    "    node3 = slice.add_node(name=node3_name, site=site2)\n",
    "    iface3 = node3.add_component(model='NIC_Basic', name=node3_nic_name).get_interfaces()[0]\n",
    "\n",
    "    # Node4\n",
    "    node4 = slice.add_node(name=node4_name, site=site1)\n",
    "    iface4 = node4.add_component(model='NIC_Basic', name=node4_nic_name).get_interfaces()[0]\n",
    "    node2 = slice.get_node(name=node2_name)\n",
    "    iface2 = node2.get_interface(name=iface2_name)\n",
    "\n",
    "    # NetworkS\n",
    "    net2 = slice.add_l3network(name=network2_name, interfaces=[iface3], type='IPv4')\n",
    "    net3 = slice.add_l2network(name=network3_name, interfaces=[iface2, iface4])\n",
    "\n",
    "    # Submit Slice Request\n",
    "    slice.modify()\n",
    "    print(\"Slice modified successfully\")\n",
    "except Exception as e:\n",
    "    traceback.print_exc()\n",
    "    print(f\"Exception: {e}\")"
   ]
  },
  {
   "cell_type": "markdown",
   "metadata": {},
   "source": [
    "## Observe the Slice's Attributes"
   ]
  },
  {
   "cell_type": "code",
   "execution_count": null,
   "metadata": {},
   "outputs": [],
   "source": [
    "### Print the slice\n",
    "try:\n",
    "    slice = fablib.get_slice(name=slice_name)\n",
    "    print(f\"{slice}\")\n",
    "    for node in slice.get_nodes():\n",
    "        print(f\"{node}\")\n",
    "    print(f\"{slice.list_interfaces()}\")\n",
    "except Exception as e:\n",
    "    print(f\"Exception: {e}\")"
   ]
  },
  {
   "cell_type": "markdown",
   "metadata": {},
   "source": [
    "## Accept the modify"
   ]
  },
  {
   "cell_type": "code",
   "execution_count": null,
   "metadata": {},
   "outputs": [],
   "source": [
    "try:\n",
    "    slice = fablib.get_slice(name=slice_name)\n",
    "    slice.modify_accept()\n",
    "except Exception as e:\n",
    "    print(f\"Exception: {e}\")"
   ]
  },
  {
   "cell_type": "markdown",
   "metadata": {},
   "source": [
    "## Configure IP Addresses"
   ]
  },
  {
   "cell_type": "markdown",
   "metadata": {},
   "source": [
    "### Configure Node1 and Node3 (connected via FABNetv4)"
   ]
  },
  {
   "cell_type": "code",
   "execution_count": null,
   "metadata": {},
   "outputs": [],
   "source": [
    "try:\n",
    "    network1 = slice.get_network(name=network1_name)\n",
    "    network1_available_ips = network1.get_available_ips()\n",
    "    network2 = slice.get_network(name=network2_name)\n",
    "    network2_available_ips = network2.get_available_ips()\n",
    "    node1 = slice.get_node(name=node1_name)        \n",
    "    node1_iface = node1.get_interface(network_name=network1_name)  \n",
    "    node1_addr = network1_available_ips.pop(0)\n",
    "    node1_iface.ip_addr_add(addr=node1_addr, subnet=network1.get_subnet())\n",
    "    node1.ip_route_add(subnet=network2.get_subnet(), gateway=network1.get_gateway())\n",
    "\n",
    "    print(\"Node1 --- info-----------\")\n",
    "    stdout, stderr = node1.execute(f'ip addr show {node1_iface.get_os_interface()}')\n",
    "    print (stdout)\n",
    "\n",
    "    stdout, stderr = node1.execute(f'ip route list')\n",
    "    print (stdout)\n",
    "    node3 = slice.get_node(name=node3_name)\n",
    "    node3_iface = node3.get_interface(network_name=network2_name)\n",
    "    node3_addr = network2_available_ips.pop(0)\n",
    "    node3_iface.ip_addr_add(addr=node3_addr, subnet=network2.get_subnet())\n",
    "    node3.ip_route_add(subnet=network1.get_subnet(), gateway=network2.get_gateway())\n",
    "    print(\"Node3 --- info-----------\")\n",
    "    stdout, stderr = node2.execute(f'ip addr show {node3_iface.get_os_interface()}')\n",
    "    print(stdout)\n",
    "    stdout, stderr = node2.execute(f'ip route list')\n",
    "    print(stdout)\n",
    "except Exception as e:\n",
    "    print(f\"Exception: {e}\")"
   ]
  },
  {
   "cell_type": "markdown",
   "metadata": {},
   "source": [
    "### Check connectivity between Node1 and Node3 over FABNetv4"
   ]
  },
  {
   "cell_type": "code",
   "execution_count": null,
   "metadata": {},
   "outputs": [],
   "source": [
    "try:\n",
    "    node1 = slice.get_node(name=node1_name)        \n",
    "\n",
    "    stdout, stderr = node1.execute(f'ping -c 5 {node3_addr}')\n",
    "    print (stdout)\n",
    "    print (stderr)\n",
    "\n",
    "except Exception as e:\n",
    "    print(f\"Exception: {e}\")"
   ]
  },
  {
   "cell_type": "markdown",
   "metadata": {},
   "source": [
    "### Configure Node2 and Node4(connected via L2Bridge)"
   ]
  },
  {
   "cell_type": "code",
   "execution_count": null,
   "metadata": {},
   "outputs": [],
   "source": [
    "try:\n",
    "    node2 = slice.get_node(name=node2_name)\n",
    "    node2_iface = node2.get_interface(network_name=network3_name)\n",
    "    node2_addr = available_ips.pop(0)\n",
    "    node2_iface.ip_addr_add(addr=node2_addr, subnet=subnet)\n",
    "    stdout, stderr = node2.execute(f'ip addr show {node2_iface.get_os_interface()}')\n",
    "    print (stdout)\n",
    "    node4 = slice.get_node(name=node4_name)\n",
    "    node4_iface = node4.get_interface(network_name=network3_name)\n",
    "    node4_addr = available_ips.pop(0)\n",
    "    node4_iface.ip_addr_add(addr=node4_addr, subnet=subnet)\n",
    "    stdout, stderr = node2.execute(f'ip addr show {node2_iface.get_os_interface()}')\n",
    "    print(stdout)\n",
    "except Exception as e:\n",
    "    print(f\"Exception: {e}\")"
   ]
  },
  {
   "cell_type": "markdown",
   "metadata": {},
   "source": [
    "### Check connectivity between Node2 and Node4 over L2Bridge"
   ]
  },
  {
   "cell_type": "code",
   "execution_count": null,
   "metadata": {},
   "outputs": [],
   "source": [
    "try:\n",
    "    node2 = slice.get_node(name=node2_name)\n",
    "    stdout, stderr = node2.execute(f'ping -c 5 {node4_addr}')\n",
    "    print(stdout)\n",
    "    print(stderr)\n",
    "\n",
    "except Exception as e:\n",
    "    print(f\"Exception: {e}\")"
   ]
  },
  {
   "cell_type": "markdown",
   "metadata": {},
   "source": [
    "## Delete the Slice\n",
    "\n",
    "Please delete your slice when you are done with your experiment.\n"
   ]
  },
  {
   "cell_type": "code",
   "execution_count": null,
   "metadata": {},
   "outputs": [],
   "source": [
    "try:\n",
    "    slice = fablib.get_slice(name=slice_name)\n",
    "    slice.delete()\n",
    "except Exception as e:\n",
    "    print(f\"Exception: {e}\")"
   ]
  },
  {
   "cell_type": "code",
   "execution_count": null,
   "metadata": {},
   "outputs": [],
   "source": []
  }
 ],
 "metadata": {
  "kernelspec": {
   "display_name": "Python 3 (ipykernel)",
   "language": "python",
   "name": "python3"
  },
  "language_info": {
   "codemirror_mode": {
    "name": "ipython",
    "version": 3
   },
   "file_extension": ".py",
   "mimetype": "text/x-python",
   "name": "python",
   "nbconvert_exporter": "python",
   "pygments_lexer": "ipython3",
   "version": "3.9.7"
  }
 },
 "nbformat": 4,
 "nbformat_minor": 4
}
