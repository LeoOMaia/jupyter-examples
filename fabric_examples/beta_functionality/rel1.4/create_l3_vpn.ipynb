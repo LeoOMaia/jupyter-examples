{
 "cells": [
  {
   "cell_type": "markdown",
   "metadata": {},
   "source": [
    "# Creating L3 VPN Network\n",
    "\n",
    "FABRIC provides a layer 3 IP networking services across every FABRIC site L3VPN. "
   ]
  },
  {
   "cell_type": "markdown",
   "metadata": {},
   "source": [
    "## Import the FABlib Library\n"
   ]
  },
  {
   "cell_type": "code",
   "execution_count": null,
   "metadata": {},
   "outputs": [],
   "source": [
    "from fabrictestbed_extensions.fablib.fablib import FablibManager as fablib_manager\n",
    "\n",
    "try:\n",
    "    fablib = fablib_manager()\n",
    "                     \n",
    "    fablib.show_config();\n",
    "except Exception as e:\n",
    "    print(f\"Exception: {e}\")"
   ]
  },
  {
   "cell_type": "markdown",
   "metadata": {},
   "source": [
    "## (Optional): Query for Available Testbed Resources and Settings\n",
    "\n",
    "This optional command queries the FABRIC services to find the available resources. It may be useful for finding a site with available capacity."
   ]
  },
  {
   "cell_type": "code",
   "execution_count": null,
   "metadata": {},
   "outputs": [],
   "source": [
    "try:\n",
    "    fablib.list_sites()\n",
    "except Exception as e:\n",
    "    print(f\"Exception: {e}\")"
   ]
  },
  {
   "cell_type": "markdown",
   "metadata": {
    "tags": []
   },
   "source": [
    "## Create the Experiment Slice\n",
    "\n",
    "The following creates two nodes, on different sites, with basic NICs connected to FABRIC's FABnetv4 internet.  \n",
    "\n",
    "Two nodes are created and one NIC component is added to each node.  This example uses components of model `NIC_Basic` which are SR-IOV Virtual Function on a 100 Gpbs Mellanox ConnectX-6 PCI device. The VF is accessed by the node via PCI passthrough. Other NIC models are listed below. When using dedicated PCI devices the whole physical device is allocated to one node and the device is accessed by the node using PCI passthrough. Calling the `get_interfaces()` method on a component will return a list of interfaces. Many dedicated NIC components may have more than one port.  Either port can be connected to the network.\n",
    "\n",
    "Next, add a separate `l3network` for each site and pass the list of interfaces on that site that you want to connect to FABnetv4. All interfaces passed to `l3network` must be on the same site and each network will be placed on that site.  By default, a node is put on a random site.  If you want to ensure that your nodes are all on different sites you can specify the name of the sites in the `add_node` methode.  You can use the `fablib.get_random_site()` method to get a set of random site names that guarantee that the sites are different. \n",
    "\n",
    "\n",
    "NIC component models options:\n",
    "- NIC_Basic: 100 Gbps Mellanox ConnectX-6 SR-IOV VF (1 Port)\n",
    "- NIC_ConnectX_5: 25 Gbps Dedicated Mellanox ConnectX-5 PCI Device (2 Ports) \n",
    "- NIC_ConnectX_6: 100 Gbps Dedicated Mellanox ConnectX-6 PCI Device (2 Ports) "
   ]
  },
  {
   "cell_type": "code",
   "execution_count": null,
   "metadata": {},
   "outputs": [],
   "source": [
    "from ipaddress import ip_address, IPv4Address, IPv6Address, IPv4Network, IPv6Network\n",
    "\n",
    "slice_name = 'MySlice-l3vpn'\n",
    "#[site1,site2] = fablib.get_random_sites(count=2)\n",
    "site1='RENC'\n",
    "site2='UKY'\n",
    "print(f\"Sites: {site1}, {site2}\")\n",
    "\n",
    "node1_name = 'Node1'\n",
    "node2_name = 'Node2'\n",
    "node3_name = 'Node3'\n",
    "\n",
    "network1_name='net1'\n",
    "network2_name='net2'\n",
    "network3_name='net3'\n",
    "\n",
    "node1_nic_name = 'nic1'\n",
    "node2_nic_name = 'nic2'\n",
    "node3_nic_name = 'nic3'\n",
    "\n",
    "node1_subnet = '192.168.10.0/24'\n",
    "# Only used with dedicated NICs\n",
    "node1_vlan = \"1001\"\n",
    "\n",
    "network1 = IPv4Network(node1_subnet)\n",
    "network1_hosts = list(network1.hosts())\n",
    "\n",
    "node2_subnet = '192.168.20.0/24'\n",
    "# Only used with dedicated NICs\n",
    "node2_vlan = \"1002\"\n",
    "\n",
    "network2 = IPv4Network(node2_subnet)\n",
    "network2_hosts = list(network2.hosts())\n",
    "\n",
    "#model = 'NIC_Basic'\n",
    "model = 'NIC_ConnectX_5'\n"
   ]
  },
  {
   "cell_type": "code",
   "execution_count": null,
   "metadata": {
    "tags": []
   },
   "outputs": [],
   "source": [
    "from fim.slivers.capacities_labels import Labels\n",
    "try:\n",
    "    #Create Slice\n",
    "    slice = fablib.new_slice(name=slice_name)\n",
    "    \n",
    "    # Node1\n",
    "    node1 = slice.add_node(name=node1_name, site=site1)\n",
    "    iface1 = node1.add_component(model=model, name=node1_nic_name).get_interfaces()[0]\n",
    "    fim_iface1 = iface1.get_fim_interface()\n",
    "    \n",
    "    if model != 'NIC_Basic':\n",
    "        # Pass VLAN only with Dedicated NICs\n",
    "        fim_iface1.labels = Labels.update(fim_iface1.labels, ipv4_subnet=f'{network1_hosts[0]}/{network1.prefixlen}', vlan=node1_vlan)\n",
    "    else:\n",
    "        fim_iface1.labels = Labels.update(fim_iface1.labels, ipv4_subnet=f'{network1_hosts[0]}/{network1.prefixlen}')\n",
    "    \n",
    "    #peering_labels = Labels(ipv4_subnet=f'{network1_hosts[1]}/{network1.prefixlen}', asn='654321',  bgp_key='somesecret')\n",
    "    #fim_iface1.peer_labels = peering_labels    \n",
    "    \n",
    "    # Node2\n",
    "    node2 = slice.add_node(name=node2_name, site=site2)\n",
    "    iface2  = node2.add_component(model=model, name=node2_nic_name).get_interfaces()[0]\n",
    "    fim_iface2 = iface2.get_fim_interface()\n",
    "    if model != 'NIC_Basic':\n",
    "        # Pass VLAN only with Dedicated NICs\n",
    "        fim_iface2.labels = Labels.update(fim_iface2.labels, ipv4_subnet=f'{network2_hosts[0]}/{network2.prefixlen}', vlan=node2_vlan)\n",
    "    else:\n",
    "        fim_iface2.labels = Labels.update(fim_iface2.labels, ipv4_subnet=f'{network2_hosts[0]}/{network2.prefixlen}')\n",
    "\n",
    "    # NetworkS\n",
    "    net1 = slice.add_l3network(name=network1_name, interfaces=[iface1, iface2], type='L3VPN')\n",
    "    \n",
    "    #Submit Slice Request\n",
    "    slice.submit()\n",
    "except Exception as e:\n",
    "    print(f\"Exception: {e}\")"
   ]
  },
  {
   "cell_type": "markdown",
   "metadata": {
    "tags": []
   },
   "source": [
    "## Observe the Slice's Attributes"
   ]
  },
  {
   "cell_type": "code",
   "execution_count": null,
   "metadata": {
    "tags": []
   },
   "outputs": [],
   "source": [
    "try:\n",
    "    slice = fablib.get_slice(name=slice_name)\n",
    "    slice.show()\n",
    "    slice.list_nodes()\n",
    "    slice.list_networks()\n",
    "    slice.list_interfaces()\n",
    "except Exception as e:\n",
    "    print(f\"Exception: {e}\")"
   ]
  },
  {
   "cell_type": "code",
   "execution_count": null,
   "metadata": {},
   "outputs": [],
   "source": [
    "node1 = slice.get_node(name=node1_name)\n",
    "interface1 = node1.get_interface(network_name=network1_name)\n",
    "print(interface1)\n",
    "print(interface1.get_os_interface())"
   ]
  },
  {
   "cell_type": "markdown",
   "metadata": {
    "tags": []
   },
   "source": [
    "##  Configure IP Addresses\n",
    "\n",
    "Some experiments use FABRIC layer 2 networks to enable deploying non-IP layer 3 networks.  If this describes your experiment, your nodes and network are ready. You can now login to the nodes and deploy your experiment.\n",
    "\n",
    "Most users will want to configure IP addresses on there new nodes.  FABlib provides some useful methods to help you configure basic IP addresses. "
   ]
  },
  {
   "cell_type": "markdown",
   "metadata": {},
   "source": [
    "### Configure Node1\n",
    "\n",
    "Get the node and the interface you wish to configure.  You can use `node.get_interface` to get the interface that is connected to the specified network.  Then `pop` an IP address from the list of available IPs and call `iface.ip_addr_add` to set the IP and subnet.  \n",
    "\n",
    "Then set a route from *this network* to the *other network* through the specified gateway.\n",
    "\n",
    "\n",
    "Optionally, use the `node.execute()` method to show the results of adding the IP address and route.\n",
    "\n",
    "### Configure Node1\n",
    "\n",
    "Configure the interface on node1.  "
   ]
  },
  {
   "cell_type": "code",
   "execution_count": null,
   "metadata": {},
   "outputs": [],
   "source": [
    "if model != 'NIC_Basic':\n",
    "    try:\n",
    "        node1 = slice.get_node(name=node1_name)   \n",
    "        interface1 = node1.get_interface(network_name=network1_name)\n",
    "        stdout, stderr = node1.execute(f'sudo ip link add link eth1 name {interface1.get_os_interface()} type vlan id {node1_vlan} ')\n",
    "        stdout, stderr = node1.execute(f'sudo ip link set dev {interface1.get_os_interface()} up ')\n",
    "        stdout, stderr = node1.execute(f'sudo ip addr add {network1_hosts[2]}/{network1.prefixlen} dev {interface1.get_os_interface()}  ')\n",
    "        stdout, stderr = node1.execute(f'sudo ip route add {network2} via {network1_hosts[0]}  ')\n",
    "\n",
    "        stdout, stderr = node1.execute(f'sudo ip addr show ')\n",
    "        stdout, stderr = node1.execute(f'sudo ip route list')\n",
    "    except Exception as e:\n",
    "        print(f\"Exception: {e}\")\n",
    "else:\n",
    "    try:\n",
    "        node1 = slice.get_node(name=node1_name)   \n",
    "        interface1 = node1.get_interface(network_name=network1_name)\n",
    "        stdout, stderr = node1.execute(f'sudo ip addr add {network1_hosts[2]}/{network1.prefixlen} dev {interface1.get_os_interface()}  ')\n",
    "        stdout, stderr = node1.execute(f'sudo ip route add {network2} via {network1_hosts[0]}  ')\n",
    "\n",
    "        stdout, stderr = node1.execute(f'sudo ip addr show ')\n",
    "        stdout, stderr = node1.execute(f'sudo ip route list')\n",
    "    except Exception as e:\n",
    "        print(f\"Exception: {e}\")"
   ]
  },
  {
   "cell_type": "markdown",
   "metadata": {},
   "source": [
    "### Configure Node2\n",
    "\n",
    "Repeat the steps to add the next available IP to the second node and a route to the first network."
   ]
  },
  {
   "cell_type": "code",
   "execution_count": null,
   "metadata": {},
   "outputs": [],
   "source": [
    "if model != 'NIC_Basic':\n",
    "    try:\n",
    "        node2 = slice.get_node(name=node2_name)   \n",
    "        interface2 = node2.get_interface(network_name=network1_name)\n",
    "        stdout, stderr = node2.execute(f'sudo ip link add link eth1 name {interface2.get_os_interface()} type vlan id {node2_vlan} ')\n",
    "        stdout, stderr = node2.execute(f'sudo ip link set dev {interface2.get_os_interface()} up ')\n",
    "        stdout, stderr = node2.execute(f'sudo ip addr add {network2_hosts[2]}/{network2.prefixlen} dev {interface2.get_os_interface()}  ')\n",
    "        stdout, stderr = node2.execute(f'sudo ip route add {network1} via {network2_hosts[0]}  ')\n",
    "\n",
    "        stdout, stderr = node2.execute(f'sudo ip addr show ')\n",
    "        stdout, stderr = node2.execute(f'sudo ip route list')\n",
    "    except Exception as e:\n",
    "        print(f\"Exception: {e}\")\n",
    "else:\n",
    "    try:\n",
    "        node2 = slice.get_node(name=node2_name)   \n",
    "        interface2 = node2.get_interface(network_name=network1_name)\n",
    "        stdout, stderr = node2.execute(f'sudo ip addr add {network2_hosts[2]}/{network2.prefixlen} dev {interface2.get_os_interface()}  ')\n",
    "        stdout, stderr = node2.execute(f'sudo ip route add {network1} via {network2_hosts[0]}  ')\n",
    "\n",
    "        stdout, stderr = node2.execute(f'sudo ip addr show ')\n",
    "        stdout, stderr = node2.execute(f'sudo ip route list')\n",
    "    except Exception as e:\n",
    "        print(f\"Exception: {e}\")"
   ]
  },
  {
   "cell_type": "markdown",
   "metadata": {},
   "source": [
    "## Run the Experiment\n",
    "\n",
    "We will find the ping round trip time for this pair of sites.  Your experiment should be more interesting!\n"
   ]
  },
  {
   "cell_type": "code",
   "execution_count": null,
   "metadata": {},
   "outputs": [],
   "source": [
    "try:\n",
    "    node1 = slice.get_node(name=node1_name)        \n",
    "\n",
    "    stdout, stderr = node1.execute(f'ping -c 5 {network2_hosts[2]}')\n",
    "except Exception as e:\n",
    "    print(f\"Exception: {e}\")"
   ]
  },
  {
   "cell_type": "markdown",
   "metadata": {},
   "source": [
    "## Delete the Slice\n",
    "\n",
    "Please delete your slice when you are done with your experiment."
   ]
  },
  {
   "cell_type": "code",
   "execution_count": null,
   "metadata": {},
   "outputs": [],
   "source": [
    "try:\n",
    "    slice = fablib.get_slice(name=slice_name)\n",
    "    slice.delete()\n",
    "except Exception as e:\n",
    "    print(f\"Exception: {e}\")"
   ]
  },
  {
   "cell_type": "code",
   "execution_count": null,
   "metadata": {},
   "outputs": [],
   "source": []
  }
 ],
 "metadata": {
  "kernelspec": {
   "display_name": "Python 3 (ipykernel)",
   "language": "python",
   "name": "python3"
  },
  "language_info": {
   "codemirror_mode": {
    "name": "ipython",
    "version": 3
   },
   "file_extension": ".py",
   "mimetype": "text/x-python",
   "name": "python",
   "nbconvert_exporter": "python",
   "pygments_lexer": "ipython3",
   "version": "3.9.7"
  }
 },
 "nbformat": 4,
 "nbformat_minor": 4
}
