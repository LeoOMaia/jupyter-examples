{
 "cells": [
  {
   "cell_type": "markdown",
   "metadata": {},
   "source": [
    "# Port Mirroring\n",
    "\n",
    "This notebook does following: \n",
    "- Slice1: Creates a slice with an isolated local Ethernet and connect compute nodes to it\n",
    "- Slice2: Creates a slice with a compute node which mirrors the traffic from Slice1.\n"
   ]
  },
  {
   "cell_type": "markdown",
   "metadata": {},
   "source": [
    "## Import the FABlib Library\n"
   ]
  },
  {
   "cell_type": "code",
   "execution_count": null,
   "metadata": {},
   "outputs": [],
   "source": [
    "from fabrictestbed_extensions.fablib.fablib import FablibManager as fablib_manager\n",
    "\n",
    "try:\n",
    "    fablib = fablib_manager()\n",
    "                     \n",
    "    fablib.show_config()\n",
    "except Exception as e:\n",
    "    print(f\"Exception: {e}\")"
   ]
  },
  {
   "cell_type": "code",
   "execution_count": null,
   "metadata": {},
   "outputs": [],
   "source": [
    "from plugins import Plugins\n",
    "import traceback\n",
    "try:\n",
    "    Plugins.load()\n",
    "except Exception as e:\n",
    "    traceback.print_exc()"
   ]
  },
  {
   "cell_type": "markdown",
   "metadata": {},
   "source": [
    "## Create the Experiment Slice - Slice1\n",
    "\n",
    "The following creates two nodes with basic NICs connected to an isolated WAN Ethernet.  \n",
    "\n",
    "Two nodes are created and one NIC component is added to each node. They are then connected via `l2network`. \n",
    "\n",
    "NIC component models options:\n",
    "- NIC_Basic: 100 Gbps Mellanox ConnectX-6 SR-IOV VF (1 Port)\n",
    "- NIC_ConnectX_5: 25 Gbps Dedicated Mellanox ConnectX-5 PCI Device (2 Ports) \n",
    "- NIC_ConnectX_6: 100 Gbps Dedicated Mellanox ConnectX-6 PCI Device (2 Ports) "
   ]
  },
  {
   "cell_type": "code",
   "execution_count": null,
   "metadata": {},
   "outputs": [],
   "source": [
    "slice_name_1 = 'MySlice'\n",
    "slice_name_2 = 'MySlice-port-mirror'\n",
    "#[site1,site2, site3]  = fablib.get_random_sites(count=3)\n",
    "site1='UTAH'\n",
    "site2='DALL'\n",
    "site3='UTAH'\n",
    "print(f\"Sites: {site1}, {site2}, {site3}\")\n",
    "\n",
    "node1_name = 'Node1'\n",
    "node2_name = 'Node2'\n",
    "node3_name = 'Node3'\n",
    "network_name_1='net1'\n",
    "network_name_2='port-mirror'\n",
    "node1_nic_name = 'nic1'\n",
    "node2_nic_name = 'nic2'\n",
    "node3_nic_name = 'nic3'\n",
    "model = 'NIC_ConnectX_5'"
   ]
  },
  {
   "cell_type": "code",
   "execution_count": null,
   "metadata": {
    "tags": []
   },
   "outputs": [],
   "source": [
    "try:\n",
    "    #Create Slice\n",
    "    slice1 = fablib.new_slice(name=slice_name_1)\n",
    "\n",
    "    # Node1\n",
    "    node1 = slice1.add_node(name=node1_name, site=site1)\n",
    "    iface1 = node1.add_component(model=model, name=node1_nic_name).get_interfaces()[0]\n",
    "    \n",
    "    # Node2\n",
    "    node2 = slice1.add_node(name=node2_name, site=site2)\n",
    "    iface2 = node2.add_component(model=model, name=node2_nic_name).get_interfaces()[0]\n",
    "    \n",
    "    # Network\n",
    "    net1 = slice1.add_l2network(name=network_name_1, interfaces=[iface1, iface2])\n",
    "\n",
    "    #Submit Slice Request\n",
    "    slice1.submit()\n",
    "except Exception as e:\n",
    "    print(f\"Exception: {e}\")"
   ]
  },
  {
   "cell_type": "markdown",
   "metadata": {},
   "source": [
    "## List attributes of Slice1"
   ]
  },
  {
   "cell_type": "code",
   "execution_count": null,
   "metadata": {},
   "outputs": [],
   "source": [
    "slice1 = fablib.get_slice(name=slice_name_1)\n",
    "slice1.show()\n",
    "slice1.list_nodes()\n",
    "slice1.list_networks()\n",
    "slice1.list_interfaces()"
   ]
  },
  {
   "cell_type": "markdown",
   "metadata": {},
   "source": [
    "## Determine the port names of Slice1 to be used in Slice2 (Port Mirroring Slice)"
   ]
  },
  {
   "cell_type": "code",
   "execution_count": null,
   "metadata": {},
   "outputs": [],
   "source": [
    "slice1 = fablib.get_slice(name=slice_name_1)\n",
    "network = slice1.get_network(name=network_name_1)\n",
    "fim_ns = network.get_fim_network_service()\n",
    "\n",
    "for ifs in fim_ns.interfaces.values():\n",
    "    if node1_nic_name in ifs.name:\n",
    "        iface1_local_name = ifs.labels.local_name\n",
    "        iface1_device_name = ifs.labels.device_name\n",
    "    elif node2_nic_name in ifs.name:\n",
    "        iface2_local_name = ifs.labels.local_name\n",
    "        iface2_device_name = ifs.labels.device_name\n",
    "\n",
    "print(f\"{node1_name} nic: {node1_nic_name}, local_name: {iface1_local_name}, device_name: {iface1_device_name}\")\n",
    "print(f\"{node2_name} nic: {node2_nic_name}, local_name: {iface2_local_name}, device_name: {iface2_device_name}\")\n",
    "\n",
    "\n",
    "node_1_port_name=f'port+{iface1_device_name}:{iface1_local_name}'\n",
    "node_2_port_name=f'port+{iface2_device_name}:{iface2_local_name}'\n",
    "\n",
    "print(f\"Node 1 port name: {node_1_port_name}\")\n",
    "print(f\"Node 2 port name: {node_2_port_name}\")\n"
   ]
  },
  {
   "cell_type": "markdown",
   "metadata": {
    "tags": []
   },
   "source": [
    "## Create Slice2 with port mirroring"
   ]
  },
  {
   "cell_type": "code",
   "execution_count": null,
   "metadata": {},
   "outputs": [],
   "source": [
    "try:\n",
    "    #Create Slice\n",
    "    slice2 = fablib.new_slice(name=slice_name_2)\n",
    "    # Node3\n",
    "    node3 = slice2.add_node(name=node3_name, site=site3)\n",
    "    iface3 = node3.add_component(model=model, name=node3_nic_name).get_interfaces()[0]\n",
    "        \n",
    "    slice2.get_fim_topology().add_port_mirror_service(name=network_name_2, from_interface_name=node_1_port_name,\n",
    "                                                      to_interface=iface3.get_fim_interface())\n",
    "\n",
    "    #Submit Slice Request\n",
    "    slice2.submit()\n",
    "except Exception as e:\n",
    "    print(f\"Exception: {e}\")"
   ]
  },
  {
   "cell_type": "markdown",
   "metadata": {},
   "source": [
    "## List Attributes of Slice2(Port Mirror Slice)"
   ]
  },
  {
   "cell_type": "code",
   "execution_count": null,
   "metadata": {},
   "outputs": [],
   "source": [
    "slice2 = fablib.get_slice(name=slice_name_2)\n",
    "slice2.show()\n",
    "slice2.list_nodes()\n",
    "slice2.list_networks()\n",
    "slice2.list_interfaces()"
   ]
  },
  {
   "cell_type": "markdown",
   "metadata": {},
   "source": [
    "## Configure IP Addresses on Slice1\n",
    "\n",
    "### Pick a Subnet\n",
    "\n",
    "Create subnet and list of available IP addresses. All object are Python IP managment objects. You can use either IPv4 or IPv6 subents and addresses."
   ]
  },
  {
   "cell_type": "code",
   "execution_count": null,
   "metadata": {},
   "outputs": [],
   "source": [
    "from ipaddress import ip_address, IPv4Address, IPv6Address, IPv4Network, IPv6Network\n",
    "\n",
    "try:\n",
    "    subnet = IPv4Network(\"192.168.1.0/24\")\n",
    "    available_ips = list(subnet)[1:]\n",
    "except Exception as e:\n",
    "    print(f\"Exception: {e}\")"
   ]
  },
  {
   "cell_type": "markdown",
   "metadata": {
    "tags": []
   },
   "source": [
    "### Configure Node1"
   ]
  },
  {
   "cell_type": "code",
   "execution_count": null,
   "metadata": {},
   "outputs": [],
   "source": [
    "try:\n",
    "    node1 = slice1.get_node(name=node1_name)        \n",
    "    node1_iface = node1.get_interface(network_name=network_name_1) \n",
    "    node1_addr = available_ips.pop(0)\n",
    "    node1_iface.ip_addr_add(addr=node1_addr, subnet=subnet)\n",
    "    \n",
    "    stdout, stderr = node1.execute(f'ip addr show {node1_iface.get_os_interface()}')\n",
    "    \n",
    "except Exception as e:\n",
    "    print(f\"Exception: {e}\")"
   ]
  },
  {
   "cell_type": "markdown",
   "metadata": {},
   "source": [
    "### Configure Node2\n",
    "\n",
    "Repeat the steps to add the next available IP to the second node."
   ]
  },
  {
   "cell_type": "code",
   "execution_count": null,
   "metadata": {},
   "outputs": [],
   "source": [
    "try:\n",
    "    node2 = slice1.get_node(name=node2_name)        \n",
    "    node2_iface = node2.get_interface(network_name=network_name_1)  \n",
    "    node2_addr = available_ips.pop(0)\n",
    "    node2_iface.ip_addr_add(addr=node2_addr, subnet=subnet)\n",
    "    \n",
    "    stdout, stderr = node2.execute(f'ip addr show {node2_iface.get_os_interface()}')\n",
    "    \n",
    "except Exception as e:\n",
    "    print(f\"Exception: {e}\")"
   ]
  },
  {
   "cell_type": "markdown",
   "metadata": {},
   "source": [
    "## Run the ping test on Slice1\n",
    "\n",
    "We will find the ping round trip time for this pair of sites.  Your experiment should be more interesting!\n"
   ]
  },
  {
   "cell_type": "code",
   "execution_count": null,
   "metadata": {},
   "outputs": [],
   "source": [
    "try:\n",
    "    node1 = slice1.get_node(name=node1_name)        \n",
    "\n",
    "    stdout, stderr = node1.execute(f'ping -c 5 {node2_addr}')\n",
    "\n",
    "except Exception as e:\n",
    "    print(f\"Exception: {e}\")"
   ]
  },
  {
   "cell_type": "markdown",
   "metadata": {},
   "source": [
    "## TCP capture on Slice2 \n",
    "User can capture traffic on Node3 in Slice2 on the interface connected to the port-mirror service."
   ]
  },
  {
   "cell_type": "markdown",
   "metadata": {},
   "source": [
    "## Delete the Slice1\n",
    "\n",
    "Please delete your slice when you are done with your experiment."
   ]
  },
  {
   "cell_type": "code",
   "execution_count": null,
   "metadata": {},
   "outputs": [],
   "source": [
    "try:\n",
    "    slice1 = fablib.get_slice(name=slice_name_1)\n",
    "    slice1.delete()    \n",
    "except Exception as e:\n",
    "    print(f\"Exception: {e}\")"
   ]
  },
  {
   "cell_type": "markdown",
   "metadata": {},
   "source": [
    "## Delete the Slice2 (Port Mirror Slice)\n",
    "\n",
    "Please delete your slice when you are done with your experiment."
   ]
  },
  {
   "cell_type": "code",
   "execution_count": null,
   "metadata": {},
   "outputs": [],
   "source": [
    "try:\n",
    "    slice2 = fablib.get_slice(name=slice_name_2)\n",
    "    slice2.delete()\n",
    "    \n",
    "except Exception as e:\n",
    "    print(f\"Exception: {e}\")"
   ]
  },
  {
   "cell_type": "code",
   "execution_count": null,
   "metadata": {},
   "outputs": [],
   "source": []
  }
 ],
 "metadata": {
  "kernelspec": {
   "display_name": "Python 3 (ipykernel)",
   "language": "python",
   "name": "python3"
  },
  "language_info": {
   "codemirror_mode": {
    "name": "ipython",
    "version": 3
   },
   "file_extension": ".py",
   "mimetype": "text/x-python",
   "name": "python",
   "nbconvert_exporter": "python",
   "pygments_lexer": "ipython3",
   "version": "3.9.7"
  }
 },
 "nbformat": 4,
 "nbformat_minor": 4
}
