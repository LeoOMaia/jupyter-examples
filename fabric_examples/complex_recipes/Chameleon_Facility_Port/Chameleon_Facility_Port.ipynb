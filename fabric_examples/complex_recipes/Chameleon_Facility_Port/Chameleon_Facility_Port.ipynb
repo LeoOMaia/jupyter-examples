{
 "cells": [
  {
   "cell_type": "markdown",
   "metadata": {
    "pycharm": {
     "name": "#%% md\n"
    }
   },
   "source": [
    "##  Chameleon Facility Port\n",
    "\n",
    "This notebook demonstrates how to stitch experiment spanning [Chameleon](https://www.chameleoncloud.org/) and FABRIC."
   ]
  },
  {
   "cell_type": "markdown",
   "metadata": {},
   "source": [
    "### Set Chameleon Environment\n",
    "\n",
    "FABRIC should already be configured in your Jupyter environment. If this is your first time using FABRIC, may need to follow the [Configure Environment](../../fablib_api/configure_environment/configure_environment.ipynb) notebook to complete the configuration.\n",
    "\n",
    "Set the following environment vars to the values found in your custom Chameleon-openrc.sh file. You can obtain your Chameleon-openrc.sh from Chameleon using these [directions](https://chameleoncloud.readthedocs.io/en/latest/technical/cli.html#the-openstack-rc-script).  The expected password is not your regular Chameleon password. Instead, you need to create a Chameleon CLI password by following these [directions](https://chameleoncloud.readthedocs.io/en/latest/technical/cli.html#cli-authentication)"
   ]
  },
  {
   "cell_type": "code",
   "execution_count": 1,
   "metadata": {
    "collapsed": false,
    "jupyter": {
     "outputs_hidden": false
    },
    "pycharm": {
     "name": "#%%\n"
    }
   },
   "outputs": [],
   "source": [
    "import os\n",
    "\n",
    "#Chameleon\n",
    "#os.environ[\"OS_PROJECT_ID\"]=\"4140e5f9f65545dbb9f0bdc90ef68d23\"\n",
    "#FABRIC@Chameleon\n",
    "os.environ[\"OS_PROJECT_ID\"]=\"ae76673270164b048b59d3bd30676721\"\n",
    "\n",
    "os.environ[\"OS_USERNAME\"]=\"pruth\"\n",
    "os.environ[\"OS_PASSWORD\"]='Ren72jUGvWMq'\n",
    "os.environ[\"OS_AUTH_URL\"]='https://chi.uc.chameleoncloud.org:5000/v3'\n",
    "os.environ[\"OS_IDENTITY_API_VERSION\"]='3'\n",
    "os.environ[\"OS_INTERFACE\"]='public'\n",
    "os.environ[\"OS_PROTOCOL\"]=\"openid\"\n",
    "os.environ[\"OS_AUTH_TYPE\"]=\"v3oidcpassword\"\n",
    "os.environ[\"OS_IDENTITY_PROVIDER\"]=\"chameleon\"\n",
    "os.environ[\"OS_DISCOVERY_ENDPOINT\"]=\"https://auth.chameleoncloud.org/auth/realms/chameleon/.well-known/openid-configuration\"#\n",
    "os.environ[\"OS_CLIENT_ID\"]=\"keystone-uc-prod\"\n",
    "os.environ[\"OS_ACCESS_TOKEN_TYPE\"]=\"access_token\"\n",
    "os.environ[\"OS_CLIENT_SECRET\"]=\"none\"\n",
    "os.environ[\"OS_REGION_NAME\"]=\"CHI@UC\"\n",
    "\n",
    "\n",
    "#os.environ[\"OS_AUTH_TYPE\"]='v3applicationcredential'\n",
    "#os.environ[\"OS_AUTH_URL\"]='https://chi.uc.chameleoncloud.org:5000/v3'\n",
    "#os.environ[\"OS_IDENTITY_API_VERSION\"]='3'\n",
    "#os.environ[\"OS_REGION_NAME\"]=\"CHI@UC\"\n",
    "#os.environ[\"OS_INTERFACE\"]='public'\n",
    "#os.environ[\"OS_APPLICATION_CREDENTIAL_ID\"]='9f0c6c736cf54577a0f6666b357da1ee'\n",
    "#os.environ[\"OS_APPLICATION_CREDENTIAL_SECRET\"]='fHd_d63IfpGKo6gsFTCSnZ2gLXmzE1dQX1jECVU71VwZQhmsXi348ih520hQMFT19AcVYjAZ5n9QJcu6HdHGUA'\n"
   ]
  },
  {
   "cell_type": "markdown",
   "metadata": {
    "pycharm": {
     "name": "#%% md\n"
    }
   },
   "source": [
    "### Import Libraries"
   ]
  },
  {
   "cell_type": "code",
   "execution_count": 2,
   "metadata": {
    "collapsed": false,
    "jupyter": {
     "outputs_hidden": false
    },
    "pycharm": {
     "name": "#%%\n"
    }
   },
   "outputs": [],
   "source": [
    "#General imports\n",
    "import os\n",
    "import json\n",
    "import traceback\n",
    "from ipaddress import ip_address, IPv4Address, IPv6Address, IPv4Network, IPv6Network\n",
    "from datetime import datetime, timedelta\n",
    "from dateutil import tz\n",
    "import time\n",
    "\n",
    "# Chameleon Library\n",
    "import chi\n",
    "import chi.lease \n",
    "from chi.server import *\n",
    "from chi.lease import *\n",
    "from chi.network import *\n",
    "\n",
    "# FABRIC Library\n",
    "from fabrictestbed_extensions.fablib.fablib import FablibManager as fablib_manager"
   ]
  },
  {
   "cell_type": "markdown",
   "metadata": {},
   "source": [
    "### Chameleon Experiment Variable"
   ]
  },
  {
   "cell_type": "code",
   "execution_count": 3,
   "metadata": {
    "collapsed": false,
    "jupyter": {
     "outputs_hidden": false
    },
    "pycharm": {
     "name": "#%%\n"
    }
   },
   "outputs": [],
   "source": [
    "# Chameleon Config\n",
    "chameleon_prefix =  \"fabric_stitch12\"\n",
    "chameleon_server_name = chameleon_prefix+'Server'\n",
    "chameleon_network_name = chameleon_prefix+'Net'\n",
    "chameleon_subnet_name = chameleon_prefix+'Subnet'\n",
    "chameleon_router_name = chameleon_prefix+'Router'\n",
    "chameleon_lease_name = chameleon_prefix+'Lease'\n",
    "\n",
    "chameleon_image_name='CC-Ubuntu20.04'\n",
    "chameleon_node_type=\"compute_cascadelake_r\"\n",
    "chameleon_physical_network='physnet1'\n",
    "chameleon_stitch_provider='fabric'\n",
    "chameleon_server_count=1\n",
    "chameleon_key_name='my_chameleon_key'"
   ]
  },
  {
   "cell_type": "markdown",
   "metadata": {},
   "source": [
    "### FABRIC Experiment Variables"
   ]
  },
  {
   "cell_type": "code",
   "execution_count": 4,
   "metadata": {
    "collapsed": false,
    "jupyter": {
     "outputs_hidden": false
    },
    "pycharm": {
     "name": "#%%\n"
    }
   },
   "outputs": [
    {
     "data": {
      "text/html": [
       "<style type=\"text/css\">\n",
       "#T_f1ea1 tr:nth-child(even) {\n",
       "  background: #dbf3ff;\n",
       "  color: #231f20;\n",
       "}\n",
       "#T_f1ea1 tr:nth-child(odd) {\n",
       "  background: #ffffff;\n",
       "  color: #231f20;\n",
       "}\n",
       "#T_f1ea1 caption {\n",
       "  text-align: center;\n",
       "  font-size: 150%;\n",
       "}\n",
       "#T_f1ea1_row0_col0, #T_f1ea1_row0_col1, #T_f1ea1_row1_col0, #T_f1ea1_row1_col1, #T_f1ea1_row2_col0, #T_f1ea1_row2_col1, #T_f1ea1_row3_col0, #T_f1ea1_row3_col1, #T_f1ea1_row4_col0, #T_f1ea1_row4_col1, #T_f1ea1_row5_col0, #T_f1ea1_row5_col1, #T_f1ea1_row6_col0, #T_f1ea1_row6_col1, #T_f1ea1_row7_col0, #T_f1ea1_row7_col1, #T_f1ea1_row8_col0, #T_f1ea1_row8_col1, #T_f1ea1_row9_col0, #T_f1ea1_row9_col1, #T_f1ea1_row10_col0, #T_f1ea1_row10_col1, #T_f1ea1_row11_col0, #T_f1ea1_row11_col1, #T_f1ea1_row12_col0, #T_f1ea1_row12_col1 {\n",
       "  text-align: left;\n",
       "  border: 1px #231f20 solid !important;\n",
       "  overwrite: False;\n",
       "}\n",
       "</style>\n",
       "<table id=\"T_f1ea1\">\n",
       "  <caption>FABlib Config</caption>\n",
       "  <thead>\n",
       "  </thead>\n",
       "  <tbody>\n",
       "    <tr>\n",
       "      <td id=\"T_f1ea1_row0_col0\" class=\"data row0 col0\" >Credential Manager</td>\n",
       "      <td id=\"T_f1ea1_row0_col1\" class=\"data row0 col1\" >cm.fabric-testbed.net</td>\n",
       "    </tr>\n",
       "    <tr>\n",
       "      <td id=\"T_f1ea1_row1_col0\" class=\"data row1 col0\" >Orchestrator</td>\n",
       "      <td id=\"T_f1ea1_row1_col1\" class=\"data row1 col1\" >orchestrator.fabric-testbed.net</td>\n",
       "    </tr>\n",
       "    <tr>\n",
       "      <td id=\"T_f1ea1_row2_col0\" class=\"data row2 col0\" >Token File</td>\n",
       "      <td id=\"T_f1ea1_row2_col1\" class=\"data row2 col1\" >/home/fabric/.tokens.json</td>\n",
       "    </tr>\n",
       "    <tr>\n",
       "      <td id=\"T_f1ea1_row3_col0\" class=\"data row3 col0\" >Project ID</td>\n",
       "      <td id=\"T_f1ea1_row3_col1\" class=\"data row3 col1\" >990d8a8b-7e50-4d13-a3be-0f133ffa8653</td>\n",
       "    </tr>\n",
       "    <tr>\n",
       "      <td id=\"T_f1ea1_row4_col0\" class=\"data row4 col0\" >Bastion Username</td>\n",
       "      <td id=\"T_f1ea1_row4_col1\" class=\"data row4 col1\" >pruth_0031379841</td>\n",
       "    </tr>\n",
       "    <tr>\n",
       "      <td id=\"T_f1ea1_row5_col0\" class=\"data row5 col0\" >Bastion Private Key File</td>\n",
       "      <td id=\"T_f1ea1_row5_col1\" class=\"data row5 col1\" >/home/fabric/work/fabric_config/fabric_bastion_key</td>\n",
       "    </tr>\n",
       "    <tr>\n",
       "      <td id=\"T_f1ea1_row6_col0\" class=\"data row6 col0\" >Bastion Host</td>\n",
       "      <td id=\"T_f1ea1_row6_col1\" class=\"data row6 col1\" >bastion-1.fabric-testbed.net</td>\n",
       "    </tr>\n",
       "    <tr>\n",
       "      <td id=\"T_f1ea1_row7_col0\" class=\"data row7 col0\" >Bastion Private Key Passphrase</td>\n",
       "      <td id=\"T_f1ea1_row7_col1\" class=\"data row7 col1\" >None</td>\n",
       "    </tr>\n",
       "    <tr>\n",
       "      <td id=\"T_f1ea1_row8_col0\" class=\"data row8 col0\" >Slice Public Key File</td>\n",
       "      <td id=\"T_f1ea1_row8_col1\" class=\"data row8 col1\" >/home/fabric/work/fabric_config/slice_key.pub</td>\n",
       "    </tr>\n",
       "    <tr>\n",
       "      <td id=\"T_f1ea1_row9_col0\" class=\"data row9 col0\" >Slice Private Key File</td>\n",
       "      <td id=\"T_f1ea1_row9_col1\" class=\"data row9 col1\" >/home/fabric/work/fabric_config/slice_key</td>\n",
       "    </tr>\n",
       "    <tr>\n",
       "      <td id=\"T_f1ea1_row10_col0\" class=\"data row10 col0\" >Slice Private Key Passphrase</td>\n",
       "      <td id=\"T_f1ea1_row10_col1\" class=\"data row10 col1\" >None</td>\n",
       "    </tr>\n",
       "    <tr>\n",
       "      <td id=\"T_f1ea1_row11_col0\" class=\"data row11 col0\" >Log File</td>\n",
       "      <td id=\"T_f1ea1_row11_col1\" class=\"data row11 col1\" >/home/fabric/fablib.log</td>\n",
       "    </tr>\n",
       "    <tr>\n",
       "      <td id=\"T_f1ea1_row12_col0\" class=\"data row12 col0\" >Log Level</td>\n",
       "      <td id=\"T_f1ea1_row12_col1\" class=\"data row12 col1\" >INFO</td>\n",
       "    </tr>\n",
       "  </tbody>\n",
       "</table>\n"
      ],
      "text/plain": [
       "<pandas.io.formats.style.Styler at 0x7f02cc4ef160>"
      ]
     },
     "metadata": {},
     "output_type": "display_data"
    },
    {
     "name": "stdout",
     "output_type": "stream",
     "text": [
      "fabric_site: MICH\n"
     ]
    }
   ],
   "source": [
    "# Create a FABlib manager\n",
    "fablib = fablib_manager()\n",
    "fablib.show_config()\n",
    "\n",
    "# FABRIC Config\n",
    "fabric_slice_name='chameleon_stitch'\n",
    "fabric_node_name='node1'\n",
    "\n",
    "fabric_node_image='default_rocky_8'\n",
    "fabric_site=fablib.get_random_site()\n",
    "print(f'fabric_site: {fabric_site}')"
   ]
  },
  {
   "cell_type": "markdown",
   "metadata": {},
   "source": [
    "### Network Variables\n",
    "\n",
    "The stitched network spans both Chameleon and FABRIC. The network needs a common subnet but distinct IP address allocation pools."
   ]
  },
  {
   "cell_type": "code",
   "execution_count": 5,
   "metadata": {
    "collapsed": false,
    "jupyter": {
     "outputs_hidden": false
    },
    "pycharm": {
     "name": "#%%\n"
    }
   },
   "outputs": [],
   "source": [
    "#Network Config\n",
    "subnet = IPv4Network(\"192.168.100.0/24\")\n",
    "\n",
    "fabric_allocation_pool_start=IPv4Address('192.168.100.200')\n",
    "fabric_allocation_pool_end=IPv4Address('192.168.100.250')\n",
    "fabric_available_ips=[]\n",
    "for ip_int in range(int(fabric_allocation_pool_start),int(fabric_allocation_pool_end)+1):\n",
    "    fabric_available_ips.append(IPv4Address(ip_int))\n",
    "    \n",
    "chameleon_allocation_pool_start='192.168.100.100'\n",
    "chameleon_allocation_pool_end='192.168.100.150'\n",
    "chameleon_gateway_ip='192.168.100.1'"
   ]
  },
  {
   "cell_type": "markdown",
   "metadata": {
    "pycharm": {
     "name": "#%% md\n"
    }
   },
   "source": [
    "## Create the Chameleon Network"
   ]
  },
  {
   "cell_type": "markdown",
   "metadata": {
    "pycharm": {
     "name": "#%% md\n"
    }
   },
   "source": [
    "#### Create a Lease at Chicago"
   ]
  },
  {
   "cell_type": "code",
   "execution_count": 6,
   "metadata": {
    "collapsed": false,
    "jupyter": {
     "outputs_hidden": false
    },
    "pycharm": {
     "name": "#%%\n"
    }
   },
   "outputs": [
    {
     "name": "stdout",
     "output_type": "stream",
     "text": [
      "chameleon_network_reservation_id: 19651bc1-6bb9-4c47-970f-e93585089c96\n"
     ]
    }
   ],
   "source": [
    "BLAZAR_TIME_FORMAT = '%Y-%m-%d %H:%M'\n",
    "\n",
    "# Set start/end date for lease\n",
    "# Start one minute into future to avoid Blazar thinking lease is in past\n",
    "# due to rounding to closest minute.\n",
    "start_date = (datetime.now(tz=tz.tzutc()) + timedelta(minutes=1)).strftime(BLAZAR_TIME_FORMAT)\n",
    "end_date   = (datetime.now(tz=tz.tzutc()) + timedelta(days=1)).strftime(BLAZAR_TIME_FORMAT)\n",
    "\n",
    "# Build list of reservations (in this case there is only one reservation)\n",
    "reservation_list = []\n",
    "#chi.lease.add_node_reservation(reservation_list, count=chameleon_server_count, node_type=chameleon_node_type)\n",
    "#chi.lease.add_fip_reservation(reservation_list, count=2)\n",
    "\n",
    "reservation_list.append(\n",
    "        {\n",
    "            \"resource_type\": \"network\",\n",
    "            \"network_name\": chameleon_network_name,\n",
    "            \"network_properties\": \"\",\n",
    "            \"resource_properties\": json.dumps(\n",
    "                [\"==\", \"$stitch_provider\", chameleon_stitch_provider]\n",
    "            ),\n",
    "        }\n",
    ")\n",
    "\n",
    "# Create the lease\n",
    "chameleon_lease = chi.lease.create_lease(chameleon_lease_name,\n",
    "                                  reservations=reservation_list,\n",
    "                                  start_date=start_date,\n",
    "                                  end_date=end_date)\n",
    "    \n",
    "#Print the lease info\n",
    "#print(json.dumps(chameleon_lease, indent=2))\n",
    "#chameleon_compute_reservation_id = [reservation for reservation in chameleon_lease['reservations'] if reservation['resource_type'] == 'physical:host'][0]['id']\n",
    "chameleon_network_reservation_id = [reservation for reservation in chameleon_lease['reservations'] if reservation['resource_type'] == 'network'][0]['id']\n",
    "#chameleon_floatingip_reservation_id = [reservation for reservation in chameleon_lease['reservations'] if reservation['resource_type'] == 'virtual:floatingip'][0]['id']\n",
    "\n",
    "#print(f\"chameleon_compute_reservation_id: {chameleon_compute_reservation_id}\")\n",
    "print(f\"chameleon_network_reservation_id: {chameleon_network_reservation_id}\")\n",
    "#print(f\"chameleon_floatingip_reservation_id: {chameleon_floatingip_reservation_id}\")"
   ]
  },
  {
   "cell_type": "markdown",
   "metadata": {
    "pycharm": {
     "name": "#%% md\n"
    }
   },
   "source": [
    "#### Get the Network\n",
    "\n",
    "Getting the network is not required for the remainder of the tutorial. However, it is a good test to see if your network reservation has become active. The [get_network_by_name](../modules-python/network/get_network_by_name.ipynb) call will fail if a network with that name does not yet exits. It will also fail if a network with the same name already exists (likely from a previous run of this notebook)."
   ]
  },
  {
   "cell_type": "code",
   "execution_count": 13,
   "metadata": {
    "collapsed": false,
    "jupyter": {
     "outputs_hidden": false
    },
    "pycharm": {
     "name": "#%%\n"
    }
   },
   "outputs": [
    {
     "name": "stdout",
     "output_type": "stream",
     "text": [
      "Chameleon Network is not ready. Trying again!\n",
      "Chameleon Network is not ready. Trying again!\n",
      "Chameleon Network is not ready. Trying again!\n",
      "Chameleon Network is not ready. Trying again!\n",
      "Chameleon Network is not ready. Trying again!\n",
      "Chameleon Network ID: 5bdc9011-941f-4372-8490-a7dd43d40464\n",
      "network_vlan: 3307\n"
     ]
    }
   ],
   "source": [
    "network_vlan = None\n",
    "while network_vlan == None:\n",
    "    try:\n",
    "        #Get the network\n",
    "        chameleon_network = chi.network.get_network(chameleon_network_name)\n",
    "\n",
    "        #Get the network ID\n",
    "        chameleon_network_id = chameleon_network['id']\n",
    "        print(f'Chameleon Network ID: {chameleon_network_id}')\n",
    "\n",
    "        #Get the VLAN tag (needed for FABRIC stitching)\n",
    "        network_vlan = chameleon_network['provider:segmentation_id']\n",
    "        print(f'network_vlan: {network_vlan}')\n",
    "    except:\n",
    "        print(f'Chameleon Network is not ready. Trying again!')\n",
    "        time.sleep(10)           "
   ]
  },
  {
   "cell_type": "markdown",
   "metadata": {
    "pycharm": {
     "name": "#%% md\n"
    }
   },
   "source": [
    "#### Add a subnet to the reserved network"
   ]
  },
  {
   "cell_type": "code",
   "execution_count": 14,
   "metadata": {
    "collapsed": false,
    "jupyter": {
     "outputs_hidden": false
    },
    "pycharm": {
     "name": "#%%\n"
    }
   },
   "outputs": [
    {
     "name": "stdout",
     "output_type": "stream",
     "text": [
      "{\n",
      "  \"id\": \"51b4ef4d-74fb-41b5-9ac0-545729f660cf\",\n",
      "  \"name\": \"fabric_stitch12Subnet\",\n",
      "  \"tenant_id\": \"ae76673270164b048b59d3bd30676721\",\n",
      "  \"network_id\": \"5bdc9011-941f-4372-8490-a7dd43d40464\",\n",
      "  \"ip_version\": 4,\n",
      "  \"subnetpool_id\": null,\n",
      "  \"enable_dhcp\": true,\n",
      "  \"ipv6_ra_mode\": null,\n",
      "  \"ipv6_address_mode\": null,\n",
      "  \"gateway_ip\": \"192.168.100.1\",\n",
      "  \"cidr\": \"192.168.100.0/24\",\n",
      "  \"allocation_pools\": [\n",
      "    {\n",
      "      \"start\": \"192.168.100.100\",\n",
      "      \"end\": \"192.168.100.150\"\n",
      "    }\n",
      "  ],\n",
      "  \"host_routes\": [],\n",
      "  \"dns_nameservers\": [],\n",
      "  \"description\": \"\",\n",
      "  \"service_types\": [],\n",
      "  \"tags\": [],\n",
      "  \"created_at\": \"2022-11-10T19:34:10Z\",\n",
      "  \"updated_at\": \"2022-11-10T19:34:10Z\",\n",
      "  \"revision_number\": 0,\n",
      "  \"project_id\": \"ae76673270164b048b59d3bd30676721\"\n",
      "}\n"
     ]
    }
   ],
   "source": [
    "chameleon_subnet = chi.network.create_subnet(chameleon_subnet_name, chameleon_network_id, \n",
    "                                             cidr=str(subnet),\n",
    "                                             allocation_pool_start=chameleon_allocation_pool_start,\n",
    "                                             allocation_pool_end=chameleon_allocation_pool_end,\n",
    "                                             gateway_ip=chameleon_gateway_ip)\n",
    "\n",
    "print(json.dumps(chameleon_subnet, indent=2))"
   ]
  },
  {
   "cell_type": "markdown",
   "metadata": {
    "pycharm": {
     "name": "#%% md\n"
    }
   },
   "source": [
    "#### Add a Router"
   ]
  },
  {
   "cell_type": "code",
   "execution_count": 15,
   "metadata": {
    "collapsed": false,
    "jupyter": {
     "outputs_hidden": false
    },
    "pycharm": {
     "name": "#%%\n"
    }
   },
   "outputs": [
    {
     "name": "stdout",
     "output_type": "stream",
     "text": [
      "{\n",
      "  \"id\": \"78a62507-8258-47fa-b7c8-1a6ac44613a3\",\n",
      "  \"name\": \"fabric_stitch12Router\",\n",
      "  \"tenant_id\": \"ae76673270164b048b59d3bd30676721\",\n",
      "  \"admin_state_up\": true,\n",
      "  \"status\": \"ACTIVE\",\n",
      "  \"external_gateway_info\": {\n",
      "    \"network_id\": \"44b38c44-2a42-4b6d-b129-6c8f1b2a1375\",\n",
      "    \"external_fixed_ips\": [\n",
      "      {\n",
      "        \"subnet_id\": \"c3950603-9e04-4cc5-be8d-1efbfe59fc0a\",\n",
      "        \"ip_address\": \"192.5.86.191\"\n",
      "      }\n",
      "    ],\n",
      "    \"enable_snat\": true\n",
      "  },\n",
      "  \"description\": \"\",\n",
      "  \"availability_zones\": [],\n",
      "  \"availability_zone_hints\": [],\n",
      "  \"routes\": [],\n",
      "  \"flavor_id\": null,\n",
      "  \"tags\": [],\n",
      "  \"created_at\": \"2022-11-10T19:34:10Z\",\n",
      "  \"updated_at\": \"2022-11-10T19:34:11Z\",\n",
      "  \"revision_number\": 3,\n",
      "  \"project_id\": \"ae76673270164b048b59d3bd30676721\"\n",
      "}\n"
     ]
    }
   ],
   "source": [
    "chameleon_router = chi.network.create_router(chameleon_router_name, gw_network_name='public')\n",
    "\n",
    "print(json.dumps(chameleon_router, indent=2))"
   ]
  },
  {
   "cell_type": "markdown",
   "metadata": {
    "pycharm": {
     "name": "#%% md\n"
    }
   },
   "source": [
    "#### Attach the Router and Subnet"
   ]
  },
  {
   "cell_type": "code",
   "execution_count": 16,
   "metadata": {
    "collapsed": false,
    "jupyter": {
     "outputs_hidden": false
    },
    "pycharm": {
     "name": "#%%\n"
    }
   },
   "outputs": [
    {
     "data": {
      "text/plain": [
       "{'id': '78a62507-8258-47fa-b7c8-1a6ac44613a3',\n",
       " 'tenant_id': 'ae76673270164b048b59d3bd30676721',\n",
       " 'port_id': '92ed2e5b-9be6-4d34-9963-f13ba5effced',\n",
       " 'network_id': '5bdc9011-941f-4372-8490-a7dd43d40464',\n",
       " 'subnet_id': '51b4ef4d-74fb-41b5-9ac0-545729f660cf',\n",
       " 'subnet_ids': ['51b4ef4d-74fb-41b5-9ac0-545729f660cf']}"
      ]
     },
     "execution_count": 16,
     "metadata": {},
     "output_type": "execute_result"
    }
   ],
   "source": [
    "chi.network.add_subnet_to_router_by_name(chameleon_router_name, chameleon_subnet_name)"
   ]
  },
  {
   "cell_type": "markdown",
   "metadata": {},
   "source": [
    "## Create FABRIC Node and Link"
   ]
  },
  {
   "cell_type": "code",
   "execution_count": 17,
   "metadata": {},
   "outputs": [
    {
     "name": "stdout",
     "output_type": "stream",
     "text": [
      "\n",
      "Retry: 8, Time: 191 sec\n"
     ]
    },
    {
     "data": {
      "text/html": [
       "<style type=\"text/css\">\n",
       "#T_72ca1 tr:nth-child(even) {\n",
       "  background: #dbf3ff;\n",
       "  color: #231f20;\n",
       "}\n",
       "#T_72ca1 tr:nth-child(odd) {\n",
       "  background: #ffffff;\n",
       "  color: #231f20;\n",
       "}\n",
       "#T_72ca1 caption {\n",
       "  text-align: center;\n",
       "  font-size: 150%;\n",
       "}\n",
       "#T_72ca1_row0_col0, #T_72ca1_row0_col1, #T_72ca1_row1_col0, #T_72ca1_row1_col1, #T_72ca1_row2_col0, #T_72ca1_row2_col1, #T_72ca1_row3_col0, #T_72ca1_row3_col1, #T_72ca1_row4_col0, #T_72ca1_row4_col1, #T_72ca1_row5_col0 {\n",
       "  text-align: left;\n",
       "  border: 1px #231f20 solid !important;\n",
       "  overwrite: False;\n",
       "  background-color: ;\n",
       "}\n",
       "#T_72ca1_row5_col1 {\n",
       "  text-align: left;\n",
       "  border: 1px #231f20 solid !important;\n",
       "  overwrite: False;\n",
       "  background-color: #c3ffc4;\n",
       "}\n",
       "</style>\n",
       "<table id=\"T_72ca1\">\n",
       "  <caption>Slice</caption>\n",
       "  <thead>\n",
       "  </thead>\n",
       "  <tbody>\n",
       "    <tr>\n",
       "      <td id=\"T_72ca1_row0_col0\" class=\"data row0 col0\" >ID</td>\n",
       "      <td id=\"T_72ca1_row0_col1\" class=\"data row0 col1\" >98f6f141-a9f1-4a06-a5bb-ac2626601c0b</td>\n",
       "    </tr>\n",
       "    <tr>\n",
       "      <td id=\"T_72ca1_row1_col0\" class=\"data row1 col0\" >Name</td>\n",
       "      <td id=\"T_72ca1_row1_col1\" class=\"data row1 col1\" >stitch12</td>\n",
       "    </tr>\n",
       "    <tr>\n",
       "      <td id=\"T_72ca1_row2_col0\" class=\"data row2 col0\" >Lease Expiration (UTC)</td>\n",
       "      <td id=\"T_72ca1_row2_col1\" class=\"data row2 col1\" >2022-11-11 19:34:13 +0000</td>\n",
       "    </tr>\n",
       "    <tr>\n",
       "      <td id=\"T_72ca1_row3_col0\" class=\"data row3 col0\" >Lease Start (UTC)</td>\n",
       "      <td id=\"T_72ca1_row3_col1\" class=\"data row3 col1\" >2022-11-10 19:34:14 +0000</td>\n",
       "    </tr>\n",
       "    <tr>\n",
       "      <td id=\"T_72ca1_row4_col0\" class=\"data row4 col0\" >Project ID</td>\n",
       "      <td id=\"T_72ca1_row4_col1\" class=\"data row4 col1\" >990d8a8b-7e50-4d13-a3be-0f133ffa8653</td>\n",
       "    </tr>\n",
       "    <tr>\n",
       "      <td id=\"T_72ca1_row5_col0\" class=\"data row5 col0\" >State</td>\n",
       "      <td id=\"T_72ca1_row5_col1\" class=\"data row5 col1\" >StableOK</td>\n",
       "    </tr>\n",
       "  </tbody>\n",
       "</table>\n"
      ],
      "text/plain": [
       "<pandas.io.formats.style.Styler at 0x7f62a08047f0>"
      ]
     },
     "metadata": {},
     "output_type": "display_data"
    },
    {
     "data": {
      "text/html": [
       "<style type=\"text/css\">\n",
       "#T_94833 caption {\n",
       "  text-align: center;\n",
       "  font-size: 150%;\n",
       "  caption-side: top;\n",
       "}\n",
       "#T_94833 th {\n",
       "  text-align: left;\n",
       "}\n",
       "#T_94833 tr:nth-child(even) {\n",
       "  background: #ffffff;\n",
       "  color: #231f20;\n",
       "}\n",
       "#T_94833 tr:nth-child(odd) {\n",
       "  background: #dbf3ff;\n",
       "  color: #231f20;\n",
       "}\n",
       "#T_94833 .level0 {\n",
       "  border: 1px black solid !important;\n",
       "  background: #ffffff;\n",
       "  color: #231f20;\n",
       "}\n",
       "#T_94833_row0_col0, #T_94833_row0_col1, #T_94833_row0_col2, #T_94833_row0_col3, #T_94833_row0_col4, #T_94833_row0_col5, #T_94833_row0_col6, #T_94833_row0_col7, #T_94833_row0_col8, #T_94833_row0_col9, #T_94833_row0_col10, #T_94833_row0_col13, #T_94833_row0_col14, #T_94833_row0_col15 {\n",
       "  text-align: left;\n",
       "  border: 1px #231f20 solid !important;\n",
       "  overwrite: False;\n",
       "}\n",
       "#T_94833_row0_col11 {\n",
       "  text-align: left;\n",
       "  border: 1px #231f20 solid !important;\n",
       "  overwrite: False;\n",
       "  background-color: #c3ffc4;\n",
       "}\n",
       "#T_94833_row0_col12 {\n",
       "  text-align: left;\n",
       "  border: 1px #231f20 solid !important;\n",
       "  overwrite: False;\n",
       "  background-color: ;\n",
       "}\n",
       "</style>\n",
       "<table id=\"T_94833\">\n",
       "  <caption>Nodes</caption>\n",
       "  <thead>\n",
       "    <tr>\n",
       "      <th id=\"T_94833_level0_col0\" class=\"col_heading level0 col0\" >ID</th>\n",
       "      <th id=\"T_94833_level0_col1\" class=\"col_heading level0 col1\" >Name</th>\n",
       "      <th id=\"T_94833_level0_col2\" class=\"col_heading level0 col2\" >Cores</th>\n",
       "      <th id=\"T_94833_level0_col3\" class=\"col_heading level0 col3\" >RAM</th>\n",
       "      <th id=\"T_94833_level0_col4\" class=\"col_heading level0 col4\" >Disk</th>\n",
       "      <th id=\"T_94833_level0_col5\" class=\"col_heading level0 col5\" >Image</th>\n",
       "      <th id=\"T_94833_level0_col6\" class=\"col_heading level0 col6\" >Image Type</th>\n",
       "      <th id=\"T_94833_level0_col7\" class=\"col_heading level0 col7\" >Host</th>\n",
       "      <th id=\"T_94833_level0_col8\" class=\"col_heading level0 col8\" >Site</th>\n",
       "      <th id=\"T_94833_level0_col9\" class=\"col_heading level0 col9\" >Username</th>\n",
       "      <th id=\"T_94833_level0_col10\" class=\"col_heading level0 col10\" >Management IP</th>\n",
       "      <th id=\"T_94833_level0_col11\" class=\"col_heading level0 col11\" >State</th>\n",
       "      <th id=\"T_94833_level0_col12\" class=\"col_heading level0 col12\" >Error</th>\n",
       "      <th id=\"T_94833_level0_col13\" class=\"col_heading level0 col13\" >SSH Command</th>\n",
       "      <th id=\"T_94833_level0_col14\" class=\"col_heading level0 col14\" >Public SSH Key File</th>\n",
       "      <th id=\"T_94833_level0_col15\" class=\"col_heading level0 col15\" >Private SSH Key File</th>\n",
       "    </tr>\n",
       "  </thead>\n",
       "  <tbody>\n",
       "    <tr>\n",
       "      <td id=\"T_94833_row0_col0\" class=\"data row0 col0\" >8b05e641-88df-46e9-8ae8-f83608d1bdb1</td>\n",
       "      <td id=\"T_94833_row0_col1\" class=\"data row0 col1\" >node1</td>\n",
       "      <td id=\"T_94833_row0_col2\" class=\"data row0 col2\" >2</td>\n",
       "      <td id=\"T_94833_row0_col3\" class=\"data row0 col3\" >8</td>\n",
       "      <td id=\"T_94833_row0_col4\" class=\"data row0 col4\" >10</td>\n",
       "      <td id=\"T_94833_row0_col5\" class=\"data row0 col5\" >default_rocky_8</td>\n",
       "      <td id=\"T_94833_row0_col6\" class=\"data row0 col6\" >qcow2</td>\n",
       "      <td id=\"T_94833_row0_col7\" class=\"data row0 col7\" >mich-w2.fabric-testbed.net</td>\n",
       "      <td id=\"T_94833_row0_col8\" class=\"data row0 col8\" >MICH</td>\n",
       "      <td id=\"T_94833_row0_col9\" class=\"data row0 col9\" >rocky</td>\n",
       "      <td id=\"T_94833_row0_col10\" class=\"data row0 col10\" >2607:f018:110:11:f816:3eff:fe87:e726</td>\n",
       "      <td id=\"T_94833_row0_col11\" class=\"data row0 col11\" >Active</td>\n",
       "      <td id=\"T_94833_row0_col12\" class=\"data row0 col12\" ></td>\n",
       "      <td id=\"T_94833_row0_col13\" class=\"data row0 col13\" >ssh -i /home/fabric/work/fabric_config/slice_key -F /home/fabric/work/fabric_config/ssh_config rocky@2607:f018:110:11:f816:3eff:fe87:e726</td>\n",
       "      <td id=\"T_94833_row0_col14\" class=\"data row0 col14\" >/home/fabric/work/fabric_config/slice_key.pub</td>\n",
       "      <td id=\"T_94833_row0_col15\" class=\"data row0 col15\" >/home/fabric/work/fabric_config/slice_key</td>\n",
       "    </tr>\n",
       "  </tbody>\n",
       "</table>\n"
      ],
      "text/plain": [
       "<pandas.io.formats.style.Styler at 0x7f62beaf7040>"
      ]
     },
     "metadata": {},
     "output_type": "display_data"
    },
    {
     "data": {
      "text/html": [
       "<style type=\"text/css\">\n",
       "#T_c967b caption {\n",
       "  text-align: center;\n",
       "  font-size: 150%;\n",
       "  caption-side: top;\n",
       "}\n",
       "#T_c967b th {\n",
       "  text-align: left;\n",
       "}\n",
       "#T_c967b tr:nth-child(even) {\n",
       "  background: #ffffff;\n",
       "  color: #231f20;\n",
       "}\n",
       "#T_c967b tr:nth-child(odd) {\n",
       "  background: #dbf3ff;\n",
       "  color: #231f20;\n",
       "}\n",
       "#T_c967b .level0 {\n",
       "  border: 1px black solid !important;\n",
       "  background: #ffffff;\n",
       "  color: #231f20;\n",
       "}\n",
       "#T_c967b_row0_col0, #T_c967b_row0_col1, #T_c967b_row0_col2, #T_c967b_row0_col3, #T_c967b_row0_col4, #T_c967b_row0_col5, #T_c967b_row0_col6 {\n",
       "  text-align: left;\n",
       "  border: 1px #231f20 solid !important;\n",
       "  overwrite: False;\n",
       "}\n",
       "#T_c967b_row0_col7 {\n",
       "  text-align: left;\n",
       "  border: 1px #231f20 solid !important;\n",
       "  overwrite: False;\n",
       "  background-color: #c3ffc4;\n",
       "}\n",
       "#T_c967b_row0_col8 {\n",
       "  text-align: left;\n",
       "  border: 1px #231f20 solid !important;\n",
       "  overwrite: False;\n",
       "  background-color: ;\n",
       "}\n",
       "</style>\n",
       "<table id=\"T_c967b\">\n",
       "  <caption>Networks</caption>\n",
       "  <thead>\n",
       "    <tr>\n",
       "      <th id=\"T_c967b_level0_col0\" class=\"col_heading level0 col0\" >ID</th>\n",
       "      <th id=\"T_c967b_level0_col1\" class=\"col_heading level0 col1\" >Name</th>\n",
       "      <th id=\"T_c967b_level0_col2\" class=\"col_heading level0 col2\" >Layer</th>\n",
       "      <th id=\"T_c967b_level0_col3\" class=\"col_heading level0 col3\" >Type</th>\n",
       "      <th id=\"T_c967b_level0_col4\" class=\"col_heading level0 col4\" >Site</th>\n",
       "      <th id=\"T_c967b_level0_col5\" class=\"col_heading level0 col5\" >Gateway</th>\n",
       "      <th id=\"T_c967b_level0_col6\" class=\"col_heading level0 col6\" >Subnet</th>\n",
       "      <th id=\"T_c967b_level0_col7\" class=\"col_heading level0 col7\" >State</th>\n",
       "      <th id=\"T_c967b_level0_col8\" class=\"col_heading level0 col8\" >Error</th>\n",
       "    </tr>\n",
       "  </thead>\n",
       "  <tbody>\n",
       "    <tr>\n",
       "      <td id=\"T_c967b_row0_col0\" class=\"data row0 col0\" >270f036a-4c50-4485-83d4-22383f915eba</td>\n",
       "      <td id=\"T_c967b_row0_col1\" class=\"data row0 col1\" >net_facility_port</td>\n",
       "      <td id=\"T_c967b_row0_col2\" class=\"data row0 col2\" >L2</td>\n",
       "      <td id=\"T_c967b_row0_col3\" class=\"data row0 col3\" >L2STS</td>\n",
       "      <td id=\"T_c967b_row0_col4\" class=\"data row0 col4\" >None</td>\n",
       "      <td id=\"T_c967b_row0_col5\" class=\"data row0 col5\" >None</td>\n",
       "      <td id=\"T_c967b_row0_col6\" class=\"data row0 col6\" >None</td>\n",
       "      <td id=\"T_c967b_row0_col7\" class=\"data row0 col7\" >Active</td>\n",
       "      <td id=\"T_c967b_row0_col8\" class=\"data row0 col8\" ></td>\n",
       "    </tr>\n",
       "  </tbody>\n",
       "</table>\n"
      ],
      "text/plain": [
       "<pandas.io.formats.style.Styler at 0x7f629c708e50>"
      ]
     },
     "metadata": {},
     "output_type": "display_data"
    },
    {
     "name": "stdout",
     "output_type": "stream",
     "text": [
      "\n",
      "Time to stable 191 seconds\n",
      "Running post_boot_config ... Time to post boot config 194 seconds\n"
     ]
    },
    {
     "data": {
      "text/html": [
       "<style type=\"text/css\">\n",
       "#T_7235e caption {\n",
       "  text-align: center;\n",
       "  font-size: 150%;\n",
       "  caption-side: top;\n",
       "}\n",
       "#T_7235e th {\n",
       "  text-align: left;\n",
       "}\n",
       "#T_7235e tr:nth-child(even) {\n",
       "  background: #ffffff;\n",
       "  color: #231f20;\n",
       "}\n",
       "#T_7235e tr:nth-child(odd) {\n",
       "  background: #dbf3ff;\n",
       "  color: #231f20;\n",
       "}\n",
       "#T_7235e .level0 {\n",
       "  border: 1px black solid !important;\n",
       "  background: #ffffff;\n",
       "  color: #231f20;\n",
       "}\n",
       "#T_7235e_row0_col0, #T_7235e_row0_col1, #T_7235e_row0_col2, #T_7235e_row0_col3, #T_7235e_row0_col4, #T_7235e_row0_col5, #T_7235e_row0_col6, #T_7235e_row0_col7 {\n",
       "  text-align: left;\n",
       "  border: 1px #231f20 solid !important;\n",
       "  overwrite: False;\n",
       "}\n",
       "</style>\n",
       "<table id=\"T_7235e\">\n",
       "  <caption>Interfaces</caption>\n",
       "  <thead>\n",
       "    <tr>\n",
       "      <th id=\"T_7235e_level0_col0\" class=\"col_heading level0 col0\" >Name</th>\n",
       "      <th id=\"T_7235e_level0_col1\" class=\"col_heading level0 col1\" >Node</th>\n",
       "      <th id=\"T_7235e_level0_col2\" class=\"col_heading level0 col2\" >Network</th>\n",
       "      <th id=\"T_7235e_level0_col3\" class=\"col_heading level0 col3\" >Bandwidth</th>\n",
       "      <th id=\"T_7235e_level0_col4\" class=\"col_heading level0 col4\" >VLAN</th>\n",
       "      <th id=\"T_7235e_level0_col5\" class=\"col_heading level0 col5\" >MAC</th>\n",
       "      <th id=\"T_7235e_level0_col6\" class=\"col_heading level0 col6\" >Physical Device</th>\n",
       "      <th id=\"T_7235e_level0_col7\" class=\"col_heading level0 col7\" >Device</th>\n",
       "    </tr>\n",
       "  </thead>\n",
       "  <tbody>\n",
       "    <tr>\n",
       "      <td id=\"T_7235e_row0_col0\" class=\"data row0 col0\" >node1-nic1-p1</td>\n",
       "      <td id=\"T_7235e_row0_col1\" class=\"data row0 col1\" >node1</td>\n",
       "      <td id=\"T_7235e_row0_col2\" class=\"data row0 col2\" >net_facility_port</td>\n",
       "      <td id=\"T_7235e_row0_col3\" class=\"data row0 col3\" >100</td>\n",
       "      <td id=\"T_7235e_row0_col4\" class=\"data row0 col4\" >None</td>\n",
       "      <td id=\"T_7235e_row0_col5\" class=\"data row0 col5\" >02:3C:4D:C1:F3:A1</td>\n",
       "      <td id=\"T_7235e_row0_col6\" class=\"data row0 col6\" >eth1</td>\n",
       "      <td id=\"T_7235e_row0_col7\" class=\"data row0 col7\" >eth1</td>\n",
       "    </tr>\n",
       "  </tbody>\n",
       "</table>\n"
      ],
      "text/plain": [
       "<pandas.io.formats.style.Styler at 0x7f62bea87ac0>"
      ]
     },
     "metadata": {},
     "output_type": "display_data"
    },
    {
     "name": "stdout",
     "output_type": "stream",
     "text": [
      "\n",
      "Time to print interfaces 196 seconds\n"
     ]
    }
   ],
   "source": [
    "try:\n",
    "    fabric_site='MICH'\n",
    "    fabric_slice_name=\"stitch12\"\n",
    "    \n",
    "    #Create a slice\n",
    "    fabric_slice = fablib.new_slice(name=fabric_slice_name)\n",
    "    \n",
    "    fabric_node = fabric_slice.add_node(name=fabric_node_name, site=fabric_site, image=fabric_node_image)\n",
    "    #fabric_node_iface = fabric_node.add_component(model='NIC_ConnectX_5', name=f\"nic1\").get_interfaces()[0]\n",
    "    fabric_node_iface = fabric_node.add_component(model='NIC_Basic', name=f\"nic1\").get_interfaces()[0]\n",
    "    \n",
    "    fabric_facility_port = fabric_slice.add_facility_port(name='Chameleon-StarLight', site='STAR', vlan=str(network_vlan))\n",
    "    fabric_facility_port_iface = fabric_facility_port.get_interfaces()[0]\n",
    "\n",
    "    fabric_net = fabric_slice.add_l2network(name=f'net_facility_port', interfaces=[fabric_node_iface,fabric_facility_port_iface], type='L2STS')\n",
    "\n",
    "    #Submit the Request\n",
    "    fabric_slice.submit()\n",
    "except Exception as e:\n",
    "    print(f\"Exception: {e}\")\n",
    "    traceback.print_exc()"
   ]
  },
  {
   "cell_type": "markdown",
   "metadata": {},
   "source": [
    "## Configure the FABRIC VM's IP Address"
   ]
  },
  {
   "cell_type": "code",
   "execution_count": 18,
   "metadata": {},
   "outputs": [
    {
     "name": "stdout",
     "output_type": "stream",
     "text": [
      "fabric_node_addr: 192.168.100.200\n",
      "3: eth1: <BROADCAST,MULTICAST,UP,LOWER_UP> mtu 1500 qdisc mq state UP group default qlen 1000\n",
      "    link/ether 02:3c:4d:c1:f3:a1 brd ff:ff:ff:ff:ff:ff\n",
      "    inet 192.168.100.200/24 scope global eth1\n",
      "       valid_lft forever preferred_lft forever\n",
      "    inet6 fe80::3f2e:d72b:16c5:f871/64 scope link noprefixroute \n",
      "       valid_lft forever preferred_lft forever\n",
      "3: eth1: <BROADCAST,MULTICAST,UP,LOWER_UP> mtu 1500 qdisc mq state UP group default qlen 1000\n",
      "    link/ether 02:3c:4d:c1:f3:a1 brd ff:ff:ff:ff:ff:ff\n",
      "    inet 192.168.100.200/24 scope global eth1\n",
      "       valid_lft forever preferred_lft forever\n",
      "    inet6 fe80::3f2e:d72b:16c5:f871/64 scope link noprefixroute \n",
      "       valid_lft forever preferred_lft forever\n",
      "\n"
     ]
    }
   ],
   "source": [
    "try:        \n",
    "    fabric_node = fabric_slice.get_node(name=fabric_node_name)   \n",
    "    \n",
    "    fabric_node_iface = fabric_node.get_interface(network_name=f'net_facility_port') \n",
    "    fabric_node_addr = fabric_available_ips.pop(0)\n",
    "    print(f\"fabric_node_addr: {fabric_node_addr}\")\n",
    "    fabric_node_iface.ip_addr_add(addr=fabric_node_addr, subnet=subnet)\n",
    "    \n",
    "    stdout, stderr = fabric_node.execute(f'ip addr show {fabric_node_iface.get_os_interface()}')\n",
    "    print (stdout)\n",
    "except Exception as e:\n",
    "    print(f\"Exception: {e}\")"
   ]
  },
  {
   "cell_type": "markdown",
   "metadata": {},
   "source": [
    "## (Optional) Test the Link\n",
    "\n",
    "We can test the facility port link by pinging the Chameleon gateway IP from the FABRIC VM."
   ]
  },
  {
   "cell_type": "code",
   "execution_count": 19,
   "metadata": {},
   "outputs": [
    {
     "name": "stdout",
     "output_type": "stream",
     "text": [
      "PING 192.168.100.1 (192.168.100.1) 56(84) bytes of data.\n",
      "64 bytes from 192.168.100.1: icmp_seq=1 ttl=64 time=15.7 ms\n",
      "64 bytes from 192.168.100.1: icmp_seq=2 ttl=64 time=7.55 ms\n",
      "64 bytes from 192.168.100.1: icmp_seq=3 ttl=64 time=7.56 ms\n",
      "64 bytes from 192.168.100.1: icmp_seq=4 ttl=64 time=7.55 ms\n",
      "64 bytes from 192.168.100.1: icmp_seq=5 ttl=64 time=7.56 ms\n",
      "\n",
      "--- 192.168.100.1 ping statistics ---\n",
      "5 packets transmitted, 5 received, 0% packet loss, time 4007ms\n",
      "rtt min/avg/max/mdev = 7.551/9.181/15.686/3.253 ms\n",
      "PING 192.168.100.1 (192.168.100.1) 56(84) bytes of data.\n",
      "64 bytes from 192.168.100.1: icmp_seq=1 ttl=64 time=15.7 ms\n",
      "64 bytes from 192.168.100.1: icmp_seq=2 ttl=64 time=7.55 ms\n",
      "64 bytes from 192.168.100.1: icmp_seq=3 ttl=64 time=7.56 ms\n",
      "64 bytes from 192.168.100.1: icmp_seq=4 ttl=64 time=7.55 ms\n",
      "64 bytes from 192.168.100.1: icmp_seq=5 ttl=64 time=7.56 ms\n",
      "\n",
      "--- 192.168.100.1 ping statistics ---\n",
      "5 packets transmitted, 5 received, 0% packet loss, time 4007ms\n",
      "rtt min/avg/max/mdev = 7.551/9.181/15.686/3.253 ms\n",
      "\n",
      "\n"
     ]
    }
   ],
   "source": [
    "try:\n",
    "    fabric_node = fabric_slice.get_node(name=fabric_node_name)     \n",
    "    fabric_node_iface = fabric_node.get_interface(network_name=f'net_facility_port') \n",
    "\n",
    "\n",
    "    stdout, stderr = fabric_node.execute(f'ping -c 5 {chameleon_gateway_ip}')\n",
    "    print (stdout)\n",
    "    print (stderr)\n",
    "    \n",
    "except Exception as e:\n",
    "    print(f\"Exception: {e}\")"
   ]
  },
  {
   "cell_type": "markdown",
   "metadata": {
    "pycharm": {
     "name": "#%% md\n"
    }
   },
   "source": [
    "## Start Chameleon Servers"
   ]
  },
  {
   "cell_type": "code",
   "execution_count": null,
   "metadata": {
    "collapsed": false,
    "jupyter": {
     "outputs_hidden": false
    },
    "pycharm": {
     "name": "#%%\n"
    }
   },
   "outputs": [],
   "source": [
    "#import chi.server\n",
    "for i in range(chameleon_server_count):\n",
    "    server_name=f\"{chameleon_server_name}_{i}\"\n",
    "    # Create the server\n",
    "    server = chi.server.create_server(server_name, \n",
    "                                  reservation_id=chameleon_compute_reservation_id, \n",
    "                                  network_name=chameleon_network_name, \n",
    "                                  image_name=chameleon_image_name,\n",
    "                                  key_name=chameleon_key_name\n",
    "                                 )\n",
    "# Wait until the server is active\n",
    "#chi.server.wait_for_active(server.id)"
   ]
  },
  {
   "cell_type": "markdown",
   "metadata": {},
   "source": [
    "## Get the Chameleon Server Fixed IPs"
   ]
  },
  {
   "cell_type": "code",
   "execution_count": null,
   "metadata": {},
   "outputs": [],
   "source": [
    "#get fixed ips\n",
    "fixed_ips={}\n",
    "for i in range(chameleon_server_count):\n",
    "    server_name=f\"{chameleon_server_name}_{i}\"\n",
    "    server_id = get_server_id(server_name)\n",
    "    fixed_ip = get_server(server_id).interface_list()[0].to_dict()[\"fixed_ips\"][0][\"ip_address\"]\n",
    "    fixed_ips[server_name]=fixed_ip\n",
    "\n",
    "for server_name,fixed_ip in fixed_ips.items():\n",
    "    print(f'{server_name}: {fixed_ip}')"
   ]
  },
  {
   "cell_type": "markdown",
   "metadata": {},
   "source": [
    "## Test the Link by Pinging All Chameleon Nodes"
   ]
  },
  {
   "cell_type": "code",
   "execution_count": null,
   "metadata": {},
   "outputs": [],
   "source": [
    "for server_name,fixed_ip in fixed_ips.items():\n",
    "    print(f'{server_name}: {fixed_ip}')\n",
    "    \n",
    "    stdout, stderr = fabric_node.execute(f'ping -c 5 {fixed_ip}')\n",
    "    print (stdout)\n",
    "    print (stderr)"
   ]
  },
  {
   "cell_type": "markdown",
   "metadata": {
    "pycharm": {
     "name": "#%% md\n"
    }
   },
   "source": [
    "# Clean Up \n",
    "\n",
    "## Delete Chameleon Resources\n",
    "\n",
    "Delete the servers"
   ]
  },
  {
   "cell_type": "code",
   "execution_count": null,
   "metadata": {
    "collapsed": false,
    "jupyter": {
     "outputs_hidden": false
    },
    "pycharm": {
     "name": "#%%\n"
    }
   },
   "outputs": [],
   "source": [
    "for i in range(chameleon_server_count):\n",
    "    server_name=f\"{chameleon_server_name}_{i}\"\n",
    "    chi.server.delete_server(get_server_id(server_name))"
   ]
  },
  {
   "cell_type": "markdown",
   "metadata": {
    "pycharm": {
     "name": "#%% md\n"
    }
   },
   "source": [
    "#### De-configure Network"
   ]
  },
  {
   "cell_type": "code",
   "execution_count": null,
   "metadata": {
    "collapsed": false,
    "jupyter": {
     "outputs_hidden": false
    },
    "pycharm": {
     "name": "#%%\n"
    }
   },
   "outputs": [],
   "source": [
    "router_id = chameleon_router['id']\n",
    "subnet_id = chameleon_subnet['id']\n",
    "\n",
    "try:\n",
    "    result = chi.network.remove_subnet_from_router(router_id, subnet_id)\n",
    "except Exception as e:\n",
    "    print(f\"detach_router_by_name error: {str(e)}\")\n",
    "    pass\n",
    "\n",
    "try:\n",
    "    result = chi.network.delete_router(router_id)\n",
    "except Exception as e:\n",
    "    print(f\"delete_router_by_name error: {str(e)}\")\n",
    "    pass\n",
    "\n",
    "try:\n",
    "    result = chi.network.delete_subnet(subnet_id)\n",
    "except Exception as e:\n",
    "    print(f\"delete_subnet_by_name error: {str(e)}\")\n",
    "    pass\n",
    "\n",
    "try:\n",
    "    result = chi.network.delete_network(network_id)\n",
    "except Exception as e:\n",
    "    print(f\"delete_network_by_name error: {str(e)}\")\n",
    "    pass"
   ]
  },
  {
   "cell_type": "markdown",
   "metadata": {
    "pycharm": {
     "name": "#%% md\n"
    }
   },
   "source": [
    "## Release Lease"
   ]
  },
  {
   "cell_type": "code",
   "execution_count": null,
   "metadata": {
    "collapsed": false,
    "jupyter": {
     "outputs_hidden": false
    },
    "pycharm": {
     "name": "#%%\n"
    }
   },
   "outputs": [],
   "source": [
    "chi.lease.delete_lease(chameleon_lease['id'])"
   ]
  },
  {
   "cell_type": "markdown",
   "metadata": {},
   "source": [
    "## Delete FABRIC Slice"
   ]
  },
  {
   "cell_type": "code",
   "execution_count": null,
   "metadata": {},
   "outputs": [],
   "source": [
    "try:\n",
    "    fabric_slice.delete()\n",
    "except Exception as e:\n",
    "    print(f\"Exception: {e}\")"
   ]
  }
 ],
 "metadata": {
  "kernelspec": {
   "display_name": "Python 3 (ipykernel)",
   "language": "python",
   "name": "python3"
  },
  "language_info": {
   "codemirror_mode": {
    "name": "ipython",
    "version": 3
   },
   "file_extension": ".py",
   "mimetype": "text/x-python",
   "name": "python",
   "nbconvert_exporter": "python",
   "pygments_lexer": "ipython3",
   "version": "3.9.7"
  }
 },
 "nbformat": 4,
 "nbformat_minor": 4
}
