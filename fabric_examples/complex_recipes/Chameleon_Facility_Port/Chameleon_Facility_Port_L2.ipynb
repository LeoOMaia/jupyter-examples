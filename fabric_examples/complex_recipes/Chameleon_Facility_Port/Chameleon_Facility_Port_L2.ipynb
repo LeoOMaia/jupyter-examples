{
 "cells": [
  {
   "cell_type": "markdown",
   "metadata": {
    "pycharm": {
     "name": "#%% md\n"
    }
   },
   "source": [
    "#  Chameleon Facility Ports: Layer 2\n",
    "\n",
    "A primary purpose of FABRIC is to be a platform for experimentation with innovative ideas about the future of the Internet.  One ability that makes FABRIC standout from other testbeds is its facility ports that connect FABRIC experiments to external facilities using low-level high bandwidth circuits.\n",
    "\n",
    "\n",
    "<img src=\"./figs/stitching_triangle.png\" width=\"60%\"><br>\n",
    "\n",
    "Experimental topologies, like the one above, can connect multiple computational testbeds to a large instrument, or even your institution, with dedicated high-bandwidth network links and smart in-network processing.\n",
    "\n",
    "This notebook introduces you to stitching experiments spanning [Chameleon](https://www.chameleoncloud.org/) and FABRIC. What you will learn today is not a full-fledged experiment but rather a building block that you can apply to your own experiments.\n",
    "\n",
    "Using this notebook, you will create a network on Chameleon at TACC that is connected to FABRIC's FABnetv4 Layer 3 network service. Once deployed, you will be able to create nodes on Chameleon and FABRIC that communicate directly over FABRIC's dedicated links.\n",
    "\n",
    "\n",
    "The goal for today is to create an experiment that resembles the following figure.  There will be a small set of nodes on Chameleon at TACC and a couple sets of nodes at other FABRIC sites.\n",
    "\n",
    "\n",
    "<img src=\"./figs/fabnet_stitch.png\" width=\"60%\"><br>\n",
    "\n",
    "\n"
   ]
  },
  {
   "cell_type": "markdown",
   "metadata": {},
   "source": [
    "## Chameleon Environment\n",
    "\n",
    "\n",
    "One of the main challenges to creating slices that span multiple testbeds is the need to learn how to use multiple testbed APIs.  Today you will need to learn about the Chameleon python API.  Conveniently, FABRIC and Chameleon both use a Python API and can, simultaneously, use a single Jupyter notebook.\n",
    "\n",
    "This section describes how to configure Chameleon inside the FABRIC JupyterHub.\n",
    "\n",
    "We assume you have already configured your environment to use FABRIC.  If this is your first time using FABRIC, you may need to follow the [Configure Environment](../../fablib_api/configure_environment/configure_environment.ipynb) notebook to complete the configuration.\n",
    "\n",
    "\n",
    "### Create a Chameleon CLI Password\n",
    "\n",
    "Chameleon has a good set of directions for creating a Chameleon CLI password. Follow the Chameleon [directions](https://chameleoncloud.readthedocs.io/en/latest/technical/cli.html#cli-authentication) to create a Chameleon CLI password. \n",
    "\n",
    "### Create an Openrc File\n",
    "\n",
    "After creating your CLI Password, download a your `Chameleon-openrc.sh` file by following these [directions](https://chameleoncloud.readthedocs.io/en/latest/technical/cli.html#the-openstack-rc-script). \n",
    "\n",
    "Make sure to get the openrc file that targets the TACC Chameleon site.\n",
    "\n",
    "### Configure your FABRIC Environment with your Chameleon Information\n",
    "\n",
    "Set the following environment vars to the values as found in your custom Chameleon-openrc.sh file.  The password should be set to your new CLI password.\n",
    "\n",
    "\n"
   ]
  },
  {
   "cell_type": "code",
   "execution_count": null,
   "metadata": {
    "jupyter": {
     "outputs_hidden": false
    },
    "pycharm": {
     "name": "#%%\n"
    },
    "tags": []
   },
   "outputs": [],
   "source": [
    "import os\n",
    "\n",
    "os.environ[\"OS_USERNAME\"]='<username>'\n",
    "os.environ[\"OS_PASSWORD\"]='<password>'\n",
    "\n",
    "os.environ[\"OS_AUTH_URL\"]='https://chi.uc.chameleoncloud.org:5000/v3'\n",
    "os.environ[\"OS_IDENTITY_API_VERSION\"]='3'\n",
    "os.environ[\"OS_INTERFACE\"]='public'\n",
    "os.environ[\"OS_PROTOCOL\"]=\"openid\"\n",
    "os.environ[\"OS_AUTH_TYPE\"]=\"v3oidcpassword\"\n",
    "os.environ[\"OS_IDENTITY_PROVIDER\"]=\"chameleon\"\n",
    "os.environ[\"OS_DISCOVERY_ENDPOINT\"]=\"https://auth.chameleoncloud.org/auth/realms/chameleon/.well-known/openid-configuration\"\n",
    "os.environ[\"OS_CLIENT_ID\"]=\"keystone-uc-prod\"\n",
    "os.environ[\"OS_ACCESS_TOKEN_TYPE\"]=\"access_token\"\n",
    "os.environ[\"OS_CLIENT_SECRET\"]=\"none\"\n",
    "os.environ[\"OS_REGION_NAME\"]=\"CHI@UC\"\n"
   ]
  },
  {
   "cell_type": "markdown",
   "metadata": {},
   "source": [
    "Alternatively, edit the Chameleon openrc file in this notebook's folder and add your information. Then you can read the environment var from the file with `load_dotenv`.   Loading the variable is not necessary but allows you to keep your CLI password from appearing in your notebook.\n",
    "\n",
    "<div class=\"alert alert-block alert-info\">\n",
    "<b>Tip:</b> Put your Chameleon openrc file in your fabric_config folder with your FABRIC keys.  Then reference it here with a full path: f'{os.environ[\"HOME\"]}/work/fabric_config/chameleon-openrc-tacc.sh'\n",
    "\n",
    "</div>"
   ]
  },
  {
   "cell_type": "code",
   "execution_count": null,
   "metadata": {
    "tags": []
   },
   "outputs": [],
   "source": [
    "from dotenv import load_dotenv\n",
    "import os\n",
    "\n",
    "# Load the environment variables from the myenvfile.txt file\n",
    "load_dotenv(f'chameleon-openrc-tacc.sh');\n"
   ]
  },
  {
   "cell_type": "markdown",
   "metadata": {},
   "source": [
    "## Import the Chameleon and FABRIC Libraries\n",
    "\n",
    "The libraries are already installed in the FABRIC Jupyter Hub. Directions on the Chameleon website describe how to install them on your local machine.\n",
    "\n",
    "\n"
   ]
  },
  {
   "cell_type": "markdown",
   "metadata": {
    "pycharm": {
     "name": "#%% md\n"
    }
   },
   "source": [
    "### Import Libraries"
   ]
  },
  {
   "cell_type": "code",
   "execution_count": null,
   "metadata": {
    "jupyter": {
     "outputs_hidden": false
    },
    "pycharm": {
     "name": "#%%\n"
    },
    "tags": []
   },
   "outputs": [],
   "source": [
    "#General imports\n",
    "import os\n",
    "import json\n",
    "import traceback\n",
    "from ipaddress import ip_address, IPv4Address, IPv6Address, IPv4Network, IPv6Network\n",
    "from datetime import datetime, timedelta\n",
    "from dateutil import tz\n",
    "import time\n",
    "\n",
    "# Chameleon Library\n",
    "import chi\n",
    "import chi.lease \n",
    "from chi.server import *\n",
    "from chi.lease import *\n",
    "from chi.network import *\n",
    "\n",
    "# FABRIC Library\n",
    "from fabrictestbed_extensions.fablib.fablib import FablibManager as fablib_manager"
   ]
  },
  {
   "cell_type": "markdown",
   "metadata": {},
   "source": [
    "### Chameleon Experiment Variable\n",
    "\n",
    "Specify some name variables to use throughout the notebook.\n",
    "\n",
    "Make sure to set your Chameleon ssh key and an active reservation for Chameleon servers.\n",
    "\n",
    "Put your username at the beginning of each name so that we can identify which networks and nodes belong to each user.\n"
   ]
  },
  {
   "cell_type": "code",
   "execution_count": null,
   "metadata": {
    "jupyter": {
     "outputs_hidden": false
    },
    "pycharm": {
     "name": "#%%\n"
    },
    "tags": []
   },
   "outputs": [],
   "source": [
    "# Chameleon Config\n",
    "chameleon_prefix =  f'{os.environ[\"OS_USERNAME\"]}_fabric_stitch_l2'\n",
    "chameleon_server_name = chameleon_prefix+'_server'\n",
    "chameleon_network_name = chameleon_prefix+'_net'\n",
    "chameleon_subnet_name = chameleon_prefix+'_subnet'\n",
    "chameleon_router_name = chameleon_prefix+'_router'\n",
    "chameleon_lease_name = chameleon_prefix+'_lease'\n",
    "\n",
    "chameleon_image_name='CC-Ubuntu20.04'\n",
    "chameleon_server_count=1\n",
    "\n",
    "chameleon_key_name='<Your_Chameleon_Key>'\n",
    "chameleon_server_reservation_id = '<Your_Chameleon_Server_Reservation>'"
   ]
  },
  {
   "cell_type": "markdown",
   "metadata": {},
   "source": [
    "### FABRIC Experiment Variables\n",
    "\n",
    "We will use the TACC Chameleon Facility Port.  The Chicago Chameleon Facility Port name is listed for future reference."
   ]
  },
  {
   "cell_type": "code",
   "execution_count": null,
   "metadata": {
    "jupyter": {
     "outputs_hidden": false
    },
    "pycharm": {
     "name": "#%%\n"
    },
    "tags": []
   },
   "outputs": [],
   "source": [
    "# Create a FABlib manager\n",
    "fablib = fablib_manager()\n",
    "fablib.show_config()\n",
    "\n",
    "# TACC\n",
    "fabric_site='TACC'\n",
    "fabric_slice_name=\"chameleon_tacc_stitch_l2\"\n",
    "faciliy_port='Chameleon-TACC'\n",
    "\n",
    "# OR Chicago\n",
    "#fabric_site='STAR'\n",
    "#fabric_slice_name=\"chameleon_chicagostitch_l2\"\n",
    "#faciliy_port='Chameleon-StarLight'\n"
   ]
  },
  {
   "cell_type": "markdown",
   "metadata": {},
   "source": [
    "## Pick you own L3 Subnet\n",
    "\n",
    "Reserve a Chameleon network at TACC and specify the `fabric` stitch provider. "
   ]
  },
  {
   "cell_type": "code",
   "execution_count": null,
   "metadata": {
    "jupyter": {
     "outputs_hidden": false
    },
    "pycharm": {
     "name": "#%%\n"
    },
    "tags": []
   },
   "outputs": [],
   "source": [
    "#Network Config\n",
    "subnet = IPv4Network(\"192.168.100.0/24\")\n",
    "\n",
    "fabric_allocation_pool_start=IPv4Address('192.168.100.200')\n",
    "fabric_allocation_pool_end=IPv4Address('192.168.100.250')\n",
    "fabric_available_ips=[]\n",
    "for ip_int in range(int(fabric_allocation_pool_start),int(fabric_allocation_pool_end)+1):\n",
    "    fabric_available_ips.append(IPv4Address(ip_int))\n",
    "    \n",
    "chameleon_allocation_pool_start='192.168.100.100'\n",
    "chameleon_allocation_pool_end='192.168.100.150'\n",
    "chameleon_gateway_ip='192.168.100.1'"
   ]
  },
  {
   "cell_type": "markdown",
   "metadata": {
    "pycharm": {
     "name": "#%% md\n"
    }
   },
   "source": [
    "## Create the Chameleon Network\n",
    "\n",
    "Reserve a Chameleon network at TACC and specify the `fabric` stitch provider. "
   ]
  },
  {
   "cell_type": "code",
   "execution_count": null,
   "metadata": {
    "jupyter": {
     "outputs_hidden": false
    },
    "pycharm": {
     "name": "#%%\n"
    },
    "tags": []
   },
   "outputs": [],
   "source": [
    "BLAZAR_TIME_FORMAT = '%Y-%m-%d %H:%M'\n",
    "\n",
    "# Set start/end date for lease\n",
    "# Start one minute into future to avoid Blazar thinking lease is in past\n",
    "# due to rounding to closest minute.\n",
    "start_date = (datetime.now(tz=tz.tzutc()) + timedelta(minutes=1)).strftime(BLAZAR_TIME_FORMAT)\n",
    "end_date   = (datetime.now(tz=tz.tzutc()) + timedelta(days=1)).strftime(BLAZAR_TIME_FORMAT)\n",
    "\n",
    "# Build list of reservations (in this case there is only one reservation)\n",
    "reservation_list = []\n",
    "reservation_list.append(\n",
    "        {\n",
    "            \"resource_type\": \"network\",\n",
    "            \"network_name\": chameleon_network_name,\n",
    "            \"network_properties\": \"\",\n",
    "            \"resource_properties\": json.dumps(\n",
    "                [\"==\", \"$stitch_provider\", 'fabric']\n",
    "            ),\n",
    "        }\n",
    ")\n",
    "\n",
    "# Create the lease\n",
    "chameleon_lease = chi.lease.create_lease(chameleon_lease_name,\n",
    "                                  reservations=reservation_list,\n",
    "                                  start_date=start_date,\n",
    "                                  end_date=end_date)\n",
    "    \n",
    "#Print the lease info\n",
    "chameleon_network_reservation_id = [reservation for reservation in chameleon_lease['reservations'] if reservation['resource_type'] == 'network'][0]['id']\n",
    "print(f\"chameleon_network_reservation_id: {chameleon_network_reservation_id}\")\n"
   ]
  },
  {
   "cell_type": "markdown",
   "metadata": {
    "pycharm": {
     "name": "#%% md\n"
    }
   },
   "source": [
    "#### Get the Network\n",
    "\n",
    "Getting the network is not required for the remainder of the tutorial. However, it is a good test to see if your network reservation has become active. The `get_network`\n",
    "call will fail if a network with that name does not yet exist. It will also fail if a network with the same name already exists (likely from a previous run of this notebook).\n",
    "\n",
    "After the network becomes active, you will have a raw L2 VLAN network that connects to Chameleon to FABRIC.\n",
    "\n",
    "Note the VLAN that you were assigned by Chameleon.  You will need this in the next step to create the FABRIC half of the stitch.\n",
    "\n",
    "\n"
   ]
  },
  {
   "cell_type": "code",
   "execution_count": null,
   "metadata": {
    "jupyter": {
     "outputs_hidden": false
    },
    "pycharm": {
     "name": "#%%\n"
    },
    "tags": []
   },
   "outputs": [],
   "source": [
    "network_vlan = None\n",
    "while network_vlan == None:\n",
    "    try:\n",
    "        #Get the network\n",
    "        chameleon_network = chi.network.get_network(chameleon_network_name)\n",
    "\n",
    "        #Get the network ID\n",
    "        chameleon_network_id = chameleon_network['id']\n",
    "        print(f'Chameleon Network ID: {chameleon_network_id}')\n",
    "\n",
    "        #Get the VLAN tag (needed for FABRIC stitching)\n",
    "        network_vlan = chameleon_network['provider:segmentation_id']\n",
    "        print(f'network_vlan: {network_vlan}')\n",
    "    except:\n",
    "        print(f'Chameleon Network is not ready. Trying again!')\n",
    "        time.sleep(10)           "
   ]
  },
  {
   "cell_type": "markdown",
   "metadata": {
    "pycharm": {
     "name": "#%% md\n"
    }
   },
   "source": [
    "#### Add a subnet to the reserved network"
   ]
  },
  {
   "cell_type": "code",
   "execution_count": null,
   "metadata": {
    "jupyter": {
     "outputs_hidden": false
    },
    "pycharm": {
     "name": "#%%\n"
    },
    "tags": []
   },
   "outputs": [],
   "source": [
    "chameleon_subnet = chi.network.create_subnet(chameleon_subnet_name, chameleon_network_id, \n",
    "                                             cidr=str(subnet),\n",
    "                                             allocation_pool_start=chameleon_allocation_pool_start,\n",
    "                                             allocation_pool_end=chameleon_allocation_pool_end,\n",
    "                                             gateway_ip=chameleon_gateway_ip)\n",
    "\n",
    "print(f\"subnet name  : {chameleon_subnet['name']}\")\n",
    "print(f\"subnet       : {chameleon_subnet['cidr']}\")\n",
    "print(f\"gateway_ip   : {chameleon_subnet['gateway_ip']}\")\n",
    "#print(json.dumps(chameleon_subnet, indent=2))"
   ]
  },
  {
   "cell_type": "markdown",
   "metadata": {
    "pycharm": {
     "name": "#%% md\n"
    }
   },
   "source": [
    "#### Add a Router and add it to the Subnet"
   ]
  },
  {
   "cell_type": "code",
   "execution_count": null,
   "metadata": {
    "jupyter": {
     "outputs_hidden": false
    },
    "pycharm": {
     "name": "#%%\n"
    },
    "tags": []
   },
   "outputs": [],
   "source": [
    "chameleon_router = chi.network.create_router(chameleon_router_name, gw_network_name='public')\n",
    "\n",
    "#print(json.dumps(chameleon_router, indent=2))\n",
    "print(f\"router name  : {chameleon_router['name']}\")\n",
    "\n",
    "connection_port = chi.network.add_subnet_to_router_by_name(chameleon_router_name, chameleon_subnet_name)\n",
    "\n",
    "print(f\"connection_port id  : {connection_port['port_id']}\")"
   ]
  },
  {
   "cell_type": "markdown",
   "metadata": {},
   "source": [
    "## Create FABRIC Node and Link\n",
    "\n",
    "Create the FABRIC slice. This is a small slice that does not even contain a node.  It only contain the facility port and a FABnetv4 network on the closest FABRIC site.\n",
    "\n",
    "\n",
    "## Create FABRIC Node and Link"
   ]
  },
  {
   "cell_type": "code",
   "execution_count": null,
   "metadata": {
    "tags": []
   },
   "outputs": [],
   "source": [
    "#Create a slice\n",
    "fabric_slice = fablib.new_slice(name=fabric_slice_name)\n",
    "\n",
    "# Create a FABRIC network\n",
    "net1 = fabric_slice.add_l2network(name='net1', subnet=subnet)\n",
    "\n",
    "# Add a Node\n",
    "fabric_node = fabric_slice.add_node(name='Node1', site=fabric_site)\n",
    "fabric_node_iface = fabric_node.add_component(model='NIC_Basic', name=f\"nic1\").get_interfaces()[0]\n",
    "fabric_node_iface.set_mode('config')\n",
    "net1.add_interface(fabric_node_iface)\n",
    "fabric_node_iface.set_ip_addr(fabric_available_ips.pop(0))\n",
    "    \n",
    "# Add the Facility Port\n",
    "fabric_facility_port = fabric_slice.add_facility_port(name=faciliy_port, site=fabric_site, vlan=str(network_vlan))\n",
    "fabric_facility_port_iface = fabric_facility_port.get_interfaces()[0]\n",
    "fabric_facility_port_iface.set_mode('manual')\n",
    "net1.add_interface(fabric_facility_port_iface)\n",
    "\n",
    "#Submit the Request\n",
    "fabric_slice.submit()"
   ]
  },
  {
   "cell_type": "markdown",
   "metadata": {},
   "source": [
    "## (Optional) Test the Link\n",
    "\n",
    "We can test the facility port link by pinging the Chameleon gateway IP from the FABRIC VM."
   ]
  },
  {
   "cell_type": "code",
   "execution_count": null,
   "metadata": {
    "tags": []
   },
   "outputs": [],
   "source": [
    "try:\n",
    "    fabric_node = fabric_slice.get_node(name='Node1')     \n",
    "    fabric_node_iface = fabric_node.get_interface(network_name=f'net1') \n",
    "\n",
    "\n",
    "    stdout, stderr = fabric_node.execute(f'ping -c 5 {chameleon_gateway_ip}')\n",
    "    \n",
    "except Exception as e:\n",
    "    print(f\"Exception: {e}\")"
   ]
  },
  {
   "cell_type": "markdown",
   "metadata": {
    "pycharm": {
     "name": "#%% md\n"
    }
   },
   "source": [
    "## Start Chameleon Servers"
   ]
  },
  {
   "cell_type": "code",
   "execution_count": null,
   "metadata": {
    "jupyter": {
     "outputs_hidden": false
    },
    "pycharm": {
     "name": "#%%\n"
    },
    "tags": []
   },
   "outputs": [],
   "source": [
    "#import chi.server\n",
    "\n",
    "servers = []\n",
    "\n",
    "for i in range(chameleon_server_count):\n",
    "    server_name=f\"{chameleon_server_name}_{i+1}\"\n",
    "    # Create the server\n",
    "    servers.append(chi.server.create_server(server_name, \n",
    "                                  reservation_id=chameleon_server_reservation_id, \n",
    "                                  network_name=chameleon_network_name, \n",
    "                                  image_name=chameleon_image_name,\n",
    "                                  key_name=chameleon_key_name\n",
    "                                 ))\n",
    "    \n",
    "# Wait until the server is active\n",
    "for server in servers:\n",
    "    print(f'Waiting for server: {server.name}')\n",
    "    chi.server.wait_for_active(server.id)\n",
    "print('Done!')"
   ]
  },
  {
   "cell_type": "markdown",
   "metadata": {},
   "source": [
    "## Get the Chameleon Server Fixed IPs"
   ]
  },
  {
   "cell_type": "code",
   "execution_count": null,
   "metadata": {
    "tags": []
   },
   "outputs": [],
   "source": [
    "#get fixed ips\n",
    "fixed_ips={}\n",
    "for i in range(chameleon_server_count):\n",
    "    server_name=f\"{chameleon_server_name}_{i+1}\"\n",
    "    server_id = get_server_id(server_name)\n",
    "    fixed_ip = get_server(server_id).interface_list()[0].to_dict()[\"fixed_ips\"][0][\"ip_address\"]\n",
    "    fixed_ips[server_name]=fixed_ip\n",
    "\n",
    "for server_name,fixed_ip in fixed_ips.items():\n",
    "    print(f'{server_name}: {fixed_ip}')"
   ]
  },
  {
   "cell_type": "markdown",
   "metadata": {},
   "source": [
    "## Test the Link by Pinging the Chameleon Nodes"
   ]
  },
  {
   "cell_type": "code",
   "execution_count": null,
   "metadata": {
    "tags": []
   },
   "outputs": [],
   "source": [
    "fabric_node = fabric_slice.get_node(name='Node1')     \n",
    "\n",
    "for server_name,fixed_ip in fixed_ips.items():\n",
    "    print(f'{server_name}: {fixed_ip}')\n",
    "    \n",
    "    stdout, stderr = fabric_node.execute(f'ping -c 5 {fixed_ip}')\n",
    "   "
   ]
  },
  {
   "cell_type": "markdown",
   "metadata": {
    "pycharm": {
     "name": "#%% md\n"
    }
   },
   "source": [
    "# Clean Up \n",
    "\n",
    "## Delete Chameleon Resources\n",
    "\n",
    "Delete the servers"
   ]
  },
  {
   "cell_type": "code",
   "execution_count": null,
   "metadata": {
    "jupyter": {
     "outputs_hidden": false
    },
    "pycharm": {
     "name": "#%%\n"
    },
    "tags": []
   },
   "outputs": [],
   "source": [
    "for i in range(chameleon_server_count):\n",
    "    server_name=f\"{chameleon_server_name}_{i+1}\"\n",
    "    chi.server.delete_server(get_server_id(server_name))"
   ]
  },
  {
   "cell_type": "markdown",
   "metadata": {
    "pycharm": {
     "name": "#%% md\n"
    }
   },
   "source": [
    "#### De-configure Network"
   ]
  },
  {
   "cell_type": "code",
   "execution_count": null,
   "metadata": {
    "jupyter": {
     "outputs_hidden": false
    },
    "pycharm": {
     "name": "#%%\n"
    },
    "tags": []
   },
   "outputs": [],
   "source": [
    "router_id = chameleon_router['id']\n",
    "subnet_id = chameleon_subnet['id']\n",
    "\n",
    "try:\n",
    "    result = chi.network.remove_subnet_from_router(router_id, subnet_id)\n",
    "except Exception as e:\n",
    "    print(f\"detach_router_by_name error: {str(e)}\")\n",
    "    pass\n",
    "\n",
    "try:\n",
    "    result = chi.network.delete_router(router_id)\n",
    "except Exception as e:\n",
    "    print(f\"delete_router_by_name error: {str(e)}\")\n",
    "    pass\n",
    "\n",
    "try:\n",
    "    result = chi.network.delete_subnet(subnet_id)\n",
    "except Exception as e:\n",
    "    print(f\"delete_subnet_by_name error: {str(e)}\")\n",
    "    pass\n",
    "\n",
    "try:\n",
    "    result = chi.network.delete_network(network_id)\n",
    "except Exception as e:\n",
    "    print(f\"delete_network_by_name error: {str(e)}\")\n",
    "    pass"
   ]
  },
  {
   "cell_type": "markdown",
   "metadata": {
    "pycharm": {
     "name": "#%% md\n"
    }
   },
   "source": [
    "## Release Lease"
   ]
  },
  {
   "cell_type": "code",
   "execution_count": null,
   "metadata": {
    "jupyter": {
     "outputs_hidden": false
    },
    "pycharm": {
     "name": "#%%\n"
    },
    "tags": []
   },
   "outputs": [],
   "source": [
    "chi.lease.delete_lease(chameleon_lease['id'])"
   ]
  },
  {
   "cell_type": "markdown",
   "metadata": {},
   "source": [
    "## Delete FABRIC Slice"
   ]
  },
  {
   "cell_type": "code",
   "execution_count": null,
   "metadata": {
    "tags": []
   },
   "outputs": [],
   "source": [
    "try:\n",
    "    fabric_slice.delete()\n",
    "except Exception as e:\n",
    "    print(f\"Exception: {e}\")"
   ]
  },
  {
   "cell_type": "code",
   "execution_count": null,
   "metadata": {},
   "outputs": [],
   "source": []
  }
 ],
 "metadata": {
  "kernelspec": {
   "display_name": "Python 3 (ipykernel)",
   "language": "python",
   "name": "python3"
  },
  "language_info": {
   "codemirror_mode": {
    "name": "ipython",
    "version": 3
   },
   "file_extension": ".py",
   "mimetype": "text/x-python",
   "name": "python",
   "nbconvert_exporter": "python",
   "pygments_lexer": "ipython3",
   "version": "3.9.13"
  }
 },
 "nbformat": 4,
 "nbformat_minor": 4
}
