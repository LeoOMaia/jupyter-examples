{
 "cells": [
  {
   "cell_type": "markdown",
   "metadata": {
    "pycharm": {
     "name": "#%% md\n"
    }
   },
   "source": [
    "##  Chameleon Facility Port\n",
    "\n",
    "This notebook demonstrates how to stitch experiment spanning [Chameleon](https://www.chameleoncloud.org/) and FABRIC."
   ]
  },
  {
   "cell_type": "markdown",
   "metadata": {},
   "source": [
    "pip install python-dotenv\n",
    "### Set Chameleon Environment\n",
    "\n",
    "FABRIC should already be configured in your Jupyter environment. If this is your first time using FABRIC, may need to follow the [Configure Environment](../../fablib_api/configure_environment/configure_environment.ipynb) notebook to complete the configuration.\n",
    "\n",
    "Set the following environment vars to the values found in your custom Chameleon-openrc.sh file. You can obtain your Chameleon-openrc.sh from Chameleon using these [directions](https://chameleoncloud.readthedocs.io/en/latest/technical/cli.html#the-openstack-rc-script).  The expected password is not your regular Chameleon password. Instead, you need to create a Chameleon CLI password by following these [directions](https://chameleoncloud.readthedocs.io/en/latest/technical/cli.html#cli-authentication)"
   ]
  },
  {
   "cell_type": "code",
   "execution_count": null,
   "metadata": {
    "collapsed": false,
    "jupyter": {
     "outputs_hidden": false
    },
    "pycharm": {
     "name": "#%%\n"
    },
    "tags": []
   },
   "outputs": [],
   "source": [
    "import os\n",
    "\n",
    "os.environ[\"OS_USERNAME\"]='<username>'\n",
    "os.environ[\"OS_PASSWORD\"]='<password>'\n",
    "\n",
    "os.environ[\"OS_AUTH_URL\"]='https://chi.uc.chameleoncloud.org:5000/v3'\n",
    "os.environ[\"OS_IDENTITY_API_VERSION\"]='3'\n",
    "os.environ[\"OS_INTERFACE\"]='public'\n",
    "os.environ[\"OS_PROTOCOL\"]=\"openid\"\n",
    "os.environ[\"OS_AUTH_TYPE\"]=\"v3oidcpassword\"\n",
    "os.environ[\"OS_IDENTITY_PROVIDER\"]=\"chameleon\"\n",
    "os.environ[\"OS_DISCOVERY_ENDPOINT\"]=\"https://auth.chameleoncloud.org/auth/realms/chameleon/.well-known/openid-configuration\"\n",
    "os.environ[\"OS_CLIENT_ID\"]=\"keystone-uc-prod\"\n",
    "os.environ[\"OS_ACCESS_TOKEN_TYPE\"]=\"access_token\"\n",
    "os.environ[\"OS_CLIENT_SECRET\"]=\"none\"\n",
    "os.environ[\"OS_REGION_NAME\"]=\"CHI@UC\"\n"
   ]
  },
  {
   "cell_type": "markdown",
   "metadata": {},
   "source": [
    "### Or Load the Envronment from a File"
   ]
  },
  {
   "cell_type": "code",
   "execution_count": 1,
   "metadata": {
    "tags": []
   },
   "outputs": [
    {
     "data": {
      "text/plain": [
       "True"
      ]
     },
     "execution_count": 1,
     "metadata": {},
     "output_type": "execute_result"
    }
   ],
   "source": [
    "from dotenv import load_dotenv\n",
    "import os\n",
    "\n",
    "# Load the environment variables from the myenvfile.txt file\n",
    "load_dotenv(f'{os.environ[\"HOME\"]}/work/fabric_config/chameleon-openrc.sh')"
   ]
  },
  {
   "cell_type": "markdown",
   "metadata": {},
   "source": [
    "## Or Import the Values from a File\n",
    "\n",
    "This file contains your password and you probably do not want it visible in the notebook."
   ]
  },
  {
   "cell_type": "markdown",
   "metadata": {
    "pycharm": {
     "name": "#%% md\n"
    }
   },
   "source": [
    "### Import Libraries"
   ]
  },
  {
   "cell_type": "code",
   "execution_count": 2,
   "metadata": {
    "collapsed": false,
    "jupyter": {
     "outputs_hidden": false
    },
    "pycharm": {
     "name": "#%%\n"
    },
    "tags": []
   },
   "outputs": [],
   "source": [
    "#General imports\n",
    "import os\n",
    "import json\n",
    "import traceback\n",
    "from ipaddress import ip_address, IPv4Address, IPv6Address, IPv4Network, IPv6Network\n",
    "from datetime import datetime, timedelta\n",
    "from dateutil import tz\n",
    "import time\n",
    "\n",
    "# Chameleon Library\n",
    "import chi\n",
    "import chi.lease \n",
    "from chi.server import *\n",
    "from chi.lease import *\n",
    "from chi.network import *\n",
    "\n",
    "# FABRIC Library\n",
    "from fabrictestbed_extensions.fablib.fablib import FablibManager as fablib_manager"
   ]
  },
  {
   "cell_type": "markdown",
   "metadata": {},
   "source": [
    "### Chameleon Experiment Variable"
   ]
  },
  {
   "cell_type": "code",
   "execution_count": 3,
   "metadata": {
    "collapsed": false,
    "jupyter": {
     "outputs_hidden": false
    },
    "pycharm": {
     "name": "#%%\n"
    },
    "tags": []
   },
   "outputs": [],
   "source": [
    "# Chameleon Config\n",
    "chameleon_prefix =  \"pruth_fabric_stitch_l2\"\n",
    "chameleon_server_name = chameleon_prefix+'_server'\n",
    "chameleon_network_name = chameleon_prefix+'_net'\n",
    "chameleon_subnet_name = chameleon_prefix+'_subnet'\n",
    "chameleon_router_name = chameleon_prefix+'_router'\n",
    "chameleon_lease_name = chameleon_prefix+'_lease'\n",
    "\n",
    "chameleon_image_name='CC-Ubuntu20.04'\n",
    "chameleon_server_count=1\n",
    "chameleon_key_name='my_chameleon_key'\n",
    "chameleon_server_reservation_id = 'e9b4dfe4-6c20-4f85-a490-02173695c388'"
   ]
  },
  {
   "cell_type": "markdown",
   "metadata": {},
   "source": [
    "### FABRIC Experiment Variables"
   ]
  },
  {
   "cell_type": "code",
   "execution_count": 4,
   "metadata": {
    "collapsed": false,
    "jupyter": {
     "outputs_hidden": false
    },
    "pycharm": {
     "name": "#%%\n"
    },
    "tags": []
   },
   "outputs": [
    {
     "data": {
      "text/html": [
       "<style type=\"text/css\">\n",
       "#T_f205f tr:nth-child(even) {\n",
       "  background: #dbf3ff;\n",
       "  color: #231f20;\n",
       "}\n",
       "#T_f205f tr:nth-child(odd) {\n",
       "  background: #ffffff;\n",
       "  color: #231f20;\n",
       "}\n",
       "#T_f205f caption {\n",
       "  text-align: center;\n",
       "  font-size: 150%;\n",
       "}\n",
       "#T_f205f_row0_col0, #T_f205f_row0_col1, #T_f205f_row1_col0, #T_f205f_row1_col1, #T_f205f_row2_col0, #T_f205f_row2_col1, #T_f205f_row3_col0, #T_f205f_row3_col1, #T_f205f_row4_col0, #T_f205f_row4_col1, #T_f205f_row5_col0, #T_f205f_row5_col1, #T_f205f_row6_col0, #T_f205f_row6_col1, #T_f205f_row7_col0, #T_f205f_row7_col1, #T_f205f_row8_col0, #T_f205f_row8_col1, #T_f205f_row9_col0, #T_f205f_row9_col1, #T_f205f_row10_col0, #T_f205f_row10_col1, #T_f205f_row11_col0, #T_f205f_row11_col1, #T_f205f_row12_col0, #T_f205f_row12_col1 {\n",
       "  text-align: left;\n",
       "  border: 1px #231f20 solid !important;\n",
       "  overwrite: False;\n",
       "}\n",
       "</style>\n",
       "<table id=\"T_f205f\">\n",
       "  <caption>FABlib Config</caption>\n",
       "  <thead>\n",
       "  </thead>\n",
       "  <tbody>\n",
       "    <tr>\n",
       "      <td id=\"T_f205f_row0_col0\" class=\"data row0 col0\" >Credential Manager</td>\n",
       "      <td id=\"T_f205f_row0_col1\" class=\"data row0 col1\" >cm.fabric-testbed.net</td>\n",
       "    </tr>\n",
       "    <tr>\n",
       "      <td id=\"T_f205f_row1_col0\" class=\"data row1 col0\" >Orchestrator</td>\n",
       "      <td id=\"T_f205f_row1_col1\" class=\"data row1 col1\" >orchestrator.fabric-testbed.net</td>\n",
       "    </tr>\n",
       "    <tr>\n",
       "      <td id=\"T_f205f_row2_col0\" class=\"data row2 col0\" >Token File</td>\n",
       "      <td id=\"T_f205f_row2_col1\" class=\"data row2 col1\" >/home/fabric/work/fabric_config/tokens.json</td>\n",
       "    </tr>\n",
       "    <tr>\n",
       "      <td id=\"T_f205f_row3_col0\" class=\"data row3 col0\" >Project ID</td>\n",
       "      <td id=\"T_f205f_row3_col1\" class=\"data row3 col1\" >990d8a8b-7e50-4d13-a3be-0f133ffa8653</td>\n",
       "    </tr>\n",
       "    <tr>\n",
       "      <td id=\"T_f205f_row4_col0\" class=\"data row4 col0\" >Bastion Username</td>\n",
       "      <td id=\"T_f205f_row4_col1\" class=\"data row4 col1\" >pruth_0031379841</td>\n",
       "    </tr>\n",
       "    <tr>\n",
       "      <td id=\"T_f205f_row5_col0\" class=\"data row5 col0\" >Bastion Private Key File</td>\n",
       "      <td id=\"T_f205f_row5_col1\" class=\"data row5 col1\" >/home/fabric/work/fabric_config/fabric_bastion_key</td>\n",
       "    </tr>\n",
       "    <tr>\n",
       "      <td id=\"T_f205f_row6_col0\" class=\"data row6 col0\" >Bastion Host</td>\n",
       "      <td id=\"T_f205f_row6_col1\" class=\"data row6 col1\" >bastion.fabric-testbed.net</td>\n",
       "    </tr>\n",
       "    <tr>\n",
       "      <td id=\"T_f205f_row7_col0\" class=\"data row7 col0\" >Bastion Private Key Passphrase</td>\n",
       "      <td id=\"T_f205f_row7_col1\" class=\"data row7 col1\" >None</td>\n",
       "    </tr>\n",
       "    <tr>\n",
       "      <td id=\"T_f205f_row8_col0\" class=\"data row8 col0\" >Slice Public Key File</td>\n",
       "      <td id=\"T_f205f_row8_col1\" class=\"data row8 col1\" >/home/fabric/work/fabric_config/slice_key.pub</td>\n",
       "    </tr>\n",
       "    <tr>\n",
       "      <td id=\"T_f205f_row9_col0\" class=\"data row9 col0\" >Slice Private Key File</td>\n",
       "      <td id=\"T_f205f_row9_col1\" class=\"data row9 col1\" >/home/fabric/work/fabric_config/slice_key</td>\n",
       "    </tr>\n",
       "    <tr>\n",
       "      <td id=\"T_f205f_row10_col0\" class=\"data row10 col0\" >Slice Private Key Passphrase</td>\n",
       "      <td id=\"T_f205f_row10_col1\" class=\"data row10 col1\" >None</td>\n",
       "    </tr>\n",
       "    <tr>\n",
       "      <td id=\"T_f205f_row11_col0\" class=\"data row11 col0\" >Log File</td>\n",
       "      <td id=\"T_f205f_row11_col1\" class=\"data row11 col1\" >/home/fabric/fablib.log</td>\n",
       "    </tr>\n",
       "    <tr>\n",
       "      <td id=\"T_f205f_row12_col0\" class=\"data row12 col0\" >Log Level</td>\n",
       "      <td id=\"T_f205f_row12_col1\" class=\"data row12 col1\" >INFO</td>\n",
       "    </tr>\n",
       "  </tbody>\n",
       "</table>\n"
      ],
      "text/plain": [
       "<pandas.io.formats.style.Styler at 0x7f5c2bf32490>"
      ]
     },
     "metadata": {},
     "output_type": "display_data"
    }
   ],
   "source": [
    "# Create a FABlib manager\n",
    "fablib = fablib_manager()\n",
    "fablib.show_config()\n",
    "\n",
    "# TACC\n",
    "fabric_site='TACC'\n",
    "fabric_slice_name=\"chameleon_tacc_stitch_l2\"\n",
    "faciliy_port='Chameleon-TACC'\n",
    "\n",
    "# OR Chicago\n",
    "#fabric_site='STAR'\n",
    "#fabric_slice_name=\"chameleon_chicagostitch_l2\"\n",
    "#faciliy_port='Chameleon-StarLight'\n"
   ]
  },
  {
   "cell_type": "markdown",
   "metadata": {},
   "source": [
    "### Network Variables\n",
    "\n",
    "The stitched network spans both Chameleon and FABRIC. The network needs a common subnet but distinct IP address allocation pools."
   ]
  },
  {
   "cell_type": "code",
   "execution_count": 5,
   "metadata": {
    "collapsed": false,
    "jupyter": {
     "outputs_hidden": false
    },
    "pycharm": {
     "name": "#%%\n"
    },
    "tags": []
   },
   "outputs": [],
   "source": [
    "#Network Config\n",
    "subnet = IPv4Network(\"192.168.100.0/24\")\n",
    "\n",
    "fabric_allocation_pool_start=IPv4Address('192.168.100.200')\n",
    "fabric_allocation_pool_end=IPv4Address('192.168.100.250')\n",
    "fabric_available_ips=[]\n",
    "for ip_int in range(int(fabric_allocation_pool_start),int(fabric_allocation_pool_end)+1):\n",
    "    fabric_available_ips.append(IPv4Address(ip_int))\n",
    "    \n",
    "chameleon_allocation_pool_start='192.168.100.100'\n",
    "chameleon_allocation_pool_end='192.168.100.150'\n",
    "chameleon_gateway_ip='192.168.100.1'"
   ]
  },
  {
   "cell_type": "markdown",
   "metadata": {
    "pycharm": {
     "name": "#%% md\n"
    }
   },
   "source": [
    "## Create the Chameleon Network"
   ]
  },
  {
   "cell_type": "markdown",
   "metadata": {
    "pycharm": {
     "name": "#%% md\n"
    }
   },
   "source": [
    "#### Create a Lease at Chicago"
   ]
  },
  {
   "cell_type": "code",
   "execution_count": 6,
   "metadata": {
    "collapsed": false,
    "jupyter": {
     "outputs_hidden": false
    },
    "pycharm": {
     "name": "#%%\n"
    },
    "tags": []
   },
   "outputs": [
    {
     "name": "stdout",
     "output_type": "stream",
     "text": [
      "chameleon_network_reservation_id: e01ffd6d-cf12-4d74-a1cf-b99d36adf853\n"
     ]
    }
   ],
   "source": [
    "BLAZAR_TIME_FORMAT = '%Y-%m-%d %H:%M'\n",
    "\n",
    "# Set start/end date for lease\n",
    "# Start one minute into future to avoid Blazar thinking lease is in past\n",
    "# due to rounding to closest minute.\n",
    "start_date = (datetime.now(tz=tz.tzutc()) + timedelta(minutes=1)).strftime(BLAZAR_TIME_FORMAT)\n",
    "end_date   = (datetime.now(tz=tz.tzutc()) + timedelta(days=1)).strftime(BLAZAR_TIME_FORMAT)\n",
    "\n",
    "# Build list of reservations (in this case there is only one reservation)\n",
    "reservation_list = []\n",
    "reservation_list.append(\n",
    "        {\n",
    "            \"resource_type\": \"network\",\n",
    "            \"network_name\": chameleon_network_name,\n",
    "            \"network_properties\": \"\",\n",
    "            \"resource_properties\": json.dumps(\n",
    "                [\"==\", \"$stitch_provider\", 'fabric']\n",
    "            ),\n",
    "        }\n",
    ")\n",
    "\n",
    "# Create the lease\n",
    "chameleon_lease = chi.lease.create_lease(chameleon_lease_name,\n",
    "                                  reservations=reservation_list,\n",
    "                                  start_date=start_date,\n",
    "                                  end_date=end_date)\n",
    "    \n",
    "#Print the lease info\n",
    "chameleon_network_reservation_id = [reservation for reservation in chameleon_lease['reservations'] if reservation['resource_type'] == 'network'][0]['id']\n",
    "print(f\"chameleon_network_reservation_id: {chameleon_network_reservation_id}\")\n"
   ]
  },
  {
   "cell_type": "markdown",
   "metadata": {
    "pycharm": {
     "name": "#%% md\n"
    }
   },
   "source": [
    "#### Get the Network\n",
    "\n",
    "Getting the network is not required for the remainder of the tutorial. However, it is a good test to see if your network reservation has become active. The [get_network_by_name](../modules-python/network/get_network_by_name.ipynb) call will fail if a network with that name does not yet exits. It will also fail if a network with the same name already exists (likely from a previous run of this notebook)."
   ]
  },
  {
   "cell_type": "code",
   "execution_count": 7,
   "metadata": {
    "collapsed": false,
    "jupyter": {
     "outputs_hidden": false
    },
    "pycharm": {
     "name": "#%%\n"
    },
    "tags": []
   },
   "outputs": [
    {
     "name": "stdout",
     "output_type": "stream",
     "text": [
      "Chameleon Network is not ready. Trying again!\n",
      "Chameleon Network is not ready. Trying again!\n",
      "Chameleon Network is not ready. Trying again!\n",
      "Chameleon Network is not ready. Trying again!\n",
      "Chameleon Network is not ready. Trying again!\n",
      "Chameleon Network is not ready. Trying again!\n",
      "Chameleon Network ID: 105ae85d-4be2-4917-a6ca-0ac846dd6f3c\n",
      "network_vlan: 3407\n"
     ]
    }
   ],
   "source": [
    "network_vlan = None\n",
    "while network_vlan == None:\n",
    "    try:\n",
    "        #Get the network\n",
    "        chameleon_network = chi.network.get_network(chameleon_network_name)\n",
    "\n",
    "        #Get the network ID\n",
    "        chameleon_network_id = chameleon_network['id']\n",
    "        print(f'Chameleon Network ID: {chameleon_network_id}')\n",
    "\n",
    "        #Get the VLAN tag (needed for FABRIC stitching)\n",
    "        network_vlan = chameleon_network['provider:segmentation_id']\n",
    "        print(f'network_vlan: {network_vlan}')\n",
    "    except:\n",
    "        print(f'Chameleon Network is not ready. Trying again!')\n",
    "        time.sleep(10)           "
   ]
  },
  {
   "cell_type": "markdown",
   "metadata": {
    "pycharm": {
     "name": "#%% md\n"
    }
   },
   "source": [
    "#### Add a subnet to the reserved network"
   ]
  },
  {
   "cell_type": "code",
   "execution_count": 8,
   "metadata": {
    "collapsed": false,
    "jupyter": {
     "outputs_hidden": false
    },
    "pycharm": {
     "name": "#%%\n"
    },
    "tags": []
   },
   "outputs": [
    {
     "name": "stdout",
     "output_type": "stream",
     "text": [
      "subnet name  : pruth_fabric_stitch_l2_subnet\n",
      "subnet       : 192.168.100.0/24\n",
      "gateway_ip   : 192.168.100.1\n"
     ]
    }
   ],
   "source": [
    "chameleon_subnet = chi.network.create_subnet(chameleon_subnet_name, chameleon_network_id, \n",
    "                                             cidr=str(subnet),\n",
    "                                             allocation_pool_start=chameleon_allocation_pool_start,\n",
    "                                             allocation_pool_end=chameleon_allocation_pool_end,\n",
    "                                             gateway_ip=chameleon_gateway_ip)\n",
    "\n",
    "print(f\"subnet name  : {chameleon_subnet['name']}\")\n",
    "print(f\"subnet       : {chameleon_subnet['cidr']}\")\n",
    "print(f\"gateway_ip   : {chameleon_subnet['gateway_ip']}\")\n",
    "#print(json.dumps(chameleon_subnet, indent=2))"
   ]
  },
  {
   "cell_type": "markdown",
   "metadata": {
    "pycharm": {
     "name": "#%% md\n"
    }
   },
   "source": [
    "#### Add a Router"
   ]
  },
  {
   "cell_type": "code",
   "execution_count": 9,
   "metadata": {
    "collapsed": false,
    "jupyter": {
     "outputs_hidden": false
    },
    "pycharm": {
     "name": "#%%\n"
    },
    "tags": []
   },
   "outputs": [
    {
     "name": "stdout",
     "output_type": "stream",
     "text": [
      "router name  : pruth_fabric_stitch_l2_router\n"
     ]
    }
   ],
   "source": [
    "chameleon_router = chi.network.create_router(chameleon_router_name, gw_network_name='public')\n",
    "\n",
    "#print(json.dumps(chameleon_router, indent=2))\n",
    "print(f\"router name  : {chameleon_router['name']}\")"
   ]
  },
  {
   "cell_type": "markdown",
   "metadata": {
    "pycharm": {
     "name": "#%% md\n"
    }
   },
   "source": [
    "#### Attach the Router and Subnet"
   ]
  },
  {
   "cell_type": "code",
   "execution_count": 10,
   "metadata": {
    "collapsed": false,
    "jupyter": {
     "outputs_hidden": false
    },
    "pycharm": {
     "name": "#%%\n"
    },
    "tags": []
   },
   "outputs": [
    {
     "name": "stdout",
     "output_type": "stream",
     "text": [
      "connection_port id  : cc8b68c5-bfd1-4a0b-ab90-c941bb7f45dd\n"
     ]
    }
   ],
   "source": [
    "connection_port = chi.network.add_subnet_to_router_by_name(chameleon_router_name, chameleon_subnet_name)\n",
    "\n",
    "print(f\"connection_port id  : {connection_port['port_id']}\")"
   ]
  },
  {
   "cell_type": "markdown",
   "metadata": {},
   "source": [
    "## Create FABRIC Node and Link"
   ]
  },
  {
   "cell_type": "code",
   "execution_count": 11,
   "metadata": {
    "tags": []
   },
   "outputs": [
    {
     "name": "stdout",
     "output_type": "stream",
     "text": [
      "\n",
      "Retry: 10, Time: 240 sec\n"
     ]
    },
    {
     "data": {
      "text/html": [
       "<style type=\"text/css\">\n",
       "#T_41dd7 tr:nth-child(even) {\n",
       "  background: #dbf3ff;\n",
       "  color: #231f20;\n",
       "}\n",
       "#T_41dd7 tr:nth-child(odd) {\n",
       "  background: #ffffff;\n",
       "  color: #231f20;\n",
       "}\n",
       "#T_41dd7 caption {\n",
       "  text-align: center;\n",
       "  font-size: 150%;\n",
       "}\n",
       "#T_41dd7_row0_col0, #T_41dd7_row0_col1, #T_41dd7_row1_col0, #T_41dd7_row1_col1, #T_41dd7_row2_col0, #T_41dd7_row2_col1, #T_41dd7_row3_col0, #T_41dd7_row3_col1, #T_41dd7_row4_col0, #T_41dd7_row4_col1, #T_41dd7_row5_col0 {\n",
       "  text-align: left;\n",
       "  border: 1px #231f20 solid !important;\n",
       "  overwrite: False;\n",
       "  background-color: ;\n",
       "}\n",
       "#T_41dd7_row5_col1 {\n",
       "  text-align: left;\n",
       "  border: 1px #231f20 solid !important;\n",
       "  overwrite: False;\n",
       "  background-color: #c3ffc4;\n",
       "}\n",
       "</style>\n",
       "<table id=\"T_41dd7\">\n",
       "  <caption>Slice</caption>\n",
       "  <thead>\n",
       "  </thead>\n",
       "  <tbody>\n",
       "    <tr>\n",
       "      <td id=\"T_41dd7_row0_col0\" class=\"data row0 col0\" >ID</td>\n",
       "      <td id=\"T_41dd7_row0_col1\" class=\"data row0 col1\" >7b290aa1-a918-4918-a51b-7e5e1240941c</td>\n",
       "    </tr>\n",
       "    <tr>\n",
       "      <td id=\"T_41dd7_row1_col0\" class=\"data row1 col0\" >Name</td>\n",
       "      <td id=\"T_41dd7_row1_col1\" class=\"data row1 col1\" >chameleon_tacc_stitch_l2</td>\n",
       "    </tr>\n",
       "    <tr>\n",
       "      <td id=\"T_41dd7_row2_col0\" class=\"data row2 col0\" >Lease Expiration (UTC)</td>\n",
       "      <td id=\"T_41dd7_row2_col1\" class=\"data row2 col1\" >2023-04-22 12:02:18 +0000</td>\n",
       "    </tr>\n",
       "    <tr>\n",
       "      <td id=\"T_41dd7_row3_col0\" class=\"data row3 col0\" >Lease Start (UTC)</td>\n",
       "      <td id=\"T_41dd7_row3_col1\" class=\"data row3 col1\" >2023-04-21 12:02:19 +0000</td>\n",
       "    </tr>\n",
       "    <tr>\n",
       "      <td id=\"T_41dd7_row4_col0\" class=\"data row4 col0\" >Project ID</td>\n",
       "      <td id=\"T_41dd7_row4_col1\" class=\"data row4 col1\" >990d8a8b-7e50-4d13-a3be-0f133ffa8653</td>\n",
       "    </tr>\n",
       "    <tr>\n",
       "      <td id=\"T_41dd7_row5_col0\" class=\"data row5 col0\" >State</td>\n",
       "      <td id=\"T_41dd7_row5_col1\" class=\"data row5 col1\" >StableOK</td>\n",
       "    </tr>\n",
       "  </tbody>\n",
       "</table>\n"
      ],
      "text/plain": [
       "<pandas.io.formats.style.Styler at 0x7f5c2800d340>"
      ]
     },
     "metadata": {},
     "output_type": "display_data"
    },
    {
     "data": {
      "text/html": [
       "<style type=\"text/css\">\n",
       "#T_090ff caption {\n",
       "  text-align: center;\n",
       "  font-size: 150%;\n",
       "  caption-side: top;\n",
       "}\n",
       "#T_090ff th {\n",
       "  text-align: left;\n",
       "}\n",
       "#T_090ff tr:nth-child(even) {\n",
       "  background: #ffffff;\n",
       "  color: #231f20;\n",
       "}\n",
       "#T_090ff tr:nth-child(odd) {\n",
       "  background: #dbf3ff;\n",
       "  color: #231f20;\n",
       "}\n",
       "#T_090ff .level0 {\n",
       "  border: 1px black solid !important;\n",
       "  background: #ffffff;\n",
       "  color: #231f20;\n",
       "}\n",
       "#T_090ff_row0_col0, #T_090ff_row0_col1, #T_090ff_row0_col2, #T_090ff_row0_col3, #T_090ff_row0_col4, #T_090ff_row0_col5, #T_090ff_row0_col6, #T_090ff_row0_col7, #T_090ff_row0_col8, #T_090ff_row0_col9, #T_090ff_row0_col10, #T_090ff_row0_col13, #T_090ff_row0_col14, #T_090ff_row0_col15 {\n",
       "  text-align: left;\n",
       "  border: 1px #231f20 solid !important;\n",
       "  overwrite: False;\n",
       "}\n",
       "#T_090ff_row0_col11 {\n",
       "  text-align: left;\n",
       "  border: 1px #231f20 solid !important;\n",
       "  overwrite: False;\n",
       "  background-color: #c3ffc4;\n",
       "}\n",
       "#T_090ff_row0_col12 {\n",
       "  text-align: left;\n",
       "  border: 1px #231f20 solid !important;\n",
       "  overwrite: False;\n",
       "  background-color: ;\n",
       "}\n",
       "</style>\n",
       "<table id=\"T_090ff\">\n",
       "  <caption>Nodes</caption>\n",
       "  <thead>\n",
       "    <tr>\n",
       "      <th id=\"T_090ff_level0_col0\" class=\"col_heading level0 col0\" >ID</th>\n",
       "      <th id=\"T_090ff_level0_col1\" class=\"col_heading level0 col1\" >Name</th>\n",
       "      <th id=\"T_090ff_level0_col2\" class=\"col_heading level0 col2\" >Cores</th>\n",
       "      <th id=\"T_090ff_level0_col3\" class=\"col_heading level0 col3\" >RAM</th>\n",
       "      <th id=\"T_090ff_level0_col4\" class=\"col_heading level0 col4\" >Disk</th>\n",
       "      <th id=\"T_090ff_level0_col5\" class=\"col_heading level0 col5\" >Image</th>\n",
       "      <th id=\"T_090ff_level0_col6\" class=\"col_heading level0 col6\" >Image Type</th>\n",
       "      <th id=\"T_090ff_level0_col7\" class=\"col_heading level0 col7\" >Host</th>\n",
       "      <th id=\"T_090ff_level0_col8\" class=\"col_heading level0 col8\" >Site</th>\n",
       "      <th id=\"T_090ff_level0_col9\" class=\"col_heading level0 col9\" >Username</th>\n",
       "      <th id=\"T_090ff_level0_col10\" class=\"col_heading level0 col10\" >Management IP</th>\n",
       "      <th id=\"T_090ff_level0_col11\" class=\"col_heading level0 col11\" >State</th>\n",
       "      <th id=\"T_090ff_level0_col12\" class=\"col_heading level0 col12\" >Error</th>\n",
       "      <th id=\"T_090ff_level0_col13\" class=\"col_heading level0 col13\" >SSH Command</th>\n",
       "      <th id=\"T_090ff_level0_col14\" class=\"col_heading level0 col14\" >Public SSH Key File</th>\n",
       "      <th id=\"T_090ff_level0_col15\" class=\"col_heading level0 col15\" >Private SSH Key File</th>\n",
       "    </tr>\n",
       "  </thead>\n",
       "  <tbody>\n",
       "    <tr>\n",
       "      <td id=\"T_090ff_row0_col0\" class=\"data row0 col0\" >30963443-6292-4839-aa2e-c8e4f4f6b2fa</td>\n",
       "      <td id=\"T_090ff_row0_col1\" class=\"data row0 col1\" >Node1</td>\n",
       "      <td id=\"T_090ff_row0_col2\" class=\"data row0 col2\" >2</td>\n",
       "      <td id=\"T_090ff_row0_col3\" class=\"data row0 col3\" >8</td>\n",
       "      <td id=\"T_090ff_row0_col4\" class=\"data row0 col4\" >10</td>\n",
       "      <td id=\"T_090ff_row0_col5\" class=\"data row0 col5\" >default_rocky_8</td>\n",
       "      <td id=\"T_090ff_row0_col6\" class=\"data row0 col6\" >qcow2</td>\n",
       "      <td id=\"T_090ff_row0_col7\" class=\"data row0 col7\" >tacc-w2.fabric-testbed.net</td>\n",
       "      <td id=\"T_090ff_row0_col8\" class=\"data row0 col8\" >TACC</td>\n",
       "      <td id=\"T_090ff_row0_col9\" class=\"data row0 col9\" >rocky</td>\n",
       "      <td id=\"T_090ff_row0_col10\" class=\"data row0 col10\" >129.114.110.100</td>\n",
       "      <td id=\"T_090ff_row0_col11\" class=\"data row0 col11\" >Active</td>\n",
       "      <td id=\"T_090ff_row0_col12\" class=\"data row0 col12\" ></td>\n",
       "      <td id=\"T_090ff_row0_col13\" class=\"data row0 col13\" >ssh -i /home/fabric/work/fabric_config/slice_key -F /home/fabric/work/fabric_config/ssh_config rocky@129.114.110.100</td>\n",
       "      <td id=\"T_090ff_row0_col14\" class=\"data row0 col14\" >/home/fabric/work/fabric_config/slice_key.pub</td>\n",
       "      <td id=\"T_090ff_row0_col15\" class=\"data row0 col15\" >/home/fabric/work/fabric_config/slice_key</td>\n",
       "    </tr>\n",
       "  </tbody>\n",
       "</table>\n"
      ],
      "text/plain": [
       "<pandas.io.formats.style.Styler at 0x7f5c280a55e0>"
      ]
     },
     "metadata": {},
     "output_type": "display_data"
    },
    {
     "data": {
      "text/html": [
       "<style type=\"text/css\">\n",
       "#T_032f0 caption {\n",
       "  text-align: center;\n",
       "  font-size: 150%;\n",
       "  caption-side: top;\n",
       "}\n",
       "#T_032f0 th {\n",
       "  text-align: left;\n",
       "}\n",
       "#T_032f0 tr:nth-child(even) {\n",
       "  background: #ffffff;\n",
       "  color: #231f20;\n",
       "}\n",
       "#T_032f0 tr:nth-child(odd) {\n",
       "  background: #dbf3ff;\n",
       "  color: #231f20;\n",
       "}\n",
       "#T_032f0 .level0 {\n",
       "  border: 1px black solid !important;\n",
       "  background: #ffffff;\n",
       "  color: #231f20;\n",
       "}\n",
       "#T_032f0_row0_col0, #T_032f0_row0_col1, #T_032f0_row0_col2, #T_032f0_row0_col3, #T_032f0_row0_col4, #T_032f0_row0_col5, #T_032f0_row0_col6 {\n",
       "  text-align: left;\n",
       "  border: 1px #231f20 solid !important;\n",
       "  overwrite: False;\n",
       "}\n",
       "#T_032f0_row0_col7 {\n",
       "  text-align: left;\n",
       "  border: 1px #231f20 solid !important;\n",
       "  overwrite: False;\n",
       "  background-color: #c3ffc4;\n",
       "}\n",
       "#T_032f0_row0_col8 {\n",
       "  text-align: left;\n",
       "  border: 1px #231f20 solid !important;\n",
       "  overwrite: False;\n",
       "  background-color: ;\n",
       "}\n",
       "</style>\n",
       "<table id=\"T_032f0\">\n",
       "  <caption>Networks</caption>\n",
       "  <thead>\n",
       "    <tr>\n",
       "      <th id=\"T_032f0_level0_col0\" class=\"col_heading level0 col0\" >ID</th>\n",
       "      <th id=\"T_032f0_level0_col1\" class=\"col_heading level0 col1\" >Name</th>\n",
       "      <th id=\"T_032f0_level0_col2\" class=\"col_heading level0 col2\" >Layer</th>\n",
       "      <th id=\"T_032f0_level0_col3\" class=\"col_heading level0 col3\" >Type</th>\n",
       "      <th id=\"T_032f0_level0_col4\" class=\"col_heading level0 col4\" >Site</th>\n",
       "      <th id=\"T_032f0_level0_col5\" class=\"col_heading level0 col5\" >Subnet</th>\n",
       "      <th id=\"T_032f0_level0_col6\" class=\"col_heading level0 col6\" >Gateway</th>\n",
       "      <th id=\"T_032f0_level0_col7\" class=\"col_heading level0 col7\" >State</th>\n",
       "      <th id=\"T_032f0_level0_col8\" class=\"col_heading level0 col8\" >Error</th>\n",
       "    </tr>\n",
       "  </thead>\n",
       "  <tbody>\n",
       "    <tr>\n",
       "      <td id=\"T_032f0_row0_col0\" class=\"data row0 col0\" >02f8d1f1-52fd-4b25-b127-7efeaf853609</td>\n",
       "      <td id=\"T_032f0_row0_col1\" class=\"data row0 col1\" >net1</td>\n",
       "      <td id=\"T_032f0_row0_col2\" class=\"data row0 col2\" >L2</td>\n",
       "      <td id=\"T_032f0_row0_col3\" class=\"data row0 col3\" >L2Bridge</td>\n",
       "      <td id=\"T_032f0_row0_col4\" class=\"data row0 col4\" >TACC</td>\n",
       "      <td id=\"T_032f0_row0_col5\" class=\"data row0 col5\" >192.168.100.0/24</td>\n",
       "      <td id=\"T_032f0_row0_col6\" class=\"data row0 col6\" >None</td>\n",
       "      <td id=\"T_032f0_row0_col7\" class=\"data row0 col7\" >Active</td>\n",
       "      <td id=\"T_032f0_row0_col8\" class=\"data row0 col8\" ></td>\n",
       "    </tr>\n",
       "  </tbody>\n",
       "</table>\n"
      ],
      "text/plain": [
       "<pandas.io.formats.style.Styler at 0x7f5c2808efd0>"
      ]
     },
     "metadata": {},
     "output_type": "display_data"
    },
    {
     "data": {
      "text/html": [
       "<style type=\"text/css\">\n",
       "#T_d6040 caption {\n",
       "  text-align: center;\n",
       "  font-size: 150%;\n",
       "  caption-side: top;\n",
       "}\n",
       "#T_d6040 th {\n",
       "  text-align: left;\n",
       "}\n",
       "#T_d6040 tr:nth-child(even) {\n",
       "  background: #ffffff;\n",
       "  color: #231f20;\n",
       "}\n",
       "#T_d6040 tr:nth-child(odd) {\n",
       "  background: #dbf3ff;\n",
       "  color: #231f20;\n",
       "}\n",
       "#T_d6040 .level0 {\n",
       "  border: 1px black solid !important;\n",
       "  background: #ffffff;\n",
       "  color: #231f20;\n",
       "}\n",
       "#T_d6040_row0_col0, #T_d6040_row0_col1, #T_d6040_row0_col2, #T_d6040_row0_col3, #T_d6040_row0_col4, #T_d6040_row0_col5, #T_d6040_row0_col6, #T_d6040_row0_col7, #T_d6040_row0_col8, #T_d6040_row0_col9, #T_d6040_row0_col10 {\n",
       "  text-align: left;\n",
       "  border: 1px #231f20 solid !important;\n",
       "  overwrite: False;\n",
       "}\n",
       "</style>\n",
       "<table id=\"T_d6040\">\n",
       "  <caption>Interfaces</caption>\n",
       "  <thead>\n",
       "    <tr>\n",
       "      <th id=\"T_d6040_level0_col0\" class=\"col_heading level0 col0\" >Name</th>\n",
       "      <th id=\"T_d6040_level0_col1\" class=\"col_heading level0 col1\" >Short Name</th>\n",
       "      <th id=\"T_d6040_level0_col2\" class=\"col_heading level0 col2\" >Node</th>\n",
       "      <th id=\"T_d6040_level0_col3\" class=\"col_heading level0 col3\" >Network</th>\n",
       "      <th id=\"T_d6040_level0_col4\" class=\"col_heading level0 col4\" >Bandwidth</th>\n",
       "      <th id=\"T_d6040_level0_col5\" class=\"col_heading level0 col5\" >Mode</th>\n",
       "      <th id=\"T_d6040_level0_col6\" class=\"col_heading level0 col6\" >VLAN</th>\n",
       "      <th id=\"T_d6040_level0_col7\" class=\"col_heading level0 col7\" >MAC</th>\n",
       "      <th id=\"T_d6040_level0_col8\" class=\"col_heading level0 col8\" >Physical Device</th>\n",
       "      <th id=\"T_d6040_level0_col9\" class=\"col_heading level0 col9\" >Device</th>\n",
       "      <th id=\"T_d6040_level0_col10\" class=\"col_heading level0 col10\" >IP Address</th>\n",
       "    </tr>\n",
       "  </thead>\n",
       "  <tbody>\n",
       "    <tr>\n",
       "      <td id=\"T_d6040_row0_col0\" class=\"data row0 col0\" >Node1-nic1-p1</td>\n",
       "      <td id=\"T_d6040_row0_col1\" class=\"data row0 col1\" >p1</td>\n",
       "      <td id=\"T_d6040_row0_col2\" class=\"data row0 col2\" >Node1</td>\n",
       "      <td id=\"T_d6040_row0_col3\" class=\"data row0 col3\" >net1</td>\n",
       "      <td id=\"T_d6040_row0_col4\" class=\"data row0 col4\" >100</td>\n",
       "      <td id=\"T_d6040_row0_col5\" class=\"data row0 col5\" >config</td>\n",
       "      <td id=\"T_d6040_row0_col6\" class=\"data row0 col6\" ></td>\n",
       "      <td id=\"T_d6040_row0_col7\" class=\"data row0 col7\" >06:09:BC:72:F3:EF</td>\n",
       "      <td id=\"T_d6040_row0_col8\" class=\"data row0 col8\" >eth1</td>\n",
       "      <td id=\"T_d6040_row0_col9\" class=\"data row0 col9\" >eth1</td>\n",
       "      <td id=\"T_d6040_row0_col10\" class=\"data row0 col10\" >192.168.100.200</td>\n",
       "    </tr>\n",
       "  </tbody>\n",
       "</table>\n"
      ],
      "text/plain": [
       "<pandas.io.formats.style.Styler at 0x7f5c2809f160>"
      ]
     },
     "metadata": {},
     "output_type": "display_data"
    },
    {
     "name": "stdout",
     "output_type": "stream",
     "text": [
      "\n",
      "Time to print interfaces 240 seconds\n"
     ]
    },
    {
     "data": {
      "text/plain": [
       "'7b290aa1-a918-4918-a51b-7e5e1240941c'"
      ]
     },
     "execution_count": 11,
     "metadata": {},
     "output_type": "execute_result"
    }
   ],
   "source": [
    "#Create a slice\n",
    "fabric_slice = fablib.new_slice(name=fabric_slice_name)\n",
    "\n",
    "# Create a FABRIC network\n",
    "net1 = fabric_slice.add_l2network(name='net1', subnet=subnet)\n",
    "\n",
    "# Add a Node\n",
    "fabric_node = fabric_slice.add_node(name='Node1', site=fabric_site)\n",
    "fabric_node_iface = fabric_node.add_component(model='NIC_Basic', name=f\"nic1\").get_interfaces()[0]\n",
    "fabric_node_iface.set_mode('config')\n",
    "net1.add_interface(fabric_node_iface)\n",
    "fabric_node_iface.set_ip_addr(fabric_available_ips.pop(0))\n",
    "    \n",
    "# Add the Facility Port\n",
    "fabric_facility_port = fabric_slice.add_facility_port(name=faciliy_port, site=fabric_site, vlan=str(network_vlan))\n",
    "fabric_facility_port_iface = fabric_facility_port.get_interfaces()[0]\n",
    "fabric_facility_port_iface.set_mode('manual')\n",
    "net1.add_interface(fabric_facility_port_iface)\n",
    "\n",
    "#Submit the Request\n",
    "fabric_slice.submit()"
   ]
  },
  {
   "cell_type": "markdown",
   "metadata": {},
   "source": [
    "## (Optional) Test the Link\n",
    "\n",
    "We can test the facility port link by pinging the Chameleon gateway IP from the FABRIC VM."
   ]
  },
  {
   "cell_type": "code",
   "execution_count": 12,
   "metadata": {
    "tags": []
   },
   "outputs": [
    {
     "name": "stdout",
     "output_type": "stream",
     "text": [
      "PING 192.168.100.1 (192.168.100.1) 56(84) bytes of data.\n",
      "64 bytes from 192.168.100.1: icmp_seq=1 ttl=64 time=1.81 ms\n",
      "64 bytes from 192.168.100.1: icmp_seq=2 ttl=64 time=0.083 ms\n",
      "64 bytes from 192.168.100.1: icmp_seq=3 ttl=64 time=0.076 ms\n",
      "64 bytes from 192.168.100.1: icmp_seq=4 ttl=64 time=0.074 ms\n",
      "64 bytes from 192.168.100.1: icmp_seq=5 ttl=64 time=0.075 ms\n",
      "\n",
      "--- 192.168.100.1 ping statistics ---\n",
      "5 packets transmitted, 5 received, 0% packet loss, time 4074ms\n",
      "rtt min/avg/max/mdev = 0.074/0.422/1.806/0.692 ms\n"
     ]
    }
   ],
   "source": [
    "try:\n",
    "    fabric_node = fabric_slice.get_node(name='Node1')     \n",
    "    fabric_node_iface = fabric_node.get_interface(network_name=f'net1') \n",
    "\n",
    "\n",
    "    stdout, stderr = fabric_node.execute(f'ping -c 5 {chameleon_gateway_ip}')\n",
    "    \n",
    "except Exception as e:\n",
    "    print(f\"Exception: {e}\")"
   ]
  },
  {
   "cell_type": "markdown",
   "metadata": {
    "pycharm": {
     "name": "#%% md\n"
    }
   },
   "source": [
    "## Start Chameleon Servers"
   ]
  },
  {
   "cell_type": "code",
   "execution_count": 13,
   "metadata": {
    "collapsed": false,
    "jupyter": {
     "outputs_hidden": false
    },
    "pycharm": {
     "name": "#%%\n"
    },
    "tags": []
   },
   "outputs": [
    {
     "name": "stdout",
     "output_type": "stream",
     "text": [
      "Waiting for server: pruth_fabric_stitch_l2_server_1\n",
      "Done!\n"
     ]
    }
   ],
   "source": [
    "#import chi.server\n",
    "\n",
    "servers = []\n",
    "\n",
    "for i in range(chameleon_server_count):\n",
    "    server_name=f\"{chameleon_server_name}_{i+1}\"\n",
    "    # Create the server\n",
    "    servers.append(chi.server.create_server(server_name, \n",
    "                                  reservation_id=chameleon_server_reservation_id, \n",
    "                                  network_name=chameleon_network_name, \n",
    "                                  image_name=chameleon_image_name,\n",
    "                                  key_name=chameleon_key_name\n",
    "                                 ))\n",
    "    \n",
    "# Wait until the server is active\n",
    "for server in servers:\n",
    "    print(f'Waiting for server: {server.name}')\n",
    "    chi.server.wait_for_active(server.id)\n",
    "print('Done!')"
   ]
  },
  {
   "cell_type": "markdown",
   "metadata": {},
   "source": [
    "## Get the Chameleon Server Fixed IPs"
   ]
  },
  {
   "cell_type": "code",
   "execution_count": 14,
   "metadata": {
    "tags": []
   },
   "outputs": [
    {
     "name": "stdout",
     "output_type": "stream",
     "text": [
      "pruth_fabric_stitch_l2_server_1: 192.168.100.113\n"
     ]
    }
   ],
   "source": [
    "#get fixed ips\n",
    "fixed_ips={}\n",
    "for i in range(chameleon_server_count):\n",
    "    server_name=f\"{chameleon_server_name}_{i+1}\"\n",
    "    server_id = get_server_id(server_name)\n",
    "    fixed_ip = get_server(server_id).interface_list()[0].to_dict()[\"fixed_ips\"][0][\"ip_address\"]\n",
    "    fixed_ips[server_name]=fixed_ip\n",
    "\n",
    "for server_name,fixed_ip in fixed_ips.items():\n",
    "    print(f'{server_name}: {fixed_ip}')"
   ]
  },
  {
   "cell_type": "markdown",
   "metadata": {},
   "source": [
    "## Test the Link by Pinging the Chameleon Nodes"
   ]
  },
  {
   "cell_type": "code",
   "execution_count": 18,
   "metadata": {
    "tags": []
   },
   "outputs": [
    {
     "name": "stdout",
     "output_type": "stream",
     "text": [
      "pruth_fabric_stitch_l2_server_1: 192.168.100.113\n",
      "PING 192.168.100.113 (192.168.100.113) 56(84) bytes of data.\n",
      "64 bytes from 192.168.100.113: icmp_seq=1 ttl=64 time=0.287 ms\n",
      "64 bytes from 192.168.100.113: icmp_seq=2 ttl=64 time=0.124 ms\n",
      "64 bytes from 192.168.100.113: icmp_seq=3 ttl=64 time=0.130 ms\n",
      "64 bytes from 192.168.100.113: icmp_seq=4 ttl=64 time=0.132 ms\n",
      "64 bytes from 192.168.100.113: icmp_seq=5 ttl=64 time=0.119 ms\n",
      "\n",
      "--- 192.168.100.113 ping statistics ---\n",
      "5 packets transmitted, 5 received, 0% packet loss, time 4095ms\n",
      "rtt min/avg/max/mdev = 0.119/0.158/0.287/0.065 ms\n"
     ]
    }
   ],
   "source": [
    "fabric_node = fabric_slice.get_node(name='Node1')     \n",
    "\n",
    "for server_name,fixed_ip in fixed_ips.items():\n",
    "    print(f'{server_name}: {fixed_ip}')\n",
    "    \n",
    "    stdout, stderr = fabric_node.execute(f'ping -c 5 {fixed_ip}')\n",
    "   "
   ]
  },
  {
   "cell_type": "markdown",
   "metadata": {
    "pycharm": {
     "name": "#%% md\n"
    }
   },
   "source": [
    "# Clean Up \n",
    "\n",
    "## Delete Chameleon Resources\n",
    "\n",
    "Delete the servers"
   ]
  },
  {
   "cell_type": "code",
   "execution_count": 19,
   "metadata": {
    "collapsed": false,
    "jupyter": {
     "outputs_hidden": false
    },
    "pycharm": {
     "name": "#%%\n"
    },
    "tags": []
   },
   "outputs": [],
   "source": [
    "for i in range(chameleon_server_count):\n",
    "    server_name=f\"{chameleon_server_name}_{i+1}\"\n",
    "    chi.server.delete_server(get_server_id(server_name))"
   ]
  },
  {
   "cell_type": "markdown",
   "metadata": {
    "pycharm": {
     "name": "#%% md\n"
    }
   },
   "source": [
    "#### De-configure Network"
   ]
  },
  {
   "cell_type": "code",
   "execution_count": 22,
   "metadata": {
    "collapsed": false,
    "jupyter": {
     "outputs_hidden": false
    },
    "pycharm": {
     "name": "#%%\n"
    },
    "tags": []
   },
   "outputs": [
    {
     "name": "stdout",
     "output_type": "stream",
     "text": [
      "detach_router_by_name error: Router 94a896d8-1c32-4968-9178-c345b0ef326b could not be found\n",
      "Neutron server returns request_ids: ['req-03cd0f6c-5985-4fa7-8b24-45103a4cc61f']\n",
      "delete_router_by_name error: Router 94a896d8-1c32-4968-9178-c345b0ef326b could not be found\n",
      "Neutron server returns request_ids: ['req-82533ace-514b-4f9d-8c00-210ea02fec24']\n",
      "delete_network_by_name error: name 'network_id' is not defined\n"
     ]
    }
   ],
   "source": [
    "router_id = chameleon_router['id']\n",
    "subnet_id = chameleon_subnet['id']\n",
    "\n",
    "try:\n",
    "    result = chi.network.remove_subnet_from_router(router_id, subnet_id)\n",
    "except Exception as e:\n",
    "    print(f\"detach_router_by_name error: {str(e)}\")\n",
    "    pass\n",
    "\n",
    "try:\n",
    "    result = chi.network.delete_router(router_id)\n",
    "except Exception as e:\n",
    "    print(f\"delete_router_by_name error: {str(e)}\")\n",
    "    pass\n",
    "\n",
    "try:\n",
    "    result = chi.network.delete_subnet(subnet_id)\n",
    "except Exception as e:\n",
    "    print(f\"delete_subnet_by_name error: {str(e)}\")\n",
    "    pass\n",
    "\n",
    "try:\n",
    "    result = chi.network.delete_network(network_id)\n",
    "except Exception as e:\n",
    "    print(f\"delete_network_by_name error: {str(e)}\")\n",
    "    pass"
   ]
  },
  {
   "cell_type": "markdown",
   "metadata": {
    "pycharm": {
     "name": "#%% md\n"
    }
   },
   "source": [
    "## Release Lease"
   ]
  },
  {
   "cell_type": "code",
   "execution_count": 23,
   "metadata": {
    "collapsed": false,
    "jupyter": {
     "outputs_hidden": false
    },
    "pycharm": {
     "name": "#%%\n"
    },
    "tags": []
   },
   "outputs": [
    {
     "ename": "BlazarClientException",
     "evalue": "ERROR: Invalid lease status.",
     "output_type": "error",
     "traceback": [
      "\u001b[0;31m---------------------------------------------------------------------------\u001b[0m",
      "\u001b[0;31mBlazarClientException\u001b[0m                     Traceback (most recent call last)",
      "Cell \u001b[0;32mIn[23], line 1\u001b[0m\n\u001b[0;32m----> 1\u001b[0m \u001b[43mchi\u001b[49m\u001b[38;5;241;43m.\u001b[39;49m\u001b[43mlease\u001b[49m\u001b[38;5;241;43m.\u001b[39;49m\u001b[43mdelete_lease\u001b[49m\u001b[43m(\u001b[49m\u001b[43mchameleon_lease\u001b[49m\u001b[43m[\u001b[49m\u001b[38;5;124;43m'\u001b[39;49m\u001b[38;5;124;43mid\u001b[39;49m\u001b[38;5;124;43m'\u001b[39;49m\u001b[43m]\u001b[49m\u001b[43m)\u001b[49m\n",
      "File \u001b[0;32m/usr/local/lib/python3.9/site-packages/chi/lease.py:815\u001b[0m, in \u001b[0;36mdelete_lease\u001b[0;34m(ref)\u001b[0m\n\u001b[1;32m    813\u001b[0m lease \u001b[38;5;241m=\u001b[39m get_lease(ref)\n\u001b[1;32m    814\u001b[0m lease_id \u001b[38;5;241m=\u001b[39m lease[\u001b[38;5;124m\"\u001b[39m\u001b[38;5;124mid\u001b[39m\u001b[38;5;124m\"\u001b[39m]\n\u001b[0;32m--> 815\u001b[0m \u001b[43mblazar\u001b[49m\u001b[43m(\u001b[49m\u001b[43m)\u001b[49m\u001b[38;5;241;43m.\u001b[39;49m\u001b[43mlease\u001b[49m\u001b[38;5;241;43m.\u001b[39;49m\u001b[43mdelete\u001b[49m\u001b[43m(\u001b[49m\u001b[43mlease_id\u001b[49m\u001b[43m)\u001b[49m\n\u001b[1;32m    816\u001b[0m \u001b[38;5;28mprint\u001b[39m(\u001b[38;5;124mf\u001b[39m\u001b[38;5;124m\"\u001b[39m\u001b[38;5;124mDeleted lease with id \u001b[39m\u001b[38;5;132;01m{\u001b[39;00mlease_id\u001b[38;5;132;01m}\u001b[39;00m\u001b[38;5;124m\"\u001b[39m)\n",
      "File \u001b[0;32m/usr/local/lib/python3.9/site-packages/blazarclient/v1/leases.py:87\u001b[0m, in \u001b[0;36mLeaseClientManager.delete\u001b[0;34m(self, lease_id)\u001b[0m\n\u001b[1;32m     85\u001b[0m \u001b[38;5;28;01mdef\u001b[39;00m \u001b[38;5;21mdelete\u001b[39m(\u001b[38;5;28mself\u001b[39m, lease_id):\n\u001b[1;32m     86\u001b[0m \u001b[38;5;250m    \u001b[39m\u001b[38;5;124;03m\"\"\"Deletes lease with specified ID.\"\"\"\u001b[39;00m\n\u001b[0;32m---> 87\u001b[0m     resp, body \u001b[38;5;241m=\u001b[39m \u001b[38;5;28;43mself\u001b[39;49m\u001b[38;5;241;43m.\u001b[39;49m\u001b[43mrequest_manager\u001b[49m\u001b[38;5;241;43m.\u001b[39;49m\u001b[43mdelete\u001b[49m\u001b[43m(\u001b[49m\u001b[38;5;124;43m'\u001b[39;49m\u001b[38;5;124;43m/leases/\u001b[39;49m\u001b[38;5;132;43;01m%s\u001b[39;49;00m\u001b[38;5;124;43m'\u001b[39;49m\u001b[43m \u001b[49m\u001b[38;5;241;43m%\u001b[39;49m\u001b[43m \u001b[49m\u001b[43mlease_id\u001b[49m\u001b[43m)\u001b[49m\n",
      "File \u001b[0;32m/usr/local/lib/python3.9/site-packages/keystoneauth1/adapter.py:410\u001b[0m, in \u001b[0;36mAdapter.delete\u001b[0;34m(self, url, **kwargs)\u001b[0m\n\u001b[1;32m    409\u001b[0m \u001b[38;5;28;01mdef\u001b[39;00m \u001b[38;5;21mdelete\u001b[39m(\u001b[38;5;28mself\u001b[39m, url, \u001b[38;5;241m*\u001b[39m\u001b[38;5;241m*\u001b[39mkwargs):\n\u001b[0;32m--> 410\u001b[0m     \u001b[38;5;28;01mreturn\u001b[39;00m \u001b[38;5;28;43mself\u001b[39;49m\u001b[38;5;241;43m.\u001b[39;49m\u001b[43mrequest\u001b[49m\u001b[43m(\u001b[49m\u001b[43murl\u001b[49m\u001b[43m,\u001b[49m\u001b[43m \u001b[49m\u001b[38;5;124;43m'\u001b[39;49m\u001b[38;5;124;43mDELETE\u001b[39;49m\u001b[38;5;124;43m'\u001b[39;49m\u001b[43m,\u001b[49m\u001b[43m \u001b[49m\u001b[38;5;241;43m*\u001b[39;49m\u001b[38;5;241;43m*\u001b[39;49m\u001b[43mkwargs\u001b[49m\u001b[43m)\u001b[49m\n",
      "File \u001b[0;32m/usr/local/lib/python3.9/site-packages/blazarclient/base.py:135\u001b[0m, in \u001b[0;36mSessionClient.request\u001b[0;34m(self, url, method, **kwargs)\u001b[0m\n\u001b[1;32m    132\u001b[0m         error_message \u001b[38;5;241m=\u001b[39m resp\u001b[38;5;241m.\u001b[39mtext\n\u001b[1;32m    134\u001b[0m     msg \u001b[38;5;241m=\u001b[39m _(\u001b[38;5;124m\"\u001b[39m\u001b[38;5;124mERROR: \u001b[39m\u001b[38;5;132;01m{0}\u001b[39;00m\u001b[38;5;124m\"\u001b[39m)\u001b[38;5;241m.\u001b[39mformat(error_message)\n\u001b[0;32m--> 135\u001b[0m     \u001b[38;5;28;01mraise\u001b[39;00m exception\u001b[38;5;241m.\u001b[39mBlazarClientException(msg, code\u001b[38;5;241m=\u001b[39mresp\u001b[38;5;241m.\u001b[39mstatus_code)\n\u001b[1;32m    137\u001b[0m \u001b[38;5;28;01mreturn\u001b[39;00m resp, body\n",
      "\u001b[0;31mBlazarClientException\u001b[0m: ERROR: Invalid lease status."
     ]
    }
   ],
   "source": [
    "chi.lease.delete_lease(chameleon_lease['id'])"
   ]
  },
  {
   "cell_type": "markdown",
   "metadata": {},
   "source": [
    "## Delete FABRIC Slice"
   ]
  },
  {
   "cell_type": "code",
   "execution_count": 24,
   "metadata": {
    "tags": []
   },
   "outputs": [],
   "source": [
    "try:\n",
    "    fabric_slice.delete()\n",
    "except Exception as e:\n",
    "    print(f\"Exception: {e}\")"
   ]
  },
  {
   "cell_type": "code",
   "execution_count": null,
   "metadata": {},
   "outputs": [],
   "source": []
  }
 ],
 "metadata": {
  "kernelspec": {
   "display_name": "Python 3 (ipykernel)",
   "language": "python",
   "name": "python3"
  },
  "language_info": {
   "codemirror_mode": {
    "name": "ipython",
    "version": 3
   },
   "file_extension": ".py",
   "mimetype": "text/x-python",
   "name": "python",
   "nbconvert_exporter": "python",
   "pygments_lexer": "ipython3",
   "version": "3.9.13"
  }
 },
 "nbformat": 4,
 "nbformat_minor": 4
}
