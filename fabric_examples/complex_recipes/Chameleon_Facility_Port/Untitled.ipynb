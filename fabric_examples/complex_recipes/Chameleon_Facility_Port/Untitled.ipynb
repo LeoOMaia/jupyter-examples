{
 "cells": [
  {
   "cell_type": "code",
   "execution_count": null,
   "id": "04636ce1-cefa-4ec5-9910-fc10489c228b",
   "metadata": {},
   "outputs": [],
   "source": [
    "#Network Config\n",
    "subnet = IPv4Network(\"192.168.100.0/24\")\n",
    "\n",
    "fabric_allocation_pool_start=IPv4Address('192.168.100.200')\n",
    "fabric_allocation_pool_end=IPv4Address('192.168.100.250')\n",
    "fabric_available_ips=[]\n",
    "for ip_int in range(int(fabric_allocation_pool_start),int(fabric_allocation_pool_end)+1):\n",
    "    fabric_available_ips.append(IPv4Address(ip_int))\n",
    "    \n",
    "chameleon_allocation_pool_start='192.168.100.100'\n",
    "chameleon_allocation_pool_end='192.168.100.150'\n",
    "chameleon_gateway_ip='192.168.100.1'"
   ]
  }
 ],
 "metadata": {
  "kernelspec": {
   "display_name": "Python 3 (ipykernel)",
   "language": "python",
   "name": "python3"
  },
  "language_info": {
   "codemirror_mode": {
    "name": "ipython",
    "version": 3
   },
   "file_extension": ".py",
   "mimetype": "text/x-python",
   "name": "python",
   "nbconvert_exporter": "python",
   "pygments_lexer": "ipython3",
   "version": "3.9.13"
  }
 },
 "nbformat": 4,
 "nbformat_minor": 5
}
