{
 "cells": [
  {
   "cell_type": "markdown",
   "metadata": {},
   "source": [
    "# Routing Topology: OSPF using FRRouting\n",
    "\n",
    "This notebook is an example of how to create a FABRIC routing experiment topology comprising nodes at three different sites. Each site has a local layer 2 (Ethernet) network connecting a set of local nodes and one gateway router. The three gateway routers connect to each other and use the [FRRouting](https://frrouting.org/) protocol suite to deploy [OSPF](https://en.wikipedia.org/wiki/Open_Shortest_Path_First) dameons to propagate route updates across the topology.\n",
    "\n",
    "You might be familiar with the [Quagga](https://www.quagga.net/) router suite.  FRRouting is based on Quagga but has a more active upstream community including many large companies working on cloud networking.\n"
   ]
  },
  {
   "cell_type": "markdown",
   "metadata": {},
   "source": [
    "## Import the FABlib Library\n"
   ]
  },
  {
   "cell_type": "code",
   "execution_count": 1,
   "metadata": {},
   "outputs": [
    {
     "data": {
      "text/html": [
       "<style type=\"text/css\">\n",
       "#T_4c197 tr:nth-child(even) {\n",
       "  background: #dbf3ff;\n",
       "  color: #231f20;\n",
       "}\n",
       "#T_4c197 tr:nth-child(odd) {\n",
       "  background: #ffffff;\n",
       "  color: #231f20;\n",
       "}\n",
       "#T_4c197 caption {\n",
       "  text-align: center;\n",
       "  font-size: 150%;\n",
       "}\n",
       "#T_4c197_row0_col0, #T_4c197_row0_col1, #T_4c197_row1_col0, #T_4c197_row1_col1, #T_4c197_row2_col0, #T_4c197_row2_col1, #T_4c197_row3_col0, #T_4c197_row3_col1, #T_4c197_row4_col0, #T_4c197_row4_col1, #T_4c197_row5_col0, #T_4c197_row5_col1, #T_4c197_row6_col0, #T_4c197_row6_col1, #T_4c197_row7_col0, #T_4c197_row7_col1, #T_4c197_row8_col0, #T_4c197_row8_col1, #T_4c197_row9_col0, #T_4c197_row9_col1, #T_4c197_row10_col0, #T_4c197_row10_col1, #T_4c197_row11_col0, #T_4c197_row11_col1, #T_4c197_row12_col0, #T_4c197_row12_col1 {\n",
       "  text-align: left;\n",
       "  border: 1px #231f20 solid !important;\n",
       "  overwrite: False;\n",
       "}\n",
       "</style>\n",
       "<table id=\"T_4c197\">\n",
       "  <caption>FABlib Config</caption>\n",
       "  <thead>\n",
       "  </thead>\n",
       "  <tbody>\n",
       "    <tr>\n",
       "      <td id=\"T_4c197_row0_col0\" class=\"data row0 col0\" >Credential Manager</td>\n",
       "      <td id=\"T_4c197_row0_col1\" class=\"data row0 col1\" >cm.fabric-testbed.net</td>\n",
       "    </tr>\n",
       "    <tr>\n",
       "      <td id=\"T_4c197_row1_col0\" class=\"data row1 col0\" >Orchestrator</td>\n",
       "      <td id=\"T_4c197_row1_col1\" class=\"data row1 col1\" >orchestrator.fabric-testbed.net</td>\n",
       "    </tr>\n",
       "    <tr>\n",
       "      <td id=\"T_4c197_row2_col0\" class=\"data row2 col0\" >Token File</td>\n",
       "      <td id=\"T_4c197_row2_col1\" class=\"data row2 col1\" >/home/fabric/work/fabric_config/tokens.json</td>\n",
       "    </tr>\n",
       "    <tr>\n",
       "      <td id=\"T_4c197_row3_col0\" class=\"data row3 col0\" >Project ID</td>\n",
       "      <td id=\"T_4c197_row3_col1\" class=\"data row3 col1\" >990d8a8b-7e50-4d13-a3be-0f133ffa8653</td>\n",
       "    </tr>\n",
       "    <tr>\n",
       "      <td id=\"T_4c197_row4_col0\" class=\"data row4 col0\" >Bastion Username</td>\n",
       "      <td id=\"T_4c197_row4_col1\" class=\"data row4 col1\" >pruth_0031379841</td>\n",
       "    </tr>\n",
       "    <tr>\n",
       "      <td id=\"T_4c197_row5_col0\" class=\"data row5 col0\" >Bastion Private Key File</td>\n",
       "      <td id=\"T_4c197_row5_col1\" class=\"data row5 col1\" >/home/fabric/work/fabric_config/fabric_bastion_key</td>\n",
       "    </tr>\n",
       "    <tr>\n",
       "      <td id=\"T_4c197_row6_col0\" class=\"data row6 col0\" >Bastion Host</td>\n",
       "      <td id=\"T_4c197_row6_col1\" class=\"data row6 col1\" >bastion.fabric-testbed.net</td>\n",
       "    </tr>\n",
       "    <tr>\n",
       "      <td id=\"T_4c197_row7_col0\" class=\"data row7 col0\" >Bastion Private Key Passphrase</td>\n",
       "      <td id=\"T_4c197_row7_col1\" class=\"data row7 col1\" >None</td>\n",
       "    </tr>\n",
       "    <tr>\n",
       "      <td id=\"T_4c197_row8_col0\" class=\"data row8 col0\" >Slice Public Key File</td>\n",
       "      <td id=\"T_4c197_row8_col1\" class=\"data row8 col1\" >/home/fabric/work/fabric_config/slice_key.pub</td>\n",
       "    </tr>\n",
       "    <tr>\n",
       "      <td id=\"T_4c197_row9_col0\" class=\"data row9 col0\" >Slice Private Key File</td>\n",
       "      <td id=\"T_4c197_row9_col1\" class=\"data row9 col1\" >/home/fabric/work/fabric_config/slice_key</td>\n",
       "    </tr>\n",
       "    <tr>\n",
       "      <td id=\"T_4c197_row10_col0\" class=\"data row10 col0\" >Slice Private Key Passphrase</td>\n",
       "      <td id=\"T_4c197_row10_col1\" class=\"data row10 col1\" >None</td>\n",
       "    </tr>\n",
       "    <tr>\n",
       "      <td id=\"T_4c197_row11_col0\" class=\"data row11 col0\" >Log File</td>\n",
       "      <td id=\"T_4c197_row11_col1\" class=\"data row11 col1\" >/home/fabric/work/logs/fablib.log</td>\n",
       "    </tr>\n",
       "    <tr>\n",
       "      <td id=\"T_4c197_row12_col0\" class=\"data row12 col0\" >Log Level</td>\n",
       "      <td id=\"T_4c197_row12_col1\" class=\"data row12 col1\" >DEBUG</td>\n",
       "    </tr>\n",
       "  </tbody>\n",
       "</table>\n"
      ],
      "text/plain": [
       "<pandas.io.formats.style.Styler at 0x7f229241bb20>"
      ]
     },
     "metadata": {},
     "output_type": "display_data"
    }
   ],
   "source": [
    "from ipaddress import ip_address, IPv4Address, IPv6Address, IPv4Network, IPv6Network\n",
    "import ipaddress\n",
    "\n",
    "from fabrictestbed_extensions.fablib.fablib import FablibManager as fablib_manager\n",
    "\n",
    "fablib = fablib_manager()\n",
    "                     \n",
    "fablib.show_config();\n"
   ]
  },
  {
   "cell_type": "markdown",
   "metadata": {},
   "source": [
    "## Create the Experiment Slice\n",
    "\n",
    "The following creates private layer 2 networks on three sites including OSPF gateway routers that propagate routes across the topology. \n"
   ]
  },
  {
   "cell_type": "code",
   "execution_count": 2,
   "metadata": {},
   "outputs": [
    {
     "name": "stdout",
     "output_type": "stream",
     "text": [
      "Sites: ['GPN', 'FIU', 'MASS', 'MICH']\n"
     ]
    }
   ],
   "source": [
    "slice_name = 'OSPF_Routing_Topology2'\n",
    "\n",
    "sites= fablib.get_random_sites(count=4)\n",
    "print(f\"Sites: {sites}\")\n",
    "\n",
    "router_base_name='router'\n",
    "router_link_base_name='router_link'\n",
    "\n",
    "node_base_name='node'\n",
    "local_network_base_name='net_local'\n",
    "\n",
    "site_node_count=2\n",
    "\n"
   ]
  },
  {
   "cell_type": "code",
   "execution_count": 6,
   "metadata": {
    "tags": []
   },
   "outputs": [
    {
     "ename": "AttributeError",
     "evalue": "'str' object has no attribute 'network_address'",
     "output_type": "error",
     "traceback": [
      "\u001b[0;31m---------------------------------------------------------------------------\u001b[0m",
      "\u001b[0;31mAttributeError\u001b[0m                            Traceback (most recent call last)",
      "Cell \u001b[0;32mIn[6], line 18\u001b[0m\n\u001b[1;32m     16\u001b[0m router_info[\u001b[38;5;124m'\u001b[39m\u001b[38;5;124mlocal_net\u001b[39m\u001b[38;5;124m'\u001b[39m] \u001b[38;5;241m=\u001b[39m \u001b[38;5;28mslice\u001b[39m\u001b[38;5;241m.\u001b[39madd_l2network(name\u001b[38;5;241m=\u001b[39m\u001b[38;5;124mf\u001b[39m\u001b[38;5;124m'\u001b[39m\u001b[38;5;132;01m{\u001b[39;00mlocal_network_base_name\u001b[38;5;132;01m}\u001b[39;00m\u001b[38;5;132;01m{\u001b[39;00mi\u001b[38;5;241m+\u001b[39m\u001b[38;5;241m1\u001b[39m\u001b[38;5;132;01m}\u001b[39;00m\u001b[38;5;124m'\u001b[39m, subnet\u001b[38;5;241m=\u001b[39mlocal_subnet, gateway\u001b[38;5;241m=\u001b[39mlocal_gateway)\n\u001b[1;32m     17\u001b[0m router_info[\u001b[38;5;124m'\u001b[39m\u001b[38;5;124mlocal_net\u001b[39m\u001b[38;5;124m'\u001b[39m]\u001b[38;5;241m.\u001b[39madd_interface(router_info[\u001b[38;5;124m'\u001b[39m\u001b[38;5;124mlink_iface_local\u001b[39m\u001b[38;5;124m'\u001b[39m])\n\u001b[0;32m---> 18\u001b[0m \u001b[43mrouter_info\u001b[49m\u001b[43m[\u001b[49m\u001b[38;5;124;43m'\u001b[39;49m\u001b[38;5;124;43mlink_iface_local\u001b[39;49m\u001b[38;5;124;43m'\u001b[39;49m\u001b[43m]\u001b[49m\u001b[38;5;241;43m.\u001b[39;49m\u001b[43mset_ip_addr\u001b[49m\u001b[43m(\u001b[49m\u001b[43mlocal_gateway\u001b[49m\u001b[43m)\u001b[49m\n\u001b[1;32m     20\u001b[0m router\u001b[38;5;241m.\u001b[39menable_docker()\n\u001b[1;32m     22\u001b[0m routers\u001b[38;5;241m.\u001b[39mappend(router_info)\n",
      "File \u001b[0;32m~/.local/lib/python3.9/site-packages/fabrictestbed_extensions/fablib/interface.py:732\u001b[0m, in \u001b[0;36mInterface.set_ip_addr\u001b[0;34m(self, addr, mode)\u001b[0m\n\u001b[1;32m    730\u001b[0m mode \u001b[38;5;241m=\u001b[39m fablib_data[\u001b[38;5;124m'\u001b[39m\u001b[38;5;124mmode\u001b[39m\u001b[38;5;124m'\u001b[39m]\n\u001b[1;32m    731\u001b[0m \u001b[38;5;28;01mif\u001b[39;00m addr:\n\u001b[0;32m--> 732\u001b[0m     fablib_data[\u001b[38;5;124m'\u001b[39m\u001b[38;5;124maddr\u001b[39m\u001b[38;5;124m'\u001b[39m] \u001b[38;5;241m=\u001b[39m \u001b[38;5;28mstr\u001b[39m(\u001b[38;5;28;43mself\u001b[39;49m\u001b[38;5;241;43m.\u001b[39;49m\u001b[43mget_network\u001b[49m\u001b[43m(\u001b[49m\u001b[43m)\u001b[49m\u001b[38;5;241;43m.\u001b[39;49m\u001b[43mallocate_ip\u001b[49m\u001b[43m(\u001b[49m\u001b[43maddr\u001b[49m\u001b[43m)\u001b[49m)\n\u001b[1;32m    733\u001b[0m \u001b[38;5;28;01melif\u001b[39;00m mode \u001b[38;5;241m==\u001b[39m \u001b[38;5;124m'\u001b[39m\u001b[38;5;124mauto\u001b[39m\u001b[38;5;124m'\u001b[39m:\n\u001b[1;32m    734\u001b[0m     \u001b[38;5;28;01mif\u001b[39;00m \u001b[38;5;28mself\u001b[39m\u001b[38;5;241m.\u001b[39mget_network():\n",
      "File \u001b[0;32m~/.local/lib/python3.9/site-packages/fabrictestbed_extensions/fablib/network_service.py:1007\u001b[0m, in \u001b[0;36mNetworkService.allocate_ip\u001b[0;34m(self, addr)\u001b[0m\n\u001b[1;32m   1004\u001b[0m allocated_ips \u001b[38;5;241m=\u001b[39m \u001b[38;5;28mself\u001b[39m\u001b[38;5;241m.\u001b[39mget_allocated_ips()\n\u001b[1;32m   1006\u001b[0m \u001b[38;5;28;01mif\u001b[39;00m addr:\n\u001b[0;32m-> 1007\u001b[0m     \u001b[38;5;28;01mif\u001b[39;00m addr \u001b[38;5;241m!=\u001b[39m \u001b[43msubnet\u001b[49m\u001b[38;5;241;43m.\u001b[39;49m\u001b[43mnetwork_address\u001b[49m \u001b[38;5;129;01mand\u001b[39;00m addr \u001b[38;5;129;01mnot\u001b[39;00m \u001b[38;5;129;01min\u001b[39;00m allocated_ips:\n\u001b[1;32m   1008\u001b[0m         \u001b[38;5;28mself\u001b[39m\u001b[38;5;241m.\u001b[39mset_allocated_ip(addr)\n\u001b[1;32m   1009\u001b[0m         \u001b[38;5;28;01mreturn\u001b[39;00m addr\n",
      "\u001b[0;31mAttributeError\u001b[0m: 'str' object has no attribute 'network_address'"
     ]
    }
   ],
   "source": [
    "\n",
    "slice = fablib.new_slice(name=slice_name)\n",
    "\n",
    "# Create Routers\n",
    "routers = []\n",
    "for i, site in enumerate(sites):\n",
    "    router_info = {}\n",
    "    router_info['name'] = f\"{router_base_name}{i+1}\"\n",
    "    local_subnet = IPv4Network(f\"192.168.{i+1}.0/24\")\n",
    "    local_gateway = IPv4Address(f\"192.168.{i+1}.1\")\n",
    "\n",
    "    router_info['node'] = router = slice.add_node(name=router_info['name'], site=site)\n",
    "    router_info['link_iface_local'] = router.add_component(model='NIC_Basic', name='nic_local').get_interfaces()[0]\n",
    "    router_info['link_iface_local'].set_mode('fablib')\n",
    "\n",
    "    \n",
    "    router_info['local_net'] = slice.add_l2network(name=f'{local_network_base_name}{i+1}', subnet=local_subnet, gateway=local_gateway)\n",
    "    router_info['local_net'].add_interface(router_info['link_iface_local'])\n",
    "    router_info['link_iface_local'].set_ip_addr(local_gateway)\n",
    "\n",
    "    router.enable_docker()\n",
    "    \n",
    "    routers.append(router_info)\n",
    "\n",
    "# Create Links between routers (ring)\n",
    "links = []\n",
    "for i, site in enumerate(sites):\n",
    "    link_info = {}\n",
    "    link_info['name'] = f'{router_link_base_name}{i+1}'\n",
    "    link_subnet = IPv4Network(f\"192.168.10{i+1}.0/24\")\n",
    "\n",
    "    router1 = routers[i]\n",
    "    router2 = routers[(i+1)%len(sites)]\n",
    "\n",
    "    iface1 = router1['node'].add_component(model='NIC_Basic', name=link_info['name']).get_interfaces()[0]\n",
    "    iface2 = router2['node'].add_component(model='NIC_Basic', name=link_info['name']).get_interfaces()[0]\n",
    "    \n",
    "    iface1.set_mode('auto')\n",
    "    iface2.set_mode('auto')\n",
    "    \n",
    "    link = slice.add_l2network(name=link_info['name'], \n",
    "                               subnet=IPv4Network(f\"192.168.10{i+1}.0/24\"),\n",
    "                               interfaces=[iface1,iface2] \n",
    "                              )\n",
    "    links.append(link)\n",
    "    \n",
    "slice_id = slice.submit()\n"
   ]
  },
  {
   "cell_type": "markdown",
   "metadata": {
    "tags": []
   },
   "source": [
    "## Observe the Slice's Attributes\n"
   ]
  },
  {
   "cell_type": "code",
   "execution_count": null,
   "metadata": {},
   "outputs": [],
   "source": [
    "try:\n",
    "    slice = fablib.get_slice(name=slice_name)\n",
    "    slice.show()\n",
    "    slice.list_nodes()\n",
    "    slice.list_networks()\n",
    "    slice.list_interfaces()\n",
    "except Exception as e:\n",
    "    print(f\"Exception: {e}\")"
   ]
  },
  {
   "cell_type": "markdown",
   "metadata": {},
   "source": [
    "Pick the subnet for the local networks.  The /24 subnets can support up to 254 locally connected nodes plus the gateway. \n"
   ]
  },
  {
   "cell_type": "code",
   "execution_count": null,
   "metadata": {},
   "outputs": [],
   "source": [
    "try:\n",
    "    # Local Subnets\n",
    "    net_local1_subnet = IPv4Network(\"192.168.1.0/24\")\n",
    "    net_local1_available_ips = list(net_local1_subnet)[1:]\n",
    "    net_local1_gateway = net_local1_available_ips.pop(0)\n",
    "        \n",
    "    net_local2_subnet = IPv4Network(\"192.168.2.0/24\")\n",
    "    net_local2_available_ips = list(net_local2_subnet)[1:]\n",
    "    net_local2_gateway = net_local2_available_ips.pop(0)\n",
    "\n",
    "\n",
    "    net_local3_subnet = IPv4Network(\"192.168.3.0/24\")\n",
    "    net_local3_available_ips = list(net_local3_subnet)[1:]\n",
    "    net_local3_gateway = net_local3_available_ips.pop(0)\n",
    "\n",
    "    print(f\"Site1: subnet: {net_local1_subnet}, gateway: {net_local1_gateway}\")\n",
    "    print(f\"Site2: subnet: {net_local2_subnet}, gateway: {net_local2_gateway}\")\n",
    "    print(f\"Site3: subnet: {net_local3_subnet}, gateway: {net_local3_gateway}\")\n",
    "\n",
    "except Exception as e:\n",
    "    print(f\"Exception: {e}\")"
   ]
  },
  {
   "cell_type": "markdown",
   "metadata": {
    "tags": []
   },
   "source": [
    "### Configure Router IPs\n",
    "\n",
    "Add the IPs to the corrisponing interfaces."
   ]
  },
  {
   "cell_type": "code",
   "execution_count": null,
   "metadata": {},
   "outputs": [],
   "source": [
    "try:\n",
    "    # Config Router1 IPs\n",
    "    router1 = slice.get_node(name=router1_name)  \n",
    "    router1_iface1 = router1.get_interface(network_name=route_link1_name)  \n",
    "    router1_iface2 = router1.get_interface(network_name=route_link3_name)  \n",
    "    router1_local_iface = router1.get_interface(network_name=site1_local_net_name)     \n",
    "    router1_iface1.ip_addr_add(addr=route_link1_addr1, subnet=route_link1_subnet)\n",
    "    router1_iface2.ip_addr_add(addr=route_link3_addr2, subnet=route_link3_subnet)\n",
    "    router1_local_iface.ip_addr_add(addr=net_local1_gateway, subnet=net_local1_subnet)\n",
    "    \n",
    "    # Config Router2 IPs\n",
    "    router2 = slice.get_node(name=router2_name)  \n",
    "    router2_iface1 = router2.get_interface(network_name=route_link2_name)  \n",
    "    router2_iface2 = router2.get_interface(network_name=route_link1_name)  \n",
    "    router2_local_iface = router2.get_interface(network_name=site2_local_net_name)     \n",
    "    router2_iface1.ip_addr_add(addr=route_link2_addr1, subnet=route_link2_subnet)\n",
    "    router2_iface2.ip_addr_add(addr=route_link1_addr2, subnet=route_link1_subnet)\n",
    "    router2_local_iface.ip_addr_add(addr=net_local2_gateway, subnet=net_local2_subnet)\n",
    "    \n",
    "    # Config Router3 IPs\n",
    "    router3 = slice.get_node(name=router3_name) \n",
    "    router3_iface1 = router3.get_interface(network_name=route_link3_name)  \n",
    "    router3_iface2 = router3.get_interface(network_name=route_link2_name)  \n",
    "    router3_local_iface = router3.get_interface(network_name=site3_local_net_name)     \n",
    "    router3_iface1.ip_addr_add(addr=route_link3_addr1, subnet=route_link3_subnet)\n",
    "    router3_iface2.ip_addr_add(addr=route_link2_addr2, subnet=route_link2_subnet)\n",
    "    router3_local_iface.ip_addr_add(addr=net_local3_gateway, subnet=net_local3_subnet)\n",
    "except Exception as e:\n",
    "    print(f\"Exception: {e}\")\n",
    "    traceback.print_exc()\n",
    "    "
   ]
  },
  {
   "cell_type": "markdown",
   "metadata": {},
   "source": [
    "(Optional) Print the network interface configuration for each router."
   ]
  },
  {
   "cell_type": "code",
   "execution_count": null,
   "metadata": {},
   "outputs": [],
   "source": [
    "try:\n",
    "    for router in [router1, router2, router3]:\n",
    "        print(f'{router.get_name()}:')\n",
    "        stdout, stderr = router.execute(f'ip addr list')\n",
    "except Exception as e:\n",
    "    print(f\"Exception: {e}\")\n",
    "    traceback.print_exc()"
   ]
  },
  {
   "cell_type": "markdown",
   "metadata": {},
   "source": [
    "### Configure Local Node IPs\n",
    "\n",
    "Configure the local nodes with addresses from the local subnet available address list. Add routes to the other local subnets via the local gateway.  \n",
    "\n",
    "Add the router link subnets if you want to access the routers (i.e. if you want to `ping` the routers or find paths with `tracepath`)\n",
    "\n",
    "Collect a list of local dataplane IPs to target for testing"
   ]
  },
  {
   "cell_type": "code",
   "execution_count": null,
   "metadata": {},
   "outputs": [],
   "source": [
    "local_dataplane_ips = {}"
   ]
  },
  {
   "cell_type": "code",
   "execution_count": null,
   "metadata": {},
   "outputs": [],
   "source": [
    "try:    \n",
    "    #Create Site1 Nodes\n",
    "    for i in range(site_node_count):\n",
    "        name=f'{node_base_name}_site1_{i+1}'\n",
    "        node = slice.get_node(name=name)\n",
    "        node_addr = net_local1_available_ips.pop(0)\n",
    "        node_iface = node.get_interface(network_name=site1_local_net_name)  \n",
    "        node_iface.ip_addr_add(addr=node_addr, subnet=net_local1_subnet)\n",
    "        \n",
    "        #Add routes to other local subnets\n",
    "        node.ip_route_add(subnet=net_local2_subnet, gateway=net_local1_gateway)\n",
    "        node.ip_route_add(subnet=net_local3_subnet, gateway=net_local1_gateway)\n",
    "        \n",
    "        #Add routes to router subnets (used for tracepath and pinging router interfaces)\n",
    "        node.ip_route_add(subnet=route_link1_subnet, gateway=net_local1_gateway)\n",
    "        node.ip_route_add(subnet=route_link2_subnet, gateway=net_local1_gateway)\n",
    "        node.ip_route_add(subnet=route_link3_subnet, gateway=net_local1_gateway)\n",
    "        \n",
    "        #Collect dataplane IP for testing\n",
    "        local_dataplane_ips[name] = node_addr\n",
    "        \n",
    "        print(f\"Node {name} dataplane IP: {node_addr}\")    \n",
    "        stdout, stderr = node.execute(f'ip addr show {node_iface.get_os_interface()}')\n",
    "except Exception as e:\n",
    "    print(f\"Exception: {e}\")\n",
    "    "
   ]
  },
  {
   "cell_type": "code",
   "execution_count": null,
   "metadata": {},
   "outputs": [],
   "source": [
    "try:\n",
    "    #Create Site2 Nodes\n",
    "    for i in range(site_node_count):\n",
    "        name=f'{node_base_name}_site2_{i+1}'\n",
    "        node = slice.get_node(name=name)\n",
    "        node_addr = net_local2_available_ips.pop(0)\n",
    "        node_iface = node.get_interface(network_name=site2_local_net_name)  \n",
    "        node_iface.ip_addr_add(addr=node_addr, subnet=net_local2_subnet)\n",
    "        \n",
    "        #Add routes to other local subnets\n",
    "        node.ip_route_add(subnet=net_local1_subnet, gateway=net_local2_gateway)\n",
    "        node.ip_route_add(subnet=net_local3_subnet, gateway=net_local2_gateway)\n",
    "        \n",
    "         #Add routes to router subnets (used for tracepath and pinging router interfaces)\n",
    "        node.ip_route_add(subnet=route_link1_subnet, gateway=net_local2_gateway)\n",
    "        node.ip_route_add(subnet=route_link2_subnet, gateway=net_local2_gateway)\n",
    "        node.ip_route_add(subnet=route_link3_subnet, gateway=net_local2_gateway)\n",
    "        \n",
    "        #Collect dataplane IP for testing\n",
    "        local_dataplane_ips[name] = node_addr\n",
    "\n",
    "        print(f\"Node {name} dataplane IP: {node_addr}\")\n",
    "        stdout, stderr = node.execute(f'ip addr list')\n",
    "        \n",
    "        stdout, stderr = node.execute(f'ip addr show {node_iface.get_os_interface()}')\n",
    "except Exception as e:\n",
    "    print(f\"Exception: {e}\")"
   ]
  },
  {
   "cell_type": "code",
   "execution_count": null,
   "metadata": {},
   "outputs": [],
   "source": [
    "try:\n",
    "    #Create Site3 Nodes\n",
    "    for i in range(site_node_count):\n",
    "        name=f'{node_base_name}_site3_{i+1}'\n",
    "        node = slice.get_node(name=name)\n",
    "        node_addr = net_local3_available_ips.pop(0)\n",
    "        node_iface = node.get_interface(network_name=site3_local_net_name)  \n",
    "        node_iface.ip_addr_add(addr=node_addr, subnet=net_local3_subnet)\n",
    "        \n",
    "        #Add routes to other local subnets\n",
    "        node.ip_route_add(subnet=net_local1_subnet, gateway=net_local3_gateway)\n",
    "        node.ip_route_add(subnet=net_local2_subnet, gateway=net_local3_gateway)\n",
    "        \n",
    "        #Add routes to router subnets (used for tracepath and pinging router interfaces)\n",
    "        node.ip_route_add(subnet=route_link1_subnet, gateway=net_local3_gateway)\n",
    "        node.ip_route_add(subnet=route_link2_subnet, gateway=net_local3_gateway)\n",
    "        node.ip_route_add(subnet=route_link3_subnet, gateway=net_local3_gateway)\n",
    "        \n",
    "        #Collect dataplane IP for testing\n",
    "        local_dataplane_ips[name] = node_addr\n",
    "        \n",
    "        print(f\"Node {name} dataplane IP: {node_addr}\")\n",
    "        stdout, stderr = node.execute(f'ip addr show {node_iface.get_os_interface()}')    \n",
    "except Exception as e:\n",
    "    print(f\"Exception: {e}\")"
   ]
  },
  {
   "cell_type": "markdown",
   "metadata": {},
   "source": [
    "##  Configure FRRouting on each router. \n",
    "\n",
    "This complex configuration is handled through a bash script `frr_config.sh` that resides in the folder containing this notebook. The script is executed by, first, uploading the script with the `node.upload_file()` FABLib method.  Then the script is executed using the `node.execute()` FABLib method.  Note that the script passes the OS interfaces names and configured IPs as arguments from the notebook to the script.  \n",
    "\n",
    "These scripts take a while to run. You may wish to use a separate terminal window to ssh to the routers and tail the log file to watch the progress with: `tail -F frr_config.log`."
   ]
  },
  {
   "cell_type": "code",
   "execution_count": null,
   "metadata": {},
   "outputs": [],
   "source": [
    "try: \n",
    "    #thread1 = execute.thread()\n",
    "    #stdout, stderr = thread1.result()\n",
    "    \n",
    "    # Config Router1\n",
    "    print('Config Router1')\n",
    "    router1.upload_file('./frr_config.sh','frr_config.sh')\n",
    "    router1_config_thread = router1.execute_thread(f'chmod +x frr_config.sh && sudo ./frr_config.sh {router1_iface1.get_os_interface()} {route_link1_addr1} {router1_iface2.get_os_interface()} {route_link3_addr2} {router1_local_iface.get_os_interface()} {net_local1_gateway} 192.168.0.0')\n",
    "\n",
    "    # Config Router2\n",
    "    print('Config Router2')\n",
    "    router2.upload_file('./frr_config.sh','frr_config.sh')   \n",
    "    router2_config_thread = router2.execute_thread(f'chmod +x frr_config.sh && sudo ./frr_config.sh {router2_iface1.get_os_interface()} {route_link2_addr1} {router2_iface2.get_os_interface()} {route_link1_addr2} {router2_local_iface.get_os_interface()} {net_local2_gateway} 192.168.0.0')\n",
    "    \n",
    "    # Config Router3\n",
    "    print('Config Router3')\n",
    "    router3.upload_file('./frr_config.sh','frr_config.sh')\n",
    "    router3_config_thread = router3.execute_thread(f'chmod +x frr_config.sh && sudo ./frr_config.sh {router3_iface1.get_os_interface()} {route_link3_addr1} {router3_iface2.get_os_interface()} {route_link2_addr2} {router3_local_iface.get_os_interface()} {net_local3_gateway} 192.168.0.0')\n",
    "\n",
    "    #Join Threads\n",
    "    print(f\"Joining Threads\")\n",
    "    stdout, stderr = router1_config_thread.result() \n",
    "    print(f\"Router1: \", stdout, stderr)\n",
    "    stdout, stderr = router2_config_thread.result() \n",
    "    print(f\"Router2: \", stdout, stderr)\n",
    "    stdout, stderr = router3_config_thread.result() \n",
    "    print(f\"Router3: \", stdout, stderr)\n",
    "\n",
    "except Exception as e:\n",
    "    print(f\"Exception: {e}\")\n",
    "    traceback.print_exc()            \n",
    "     "
   ]
  },
  {
   "cell_type": "markdown",
   "metadata": {},
   "source": [
    "## Run the Experiment\n",
    "\n",
    "We will just test `ping` RTT and look at `tracepath`. Your experiment should be more interesting!\n",
    "\n",
    "Notice that if you run this quickly and repeatedly run this test against a specific target, you may see changes to the tracepath.  Initially the ping may even fail.  Why do you think this is happening?\n"
   ]
  },
  {
   "cell_type": "code",
   "execution_count": null,
   "metadata": {},
   "outputs": [],
   "source": [
    "try:\n",
    "    source_node_name =  f'{node_base_name}_site1_1'\n",
    "   \n",
    "    source_node = slice.get_node(name=source_node_name)\n",
    "    for node_name,target_ip in local_dataplane_ips.items():\n",
    "        print(f\"Testing target node: {node_name}, target IP: {target_ip}\")\n",
    "    \n",
    "        stdout, stderr = node.execute(f'ping -c 5 {target_ip}')\n",
    "\n",
    "        stdout, stderr = node.execute(f'tracepath {target_ip}')\n",
    "    \n",
    "except Exception as e:\n",
    "    print(f\"Exception: {e}\")"
   ]
  },
  {
   "cell_type": "code",
   "execution_count": null,
   "metadata": {},
   "outputs": [],
   "source": [
    "try:\n",
    "    slice.save(\"ospf.graphml\")\n",
    "except Exception as e:\n",
    "    print(f\"Exception: {e}\")"
   ]
  },
  {
   "cell_type": "markdown",
   "metadata": {},
   "source": [
    "## Delete the Slice\n",
    "\n",
    "Please delete your slice when you are done with your experiment."
   ]
  },
  {
   "cell_type": "code",
   "execution_count": null,
   "metadata": {},
   "outputs": [],
   "source": [
    "try:\n",
    "    slice = fablib.get_slice(name=slice_name)\n",
    "    slice.delete()\n",
    "except Exception as e:\n",
    "    print(f\"Exception: {e}\")"
   ]
  },
  {
   "cell_type": "code",
   "execution_count": null,
   "metadata": {},
   "outputs": [],
   "source": []
  }
 ],
 "metadata": {
  "kernelspec": {
   "display_name": "Python 3 (ipykernel)",
   "language": "python",
   "name": "python3"
  },
  "language_info": {
   "codemirror_mode": {
    "name": "ipython",
    "version": 3
   },
   "file_extension": ".py",
   "mimetype": "text/x-python",
   "name": "python",
   "nbconvert_exporter": "python",
   "pygments_lexer": "ipython3",
   "version": "3.9.13"
  }
 },
 "nbformat": 4,
 "nbformat_minor": 4
}
