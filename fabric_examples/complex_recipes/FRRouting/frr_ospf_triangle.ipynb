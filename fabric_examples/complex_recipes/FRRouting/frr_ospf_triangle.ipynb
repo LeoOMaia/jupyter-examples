{
 "cells": [
  {
   "cell_type": "code",
   "execution_count": null,
   "metadata": {},
   "outputs": [],
   "source": []
  },
  {
   "cell_type": "markdown",
   "metadata": {},
   "source": [
    "# Routing Topology: OSPF using FRRouting\n",
    "\n",
    "This notebook is an example of how to create a FABRIC routing experiment topology comprising nodes at three different sites. Each site has a local layer 2 (Ethernet) network connecting a set of local nodes and one gateway router. The three gateway routers connect to each other and use the [FRRouting](https://frrouting.org/) protocol suite to deploy [OSPF](https://en.wikipedia.org/wiki/Open_Shortest_Path_First) dameons to propagate route updates across the topology.\n",
    "\n",
    "You might be familiar with the [Quagga](https://www.quagga.net/) router suite.  FRRouting is based on Quagga but has a more active upstream community including many large companies working on cloud networking.\n",
    "\n",
    "\n",
    "<img src=\"./figs/frr.png\" width=\"80%\"><br>\n"
   ]
  },
  {
   "cell_type": "markdown",
   "metadata": {},
   "source": [
    "## Import the FABlib Library\n"
   ]
  },
  {
   "cell_type": "code",
   "execution_count": null,
   "metadata": {
    "tags": []
   },
   "outputs": [],
   "source": [
    "from ipaddress import ip_address, IPv4Address, IPv6Address, IPv4Network, IPv6Network\n",
    "import ipaddress\n",
    "\n",
    "from fabrictestbed_extensions.fablib.fablib import FablibManager as fablib_manager\n",
    "\n",
    "fablib = fablib_manager()\n",
    "                     \n",
    "fablib.show_config();\n"
   ]
  },
  {
   "cell_type": "markdown",
   "metadata": {},
   "source": [
    "## Create the Experiment Slice\n",
    "\n",
    "The following creates private layer 2 networks on three sites including OSPF gateway routers that propagate routes across the topology. \n"
   ]
  },
  {
   "cell_type": "code",
   "execution_count": null,
   "metadata": {},
   "outputs": [],
   "source": [
    "slice_name = 'OSPF_Routing_Topology1'\n",
    "\n",
    "sites= fablib.get_random_sites(count=3, avoid=[])\n",
    "print(f\"Sites: {sites}\")\n",
    "\n",
    "sites=['DALL','WASH','UTAH']\n",
    "\n",
    "router_base_name='router'\n",
    "router_link_base_name='link'\n",
    "\n",
    "node_base_name='node'\n",
    "local_network_base_name='net_local'\n",
    "\n",
    "site_node_count=1\n",
    "\n",
    "\n",
    "rocky_repo_ip=IPv4Address('10.133.130.2')\n",
    "\n"
   ]
  },
  {
   "cell_type": "code",
   "execution_count": null,
   "metadata": {
    "tags": []
   },
   "outputs": [],
   "source": [
    "\n",
    "slice = fablib.new_slice(name=slice_name)\n",
    "\n",
    "# Create Routers\n",
    "routers = []\n",
    "frr_user_data = {}\n",
    "for i, site in enumerate(sites):\n",
    "    router_name = f\"{router_base_name}{site}\"\n",
    "    frr_user_data[router_name] = {}\n",
    "    local_subnet = IPv4Network(f\"192.168.{i+1}.0/24\")\n",
    "    local_gateway = local_subnet[1]\n",
    "    \n",
    "    # Add control net\n",
    "    control_net = slice.add_l3network(name=f'control_net_{site}', type='IPv4')\n",
    "    router = slice.add_node(name=router_name, site=site, cores=16, ram=32, disk=100).enable_docker()\n",
    "    iface_control = router.add_component(model='NIC_Basic', name='nic_control').get_interfaces()[0]\n",
    "    control_net.add_interface(iface_control)\n",
    "    iface_control.set_mode('auto')\n",
    "    router.add_route(subnet=fablib.FABNETV4_SUBNET, next_hop=control_net.get_gateway())\n",
    "    if rocky_repo_ip:\n",
    "        router.set_rocky_repo(rocky_repo_ip)\n",
    "\n",
    "\n",
    "    # Add experiment nets\n",
    "    iface_local = router.add_component(model='NIC_Basic', name='nic_local').get_interfaces()[0]\n",
    "    iface_local.set_mode('fablib')\n",
    "    \n",
    "    local_net = slice.add_l2network(name=f'{local_network_base_name}{site}', subnet=local_subnet, gateway=local_gateway)\n",
    "    local_net.add_interface(iface_local)\n",
    "    iface_local.set_ip_addr(local_gateway)\n",
    "    \n",
    "    frr_user_data[router_name]['local_iface'] = iface_local.get_name()\n",
    "    frr_user_data[router_name]['link_ifaces'] = []\n",
    "    \n",
    "    routers.append(router)\n",
    "\n",
    "# Create Links between routers (ring)\n",
    "links = []\n",
    "for i, site in enumerate(sites):\n",
    "    link_info = {}\n",
    "    link_subnet = IPv4Network(f\"192.168.10{i+1}.0/24\")\n",
    "    \n",
    "    router1 = routers[i]\n",
    "    router2 = routers[(i+1)%len(sites)]\n",
    "    \n",
    "    #link_info['name'] = f'{router_link_base_name}{i+1}'\n",
    "    link_info['name'] = f'{router1.get_site()}-{router2.get_site()}-{router_link_base_name}{i+1}'\n",
    "\n",
    "    \n",
    "    link = slice.add_l2network(name=link_info['name'], subnet=link_subnet)\n",
    "    links.append(link)\n",
    "\n",
    "    iface1 = router1.add_component(model='NIC_Basic', name=link_info['name']).get_interfaces()[0]\n",
    "    iface2 = router2.add_component(model='NIC_Basic', name=link_info['name']).get_interfaces()[0]\n",
    "    \n",
    "    iface1.set_mode('fablib')\n",
    "    iface2.set_mode('fablib')\n",
    "    \n",
    "    link.add_interface(iface1)\n",
    "    link.add_interface(iface2)\n",
    "    \n",
    "    iface1.set_ip_addr(link_subnet[1])\n",
    "    iface2.set_ip_addr(link_subnet[2])\n",
    "        \n",
    "    frr_user_data[router1.get_name()]['link_ifaces'].append(iface1.get_name()) \n",
    "    frr_user_data[router2.get_name()]['link_ifaces'].append(iface2.get_name()) \n",
    "\n",
    "# Set frr user_data\n",
    "for router in slice.get_nodes():\n",
    "    user_data = router.get_user_data()\n",
    "    user_data['frr'] = frr_user_data[router.get_name()]\n",
    "    router.set_user_data(user_data)\n",
    "    \n",
    "#slice_id = slice.submit()\n"
   ]
  },
  {
   "cell_type": "code",
   "execution_count": null,
   "metadata": {
    "tags": []
   },
   "outputs": [],
   "source": [
    "for i, site in enumerate(sites):\n",
    "    for node_num in range(site_node_count):\n",
    "        node_name = f\"{site.lower()}{node_num+1}\"\n",
    "        node = slice.add_node(name=node_name, site=site, cores=16, ram=32, disk=100).enable_docker()\n",
    "        \n",
    "        iface = node.add_component(model='NIC_Basic', name='nic1').get_interfaces()[0]\n",
    "        network = slice.get_network(name=f'{local_network_base_name}{site}')\n",
    "        network.add_interface(iface)\n",
    "        iface.set_mode('auto')\n",
    "\n",
    "        node.add_route(subnet=IPv4Network('192.168.0.0/16'), next_hop=network.get_gateway())\n",
    "        \n",
    "        # Add control net\n",
    "        control_net = slice.get_network(f'control_net_{site}')\n",
    "        iface_control = node.add_component(model='NIC_Basic', name='nic_control').get_interfaces()[0]\n",
    "        control_net.add_interface(iface_control)\n",
    "        iface_control.set_mode('auto')\n",
    "        node.add_route(subnet=fablib.FABNETV4_SUBNET, next_hop=control_net.get_gateway())\n",
    "        if rocky_repo_ip:\n",
    "            node.set_rocky_repo(rocky_repo_ip)\n",
    "\n",
    "        \n",
    "slice.submit()"
   ]
  },
  {
   "cell_type": "markdown",
   "metadata": {},
   "source": [
    "## Config the Routers"
   ]
  },
  {
   "cell_type": "code",
   "execution_count": null,
   "metadata": {
    "tags": []
   },
   "outputs": [],
   "source": [
    "for node in slice.get_nodes():\n",
    "    if 'router' in node.get_name():\n",
    "\n",
    "        print(node.get_name())\n",
    "        attributes = node.upload_directory('docker_containers','.')\n",
    "        \n",
    "        frr_user_data = node.get_user_data()['frr']\n",
    "        iface_local = slice.get_interface(frr_user_data['local_iface'])\n",
    "        iface_link1 = slice.get_interface(frr_user_data['link_ifaces'][0])\n",
    "        iface_link2 = slice.get_interface(frr_user_data['link_ifaces'][1])\n",
    "                \n",
    "        devs = ' '.join([iface.get_device_name() for iface in node.get_interfaces()])\n",
    "        \n",
    "        print(f\"./docker_containers/fabric_frrouting/start.sh {devs}\")\n",
    "        print(f\"./docker_containers/fabric_frrouting/node_tools/frr_config_docker.sh {iface_link1.get_device_name()} {iface_link1.get_ip_addr()} {iface_link2.get_device_name()} {iface_link2.get_ip_addr()} {iface_local.get_device_name()} {iface_local.get_ip_addr()} 192.168.0.0\")\n",
    "\n",
    "        node.execute(f\"./docker_containers/fabric_frrouting/node_tools/frr_config_docker.sh {iface_link1.get_device_name()} {iface_link1.get_ip_addr()} {iface_link2.get_device_name()} {iface_link2.get_ip_addr()} {iface_local.get_device_name()} {iface_local.get_ip_addr()} 192.168.0.0 ; \"\n",
    "                     f\"./docker_containers/fabric_frrouting/start.sh {devs} ; \"\n",
    "                      , quiet=True, output_file=f\"{node.get_name()}.log\")\n",
    "        \n",
    "        \n",
    "\n",
    "        "
   ]
  },
  {
   "cell_type": "markdown",
   "metadata": {
    "tags": []
   },
   "source": [
    "## Config the Nodes"
   ]
  },
  {
   "cell_type": "code",
   "execution_count": null,
   "metadata": {
    "tags": []
   },
   "outputs": [],
   "source": [
    "for node in slice.get_nodes():\n",
    "    if 'router' not in node.get_name():\n",
    "        print(node.get_name())\n",
    "        attributes = node.upload_directory('docker_containers','.')\n",
    "        \n",
    "        devs = ' '.join([iface.get_device_name() for iface in node.get_interfaces()])\n",
    "        node.execute(f\"cd ~/docker_containers/fabric_multitool/; docker compose up -d ; \"\n",
    "                     f\"docker exec fabric sudo ./tools/host_tune_redhat.sh ; \"\n",
    "                      , quiet=True, output_file=f\"{node.get_name()}.log\")\n",
    "        "
   ]
  },
  {
   "cell_type": "markdown",
   "metadata": {},
   "source": [
    "## Run the Experiment\n",
    "\n",
    "We will just test `ping` RTT and look at `tracepath`. Your experiment should be more interesting!\n",
    "\n",
    "Notice that if you run this quickly and repeatedly run this test against a specific target, you may see changes to the tracepath.  Initially the ping may even fail.  Why do you think this is happening?\n"
   ]
  },
  {
   "cell_type": "code",
   "execution_count": null,
   "metadata": {},
   "outputs": [],
   "source": [
    "try:\n",
    "    source_node_name =  f'{node_base_name}_site1_1'\n",
    "   \n",
    "    source_node = slice.get_node(name=source_node_name)\n",
    "    for node_name,target_ip in local_dataplane_ips.items():\n",
    "        print(f\"Testing target node: {node_name}, target IP: {target_ip}\")\n",
    "    \n",
    "        stdout, stderr = node.execute(f'ping -c 5 {target_ip}')\n",
    "\n",
    "        stdout, stderr = node.execute(f'tracepath {target_ip}')\n",
    "    \n",
    "except Exception as e:\n",
    "    print(f\"Exception: {e}\")"
   ]
  },
  {
   "cell_type": "markdown",
   "metadata": {},
   "source": [
    "## Delete the Slice\n",
    "\n",
    "Please delete your slice when you are done with your experiment."
   ]
  },
  {
   "cell_type": "code",
   "execution_count": null,
   "metadata": {},
   "outputs": [],
   "source": [
    "try:\n",
    "    slice = fablib.get_slice(name=slice_name)\n",
    "    slice.delete()\n",
    "except Exception as e:\n",
    "    print(f\"Exception: {e}\")"
   ]
  },
  {
   "cell_type": "code",
   "execution_count": null,
   "metadata": {},
   "outputs": [],
   "source": []
  }
 ],
 "metadata": {
  "kernelspec": {
   "display_name": "Python 3 (ipykernel)",
   "language": "python",
   "name": "python3"
  },
  "language_info": {
   "codemirror_mode": {
    "name": "ipython",
    "version": 3
   },
   "file_extension": ".py",
   "mimetype": "text/x-python",
   "name": "python",
   "nbconvert_exporter": "python",
   "pygments_lexer": "ipython3",
   "version": "3.9.13"
  }
 },
 "nbformat": 4,
 "nbformat_minor": 4
}
