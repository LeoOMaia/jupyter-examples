{
 "cells": [
  {
   "cell_type": "markdown",
   "id": "172e8938-6610-4bda-b226-6cf0d74ad193",
   "metadata": {},
   "source": [
    "#  Setting Up an Apache Web Server\n",
    "\n",
    "A web server allows for data hosted on one computer (the \"server\") to be accessable by other nodes on the network. We will refer to any nodes wanting to access the data as \"clients\".\n",
    "\n",
    "This example notebook will demonstrate how to set up a client-server network topology on FABRIC, install Apache on a server node, and download files from the server node to a single client node.\n",
    "\n",
    "\n",
    "## Configure the Environment"
   ]
  },
  {
   "cell_type": "code",
   "execution_count": null,
   "id": "d1b70b8b-b33f-4172-bb11-4d6b69c3c628",
   "metadata": {},
   "outputs": [],
   "source": [
    "import os\n",
    "\n",
    "# If you are using the FABRIC JupyterHub, the following three evnrionment vars\n",
    "# were automatically provided when you logged in.\n",
    "#os.environ['FABRIC_CREDMGR_HOST']='cm.fabric-testbed.net'\n",
    "#os.environ['FABRIC_ORCHESTRATOR_HOST']='orchestrator.fabric-testbed.net'\n",
    "#os.environ['FABRIC_TOKEN_LOCATION']=os.environ['HOME']+'/work/fabric_token.json'\n",
    "\n",
    "# Set your FABRIC PROJECT ID\n",
    "os.environ['FABRIC_PROJECT_ID']=<INSERT_YOUR_FABRIC_PROJECT_ID>\n",
    "\n",
    "# Bastion IPs\n",
    "os.environ['FABRIC_BASTION_HOST'] = 'bastion-1.fabric-testbed.net'\n",
    "\n",
    "# Set your Bastion username and private key\n",
    "os.environ['FABRIC_BASTION_USERNAME']=<INSERT_YOUR_FABRIC_USERNAME>\n",
    "os.environ['FABRIC_BASTION_KEY_LOCATION']=os.environ['HOME']+'/work/fabric_bastion_key'\n",
    "\n",
    "# Set the keypair FABRIC will install in your slice. \n",
    "os.environ['FABRIC_SLICE_PRIVATE_KEY_FILE']=os.environ['HOME']+'/.ssh/id_rsa'\n",
    "os.environ['FABRIC_SLICE_PUBLIC_KEY_FILE']=os.environ['HOME']+'/.ssh/id_rsa.pub'\n",
    "\n",
    "# If your slice private key uses a passphrase, set the passphrase\n",
    "#from getpass import getpass\n",
    "#print('Please input private key passphrase. Press enter for no passphrase.')\n",
    "#os.environ['FABRIC_SLICE_PRIVATE_KEY_PASSPHRASE']=getpass()"
   ]
  },
  {
   "cell_type": "markdown",
   "id": "e46aa7ee-f4a9-4cab-9123-6af2c334eca8",
   "metadata": {},
   "source": [
    "## Setup the Experiment\n",
    "\n",
    "#### Import FABRIC API"
   ]
  },
  {
   "cell_type": "code",
   "execution_count": null,
   "id": "d1c12b38-b9cf-4e0e-9c8b-90bd7bbde094",
   "metadata": {},
   "outputs": [],
   "source": [
    "import json\n",
    "import traceback\n",
    "\n",
    "from fabrictestbed_extensions.fablib.fablib import fablib"
   ]
  },
  {
   "cell_type": "markdown",
   "id": "13998349-9bce-453f-977e-78930228936d",
   "metadata": {},
   "source": [
    "## Step 4: Create the Experiment Slice\n",
    "\n",
    "The following creates two nodes with basic NICs connected to an isolated WAN Ethernet, as outlined in the [Create a Wide Area Ethernet (Layer 2) tutorial](../../fablib_api/create_l2network_wide_area.ipynb). More advanced topologies can be created, so long as the server node is routable by each client attempting to access the server's data."
   ]
  },
  {
   "cell_type": "code",
   "execution_count": null,
   "id": "8ab1834b-6f6d-4109-ad73-2ddda81a104a",
   "metadata": {},
   "outputs": [],
   "source": [
    "slice_name = 'MySlice'\n",
    "[site1,site2]  = fablib.get_random_sites(count=2)\n",
    "print(f\"Sites: {site1}, {site2}\")\n",
    "\n",
    "server_name = 'server'\n",
    "client_name = 'client'\n",
    "network_name='net1'\n",
    "server_nic_name = 'server_nic'\n",
    "client_nic_name = 'client_nic'\n",
    "\n",
    "# We will use Ubuntu 20.04 for both nodes\n",
    "image = 'default_ubuntu_20'"
   ]
  },
  {
   "cell_type": "markdown",
   "id": "dae3919b-af8d-4a7a-bc88-8b8a1d0fa49d",
   "metadata": {},
   "source": [
    "In this example, we will set up an L2 network. As discuss above, a different network configuration, such as using the FABNet L3 network should work, so long as the clients and server can route to each other."
   ]
  },
  {
   "cell_type": "code",
   "execution_count": null,
   "id": "6b76d1f4-75ad-4907-a671-62e223722c14",
   "metadata": {},
   "outputs": [],
   "source": [
    "try:\n",
    "    #Create Slice\n",
    "    slice = fablib.new_slice(name=slice_name)\n",
    "\n",
    "    # Node1\n",
    "    server = slice.add_node(name=server_name, site=site1, image=image)\n",
    "    server_iface = server.add_component(model='NIC_Basic', name=server_nic_name).get_interfaces()[0]\n",
    "    \n",
    "    # Node2\n",
    "    client = slice.add_node(name=client_name, site=site2, image=image)\n",
    "    client_iface = client.add_component(model='NIC_Basic', name=client_nic_name).get_interfaces()[0]\n",
    "    \n",
    "    # Network\n",
    "    net1 = slice.add_l2network(name=network_name, interfaces=[server_iface, client_iface])\n",
    "\n",
    "    #Submit Slice Request\n",
    "    slice.submit()\n",
    "except Exception as e:\n",
    "    print(f\"Exception: {e}\")"
   ]
  },
  {
   "cell_type": "markdown",
   "id": "0b616e01-a5c0-4bf5-818a-5c5bfb2163d8",
   "metadata": {},
   "source": [
    "## Print the Node Details"
   ]
  },
  {
   "cell_type": "code",
   "execution_count": null,
   "id": "36bb51b9-03bf-44c6-af0e-b553233a36a7",
   "metadata": {},
   "outputs": [],
   "source": [
    "try:\n",
    "    slice = fablib.get_slice(name=slice_name)\n",
    "    for node in slice.get_nodes():\n",
    "        print(f\"{node}\")\n",
    "except Exception as e:\n",
    "    print(f\"Exception: {e}\")"
   ]
  },
  {
   "cell_type": "markdown",
   "id": "ea19f6d4-9844-4627-8d68-3297f06be6c6",
   "metadata": {},
   "source": [
    "## Configure IP Addresses and Pick a Subnet\n",
    "\n",
    "Create a subnet and list of available IP addresses. All objects are Python IP managment objects. You can use either IPv4 or IPv6 subents and addresses."
   ]
  },
  {
   "cell_type": "code",
   "execution_count": null,
   "id": "6e5522a3-dec6-4d12-b115-542d89320285",
   "metadata": {},
   "outputs": [],
   "source": [
    "from ipaddress import ip_address, IPv4Address, IPv6Address, IPv4Network, IPv6Network\n",
    "\n",
    "try:\n",
    "    subnet = IPv4Network(\"192.168.1.0/24\")\n",
    "    available_ips = list(subnet)[1:]\n",
    "except Exception as e:\n",
    "    print(f\"Exception: {e}\")"
   ]
  },
  {
   "cell_type": "markdown",
   "id": "1a626ffb-6d02-41a5-9e91-21863a833f18",
   "metadata": {},
   "source": [
    "## Configure the Server's Interface"
   ]
  },
  {
   "cell_type": "code",
   "execution_count": null,
   "id": "88a7ecdf-17b5-48ef-a675-a4734ab35157",
   "metadata": {},
   "outputs": [],
   "source": [
    "try:\n",
    "    server = slice.get_node(name=server_name)        \n",
    "    server_iface = server.get_interface(network_name=network_name) \n",
    "    server_addr = available_ips.pop(0)\n",
    "    server_iface.ip_addr_add(addr=server_addr, subnet=subnet)\n",
    "    \n",
    "    stdout, stderr = server.execute(f'ip addr show {server_iface.get_os_interface()}')\n",
    "    print (stdout)\n",
    "    \n",
    "except Exception as e:\n",
    "    print(f\"Exception: {e}\")"
   ]
  },
  {
   "cell_type": "markdown",
   "id": "0f422a5f-3250-4502-8555-4a3946888d6f",
   "metadata": {},
   "source": [
    "## Configure the Client's Interface"
   ]
  },
  {
   "cell_type": "code",
   "execution_count": null,
   "id": "8c820a92-6b3a-4e0d-9a45-03f50ef61a0c",
   "metadata": {},
   "outputs": [],
   "source": [
    "try:\n",
    "    client = slice.get_node(name=client_name)        \n",
    "    client_iface = client.get_interface(network_name=network_name) \n",
    "    client_addr = available_ips.pop(0)\n",
    "    client_iface.ip_addr_add(addr=client_addr, subnet=subnet)\n",
    "    \n",
    "    stdout, stderr = client.execute(f'ip addr show {client_iface.get_os_interface()}')\n",
    "    print (stdout)\n",
    "    \n",
    "except Exception as e:\n",
    "    print(f\"Exception: {e}\")"
   ]
  },
  {
   "cell_type": "markdown",
   "id": "3017c7dd-36e1-41f8-b539-8bcc447fa936",
   "metadata": {},
   "source": [
    "## Install Apache on the Server Node"
   ]
  },
  {
   "cell_type": "code",
   "execution_count": null,
   "id": "d2167e91-e94f-4cc0-9ea0-aa5f76498442",
   "metadata": {},
   "outputs": [],
   "source": [
    "apache_root_dir = \"/var/www/html\" # Default Root Directory to Store Web Server Files\n",
    "\n",
    "try:\n",
    "    print(\"Installing Apache...\")\n",
    "    stdout, stderr = server.execute(\"sudo apt-get update && sudo apt-get install -y apache2\")\n",
    "    print(\"Finished installing Apache.\")\n",
    "    \n",
    "except Exception as e:\n",
    "    print(f\"Exception: {e}\")"
   ]
  },
  {
   "cell_type": "markdown",
   "id": "1899f9ed-8223-4a16-b366-b54d7be4ec9c",
   "metadata": {},
   "source": [
    "## Optional: Set Up Firewall"
   ]
  },
  {
   "cell_type": "code",
   "execution_count": null,
   "id": "50710e77-fbfb-4470-9dea-979d93841bfa",
   "metadata": {},
   "outputs": [],
   "source": [
    "commands = [\n",
    "    \"sudo ufw allow 'Apache'\",                                # Allow Port 80 Through Firewall\n",
    "    \"sudo ufw allow ssh\",                                     # Allow Port 22 Through Firewall (IMPORTANT)\n",
    "    \"echo 'y' | sudo ufw enable\"                              # Enable the Firewall\n",
    "]\n",
    "\n",
    "try:\n",
    "    print(\"Setting up firewall...\")\n",
    "    for command in commands:\n",
    "        stdout, stderr = server.execute(command)\n",
    "    print(\"Finished setting up firewall.\")\n",
    "    \n",
    "except Exception as e:\n",
    "    print(f\"Exception: {e}\")"
   ]
  },
  {
   "cell_type": "markdown",
   "id": "11b68f53-7d0d-4705-8f6a-b1129aa55345",
   "metadata": {},
   "source": [
    "## Check to Ensure the Firewall is Active\n",
    "\n",
    "The command below should result in a table that looks like:\n",
    "\n",
    "```\n",
    "Status: active\n",
    "\n",
    "To                         Action      From\n",
    "--                         ------      ----\n",
    "Apache                     ALLOW       Anywhere                  \n",
    "22/tcp                     ALLOW       Anywhere                  \n",
    "Apache (v6)                ALLOW       Anywhere (v6)             \n",
    "22/tcp (v6)                ALLOW       Anywhere (v6)             \n",
    "```"
   ]
  },
  {
   "cell_type": "code",
   "execution_count": null,
   "id": "7c7cab77-45ba-457c-bb5e-c685e620cf1c",
   "metadata": {},
   "outputs": [],
   "source": [
    "try:\n",
    "    stdout, stderr = server.execute('sudo ufw status')\n",
    "    print(stdout)\n",
    "    \n",
    "except Exception as e:\n",
    "    print(f\"Exception: {e}\")"
   ]
  },
  {
   "cell_type": "markdown",
   "id": "b5687691-434f-44d6-8e52-25ff66daed01",
   "metadata": {},
   "source": [
    "## Check to Ensure the Apache Service is Active\n",
    "\n",
    "The command below should result in an entry that looks like:\n",
    "\n",
    "```\n",
    "● apache2.service - The Apache HTTP Server\n",
    "     Loaded: loaded (/lib/systemd/system/apache2.service; enabled; vendor preset: enabled)\n",
    "     Active: active (running) since ...\n",
    "```"
   ]
  },
  {
   "cell_type": "code",
   "execution_count": null,
   "id": "d58a4fce-c682-4459-a974-8acbfcea8fe2",
   "metadata": {},
   "outputs": [],
   "source": [
    "try:\n",
    "    stdout, stderr = server.execute('sudo systemctl status apache2')\n",
    "    print(stdout)\n",
    "    \n",
    "except Exception as e:\n",
    "    print(f\"Exception: {e}\")"
   ]
  },
  {
   "cell_type": "markdown",
   "id": "49a43c1a-7983-48be-bab2-74d9e0697f72",
   "metadata": {},
   "source": [
    "## Optional: Change Directory of Where Apache Files are Stored\n",
    "\n",
    "Update the `apache_root_dir` variable below to the directory you would like to store your files."
   ]
  },
  {
   "cell_type": "code",
   "execution_count": null,
   "id": "6ffe6260-e5e9-43c2-9de8-6f81a17a73bf",
   "metadata": {},
   "outputs": [],
   "source": [
    "apache_root_dir = \"/home/ubuntu/apache_contents\"\n",
    "change_root = f\"mkdir -p {apache_root_dir} && sudo sed -i 's,/var/www/html,{apache_root_dir},g' /etc/apache2/sites-available/000-default.conf && sudo sed -i 's,/var/www/html,{apache_root_dir},g' /etc/apache2/sites-available/default-ssl.conf && sudo sed -i 's,/var/www/,{apache_root_dir},g' /etc/apache2/apache2.conf\"\n",
    "\n",
    "try:\n",
    "    stdout, stderr = server.execute(change_root)\n",
    "    print(stderr)\n",
    "    \n",
    "except Exception as e:\n",
    "    print(f\"Exception: {e}\")"
   ]
  },
  {
   "cell_type": "markdown",
   "id": "c8296ad6-e2b7-47dd-85e0-9e7080086ab2",
   "metadata": {},
   "source": [
    "Restart the Apache service to have the changes take effect."
   ]
  },
  {
   "cell_type": "code",
   "execution_count": null,
   "id": "bc81311d-5ae6-4250-b825-49d86f991bfb",
   "metadata": {},
   "outputs": [],
   "source": [
    "try:\n",
    "    stdout, stderr = server.execute(\"sudo service apache2 restart\")\n",
    "    print(stderr)\n",
    "    \n",
    "except Exception as e:\n",
    "    print(f\"Exception: {e}\")"
   ]
  },
  {
   "cell_type": "markdown",
   "id": "6b205506-72e8-4278-8191-79d713eae7f8",
   "metadata": {},
   "source": [
    "## Save Your Files to the Server\n",
    "\n",
    "Here, we will create a new file called `download_me`, which will be a simple text file. Let's write `Congratualtions! The Apache server was setup correctly.` to our file by redirecting the string into the command `tee`, which writes the string into the file."
   ]
  },
  {
   "cell_type": "code",
   "execution_count": null,
   "id": "262c3977-e8e8-4530-93b5-24975c350cbe",
   "metadata": {},
   "outputs": [],
   "source": [
    "create_file = f'echo \"Congratualtions! The Apache server was setup correctly.\" | sudo tee {apache_root_dir}/download_me'\n",
    "try:\n",
    "    stdout, stderr = server.execute(create_file)\n",
    "    print(\"The file was created successfully.\")\n",
    "    \n",
    "except Exception as e:\n",
    "    print(f\"Exception: {e}\")"
   ]
  },
  {
   "cell_type": "markdown",
   "id": "508bdacb-0ab9-40f8-9828-a9719dfff950",
   "metadata": {},
   "source": [
    "## Download the File to the Client\n",
    "\n",
    "We are now ready to test our web server! Let's download the `download_me` file we created to the client node using `wget`. Apache uses port 80 for normal, unencrypted web traffic."
   ]
  },
  {
   "cell_type": "code",
   "execution_count": null,
   "id": "fdad13c1-783c-4e2e-a938-c25b7eef2c12",
   "metadata": {},
   "outputs": [],
   "source": [
    "try:\n",
    "    stdout, stderr = client.execute(f'wget {server_addr}:80/download_me')\n",
    "    print(stdout,stderr)\n",
    "    stdout, stderr = client.execute(f'cat download_me')\n",
    "    print(stdout)\n",
    "    \n",
    "except Exception as e:\n",
    "    print(f\"Exception: {e}\")"
   ]
  },
  {
   "cell_type": "markdown",
   "id": "d1de6127-d421-4cc7-9835-3abc5b71a246",
   "metadata": {},
   "source": [
    "## Delete the Slice\n",
    "\n",
    "Please delete your slice when you are done with your experiment."
   ]
  },
  {
   "cell_type": "code",
   "execution_count": null,
   "id": "6cdd40ee-5b4d-4689-80ee-944e065849b8",
   "metadata": {},
   "outputs": [],
   "source": [
    "try:\n",
    "    slice = fablib.get_slice(name=slice_name)\n",
    "    slice.delete()\n",
    "except Exception as e:\n",
    "    print(f\"Exception: {e}\")"
   ]
  }
 ],
 "metadata": {
  "kernelspec": {
   "display_name": "Python 3 (ipykernel)",
   "language": "python",
   "name": "python3"
  },
  "language_info": {
   "codemirror_mode": {
    "name": "ipython",
    "version": 3
   },
   "file_extension": ".py",
   "mimetype": "text/x-python",
   "name": "python",
   "nbconvert_exporter": "python",
   "pygments_lexer": "ipython3"
  }
 },
 "nbformat": 4,
 "nbformat_minor": 5
}
