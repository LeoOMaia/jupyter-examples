{
 "cells": [
  {
   "cell_type": "markdown",
   "metadata": {},
   "source": [
    "# Deploying a Grafana/Prometheus Server\n",
    "\n",
    "This notebook shows how to deploy a server running [Grafana](https://grafana.com/) and [Prometheus](https://prometheus.io/) in order to monitor other slices.  This example shows how to monitor a slice running Prometheus Node Exporter as shown in the companion example's [companion example notebook](node_exporter.ipynb).\n"
   ]
  },
  {
   "cell_type": "markdown",
   "metadata": {},
   "source": [
    "## Import the FABlib Library\n"
   ]
  },
  {
   "cell_type": "code",
   "execution_count": null,
   "metadata": {
    "tags": []
   },
   "outputs": [],
   "source": [
    "from fabrictestbed_extensions.fablib.fablib import FablibManager as fablib_manager\n",
    "\n",
    "fablib = fablib_manager()\n",
    "                    \n",
    "fablib.show_config();"
   ]
  },
  {
   "cell_type": "markdown",
   "metadata": {
    "tags": []
   },
   "source": [
    "## Create the Grafana/Prometheus Slice\n",
    "\n",
    "Create a FABRIC node that supports Docker containers. The example using FABRIC's Docker Rocky 8 images (`docker_rocky_8`).  \n",
    "\n",
    "The server requires network connectivity to the nodes you wish to monitor, the Grafana and Prometheus Docker containers, and a short configuration file describing the nodes to be monitored.\n",
    "\n",
    "The example uses the `add_fabnet()` function to add a FABNetv4 network with default configuration. You can use any network type that works with your experiment. \n",
    "\n",
    "Grafana and Prometheus are started in Docker containers using the images supported by the vendors:\n",
    "\n",
    "- Grafana Docker image: [grafana/grafana](https://hub.docker.com/r/grafana/grafana)\n",
    "- Prometheus Docker image [prom/prometheus](https://hub.docker.com/r/prom/prometheus)\n"
   ]
  },
  {
   "cell_type": "code",
   "execution_count": null,
   "metadata": {
    "tags": []
   },
   "outputs": [],
   "source": [
    "slice_name = 'GrafanaServer'\n",
    "site = fablib.get_random_site()\n",
    "\n",
    "print(f\"Site: {site}\")\n",
    "\n",
    "monitor_name = 'monitor'"
   ]
  },
  {
   "cell_type": "code",
   "execution_count": null,
   "metadata": {
    "tags": []
   },
   "outputs": [],
   "source": [
    "#Create Slice\n",
    "slice = fablib.new_slice(name=slice_name)\n",
    "\n",
    "# Monitoring Node\n",
    "node = slice.add_node(name=monitor_name, site=site, cores=4, ram=16, disk=100, image='docker_rocky_8')\n",
    "node.add_fabnet()\n",
    "\n",
    "node.add_post_boot_upload_directory('node_tools','.')\n",
    "node.add_post_boot_execute('node_tools/enable_docker.sh {{ _self_.image }} ')\n",
    "node.add_post_boot_upload_directory(\"./monitoring\", \".\")\n",
    "node.add_post_boot_execute(\"cd monitoring ; docker compose up -d\")\n",
    "\n",
    "#Submit Slice Request\n",
    "slice.submit();"
   ]
  },
  {
   "cell_type": "markdown",
   "metadata": {},
   "source": [
    "## Start an SSH tunnel to the Grafana Server\n",
    "\n",
    "At this point your Grafana server is running.  You will need to create an SSH tunnel to access it. \n",
    "\n",
    "When you ran the [Configure Environment](../../../configure.ipynb) notebook, it created a`fabric_ssh_tunnel_tools.tgz`package that can be used to create an SSH tunnel.\n",
    "\n",
    "- Download your custom `fabric_ssh_tunnel_tools.tgz` tarball from the main jupyter-examples folder OR the fabric_config folder.  This tarball was created when you ran the configure environment notebook. Rerun the configure environment notebook if you do not have fabric_ssh_tunnel_toold.tgz \n",
    "- Untar the tarball and put the resulting folder (`fabric_ssh_tunnel_tools`) somewhere you can access it from the command line.\n",
    "- Open a terminal window. (Windows: use `powershell`) \n",
    "- Use `cd` to navigate to the `fabric_ssh_tunnel_tools` folder.\n",
    "- In your terminal, run the command that results from running the following cell (leave the terminal window open).\n"
   ]
  },
  {
   "cell_type": "code",
   "execution_count": null,
   "metadata": {
    "tags": []
   },
   "outputs": [],
   "source": [
    "slice = fablib.get_slice(slice_name)\n",
    "\n",
    "monitor = slice.get_node(monitor_name)\n",
    "\n",
    "management_ip=f'{monitor.get_username()}@{monitor.get_management_ip()}'\n",
    "\n",
    "print(f'ssh  -L 127.0.0.1:3000:127.0.0.1:3000 -i slice_key -F ssh_config {management_ip}')"
   ]
  },
  {
   "cell_type": "markdown",
   "metadata": {},
   "source": [
    "## Open the Grafana Dashboard\n",
    "\n",
    "Click this link to open your [Grafana Dashboard](http://127.0.0.1:3000)\n",
    "\n",
    "\n",
    "\n",
    "## Configure the Grafana and Prometheus Servers\n",
    "\n",
    "At this point your Grafana and Prometheus servers are active but are not configured to monitor anything. \n",
    "\n",
    "Run the following cell to generate a Prometheus configuration file for monitoring the slice you started using the [companion notebook](node_exporter.ipynb).  \n",
    "\n",
    "This cell assumes you used the companion notebook and the target slice is connected to FABNetv4 using the `add_fabnet()` function and has a node exporter running on each node. If you provide alternative connectivity between the monitor node and the target slice, you will need to modify the config file with the correct IP addresses.   If you have multiple slices to monitor, you can add each of them to the `slices_to_monitor` list.\n",
    "\n",
    "<div class=\"alert alert-block alert-warning\">\n",
    "<b>Important:</b> You must run the companion notebook before continuing.\n",
    "</div>\n",
    "\n",
    "\n",
    "\n"
   ]
  },
  {
   "cell_type": "code",
   "execution_count": null,
   "metadata": {
    "tags": []
   },
   "outputs": [],
   "source": [
    "slice = fablib.get_slice(slice_name)\n",
    "\n",
    "monitor = slice.get_node(monitor_name)\n",
    "\n",
    "slices_to_monitor=['MySlice']\n",
    "\n",
    "import yaml\n",
    "config_dict = {}\n",
    "with open(\"./monitoring/prometheus/prometheus_template.yml\", \"r\") as f:\n",
    "    config_dict = yaml.safe_load(f)\n",
    "    sc = config_dict['scrape_configs']\n",
    "    \n",
    "    for slice_to_monitor in slices_to_monitor:\n",
    "        target_slice=fablib.get_slice(slice_to_monitor)\n",
    "        targets = []\n",
    "        for node in target_slice.get_nodes():\n",
    "            targets.append(f\"{node.get_interface(network_name=f'FABNET_IPv4_{node.get_site()}').get_ip_addr()}:9100\")\n",
    "\n",
    "        new_job = {'job_name': target_slice.get_name(),\n",
    "                   'static_configs': [ { 'targets': targets }]} \n",
    "        sc.append(new_job)\n",
    "\n",
    "with open(\"prometheus.yml\", \"w\") as f:\n",
    "    yaml.dump(config_dict, f)\n",
    "\n",
    "    "
   ]
  },
  {
   "cell_type": "markdown",
   "metadata": {},
   "source": [
    "## View the Config File\n",
    "\n",
    "Before uploading it to your server, you can manually edit the config file to add/remove any features you desire or customize the IP addresses to suit your experiment.\n",
    "\n",
    "\n"
   ]
  },
  {
   "cell_type": "code",
   "execution_count": null,
   "metadata": {
    "tags": []
   },
   "outputs": [],
   "source": [
    "!cat prometheus.yml"
   ]
  },
  {
   "cell_type": "markdown",
   "metadata": {},
   "source": [
    "## Configure Prometheus\n",
    "\n",
    "Upload the config file and restart Prometheus "
   ]
  },
  {
   "cell_type": "code",
   "execution_count": null,
   "metadata": {
    "tags": []
   },
   "outputs": [],
   "source": [
    "monitor.upload_file(\"prometheus.yml\", \"./monitoring/prometheus/prometheus.yml\")\n",
    "stdout, stderr = monitor.execute(\"docker restart prometheus\");"
   ]
  },
  {
   "cell_type": "markdown",
   "metadata": {},
   "source": [
    "## View your Slice in Grafana\n",
    "\n",
    "View your slice in your Grafana browser tab (or open a [new dashboard](http://127.0.0.1:3000)).  You will need to wait for Prometheus to connect to nodes.  You may need to reload your browser window.\n",
    "\n",
    "\n",
    "\n"
   ]
  },
  {
   "cell_type": "markdown",
   "metadata": {},
   "source": [
    "## Delete the Slice\n",
    "\n",
    "Please delete your slice when you are done with your experiment."
   ]
  },
  {
   "cell_type": "code",
   "execution_count": null,
   "metadata": {
    "tags": []
   },
   "outputs": [],
   "source": [
    "slice = fablib.get_slice(slice_name)\n",
    "slice.delete()"
   ]
  },
  {
   "cell_type": "code",
   "execution_count": null,
   "metadata": {},
   "outputs": [],
   "source": []
  }
 ],
 "metadata": {
  "kernelspec": {
   "display_name": "Python 3 (ipykernel)",
   "language": "python",
   "name": "python3"
  },
  "language_info": {
   "codemirror_mode": {
    "name": "ipython",
    "version": 3
   },
   "file_extension": ".py",
   "mimetype": "text/x-python",
   "name": "python",
   "nbconvert_exporter": "python",
   "pygments_lexer": "ipython3",
   "version": "3.9.13"
  }
 },
 "nbformat": 4,
 "nbformat_minor": 4
}
