{
 "cells": [
  {
   "cell_type": "markdown",
   "metadata": {},
   "source": [
    "# Deploying a Slice with a Prometheus Node Exporter\n",
    "\n",
    "This notebook shows how to deploy [Prometheus](https://prometheus.io/) node exporters in your slice so that you can monitor them with [Grafana](https://grafana.com/).  This notebook creates the example slice that can be monitored by the Grafana server deployed in the [companion example notebook](grafana-prometheus-servers.ipynb).\n",
    "\n",
    "\n",
    "\n"
   ]
  },
  {
   "cell_type": "markdown",
   "metadata": {},
   "source": [
    "## Import the FABlib Library\n"
   ]
  },
  {
   "cell_type": "code",
   "execution_count": null,
   "metadata": {
    "tags": []
   },
   "outputs": [],
   "source": [
    "from fabrictestbed_extensions.fablib.fablib import FablibManager as fablib_manager\n",
    "\n",
    "fablib = fablib_manager()\n",
    "                     \n",
    "fablib.show_config();"
   ]
  },
  {
   "cell_type": "markdown",
   "metadata": {
    "tags": []
   },
   "source": [
    "## Create the Experiment\n",
    "\n",
    "Create a FABRIC experiment that supports Docker containers. The example using FABRIC's Docker Rocky 8 images (`docker_rocky_8`).  \n",
    "\n",
    "All nodes in the slice will require network connectivity to the Grafana server deployed in the [companion notebook](grafana-prometheus-servers.ipynb).  The example uses the `add_fabnet()` function to add a FABNetv4 network with default configuration. You can use any network type that works with your experiment. \n",
    "\n",
    "Prometheus Node Exporter is started in a Docker container using the images supported by the vendor:\n",
    "\n",
    "- Prometheus Node Exporter Docker image [prom/node-exporter](https://hub.docker.com/r/prom/node-exporter)\n",
    "\n",
    "After the slice becomes active, the node exporters will be up and you can proceed to the [companion notebook](grafana-prometheus-servers.ipynb) to configure the Grafana/Prometheus servers.\n",
    "\n",
    "\n"
   ]
  },
  {
   "cell_type": "code",
   "execution_count": null,
   "metadata": {
    "tags": []
   },
   "outputs": [],
   "source": [
    "slice_name = 'MySlice'\n",
    "[site1,site2] = fablib.get_random_sites(count=2)\n",
    "\n",
    "print(f\"Sites: {site1}, {site2}\")\n",
    "\n",
    "node1_name = 'Node1'\n",
    "node2_name = 'Node2'\n",
    "\n",
    "network1_name='net1'\n",
    "network2_name='net2'"
   ]
  },
  {
   "cell_type": "code",
   "execution_count": null,
   "metadata": {
    "tags": []
   },
   "outputs": [],
   "source": [
    "#Create Slice\n",
    "slice = fablib.new_slice(name=slice_name)\n",
    "\n",
    "# Node1\n",
    "node1 = slice.add_node(name=node1_name, site=site1, image='docker_rocky_8')\n",
    "iface1 = node1.add_component(model='NIC_Basic', name='nic1').get_interfaces()[0]\n",
    "node1.add_fabnet()\n",
    "node1.add_post_boot_upload_directory('node_tools','.')\n",
    "node1.add_post_boot_execute('node_tools/enable_docker.sh {{ _self_.image }} ')\n",
    "node1.add_post_boot_upload_directory(\"./node_exporter\", \".\")\n",
    "node1.add_post_boot_execute(f'cd node_exporter; docker compose up -d')\n",
    "\n",
    "\n",
    "# Node2\n",
    "node2 = slice.add_node(name=node2_name, site=site2)\n",
    "node2.add_fabnet()\n",
    "node2.add_post_boot_upload_directory('node_tools','.')\n",
    "node2.add_post_boot_execute('node_tools/enable_docker.sh {{ _self_.image }} ')\n",
    "node2.add_post_boot_upload_directory(\"./node_exporter\", \".\")\n",
    "node2.add_post_boot_execute(f'cd node_exporter; docker compose up -d')\n",
    "\n",
    "#Submit Slice Request\n",
    "slice.submit();"
   ]
  },
  {
   "cell_type": "markdown",
   "metadata": {},
   "source": [
    "## Run the Experiment\n",
    "\n",
    "We will find the ping round trip time for this pair of sites.  Your experiment should be more interesting!\n"
   ]
  },
  {
   "cell_type": "code",
   "execution_count": null,
   "metadata": {
    "tags": []
   },
   "outputs": [],
   "source": [
    "slice = fablib.get_slice(slice_name)\n",
    "\n",
    "node1 = slice.get_node(name=node1_name)        \n",
    "node2 = slice.get_node(name=node2_name)           \n",
    "\n",
    "node2_addr = node2.get_interface(network_name=f'FABNET_IPv4_{node2.get_site()}').get_ip_addr()\n",
    "\n",
    "stdout, stderr = node1.execute(f'ping -c 5 {node2_addr}')\n",
    "    \n"
   ]
  },
  {
   "cell_type": "markdown",
   "metadata": {},
   "source": [
    "\n",
    "## Delete the Slice\n",
    "\n",
    "Please delete your slice when you are done with your experiment."
   ]
  },
  {
   "cell_type": "code",
   "execution_count": null,
   "metadata": {
    "tags": []
   },
   "outputs": [],
   "source": [
    "slice.delete()"
   ]
  },
  {
   "cell_type": "code",
   "execution_count": null,
   "metadata": {},
   "outputs": [],
   "source": []
  }
 ],
 "metadata": {
  "kernelspec": {
   "display_name": "Python 3 (ipykernel)",
   "language": "python",
   "name": "python3"
  },
  "language_info": {
   "codemirror_mode": {
    "name": "ipython",
    "version": 3
   },
   "file_extension": ".py",
   "mimetype": "text/x-python",
   "name": "python",
   "nbconvert_exporter": "python",
   "pygments_lexer": "ipython3",
   "version": "3.9.13"
  }
 },
 "nbformat": 4,
 "nbformat_minor": 4
}
