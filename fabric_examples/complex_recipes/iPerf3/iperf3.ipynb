{
 "cells": [
  {
   "cell_type": "markdown",
   "metadata": {},
   "source": [
    "# Create a Slice and Run iPerf3\n",
    "\n"
   ]
  },
  {
   "cell_type": "markdown",
   "metadata": {},
   "source": [
    "## Import the FABlib Library\n"
   ]
  },
  {
   "cell_type": "code",
   "execution_count": 1,
   "metadata": {
    "tags": []
   },
   "outputs": [
    {
     "data": {
      "text/html": [
       "<style type=\"text/css\">\n",
       "#T_b3e7a tr:nth-child(even) {\n",
       "  background: #dbf3ff;\n",
       "  color: #231f20;\n",
       "}\n",
       "#T_b3e7a tr:nth-child(odd) {\n",
       "  background: #ffffff;\n",
       "  color: #231f20;\n",
       "}\n",
       "#T_b3e7a caption {\n",
       "  text-align: center;\n",
       "  font-size: 150%;\n",
       "}\n",
       "#T_b3e7a_row0_col0, #T_b3e7a_row0_col1, #T_b3e7a_row1_col0, #T_b3e7a_row1_col1, #T_b3e7a_row2_col0, #T_b3e7a_row2_col1, #T_b3e7a_row3_col0, #T_b3e7a_row3_col1, #T_b3e7a_row4_col0, #T_b3e7a_row4_col1, #T_b3e7a_row5_col0, #T_b3e7a_row5_col1, #T_b3e7a_row6_col0, #T_b3e7a_row6_col1, #T_b3e7a_row7_col0, #T_b3e7a_row7_col1, #T_b3e7a_row8_col0, #T_b3e7a_row8_col1, #T_b3e7a_row9_col0, #T_b3e7a_row9_col1, #T_b3e7a_row10_col0, #T_b3e7a_row10_col1, #T_b3e7a_row11_col0, #T_b3e7a_row11_col1, #T_b3e7a_row12_col0, #T_b3e7a_row12_col1 {\n",
       "  text-align: left;\n",
       "  border: 1px #231f20 solid !important;\n",
       "  overwrite: False;\n",
       "}\n",
       "</style>\n",
       "<table id=\"T_b3e7a\">\n",
       "  <caption>FABlib Config</caption>\n",
       "  <thead>\n",
       "  </thead>\n",
       "  <tbody>\n",
       "    <tr>\n",
       "      <td id=\"T_b3e7a_row0_col0\" class=\"data row0 col0\" >Credential Manager</td>\n",
       "      <td id=\"T_b3e7a_row0_col1\" class=\"data row0 col1\" >cm.fabric-testbed.net</td>\n",
       "    </tr>\n",
       "    <tr>\n",
       "      <td id=\"T_b3e7a_row1_col0\" class=\"data row1 col0\" >Orchestrator</td>\n",
       "      <td id=\"T_b3e7a_row1_col1\" class=\"data row1 col1\" >orchestrator.fabric-testbed.net</td>\n",
       "    </tr>\n",
       "    <tr>\n",
       "      <td id=\"T_b3e7a_row2_col0\" class=\"data row2 col0\" >Token File</td>\n",
       "      <td id=\"T_b3e7a_row2_col1\" class=\"data row2 col1\" >/home/fabric/work/fabric_config/tokens.json</td>\n",
       "    </tr>\n",
       "    <tr>\n",
       "      <td id=\"T_b3e7a_row3_col0\" class=\"data row3 col0\" >Project ID</td>\n",
       "      <td id=\"T_b3e7a_row3_col1\" class=\"data row3 col1\" >990d8a8b-7e50-4d13-a3be-0f133ffa8653</td>\n",
       "    </tr>\n",
       "    <tr>\n",
       "      <td id=\"T_b3e7a_row4_col0\" class=\"data row4 col0\" >Bastion Username</td>\n",
       "      <td id=\"T_b3e7a_row4_col1\" class=\"data row4 col1\" >pruth_0031379841</td>\n",
       "    </tr>\n",
       "    <tr>\n",
       "      <td id=\"T_b3e7a_row5_col0\" class=\"data row5 col0\" >Bastion Private Key File</td>\n",
       "      <td id=\"T_b3e7a_row5_col1\" class=\"data row5 col1\" >/home/fabric/work/fabric_config/fabric_bastion_key</td>\n",
       "    </tr>\n",
       "    <tr>\n",
       "      <td id=\"T_b3e7a_row6_col0\" class=\"data row6 col0\" >Bastion Host</td>\n",
       "      <td id=\"T_b3e7a_row6_col1\" class=\"data row6 col1\" >bastion.fabric-testbed.net</td>\n",
       "    </tr>\n",
       "    <tr>\n",
       "      <td id=\"T_b3e7a_row7_col0\" class=\"data row7 col0\" >Bastion Private Key Passphrase</td>\n",
       "      <td id=\"T_b3e7a_row7_col1\" class=\"data row7 col1\" >None</td>\n",
       "    </tr>\n",
       "    <tr>\n",
       "      <td id=\"T_b3e7a_row8_col0\" class=\"data row8 col0\" >Slice Public Key File</td>\n",
       "      <td id=\"T_b3e7a_row8_col1\" class=\"data row8 col1\" >/home/fabric/work/fabric_config/slice_key.pub</td>\n",
       "    </tr>\n",
       "    <tr>\n",
       "      <td id=\"T_b3e7a_row9_col0\" class=\"data row9 col0\" >Slice Private Key File</td>\n",
       "      <td id=\"T_b3e7a_row9_col1\" class=\"data row9 col1\" >/home/fabric/work/fabric_config/slice_key</td>\n",
       "    </tr>\n",
       "    <tr>\n",
       "      <td id=\"T_b3e7a_row10_col0\" class=\"data row10 col0\" >Slice Private Key Passphrase</td>\n",
       "      <td id=\"T_b3e7a_row10_col1\" class=\"data row10 col1\" >None</td>\n",
       "    </tr>\n",
       "    <tr>\n",
       "      <td id=\"T_b3e7a_row11_col0\" class=\"data row11 col0\" >Log File</td>\n",
       "      <td id=\"T_b3e7a_row11_col1\" class=\"data row11 col1\" >/home/fabric/fablib.log</td>\n",
       "    </tr>\n",
       "    <tr>\n",
       "      <td id=\"T_b3e7a_row12_col0\" class=\"data row12 col0\" >Log Level</td>\n",
       "      <td id=\"T_b3e7a_row12_col1\" class=\"data row12 col1\" >INFO</td>\n",
       "    </tr>\n",
       "  </tbody>\n",
       "</table>\n"
      ],
      "text/plain": [
       "<pandas.io.formats.style.Styler at 0x7f5cd6e24bb0>"
      ]
     },
     "metadata": {},
     "output_type": "display_data"
    }
   ],
   "source": [
    "from fabrictestbed_extensions.fablib.fablib import FablibManager as fablib_manager\n",
    "\n",
    "fablib = fablib_manager()\n",
    "\n",
    "fablib.show_config();"
   ]
  },
  {
   "cell_type": "markdown",
   "metadata": {
    "tags": []
   },
   "source": [
    "## Create the Experiment Slice\n",
    "\n",
    "The following creates two nodes with basic NICs connected to an isolated local Ethernet.  \n"
   ]
  },
  {
   "cell_type": "code",
   "execution_count": null,
   "metadata": {
    "tags": []
   },
   "outputs": [],
   "source": [
    "slice_name = 'iPerf3'\n",
    "[site1, site2] = fablib.get_random_sites(count=2)\n",
    "print(f\"Sites: {sites}\")\n"
   ]
  },
  {
   "cell_type": "code",
   "execution_count": null,
   "metadata": {
    "tags": []
   },
   "outputs": [],
   "source": [
    "#Create Slice\n",
    "slice = fablib.new_slice(name=slice_name)\n",
    "\n",
    "# Node1\n",
    "node1 = slice.add_node(name=node1_name, cores=4, ram=16, site=site1, image='docker_rocky_8')\n",
    "node1.add_fabnet()\n",
    "node1.add_post_boot_upload_directory('node_tools','.')\n",
    "node1.add_post_boot_execute('sudo node_tools/host_tune.sh')\n",
    "node1.add_post_boot_execute('sudo node_tools/enable_docker.sh {{ _self_.image }} ')\n",
    "\n",
    "# Node2\n",
    "node2 = slice.add_node(name=node2_name, cores=4, ram=16, site=site2, image='docker_rocky_8')\n",
    "node2.add_fabnet()\n",
    "node2.add_post_boot_upload_directory('node_tools','.')\n",
    "node2.add_post_boot_execute('sudo node_tools/host_tune.sh')\n",
    "node2.add_post_boot_execute('sudo node_tools/enable_docker.sh {{ _self_.image }} ')\n",
    "\n",
    "#Submit Slice Request\n",
    "slice.submit();"
   ]
  },
  {
   "cell_type": "markdown",
   "metadata": {},
   "source": [
    "## Run iPerf3"
   ]
  },
  {
   "cell_type": "code",
   "execution_count": null,
   "metadata": {
    "tags": []
   },
   "outputs": [],
   "source": [
    "slice = fablib.get_slice(slice_name)\n",
    "\n",
    "node1 = slice.get_node(name=node1_name)        \n",
    "node2 = slice.get_node(name=node2_name)           \n",
    "\n",
    "stdout1, stderr1 = node1.execute(\"docker run -d --rm \"\n",
    "                                \"--network host \"\n",
    "                                \"pruth/fabric-multitool-rockylinux8:latest \"\n",
    "                                \"iperf3 -s -1\"\n",
    "                                , quiet=True, output_file=f\"{node1.get_name()}.log\");\n",
    "\n",
    "node1_addr = node1.get_interface(network_name=f'FABNET_IPv4_{node1.get_site()}').get_ip_addr()\n",
    "\n",
    "stdout2, stderr2 = node2.execute(\"docker run --rm \"\n",
    "                                \"--network host \"\n",
    "                                \"pruth/fabric-multitool-rockylinux8:latest \"\n",
    "                                f\"iperf3 -c {node1_addr} -P 4 -t 60 -i 10 -O 10\"\n",
    "                                , quiet=False, output_file=f\"{node2.get_name()}.log\");\n",
    "\n",
    "\n"
   ]
  },
  {
   "cell_type": "markdown",
   "metadata": {},
   "source": [
    "## Delete the Slice\n",
    "\n",
    "Please delete your slice when you are done with your experiment."
   ]
  },
  {
   "cell_type": "code",
   "execution_count": null,
   "metadata": {
    "tags": []
   },
   "outputs": [],
   "source": [
    "slice = fablib.get_slice(slice_name)\n",
    "slice.delete()"
   ]
  },
  {
   "cell_type": "code",
   "execution_count": null,
   "metadata": {},
   "outputs": [],
   "source": []
  }
 ],
 "metadata": {
  "kernelspec": {
   "display_name": "Python 3 (ipykernel)",
   "language": "python",
   "name": "python3"
  },
  "language_info": {
   "codemirror_mode": {
    "name": "ipython",
    "version": 3
   },
   "file_extension": ".py",
   "mimetype": "text/x-python",
   "name": "python",
   "nbconvert_exporter": "python",
   "pygments_lexer": "ipython3",
   "version": "3.9.13"
  }
 },
 "nbformat": 4,
 "nbformat_minor": 4
}
