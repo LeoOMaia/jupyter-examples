{
 "cells": [
  {
   "cell_type": "markdown",
   "metadata": {
    "tags": []
   },
   "source": [
    "# Hello, FABRIC: Create your first FABRIC slice\n"
   ]
  },
  {
   "cell_type": "markdown",
   "metadata": {
    "tags": []
   },
   "source": [
    "## Setup the Experiment\n",
    "\n",
    "#### Import the FABRIC API"
   ]
  },
  {
   "cell_type": "code",
   "execution_count": null,
   "metadata": {
    "tags": []
   },
   "outputs": [],
   "source": [
    "import json\n",
    "import traceback\n",
    "\n",
    "from fabrictestbed_extensions.fablib.fablib import FablibManager as fablib_manager\n",
    "\n",
    "fablib = fablib_manager()\n",
    "                     \n",
    "fablib.show_config()"
   ]
  },
  {
   "cell_type": "markdown",
   "metadata": {},
   "source": [
    "#### Create the FABRIC Proxies\n",
    "\n",
    "The FABRIC API is used via proxy objects that manage connections to the control framework.  "
   ]
  },
  {
   "cell_type": "markdown",
   "metadata": {
    "tags": []
   },
   "source": [
    "#### (Optional) Query Available Resources\n",
    "\n",
    "This optional command queries the FABRIC services to find the available resources. It may be useful for finding a site with available capacity."
   ]
  },
  {
   "cell_type": "code",
   "execution_count": null,
   "metadata": {},
   "outputs": [],
   "source": [
    "try:\n",
    "    available_resources = fablib.get_available_resources()\n",
    "    print(f\"Available Resources: {available_resources}\")\n",
    "except Exception as e:\n",
    "    print(f\"Error: {e}\")"
   ]
  },
  {
   "cell_type": "markdown",
   "metadata": {
    "tags": []
   },
   "source": [
    "## Create the Experiment Slice"
   ]
  },
  {
   "cell_type": "markdown",
   "metadata": {
    "tags": []
   },
   "source": [
    "#### Configure the Experiment Parameters\n",
    "\n"
   ]
  },
  {
   "cell_type": "code",
   "execution_count": null,
   "metadata": {},
   "outputs": [],
   "source": [
    "slice_name = 'MySlice'\n",
    "site = fablib.get_random_site()\n",
    "print(f\"Site: {site}\")\n",
    "node1_name = 'Node1'\n",
    "node2_name = 'Node2'\n",
    "image = 'default_ubuntu_20'\n",
    "node1_nic_name = 'NIC1'\n",
    "node2_nic_name = 'NIC2'\n",
    "network_name = 'NET1'"
   ]
  },
  {
   "cell_type": "markdown",
   "metadata": {
    "tags": []
   },
   "source": [
    "### Create Slice\n",
    "\n",
    "<img src=\"./figs/SingleNode.png\" width=\"20%\"><br>\n",
    "\n",
    "Create a single node with basic compute capabilities. The submit function will block until the node is ready and will display a progress bar.\n"
   ]
  },
  {
   "cell_type": "code",
   "execution_count": null,
   "metadata": {},
   "outputs": [],
   "source": [
    "try:\n",
    "    #Create Slice\n",
    "    slice = fablib.new_slice(slice_name)\n",
    "\n",
    "    # Add node\n",
    "    node1 = slice.add_node(name=node1_name, site=site, image=image)\n",
    "    iface1 = node1.add_component(model='NIC_Basic', name=node1_nic_name).get_interfaces()[0]\n",
    "    \n",
    "    # Add node\n",
    "    node2 = slice.add_node(name=node2_name, site=site, image=image)\n",
    "    iface2 = node2.add_component(model='NIC_Basic', name=node2_nic_name).get_interfaces()[0]\n",
    "    \n",
    "    # Network\n",
    "    net1 = slice.add_l3network(name=network_name, interfaces=[iface1, iface2], type='IPv4')\n",
    "    \n",
    "    #Submit Slice Request\n",
    "    slice_id = slice.submit()\n",
    "    \n",
    "except Exception as e:\n",
    "    print(f\"{e}\")"
   ]
  },
  {
   "cell_type": "markdown",
   "metadata": {
    "tags": []
   },
   "source": [
    "### Print the Node's Attributes\n",
    "\n",
    "Each node in the slice has a set of get functions that return the node's attributes."
   ]
  },
  {
   "cell_type": "code",
   "execution_count": null,
   "metadata": {},
   "outputs": [],
   "source": [
    "try:\n",
    "    slice = fablib.get_slice(slice_id=slice_id)\n",
    "    \n",
    "    for node in slice.get_nodes():\n",
    "        print(f\"{node}\")\n",
    "    \n",
    "except Exception as e:\n",
    "    print(f\"Fail: {e}\")\n",
    "    traceback.print_exc()"
   ]
  },
  {
   "cell_type": "code",
   "execution_count": null,
   "metadata": {},
   "outputs": [],
   "source": [
    "try:\n",
    "    network = slice.get_network(name=network_name)\n",
    "    network_available_ips = network.get_available_ips()\n",
    "    print(f\"{network}\")\n",
    "    \n",
    "except Exception as e:\n",
    "    print(f\"Exception: {e}\")"
   ]
  },
  {
   "cell_type": "code",
   "execution_count": null,
   "metadata": {},
   "outputs": [],
   "source": [
    "try:\n",
    "    node1 = slice.get_node(node1_name)\n",
    "    node1_iface = node1.get_interface(network_name=network_name)\n",
    "    \n",
    "    node1_address = network_available_ips.pop(0)\n",
    "    node1_iface.ip_addr_add(addr=node1_address, subnet=network.get_subnet())\n",
    "    #node1.ip_route_add(subnet=network.get_subnet(), gateway=network.get_gateway())\n",
    "    \n",
    "    stdout, stderr = node1.execute(f'ip addr show {node1_iface.get_os_interface()}')\n",
    "    print (stdout)\n",
    "    \n",
    "    stdout, stderr = node1.execute(f'ip route list')\n",
    "    print (stdout)\n",
    "    \n",
    "except Exception as e:\n",
    "    print(f\"Fail: {e}\")\n",
    "    traceback.print_exc()"
   ]
  },
  {
   "cell_type": "code",
   "execution_count": null,
   "metadata": {},
   "outputs": [],
   "source": [
    "try:\n",
    "    node2 = slice.get_node(node2_name)\n",
    "    node2_iface = node2.get_interface(network_name=network_name)\n",
    "    \n",
    "    node2_address = network_available_ips.pop(0)\n",
    "    node2_iface.ip_addr_add(addr=node2_address, subnet=network.get_subnet())\n",
    "    #node2.ip_route_add(subnet=network.get_subnet(), gateway=network.get_gateway())\n",
    "    \n",
    "    stdout, stderr = node2.execute(f'ip addr show {node1_iface.get_os_interface()}')\n",
    "    print (stdout)\n",
    "    \n",
    "    stdout, stderr = node2.execute(f'ip route list')\n",
    "    print (stdout)\n",
    "    \n",
    "except Exception as e:\n",
    "    print(f\"Fail: {e}\")\n",
    "    traceback.print_exc()"
   ]
  },
  {
   "cell_type": "markdown",
   "metadata": {},
   "source": [
    "\n",
    "## Now let's start a kubernetes cluster on the two nodes. First node is the \"control plane\". Second node is the \"worker\".\n",
    "\n",
    "We follow the instructions that we have here: https://github.com/apache/openwhisk-deploy-kube/blob/master/docs/k8s-diy-ubuntu.md"
   ]
  },
  {
   "cell_type": "code",
   "execution_count": null,
   "metadata": {},
   "outputs": [],
   "source": [
    "try:\n",
    "    file_attributes = node1.upload_file(local_file_path=\"config_control_plane.sh\", remote_file_path=\"config_control_plane.sh\")\n",
    "    \n",
    "    stdout, stderr = node1.execute(f\"chmod +x config_control_plane.sh && ./config_control_plane.sh\")\n",
    "\n",
    "except Exception as e:\n",
    "    print(f\"Exception: {e}\")\n",
    " "
   ]
  },
  {
   "cell_type": "markdown",
   "metadata": {},
   "source": [
    "## The setup part is complete. Now we start running the kubernetes cluster."
   ]
  },
  {
   "cell_type": "code",
   "execution_count": null,
   "metadata": {},
   "outputs": [],
   "source": [
    "try:\n",
    "    file_attributes = node1.upload_file(local_file_path=\"start_control_plane.sh\", remote_file_path=\"start_control_plane.sh\")\n",
    "    \n",
    "    stdout, stderr = node1.execute(f\"chmod +x start_control_plane.sh && ./start_control_plane.sh {network.get_subnet()} {node1_address}\")\n",
    "except Exception as e:\n",
    "    print(f\"Exception: {e}\")\n",
    " "
   ]
  },
  {
   "cell_type": "markdown",
   "metadata": {},
   "source": [
    "## Node status is \"Ready\".\n",
    "\n",
    "# Client side setup."
   ]
  },
  {
   "cell_type": "code",
   "execution_count": null,
   "metadata": {},
   "outputs": [],
   "source": [
    "try:\n",
    "    file_attributes = node2.upload_file(local_file_path=\"config_worker_node.sh\", remote_file_path=\"config_worker_node.sh\")\n",
    "    \n",
    "    stdout, stderr = node2.execute(f\"chmod +x config_worker_node.sh && ./config_worker_node.sh\")\n",
    "except Exception as e:\n",
    "    print(f\"Exception: {e}\")\n",
    " "
   ]
  },
  {
   "cell_type": "markdown",
   "metadata": {},
   "source": [
    "## The setup part is complete. Now we need to do the join command. We do it like this:\n",
    "\n",
    "As a note. When we do \"kubeadm init\" in the server, it prints the join command for us. What we do is that we copy it and paste it in the client. And don't forget to add sudo."
   ]
  },
  {
   "cell_type": "code",
   "execution_count": null,
   "metadata": {},
   "outputs": [],
   "source": [
    "try:\n",
    "    file_attributes = node2.upload_file(local_file_path=\"start_worker_node.sh\", remote_file_path=\"start_worker_node.sh\")\n",
    "    \n",
    "    stdout, stderr = node2.execute(f\"chmod +x start_worker_node.sh && ./start_worker_node.sh {node1_address}\")\n",
    "except Exception as e:\n",
    "    print(f\"Exception: {e}\")\n",
    " "
   ]
  },
  {
   "cell_type": "markdown",
   "metadata": {},
   "source": [
    "## Let's check back at the server."
   ]
  },
  {
   "cell_type": "code",
   "execution_count": null,
   "metadata": {},
   "outputs": [],
   "source": [
    "try:\n",
    "    stdout, stderr = node1.execute(\" kubectl get nodes\")\n",
    "    print(f\"stdout: {stdout}\")\n",
    "    print(f\"stderr: {stderr}\")\n",
    "except Exception as e:\n",
    "    print(f\"Exception: {e}\")\n",
    " "
   ]
  },
  {
   "cell_type": "markdown",
   "metadata": {},
   "source": [
    "## Node has successfully joined the cluster.\n",
    "\n",
    "# Deploying a hello world application."
   ]
  },
  {
   "cell_type": "markdown",
   "metadata": {},
   "source": [
    "## First, we pull a hello world image and create a \"deployment\"."
   ]
  },
  {
   "cell_type": "code",
   "execution_count": null,
   "metadata": {},
   "outputs": [],
   "source": [
    "try:\n",
    "    stdout, stderr = node1.execute(\"kubectl create deployment kubernetes-bootcamp --image=gcr.io/google-samples/kubernetes-bootcamp:v1\")\n",
    "    print(f\"stdout: {stdout}\")\n",
    "    print(f\"stderr: {stderr}\")\n",
    "except Exception as e:\n",
    "    print(f\"Exception: {e}\")\n",
    " "
   ]
  },
  {
   "cell_type": "markdown",
   "metadata": {},
   "source": [
    "## Now let's do some status commands."
   ]
  },
  {
   "cell_type": "code",
   "execution_count": null,
   "metadata": {},
   "outputs": [],
   "source": [
    "try:\n",
    "    stdout, stderr = node1.execute(\"kubectl get pods --all-namespaces\")\n",
    "    print(f\"stdout: {stdout}\")\n",
    "    print(f\"stderr: {stderr}\")\n",
    "except Exception as e:\n",
    "    print(f\"Exception: {e}\")"
   ]
  },
  {
   "cell_type": "markdown",
   "metadata": {},
   "source": [
    "## Pick the correct pod name and run the command below."
   ]
  },
  {
   "cell_type": "code",
   "execution_count": null,
   "metadata": {},
   "outputs": [],
   "source": [
    "\n",
    "try:\n",
    "    stdout, stderr = node1.execute(\"kubectl describe pod kubernetes-bootcamp-65d5b99f84-brrvp\")\n",
    "    print(f\"stdout: {stdout}\")\n",
    "    print(f\"stderr: {stderr}\")\n",
    "except Exception as e:\n",
    "    print(f\"Exception: {e}\")"
   ]
  },
  {
   "cell_type": "markdown",
   "metadata": {},
   "source": [
    "## The next thing we need to do is to create what is called a \"service\".\n",
    "\n",
    "We are going to use it to expose the deployment to the outside, through a port, which is 8080. Like this:\n",
    "\n",
    "Note that the service itself will still need to be exposed. There's another \"expose\" step that we need to make."
   ]
  },
  {
   "cell_type": "code",
   "execution_count": null,
   "metadata": {},
   "outputs": [],
   "source": [
    "try:\n",
    "    stdout, stderr = node1.execute('kubectl expose deployment/kubernetes-bootcamp --type=\"ClusterIP\" --port 8080')\n",
    "    print(f\"stdout: {stdout}\")\n",
    "    print(f\"stderr: {stderr}\")\n",
    "except Exception as e:\n",
    "    print(f\"Exception: {e}\")"
   ]
  },
  {
   "cell_type": "markdown",
   "metadata": {},
   "source": [
    "## Let's check if the service was created."
   ]
  },
  {
   "cell_type": "code",
   "execution_count": null,
   "metadata": {},
   "outputs": [],
   "source": [
    "try:\n",
    "    stdout, stderr = node1.execute(\"kubectl get service kubernetes-bootcamp\")\n",
    "    print(f\"stdout: {stdout}\")\n",
    "    print(f\"stderr: {stderr}\")\n",
    "except Exception as e:\n",
    "    print(f\"Exception: {e}\")"
   ]
  },
  {
   "cell_type": "markdown",
   "metadata": {},
   "source": [
    "## Finally, we need to run a port forwarding command in order to expose the service to the outside.\n",
    "\n",
    "Modify the --address flag. Use the \"CLUSTER-IP\" that is output form the command above."
   ]
  },
  {
   "cell_type": "code",
   "execution_count": null,
   "metadata": {},
   "outputs": [],
   "source": [
    "try:\n",
    "    stdout, stderr = node1.execute(\"kubectl port-forward --address 10.101.194.170 service/kubernetes-bootcamp 8080:8080 > /dev/null 2>&1 &\")\n",
    "    print(f\"stdout: {stdout}\")\n",
    "    print(f\"stderr: {stderr}\")\n",
    "except Exception as e:\n",
    "    print(f\"Exception: {e}\")"
   ]
  },
  {
   "cell_type": "markdown",
   "metadata": {},
   "source": [
    "## Now our application should finally be visible. Let's test the deployment on the control plane machine itself."
   ]
  },
  {
   "cell_type": "code",
   "execution_count": null,
   "metadata": {},
   "outputs": [],
   "source": [
    "try:\n",
    "    stdout, stderr = node1.execute(\"curl 10.101.194.170:8080\")\n",
    "    print(f\"stdout: {stdout}\")\n",
    "    print(f\"stderr: {stderr}\")\n",
    "except Exception as e:\n",
    "    print(f\"Exception: {e}\")"
   ]
  },
  {
   "cell_type": "markdown",
   "metadata": {
    "tags": []
   },
   "source": [
    "## Delete Slice\n",
    "\n",
    "Please delete your slicd when you are done with your experiment."
   ]
  },
  {
   "cell_type": "code",
   "execution_count": null,
   "metadata": {},
   "outputs": [],
   "source": [
    "try:\n",
    "    slice = fablib.get_slice(slice_name)\n",
    "    slice.delete()\n",
    "except Exception as e:\n",
    "    print(f\"Fail: {e}\")"
   ]
  },
  {
   "cell_type": "code",
   "execution_count": null,
   "metadata": {},
   "outputs": [],
   "source": []
  },
  {
   "cell_type": "code",
   "execution_count": null,
   "metadata": {},
   "outputs": [],
   "source": []
  }
 ],
 "metadata": {
  "kernelspec": {
   "display_name": "Python 3 (ipykernel)",
   "language": "python",
   "name": "python3"
  },
  "language_info": {
   "codemirror_mode": {
    "name": "ipython",
    "version": 3
   },
   "file_extension": ".py",
   "mimetype": "text/x-python",
   "name": "python",
   "nbconvert_exporter": "python",
   "pygments_lexer": "ipython3",
   "version": "3.9.2"
  }
 },
 "nbformat": 4,
 "nbformat_minor": 4
}
