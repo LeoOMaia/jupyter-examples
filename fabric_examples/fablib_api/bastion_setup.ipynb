{
 "cells": [
  {
   "cell_type": "markdown",
   "metadata": {
    "tags": []
   },
   "source": [
    "# Setup a FABRIC Bastion Keypair\n",
    "\n",
    "In order to minimize security incidents on FABRIC, access to VMs and other resources administered by users is controlled using a bastion host. You will need to set up an ssh keypair that will be used to jump through the bastion host to your VMs and other resources. This keypair is unique to you and is only used to set up ssh proxy connections through the bastion host to your FABRIC resources. \n",
    "\n",
    "The following notebook walks through creating and submitting a bastion keypair necessary to use FABRIC. More information about how to access your experiment through the bastion host can be found [here](https://learn.fabric-testbed.net/knowledge-base/logging-into-fabric-vms/).\n",
    "\n",
    "## Step 1: Add your Bastion Key\n",
    "\n",
    "Copy your bastion private key to your Jupyter container. Drag/drop your key from your local machine to the file browser in your Juypyter browser window. Note the name of your key and location where you put it."
   ]
  },
  {
   "cell_type": "markdown",
   "metadata": {
    "tags": []
   },
   "source": [
    "## Step 2: Set your Bastion Username and the Path to your Bastion Keys\n",
    "\n",
    "Edit the following cell by entering you FABRIC bastion username and the correct path to the copy of your bastion private key in your Jupyter container.  \n",
    "\n",
    "- Your bastion user name can be found on your [user profile page](https://portal.fabric-testbed.net/user) in the FABRIC portal (click \"My SSH Keys\").\n",
    "- The path to your bastion key was determined when you copyied it to the Jupyter container.  "
   ]
  },
  {
   "cell_type": "code",
   "execution_count": null,
   "metadata": {},
   "outputs": [],
   "source": [
    "export FABRIC_BASTION_USERNAME=<INSERT_YOUR_FABRIC_USERNAME>\n",
    "export FABRIC_BASTION_PRIVATE_KEY_LOCATION=${HOME}/work/fabric_bastion_key\n",
    "export FABRIC_BASTION_PUBLIC_KEY_LOCATION=${HOME}/work/fabric_bastion_key.pub"
   ]
  },
  {
   "cell_type": "markdown",
   "metadata": {},
   "source": [
    "## Step 3:  Set the Permissions on your Bastion Key\n",
    " \n",
    "Your private bastion key must not have it permissions too open."
   ]
  },
  {
   "cell_type": "code",
   "execution_count": null,
   "metadata": {},
   "outputs": [],
   "source": [
    "chmod 600 ${FABRIC_BASTION_PRIVATE_KEY_LOCATION}"
   ]
  },
  {
   "cell_type": "markdown",
   "metadata": {},
   "source": [
    "## Step 4: Create the SSH Config File\n",
    "\n",
    "Using ssh to jump through the bastion hose from a terminal command line requires your bastion private key to be automatically accessible by your ssh program. One way to do this is to add the following entry to your ~/.ssh/config file.  \n"
   ]
  },
  {
   "cell_type": "code",
   "execution_count": null,
   "metadata": {},
   "outputs": [],
   "source": [
    "export FABRIC_BASTION_SSH_CONFIG_FILE=${HOME}/.ssh/config\n",
    "\n",
    "echo \"Host bastion-*.fabric-testbed.net\"                        >  ${FABRIC_BASTION_SSH_CONFIG_FILE}\n",
    "echo \"     User ${FABRIC_BASTION_USERNAME}\"                     >> ${FABRIC_BASTION_SSH_CONFIG_FILE}\n",
    "echo \"     IdentityFile ${FABRIC_BASTION_PRIVATE_KEY_LOCATION}\" >> ${FABRIC_BASTION_SSH_CONFIG_FILE}"
   ]
  },
  {
   "cell_type": "markdown",
   "metadata": {},
   "source": [
    "## Step 5: Re-run this Notebook as Needed\n",
    "\n",
    "The files you store in the ~/work directory of this Jupyter container are persistent and will be here whenever you login. Files outside of this directory are not persistent and will be cleaned up when your Jupyter container is reloaded. Unfortunately, this includes the ssh config file created in step 4. When this happens you will need to recreate the config file by re-running this notebook. \n"
   ]
  },
  {
   "cell_type": "code",
   "execution_count": null,
   "metadata": {},
   "outputs": [],
   "source": []
  }
 ],
 "metadata": {
  "kernelspec": {
   "display_name": "Bash",
   "language": "bash",
   "name": "bash"
  },
  "language_info": {
   "codemirror_mode": "shell",
   "file_extension": ".sh",
   "mimetype": "text/x-sh",
   "name": "bash"
  }
 },
 "nbformat": 4,
 "nbformat_minor": 4
}
