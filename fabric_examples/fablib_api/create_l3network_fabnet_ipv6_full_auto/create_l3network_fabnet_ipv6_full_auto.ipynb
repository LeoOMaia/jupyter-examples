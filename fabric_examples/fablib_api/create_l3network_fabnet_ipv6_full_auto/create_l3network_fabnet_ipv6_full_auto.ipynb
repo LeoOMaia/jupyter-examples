{
 "cells": [
  {
   "cell_type": "markdown",
   "metadata": {},
   "source": [
    "# Creating FABnet IPv6 Network\n",
    "\n",
    "FABRIC provides a pair of layer 3 IP networking services across every FABRIC site (FABnetv4 and FABnetv6). You can think of this service as a private internet that connects experiments across the testbed using FABRIC's high-performance network links. \n",
    "\n",
    "This notebook describes how to use the FABnetv4 service which is FABRIC's private IPv6 internet.   "
   ]
  },
  {
   "cell_type": "markdown",
   "metadata": {},
   "source": [
    "## Import the FABlib Library\n"
   ]
  },
  {
   "cell_type": "code",
   "execution_count": 1,
   "metadata": {
    "tags": []
   },
   "outputs": [
    {
     "data": {
      "text/html": [
       "<style type=\"text/css\">\n",
       "#T_213a8 tr:nth-child(even) {\n",
       "  background: #dbf3ff;\n",
       "  color: #231f20;\n",
       "}\n",
       "#T_213a8 tr:nth-child(odd) {\n",
       "  background: #ffffff;\n",
       "  color: #231f20;\n",
       "}\n",
       "#T_213a8 caption {\n",
       "  text-align: center;\n",
       "  font-size: 150%;\n",
       "}\n",
       "#T_213a8_row0_col0, #T_213a8_row0_col1, #T_213a8_row1_col0, #T_213a8_row1_col1, #T_213a8_row2_col0, #T_213a8_row2_col1, #T_213a8_row3_col0, #T_213a8_row3_col1, #T_213a8_row4_col0, #T_213a8_row4_col1, #T_213a8_row5_col0, #T_213a8_row5_col1, #T_213a8_row6_col0, #T_213a8_row6_col1, #T_213a8_row7_col0, #T_213a8_row7_col1, #T_213a8_row8_col0, #T_213a8_row8_col1, #T_213a8_row9_col0, #T_213a8_row9_col1, #T_213a8_row10_col0, #T_213a8_row10_col1, #T_213a8_row11_col0, #T_213a8_row11_col1, #T_213a8_row12_col0, #T_213a8_row12_col1 {\n",
       "  text-align: left;\n",
       "  border: 1px #231f20 solid !important;\n",
       "  overwrite: False;\n",
       "}\n",
       "</style>\n",
       "<table id=\"T_213a8\">\n",
       "  <caption>FABlib Config</caption>\n",
       "  <thead>\n",
       "  </thead>\n",
       "  <tbody>\n",
       "    <tr>\n",
       "      <td id=\"T_213a8_row0_col0\" class=\"data row0 col0\" >Credential Manager</td>\n",
       "      <td id=\"T_213a8_row0_col1\" class=\"data row0 col1\" >cm.fabric-testbed.net</td>\n",
       "    </tr>\n",
       "    <tr>\n",
       "      <td id=\"T_213a8_row1_col0\" class=\"data row1 col0\" >Orchestrator</td>\n",
       "      <td id=\"T_213a8_row1_col1\" class=\"data row1 col1\" >orchestrator.fabric-testbed.net</td>\n",
       "    </tr>\n",
       "    <tr>\n",
       "      <td id=\"T_213a8_row2_col0\" class=\"data row2 col0\" >Token File</td>\n",
       "      <td id=\"T_213a8_row2_col1\" class=\"data row2 col1\" >/home/fabric/work/fabric_config/tokens.json</td>\n",
       "    </tr>\n",
       "    <tr>\n",
       "      <td id=\"T_213a8_row3_col0\" class=\"data row3 col0\" >Project ID</td>\n",
       "      <td id=\"T_213a8_row3_col1\" class=\"data row3 col1\" >990d8a8b-7e50-4d13-a3be-0f133ffa8653</td>\n",
       "    </tr>\n",
       "    <tr>\n",
       "      <td id=\"T_213a8_row4_col0\" class=\"data row4 col0\" >Bastion Username</td>\n",
       "      <td id=\"T_213a8_row4_col1\" class=\"data row4 col1\" >pruth_0031379841</td>\n",
       "    </tr>\n",
       "    <tr>\n",
       "      <td id=\"T_213a8_row5_col0\" class=\"data row5 col0\" >Bastion Private Key File</td>\n",
       "      <td id=\"T_213a8_row5_col1\" class=\"data row5 col1\" >/home/fabric/work/fabric_config/fabric_bastion_key</td>\n",
       "    </tr>\n",
       "    <tr>\n",
       "      <td id=\"T_213a8_row6_col0\" class=\"data row6 col0\" >Bastion Host</td>\n",
       "      <td id=\"T_213a8_row6_col1\" class=\"data row6 col1\" >bastion.fabric-testbed.net</td>\n",
       "    </tr>\n",
       "    <tr>\n",
       "      <td id=\"T_213a8_row7_col0\" class=\"data row7 col0\" >Bastion Private Key Passphrase</td>\n",
       "      <td id=\"T_213a8_row7_col1\" class=\"data row7 col1\" >None</td>\n",
       "    </tr>\n",
       "    <tr>\n",
       "      <td id=\"T_213a8_row8_col0\" class=\"data row8 col0\" >Slice Public Key File</td>\n",
       "      <td id=\"T_213a8_row8_col1\" class=\"data row8 col1\" >/home/fabric/work/fabric_config/slice_key.pub</td>\n",
       "    </tr>\n",
       "    <tr>\n",
       "      <td id=\"T_213a8_row9_col0\" class=\"data row9 col0\" >Slice Private Key File</td>\n",
       "      <td id=\"T_213a8_row9_col1\" class=\"data row9 col1\" >/home/fabric/work/fabric_config/slice_key</td>\n",
       "    </tr>\n",
       "    <tr>\n",
       "      <td id=\"T_213a8_row10_col0\" class=\"data row10 col0\" >Slice Private Key Passphrase</td>\n",
       "      <td id=\"T_213a8_row10_col1\" class=\"data row10 col1\" >None</td>\n",
       "    </tr>\n",
       "    <tr>\n",
       "      <td id=\"T_213a8_row11_col0\" class=\"data row11 col0\" >Log File</td>\n",
       "      <td id=\"T_213a8_row11_col1\" class=\"data row11 col1\" >/home/fabric/fablib.log</td>\n",
       "    </tr>\n",
       "    <tr>\n",
       "      <td id=\"T_213a8_row12_col0\" class=\"data row12 col0\" >Log Level</td>\n",
       "      <td id=\"T_213a8_row12_col1\" class=\"data row12 col1\" >INFO</td>\n",
       "    </tr>\n",
       "  </tbody>\n",
       "</table>\n"
      ],
      "text/plain": [
       "<pandas.io.formats.style.Styler at 0x7f2e9d7ceb20>"
      ]
     },
     "metadata": {},
     "output_type": "display_data"
    }
   ],
   "source": [
    "from fabrictestbed_extensions.fablib.fablib import FablibManager as fablib_manager\n",
    "\n",
    "fablib = fablib_manager()\n",
    "                     \n",
    "fablib.show_config();"
   ]
  },
  {
   "cell_type": "markdown",
   "metadata": {
    "tags": []
   },
   "source": [
    "## Create the Experiment Slice\n",
    "\n",
    "The following creates two nodes, on different sites, with basic NICs connected to FABRIC's FABnetv4 internet.  \n",
    "\n",
    "Two nodes are created and one NIC component is added to each node.  This example uses components of model `NIC_Basic` which are SR-IOV Virtual Function on a 100 Gpbs Mellanox ConnectX-6 PCI device. The VF is accessed by the node via PCI passthrough. Other NIC models are listed below. When using dedicated PCI devices the whole physical device is allocated to one node and the device is accessed by the node using PCI passthrough. Calling the `get_interfaces()` method on a component will return a list of interfaces. Many dedicated NIC components may have more than one port.  Either port can be connected to the network.\n",
    "\n",
    "Next, add a separate `l3network` for each site and pass the list of interfaces on that site that you want to connect to FABnetv4. All interfaces passed to `l3network` must be on the same site and each network will be placed on that site.  By default, a node is put on a random site.  If you want to ensure that your nodes are all on different sites you can specify the name of the sites in the `add_node` methode.  You can use the `fablib.get_random_site()` method to get a set of random site names that guarantee that the sites are different. \n",
    "\n",
    "\n",
    "NIC component models options:\n",
    "- NIC_Basic: 100 Gbps Mellanox ConnectX-6 SR-IOV VF (1 Port)\n",
    "- NIC_ConnectX_5: 25 Gbps Dedicated Mellanox ConnectX-5 PCI Device (2 Ports) \n",
    "- NIC_ConnectX_6: 100 Gbps Dedicated Mellanox ConnectX-6 PCI Device (2 Ports) "
   ]
  },
  {
   "cell_type": "code",
   "execution_count": 2,
   "metadata": {
    "tags": []
   },
   "outputs": [
    {
     "name": "stdout",
     "output_type": "stream",
     "text": [
      "Sites: CERN, DALL\n"
     ]
    }
   ],
   "source": [
    "slice_name = 'MySlice102'\n",
    "[site1,site2] = fablib.get_random_sites(count=2)\n",
    "print(f\"Sites: {site1}, {site2}\")\n",
    "\n",
    "node1_name = 'Node1'\n",
    "node2_name = 'Node2'"
   ]
  },
  {
   "cell_type": "code",
   "execution_count": null,
   "metadata": {
    "tags": []
   },
   "outputs": [
    {
     "name": "stdout",
     "output_type": "stream",
     "text": [
      "\n",
      "Retry: 2, Time: 61 sec\n"
     ]
    },
    {
     "data": {
      "text/html": [
       "<style type=\"text/css\">\n",
       "#T_1e8e1 tr:nth-child(even) {\n",
       "  background: #dbf3ff;\n",
       "  color: #231f20;\n",
       "}\n",
       "#T_1e8e1 tr:nth-child(odd) {\n",
       "  background: #ffffff;\n",
       "  color: #231f20;\n",
       "}\n",
       "#T_1e8e1 caption {\n",
       "  text-align: center;\n",
       "  font-size: 150%;\n",
       "}\n",
       "#T_1e8e1_row0_col0, #T_1e8e1_row0_col1, #T_1e8e1_row1_col0, #T_1e8e1_row1_col1, #T_1e8e1_row2_col0, #T_1e8e1_row2_col1, #T_1e8e1_row3_col0, #T_1e8e1_row3_col1, #T_1e8e1_row4_col0, #T_1e8e1_row4_col1, #T_1e8e1_row5_col0 {\n",
       "  text-align: left;\n",
       "  border: 1px #231f20 solid !important;\n",
       "  overwrite: False;\n",
       "  background-color: ;\n",
       "}\n",
       "#T_1e8e1_row5_col1 {\n",
       "  text-align: left;\n",
       "  border: 1px #231f20 solid !important;\n",
       "  overwrite: False;\n",
       "  background-color: #ffffbe;\n",
       "}\n",
       "</style>\n",
       "<table id=\"T_1e8e1\">\n",
       "  <caption>Slice</caption>\n",
       "  <thead>\n",
       "  </thead>\n",
       "  <tbody>\n",
       "    <tr>\n",
       "      <td id=\"T_1e8e1_row0_col0\" class=\"data row0 col0\" >ID</td>\n",
       "      <td id=\"T_1e8e1_row0_col1\" class=\"data row0 col1\" >ef6be629-2d90-4a6a-8ac5-375e4d0167fd</td>\n",
       "    </tr>\n",
       "    <tr>\n",
       "      <td id=\"T_1e8e1_row1_col0\" class=\"data row1 col0\" >Name</td>\n",
       "      <td id=\"T_1e8e1_row1_col1\" class=\"data row1 col1\" >MySlice102</td>\n",
       "    </tr>\n",
       "    <tr>\n",
       "      <td id=\"T_1e8e1_row2_col0\" class=\"data row2 col0\" >Lease Expiration (UTC)</td>\n",
       "      <td id=\"T_1e8e1_row2_col1\" class=\"data row2 col1\" >2023-04-20 12:57:20 +0000</td>\n",
       "    </tr>\n",
       "    <tr>\n",
       "      <td id=\"T_1e8e1_row3_col0\" class=\"data row3 col0\" >Lease Start (UTC)</td>\n",
       "      <td id=\"T_1e8e1_row3_col1\" class=\"data row3 col1\" >2023-04-19 12:57:21 +0000</td>\n",
       "    </tr>\n",
       "    <tr>\n",
       "      <td id=\"T_1e8e1_row4_col0\" class=\"data row4 col0\" >Project ID</td>\n",
       "      <td id=\"T_1e8e1_row4_col1\" class=\"data row4 col1\" >990d8a8b-7e50-4d13-a3be-0f133ffa8653</td>\n",
       "    </tr>\n",
       "    <tr>\n",
       "      <td id=\"T_1e8e1_row5_col0\" class=\"data row5 col0\" >State</td>\n",
       "      <td id=\"T_1e8e1_row5_col1\" class=\"data row5 col1\" >Configuring</td>\n",
       "    </tr>\n",
       "  </tbody>\n",
       "</table>\n"
      ],
      "text/plain": [
       "<pandas.io.formats.style.Styler at 0x7f2e9c09e610>"
      ]
     },
     "metadata": {},
     "output_type": "display_data"
    },
    {
     "data": {
      "text/html": [
       "<style type=\"text/css\">\n",
       "#T_bbdc7 caption {\n",
       "  text-align: center;\n",
       "  font-size: 150%;\n",
       "  caption-side: top;\n",
       "}\n",
       "#T_bbdc7 th {\n",
       "  text-align: left;\n",
       "}\n",
       "#T_bbdc7 tr:nth-child(even) {\n",
       "  background: #ffffff;\n",
       "  color: #231f20;\n",
       "}\n",
       "#T_bbdc7 tr:nth-child(odd) {\n",
       "  background: #dbf3ff;\n",
       "  color: #231f20;\n",
       "}\n",
       "#T_bbdc7 .level0 {\n",
       "  border: 1px black solid !important;\n",
       "  background: #ffffff;\n",
       "  color: #231f20;\n",
       "}\n",
       "#T_bbdc7_row0_col0, #T_bbdc7_row0_col1, #T_bbdc7_row0_col2, #T_bbdc7_row0_col3, #T_bbdc7_row1_col0, #T_bbdc7_row1_col1, #T_bbdc7_row1_col2, #T_bbdc7_row1_col3, #T_bbdc7_row2_col0, #T_bbdc7_row2_col1, #T_bbdc7_row2_col2, #T_bbdc7_row2_col3, #T_bbdc7_row3_col0, #T_bbdc7_row3_col1, #T_bbdc7_row3_col2, #T_bbdc7_row3_col3 {\n",
       "  text-align: left;\n",
       "  border: 1px #231f20 solid !important;\n",
       "  overwrite: False;\n",
       "}\n",
       "#T_bbdc7_row0_col4, #T_bbdc7_row1_col4, #T_bbdc7_row2_col4, #T_bbdc7_row3_col4 {\n",
       "  text-align: left;\n",
       "  border: 1px #231f20 solid !important;\n",
       "  overwrite: False;\n",
       "  background-color: #ffffbe;\n",
       "}\n",
       "#T_bbdc7_row0_col5, #T_bbdc7_row1_col5, #T_bbdc7_row2_col5, #T_bbdc7_row3_col5 {\n",
       "  text-align: left;\n",
       "  border: 1px #231f20 solid !important;\n",
       "  overwrite: False;\n",
       "  background-color: ;\n",
       "}\n",
       "</style>\n",
       "<table id=\"T_bbdc7\">\n",
       "  <caption>Slivers</caption>\n",
       "  <thead>\n",
       "    <tr>\n",
       "      <th id=\"T_bbdc7_level0_col0\" class=\"col_heading level0 col0\" >ID</th>\n",
       "      <th id=\"T_bbdc7_level0_col1\" class=\"col_heading level0 col1\" >Name</th>\n",
       "      <th id=\"T_bbdc7_level0_col2\" class=\"col_heading level0 col2\" >Site</th>\n",
       "      <th id=\"T_bbdc7_level0_col3\" class=\"col_heading level0 col3\" >Type</th>\n",
       "      <th id=\"T_bbdc7_level0_col4\" class=\"col_heading level0 col4\" >State</th>\n",
       "      <th id=\"T_bbdc7_level0_col5\" class=\"col_heading level0 col5\" >Error</th>\n",
       "    </tr>\n",
       "  </thead>\n",
       "  <tbody>\n",
       "    <tr>\n",
       "      <td id=\"T_bbdc7_row0_col0\" class=\"data row0 col0\" >4bbd1173-c735-4616-84c2-a3c5c67a5edb</td>\n",
       "      <td id=\"T_bbdc7_row0_col1\" class=\"data row0 col1\" >Node1</td>\n",
       "      <td id=\"T_bbdc7_row0_col2\" class=\"data row0 col2\" >CERN</td>\n",
       "      <td id=\"T_bbdc7_row0_col3\" class=\"data row0 col3\" >node</td>\n",
       "      <td id=\"T_bbdc7_row0_col4\" class=\"data row0 col4\" >Ticketed</td>\n",
       "      <td id=\"T_bbdc7_row0_col5\" class=\"data row0 col5\" ></td>\n",
       "    </tr>\n",
       "    <tr>\n",
       "      <td id=\"T_bbdc7_row1_col0\" class=\"data row1 col0\" >6048553d-e7a9-4e7b-be94-4404d01ec37c</td>\n",
       "      <td id=\"T_bbdc7_row1_col1\" class=\"data row1 col1\" >Node2</td>\n",
       "      <td id=\"T_bbdc7_row1_col2\" class=\"data row1 col2\" >DALL</td>\n",
       "      <td id=\"T_bbdc7_row1_col3\" class=\"data row1 col3\" >node</td>\n",
       "      <td id=\"T_bbdc7_row1_col4\" class=\"data row1 col4\" >Ticketed</td>\n",
       "      <td id=\"T_bbdc7_row1_col5\" class=\"data row1 col5\" ></td>\n",
       "    </tr>\n",
       "    <tr>\n",
       "      <td id=\"T_bbdc7_row2_col0\" class=\"data row2 col0\" >98fb2500-de12-4d10-8474-30ad21741eb3</td>\n",
       "      <td id=\"T_bbdc7_row2_col1\" class=\"data row2 col1\" >FABNET_IPv6_CERN</td>\n",
       "      <td id=\"T_bbdc7_row2_col2\" class=\"data row2 col2\" >CERN</td>\n",
       "      <td id=\"T_bbdc7_row2_col3\" class=\"data row2 col3\" >network</td>\n",
       "      <td id=\"T_bbdc7_row2_col4\" class=\"data row2 col4\" >Ticketed</td>\n",
       "      <td id=\"T_bbdc7_row2_col5\" class=\"data row2 col5\" ></td>\n",
       "    </tr>\n",
       "    <tr>\n",
       "      <td id=\"T_bbdc7_row3_col0\" class=\"data row3 col0\" >3627e5e0-06b7-4865-9079-811e63412845</td>\n",
       "      <td id=\"T_bbdc7_row3_col1\" class=\"data row3 col1\" >FABNET_IPv6_DALL</td>\n",
       "      <td id=\"T_bbdc7_row3_col2\" class=\"data row3 col2\" >DALL</td>\n",
       "      <td id=\"T_bbdc7_row3_col3\" class=\"data row3 col3\" >network</td>\n",
       "      <td id=\"T_bbdc7_row3_col4\" class=\"data row3 col4\" >Ticketed</td>\n",
       "      <td id=\"T_bbdc7_row3_col5\" class=\"data row3 col5\" ></td>\n",
       "    </tr>\n",
       "  </tbody>\n",
       "</table>\n"
      ],
      "text/plain": [
       "<pandas.io.formats.style.Styler at 0x7f2ef51ced30>"
      ]
     },
     "metadata": {},
     "output_type": "display_data"
    }
   ],
   "source": [
    "#Create Slice\n",
    "slice = fablib.new_slice(name=slice_name)\n",
    "\n",
    "# Node1\n",
    "node1 = slice.add_node(name=node1_name, site=site1)\n",
    "node1.add_fabnet(net_type='IPv6')\n",
    "\n",
    "# Node2\n",
    "node2 = slice.add_node(name=node2_name, site=site2)\n",
    "node2.add_fabnet(net_type='IPv6')\n",
    "\n",
    "#Submit Slice Request\n",
    "slice.submit();"
   ]
  },
  {
   "cell_type": "markdown",
   "metadata": {},
   "source": [
    "## Run the Experiment\n",
    "\n",
    "We will find the ping round trip time for this pair of sites.  Your experiment should be more interesting!\n"
   ]
  },
  {
   "cell_type": "code",
   "execution_count": null,
   "metadata": {
    "tags": []
   },
   "outputs": [],
   "source": [
    "slice = fablib.get_slice(slice_name)\n",
    "\n",
    "node1 = slice.get_node(name=node1_name)        \n",
    "node2 = slice.get_node(name=node2_name)           \n",
    "\n",
    "node2_addr = node2.get_interface(network_name=f'FABNET_IPv6_{node2.get_site()}').get_ip_addr()\n",
    "\n",
    "stdout, stderr = node1.execute(f'ping -c 5 {node2_addr}')"
   ]
  },
  {
   "cell_type": "markdown",
   "metadata": {},
   "source": [
    "## Delete the Slice\n",
    "\n",
    "Please delete your slice when you are done with your experiment."
   ]
  },
  {
   "cell_type": "code",
   "execution_count": null,
   "metadata": {
    "tags": []
   },
   "outputs": [],
   "source": [
    "slice.delete()"
   ]
  },
  {
   "cell_type": "code",
   "execution_count": null,
   "metadata": {},
   "outputs": [],
   "source": []
  }
 ],
 "metadata": {
  "kernelspec": {
   "display_name": "Python 3 (ipykernel)",
   "language": "python",
   "name": "python3"
  },
  "language_info": {
   "codemirror_mode": {
    "name": "ipython",
    "version": 3
   },
   "file_extension": ".py",
   "mimetype": "text/x-python",
   "name": "python",
   "nbconvert_exporter": "python",
   "pygments_lexer": "ipython3",
   "version": "3.9.13"
  }
 },
 "nbformat": 4,
 "nbformat_minor": 4
}
