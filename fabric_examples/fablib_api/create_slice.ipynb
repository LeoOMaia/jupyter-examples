{
 "cells": [
  {
   "cell_type": "markdown",
   "metadata": {
    "tags": []
   },
   "source": [
    "# Create and Submit a Slice\n",
    "\n",
    "On FABRIC, a slice is a collection of logically-related resources representing a single execution of an experiment (or a portion of an experiment, as multiple slices may be involved). Typically, a slice represents a connected topology of resources known as slivers. Every slice is part of one and only one project.\n",
    "\n",
    "Creating a slice can be accomplished using the FABlib library as shown in the following Jupyter notebook.\n",
    "\n",
    "Creating any slice starts with follows three basic steps:\n",
    "\n",
    "- Step 1: Create the slice by calling the `fablib.new_slice()` method and passing in the slice’s name.  At this point you have a slice object that you can use to build the slice.\n",
    "- Step 2: Design the slice by adding nodes, networks, and other components to the slice object. The slice that you design depends on the goals of your experiment.\n",
    "- Step 3: Submit the slice request. A slice is not instantiated until you submit the slice to the FABRIC service using the `slice.submit()` method. When you submit the slice request, FABRIC will try to find and allocate resources for your slice.   This step is quite complicated.  Larger slices will take longer to build and any slice might be impossible given currently available resources. While submitting a slice request there are several options that help you wait for your slice to build and handle exceptions in the build process. \n",
    "\n",
    "\n",
    "\n",
    "## Configure the Environment\n",
    "\n",
    "Set the environment variable that will be used by this notebook. If you are using the FABRIC, JupyterHub some of the environment will be automatically configured for you.  You will only need to set your bastion username, upload your bastion private key, and set the path to where you put your bastion private key. Your bastion username and private key should already be in your possession.  If you do not have a bastion username and private key, please contact the FABRIC admins using the [FABRIC User Forum](https://learn.fabric-testbed.net/forums/) \n",
    "\n",
    "If you are using the FABRIC API outside of the JupyterHub you will need to configure all of the environment variables. Defaults below will be correct in many situations but you will need to confirm your configuration.  If you have questions about this configuration, please contact the FABRIC admins using the [FABRIC User Forum](https://learn.fabric-testbed.net/forums/) \n",
    "\n",
    "More information about accessing your experiments through the FABRIC bastion hosts can be found [here](https://learn.fabric-testbed.net/knowledge-base/logging-into-fabric-vms/)."
   ]
  },
  {
   "cell_type": "code",
   "execution_count": null,
   "metadata": {},
   "outputs": [],
   "source": [
    "import os\n",
    "\n",
    "# If you are using the FABRIC JupyterHub, the following three evnrionment vars\n",
    "# were automatically provided when you logged in.\n",
    "#os.environ['FABRIC_CREDMGR_HOST']='cm.fabric-testbed.net'\n",
    "#os.environ['FABRIC_ORCHESTRATOR_HOST']='orchestrator.fabric-testbed.net'\n",
    "#os.environ['FABRIC_TOKEN_LOCATION']=os.environ['HOME']+'/work/fabric_token.json'\n",
    "\n",
    "# Bastion IPs\n",
    "os.environ['FABRIC_BASTION_HOST'] = 'bastion-1.fabric-testbed.net'\n",
    "\n",
    "# Set your Bastion username and private key\n",
    "os.environ['FABRIC_BASTION_USERNAME']=<INSERT_YOUR_FABRIC_USERNAME>\n",
    "os.environ['FABRIC_BASTION_KEY_LOCATION']=os.environ['HOME']+'/work/fabric_bastion_key'\n",
    "\n",
    "# Set the keypair FABRIC will install in your slice. \n",
    "os.environ['FABRIC_SLICE_PRIVATE_KEY_FILE']=os.environ['HOME']+'/.ssh/id_rsa'\n",
    "os.environ['FABRIC_SLICE_PUBLIC_KEY_FILE']=os.environ['HOME']+'/.ssh/id_rsa.pub'\n",
    "\n",
    "# If your slice private key uses a passphrase, set the passphrase\n",
    "#from getpass import getpass\n",
    "#print('Please input private key passphrase. Press enter for no passphrase.')\n",
    "#os.environ['FABRIC_SLICE_PRIVATE_KEY_PASSPHRASE']=getpass()"
   ]
  },
  {
   "cell_type": "markdown",
   "metadata": {
    "tags": []
   },
   "source": [
    "## Setup the Experiment\n",
    "\n",
    "### Import the FABlib API"
   ]
  },
  {
   "cell_type": "code",
   "execution_count": null,
   "metadata": {
    "tags": []
   },
   "outputs": [],
   "source": [
    "import json\n",
    "import traceback\n",
    "from fabrictestbed_extensions.fablib.fablib import fablib"
   ]
  },
  {
   "cell_type": "markdown",
   "metadata": {
    "tags": []
   },
   "source": [
    "## Option 1: Create a Slice - Basic\n",
    "\n",
    "The easiest way to submit a slice is to call the submit method on your slice without any parameters.  By default, this will block and wait until your slice is built, management access is enabled via ssh, and all dataplane interfaces have been tested for connectivity.  In addition,  the progress of your slice’s build process will be printed.  \n",
    "\n"
   ]
  },
  {
   "cell_type": "code",
   "execution_count": null,
   "metadata": {},
   "outputs": [],
   "source": [
    "try:\n",
    "    # Create a slice\n",
    "    slice = fablib.new_slice(name=\"MySlice\")\n",
    "\n",
    "    # Design the slice\n",
    "    node = slice.add_node(name=\"Node1\")\n",
    "\n",
    "    #Submit the Request\n",
    "    slice.submit()\n",
    "except Exception as e:\n",
    "    print(f\"Exception: {e}\")"
   ]
  },
  {
   "cell_type": "markdown",
   "metadata": {},
   "source": [
    "## Option 2: Create a Slice - Wait Silently\n",
    "\n",
    "You can disable the progress reporting by setting `progress=False`.\n"
   ]
  },
  {
   "cell_type": "code",
   "execution_count": null,
   "metadata": {},
   "outputs": [],
   "source": [
    "try:\n",
    "    # Create a slice\n",
    "    slice = fablib.new_slice(name=\"MySlice\")\n",
    "\n",
    "    # Design the slice\n",
    "    node = slice.add_node(name=\"Node1\")\n",
    "\n",
    "    #Submit the Request\n",
    "    slice.submit(progress=False)\n",
    "except Exception as e:\n",
    "    print(f\"Exception: {e}\")"
   ]
  },
  {
   "cell_type": "markdown",
   "metadata": {},
   "source": [
    "## Option 3: Create a Slice - Non-blocking Submit\n",
    "\n",
    "You can create a slice without blockng by setting `wait=False`.  Note that if you do not wait for the slice, you will likely want to manually test your slice's state before trying to use it.  "
   ]
  },
  {
   "cell_type": "code",
   "execution_count": null,
   "metadata": {},
   "outputs": [],
   "source": [
    "try:\n",
    "    # Create a slice\n",
    "    slice = fablib.new_slice(name=\"MySlice\")\n",
    "\n",
    "    # Design the slice\n",
    "    node = slice.add_node(name=\"Node1\")\n",
    "\n",
    "    # Submit the request\n",
    "    slice.submit(wait=False)\n",
    "    \n",
    "    # Save the slice ID\n",
    "    slice_id = slice.get_slice_id()\n",
    "except Exception as e:\n",
    "    print(f\"Exception: {e}\")"
   ]
  },
  {
   "cell_type": "markdown",
   "metadata": {},
   "source": [
    "Test your slice's state"
   ]
  },
  {
   "cell_type": "code",
   "execution_count": null,
   "metadata": {},
   "outputs": [],
   "source": [
    "try:\n",
    "    #Get Slice\n",
    "    slice = fablib.get_slice(slice_id=slice_id)\n",
    "\n",
    "    #Wait for ssh to be active\n",
    "    slice.wait_ssh(progress=True)\n",
    "    \n",
    "    #Run post boot config and dataplane network tests\n",
    "    slice.post_boot_config()\n",
    "except Exception as e:\n",
    "    print(f\"Exception: {e}\")\n"
   ]
  },
  {
   "cell_type": "markdown",
   "metadata": {},
   "source": [
    "## Additional Options: Timeouts and Retry Interval\n",
    "\n",
    "For any blocking call you can set and overall `timeout` and a retry `interval`.  Both settings are in seconds."
   ]
  },
  {
   "cell_type": "code",
   "execution_count": null,
   "metadata": {},
   "outputs": [],
   "source": [
    "try:\n",
    "    # Create a slice\n",
    "    slice = fablib.new_slice(name=\"MySlice\")\n",
    "\n",
    "    # Design the slice\n",
    "    node = slice.add_node(name=\"Node1\")\n",
    "\n",
    "    #Submit the Request\n",
    "    slice.submit(timeout=600, interval=60)\n",
    "except Exception as e:\n",
    "    print(f\"Exception: {e}\")"
   ]
  }
 ],
 "metadata": {
  "kernelspec": {
   "display_name": "Python 3 (ipykernel)",
   "language": "python",
   "name": "python3"
  },
  "language_info": {
   "codemirror_mode": {
    "name": "ipython",
    "version": 3
   },
   "file_extension": ".py",
   "mimetype": "text/x-python",
   "name": "python",
   "nbconvert_exporter": "python",
   "pygments_lexer": "ipython3",
   "version": "3.9.2"
  }
 },
 "nbformat": 4,
 "nbformat_minor": 4
}
