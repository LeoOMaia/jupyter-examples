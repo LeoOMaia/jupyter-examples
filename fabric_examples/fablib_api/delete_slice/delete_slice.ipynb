{
 "cells": [
  {
   "cell_type": "markdown",
   "id": "60e3fd3a-d102-4626-9849-755cfdd24948",
   "metadata": {},
   "source": [
    "# Delete a Slice\n"
   ]
  },
  {
   "cell_type": "markdown",
   "id": "bf10dd40-6a24-4133-ae34-c8d7c15d81cb",
   "metadata": {},
   "source": [
    "### Import the fablib Library"
   ]
  },
  {
   "cell_type": "code",
   "execution_count": 1,
   "id": "79347040-96fe-4d12-b97c-ca9ef56e0a10",
   "metadata": {},
   "outputs": [
    {
     "data": {
      "text/html": [
       "<style type=\"text/css\">\n",
       "#T_708d3 tr:nth-child(even) {\n",
       "  background: #dbf3ff;\n",
       "  color: #231f20;\n",
       "}\n",
       "#T_708d3 tr:nth-child(odd) {\n",
       "  background: #ffffff;\n",
       "  color: #231f20;\n",
       "}\n",
       "#T_708d3 caption {\n",
       "  text-align: center;\n",
       "  font-size: 150%;\n",
       "}\n",
       "#T_708d3_row0_col0, #T_708d3_row0_col1, #T_708d3_row1_col0, #T_708d3_row1_col1, #T_708d3_row2_col0, #T_708d3_row2_col1, #T_708d3_row3_col0, #T_708d3_row3_col1, #T_708d3_row4_col0, #T_708d3_row4_col1, #T_708d3_row5_col0, #T_708d3_row5_col1, #T_708d3_row6_col0, #T_708d3_row6_col1, #T_708d3_row7_col0, #T_708d3_row7_col1, #T_708d3_row8_col0, #T_708d3_row8_col1, #T_708d3_row9_col0, #T_708d3_row9_col1, #T_708d3_row10_col0, #T_708d3_row10_col1, #T_708d3_row11_col0, #T_708d3_row11_col1, #T_708d3_row12_col0, #T_708d3_row12_col1 {\n",
       "  text-align: left;\n",
       "  border: 1px #231f20 solid !important;\n",
       "  overwrite: False;\n",
       "}\n",
       "</style>\n",
       "<table id=\"T_708d3\">\n",
       "  <caption>FABlib Config</caption>\n",
       "  <thead>\n",
       "  </thead>\n",
       "  <tbody>\n",
       "    <tr>\n",
       "      <td id=\"T_708d3_row0_col0\" class=\"data row0 col0\" >credmgr_host</td>\n",
       "      <td id=\"T_708d3_row0_col1\" class=\"data row0 col1\" >cm.fabric-testbed.net</td>\n",
       "    </tr>\n",
       "    <tr>\n",
       "      <td id=\"T_708d3_row1_col0\" class=\"data row1 col0\" >orchestrator_host</td>\n",
       "      <td id=\"T_708d3_row1_col1\" class=\"data row1 col1\" >orchestrator.fabric-testbed.net</td>\n",
       "    </tr>\n",
       "    <tr>\n",
       "      <td id=\"T_708d3_row2_col0\" class=\"data row2 col0\" >fabric_token</td>\n",
       "      <td id=\"T_708d3_row2_col1\" class=\"data row2 col1\" >/home/fabric/.tokens.json</td>\n",
       "    </tr>\n",
       "    <tr>\n",
       "      <td id=\"T_708d3_row3_col0\" class=\"data row3 col0\" >project_id</td>\n",
       "      <td id=\"T_708d3_row3_col1\" class=\"data row3 col1\" >990d8a8b-7e50-4d13-a3be-0f133ffa8653</td>\n",
       "    </tr>\n",
       "    <tr>\n",
       "      <td id=\"T_708d3_row4_col0\" class=\"data row4 col0\" >bastion_username</td>\n",
       "      <td id=\"T_708d3_row4_col1\" class=\"data row4 col1\" >pruth_0000000529</td>\n",
       "    </tr>\n",
       "    <tr>\n",
       "      <td id=\"T_708d3_row5_col0\" class=\"data row5 col0\" >bastion_key_filename</td>\n",
       "      <td id=\"T_708d3_row5_col1\" class=\"data row5 col1\" >/home/fabric/work/fabric_config/fabric_bastion_key</td>\n",
       "    </tr>\n",
       "    <tr>\n",
       "      <td id=\"T_708d3_row6_col0\" class=\"data row6 col0\" >bastion_public_addr</td>\n",
       "      <td id=\"T_708d3_row6_col1\" class=\"data row6 col1\" >bastion-1.fabric-testbed.net</td>\n",
       "    </tr>\n",
       "    <tr>\n",
       "      <td id=\"T_708d3_row7_col0\" class=\"data row7 col0\" >bastion_passphrase</td>\n",
       "      <td id=\"T_708d3_row7_col1\" class=\"data row7 col1\" >None</td>\n",
       "    </tr>\n",
       "    <tr>\n",
       "      <td id=\"T_708d3_row8_col0\" class=\"data row8 col0\" >slice_public_key_file</td>\n",
       "      <td id=\"T_708d3_row8_col1\" class=\"data row8 col1\" >/home/fabric/work/fabric_config/slice_key.pub</td>\n",
       "    </tr>\n",
       "    <tr>\n",
       "      <td id=\"T_708d3_row9_col0\" class=\"data row9 col0\" >slice_private_key_file</td>\n",
       "      <td id=\"T_708d3_row9_col1\" class=\"data row9 col1\" >/home/fabric/work/fabric_config/slice_key</td>\n",
       "    </tr>\n",
       "    <tr>\n",
       "      <td id=\"T_708d3_row10_col0\" class=\"data row10 col0\" >fabric_slice_private_key_passphrase</td>\n",
       "      <td id=\"T_708d3_row10_col1\" class=\"data row10 col1\" >None</td>\n",
       "    </tr>\n",
       "    <tr>\n",
       "      <td id=\"T_708d3_row11_col0\" class=\"data row11 col0\" >fablib_log_file</td>\n",
       "      <td id=\"T_708d3_row11_col1\" class=\"data row11 col1\" >fablib.log</td>\n",
       "    </tr>\n",
       "    <tr>\n",
       "      <td id=\"T_708d3_row12_col0\" class=\"data row12 col0\" >fablib_log_level</td>\n",
       "      <td id=\"T_708d3_row12_col1\" class=\"data row12 col1\" >DEBUG</td>\n",
       "    </tr>\n",
       "  </tbody>\n",
       "</table>\n"
      ],
      "text/plain": [
       "<pandas.io.formats.style.Styler at 0x7fc793430d00>"
      ]
     },
     "metadata": {},
     "output_type": "display_data"
    }
   ],
   "source": [
    "from fabrictestbed_extensions.fablib.fablib import FablibManager as fablib_manager\n",
    "\n",
    "try:\n",
    "    fablib = fablib_manager()\n",
    "                     \n",
    "    fablib.show_config()\n",
    "except Exception as e:\n",
    "    print(f\"Exception: {e}\")"
   ]
  },
  {
   "cell_type": "markdown",
   "id": "162b7b7d-1d91-40da-9255-4f5cc69b32f9",
   "metadata": {},
   "source": [
    "## Option 1: Get and Delete the Slice\n",
    "\n",
    "You slice is in the list of all your slices. You can loop through the list of slices to get the slice. Python has a standard tool to filter lists. Try using a lambda function to filter out your slice using its name."
   ]
  },
  {
   "cell_type": "code",
   "execution_count": null,
   "id": "ad093053-e64d-48cc-a02a-4493df8ffafa",
   "metadata": {},
   "outputs": [],
   "source": [
    "slice_name='MySlice'\n",
    "\n",
    "try:\n",
    "    slice = fablib.get_slice(name=slice_name)\n",
    "    print(f\"Slice: {slice.get_name()}\")\n",
    "    \n",
    "    slice.delete()\n",
    "except Exception as e:\n",
    "    print(f\"Exception: {e}\")"
   ]
  },
  {
   "cell_type": "markdown",
   "id": "1c27601e-9d65-476f-8be3-4126fb8d6408",
   "metadata": {
    "tags": []
   },
   "source": [
    "## Option 2: Delete Slice by Name"
   ]
  },
  {
   "cell_type": "code",
   "execution_count": null,
   "id": "01d5b365-b2a9-439a-ac36-8b925d46c219",
   "metadata": {},
   "outputs": [],
   "source": [
    "slice_name='MySlice'\n",
    "\n",
    "try:\n",
    "    slice = fablib.delete_slice(slice_name)\n",
    "except Exception as e:\n",
    "    print(f\"Exception: {e}\")"
   ]
  },
  {
   "cell_type": "markdown",
   "id": "31cd7d0c-7312-4c1b-be0b-42f2564948c1",
   "metadata": {},
   "source": [
    "## Option 3: Delete Slice by ID \n",
    "\n",
    "Slice_id must be known."
   ]
  },
  {
   "cell_type": "code",
   "execution_count": null,
   "id": "eafd9778-aafe-470a-bd52-da273e3ee3e7",
   "metadata": {},
   "outputs": [],
   "source": [
    "slice_id=<insert_known_slice_id>\n",
    "\n",
    "try:\n",
    "    slice = fablib.delete_slice(slice_id=slice_id)\n",
    "except Exception as e:\n",
    "    print(f\"Exception: {e}\")"
   ]
  },
  {
   "cell_type": "markdown",
   "id": "eeb62d7e-d1ba-4ba3-9e2c-a4bfe8843d34",
   "metadata": {},
   "source": [
    "## Option 4: Delete ALL Slices\n",
    "\n",
    "Deletes all slices owned by a user"
   ]
  },
  {
   "cell_type": "code",
   "execution_count": 7,
   "id": "117055f8-dca3-44af-b130-affc9557775c",
   "metadata": {},
   "outputs": [
    {
     "name": "stdout",
     "output_type": "stream",
     "text": [
      "Deleting slice MySlice, Success!\n"
     ]
    }
   ],
   "source": [
    "try:\n",
    "    slice = fablib.delete_all()\n",
    "except Exception as e:\n",
    "    print(f\"Exception: {e}\")"
   ]
  },
  {
   "cell_type": "code",
   "execution_count": null,
   "id": "f3545498-3510-4381-b09b-3434920776d8",
   "metadata": {},
   "outputs": [],
   "source": []
  }
 ],
 "metadata": {
  "kernelspec": {
   "display_name": "Python 3 (ipykernel)",
   "language": "python",
   "name": "python3"
  },
  "language_info": {
   "codemirror_mode": {
    "name": "ipython",
    "version": 3
   },
   "file_extension": ".py",
   "mimetype": "text/x-python",
   "name": "python",
   "nbconvert_exporter": "python",
   "pygments_lexer": "ipython3",
   "version": "3.9.7"
  }
 },
 "nbformat": 4,
 "nbformat_minor": 5
}
