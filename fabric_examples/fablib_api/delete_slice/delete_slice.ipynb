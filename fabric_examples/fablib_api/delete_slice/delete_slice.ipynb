{
 "cells": [
  {
   "cell_type": "markdown",
   "id": "60e3fd3a-d102-4626-9849-755cfdd24948",
   "metadata": {},
   "source": [
    "# Delete a Slice\n"
   ]
  },
  {
   "cell_type": "markdown",
   "id": "bf10dd40-6a24-4133-ae34-c8d7c15d81cb",
   "metadata": {},
   "source": [
    "### Import the fablib Library"
   ]
  },
  {
   "cell_type": "code",
   "execution_count": 2,
   "id": "79347040-96fe-4d12-b97c-ca9ef56e0a10",
   "metadata": {
    "tags": []
   },
   "outputs": [
    {
     "data": {
      "text/html": [
       "<style type=\"text/css\">\n",
       "#T_50b90 tr:nth-child(even) {\n",
       "  background: #dbf3ff;\n",
       "  color: #231f20;\n",
       "}\n",
       "#T_50b90 tr:nth-child(odd) {\n",
       "  background: #ffffff;\n",
       "  color: #231f20;\n",
       "}\n",
       "#T_50b90 caption {\n",
       "  text-align: center;\n",
       "  font-size: 150%;\n",
       "}\n",
       "#T_50b90_row0_col0, #T_50b90_row0_col1, #T_50b90_row1_col0, #T_50b90_row1_col1, #T_50b90_row2_col0, #T_50b90_row2_col1, #T_50b90_row3_col0, #T_50b90_row3_col1, #T_50b90_row4_col0, #T_50b90_row4_col1, #T_50b90_row5_col0, #T_50b90_row5_col1, #T_50b90_row6_col0, #T_50b90_row6_col1, #T_50b90_row7_col0, #T_50b90_row7_col1, #T_50b90_row8_col0, #T_50b90_row8_col1, #T_50b90_row9_col0, #T_50b90_row9_col1, #T_50b90_row10_col0, #T_50b90_row10_col1, #T_50b90_row11_col0, #T_50b90_row11_col1, #T_50b90_row12_col0, #T_50b90_row12_col1 {\n",
       "  text-align: left;\n",
       "  border: 1px #231f20 solid !important;\n",
       "  overwrite: False;\n",
       "}\n",
       "</style>\n",
       "<table id=\"T_50b90\">\n",
       "  <caption>FABlib Config</caption>\n",
       "  <thead>\n",
       "  </thead>\n",
       "  <tbody>\n",
       "    <tr>\n",
       "      <td id=\"T_50b90_row0_col0\" class=\"data row0 col0\" >Credential Manager</td>\n",
       "      <td id=\"T_50b90_row0_col1\" class=\"data row0 col1\" >cm.fabric-testbed.net</td>\n",
       "    </tr>\n",
       "    <tr>\n",
       "      <td id=\"T_50b90_row1_col0\" class=\"data row1 col0\" >Orchestrator</td>\n",
       "      <td id=\"T_50b90_row1_col1\" class=\"data row1 col1\" >orchestrator.fabric-testbed.net</td>\n",
       "    </tr>\n",
       "    <tr>\n",
       "      <td id=\"T_50b90_row2_col0\" class=\"data row2 col0\" >Token File</td>\n",
       "      <td id=\"T_50b90_row2_col1\" class=\"data row2 col1\" >/home/fabric/work/fabric_config/tokens.json</td>\n",
       "    </tr>\n",
       "    <tr>\n",
       "      <td id=\"T_50b90_row3_col0\" class=\"data row3 col0\" >Project ID</td>\n",
       "      <td id=\"T_50b90_row3_col1\" class=\"data row3 col1\" >990d8a8b-7e50-4d13-a3be-0f133ffa8653</td>\n",
       "    </tr>\n",
       "    <tr>\n",
       "      <td id=\"T_50b90_row4_col0\" class=\"data row4 col0\" >Bastion Username</td>\n",
       "      <td id=\"T_50b90_row4_col1\" class=\"data row4 col1\" >pruth_0031379841</td>\n",
       "    </tr>\n",
       "    <tr>\n",
       "      <td id=\"T_50b90_row5_col0\" class=\"data row5 col0\" >Bastion Private Key File</td>\n",
       "      <td id=\"T_50b90_row5_col1\" class=\"data row5 col1\" >/home/fabric/work/fabric_config/fabric_bastion_key</td>\n",
       "    </tr>\n",
       "    <tr>\n",
       "      <td id=\"T_50b90_row6_col0\" class=\"data row6 col0\" >Bastion Host</td>\n",
       "      <td id=\"T_50b90_row6_col1\" class=\"data row6 col1\" >bastion.fabric-testbed.net</td>\n",
       "    </tr>\n",
       "    <tr>\n",
       "      <td id=\"T_50b90_row7_col0\" class=\"data row7 col0\" >Bastion Private Key Passphrase</td>\n",
       "      <td id=\"T_50b90_row7_col1\" class=\"data row7 col1\" >None</td>\n",
       "    </tr>\n",
       "    <tr>\n",
       "      <td id=\"T_50b90_row8_col0\" class=\"data row8 col0\" >Slice Public Key File</td>\n",
       "      <td id=\"T_50b90_row8_col1\" class=\"data row8 col1\" >/home/fabric/work/fabric_config/slice_key.pub</td>\n",
       "    </tr>\n",
       "    <tr>\n",
       "      <td id=\"T_50b90_row9_col0\" class=\"data row9 col0\" >Slice Private Key File</td>\n",
       "      <td id=\"T_50b90_row9_col1\" class=\"data row9 col1\" >/home/fabric/work/fabric_config/slice_key</td>\n",
       "    </tr>\n",
       "    <tr>\n",
       "      <td id=\"T_50b90_row10_col0\" class=\"data row10 col0\" >Slice Private Key Passphrase</td>\n",
       "      <td id=\"T_50b90_row10_col1\" class=\"data row10 col1\" >None</td>\n",
       "    </tr>\n",
       "    <tr>\n",
       "      <td id=\"T_50b90_row11_col0\" class=\"data row11 col0\" >Log File</td>\n",
       "      <td id=\"T_50b90_row11_col1\" class=\"data row11 col1\" >/home/fabric/work/logs/fablib.log</td>\n",
       "    </tr>\n",
       "    <tr>\n",
       "      <td id=\"T_50b90_row12_col0\" class=\"data row12 col0\" >Log Level</td>\n",
       "      <td id=\"T_50b90_row12_col1\" class=\"data row12 col1\" >DEBUG</td>\n",
       "    </tr>\n",
       "  </tbody>\n",
       "</table>\n"
      ],
      "text/plain": [
       "<pandas.io.formats.style.Styler at 0x7fe7d80a6940>"
      ]
     },
     "metadata": {},
     "output_type": "display_data"
    }
   ],
   "source": [
    "from fabrictestbed_extensions.fablib.fablib import FablibManager as fablib_manager\n",
    "\n",
    "fablib = fablib_manager()\n",
    "                     \n",
    "fablib.show_config();"
   ]
  },
  {
   "cell_type": "code",
   "execution_count": 6,
   "id": "0934d2e9-6c1b-49a6-a8f4-d492f6ac9c2c",
   "metadata": {
    "tags": []
   },
   "outputs": [
    {
     "name": "stdout",
     "output_type": "stream",
     "text": [
      "MySlice\n",
      "MySlice300\n",
      "MySlice100\n",
      "stitch1\n",
      "OSPF_Routing_Topology2\n",
      "OSPF_Routing_Topology1\n"
     ]
    }
   ],
   "source": [
    "for slice in fablib.get_slices():\n",
    "    if 'PersistentStorageService' not in slice.get_name():\n",
    "        print(slice.get_name())\n",
    "        slice.delete()"
   ]
  },
  {
   "cell_type": "markdown",
   "id": "162b7b7d-1d91-40da-9255-4f5cc69b32f9",
   "metadata": {},
   "source": [
    "## Option 1: Get and Delete the Slice\n",
    "\n",
    "You slice is in the list of all your slices. You can loop through the list of slices to get the slice. Python has a standard tool to filter lists. Try using a lambda function to filter out your slice using its name."
   ]
  },
  {
   "cell_type": "code",
   "execution_count": 31,
   "id": "ad093053-e64d-48cc-a02a-4493df8ffafa",
   "metadata": {},
   "outputs": [
    {
     "ename": "IndexError",
     "evalue": "list index out of range",
     "output_type": "error",
     "traceback": [
      "\u001b[0;31m---------------------------------------------------------------------------\u001b[0m",
      "\u001b[0;31mIndexError\u001b[0m                                Traceback (most recent call last)",
      "Cell \u001b[0;32mIn[31], line 3\u001b[0m\n\u001b[1;32m      1\u001b[0m slice_name\u001b[38;5;241m=\u001b[39m\u001b[38;5;124m'\u001b[39m\u001b[38;5;124mOSPF_Routing_Topology2\u001b[39m\u001b[38;5;124m'\u001b[39m\n\u001b[0;32m----> 3\u001b[0m \u001b[38;5;28mslice\u001b[39m \u001b[38;5;241m=\u001b[39m \u001b[43mfablib\u001b[49m\u001b[38;5;241;43m.\u001b[39;49m\u001b[43mget_slice\u001b[49m\u001b[43m(\u001b[49m\u001b[43mname\u001b[49m\u001b[38;5;241;43m=\u001b[39;49m\u001b[43mslice_name\u001b[49m\u001b[43m)\u001b[49m\n\u001b[1;32m      4\u001b[0m \u001b[38;5;28mprint\u001b[39m(\u001b[38;5;124mf\u001b[39m\u001b[38;5;124m\"\u001b[39m\u001b[38;5;124mSlice: \u001b[39m\u001b[38;5;132;01m{\u001b[39;00m\u001b[38;5;28mslice\u001b[39m\u001b[38;5;241m.\u001b[39mget_name()\u001b[38;5;132;01m}\u001b[39;00m\u001b[38;5;124m\"\u001b[39m)\n\u001b[1;32m      6\u001b[0m \u001b[38;5;28mslice\u001b[39m\u001b[38;5;241m.\u001b[39mdelete()\n",
      "File \u001b[0;32m~/.local/lib/python3.9/site-packages/fabrictestbed_extensions/fablib/fablib.py:1729\u001b[0m, in \u001b[0;36mFablibManager.get_slice\u001b[0;34m(self, name, slice_id)\u001b[0m\n\u001b[1;32m   1723\u001b[0m \u001b[38;5;28;01melif\u001b[39;00m name:\n\u001b[1;32m   1724\u001b[0m     \u001b[38;5;66;03m# if getting by name then only consider active slices\u001b[39;00m\n\u001b[1;32m   1725\u001b[0m     slices \u001b[38;5;241m=\u001b[39m \u001b[38;5;28mself\u001b[39m\u001b[38;5;241m.\u001b[39mget_slices(\n\u001b[1;32m   1726\u001b[0m         excludes\u001b[38;5;241m=\u001b[39m[SliceState\u001b[38;5;241m.\u001b[39mDead, SliceState\u001b[38;5;241m.\u001b[39mClosing], slice_name\u001b[38;5;241m=\u001b[39mname\n\u001b[1;32m   1727\u001b[0m     )\n\u001b[0;32m-> 1729\u001b[0m     \u001b[38;5;28;01mreturn\u001b[39;00m \u001b[43mslices\u001b[49m\u001b[43m[\u001b[49m\u001b[38;5;241;43m0\u001b[39;49m\u001b[43m]\u001b[49m\n\u001b[1;32m   1730\u001b[0m \u001b[38;5;28;01melse\u001b[39;00m:\n\u001b[1;32m   1731\u001b[0m     \u001b[38;5;28;01mraise\u001b[39;00m \u001b[38;5;167;01mException\u001b[39;00m(\n\u001b[1;32m   1732\u001b[0m         \u001b[38;5;124m\"\u001b[39m\u001b[38;5;124mget_slice requires slice name (name) or slice id (slice_id)\u001b[39m\u001b[38;5;124m\"\u001b[39m\n\u001b[1;32m   1733\u001b[0m     )\n",
      "\u001b[0;31mIndexError\u001b[0m: list index out of range"
     ]
    }
   ],
   "source": [
    "slice_name='OSPF_Routing_Topology2'\n",
    "\n",
    "slice = fablib.get_slice(name=slice_name)\n",
    "print(f\"Slice: {slice.get_name()}\")\n",
    "\n",
    "slice.delete()\n"
   ]
  },
  {
   "cell_type": "markdown",
   "id": "1c27601e-9d65-476f-8be3-4126fb8d6408",
   "metadata": {
    "tags": []
   },
   "source": [
    "## Option 2: Delete Slice by Name"
   ]
  },
  {
   "cell_type": "code",
   "execution_count": null,
   "id": "01d5b365-b2a9-439a-ac36-8b925d46c219",
   "metadata": {},
   "outputs": [],
   "source": [
    "slice_name='MySlice'\n",
    "\n",
    "fablib.delete_slice(slice_name)\n"
   ]
  },
  {
   "cell_type": "markdown",
   "id": "31cd7d0c-7312-4c1b-be0b-42f2564948c1",
   "metadata": {},
   "source": [
    "## Option 3: Delete Slice by ID \n",
    "\n",
    "Slice_id must be known."
   ]
  },
  {
   "cell_type": "code",
   "execution_count": null,
   "id": "eafd9778-aafe-470a-bd52-da273e3ee3e7",
   "metadata": {},
   "outputs": [],
   "source": [
    "slice_id=<insert_known_slice_id>\n",
    "\n",
    "fablib.delete_slice(slice_id=slice_id)\n"
   ]
  },
  {
   "cell_type": "markdown",
   "id": "eeb62d7e-d1ba-4ba3-9e2c-a4bfe8843d34",
   "metadata": {},
   "source": [
    "## Option 4: Delete ALL Slices\n",
    "\n",
    "Deletes all slices owned by a user"
   ]
  },
  {
   "cell_type": "code",
   "execution_count": 19,
   "id": "117055f8-dca3-44af-b130-affc9557775c",
   "metadata": {
    "tags": []
   },
   "outputs": [
    {
     "name": "stdout",
     "output_type": "stream",
     "text": [
      "Deleting slice OSPF_Routing_Topology2, Success!\n",
      "Deleting slice OSPF_Routing_Topology1, Success!\n",
      "Deleting slice MySlice2, Success!\n"
     ]
    }
   ],
   "source": [
    "fablib.delete_all();\n"
   ]
  },
  {
   "cell_type": "code",
   "execution_count": null,
   "id": "f3545498-3510-4381-b09b-3434920776d8",
   "metadata": {},
   "outputs": [],
   "source": []
  }
 ],
 "metadata": {
  "kernelspec": {
   "display_name": "Python 3 (ipykernel)",
   "language": "python",
   "name": "python3"
  },
  "language_info": {
   "codemirror_mode": {
    "name": "ipython",
    "version": 3
   },
   "file_extension": ".py",
   "mimetype": "text/x-python",
   "name": "python",
   "nbconvert_exporter": "python",
   "pygments_lexer": "ipython3",
   "version": "3.9.13"
  }
 },
 "nbformat": 4,
 "nbformat_minor": 5
}
