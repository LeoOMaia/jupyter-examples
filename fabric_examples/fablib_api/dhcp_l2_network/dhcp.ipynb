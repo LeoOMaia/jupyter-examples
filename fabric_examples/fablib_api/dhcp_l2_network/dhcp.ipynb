{
 "cells": [
  {
   "cell_type": "markdown",
   "id": "bda130ef",
   "metadata": {},
   "source": [
    "<img src=\"./include/img/fabric_logo.png\" width=\"500\"/>\n",
    "\n",
    "# DHCP on a FABRIC L2 Network\n",
    "```\n",
    "Created: 2023-02-01\n",
    "Last Modified: May 2, 2023\n",
    "devinlane\n",
    "Clemson University\n",
    "ddlane@clemson.edu\n",
    "```\n",
    "\n",
    "\n",
    "This example demonstrates setting up and configuring a DHCP server to allocate IP addresses to clients that are on the same L2 network. This involves updating the configuration file on the server to specify lease duration and subnet range in addition to broadcasting a DHCP request on the clients' end.\n",
    "<div style=\"page-break-after: always; visibility: hidden\"> \n",
    "\\pagebreak \n",
    "</div>"
   ]
  },
  {
   "cell_type": "code",
   "execution_count": null,
   "id": "f2d56ec2",
   "metadata": {},
   "outputs": [],
   "source": [
    "from fabrictestbed_extensions.fablib.fablib import FablibManager as fablib_manager\n",
    "\n",
    "try:\n",
    "    fablib = fablib_manager()\n",
    "                     \n",
    "    fablib.show_config()\n",
    "except Exception as e:\n",
    "    print(f\"Exception: {e}\")"
   ]
  },
  {
   "cell_type": "code",
   "execution_count": null,
   "id": "025c3917",
   "metadata": {},
   "outputs": [],
   "source": [
    "# Clean up log directory to avoid large files\n",
    "import os\n",
    "for item in os.scandir(os.path.join(os.getcwd(), 'logs')):\n",
    "    if '.' != item.name[0]:\n",
    "        os.remove(item.path)"
   ]
  },
  {
   "cell_type": "markdown",
   "id": "8a847142-3a85-4019-a9b3-5fa5d9691692",
   "metadata": {},
   "source": [
    "# Submit the Slice"
   ]
  },
  {
   "cell_type": "code",
   "execution_count": null,
   "id": "c543c8f9-598f-4329-9894-94810c53cbfb",
   "metadata": {},
   "outputs": [],
   "source": [
    "slice_name = 'DHCPSlice'\n",
    "\n",
    "site = fablib.get_random_site()\n",
    "print(f\"Site: {site}\")\n",
    "\n",
    "node1_name = 'Server'\n",
    "node2_name = 'Client1'\n",
    "node3_name = 'Client2'\n",
    "network_name='DHCP-demo-net'\n",
    "node1_nic_name = 'nic1'\n",
    "node2_nic_name = 'nic2'\n",
    "node3_nic_name = 'nic3'\n",
    "image = 'default_ubuntu_22'"
   ]
  },
  {
   "cell_type": "code",
   "execution_count": null,
   "id": "ba1bf38b-1b59-4c08-b782-e2271bb8cd63",
   "metadata": {},
   "outputs": [],
   "source": [
    "from ipaddress import ip_address, IPv4Address, IPv6Address, IPv4Network, IPv6Network\n",
    "subnet = IPv4Network(\"10.0.0.0/24\")\n",
    "available_ips = list(subnet)[1:]\n",
    "\n",
    "try:\n",
    "    #Create Slice\n",
    "    slice = fablib.new_slice(name=slice_name)\n",
    "    net = slice.add_l2network(name=network_name, subnet=subnet)\n",
    "    # Node1\n",
    "    node1 = slice.add_node(name=node1_name, site=site, image=image)\n",
    "    iface1 = node1.add_component(model='NIC_Basic', name=node1_nic_name).get_interfaces()[0]\n",
    "    iface1.set_mode('auto')\n",
    "    net.add_interface(iface1)\n",
    "    \n",
    "    # Node2\n",
    "    node2 = slice.add_node(name=node2_name, site=site, image=image)\n",
    "    iface2 = node2.add_component(model='NIC_Basic', name=node2_nic_name).get_interfaces()[0]\n",
    "    iface2.set_mode('auto')\n",
    "    net.add_interface(iface2)\n",
    "    \n",
    "    # Node3\n",
    "    node3 = slice.add_node(name=node3_name, site=site, image=image)\n",
    "    iface3 = node3.add_component(model='NIC_Basic', name=node3_nic_name).get_interfaces()[0]\n",
    "    iface3.set_mode('auto')\n",
    "    net.add_interface(iface3)\n",
    "\n",
    "    #Submit Slice Request\n",
    "    slice.submit()\n",
    "except Exception as e:\n",
    "    print(f\"Exception: {e}\")"
   ]
  },
  {
   "cell_type": "markdown",
   "id": "56aad0a9-2f7d-40ad-813d-0b07282bf265",
   "metadata": {},
   "source": [
    "## Threading Function to Speed up Multi-Node Actions:"
   ]
  },
  {
   "cell_type": "code",
   "execution_count": null,
   "id": "075a5000-5ecb-48cf-ae01-aaa980a6f894",
   "metadata": {},
   "outputs": [],
   "source": [
    "def thread_ripper(command):\n",
    "    nodes = slice.get_nodes()\n",
    "    threads = {}\n",
    "    for node in nodes:\n",
    "        print(f'Create thread for node: {node.get_name()}')\n",
    "        threads[node] = node.execute_thread(command, output_file=f'logs/{node.get_name()}.log')\n",
    "\n",
    "    print('Done creating threads!')\n",
    "\n",
    "    for node, thread in threads.items():\n",
    "        print(f'node: {node.get_name()}... ', end='')\n",
    "        stdout, stderr = thread.result()\n",
    "        print('done!')"
   ]
  },
  {
   "cell_type": "markdown",
   "id": "e9f3d8ce-9f54-4101-bb2a-b37b383658f9",
   "metadata": {},
   "source": [
    "## Install DHCP Server to the Server Node"
   ]
  },
  {
   "cell_type": "markdown",
   "id": "a5531572-37ef-4666-9e39-d432d6f9a4e8",
   "metadata": {},
   "source": [
    "You can tail the log files for each machine with the following command:\n",
    "```bash\n",
    "tail -f {node name}.log\n",
    "```"
   ]
  },
  {
   "cell_type": "code",
   "execution_count": null,
   "id": "57acdd43-0760-4065-974d-3efd28323ae9",
   "metadata": {},
   "outputs": [],
   "source": [
    "# Get nodes\n",
    "# What we will place the DHCP server on\n",
    "server = slice.get_node(name=node1_name)\n",
    "# Our DHCP Clients\n",
    "client1 = slice.get_node(name=node2_name)\n",
    "client2 = slice.get_node(name=node3_name)\n",
    "\n",
    "# Step 1: Update packages:\n",
    "thread_ripper('sudo apt-get update')\n",
    "thread_ripper('sudo apt-get install -y net-tools network-manager')"
   ]
  },
  {
   "cell_type": "markdown",
   "id": "6cf753fc-b4c3-463b-95e5-bc6914eaced0",
   "metadata": {},
   "source": [
    "### Configure our DHCP network:"
   ]
  },
  {
   "cell_type": "code",
   "execution_count": null,
   "id": "1b0c885e-f48a-400f-bc1e-f84b81822195",
   "metadata": {},
   "outputs": [],
   "source": [
    "from ipaddress import ip_address, IPv4Address, IPv6Address, IPv4Network, IPv6Network\n",
    "\n",
    "try:\n",
    "    subnet = IPv4Network(\"192.168.1.0/24\")\n",
    "    available_ips = list(subnet)[1:]\n",
    "except Exception as e:\n",
    "    print(f\"Exception: {e}\")"
   ]
  },
  {
   "cell_type": "code",
   "execution_count": null,
   "id": "0751a318-9c8d-43d2-8c08-0d2b04a7fe3d",
   "metadata": {},
   "outputs": [],
   "source": [
    "# Step 1: Give the DHCP server an address on the same DHCP subnet we want\n",
    "try:\n",
    "    server_iface = server.get_interface(network_name=network_name) \n",
    "    server_addr = available_ips.pop(0)\n",
    "    server_iface.ip_addr_add(addr=server_addr, subnet=subnet)\n",
    "\n",
    "    stdout, stderr = server.execute(f'sudo ifconfig {server_iface.get_os_interface()} up')\n",
    "    stdout, stderr = server.execute(f'ip addr show {server_iface.get_os_interface()}')\n",
    "except Exception as e:\n",
    "    print(f\"Exception: {e}\")"
   ]
  },
  {
   "cell_type": "code",
   "execution_count": null,
   "id": "1cfb60b5-48cf-4f74-ad6b-815f95e7a866",
   "metadata": {},
   "outputs": [],
   "source": [
    "# Step 2: Install DHCP Server\n",
    "stdout, stderr = server.execute('sudo apt-get install -y isc-dhcp-server', quiet=True, output_file=f'logs/server.log')\n",
    "# server.execute('sudo rm /etc/dhcp/dhcpd.conf && sudo dpkg --configure -a') # Run this if the above fails"
   ]
  },
  {
   "cell_type": "code",
   "execution_count": null,
   "id": "02fadea3-55fc-41d3-bddf-e8d95eb80c97",
   "metadata": {},
   "outputs": [],
   "source": [
    "# Step 3: Configure server\n",
    "stdout, stderr = server.execute('''sudo bash -c 'echo \"default-lease-time 600;\n",
    "max-lease-time 7200;\n",
    "authoritative;\n",
    " \n",
    "subnet 192.168.1.0 netmask 255.255.255.0 {\n",
    " range 192.168.1.100 192.168.1.200;\n",
    " option subnet-mask 255.255.255.0;\n",
    "}\n",
    "\" >> /etc/dhcp/dhcpd.conf'\n",
    "''')\n",
    "server.execute(r'''sudo sed -i 's/INTERFACESv4=\"\"/INTERFACESv4=\"ens7\"/' /etc/default/isc-dhcp-server''', quiet=True, output_file='logs/server.log');"
   ]
  },
  {
   "cell_type": "code",
   "execution_count": null,
   "id": "982dbde0-9841-4324-8ffb-03fb06e6b320",
   "metadata": {},
   "outputs": [],
   "source": [
    "# Step 4: Restart the server\n",
    "server.execute('sudo systemctl restart isc-dhcp-server.service');\n",
    "server.execute('sudo systemctl status isc-dhcp-server.service');"
   ]
  },
  {
   "cell_type": "markdown",
   "id": "a60965a7-4b8f-4392-bf48-cb0cb2e8f079",
   "metadata": {},
   "source": [
    "## Request IP Addresses (Client-Side)"
   ]
  },
  {
   "cell_type": "code",
   "execution_count": null,
   "id": "d6584f35-b43e-4155-8d70-ac100dd435e9",
   "metadata": {},
   "outputs": [],
   "source": [
    "clients = {}\n",
    "for client in (client1, client2,):\n",
    "    # Request DHCP Address\n",
    "    client.execute('sudo dhclient ens7');\n",
    "    # Extract IP\n",
    "    stdout, stderr = client.execute('''ip addr show ens7 | grep \"inet \" | awk '{print $2}' | cut -d/ -f1''', quiet=True);\n",
    "    clients[client.get_name() + '_address'] = stdout[:-1].split('\\n')[1] # remove newline\n",
    "    \n",
    "clients"
   ]
  },
  {
   "cell_type": "markdown",
   "id": "d10a8e27-64a6-4c1c-a6a2-669068f7db70",
   "metadata": {},
   "source": [
    "## Run the Experiment\n",
    "\n",
    "We will ping client 2 using its newly allocated DHCP address.\n"
   ]
  },
  {
   "cell_type": "code",
   "execution_count": null,
   "id": "9f7984fa-96cf-4e6a-9888-de51347818c7",
   "metadata": {},
   "outputs": [],
   "source": [
    "try:        \n",
    "    stdout, stderr = client1.execute(f\"ping -c 5 {clients['Client2_address']}\")\n",
    "    \n",
    "except Exception as e:\n",
    "    print(f\"Exception: {e}\")"
   ]
  },
  {
   "cell_type": "markdown",
   "id": "cf934607-4970-4532-a56b-3c480883b994",
   "metadata": {},
   "source": [
    "## Delete the Slice\n",
    "\n",
    "Please delete your slice when you are done with your experiment."
   ]
  },
  {
   "cell_type": "code",
   "execution_count": null,
   "id": "a40d1e55-04ba-406c-ab7b-d0d6a4f1a2a9",
   "metadata": {},
   "outputs": [],
   "source": [
    "try:\n",
    "    slice = fablib.get_slice(name=slice_name)\n",
    "    slice.delete()\n",
    "except Exception as e:\n",
    "    print(f\"Exception: {e}\")"
   ]
  }
 ],
 "metadata": {
  "kernelspec": {
   "display_name": "Python 3 (ipykernel)",
   "language": "python",
   "name": "python3"
  },
  "language_info": {
   "codemirror_mode": {
    "name": "ipython",
    "version": 3
   },
   "file_extension": ".py",
   "mimetype": "text/x-python",
   "name": "python",
   "nbconvert_exporter": "python",
   "pygments_lexer": "ipython3"
  }
 },
 "nbformat": 4,
 "nbformat_minor": 5
}
