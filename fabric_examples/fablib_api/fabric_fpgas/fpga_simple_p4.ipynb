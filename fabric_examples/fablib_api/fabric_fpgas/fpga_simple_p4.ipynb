{
 "cells": [
  {
   "cell_type": "markdown",
   "id": "69714ad3-0437-4971-8067-2cf91e75cf56",
   "metadata": {},
   "source": [
    "# Using FABRIC Xilinx FPGA U280 with P4\n",
    "\n",
    "Your compute nodes can include FPGAs. These devices are made available as FABRIC components and can be added to your nodes like any other component. Your project must have Component.FPGA permission tag in order to be able to provision them. \n",
    "\n",
    "This example notebook will demonstrate how to reserve and use a single Xilinx FPGA device on FABRIC and use it in conjunction with ConnectX-6 cards. It creates a slice with two nodes - one with FPGA and another with a ConnectX-6 card connected via L2Bridge L2 services. A sample P4 application is loaded using ESnet workflow and a traffic is exchanged between the FPGA and the ConnectX-6 card.\n"
   ]
  },
  {
   "cell_type": "markdown",
   "id": "8f8a7247-578c-438c-9143-973a2adb3a47",
   "metadata": {},
   "source": [
    "## Setup the Experiment"
   ]
  },
  {
   "cell_type": "code",
   "execution_count": 1,
   "id": "b4824ebf-e1f7-417c-a25e-60102a719332",
   "metadata": {},
   "outputs": [
    {
     "data": {
      "text/html": [
       "<style type=\"text/css\">\n",
       "#T_b8164 tr:nth-child(even) {\n",
       "  background: #dbf3ff;\n",
       "  color: #231f20;\n",
       "}\n",
       "#T_b8164 tr:nth-child(odd) {\n",
       "  background: #ffffff;\n",
       "  color: #231f20;\n",
       "}\n",
       "#T_b8164 caption {\n",
       "  text-align: center;\n",
       "  font-size: 150%;\n",
       "}\n",
       "#T_b8164_row0_col0, #T_b8164_row0_col1, #T_b8164_row1_col0, #T_b8164_row1_col1, #T_b8164_row2_col0, #T_b8164_row2_col1, #T_b8164_row3_col0, #T_b8164_row3_col1, #T_b8164_row4_col0, #T_b8164_row4_col1, #T_b8164_row5_col0, #T_b8164_row5_col1, #T_b8164_row6_col0, #T_b8164_row6_col1, #T_b8164_row7_col0, #T_b8164_row7_col1, #T_b8164_row8_col0, #T_b8164_row8_col1, #T_b8164_row9_col0, #T_b8164_row9_col1, #T_b8164_row10_col0, #T_b8164_row10_col1, #T_b8164_row11_col0, #T_b8164_row11_col1, #T_b8164_row12_col0, #T_b8164_row12_col1, #T_b8164_row13_col0, #T_b8164_row13_col1 {\n",
       "  text-align: left;\n",
       "  border: 1px #231f20 solid !important;\n",
       "  overwrite: False;\n",
       "}\n",
       "</style>\n",
       "<table id=\"T_b8164\">\n",
       "  <caption>FABlib Config</caption>\n",
       "  <thead>\n",
       "  </thead>\n",
       "  <tbody>\n",
       "    <tr>\n",
       "      <td id=\"T_b8164_row0_col0\" class=\"data row0 col0\" >Credential Manager</td>\n",
       "      <td id=\"T_b8164_row0_col1\" class=\"data row0 col1\" >beta-2.fabric-testbed.net</td>\n",
       "    </tr>\n",
       "    <tr>\n",
       "      <td id=\"T_b8164_row1_col0\" class=\"data row1 col0\" >Orchestrator</td>\n",
       "      <td id=\"T_b8164_row1_col1\" class=\"data row1 col1\" >beta-7.fabric-testbed.net</td>\n",
       "    </tr>\n",
       "    <tr>\n",
       "      <td id=\"T_b8164_row2_col0\" class=\"data row2 col0\" >Token File</td>\n",
       "      <td id=\"T_b8164_row2_col1\" class=\"data row2 col1\" >/home/fabric/.tokens.json</td>\n",
       "    </tr>\n",
       "    <tr>\n",
       "      <td id=\"T_b8164_row3_col0\" class=\"data row3 col0\" >Project ID</td>\n",
       "      <td id=\"T_b8164_row3_col1\" class=\"data row3 col1\" >b9847fa1-13ef-49f9-9e07-ae6ad06cda3f</td>\n",
       "    </tr>\n",
       "    <tr>\n",
       "      <td id=\"T_b8164_row4_col0\" class=\"data row4 col0\" >Bastion Username</td>\n",
       "      <td id=\"T_b8164_row4_col1\" class=\"data row4 col1\" >ibaldin_0000241998</td>\n",
       "    </tr>\n",
       "    <tr>\n",
       "      <td id=\"T_b8164_row5_col0\" class=\"data row5 col0\" >Bastion Private Key File</td>\n",
       "      <td id=\"T_b8164_row5_col1\" class=\"data row5 col1\" >/home/fabric/work/fabric_config/KNIT6TutorialKey</td>\n",
       "    </tr>\n",
       "    <tr>\n",
       "      <td id=\"T_b8164_row6_col0\" class=\"data row6 col0\" >Bastion Host</td>\n",
       "      <td id=\"T_b8164_row6_col1\" class=\"data row6 col1\" >bastion.fabric-testbed.net</td>\n",
       "    </tr>\n",
       "    <tr>\n",
       "      <td id=\"T_b8164_row7_col0\" class=\"data row7 col0\" >Bastion Private Key Passphrase</td>\n",
       "      <td id=\"T_b8164_row7_col1\" class=\"data row7 col1\" >None</td>\n",
       "    </tr>\n",
       "    <tr>\n",
       "      <td id=\"T_b8164_row8_col0\" class=\"data row8 col0\" >Slice Public Key File</td>\n",
       "      <td id=\"T_b8164_row8_col1\" class=\"data row8 col1\" >/home/fabric/work/fabric_config/slice_key.pub</td>\n",
       "    </tr>\n",
       "    <tr>\n",
       "      <td id=\"T_b8164_row9_col0\" class=\"data row9 col0\" >Slice Private Key File</td>\n",
       "      <td id=\"T_b8164_row9_col1\" class=\"data row9 col1\" >/home/fabric/work/fabric_config/slice_key</td>\n",
       "    </tr>\n",
       "    <tr>\n",
       "      <td id=\"T_b8164_row10_col0\" class=\"data row10 col0\" >Slice Private Key Passphrase</td>\n",
       "      <td id=\"T_b8164_row10_col1\" class=\"data row10 col1\" >None</td>\n",
       "    </tr>\n",
       "    <tr>\n",
       "      <td id=\"T_b8164_row11_col0\" class=\"data row11 col0\" >Log File</td>\n",
       "      <td id=\"T_b8164_row11_col1\" class=\"data row11 col1\" >/home/fabric/fablib.log</td>\n",
       "    </tr>\n",
       "    <tr>\n",
       "      <td id=\"T_b8164_row12_col0\" class=\"data row12 col0\" >Log Level</td>\n",
       "      <td id=\"T_b8164_row12_col1\" class=\"data row12 col1\" >INFO</td>\n",
       "    </tr>\n",
       "    <tr>\n",
       "      <td id=\"T_b8164_row13_col0\" class=\"data row13 col0\" >Version</td>\n",
       "      <td id=\"T_b8164_row13_col1\" class=\"data row13 col1\" >1.6.0b10</td>\n",
       "    </tr>\n",
       "  </tbody>\n",
       "</table>\n"
      ],
      "text/plain": [
       "<pandas.io.formats.style.Styler at 0x7f95bfeddab0>"
      ]
     },
     "metadata": {},
     "output_type": "display_data"
    }
   ],
   "source": [
    "from fabrictestbed_extensions.fablib.fablib import FablibManager as fablib_manager\n",
    "\n",
    "fablib = fablib_manager()\n",
    "                     \n",
    "fablib.show_config();"
   ]
  },
  {
   "cell_type": "markdown",
   "id": "fbf0edc2-e71a-4df0-a7d0-60362e9b6089",
   "metadata": {},
   "source": [
    "## Select a site with available FPGA\n",
    "\n",
    "The cells below help you create a slice that contains a single node with an attached FPGA. "
   ]
  },
  {
   "cell_type": "code",
   "execution_count": 2,
   "id": "27a78a65-2c33-4480-9b09-14eb61f0b004",
   "metadata": {},
   "outputs": [
    {
     "name": "stdout",
     "output_type": "stream",
     "text": [
      "column_name='fpga_u280_available'\n"
     ]
    }
   ],
   "source": [
    "FPGA_CHOICE='FPGA_Xilinx_U280'\n",
    "SMART_NIC_CHOICE='NIC_ConnectX_6'\n",
    "\n",
    "# don't edit - convert from FPGA type to a resource column name\n",
    "# to use in filter lambda function below\n",
    "choice_to_column = {\n",
    "    \"FPGA_Xilinx_U280\": \"fpga_u280_available\",\n",
    "}\n",
    "\n",
    "column_name = choice_to_column.get(FPGA_CHOICE, \"Unknown\")\n",
    "print(f'{column_name=}')"
   ]
  },
  {
   "cell_type": "markdown",
   "id": "a4e1de28-bfdb-41b4-a6ad-0133cada8a00",
   "metadata": {},
   "source": [
    "Give the slice and the node in it meaningful names."
   ]
  },
  {
   "cell_type": "code",
   "execution_count": 3,
   "id": "f32a6c80-8d92-4fa3-a259-d30db9af7f40",
   "metadata": {},
   "outputs": [
    {
     "name": "stdout",
     "output_type": "stream",
     "text": [
      "Will create slice \"My Simple FPGA with P4 Slice with FPGA_Xilinx_U280\" with node \"fpga-node\" and node \"cx-6-node\"\n"
     ]
    }
   ],
   "source": [
    "# name the slice and the node \n",
    "slice_name=f'My Simple FPGA with P4 Slice with {FPGA_CHOICE}'\n",
    "storage_name='xilinx-tools'\n",
    "mount_point = 'xilinx-tools'\n",
    "fpga_node_name='fpga-node'\n",
    "cx6_node_name='cx-6-node'\n",
    "l2bridge1_name='l2bridge1'\n",
    "l2bridge2_name='l2bridge2'\n",
    "\n",
    "print(f'Will create slice \"{slice_name}\" with node \"{fpga_node_name}\" and node \"{cx6_node_name}\"')"
   ]
  },
  {
   "cell_type": "markdown",
   "id": "2215a194-5476-4949-93cb-00c5e947b822",
   "metadata": {},
   "source": [
    "Use a lambda filter to figure out which site the node will go to."
   ]
  },
  {
   "cell_type": "code",
   "execution_count": 4,
   "id": "df6a0024-39d8-4eda-a2b4-0ca1fccb7f8a",
   "metadata": {},
   "outputs": [
    {
     "name": "stdout",
     "output_type": "stream",
     "text": [
      "All sites with FPGA available: ['RENC']\n",
      "\n",
      "Preparing to create slice \"My Simple FPGA with P4 Slice with FPGA_Xilinx_U280\" with nodes fpga-node and cx-6-node in site RENC\n"
     ]
    }
   ],
   "source": [
    "import random\n",
    "\n",
    "# you can limit to one of the sites on this list (or use None)\n",
    "#allowed_sites = ['INDI']\n",
    "allowed_sites = None\n",
    "\n",
    "fpga_sites_df = fablib.list_sites(output='pandas', quiet=True, filter_function=lambda x: x[column_name] > 0, force_refresh=True)\n",
    "# note that list_sites with 'pandas' doesn't actually return a dataframe like doc sez, it returns a Styler \n",
    "# based on the dataframe\n",
    "if fpga_sites_df:\n",
    "    fpga_sites = fpga_sites_df.data['Name'].values.tolist()\n",
    "else:\n",
    "    fpga_sites = []\n",
    "print(f'All sites with FPGA available: {fpga_sites}')\n",
    "\n",
    "if len(fpga_sites)==0:\n",
    "    print('Warning - no sites with available FPGAs found')\n",
    "else:\n",
    "    if allowed_sites and len(allowed_sites) > 0:\n",
    "        fpga_sites = list(set(fpga_sites) & set(allowed_sites))\n",
    "    if len(fpga_sites) == 0:\n",
    "        print('Unable to find sites with available FPGAs')\n",
    "    else:\n",
    "        print('Selecting a site at random ' + f'among {allowed_sites}' if allowed_sites else '')\n",
    "\n",
    "        site = random.choice(fpga_sites)\n",
    "        print(f'Preparing to create slice \"{slice_name}\" with nodes {fpga_node_name} and {cx6_node_name} in site {site}')\n",
    "        \n",
    "# final site override if needed\n",
    "site = 'RENC'"
   ]
  },
  {
   "cell_type": "markdown",
   "id": "c7f18dfb-1348-4802-a698-45d999be080a",
   "metadata": {},
   "source": [
    "## Create a slice with a node with FPGA at desired site\n",
    "\n",
    "This slice has two VMs - one with the FPGA and the other with a ConnectX-6 card - we will want to pass traffic between them."
   ]
  },
  {
   "cell_type": "code",
   "execution_count": 5,
   "id": "074ca19c-cfa8-4b75-87bd-eb8a4b19f206",
   "metadata": {},
   "outputs": [
    {
     "name": "stdout",
     "output_type": "stream",
     "text": [
      "\n",
      "Retry: 11, Time: 283 sec\n"
     ]
    },
    {
     "data": {
      "text/html": [
       "<style type=\"text/css\">\n",
       "#T_76109 tr:nth-child(even) {\n",
       "  background: #dbf3ff;\n",
       "  color: #231f20;\n",
       "}\n",
       "#T_76109 tr:nth-child(odd) {\n",
       "  background: #ffffff;\n",
       "  color: #231f20;\n",
       "}\n",
       "#T_76109 caption {\n",
       "  text-align: center;\n",
       "  font-size: 150%;\n",
       "}\n",
       "#T_76109_row0_col0, #T_76109_row0_col1, #T_76109_row1_col0, #T_76109_row1_col1, #T_76109_row2_col0, #T_76109_row2_col1, #T_76109_row3_col0, #T_76109_row3_col1, #T_76109_row4_col0, #T_76109_row4_col1, #T_76109_row5_col0 {\n",
       "  text-align: left;\n",
       "  border: 1px #231f20 solid !important;\n",
       "  overwrite: False;\n",
       "  background-color: ;\n",
       "}\n",
       "#T_76109_row5_col1 {\n",
       "  text-align: left;\n",
       "  border: 1px #231f20 solid !important;\n",
       "  overwrite: False;\n",
       "  background-color: #c3ffc4;\n",
       "}\n",
       "</style>\n",
       "<table id=\"T_76109\">\n",
       "  <caption>Slice</caption>\n",
       "  <thead>\n",
       "  </thead>\n",
       "  <tbody>\n",
       "    <tr>\n",
       "      <td id=\"T_76109_row0_col0\" class=\"data row0 col0\" >ID</td>\n",
       "      <td id=\"T_76109_row0_col1\" class=\"data row0 col1\" >e118f4ce-537d-4644-849c-5690137cb610</td>\n",
       "    </tr>\n",
       "    <tr>\n",
       "      <td id=\"T_76109_row1_col0\" class=\"data row1 col0\" >Name</td>\n",
       "      <td id=\"T_76109_row1_col1\" class=\"data row1 col1\" >My Simple FPGA with P4 Slice with FPGA_Xilinx_U280</td>\n",
       "    </tr>\n",
       "    <tr>\n",
       "      <td id=\"T_76109_row2_col0\" class=\"data row2 col0\" >Lease Expiration (UTC)</td>\n",
       "      <td id=\"T_76109_row2_col1\" class=\"data row2 col1\" >2023-09-21 21:28:21 +0000</td>\n",
       "    </tr>\n",
       "    <tr>\n",
       "      <td id=\"T_76109_row3_col0\" class=\"data row3 col0\" >Lease Start (UTC)</td>\n",
       "      <td id=\"T_76109_row3_col1\" class=\"data row3 col1\" >2023-09-20 21:28:21 +0000</td>\n",
       "    </tr>\n",
       "    <tr>\n",
       "      <td id=\"T_76109_row4_col0\" class=\"data row4 col0\" >Project ID</td>\n",
       "      <td id=\"T_76109_row4_col1\" class=\"data row4 col1\" >b9847fa1-13ef-49f9-9e07-ae6ad06cda3f</td>\n",
       "    </tr>\n",
       "    <tr>\n",
       "      <td id=\"T_76109_row5_col0\" class=\"data row5 col0\" >State</td>\n",
       "      <td id=\"T_76109_row5_col1\" class=\"data row5 col1\" >StableOK</td>\n",
       "    </tr>\n",
       "  </tbody>\n",
       "</table>\n"
      ],
      "text/plain": [
       "<pandas.io.formats.style.Styler at 0x7f95bc47be80>"
      ]
     },
     "metadata": {},
     "output_type": "display_data"
    },
    {
     "data": {
      "text/html": [
       "<style type=\"text/css\">\n",
       "#T_bf4fb caption {\n",
       "  text-align: center;\n",
       "  font-size: 150%;\n",
       "  caption-side: top;\n",
       "}\n",
       "#T_bf4fb th {\n",
       "  text-align: left;\n",
       "}\n",
       "#T_bf4fb tr:nth-child(even) {\n",
       "  background: #ffffff;\n",
       "  color: #231f20;\n",
       "}\n",
       "#T_bf4fb tr:nth-child(odd) {\n",
       "  background: #dbf3ff;\n",
       "  color: #231f20;\n",
       "}\n",
       "#T_bf4fb .level0 {\n",
       "  border: 1px black solid !important;\n",
       "  background: #ffffff;\n",
       "  color: #231f20;\n",
       "}\n",
       "#T_bf4fb_row0_col0, #T_bf4fb_row0_col1, #T_bf4fb_row0_col2, #T_bf4fb_row0_col3, #T_bf4fb_row0_col4, #T_bf4fb_row0_col5, #T_bf4fb_row0_col6, #T_bf4fb_row0_col7, #T_bf4fb_row0_col8, #T_bf4fb_row0_col9, #T_bf4fb_row0_col10, #T_bf4fb_row0_col13, #T_bf4fb_row0_col14, #T_bf4fb_row0_col15, #T_bf4fb_row1_col0, #T_bf4fb_row1_col1, #T_bf4fb_row1_col2, #T_bf4fb_row1_col3, #T_bf4fb_row1_col4, #T_bf4fb_row1_col5, #T_bf4fb_row1_col6, #T_bf4fb_row1_col7, #T_bf4fb_row1_col8, #T_bf4fb_row1_col9, #T_bf4fb_row1_col10, #T_bf4fb_row1_col13, #T_bf4fb_row1_col14, #T_bf4fb_row1_col15 {\n",
       "  text-align: left;\n",
       "  border: 1px #231f20 solid !important;\n",
       "  overwrite: False;\n",
       "}\n",
       "#T_bf4fb_row0_col11, #T_bf4fb_row1_col11 {\n",
       "  text-align: left;\n",
       "  border: 1px #231f20 solid !important;\n",
       "  overwrite: False;\n",
       "  background-color: #c3ffc4;\n",
       "}\n",
       "#T_bf4fb_row0_col12, #T_bf4fb_row1_col12 {\n",
       "  text-align: left;\n",
       "  border: 1px #231f20 solid !important;\n",
       "  overwrite: False;\n",
       "  background-color: ;\n",
       "}\n",
       "</style>\n",
       "<table id=\"T_bf4fb\">\n",
       "  <caption>Nodes</caption>\n",
       "  <thead>\n",
       "    <tr>\n",
       "      <th id=\"T_bf4fb_level0_col0\" class=\"col_heading level0 col0\" >ID</th>\n",
       "      <th id=\"T_bf4fb_level0_col1\" class=\"col_heading level0 col1\" >Name</th>\n",
       "      <th id=\"T_bf4fb_level0_col2\" class=\"col_heading level0 col2\" >Cores</th>\n",
       "      <th id=\"T_bf4fb_level0_col3\" class=\"col_heading level0 col3\" >RAM</th>\n",
       "      <th id=\"T_bf4fb_level0_col4\" class=\"col_heading level0 col4\" >Disk</th>\n",
       "      <th id=\"T_bf4fb_level0_col5\" class=\"col_heading level0 col5\" >Image</th>\n",
       "      <th id=\"T_bf4fb_level0_col6\" class=\"col_heading level0 col6\" >Image Type</th>\n",
       "      <th id=\"T_bf4fb_level0_col7\" class=\"col_heading level0 col7\" >Host</th>\n",
       "      <th id=\"T_bf4fb_level0_col8\" class=\"col_heading level0 col8\" >Site</th>\n",
       "      <th id=\"T_bf4fb_level0_col9\" class=\"col_heading level0 col9\" >Username</th>\n",
       "      <th id=\"T_bf4fb_level0_col10\" class=\"col_heading level0 col10\" >Management IP</th>\n",
       "      <th id=\"T_bf4fb_level0_col11\" class=\"col_heading level0 col11\" >State</th>\n",
       "      <th id=\"T_bf4fb_level0_col12\" class=\"col_heading level0 col12\" >Error</th>\n",
       "      <th id=\"T_bf4fb_level0_col13\" class=\"col_heading level0 col13\" >SSH Command</th>\n",
       "      <th id=\"T_bf4fb_level0_col14\" class=\"col_heading level0 col14\" >Public SSH Key File</th>\n",
       "      <th id=\"T_bf4fb_level0_col15\" class=\"col_heading level0 col15\" >Private SSH Key File</th>\n",
       "    </tr>\n",
       "  </thead>\n",
       "  <tbody>\n",
       "    <tr>\n",
       "      <td id=\"T_bf4fb_row0_col0\" class=\"data row0 col0\" >b6313d6b-3a6c-4c05-a50a-d4f74fc16ece</td>\n",
       "      <td id=\"T_bf4fb_row0_col1\" class=\"data row0 col1\" >cx-6-node</td>\n",
       "      <td id=\"T_bf4fb_row0_col2\" class=\"data row0 col2\" >8</td>\n",
       "      <td id=\"T_bf4fb_row0_col3\" class=\"data row0 col3\" >8</td>\n",
       "      <td id=\"T_bf4fb_row0_col4\" class=\"data row0 col4\" >100</td>\n",
       "      <td id=\"T_bf4fb_row0_col5\" class=\"data row0 col5\" >docker_ubuntu_20</td>\n",
       "      <td id=\"T_bf4fb_row0_col6\" class=\"data row0 col6\" >qcow2</td>\n",
       "      <td id=\"T_bf4fb_row0_col7\" class=\"data row0 col7\" >renc-w2.fabric-testbed.net</td>\n",
       "      <td id=\"T_bf4fb_row0_col8\" class=\"data row0 col8\" >RENC</td>\n",
       "      <td id=\"T_bf4fb_row0_col9\" class=\"data row0 col9\" >ubuntu</td>\n",
       "      <td id=\"T_bf4fb_row0_col10\" class=\"data row0 col10\" >152.54.15.46</td>\n",
       "      <td id=\"T_bf4fb_row0_col11\" class=\"data row0 col11\" >Active</td>\n",
       "      <td id=\"T_bf4fb_row0_col12\" class=\"data row0 col12\" ></td>\n",
       "      <td id=\"T_bf4fb_row0_col13\" class=\"data row0 col13\" >ssh -i /home/fabric/work/fabric_config/slice_key -F /home/fabric/work/fabric_config/ssh_config ubuntu@152.54.15.46</td>\n",
       "      <td id=\"T_bf4fb_row0_col14\" class=\"data row0 col14\" >/home/fabric/work/fabric_config/slice_key.pub</td>\n",
       "      <td id=\"T_bf4fb_row0_col15\" class=\"data row0 col15\" >/home/fabric/work/fabric_config/slice_key</td>\n",
       "    </tr>\n",
       "    <tr>\n",
       "      <td id=\"T_bf4fb_row1_col0\" class=\"data row1 col0\" >123245b7-570e-44ef-8bb4-35b1ff383d11</td>\n",
       "      <td id=\"T_bf4fb_row1_col1\" class=\"data row1 col1\" >fpga-node</td>\n",
       "      <td id=\"T_bf4fb_row1_col2\" class=\"data row1 col2\" >8</td>\n",
       "      <td id=\"T_bf4fb_row1_col3\" class=\"data row1 col3\" >8</td>\n",
       "      <td id=\"T_bf4fb_row1_col4\" class=\"data row1 col4\" >100</td>\n",
       "      <td id=\"T_bf4fb_row1_col5\" class=\"data row1 col5\" >docker_ubuntu_20</td>\n",
       "      <td id=\"T_bf4fb_row1_col6\" class=\"data row1 col6\" >qcow2</td>\n",
       "      <td id=\"T_bf4fb_row1_col7\" class=\"data row1 col7\" >renc-w2.fabric-testbed.net</td>\n",
       "      <td id=\"T_bf4fb_row1_col8\" class=\"data row1 col8\" >RENC</td>\n",
       "      <td id=\"T_bf4fb_row1_col9\" class=\"data row1 col9\" >ubuntu</td>\n",
       "      <td id=\"T_bf4fb_row1_col10\" class=\"data row1 col10\" >152.54.15.45</td>\n",
       "      <td id=\"T_bf4fb_row1_col11\" class=\"data row1 col11\" >Active</td>\n",
       "      <td id=\"T_bf4fb_row1_col12\" class=\"data row1 col12\" ></td>\n",
       "      <td id=\"T_bf4fb_row1_col13\" class=\"data row1 col13\" >ssh -i /home/fabric/work/fabric_config/slice_key -F /home/fabric/work/fabric_config/ssh_config ubuntu@152.54.15.45</td>\n",
       "      <td id=\"T_bf4fb_row1_col14\" class=\"data row1 col14\" >/home/fabric/work/fabric_config/slice_key.pub</td>\n",
       "      <td id=\"T_bf4fb_row1_col15\" class=\"data row1 col15\" >/home/fabric/work/fabric_config/slice_key</td>\n",
       "    </tr>\n",
       "  </tbody>\n",
       "</table>\n"
      ],
      "text/plain": [
       "<pandas.io.formats.style.Styler at 0x7f95bc3266e0>"
      ]
     },
     "metadata": {},
     "output_type": "display_data"
    },
    {
     "data": {
      "text/html": [
       "<style type=\"text/css\">\n",
       "#T_ad586 caption {\n",
       "  text-align: center;\n",
       "  font-size: 150%;\n",
       "  caption-side: top;\n",
       "}\n",
       "#T_ad586 th {\n",
       "  text-align: left;\n",
       "}\n",
       "#T_ad586 tr:nth-child(even) {\n",
       "  background: #ffffff;\n",
       "  color: #231f20;\n",
       "}\n",
       "#T_ad586 tr:nth-child(odd) {\n",
       "  background: #dbf3ff;\n",
       "  color: #231f20;\n",
       "}\n",
       "#T_ad586 .level0 {\n",
       "  border: 1px black solid !important;\n",
       "  background: #ffffff;\n",
       "  color: #231f20;\n",
       "}\n",
       "#T_ad586_row0_col0, #T_ad586_row0_col1, #T_ad586_row0_col2, #T_ad586_row0_col3, #T_ad586_row0_col4, #T_ad586_row0_col5, #T_ad586_row0_col6, #T_ad586_row1_col0, #T_ad586_row1_col1, #T_ad586_row1_col2, #T_ad586_row1_col3, #T_ad586_row1_col4, #T_ad586_row1_col5, #T_ad586_row1_col6 {\n",
       "  text-align: left;\n",
       "  border: 1px #231f20 solid !important;\n",
       "  overwrite: False;\n",
       "}\n",
       "#T_ad586_row0_col7, #T_ad586_row1_col7 {\n",
       "  text-align: left;\n",
       "  border: 1px #231f20 solid !important;\n",
       "  overwrite: False;\n",
       "  background-color: #c3ffc4;\n",
       "}\n",
       "#T_ad586_row0_col8, #T_ad586_row1_col8 {\n",
       "  text-align: left;\n",
       "  border: 1px #231f20 solid !important;\n",
       "  overwrite: False;\n",
       "  background-color: ;\n",
       "}\n",
       "</style>\n",
       "<table id=\"T_ad586\">\n",
       "  <caption>Networks</caption>\n",
       "  <thead>\n",
       "    <tr>\n",
       "      <th id=\"T_ad586_level0_col0\" class=\"col_heading level0 col0\" >ID</th>\n",
       "      <th id=\"T_ad586_level0_col1\" class=\"col_heading level0 col1\" >Name</th>\n",
       "      <th id=\"T_ad586_level0_col2\" class=\"col_heading level0 col2\" >Layer</th>\n",
       "      <th id=\"T_ad586_level0_col3\" class=\"col_heading level0 col3\" >Type</th>\n",
       "      <th id=\"T_ad586_level0_col4\" class=\"col_heading level0 col4\" >Site</th>\n",
       "      <th id=\"T_ad586_level0_col5\" class=\"col_heading level0 col5\" >Subnet</th>\n",
       "      <th id=\"T_ad586_level0_col6\" class=\"col_heading level0 col6\" >Gateway</th>\n",
       "      <th id=\"T_ad586_level0_col7\" class=\"col_heading level0 col7\" >State</th>\n",
       "      <th id=\"T_ad586_level0_col8\" class=\"col_heading level0 col8\" >Error</th>\n",
       "    </tr>\n",
       "  </thead>\n",
       "  <tbody>\n",
       "    <tr>\n",
       "      <td id=\"T_ad586_row0_col0\" class=\"data row0 col0\" >e1b82045-687a-44d5-837f-bac092950f2f</td>\n",
       "      <td id=\"T_ad586_row0_col1\" class=\"data row0 col1\" >l2bridge1</td>\n",
       "      <td id=\"T_ad586_row0_col2\" class=\"data row0 col2\" >L2</td>\n",
       "      <td id=\"T_ad586_row0_col3\" class=\"data row0 col3\" >L2Bridge</td>\n",
       "      <td id=\"T_ad586_row0_col4\" class=\"data row0 col4\" >RENC</td>\n",
       "      <td id=\"T_ad586_row0_col5\" class=\"data row0 col5\" >None</td>\n",
       "      <td id=\"T_ad586_row0_col6\" class=\"data row0 col6\" >None</td>\n",
       "      <td id=\"T_ad586_row0_col7\" class=\"data row0 col7\" >Active</td>\n",
       "      <td id=\"T_ad586_row0_col8\" class=\"data row0 col8\" ></td>\n",
       "    </tr>\n",
       "    <tr>\n",
       "      <td id=\"T_ad586_row1_col0\" class=\"data row1 col0\" >4df55c1e-5c77-4999-8730-9c7007f8272a</td>\n",
       "      <td id=\"T_ad586_row1_col1\" class=\"data row1 col1\" >l2bridge2</td>\n",
       "      <td id=\"T_ad586_row1_col2\" class=\"data row1 col2\" >L2</td>\n",
       "      <td id=\"T_ad586_row1_col3\" class=\"data row1 col3\" >L2Bridge</td>\n",
       "      <td id=\"T_ad586_row1_col4\" class=\"data row1 col4\" >RENC</td>\n",
       "      <td id=\"T_ad586_row1_col5\" class=\"data row1 col5\" >None</td>\n",
       "      <td id=\"T_ad586_row1_col6\" class=\"data row1 col6\" >None</td>\n",
       "      <td id=\"T_ad586_row1_col7\" class=\"data row1 col7\" >Active</td>\n",
       "      <td id=\"T_ad586_row1_col8\" class=\"data row1 col8\" ></td>\n",
       "    </tr>\n",
       "  </tbody>\n",
       "</table>\n"
      ],
      "text/plain": [
       "<pandas.io.formats.style.Styler at 0x7f95bc325630>"
      ]
     },
     "metadata": {},
     "output_type": "display_data"
    },
    {
     "data": {
      "text/html": [
       "<style type=\"text/css\">\n",
       "#T_01ab3 caption {\n",
       "  text-align: center;\n",
       "  font-size: 150%;\n",
       "  caption-side: top;\n",
       "}\n",
       "#T_01ab3 th {\n",
       "  text-align: left;\n",
       "}\n",
       "#T_01ab3 tr:nth-child(even) {\n",
       "  background: #ffffff;\n",
       "  color: #231f20;\n",
       "}\n",
       "#T_01ab3 tr:nth-child(odd) {\n",
       "  background: #dbf3ff;\n",
       "  color: #231f20;\n",
       "}\n",
       "#T_01ab3 .level0 {\n",
       "  border: 1px black solid !important;\n",
       "  background: #ffffff;\n",
       "  color: #231f20;\n",
       "}\n",
       "#T_01ab3_row0_col0, #T_01ab3_row0_col1, #T_01ab3_row0_col2, #T_01ab3_row0_col3, #T_01ab3_row0_col4, #T_01ab3_row0_col5, #T_01ab3_row0_col6, #T_01ab3_row0_col7, #T_01ab3_row0_col8, #T_01ab3_row0_col9, #T_01ab3_row0_col10, #T_01ab3_row0_col11, #T_01ab3_row1_col0, #T_01ab3_row1_col1, #T_01ab3_row1_col2, #T_01ab3_row1_col3, #T_01ab3_row1_col4, #T_01ab3_row1_col5, #T_01ab3_row1_col6, #T_01ab3_row1_col7, #T_01ab3_row1_col8, #T_01ab3_row1_col9, #T_01ab3_row1_col10, #T_01ab3_row1_col11, #T_01ab3_row2_col0, #T_01ab3_row2_col1, #T_01ab3_row2_col2, #T_01ab3_row2_col3, #T_01ab3_row2_col4, #T_01ab3_row2_col5, #T_01ab3_row2_col6, #T_01ab3_row2_col7, #T_01ab3_row2_col8, #T_01ab3_row2_col9, #T_01ab3_row2_col10, #T_01ab3_row2_col11, #T_01ab3_row3_col0, #T_01ab3_row3_col1, #T_01ab3_row3_col2, #T_01ab3_row3_col3, #T_01ab3_row3_col4, #T_01ab3_row3_col5, #T_01ab3_row3_col6, #T_01ab3_row3_col7, #T_01ab3_row3_col8, #T_01ab3_row3_col9, #T_01ab3_row3_col10, #T_01ab3_row3_col11 {\n",
       "  text-align: left;\n",
       "  border: 1px #231f20 solid !important;\n",
       "  overwrite: False;\n",
       "}\n",
       "</style>\n",
       "<table id=\"T_01ab3\">\n",
       "  <caption>Interfaces</caption>\n",
       "  <thead>\n",
       "    <tr>\n",
       "      <th id=\"T_01ab3_level0_col0\" class=\"col_heading level0 col0\" >Name</th>\n",
       "      <th id=\"T_01ab3_level0_col1\" class=\"col_heading level0 col1\" >Short Name</th>\n",
       "      <th id=\"T_01ab3_level0_col2\" class=\"col_heading level0 col2\" >Node</th>\n",
       "      <th id=\"T_01ab3_level0_col3\" class=\"col_heading level0 col3\" >Network</th>\n",
       "      <th id=\"T_01ab3_level0_col4\" class=\"col_heading level0 col4\" >Bandwidth</th>\n",
       "      <th id=\"T_01ab3_level0_col5\" class=\"col_heading level0 col5\" >Mode</th>\n",
       "      <th id=\"T_01ab3_level0_col6\" class=\"col_heading level0 col6\" >VLAN</th>\n",
       "      <th id=\"T_01ab3_level0_col7\" class=\"col_heading level0 col7\" >MAC</th>\n",
       "      <th id=\"T_01ab3_level0_col8\" class=\"col_heading level0 col8\" >Physical Device</th>\n",
       "      <th id=\"T_01ab3_level0_col9\" class=\"col_heading level0 col9\" >Device</th>\n",
       "      <th id=\"T_01ab3_level0_col10\" class=\"col_heading level0 col10\" >IP Address</th>\n",
       "      <th id=\"T_01ab3_level0_col11\" class=\"col_heading level0 col11\" >Numa Node</th>\n",
       "    </tr>\n",
       "  </thead>\n",
       "  <tbody>\n",
       "    <tr>\n",
       "      <td id=\"T_01ab3_row0_col0\" class=\"data row0 col0\" >fpga-node-fpga1-p1</td>\n",
       "      <td id=\"T_01ab3_row0_col1\" class=\"data row0 col1\" >p1</td>\n",
       "      <td id=\"T_01ab3_row0_col2\" class=\"data row0 col2\" >fpga-node</td>\n",
       "      <td id=\"T_01ab3_row0_col3\" class=\"data row0 col3\" >l2bridge1</td>\n",
       "      <td id=\"T_01ab3_row0_col4\" class=\"data row0 col4\" >100</td>\n",
       "      <td id=\"T_01ab3_row0_col5\" class=\"data row0 col5\" >config</td>\n",
       "      <td id=\"T_01ab3_row0_col6\" class=\"data row0 col6\" ></td>\n",
       "      <td id=\"T_01ab3_row0_col7\" class=\"data row0 col7\" >None</td>\n",
       "      <td id=\"T_01ab3_row0_col8\" class=\"data row0 col8\" >None</td>\n",
       "      <td id=\"T_01ab3_row0_col9\" class=\"data row0 col9\" >None</td>\n",
       "      <td id=\"T_01ab3_row0_col10\" class=\"data row0 col10\" >None</td>\n",
       "      <td id=\"T_01ab3_row0_col11\" class=\"data row0 col11\" >2</td>\n",
       "    </tr>\n",
       "    <tr>\n",
       "      <td id=\"T_01ab3_row1_col0\" class=\"data row1 col0\" >fpga-node-fpga1-p2</td>\n",
       "      <td id=\"T_01ab3_row1_col1\" class=\"data row1 col1\" >p2</td>\n",
       "      <td id=\"T_01ab3_row1_col2\" class=\"data row1 col2\" >fpga-node</td>\n",
       "      <td id=\"T_01ab3_row1_col3\" class=\"data row1 col3\" >l2bridge2</td>\n",
       "      <td id=\"T_01ab3_row1_col4\" class=\"data row1 col4\" >100</td>\n",
       "      <td id=\"T_01ab3_row1_col5\" class=\"data row1 col5\" >config</td>\n",
       "      <td id=\"T_01ab3_row1_col6\" class=\"data row1 col6\" ></td>\n",
       "      <td id=\"T_01ab3_row1_col7\" class=\"data row1 col7\" >None</td>\n",
       "      <td id=\"T_01ab3_row1_col8\" class=\"data row1 col8\" >None</td>\n",
       "      <td id=\"T_01ab3_row1_col9\" class=\"data row1 col9\" >None</td>\n",
       "      <td id=\"T_01ab3_row1_col10\" class=\"data row1 col10\" >None</td>\n",
       "      <td id=\"T_01ab3_row1_col11\" class=\"data row1 col11\" >2</td>\n",
       "    </tr>\n",
       "    <tr>\n",
       "      <td id=\"T_01ab3_row2_col0\" class=\"data row2 col0\" >cx-6-node-nic1-p2</td>\n",
       "      <td id=\"T_01ab3_row2_col1\" class=\"data row2 col1\" >p2</td>\n",
       "      <td id=\"T_01ab3_row2_col2\" class=\"data row2 col2\" >cx-6-node</td>\n",
       "      <td id=\"T_01ab3_row2_col3\" class=\"data row2 col3\" >l2bridge2</td>\n",
       "      <td id=\"T_01ab3_row2_col4\" class=\"data row2 col4\" >100</td>\n",
       "      <td id=\"T_01ab3_row2_col5\" class=\"data row2 col5\" >config</td>\n",
       "      <td id=\"T_01ab3_row2_col6\" class=\"data row2 col6\" ></td>\n",
       "      <td id=\"T_01ab3_row2_col7\" class=\"data row2 col7\" >04:3F:72:B7:15:75</td>\n",
       "      <td id=\"T_01ab3_row2_col8\" class=\"data row2 col8\" >enp8s0</td>\n",
       "      <td id=\"T_01ab3_row2_col9\" class=\"data row2 col9\" >enp8s0</td>\n",
       "      <td id=\"T_01ab3_row2_col10\" class=\"data row2 col10\" >None</td>\n",
       "      <td id=\"T_01ab3_row2_col11\" class=\"data row2 col11\" >1</td>\n",
       "    </tr>\n",
       "    <tr>\n",
       "      <td id=\"T_01ab3_row3_col0\" class=\"data row3 col0\" >cx-6-node-nic1-p1</td>\n",
       "      <td id=\"T_01ab3_row3_col1\" class=\"data row3 col1\" >p1</td>\n",
       "      <td id=\"T_01ab3_row3_col2\" class=\"data row3 col2\" >cx-6-node</td>\n",
       "      <td id=\"T_01ab3_row3_col3\" class=\"data row3 col3\" >l2bridge1</td>\n",
       "      <td id=\"T_01ab3_row3_col4\" class=\"data row3 col4\" >100</td>\n",
       "      <td id=\"T_01ab3_row3_col5\" class=\"data row3 col5\" >config</td>\n",
       "      <td id=\"T_01ab3_row3_col6\" class=\"data row3 col6\" ></td>\n",
       "      <td id=\"T_01ab3_row3_col7\" class=\"data row3 col7\" >04:3F:72:B7:15:74</td>\n",
       "      <td id=\"T_01ab3_row3_col8\" class=\"data row3 col8\" >enp7s0</td>\n",
       "      <td id=\"T_01ab3_row3_col9\" class=\"data row3 col9\" >enp7s0</td>\n",
       "      <td id=\"T_01ab3_row3_col10\" class=\"data row3 col10\" >None</td>\n",
       "      <td id=\"T_01ab3_row3_col11\" class=\"data row3 col11\" >1</td>\n",
       "    </tr>\n",
       "  </tbody>\n",
       "</table>\n"
      ],
      "text/plain": [
       "<pandas.io.formats.style.Styler at 0x7f95bc35cbe0>"
      ]
     },
     "metadata": {},
     "output_type": "display_data"
    },
    {
     "name": "stdout",
     "output_type": "stream",
     "text": [
      "\n",
      "Time to print interfaces 285 seconds\n"
     ]
    }
   ],
   "source": [
    "# Create Slice. Note that by default submit() call will poll for 360 seconds every 10-20 seconds\n",
    "# waiting for slice to come up. Normal expected time is around 2 minutes. \n",
    "slice = fablib.new_slice(name=slice_name)\n",
    "image = 'docker_ubuntu_20'\n",
    "\n",
    "# Add node with a 100G drive and 8 of CPU cores using Ubuntu 20 image\n",
    "node1 = slice.add_node(name=fpga_node_name, site=site, cores=8, ram=8, disk=100, image=image)\n",
    "node1.add_storage(name=storage_name)\n",
    "fpga_comp = node1.add_component(model=FPGA_CHOICE, name='fpga1')\n",
    "fpga_p1 = fpga_comp.get_interfaces()[0]\n",
    "fpga_p2 = fpga_comp.get_interfaces()[1]\n",
    "# be sure to add FABNetv4 so we can communicate with the slice that has the tools\n",
    "#node1.add_fabnet()\n",
    "\n",
    "# Add another node with ConnectX-6 cards of similar dimensions\n",
    "node2 = slice.add_node(name=cx6_node_name, site=site, cores=8, disk=100, image=image)\n",
    "#node2 = slice.add_node(name=cx6_node_name, site=site, cores=8, disk=100)\n",
    "cx6_comp = node2.add_component(model=SMART_NIC_CHOICE, name='nic1')\n",
    "cx6_p1 = cx6_comp.get_interfaces()[0]\n",
    "cx6_p2 = cx6_comp.get_interfaces()[1]\n",
    "#node2.add_fabnet()\n",
    "\n",
    "# Use L2Bridge network services to connect the smart NIC and the FPGA ports\n",
    "net1 = slice.add_l2network(name=l2bridge1_name, interfaces=[fpga_p1, cx6_p1], type='L2Bridge')\n",
    "net2 = slice.add_l2network(name=l2bridge2_name, interfaces=[fpga_p2, cx6_p2], type='L2Bridge')\n",
    "\n",
    "# Submit Slice Request\n",
    "slice.submit();"
   ]
  },
  {
   "cell_type": "markdown",
   "id": "8ab577b5-65cd-47a2-b60d-9d93ff495e9b",
   "metadata": {},
   "source": [
    "# Setup IOMMU and Hugepages\n",
    "For DPDK to function properly we need to setup hugepages and IOMMU on the VM"
   ]
  },
  {
   "cell_type": "code",
   "execution_count": 6,
   "id": "d4a9ec37-7a93-4128-8d14-7af8e52fb0a1",
   "metadata": {},
   "outputs": [
    {
     "name": "stdout",
     "output_type": "stream",
     "text": [
      "Executing sudo sed -i 's/GRUB_CMDLINE_LINUX=\"\"/GRUB_CMDLINE_LINUX=\"amd_iommu=on iommu=pt default_hugepagesz=1G hugepagesz=1G hugepages=8\"/' /etc/default/grub\n",
      "Executing sudo grub-mkconfig -o /boot/grub/grub.cfg\n",
      "\u001b[31m Sourcing file `/etc/default/grub'\n",
      "Sourcing file `/etc/default/grub.d/50-cloudimg-settings.cfg'\n",
      "Sourcing file `/etc/default/grub.d/init-select.cfg'\n",
      "Generating grub configuration file ...\n",
      "Found linux image: /boot/vmlinuz-5.4.0-155-generic\n",
      "Found initrd image: /boot/initrd.img-5.4.0-155-generic\n",
      "done\n",
      " \u001b[0mExecuting sudo update-grub\n",
      "\u001b[31m Sourcing file `/etc/default/grub'\n",
      "Sourcing file `/etc/default/grub.d/50-cloudimg-settings.cfg'\n",
      "Sourcing file `/etc/default/grub.d/init-select.cfg'\n",
      "Generating grub configuration file ...\n",
      "Found linux image: /boot/vmlinuz-5.4.0-155-generic\n",
      "Found initrd image: /boot/initrd.img-5.4.0-155-generic\n",
      "done\n",
      " \u001b[0mDone\n"
     ]
    }
   ],
   "source": [
    "slice = fablib.get_slice(name=slice_name)\n",
    "node1 = slice.get_node(name=fpga_node_name)\n",
    "\n",
    "commands = list()\n",
    "#commands.append(\"sudo sed -i 's/GRUB_CMDLINE_LINUX=\\\"\\\\(.*\\\\)\\\"/GRUB_CMDLINE_LINUX=\\\"\\\\1 amd_iommu=on iommu=pt default_hugepagesz=1G hugepagesz=1G hugepages=8\\\"/' /etc/default/grub\")\n",
    "commands.append(\"sudo sed -i 's/GRUB_CMDLINE_LINUX=\\\"\\\"/GRUB_CMDLINE_LINUX=\\\"amd_iommu=on iommu=pt default_hugepagesz=1G hugepagesz=1G hugepages=8\\\"/' /etc/default/grub\")\n",
    "commands.append(\"sudo grub-mkconfig -o /boot/grub/grub.cfg\")\n",
    "commands.append(\"sudo update-grub\")\n",
    "\n",
    "for command in commands:\n",
    "    print(f'Executing {command}')\n",
    "    stdout, stderr = node1.execute(command)\n",
    "    \n",
    "print('Done')"
   ]
  },
  {
   "cell_type": "markdown",
   "id": "e5ca099b-bf94-4dd1-b53d-a7fee5641be3",
   "metadata": {},
   "source": [
    "Reboot the node (this sometimes generates an EOFError exception - ignore it and continue)"
   ]
  },
  {
   "cell_type": "code",
   "execution_count": 7,
   "id": "61775017-9d5c-42ad-a862-9dc6ba1f85b8",
   "metadata": {},
   "outputs": [
    {
     "name": "stdout",
     "output_type": "stream",
     "text": [
      "sudo reboot\n"
     ]
    },
    {
     "name": "stderr",
     "output_type": "stream",
     "text": [
      "Exception in thread Thread-313:\n",
      "Traceback (most recent call last):\n",
      "  File \"/opt/conda/lib/python3.10/threading.py\", line 1016, in _bootstrap_inner\n",
      "    self.run()\n",
      "  File \"/opt/conda/lib/python3.10/site-packages/paramiko/transport.py\", line 2235, in run\n",
      "    self.packetizer.close()\n",
      "  File \"/opt/conda/lib/python3.10/site-packages/paramiko/packet.py\", line 207, in close\n",
      "    self.__socket.close()\n",
      "  File \"/opt/conda/lib/python3.10/site-packages/paramiko/channel.py\", line 669, in close\n",
      "    self.transport._send_user_message(m)\n",
      "  File \"/opt/conda/lib/python3.10/site-packages/paramiko/transport.py\", line 1937, in _send_user_message\n",
      "    self._send_message(data)\n",
      "  File \"/opt/conda/lib/python3.10/site-packages/paramiko/transport.py\", line 1913, in _send_message\n",
      "    self.packetizer.send_message(data)\n",
      "  File \"/opt/conda/lib/python3.10/site-packages/paramiko/packet.py\", line 425, in send_message\n",
      "    self.write_all(out)\n",
      "  File \"/opt/conda/lib/python3.10/site-packages/paramiko/packet.py\", line 361, in write_all\n",
      "    raise EOFError()\n",
      "EOFError\n"
     ]
    },
    {
     "name": "stdout",
     "output_type": "stream",
     "text": [
      "Waiting for slice . Slice state: StableOK\n",
      "Waiting for ssh in slice . ssh successful\n",
      "Now testing SSH abilites to reconnect...Reconnected!\n"
     ]
    }
   ],
   "source": [
    "reboot = 'sudo reboot'\n",
    "\n",
    "print(reboot)\n",
    "node1.execute(reboot)\n",
    "\n",
    "slice.wait_ssh(timeout=360,interval=10,progress=True)\n",
    "\n",
    "print(\"Now testing SSH abilites to reconnect...\",end=\"\")\n",
    "slice.update()\n",
    "slice.test_ssh()\n",
    "print(\"Reconnected!\")"
   ]
  },
  {
   "cell_type": "markdown",
   "id": "1dfe1ab2-a975-4235-85a2-d7ad759144fd",
   "metadata": {},
   "source": [
    "Check that IOMMU was enabled"
   ]
  },
  {
   "cell_type": "code",
   "execution_count": 8,
   "id": "6bb04697-5da3-4aee-b7ef-94699fcfdf21",
   "metadata": {},
   "outputs": [
    {
     "name": "stdout",
     "output_type": "stream",
     "text": [
      "Observe that the modifications to boot configuration took place and IOMMU is detected\n",
      "[    0.000000] Command line: BOOT_IMAGE=/boot/vmlinuz-5.4.0-155-generic root=LABEL=cloudimg-rootfs ro amd_iommu=on iommu=pt default_hugepagesz=1G hugepagesz=1G hugepages=8 console=tty1 console=ttyS0\n",
      "[    0.033174] Kernel command line: BOOT_IMAGE=/boot/vmlinuz-5.4.0-155-generic root=LABEL=cloudimg-rootfs ro amd_iommu=on iommu=pt default_hugepagesz=1G hugepagesz=1G hugepages=8 console=tty1 console=ttyS0\n",
      "[    1.417417] iommu: Default domain type: Passthrough (set via kernel command line)\n"
     ]
    },
    {
     "data": {
      "text/plain": [
       "'Done'"
      ]
     },
     "execution_count": 8,
     "metadata": {},
     "output_type": "execute_result"
    }
   ],
   "source": [
    "command = 'dmesg | grep -i IOMMU'\n",
    "\n",
    "print('Observe that the modifications to boot configuration took place and IOMMU is detected')\n",
    "stdout, stderr = node1.execute(command)\n",
    "\n",
    "node1.config()"
   ]
  },
  {
   "cell_type": "markdown",
   "id": "3c92785a-8c70-4b31-821a-f0e9ee88b489",
   "metadata": {},
   "source": [
    "Disable IOMMU support in VFIO (the passing through doesn't actually work)"
   ]
  },
  {
   "cell_type": "code",
   "execution_count": 9,
   "id": "b80a7d00-9b04-4053-bc53-d80410912d77",
   "metadata": {},
   "outputs": [
    {
     "name": "stdout",
     "output_type": "stream",
     "text": [
      "1\n"
     ]
    }
   ],
   "source": [
    "# Enable unsafe_noiommu_mode for the vfio module\n",
    "command = \"echo 1 | sudo tee /sys/module/vfio/parameters/enable_unsafe_noiommu_mode\"\n",
    "\n",
    "stdout, stderr = node1.execute(command)"
   ]
  },
  {
   "cell_type": "markdown",
   "id": "cce34796-0b81-46a7-b7ae-c0374059b3b3",
   "metadata": {},
   "source": [
    "## Install Docker compose"
   ]
  },
  {
   "cell_type": "code",
   "execution_count": 10,
   "id": "6188b93b-4fdf-4447-ac4a-d121438e9cc0",
   "metadata": {},
   "outputs": [
    {
     "name": "stdout",
     "output_type": "stream",
     "text": [
      "Executing sudo usermod -G docker ubuntu\n",
      "Executing mkdir -p ~/.docker/cli-plugins/\n",
      "Executing curl -SL https://github.com/docker/compose/releases/download/v2.17.2/docker-compose-linux-x86_64 -o ~/.docker/cli-plugins/docker-compose\n",
      "\u001b[31m   % Total    % Received % Xferd  Average Speed   Time    Time     Time  Current\n",
      "                                 Dload  Upload   Total   Spent    Left  Speed\n",
      "  0     0    0     0    0     0      0      0 --:--:-- --:--:-- --:--:--     0\n",
      "100 51.9M  100 51.9M    0     0   108M      0 --:--:-- --:--:-- --:--:--  262M\n",
      " \u001b[0mExecuting chmod +x ~/.docker/cli-plugins/docker-compose\n",
      "Executing curl -SL https://github.com/docker/buildx/releases/download/v0.11.2/buildx-v0.11.2.linux-amd64 -o ~/.docker/cli-plugins/docker-buildx\n",
      "\u001b[31m   % Total    % Received % Xferd  Average Speed   Time    Time     Time  Current\n",
      "                                 Dload  Upload   Total   Spent    Left  Speed\n",
      "  0     0    0     0    0     0      0      0 --:--:-- --:--:-- --:--:--     0\n",
      "100 51.9M  100 51.9M    0     0   103M      0 --:--:-- --:--:-- --:--:--  240M\n",
      " \u001b[0mExecuting chmod +x ~/.docker/cli-plugins/docker-buildx\n",
      "Executing docker compose version\n",
      "Docker Compose version v2.17.2\n",
      "Executing docker container ps\n",
      "CONTAINER ID   IMAGE     COMMAND   CREATED   STATUS    PORTS     NAMES\n",
      "Done\n"
     ]
    }
   ],
   "source": [
    "commands = [\"sudo usermod -G docker ubuntu\", \n",
    "            \"mkdir -p ~/.docker/cli-plugins/\",\n",
    "            \"curl -SL https://github.com/docker/compose/releases/download/v2.17.2/docker-compose-linux-x86_64 -o ~/.docker/cli-plugins/docker-compose\",\n",
    "            \"chmod +x ~/.docker/cli-plugins/docker-compose\",\n",
    "            \"curl -SL https://github.com/docker/buildx/releases/download/v0.11.2/buildx-v0.11.2.linux-amd64 -o ~/.docker/cli-plugins/docker-buildx\",\n",
    "            \"chmod +x ~/.docker/cli-plugins/docker-buildx\",\n",
    "            \"docker compose version\",\n",
    "            \"docker container ps\"\n",
    "           ]\n",
    "\n",
    "for command in commands:\n",
    "    print(f'Executing {command}')\n",
    "    stdout, stderr = node1.execute(command)\n",
    "    \n",
    "print('Done')"
   ]
  },
  {
   "cell_type": "markdown",
   "id": "4cddf711-85a1-48f2-94c9-44ccf90d9371",
   "metadata": {},
   "source": [
    "## Mount the storage"
   ]
  },
  {
   "cell_type": "code",
   "execution_count": 11,
   "id": "2ff92954-bc39-42e9-bf84-922ea78b9e1c",
   "metadata": {},
   "outputs": [
    {
     "name": "stdout",
     "output_type": "stream",
     "text": [
      "Filesystem      Size  Used Avail Use% Mounted on\n",
      "udev            1.4G     0  1.4G   0% /dev\n",
      "tmpfs           795M  1.3M  794M   1% /run\n",
      "/dev/vda3        94G  3.5G   86G   4% /\n",
      "tmpfs           3.9G     0  3.9G   0% /dev/shm\n",
      "tmpfs           5.0M     0  5.0M   0% /run/lock\n",
      "tmpfs           3.9G     0  3.9G   0% /sys/fs/cgroup\n",
      "/dev/vda1       549M  176K  549M   1% /boot/efi\n",
      "/dev/loop0       64M   64M     0 100% /snap/core20/1974\n",
      "/dev/loop2       54M   54M     0 100% /snap/snapd/19457\n",
      "/dev/loop1       92M   92M     0 100% /snap/lxd/24061\n",
      "tmpfs           795M     0  795M   0% /run/user/1000\n",
      "/dev/vdb        984G  3.1G  931G   1% /mnt/xilinx-tools\n"
     ]
    }
   ],
   "source": [
    "storage = node1.get_storage(storage_name)\n",
    "\n",
    "stdout,stderr = node1.execute(f\"sudo mkdir -p /mnt/{mount_point}; sudo chmod go+rw /mnt/{mount_point};\"\n",
    "                              f\"sudo mount {storage.get_device_name()} /mnt/{mount_point}; \"\n",
    "                              f\"df -h\")"
   ]
  },
  {
   "cell_type": "markdown",
   "id": "75c55895-8ccd-4592-8494-0b7ebd5eecad",
   "metadata": {},
   "source": [
    "## Program FPGA and run applications on it\n",
    "\n",
    "First we checkout the `esnet-smartnic-fw` code, patch it and using an existing p4 artifact build a configuration of containers we can then execute."
   ]
  },
  {
   "cell_type": "code",
   "execution_count": 12,
   "id": "1793ddd6-4366-41e8-a63b-f0a7a03e7d06",
   "metadata": {},
   "outputs": [
    {
     "name": "stdout",
     "output_type": "stream",
     "text": [
      "Executing docker load < /mnt/xilinx-tools/esnet-dockers/smartnic-dpdk-docker.tar.gz\n",
      "Loaded image: smartnic-dpdk-docker:ubuntu-dev\n",
      "Executing docker load < /mnt/xilinx-tools/esnet-dockers/xilinx-labtools-docker-2023.1_0507_1903.tar.gz\n",
      "Loaded image: xilinx-labtools-docker:ubuntu-dev\n",
      "Executing docker image ls\n",
      "REPOSITORY               TAG          IMAGE ID       CREATED        SIZE\n",
      "smartnic-dpdk-docker     ubuntu-dev   8448c2c791b5   2 months ago   696MB\n",
      "xilinx-labtools-docker   ubuntu-dev   3fc9e77eb8e2   2 months ago   5.45GB\n"
     ]
    }
   ],
   "source": [
    "#\n",
    "# install existing dpdk and xilinx-labtools containers (pre-built) from\n",
    "# https://github.com/esnet/smartnic-dpdk-docker and https://github.com/esnet/xilinx-labtools-docker\n",
    "#\n",
    "dpdk_docker = 'smartnic-dpdk-docker.tar.gz'\n",
    "xilinx_labtools_docker = 'xilinx-labtools-docker-2023.1_0507_1903.tar.gz'\n",
    "artifact = '/mnt/xilinx-tools/artifacts/msada/v0/artifacts.au280.p4_only.0.zip'\n",
    "\n",
    "commands = [\n",
    "    f\"docker load < /mnt/{mount_point}/esnet-dockers/{dpdk_docker}\",\n",
    "    f\"docker load < /mnt/{mount_point}/esnet-dockers/{xilinx_labtools_docker}\",\n",
    "    f\"docker image ls\"\n",
    "]\n",
    "for command in commands:\n",
    "    print(f'Executing {command}')\n",
    "    stdout, stderr = node1.execute(command)"
   ]
  },
  {
   "cell_type": "markdown",
   "id": "b614920f-03e4-4a75-ad58-6b8fea554286",
   "metadata": {},
   "source": [
    "Next clone the repo and using externally provided p4 artifact build a container and a compose structure"
   ]
  },
  {
   "cell_type": "code",
   "execution_count": 13,
   "id": "43eb5e6d-256f-42a1-9db5-1299917fd287",
   "metadata": {},
   "outputs": [
    {
     "name": "stdout",
     "output_type": "stream",
     "text": [
      "Executing git clone https://github.com/esnet/esnet-smartnic-fw.git\n",
      "\u001b[31m Cloning into 'esnet-smartnic-fw'...\n",
      " \u001b[0mExecuting cd ~/esnet-smartnic-fw; git submodule init; git submodule update\n",
      "Submodule path 'regio': checked out 'fbd8bdf1a7a628287e95c5cf667b14afc94203c5'\n",
      "\u001b[31m Submodule 'regio' (https://github.com/esnet/regio) registered for path 'regio'\n",
      "Cloning into '/home/ubuntu/esnet-smartnic-fw/regio'...\n",
      " \u001b[0mExecuting cp /mnt/xilinx-tools/artifacts/msada/v0/artifacts.au280.p4_only.0.zip ~/esnet-smartnic-fw/sn-hw/\n",
      "Executing echo '\n",
      "SN_HW_VER=0\n",
      "SN_HW_BOARD=au280\n",
      "SN_HW_APP_NAME=p4_only\n",
      "' | sudo tee ~/esnet-smartnic-fw/.env\n",
      "\n",
      "SN_HW_VER=0\n",
      "SN_HW_BOARD=au280\n",
      "SN_HW_APP_NAME=p4_only\n",
      "\n"
     ]
    }
   ],
   "source": [
    "# clone the esnet-smartnic-fw repo according to instructions https://github.com/esnet/esnet-smartnic-fw/tree/main (as of 09/2023)\n",
    "# create a configuration environment file and build a container\n",
    "\n",
    "# if the artifact file is called artifacts.au280.p4_only.0.zip then it translates into\n",
    "# the following environment parameters\n",
    "env_file = \"\"\"\n",
    "SN_HW_VER=0\n",
    "SN_HW_BOARD=au280\n",
    "SN_HW_APP_NAME=p4_only\n",
    "\"\"\"\n",
    "\n",
    "commands = [\n",
    "    \"git clone https://github.com/esnet/esnet-smartnic-fw.git\",\n",
    "    \"cd ~/esnet-smartnic-fw; git submodule init; git submodule update\",\n",
    "    f\"cp {artifact} ~/esnet-smartnic-fw/sn-hw/\",\n",
    "    f\"echo '{env_file}' | sudo tee ~/esnet-smartnic-fw/.env\",\n",
    "]\n",
    "\n",
    "for command in commands:\n",
    "    print(f'Executing {command}')\n",
    "    stdout, stderr = node1.execute(command)    "
   ]
  },
  {
   "cell_type": "markdown",
   "id": "85195f80-c2b7-47f3-9228-732160129d32",
   "metadata": {},
   "source": [
    "Now build the artifacts."
   ]
  },
  {
   "cell_type": "code",
   "execution_count": 14,
   "id": "abee2d43-f895-49dd-9535-5bf501a9812e",
   "metadata": {},
   "outputs": [],
   "source": [
    "# finally build, logging to a file\n",
    "node_thread = node1.execute_thread(\"cd ~/esnet-smartnic-fw/; ./build.sh\", output_file='esnet-smartnic-fw-docker.log')\n",
    "stdout, stderr = node_thread.result()"
   ]
  },
  {
   "cell_type": "markdown",
   "id": "ccbcd4e1-f3a4-4b09-8db3-49aabd53ba6f",
   "metadata": {},
   "source": [
    "### Test FPGA setup by accessing sn-cli under `smartnic-mgr-vfio-unlock` profile\n",
    "\n",
    "We use the ESnet workflow to flash the FPGA and access `sn-cli` application to test whether CMACs are up"
   ]
  },
  {
   "cell_type": "code",
   "execution_count": 15,
   "id": "c6c15ba3-cec0-4441-b111-3488c7aceca4",
   "metadata": {},
   "outputs": [
    {
     "name": "stdout",
     "output_type": "stream",
     "text": [
      "Executing echo '\n",
      "FPGA_PCIE_DEV=0000:1f:00\n",
      "COMPOSE_PROFILES=smartnic-mgr-vfio-unlock\n",
      "' | tee -a ~/esnet-smartnic-fw/sn-stack/.env\n",
      "\n",
      "FPGA_PCIE_DEV=0000:1f:00\n",
      "COMPOSE_PROFILES=smartnic-mgr-vfio-unlock\n",
      "\n",
      "Executing cd ~/esnet-smartnic-fw/sn-stack; docker compose up -d\n",
      "\u001b[31m  Network sn-stack-ubuntu_default  Creating\n",
      " Network sn-stack-ubuntu_default  Created\n",
      " Volume \"sn-stack-ubuntu_bitfiles\"  Creating\n",
      " Volume \"sn-stack-ubuntu_bitfiles\"  Created\n",
      " Container sn-stack-ubuntu-smartnic-unpack-1  Creating\n",
      " Container sn-stack-ubuntu-xilinx-hwserver-1  Creating\n",
      " Container sn-stack-ubuntu-smartnic-unpack-1  Created\n",
      " Container sn-stack-ubuntu-xilinx-hwserver-1  Created\n",
      " Container sn-stack-ubuntu-smartnic-hw-1  Creating\n",
      " Container sn-stack-ubuntu-smartnic-hw-1  Created\n",
      " Container sn-stack-ubuntu-smartnic-fw-1  Creating\n",
      " Container sn-stack-ubuntu-smartnic-devbind-1  Creating\n",
      " Container sn-stack-ubuntu-smartnic-p4-1  Creating\n",
      " Container sn-stack-ubuntu-smartnic-devbind-1  Created\n",
      " Container sn-stack-ubuntu-smartnic-p4-1  Created\n",
      " Container sn-stack-ubuntu-smartnic-vfio-unlock-1  Creating\n",
      " Container sn-stack-ubuntu-smartnic-fw-1  Created\n",
      " Container sn-stack-ubuntu-smartnic-vfio-unlock-1  Created\n",
      " Container sn-stack-ubuntu-xilinx-hwserver-1  Starting\n",
      " Container sn-stack-ubuntu-smartnic-unpack-1  Starting\n",
      " Container sn-stack-ubuntu-smartnic-unpack-1  Started\n",
      " Container sn-stack-ubuntu-xilinx-hwserver-1  Started\n",
      " Container sn-stack-ubuntu-xilinx-hwserver-1  Waiting\n",
      " Container sn-stack-ubuntu-xilinx-hwserver-1  Healthy\n",
      " Container sn-stack-ubuntu-smartnic-hw-1  Starting\n",
      " Container sn-stack-ubuntu-smartnic-hw-1  Started\n",
      " Container sn-stack-ubuntu-smartnic-hw-1  Waiting\n",
      " Container sn-stack-ubuntu-smartnic-hw-1  Waiting\n",
      " Container sn-stack-ubuntu-smartnic-hw-1  Waiting\n",
      " Container sn-stack-ubuntu-smartnic-hw-1  Healthy\n",
      " Container sn-stack-ubuntu-smartnic-devbind-1  Starting\n",
      " Container sn-stack-ubuntu-smartnic-hw-1  Healthy\n",
      " Container sn-stack-ubuntu-smartnic-p4-1  Starting\n",
      " Container sn-stack-ubuntu-smartnic-hw-1  Healthy\n",
      " Container sn-stack-ubuntu-smartnic-fw-1  Starting\n",
      " Container sn-stack-ubuntu-smartnic-p4-1  Started\n",
      " Container sn-stack-ubuntu-smartnic-fw-1  Started\n",
      " Container sn-stack-ubuntu-smartnic-devbind-1  Started\n",
      " Container sn-stack-ubuntu-smartnic-devbind-1  Waiting\n",
      " Container sn-stack-ubuntu-smartnic-devbind-1  Healthy\n",
      " Container sn-stack-ubuntu-smartnic-vfio-unlock-1  Starting\n",
      " Container sn-stack-ubuntu-smartnic-vfio-unlock-1  Started\n",
      " \u001b[0m"
     ]
    }
   ],
   "source": [
    "# set the FPGA device and the profile we want to execute\n",
    "env_file = \"\"\"\n",
    "FPGA_PCIE_DEV=0000:1f:00\n",
    "COMPOSE_PROFILES=smartnic-mgr-vfio-unlock\n",
    "\"\"\"\n",
    "\n",
    "# set execution profile to smartnic-mgr-vfio-unlock and run the stack\n",
    "# notice we append to the pre-generated .env (it was generated as part of previous build)\n",
    "commands = [\n",
    "    f\"echo '{env_file}' | tee -a ~/esnet-smartnic-fw/sn-stack/.env\",\n",
    "    \"cd ~/esnet-smartnic-fw/sn-stack; docker compose up -d\"\n",
    "]\n",
    "\n",
    "for command in commands:\n",
    "    print(f'Executing {command}')\n",
    "    stdout, stderr = node1.execute(command)  "
   ]
  },
  {
   "cell_type": "markdown",
   "id": "57a69461-6ddf-412d-a5d4-15b7e729bd32",
   "metadata": {},
   "source": [
    "Run some healthchecks (should not see errors)"
   ]
  },
  {
   "cell_type": "code",
   "execution_count": 16,
   "id": "19fe366b-1ae3-4d59-9c56-ea89ef486fab",
   "metadata": {},
   "outputs": [
    {
     "name": "stdout",
     "output_type": "stream",
     "text": [
      "\n",
      "Network devices using DPDK-compatible driver\n",
      "============================================\n",
      "0000:1f:00.0 'Device 903f' drv=vfio-pci unused=\n",
      "0000:1f:00.1 'Device 913f' drv=vfio-pci unused=\n",
      "\n",
      "Network devices using kernel driver\n",
      "===================================\n",
      "0000:03:00.0 'Virtio network device 1041' if= drv=virtio-pci unused=vfio-pci \n",
      "\n",
      "No 'Baseband' devices detected\n",
      "==============================\n",
      "\n",
      "No 'Crypto' devices detected\n",
      "============================\n",
      "\n",
      "No 'DMA' devices detected\n",
      "=========================\n",
      "\n",
      "No 'Eventdev' devices detected\n",
      "==============================\n",
      "\n",
      "No 'Mempool' devices detected\n",
      "=============================\n",
      "\n",
      "No 'Compress' devices detected\n",
      "==============================\n",
      "\n",
      "Misc (rawdev) devices using kernel driver\n",
      "=========================================\n",
      "0000:04:00.0 'Virtio block device 1042' drv=virtio-pci unused=vfio-pci \n",
      "0000:08:00.0 'Virtio block device 1042' drv=virtio-pci unused=vfio-pci \n",
      "\n",
      "No 'Regex' devices detected\n",
      "===========================\n",
      "Driver:\tvfio-pci\n",
      "Driver:\tvfio-pci\n",
      "\u001b[31m + echo 1\n",
      "+ sleep 1\n",
      "+ dpdk-devbind.py -b vfio-pci 0000:1f:00.0 0000:1f:00.1\n",
      "+ dpdk-devbind.py --status\n",
      "+ lspci -D -kvm -s 0000:1f:00.0\n",
      "+ grep '^Driver:\tvfio-pci'\n",
      "+ lspci -D -kvm -s 0000:1f:00.1\n",
      "+ grep '^Driver:\tvfio-pci'\n",
      "+ touch /status/ok\n",
      "+ sleep infinity\n",
      " \u001b[0m"
     ]
    }
   ],
   "source": [
    "stdout, stderr = node1.execute(\"cd esnet-smartnic-fw/sn-stack/; docker container logs sn-stack-ubuntu-smartnic-devbind-1\")"
   ]
  },
  {
   "cell_type": "markdown",
   "id": "4f37285a-bd06-4868-a575-7dede7e6d5c1",
   "metadata": {},
   "source": [
    "### Test sn-cli, configure CMACs\n",
    "\n",
    "Should see normal looking output. If everything is 0x0000 or 0xffff, the binding to FPGA from VFIO did not work."
   ]
  },
  {
   "cell_type": "code",
   "execution_count": 17,
   "id": "cdb311d0-9ec5-4e5e-a634-d0b5b1edd2ec",
   "metadata": {},
   "outputs": [
    {
     "name": "stdout",
     "output_type": "stream",
     "text": [
      "Device Version Info\n",
      "\tDNA:           0x400200000150c1260c606405\n",
      "\tUSR_ACCESS:    0x64b9baac (1689893548)\n",
      "\tBUILD_STATUS:  0x07201752\n"
     ]
    }
   ],
   "source": [
    "command = \"cd esnet-smartnic-fw/sn-stack/; docker compose exec smartnic-fw sn-cli dev version\"\n",
    "\n",
    "stdout, stderr = node1.execute(command)"
   ]
  },
  {
   "cell_type": "markdown",
   "id": "3dc1bc46-71fb-4b2b-ad33-358fd434d870",
   "metadata": {},
   "source": [
    "Let's configure CMACs so we can test pktgen. It is important that at the end you see `MAC ENABLED/PHY UP -> UP` for both CMACs Rx and Tx. If not, it is possible FEC is not turned off in the dataplane switch."
   ]
  },
  {
   "cell_type": "code",
   "execution_count": 18,
   "id": "ad483e9b-d4d6-4271-95d2-cae66bcd88b4",
   "metadata": {},
   "outputs": [
    {
     "name": "stdout",
     "output_type": "stream",
     "text": [
      "Executing chmod a+x sn-cli-setup\n",
      "Executing mv sn-cli-setup ~/esnet-smartnic-fw/sn-stack/scratch\n",
      "Executing cd ~/esnet-smartnic-fw/sn-stack/; docker compose exec smartnic-fw scratch/sn-cli-setup\n",
      "Device Version Info\n",
      "\tDNA:           0x400200000150c1260c606405\n",
      "\tUSR_ACCESS:    0x64b9baac (1689893548)\n",
      "\tBUILD_STATUS:  0x07201752\n",
      "Applying mappings: 4\n",
      "\t[0]  CMAC0 -> CMAC0  OK\n",
      "\t[1]  CMAC1 -> CMAC1  OK\n",
      "\t[2]  HOST0 -> HOST0  OK\n",
      "\t[3]  HOST1 -> HOST1  OK\n",
      "Applying mappings: 4\n",
      "\t[0]  CMAC0 -> CMAC0  OK\n",
      "\t[1]  CMAC1 -> CMAC1  OK\n",
      "\t[2]  HOST0 -> HOST0  OK\n",
      "\t[3]  HOST1 -> HOST1  OK\n",
      "Applying mappings: 4\n",
      "\t[0]  CMAC0 -> CMAC0  OK\n",
      "\t[1]  CMAC1 -> CMAC1  OK\n",
      "\t[2]  HOST0 -> HOST0  OK\n",
      "\t[3]  HOST1 -> HOST1  OK\n",
      "Applying mappings: 4\n",
      "\t[0]  CMAC0 -> HOST0  OK\n",
      "\t[1]  CMAC1 -> HOST1  OK\n",
      "\t[2]  HOST0 -> CMAC0  OK\n",
      "\t[3]  HOST1 -> CMAC1  OK\n",
      "Applying mappings: 4\n",
      "\t[0]  CMAC0 -> BYPASS  OK\n",
      "\t[1]  CMAC1 -> BYPASS  OK\n",
      "\t[2]  HOST0 -> BYPASS  OK\n",
      "\t[3]  HOST1 -> BYPASS  OK\n",
      "Ingress Switch Input Port Remap\n",
      "\t[0] CMAC0\tCMAC0\n",
      "\t[1] CMAC1\tCMAC1\n",
      "\t[2] HOST0\tHOST0\n",
      "\t[3] HOST1\tHOST1\n",
      "\n",
      "Ingress Switch Logical Port Connection\n",
      "\tslot Logical\tApp Port\n",
      "\t[0]  CMAC0\tBYPASS\n",
      "\t[1]  CMAC1\tBYPASS\n",
      "\t[2]  HOST0\tBYPASS\n",
      "\t[3]  HOST1\tBYPASS\n",
      "\n",
      "Bypass Port Connection\n",
      "\tslot IN\tOUT\n",
      "\t[0]  CMAC0\tHOST0\n",
      "\t[1]  CMAC1\tHOST1\n",
      "\t[2]  HOST0\tCMAC0\n",
      "\t[3]  HOST1\tCMAC1\n",
      "\n",
      "Egress Switch APP_0 Port Redirect\n",
      "\tslot Logical\tPhysical\n",
      "\t[0]  CMAC0\tCMAC0\n",
      "\t[1]  CMAC1\tCMAC1\n",
      "\t[2]  HOST0\tHOST0\n",
      "\t[3]  HOST1\tHOST1\n",
      "\n",
      "Egress Switch APP_1 Port Redirect\n",
      "\tslot Logical\tPhysical\n",
      "\t[0]  CMAC0\tCMAC0\n",
      "\t[1]  CMAC1\tCMAC1\n",
      "\t[2]  HOST0\tHOST0\n",
      "\t[3]  HOST1\tHOST1\n",
      "\n",
      "Egress Switch Port FIFO Flow Control Thresholds\n",
      "\tslot Port\tThreshold\n",
      "\t[0]  CMAC0\t4294967295\n",
      "\t[1]  CMAC1\t4294967295\n",
      "\t[2]  HOST0\t4294967295\n",
      "\t[3]  HOST1\t4294967295\n",
      "\n",
      "Configuring PF0 (qbase 0, numq 1)\n",
      "Configuring PF1 (qbase 1, numq 1)\n",
      "Enabled CMAC0\n",
      "Enabled CMAC1\n",
      "CMAC0\n",
      "  Tx (MAC ENABLED/PHY UP -> UP)\n",
      "  Rx (MAC ENABLED/PHY UP -> UP)\n",
      "\n",
      "CMAC1\n",
      "  Tx (MAC ENABLED/PHY UP -> UP)\n",
      "  Rx (MAC ENABLED/PHY UP -> UP)\n",
      "\n"
     ]
    }
   ],
   "source": [
    "# upload sn-cli config script\n",
    "sn_cli_script = 'sn-cli-setup'\n",
    "\n",
    "result = node1.upload_file(sn_cli_script, sn_cli_script)\n",
    "\n",
    "commands = [\n",
    "    f\"chmod a+x {sn_cli_script}\",\n",
    "    f\"mv {sn_cli_script} ~/esnet-smartnic-fw/sn-stack/scratch\",\n",
    "    f\"cd ~/esnet-smartnic-fw/sn-stack/; docker compose exec smartnic-fw scratch/{sn_cli_script}\"\n",
    "]\n",
    "\n",
    "for command in commands:\n",
    "    print(f'Executing {command}')\n",
    "    stdout, stderr = node1.execute(command)  "
   ]
  },
  {
   "cell_type": "markdown",
   "id": "8ca22dc5-ef8b-4ff5-9899-8b3ff16a62e1",
   "metadata": {},
   "source": [
    "### Try pktgen\n",
    "\n",
    "First we shutdown the docker stack, modify the profile to be `smartnic-mgr-dpdk-manual`, restart the stack. Then we access pktgen application and configure it to send some packets, finally we use the second host with CX-6 cards to snoop (tcpdump) and receive those packets."
   ]
  },
  {
   "cell_type": "code",
   "execution_count": 19,
   "id": "c30a8a71-aa58-4d98-8a81-2044ff13613a",
   "metadata": {},
   "outputs": [
    {
     "name": "stdout",
     "output_type": "stream",
     "text": [
      "\u001b[31m  Container sn-stack-ubuntu-smartnic-fw-1  Stopping\n",
      " Container sn-stack-ubuntu-smartnic-fw-1  Stopping\n",
      " Container sn-stack-ubuntu-smartnic-p4-1  Stopping\n",
      " Container sn-stack-ubuntu-smartnic-vfio-unlock-1  Stopping\n",
      " Container sn-stack-ubuntu-smartnic-p4-1  Stopping\n",
      " Container sn-stack-ubuntu-smartnic-vfio-unlock-1  Stopping\n",
      " Container sn-stack-ubuntu-smartnic-fw-1  Stopped\n",
      " Container sn-stack-ubuntu-smartnic-fw-1  Removing\n",
      " Container sn-stack-ubuntu-smartnic-fw-1  Removed\n",
      " Container sn-stack-ubuntu-smartnic-p4-1  Stopped\n",
      " Container sn-stack-ubuntu-smartnic-p4-1  Removing\n",
      " Container sn-stack-ubuntu-smartnic-p4-1  Removed\n",
      " Container sn-stack-ubuntu-smartnic-vfio-unlock-1  Stopped\n",
      " Container sn-stack-ubuntu-smartnic-vfio-unlock-1  Removing\n",
      " Container sn-stack-ubuntu-smartnic-vfio-unlock-1  Removed\n",
      " Container sn-stack-ubuntu-smartnic-devbind-1  Stopping\n",
      " Container sn-stack-ubuntu-smartnic-devbind-1  Stopping\n",
      " Container sn-stack-ubuntu-smartnic-devbind-1  Stopped\n",
      " Container sn-stack-ubuntu-smartnic-devbind-1  Removing\n",
      " Container sn-stack-ubuntu-smartnic-devbind-1  Removed\n",
      " Container sn-stack-ubuntu-smartnic-hw-1  Stopping\n",
      " Container sn-stack-ubuntu-smartnic-hw-1  Stopping\n",
      " Container sn-stack-ubuntu-smartnic-hw-1  Stopped\n",
      " Container sn-stack-ubuntu-smartnic-hw-1  Removing\n",
      " Container sn-stack-ubuntu-smartnic-hw-1  Removed\n",
      " Container sn-stack-ubuntu-smartnic-unpack-1  Stopping\n",
      " Container sn-stack-ubuntu-smartnic-unpack-1  Stopping\n",
      " Container sn-stack-ubuntu-xilinx-hwserver-1  Stopping\n",
      " Container sn-stack-ubuntu-xilinx-hwserver-1  Stopping\n",
      " Container sn-stack-ubuntu-smartnic-unpack-1  Stopped\n",
      " Container sn-stack-ubuntu-smartnic-unpack-1  Removing\n",
      " Container sn-stack-ubuntu-smartnic-unpack-1  Removed\n",
      " Container sn-stack-ubuntu-xilinx-hwserver-1  Stopped\n",
      " Container sn-stack-ubuntu-xilinx-hwserver-1  Removing\n",
      " Container sn-stack-ubuntu-xilinx-hwserver-1  Removed\n",
      " Network sn-stack-ubuntu_default  Removing\n",
      " Network sn-stack-ubuntu_default  Removed\n",
      " \u001b[0m"
     ]
    }
   ],
   "source": [
    "# bring down the stack\n",
    "\n",
    "command = \"cd esnet-smartnic-fw/sn-stack/; docker compose down\"\n",
    "\n",
    "stdout, stderr = node1.execute(command)"
   ]
  },
  {
   "cell_type": "markdown",
   "id": "fcd89c9b-0b06-4c88-b35f-7a3db4cee467",
   "metadata": {},
   "source": [
    "Modify the profile in the configuration .env file"
   ]
  },
  {
   "cell_type": "code",
   "execution_count": 20,
   "id": "76bfe50c-d564-40a7-b65d-75d1d736f61b",
   "metadata": {},
   "outputs": [
    {
     "name": "stdout",
     "output_type": "stream",
     "text": [
      "Executing sed -i 's/COMPOSE_PROFILES=smartnic-mgr-vfio-unlock/COMPOSE_PROFILES=smartnic-mgr-dpdk-manual/' ~/esnet-smartnic-fw/sn-stack/.env\n",
      "Executing tail ~/esnet-smartnic-fw/sn-stack/.env\n",
      "\n",
      "# block-start auto-generated by build\n",
      "SMARTNIC_FW_IMAGE_URI=esnet-smartnic-fw:ubuntu-dev\n",
      "LABTOOLS_IMAGE_URI=xilinx-labtools-docker:ubuntu-dev\n",
      "SMARTNIC_DPDK_IMAGE_URI=smartnic-dpdk-docker:ubuntu-dev\n",
      "# block-end   auto-generated by build\n",
      "\n",
      "FPGA_PCIE_DEV=0000:1f:00\n",
      "COMPOSE_PROFILES=smartnic-mgr-dpdk-manual\n",
      "\n"
     ]
    }
   ],
   "source": [
    "# modify the profile to be `smartnic-mgr-dpdk-manual`\n",
    "commands = [\n",
    "    \"sed -i 's/COMPOSE_PROFILES=smartnic-mgr-vfio-unlock/COMPOSE_PROFILES=smartnic-mgr-dpdk-manual/' ~/esnet-smartnic-fw/sn-stack/.env\",\n",
    "    \"tail ~/esnet-smartnic-fw/sn-stack/.env\"\n",
    "]\n",
    "\n",
    "for command in commands:\n",
    "    print(f'Executing {command}')\n",
    "    stdout, stderr = node1.execute(command)  "
   ]
  },
  {
   "cell_type": "markdown",
   "id": "87ebec5f-7136-4a31-a88f-aae6ed11683a",
   "metadata": {},
   "source": [
    "Restart the stack"
   ]
  },
  {
   "cell_type": "code",
   "execution_count": 21,
   "id": "da187043-db20-455c-ace1-6ba322bdcc0e",
   "metadata": {},
   "outputs": [
    {
     "name": "stdout",
     "output_type": "stream",
     "text": [
      "\u001b[31m  Network sn-stack-ubuntu_default  Creating\n",
      " Network sn-stack-ubuntu_default  Created\n",
      " Container sn-stack-ubuntu-xilinx-hwserver-1  Creating\n",
      " Container sn-stack-ubuntu-smartnic-unpack-1  Creating\n",
      " Container sn-stack-ubuntu-smartnic-unpack-1  Created\n",
      " Container sn-stack-ubuntu-xilinx-hwserver-1  Created\n",
      " Container sn-stack-ubuntu-smartnic-hw-1  Creating\n",
      " Container sn-stack-ubuntu-smartnic-hw-1  Created\n",
      " Container sn-stack-ubuntu-smartnic-devbind-1  Creating\n",
      " Container sn-stack-ubuntu-smartnic-fw-1  Creating\n",
      " Container sn-stack-ubuntu-smartnic-p4-1  Creating\n",
      " Container sn-stack-ubuntu-smartnic-fw-1  Created\n",
      " Container sn-stack-ubuntu-smartnic-devbind-1  Created\n",
      " Container sn-stack-ubuntu-smartnic-dpdk-1  Creating\n",
      " Container sn-stack-ubuntu-smartnic-p4-1  Created\n",
      " Container sn-stack-ubuntu-smartnic-dpdk-1  Created\n",
      " Container sn-stack-ubuntu-smartnic-unpack-1  Starting\n",
      " Container sn-stack-ubuntu-xilinx-hwserver-1  Starting\n",
      " Container sn-stack-ubuntu-smartnic-unpack-1  Started\n",
      " Container sn-stack-ubuntu-xilinx-hwserver-1  Started\n",
      " Container sn-stack-ubuntu-xilinx-hwserver-1  Waiting\n",
      " Container sn-stack-ubuntu-xilinx-hwserver-1  Healthy\n",
      " Container sn-stack-ubuntu-smartnic-hw-1  Starting\n",
      " Container sn-stack-ubuntu-smartnic-hw-1  Started\n",
      " Container sn-stack-ubuntu-smartnic-hw-1  Waiting\n",
      " Container sn-stack-ubuntu-smartnic-hw-1  Waiting\n",
      " Container sn-stack-ubuntu-smartnic-hw-1  Waiting\n",
      " Container sn-stack-ubuntu-smartnic-hw-1  Healthy\n",
      " Container sn-stack-ubuntu-smartnic-devbind-1  Starting\n",
      " Container sn-stack-ubuntu-smartnic-hw-1  Healthy\n",
      " Container sn-stack-ubuntu-smartnic-fw-1  Starting\n",
      " Container sn-stack-ubuntu-smartnic-hw-1  Healthy\n",
      " Container sn-stack-ubuntu-smartnic-p4-1  Starting\n",
      " Container sn-stack-ubuntu-smartnic-p4-1  Started\n",
      " Container sn-stack-ubuntu-smartnic-devbind-1  Started\n",
      " Container sn-stack-ubuntu-smartnic-devbind-1  Waiting\n",
      " Container sn-stack-ubuntu-smartnic-fw-1  Started\n",
      " Container sn-stack-ubuntu-smartnic-devbind-1  Healthy\n",
      " Container sn-stack-ubuntu-smartnic-dpdk-1  Starting\n",
      " Container sn-stack-ubuntu-smartnic-dpdk-1  Started\n",
      " \u001b[0m"
     ]
    }
   ],
   "source": [
    "command = \"cd ~/esnet-smartnic-fw/sn-stack; docker compose up -d\"\n",
    "stdout, stderr = node1.execute(command)\n"
   ]
  },
  {
   "cell_type": "markdown",
   "id": "447153dd-cfa0-496c-a606-8fd571b743de",
   "metadata": {},
   "source": [
    "The next step should be executed from the console. \n",
    "1. SSH into fpga-node\n",
    "2. `cd ~/esnet-smartnic-fw/sn-stack`\n",
    "3. `docker compose exec smartnic-dpdk bash`\n",
    "4. `pktgen -a $SN_PCIE_DEV.0 -a $SN_PCIE_DEV.1 -l 3-7 -n 3 -d librte_net_qdma.so --file-prefix $SN_PCIE_DEV- -- -v -m [4:5].0 -m [6:7].1`\n",
    "\n",
    "(pktgen should properly initialize, then at the pktgen prompt issue the following commands, which set unicast MAC addresses, set frame size to 128, 1% framerate, i.e. 1Gbps and start sending packets out of both ports)\n",
    "```\n",
    "set 0-1 dst mac 04:16:17:18:19:1a\n",
    "set 0-1 src mac 14:16:17:18:19:10\n",
    "set 0-1 size 128\n",
    "set 0-1 rate 1\n",
    "start 0\n",
    "start 1\n",
    "```\n",
    "Next on cx-6-node enable the dataplane interfaces."
   ]
  },
  {
   "cell_type": "code",
   "execution_count": 22,
   "id": "64b62627-1685-48ba-826d-8394081fd6f1",
   "metadata": {},
   "outputs": [
    {
     "name": "stdout",
     "output_type": "stream",
     "text": [
      "Executing sudo ip link set up enp7s0\n",
      "Executing sudo ip link set up enp8s0\n"
     ]
    }
   ],
   "source": [
    "node2 = slice.get_node(name=cx6_node_name)\n",
    "\n",
    "commands = [\n",
    "    \"sudo ip link set up enp7s0\",\n",
    "    \"sudo ip link set up enp8s0\"\n",
    "]\n",
    "\n",
    "for command in commands:\n",
    "    print(f'Executing {command}')\n",
    "    stdout, stderr = node2.execute(command)  "
   ]
  },
  {
   "cell_type": "markdown",
   "id": "d04dd7a0-50a3-450d-8011-412ce7d0faca",
   "metadata": {},
   "source": [
    "Try tcpdump on enp7s0, then on enp8s0"
   ]
  },
  {
   "cell_type": "code",
   "execution_count": 23,
   "id": "befc2464-eb6a-4058-85e3-93f95b31b968",
   "metadata": {},
   "outputs": [
    {
     "name": "stdout",
     "output_type": "stream",
     "text": [
      "LISTENING ON enp7s0\n",
      "21:42:57.803894 IP (tos 0x0, ttl 64, id 11194, offset 0, flags [none], proto TCP (6), length 110)\n",
      "    192.168.0.1.1234 > 192.168.1.1.5678: Flags [.], cksum 0x3fa3 (correct), seq 74616:74686, ack 74640, win 8192, length 70\n",
      "\t0x0000:  0416 1718 191a 1416 1718 1910 0800 4500\n",
      "\u001b[31m tcpdump: listening on enp7s0, link-type EN10MB (Ethernet), capture size 262144 bytes\n",
      " \u001b[0m\t0x0010:  006e 2bba 0000 4006 cc7d c0a8 0001 c0a8\n",
      "\t0x0020:  0101 04d2 162e 0001 2378 0001 2390 5010\n",
      "\t0x0030:  2000 3fa3 0000 7778 797a 3031 3233 3435\n",
      "\t0x0040:  6162 6364 6566 6768 696a 6b6c 6d6e 6f70\n",
      "\t0x0050:  7172 7374 7576 7778 797a 3031 3233 3435\n",
      "\t0x0060:  6162 6364 6566 6768 696a 6b6c 6d6e 6f70\n",
      "\t0x0070:  7172 7374 7576 7778 797a 3031\n",
      "21:42:57.803894 IP (tos 0x0, ttl 64, id 11167, offset 0, flags [none], proto TCP (6), length 110)\n",
      "    192.168.0.1.1234 > 192.168.1.1.5678: Flags [.], cksum 0x3fa3 (correct), seq 0:70, ack 1, win 8192, length 70\n",
      "\t0x0000:  0416 1718 191a 1416 1718 1910 0800 4500\n",
      "\t0x0010:  006e 2b9f 0000 4006 cc98 c0a8 0001 c0a8\n",
      "\t0x0020:  0101 04d2 162e 0001 2378 0001 2390 5010\n",
      "\t0x0030:  2000 3fa3 0000 7778 797a 3031 3233 3435\n",
      "\t0x0040:  6162 6364 6566 6768 696a 6b6c 6d6e 6f70\n",
      "\t0x0050:  7172 7374 7576 7778 797a 3031 3233 3435\n",
      "\t0x0060:  6162 6364 6566 6768 696a 6b6c 6d6e 6f70\n",
      "\t0x0070:  7172 7374 7576 7778 797a 3031\n",
      "21:42:57.803894 IP (tos 0x0, ttl 64, id 11140, offset 0, flags [none], proto TCP (6), length 110)\n",
      "    192.168.0.1.1234 > 192.168.1.1.5678: Flags [.], cksum 0x3fa3 (correct), seq 0:70, ack 1, win 8192, length 70\n",
      "\t0x0000:  0416 1718 191a 1416 1718 1910 0800 4500\n",
      "\t0x0010:  006e 2b84 0000 4006 ccb3 c0a8 0001 c0a8\n",
      "\t0x0020:  0101 04d2 162e 0001 2378 0001 2390 5010\n",
      "\t0x0030:  2000 3fa3 0000 7778 797a 3031 3233 3435\n",
      "\t0x0040:  6162 6364 6566 6768 696a 6b6c 6d6e 6f70\n",
      "\t0x0050:  7172 7374 7576 7778 797a 3031 3233 3435\n",
      "\t0x0060:  6162 6364 6566 6768 696a 6b6c 6d6e 6f70\n",
      "\t0x0070:  7172 7374 7576 7778 797a 3031\n",
      "21:42:57.803894 IP (tos 0x0, ttl 64, id 11113, offset 0, flags [none], proto TCP (6), length 110)\n",
      "    192.168.0.1.1234 > 192.168.1.1.5678: Flags [.], cksum 0x3fa3 (correct), seq 0:70, ack 1, win 8192, length 70\n",
      "\t0x0000:  0416 1718 191a 1416 1718 1910 0800 4500\n",
      "\t0x0010:  006e 2b69 0000 4006 ccce c0a8 0001 c0a8\n",
      "\t0x0020:  0101 04d2 162e 0001 2378 0001 2390 5010\n",
      "\t0x0030:  2000 3fa3 0000 7778 797a 3031 3233 3435\n",
      "\t0x0040:  6162 6364 6566 6768 696a 6b6c 6d6e 6f70\n",
      "\t0x0050:  7172 7374 7576 7778 797a 3031 3233 3435\n",
      "\t0x0060:  6162 6364 6566 6768 696a 6b6c 6d6e 6f70\n",
      "\t0x0070:  7172 7374 7576 7778 797a 3031\n",
      "21:42:57.803894 IP (tos 0x0, ttl 64, id 11086, offset 0, flags [none], proto TCP (6), length 110)\n",
      "    192.168.0.1.1234 > 192.168.1.1.5678: Flags [.], cksum 0x3fa3 (correct), seq 0:70, ack 1, win 8192, length 70\n",
      "\t0x0000:  0416 1718 191a 1416 1718 1910 0800 4500\n",
      "\t0x0010:  006e 2b4e 0000 4006 cce9 c0a8 0001 c0a8\n",
      "\t0x0020:  0101 04d2 162e 0001 2378 0001 2390 5010\n",
      "\t0x0030:  2000 3fa3 0000 7778 797a 3031 3233 3435\n",
      "\t0x0040:  6162 6364 6566 6768 696a 6b6c 6d6e 6f70\n",
      "\t0x0050:  7172 7374 7576 7778 797a 3031 3233 3435\n",
      "\t0x0060:  6162 6364 6566 6768 696a 6b6c 6d6e 6f70\n",
      "\t0x0070:  7172 7374 7576 7778 797a 3031\n",
      "21:42:57.803894 IP (tos 0x0, ttl 64, id 11059, offset 0, flags [none], proto TCP (6), length 110)\n",
      "    192.168.0.1.1234 > 192.168.1.1.5678: Flags [.], cksum 0x3fa3 (correct), seq 0:70, ack 1, win 8192, length 70\n",
      "\t0x0000:  0416 1718 191a 1416 1718 1910 0800 4500\n",
      "\t0x0010:  006e 2b33 0000 4006 cd04 c0a8 0001 c0a8\n",
      "\t0x0020:  0101 04d2 162e 0001 2378 0001 2390 5010\n",
      "\t0x0030:  2000 3fa3 0000 7778 797a 3031 3233 3435\n",
      "\t0x0040:  6162 6364 6566 6768 696a 6b6c 6d6e 6f70\n",
      "\t0x0050:  7172 7374 7576 7778 797a 3031 3233 3435\n",
      "\t0x0060:  6162 6364 6566 6768 696a 6b6c 6d6e 6f70\n",
      "\t0x0070:  7172 7374 7576 7778 797a 3031\n",
      "21:42:57.803894 IP (tos 0x0, ttl 64, id 11032, offset 0, flags [none], proto TCP (6), length 110)\n",
      "    192.168.0.1.1234 > 192.168.1.1.5678: Flags [.], cksum 0x3fa3 (correct), seq 0:70, ack 1, win 8192, length 70\n",
      "\t0x0000:  0416 1718 191a 1416 1718 1910 0800 4500\n",
      "\t0x0010:  006e 2b18 0000 4006 cd1f c0a8 0001 c0a8\n",
      "\t0x0020:  0101 04d2 162e 0001 2378 0001 2390 5010\n",
      "\t0x0030:  2000 3fa3 0000 7778 797a 3031 3233 3435\n",
      "\t0x0040:  6162 6364 6566 6768 696a 6b6c 6d6e 6f70\n",
      "\t0x0050:  7172 7374 7576 7778 797a 3031 3233 3435\n",
      "\t0x0060:  6162 6364 6566 6768 696a 6b6c 6d6e 6f70\n",
      "\t0x0070:  7172 7374 7576 7778 797a 3031\n",
      "21:42:57.803894 IP (tos 0x0, ttl 64, id 11005, offset 0, flags [none], proto TCP (6), length 110)\n",
      "    192.168.0.1.1234 > 192.168.1.1.5678: Flags [.], cksum 0x3fa3 (correct), seq 0:70, ack 1, win 8192, length 70\n",
      "\t0x0000:  0416 1718 191a 1416 1718 1910 0800 4500\n",
      "\t0x0010:  006e 2afd 0000 4006 cd3a c0a8 0001 c0a8\n",
      "\t0x0020:  0101 04d2 162e 0001 2378 0001 2390 5010\n",
      "\t0x0030:  2000 3fa3 0000 7778 797a 3031 3233 3435\n",
      "\t0x0040:  6162 6364 6566 6768 696a 6b6c 6d6e 6f70\n",
      "\t0x0050:  7172 7374 7576 7778 797a 3031 3233 3435\n",
      "\t0x0060:  6162 6364 6566 6768 696a 6b6c 6d6e 6f70\n",
      "\t0x0070:  7172 7374 7576 7778 797a 3031\n",
      "21:42:57.803898 IP (tos 0x0, ttl 64, id 10978, offset 0, flags [none], proto TCP (6), length 110)\n",
      "    192.168.0.1.1234 > 192.168.1.1.5678: Flags [.], cksum 0x3fa3 (correct), seq 0:70, ack 1, win 8192, length 70\n",
      "\t0x0000:  0416 1718 191a 1416 1718 1910 0800 4500\n",
      "\t0x0010:  006e 2ae2 0000 4006 cd55 c0a8 0001 c0a8\n",
      "\t0x0020:  0101 04d2 162e 0001 2378 0001 2390 5010\n",
      "\t0x0030:  2000 3fa3 0000 7778 797a 3031 3233 3435\n",
      "\t0x0040:  6162 6364 6566 6768 696a 6b6c 6d6e 6f70\n",
      "\t0x0050:  7172 7374 7576 7778 797a 3031 3233 3435\n",
      "\t0x0060:  6162 6364 6566 6768 696a 6b6c 6d6e 6f70\n",
      "\t0x0070:  7172 7374 7576 7778 797a 3031\n",
      "21:42:57.803898 IP (tos 0x0, ttl 64, id 10951, offset 0, flags [none], proto TCP (6), length 110)\n",
      "    192.168.0.1.1234 > 192.168.1.1.5678: Flags [.], cksum 0x3fa3 (correct), seq 0:70, ack 1, win 8192, length 70\n",
      "\t0x0000:  0416 1718 191a 1416 1718 1910 0800 4500\n",
      "\t0x0010:  006e 2ac7 0000 4006 cd70 c0a8 0001 c0a8\n",
      "\t0x0020:  0101 04d2 162e 0001 2378 0001 2390 5010\n",
      "\t0x0030:  2000 3fa3 0000 7778 797a 3031 3233 3435\n",
      "\t0x0040:  6162 6364 6566 6768 696a 6b6c 6d6e 6f70\n",
      "\t0x0050:  7172 7374 7576 7778 797a 3031 3233 3435\n",
      "\t0x0060:  6162 6364 6566 6768 696a 6b6c 6d6e 6f70\n",
      "\t0x0070:  7172 7374 7576 7778 797a 3031\n",
      "\u001b[31m 10 packets captured\n",
      "16704 packets received by filter\n",
      "7000 packets dropped by kernel\n",
      " \u001b[0mLISTENING ON enp8s0\n",
      "21:42:59.251847 IP (tos 0x0, ttl 64, id 29754, offset 0, flags [none], proto TCP (6), length 110)\n",
      "    192.168.1.1.1234 > 192.168.0.1.5678: Flags [.], cksum 0x3fa3 (correct), seq 74616:74686, ack 74640, win 8192, length 70\n",
      "\t0x0000:  0416 1718 191a 1416 1718 1910 0800 4500\n",
      "\t0x0010:  006e 743a 0000 4006 83fd c0a8 0101 c0a8\n",
      "\t0x0020:  0001 04d2 162e 0001 2378 0001 2390 5010\n",
      "\t0x0030:  2000 3fa3 0000 7778 797a 3031 3233 3435\n",
      "\t0x0040:  6162 6364 6566 6768 696a 6b6c 6d6e 6f70\n",
      "\t0x0050:  7172 7374 7576 7778 797a 3031 3233 3435\n",
      "\u001b[31m tcpdump: listening on enp8s0, link-type EN10MB (Ethernet), capture size 262144 bytes\n",
      " \u001b[0m\t0x0060:  6162 6364 6566 6768 696a 6b6c 6d6e 6f70\n",
      "\t0x0070:  7172 7374 7576 7778 797a 3031\n",
      "21:42:59.251847 IP (tos 0x0, ttl 64, id 29727, offset 0, flags [none], proto TCP (6), length 110)\n",
      "    192.168.1.1.1234 > 192.168.0.1.5678: Flags [.], cksum 0x3fa3 (correct), seq 0:70, ack 1, win 8192, length 70\n",
      "\t0x0000:  0416 1718 191a 1416 1718 1910 0800 4500\n",
      "\t0x0010:  006e 741f 0000 4006 8418 c0a8 0101 c0a8\n",
      "\t0x0020:  0001 04d2 162e 0001 2378 0001 2390 5010\n",
      "\t0x0030:  2000 3fa3 0000 7778 797a 3031 3233 3435\n",
      "\t0x0040:  6162 6364 6566 6768 696a 6b6c 6d6e 6f70\n",
      "\t0x0050:  7172 7374 7576 7778 797a 3031 3233 3435\n",
      "\t0x0060:  6162 6364 6566 6768 696a 6b6c 6d6e 6f70\n",
      "\t0x0070:  7172 7374 7576 7778 797a 3031\n",
      "21:42:59.251847 IP (tos 0x0, ttl 64, id 29700, offset 0, flags [none], proto TCP (6), length 110)\n",
      "    192.168.1.1.1234 > 192.168.0.1.5678: Flags [.], cksum 0x3fa3 (correct), seq 0:70, ack 1, win 8192, length 70\n",
      "\t0x0000:  0416 1718 191a 1416 1718 1910 0800 4500\n",
      "\t0x0010:  006e 7404 0000 4006 8433 c0a8 0101 c0a8\n",
      "\t0x0020:  0001 04d2 162e 0001 2378 0001 2390 5010\n",
      "\t0x0030:  2000 3fa3 0000 7778 797a 3031 3233 3435\n",
      "\t0x0040:  6162 6364 6566 6768 696a 6b6c 6d6e 6f70\n",
      "\t0x0050:  7172 7374 7576 7778 797a 3031 3233 3435\n",
      "\t0x0060:  6162 6364 6566 6768 696a 6b6c 6d6e 6f70\n",
      "\t0x0070:  7172 7374 7576 7778 797a 3031\n",
      "21:42:59.251847 IP (tos 0x0, ttl 64, id 29673, offset 0, flags [none], proto TCP (6), length 110)\n",
      "    192.168.1.1.1234 > 192.168.0.1.5678: Flags [.], cksum 0x3fa3 (correct), seq 0:70, ack 1, win 8192, length 70\n",
      "\t0x0000:  0416 1718 191a 1416 1718 1910 0800 4500\n",
      "\t0x0010:  006e 73e9 0000 4006 844e c0a8 0101 c0a8\n",
      "\t0x0020:  0001 04d2 162e 0001 2378 0001 2390 5010\n",
      "\t0x0030:  2000 3fa3 0000 7778 797a 3031 3233 3435\n",
      "\t0x0040:  6162 6364 6566 6768 696a 6b6c 6d6e 6f70\n",
      "\t0x0050:  7172 7374 7576 7778 797a 3031 3233 3435\n",
      "\t0x0060:  6162 6364 6566 6768 696a 6b6c 6d6e 6f70\n",
      "\t0x0070:  7172 7374 7576 7778 797a 3031\n",
      "21:42:59.251847 IP (tos 0x0, ttl 64, id 29646, offset 0, flags [none], proto TCP (6), length 110)\n",
      "    192.168.1.1.1234 > 192.168.0.1.5678: Flags [.], cksum 0x3fa3 (correct), seq 0:70, ack 1, win 8192, length 70\n",
      "\t0x0000:  0416 1718 191a 1416 1718 1910 0800 4500\n",
      "\t0x0010:  006e 73ce 0000 4006 8469 c0a8 0101 c0a8\n",
      "\t0x0020:  0001 04d2 162e 0001 2378 0001 2390 5010\n",
      "\t0x0030:  2000 3fa3 0000 7778 797a 3031 3233 3435\n",
      "\t0x0040:  6162 6364 6566 6768 696a 6b6c 6d6e 6f70\n",
      "\t0x0050:  7172 7374 7576 7778 797a 3031 3233 3435\n",
      "\t0x0060:  6162 6364 6566 6768 696a 6b6c 6d6e 6f70\n",
      "\t0x0070:  7172 7374 7576 7778 797a 3031\n",
      "21:42:59.251848 IP (tos 0x0, ttl 64, id 29619, offset 0, flags [none], proto TCP (6), length 110)\n",
      "    192.168.1.1.1234 > 192.168.0.1.5678: Flags [.], cksum 0x3fa3 (correct), seq 0:70, ack 1, win 8192, length 70\n",
      "\t0x0000:  0416 1718 191a 1416 1718 1910 0800 4500\n",
      "\t0x0010:  006e 73b3 0000 4006 8484 c0a8 0101 c0a8\n",
      "\t0x0020:  0001 04d2 162e 0001 2378 0001 2390 5010\n",
      "\t0x0030:  2000 3fa3 0000 7778 797a 3031 3233 3435\n",
      "\t0x0040:  6162 6364 6566 6768 696a 6b6c 6d6e 6f70\n",
      "\t0x0050:  7172 7374 7576 7778 797a 3031 3233 3435\n",
      "\t0x0060:  6162 6364 6566 6768 696a 6b6c 6d6e 6f70\n",
      "\t0x0070:  7172 7374 7576 7778 797a 3031\n",
      "21:42:59.251848 IP (tos 0x0, ttl 64, id 29592, offset 0, flags [none], proto TCP (6), length 110)\n",
      "    192.168.1.1.1234 > 192.168.0.1.5678: Flags [.], cksum 0x3fa3 (correct), seq 0:70, ack 1, win 8192, length 70\n",
      "\t0x0000:  0416 1718 191a 1416 1718 1910 0800 4500\n",
      "\t0x0010:  006e 7398 0000 4006 849f c0a8 0101 c0a8\n",
      "\t0x0020:  0001 04d2 162e 0001 2378 0001 2390 5010\n",
      "\t0x0030:  2000 3fa3 0000 7778 797a 3031 3233 3435\n",
      "\t0x0040:  6162 6364 6566 6768 696a 6b6c 6d6e 6f70\n",
      "\t0x0050:  7172 7374 7576 7778 797a 3031 3233 3435\n",
      "\t0x0060:  6162 6364 6566 6768 696a 6b6c 6d6e 6f70\n",
      "\t0x0070:  7172 7374 7576 7778 797a 3031\n",
      "21:42:59.251848 IP (tos 0x0, ttl 64, id 29565, offset 0, flags [none], proto TCP (6), length 110)\n",
      "    192.168.1.1.1234 > 192.168.0.1.5678: Flags [.], cksum 0x3fa3 (correct), seq 0:70, ack 1, win 8192, length 70\n",
      "\t0x0000:  0416 1718 191a 1416 1718 1910 0800 4500\n",
      "\t0x0010:  006e 737d 0000 4006 84ba c0a8 0101 c0a8\n",
      "\t0x0020:  0001 04d2 162e 0001 2378 0001 2390 5010\n",
      "\t0x0030:  2000 3fa3 0000 7778 797a 3031 3233 3435\n",
      "\t0x0040:  6162 6364 6566 6768 696a 6b6c 6d6e 6f70\n",
      "\t0x0050:  7172 7374 7576 7778 797a 3031 3233 3435\n",
      "\t0x0060:  6162 6364 6566 6768 696a 6b6c 6d6e 6f70\n",
      "\t0x0070:  7172 7374 7576 7778 797a 3031\n",
      "21:42:59.251852 IP (tos 0x0, ttl 64, id 29538, offset 0, flags [none], proto TCP (6), length 110)\n",
      "    192.168.1.1.1234 > 192.168.0.1.5678: Flags [.], cksum 0x3fa3 (correct), seq 0:70, ack 1, win 8192, length 70\n",
      "\t0x0000:  0416 1718 191a 1416 1718 1910 0800 4500\n",
      "\t0x0010:  006e 7362 0000 4006 84d5 c0a8 0101 c0a8\n",
      "\t0x0020:  0001 04d2 162e 0001 2378 0001 2390 5010\n",
      "\t0x0030:  2000 3fa3 0000 7778 797a 3031 3233 3435\n",
      "\t0x0040:  6162 6364 6566 6768 696a 6b6c 6d6e 6f70\n",
      "\t0x0050:  7172 7374 7576 7778 797a 3031 3233 3435\n",
      "\t0x0060:  6162 6364 6566 6768 696a 6b6c 6d6e 6f70\n",
      "\t0x0070:  7172 7374 7576 7778 797a 3031\n",
      "21:42:59.251852 IP (tos 0x0, ttl 64, id 29511, offset 0, flags [none], proto TCP (6), length 110)\n",
      "    192.168.1.1.1234 > 192.168.0.1.5678: Flags [.], cksum 0x3fa3 (correct), seq 0:70, ack 1, win 8192, length 70\n",
      "\t0x0000:  0416 1718 191a 1416 1718 1910 0800 4500\n",
      "\t0x0010:  006e 7347 0000 4006 84f0 c0a8 0101 c0a8\n",
      "\t0x0020:  0001 04d2 162e 0001 2378 0001 2390 5010\n",
      "\t0x0030:  2000 3fa3 0000 7778 797a 3031 3233 3435\n",
      "\t0x0040:  6162 6364 6566 6768 696a 6b6c 6d6e 6f70\n",
      "\t0x0050:  7172 7374 7576 7778 797a 3031 3233 3435\n",
      "\t0x0060:  6162 6364 6566 6768 696a 6b6c 6d6e 6f70\n",
      "\t0x0070:  7172 7374 7576 7778 797a 3031\n",
      "\u001b[31m 10 packets captured\n",
      "10432 packets received by filter\n",
      "728 packets dropped by kernel\n",
      " \u001b[0m"
     ]
    }
   ],
   "source": [
    "pktcount = 10\n",
    "print(\"LISTENING ON enp7s0\")\n",
    "command = f\"sudo tcpdump -nlvvxx -i enp7s0 -c {pktcount} tcp\"\n",
    "\n",
    "stdout, stderr = node2.execute(command)\n",
    "print(\"LISTENING ON enp8s0\")\n",
    "command = f\"sudo tcpdump -nlvvxx -i enp8s0 -c {pktcount} tcp\"\n",
    "\n",
    "stdout, stderr = node2.execute(command)"
   ]
  },
  {
   "cell_type": "markdown",
   "id": "a39ee703-100f-49a9-b93d-9e01ac6b5797",
   "metadata": {},
   "source": [
    "Bring the stack down"
   ]
  },
  {
   "cell_type": "code",
   "execution_count": 24,
   "id": "3385b637-2ab8-4f8a-a751-1621114ab68e",
   "metadata": {},
   "outputs": [
    {
     "name": "stdout",
     "output_type": "stream",
     "text": [
      "\u001b[31m  Container sn-stack-ubuntu-smartnic-p4-1  Stopping\n",
      " Container sn-stack-ubuntu-smartnic-p4-1  Stopping\n",
      " Container sn-stack-ubuntu-smartnic-fw-1  Stopping\n",
      " Container sn-stack-ubuntu-smartnic-fw-1  Stopping\n",
      " Container sn-stack-ubuntu-smartnic-dpdk-1  Stopping\n",
      " Container sn-stack-ubuntu-smartnic-dpdk-1  Stopping\n",
      " Container sn-stack-ubuntu-smartnic-p4-1  Stopped\n",
      " Container sn-stack-ubuntu-smartnic-p4-1  Removing\n",
      " Container sn-stack-ubuntu-smartnic-p4-1  Removed\n",
      " Container sn-stack-ubuntu-smartnic-fw-1  Stopped\n",
      " Container sn-stack-ubuntu-smartnic-fw-1  Removing\n",
      " Container sn-stack-ubuntu-smartnic-fw-1  Removed\n",
      " Container sn-stack-ubuntu-smartnic-dpdk-1  Stopped\n",
      " Container sn-stack-ubuntu-smartnic-dpdk-1  Removing\n",
      " Container sn-stack-ubuntu-smartnic-dpdk-1  Removed\n",
      " Container sn-stack-ubuntu-smartnic-devbind-1  Stopping\n",
      " Container sn-stack-ubuntu-smartnic-devbind-1  Stopping\n",
      " Container sn-stack-ubuntu-smartnic-devbind-1  Stopped\n",
      " Container sn-stack-ubuntu-smartnic-devbind-1  Removing\n",
      " Container sn-stack-ubuntu-smartnic-devbind-1  Removed\n",
      " Container sn-stack-ubuntu-smartnic-hw-1  Stopping\n",
      " Container sn-stack-ubuntu-smartnic-hw-1  Stopping\n",
      " Container sn-stack-ubuntu-smartnic-hw-1  Stopped\n",
      " Container sn-stack-ubuntu-smartnic-hw-1  Removing\n",
      " Container sn-stack-ubuntu-smartnic-hw-1  Removed\n",
      " Container sn-stack-ubuntu-xilinx-hwserver-1  Stopping\n",
      " Container sn-stack-ubuntu-xilinx-hwserver-1  Stopping\n",
      " Container sn-stack-ubuntu-smartnic-unpack-1  Stopping\n",
      " Container sn-stack-ubuntu-smartnic-unpack-1  Stopping\n",
      " Container sn-stack-ubuntu-smartnic-unpack-1  Stopped\n",
      " Container sn-stack-ubuntu-smartnic-unpack-1  Removing\n",
      " Container sn-stack-ubuntu-smartnic-unpack-1  Removed\n",
      " Container sn-stack-ubuntu-xilinx-hwserver-1  Stopped\n",
      " Container sn-stack-ubuntu-xilinx-hwserver-1  Removing\n",
      " Container sn-stack-ubuntu-xilinx-hwserver-1  Removed\n",
      " Network sn-stack-ubuntu_default  Removing\n",
      " Network sn-stack-ubuntu_default  Removed\n",
      " \u001b[0m"
     ]
    }
   ],
   "source": [
    "command = \"cd ~/esnet-smartnic-fw/sn-stack; docker compose down\"\n",
    "\n",
    "stdout, stderr = node1.execute(command)"
   ]
  },
  {
   "cell_type": "markdown",
   "id": "c10cb73a-6f70-4a6b-a5cf-f832a130421d",
   "metadata": {},
   "source": [
    "## Extend the slice (as needed)\n",
    "\n",
    "If you need to extend the storage slice, you can just execute the following two cells. They display the slice expiration date and optionally extend by 2 weeeks. "
   ]
  },
  {
   "cell_type": "code",
   "execution_count": null,
   "id": "9b1e53d4-fe20-449b-a61c-061e3eb967bf",
   "metadata": {},
   "outputs": [],
   "source": [
    "slice = fablib.get_slice(name=slice_name)\n",
    "a = slice.show()\n",
    "nets = slice.list_networks()\n",
    "nodes = slice.list_nodes()"
   ]
  },
  {
   "cell_type": "markdown",
   "id": "122cdde3-5f47-41fc-bd07-0ff75d0a415c",
   "metadata": {},
   "source": [
    "Renew the slice"
   ]
  },
  {
   "cell_type": "code",
   "execution_count": null,
   "id": "50a090a0-bb22-4425-832c-52921d463a2a",
   "metadata": {},
   "outputs": [],
   "source": [
    "from datetime import datetime\n",
    "from datetime import timezone\n",
    "from datetime import timedelta\n",
    "\n",
    "# Set end host to now plus 14 days\n",
    "end_date = (datetime.now(timezone.utc) + timedelta(days=14)).strftime(\"%Y-%m-%d %H:%M:%S %z\")\n",
    "\n",
    "try:\n",
    "    slice = fablib.get_slice(name=slice_name)\n",
    "\n",
    "    slice.renew(end_date)\n",
    "except Exception as e:\n",
    "    print(f\"Exception: {e}\")"
   ]
  },
  {
   "cell_type": "markdown",
   "id": "a833ba11-262c-4700-b8e6-5fb419345718",
   "metadata": {},
   "source": [
    "## Delete the Slice (as needed)\n",
    "\n",
    "Please delete your slice when you are done with your experiment.\n"
   ]
  },
  {
   "cell_type": "code",
   "execution_count": 26,
   "id": "7a946d9a-1a4a-426b-9df0-64ebd4afa18d",
   "metadata": {},
   "outputs": [],
   "source": [
    "slice = fablib.get_slice(name=slice_name)\n",
    "slice.delete()"
   ]
  },
  {
   "cell_type": "code",
   "execution_count": null,
   "id": "86d789f3-151d-421e-8e3e-84ed3e16ec6d",
   "metadata": {},
   "outputs": [],
   "source": []
  }
 ],
 "metadata": {
  "kernelspec": {
   "display_name": "Python 3 (ipykernel)",
   "language": "python",
   "name": "python3"
  },
  "language_info": {
   "codemirror_mode": {
    "name": "ipython",
    "version": 3
   },
   "file_extension": ".py",
   "mimetype": "text/x-python",
   "name": "python",
   "nbconvert_exporter": "python",
   "pygments_lexer": "ipython3",
   "version": "3.10.6"
  }
 },
 "nbformat": 4,
 "nbformat_minor": 5
}
