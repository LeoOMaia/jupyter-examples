{
 "cells": [
  {
   "cell_type": "markdown",
   "metadata": {
    "tags": []
   },
   "source": [
    "#  Customizing Nodes\n",
    "\n",
    "The [Hello, FABRIC](./hello_fabric.ipynb) notebook demonstrates how to create a simple node on a random FABRIC site with default characteristics.   Most experiments require more control over the placement and configuration of your nodes.  \n",
    "\n",
    "A FABRIC node's local disk is a virtual disk containing the base operating system and extra space that can be used by experiments.  The local disk is the base type of storage available to a node and has less isolation between it and other experiments.  This example shows how to customize the size of a node's local disk.   \n"
   ]
  },
  {
   "cell_type": "markdown",
   "metadata": {
    "tags": []
   },
   "source": [
    "## Setup the Experiment\n",
    "\n",
    "#### Import the FABlib Library"
   ]
  },
  {
   "cell_type": "code",
   "execution_count": null,
   "metadata": {
    "tags": []
   },
   "outputs": [],
   "source": [
    "from fabrictestbed_extensions.fablib.fablib import FablibManager as fablib_manager\n",
    "\n",
    "fablib = fablib_manager()\n",
    "                     \n",
    "fablib.show_config();"
   ]
  },
  {
   "cell_type": "markdown",
   "metadata": {
    "tags": []
   },
   "source": [
    "## Create the Experiment Slice\n",
    "\n",
    "Create the slice and set the specific node attributes.  Note that the disk valuse is only a *hint*.  The actual value will be the closest instance type that is larger than the chosen values.\n"
   ]
  },
  {
   "cell_type": "code",
   "execution_count": null,
   "metadata": {},
   "outputs": [],
   "source": [
    "slice_name = 'MySlice'\n",
    "\n",
    "#Create Slice\n",
    "slice = fablib.new_slice(slice_name)\n",
    "\n",
    "# Add node\n",
    "slice.add_node(name='NodeDefault')\n",
    "slice.add_node(name='Node10', disk=10)\n",
    "slice.add_node(name='Node50', disk=50)\n",
    "slice.add_node(name='Node100', disk=100)\n",
    "slice.add_node(name='Node500', disk=500)\n",
    "\n",
    "#Submit Slice Request\n",
    "slice.submit()"
   ]
  },
  {
   "cell_type": "markdown",
   "metadata": {},
   "source": [
    "## Observe the Size of the Local Disks"
   ]
  },
  {
   "cell_type": "code",
   "execution_count": null,
   "metadata": {
    "tags": []
   },
   "outputs": [],
   "source": [
    "for node in slice.get_nodes():\n",
    "    print(f\"\\n{node.get_name()}\\n\")\n",
    "    node.execute('df -h')"
   ]
  },
  {
   "cell_type": "markdown",
   "metadata": {},
   "source": [
    "## Delete the Slice"
   ]
  },
  {
   "cell_type": "code",
   "execution_count": null,
   "metadata": {
    "tags": []
   },
   "outputs": [],
   "source": [
    "fablib.delete_slice(\"MySlice\")"
   ]
  },
  {
   "cell_type": "code",
   "execution_count": null,
   "metadata": {},
   "outputs": [],
   "source": []
  }
 ],
 "metadata": {
  "kernelspec": {
   "display_name": "Python 3 (ipykernel)",
   "language": "python",
   "name": "python3"
  },
  "language_info": {
   "codemirror_mode": {
    "name": "ipython",
    "version": 3
   },
   "file_extension": ".py",
   "mimetype": "text/x-python",
   "name": "python",
   "nbconvert_exporter": "python",
   "pygments_lexer": "ipython3",
   "version": "3.9.13"
  }
 },
 "nbformat": 4,
 "nbformat_minor": 4
}
