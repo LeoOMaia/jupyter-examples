{
 "cells": [
  {
   "cell_type": "markdown",
   "metadata": {
    "tags": []
   },
   "source": [
    "# Persistent Storage\n",
    "\n",
    "This notebook shows how to conenect to a dedicated persisent storage volume that has been created for you project.  Your project lead must request a persisent volume for your project.\n",
    " \n"
   ]
  },
  {
   "cell_type": "markdown",
   "metadata": {
    "tags": []
   },
   "source": [
    "## Import the FABlib Library"
   ]
  },
  {
   "cell_type": "code",
   "execution_count": 1,
   "metadata": {
    "tags": []
   },
   "outputs": [
    {
     "data": {
      "text/html": [
       "<style type=\"text/css\">\n",
       "#T_b77bc tr:nth-child(even) {\n",
       "  background: #dbf3ff;\n",
       "  color: #231f20;\n",
       "}\n",
       "#T_b77bc tr:nth-child(odd) {\n",
       "  background: #ffffff;\n",
       "  color: #231f20;\n",
       "}\n",
       "#T_b77bc caption {\n",
       "  text-align: center;\n",
       "  font-size: 150%;\n",
       "}\n",
       "#T_b77bc_row0_col0, #T_b77bc_row0_col1, #T_b77bc_row1_col0, #T_b77bc_row1_col1, #T_b77bc_row2_col0, #T_b77bc_row2_col1, #T_b77bc_row3_col0, #T_b77bc_row3_col1, #T_b77bc_row4_col0, #T_b77bc_row4_col1, #T_b77bc_row5_col0, #T_b77bc_row5_col1, #T_b77bc_row6_col0, #T_b77bc_row6_col1, #T_b77bc_row7_col0, #T_b77bc_row7_col1, #T_b77bc_row8_col0, #T_b77bc_row8_col1, #T_b77bc_row9_col0, #T_b77bc_row9_col1, #T_b77bc_row10_col0, #T_b77bc_row10_col1, #T_b77bc_row11_col0, #T_b77bc_row11_col1, #T_b77bc_row12_col0, #T_b77bc_row12_col1 {\n",
       "  text-align: left;\n",
       "  border: 1px #231f20 solid !important;\n",
       "  overwrite: False;\n",
       "}\n",
       "</style>\n",
       "<table id=\"T_b77bc\">\n",
       "  <caption>FABlib Config</caption>\n",
       "  <thead>\n",
       "  </thead>\n",
       "  <tbody>\n",
       "    <tr>\n",
       "      <td id=\"T_b77bc_row0_col0\" class=\"data row0 col0\" >Credential Manager</td>\n",
       "      <td id=\"T_b77bc_row0_col1\" class=\"data row0 col1\" >cm.fabric-testbed.net</td>\n",
       "    </tr>\n",
       "    <tr>\n",
       "      <td id=\"T_b77bc_row1_col0\" class=\"data row1 col0\" >Orchestrator</td>\n",
       "      <td id=\"T_b77bc_row1_col1\" class=\"data row1 col1\" >orchestrator.fabric-testbed.net</td>\n",
       "    </tr>\n",
       "    <tr>\n",
       "      <td id=\"T_b77bc_row2_col0\" class=\"data row2 col0\" >Token File</td>\n",
       "      <td id=\"T_b77bc_row2_col1\" class=\"data row2 col1\" >/home/fabric/work/fabric_config/tokens.json</td>\n",
       "    </tr>\n",
       "    <tr>\n",
       "      <td id=\"T_b77bc_row3_col0\" class=\"data row3 col0\" >Project ID</td>\n",
       "      <td id=\"T_b77bc_row3_col1\" class=\"data row3 col1\" >6b76128d-c73f-431f-a245-0397586a7d40</td>\n",
       "    </tr>\n",
       "    <tr>\n",
       "      <td id=\"T_b77bc_row4_col0\" class=\"data row4 col0\" >Bastion Username</td>\n",
       "      <td id=\"T_b77bc_row4_col1\" class=\"data row4 col1\" >pruth_0031379841</td>\n",
       "    </tr>\n",
       "    <tr>\n",
       "      <td id=\"T_b77bc_row5_col0\" class=\"data row5 col0\" >Bastion Private Key File</td>\n",
       "      <td id=\"T_b77bc_row5_col1\" class=\"data row5 col1\" >/home/fabric/work/fabric_config/fabric_bastion_key</td>\n",
       "    </tr>\n",
       "    <tr>\n",
       "      <td id=\"T_b77bc_row6_col0\" class=\"data row6 col0\" >Bastion Host</td>\n",
       "      <td id=\"T_b77bc_row6_col1\" class=\"data row6 col1\" >bastion.fabric-testbed.net</td>\n",
       "    </tr>\n",
       "    <tr>\n",
       "      <td id=\"T_b77bc_row7_col0\" class=\"data row7 col0\" >Bastion Private Key Passphrase</td>\n",
       "      <td id=\"T_b77bc_row7_col1\" class=\"data row7 col1\" >None</td>\n",
       "    </tr>\n",
       "    <tr>\n",
       "      <td id=\"T_b77bc_row8_col0\" class=\"data row8 col0\" >Slice Public Key File</td>\n",
       "      <td id=\"T_b77bc_row8_col1\" class=\"data row8 col1\" >/home/fabric/work/fabric_config/slice_key.pub</td>\n",
       "    </tr>\n",
       "    <tr>\n",
       "      <td id=\"T_b77bc_row9_col0\" class=\"data row9 col0\" >Slice Private Key File</td>\n",
       "      <td id=\"T_b77bc_row9_col1\" class=\"data row9 col1\" >/home/fabric/work/fabric_config/slice_key</td>\n",
       "    </tr>\n",
       "    <tr>\n",
       "      <td id=\"T_b77bc_row10_col0\" class=\"data row10 col0\" >Slice Private Key Passphrase</td>\n",
       "      <td id=\"T_b77bc_row10_col1\" class=\"data row10 col1\" >None</td>\n",
       "    </tr>\n",
       "    <tr>\n",
       "      <td id=\"T_b77bc_row11_col0\" class=\"data row11 col0\" >Log File</td>\n",
       "      <td id=\"T_b77bc_row11_col1\" class=\"data row11 col1\" >/home/fabric/fablib.log</td>\n",
       "    </tr>\n",
       "    <tr>\n",
       "      <td id=\"T_b77bc_row12_col0\" class=\"data row12 col0\" >Log Level</td>\n",
       "      <td id=\"T_b77bc_row12_col1\" class=\"data row12 col1\" >DEBUG</td>\n",
       "    </tr>\n",
       "  </tbody>\n",
       "</table>\n"
      ],
      "text/plain": [
       "<pandas.io.formats.style.Styler at 0x7f08af048b50>"
      ]
     },
     "metadata": {},
     "output_type": "display_data"
    }
   ],
   "source": [
    "from fabrictestbed_extensions.fablib.fablib import FablibManager as fablib_manager\n",
    "\n",
    "fablib = fablib_manager()\n",
    "                         \n",
    "fablib.show_config();"
   ]
  },
  {
   "cell_type": "markdown",
   "metadata": {
    "tags": []
   },
   "source": [
    "##  Create the Experiment Slice\n",
    "\n",
    "You must specify the site and name that contains your project's volume.\n",
    "\n"
   ]
  },
  {
   "cell_type": "code",
   "execution_count": 2,
   "metadata": {
    "tags": []
   },
   "outputs": [
    {
     "name": "stdout",
     "output_type": "stream",
     "text": [
      "\n",
      "Retry: 6, Time: 147 sec\n"
     ]
    },
    {
     "data": {
      "text/html": [
       "<style type=\"text/css\">\n",
       "#T_6a72b tr:nth-child(even) {\n",
       "  background: #dbf3ff;\n",
       "  color: #231f20;\n",
       "}\n",
       "#T_6a72b tr:nth-child(odd) {\n",
       "  background: #ffffff;\n",
       "  color: #231f20;\n",
       "}\n",
       "#T_6a72b caption {\n",
       "  text-align: center;\n",
       "  font-size: 150%;\n",
       "}\n",
       "#T_6a72b_row0_col0, #T_6a72b_row0_col1, #T_6a72b_row1_col0, #T_6a72b_row1_col1, #T_6a72b_row2_col0, #T_6a72b_row2_col1, #T_6a72b_row3_col0, #T_6a72b_row3_col1, #T_6a72b_row4_col0, #T_6a72b_row4_col1, #T_6a72b_row5_col0, #T_6a72b_row5_col1 {\n",
       "  text-align: left;\n",
       "  border: 1px #231f20 solid !important;\n",
       "  overwrite: False;\n",
       "  background-color: ;\n",
       "}\n",
       "</style>\n",
       "<table id=\"T_6a72b\">\n",
       "  <caption>Slice</caption>\n",
       "  <thead>\n",
       "  </thead>\n",
       "  <tbody>\n",
       "    <tr>\n",
       "      <td id=\"T_6a72b_row0_col0\" class=\"data row0 col0\" >ID</td>\n",
       "      <td id=\"T_6a72b_row0_col1\" class=\"data row0 col1\" >dc502d92-70f0-4ca9-8422-712e7a9e8c06</td>\n",
       "    </tr>\n",
       "    <tr>\n",
       "      <td id=\"T_6a72b_row1_col0\" class=\"data row1 col0\" >Name</td>\n",
       "      <td id=\"T_6a72b_row1_col1\" class=\"data row1 col1\" >MySlice3</td>\n",
       "    </tr>\n",
       "    <tr>\n",
       "      <td id=\"T_6a72b_row2_col0\" class=\"data row2 col0\" >Lease Expiration (UTC)</td>\n",
       "      <td id=\"T_6a72b_row2_col1\" class=\"data row2 col1\" >2023-04-18 23:50:48 +0000</td>\n",
       "    </tr>\n",
       "    <tr>\n",
       "      <td id=\"T_6a72b_row3_col0\" class=\"data row3 col0\" >Lease Start (UTC)</td>\n",
       "      <td id=\"T_6a72b_row3_col1\" class=\"data row3 col1\" >2023-04-17 23:50:48 +0000</td>\n",
       "    </tr>\n",
       "    <tr>\n",
       "      <td id=\"T_6a72b_row4_col0\" class=\"data row4 col0\" >Project ID</td>\n",
       "      <td id=\"T_6a72b_row4_col1\" class=\"data row4 col1\" >6b76128d-c73f-431f-a245-0397586a7d40</td>\n",
       "    </tr>\n",
       "    <tr>\n",
       "      <td id=\"T_6a72b_row5_col0\" class=\"data row5 col0\" >State</td>\n",
       "      <td id=\"T_6a72b_row5_col1\" class=\"data row5 col1\" >Closing</td>\n",
       "    </tr>\n",
       "  </tbody>\n",
       "</table>\n"
      ],
      "text/plain": [
       "<pandas.io.formats.style.Styler at 0x7f08ac159c40>"
      ]
     },
     "metadata": {},
     "output_type": "display_data"
    },
    {
     "data": {
      "text/html": [
       "<style type=\"text/css\">\n",
       "#T_117ad caption {\n",
       "  text-align: center;\n",
       "  font-size: 150%;\n",
       "  caption-side: top;\n",
       "}\n",
       "#T_117ad th {\n",
       "  text-align: left;\n",
       "}\n",
       "#T_117ad tr:nth-child(even) {\n",
       "  background: #ffffff;\n",
       "  color: #231f20;\n",
       "}\n",
       "#T_117ad tr:nth-child(odd) {\n",
       "  background: #dbf3ff;\n",
       "  color: #231f20;\n",
       "}\n",
       "#T_117ad .level0 {\n",
       "  border: 1px black solid !important;\n",
       "  background: #ffffff;\n",
       "  color: #231f20;\n",
       "}\n",
       "#T_117ad_row0_col0, #T_117ad_row0_col1, #T_117ad_row0_col2, #T_117ad_row0_col3, #T_117ad_row0_col4, #T_117ad_row0_col5, #T_117ad_row0_col6, #T_117ad_row0_col7, #T_117ad_row0_col8, #T_117ad_row0_col9, #T_117ad_row0_col10, #T_117ad_row0_col13, #T_117ad_row0_col14, #T_117ad_row0_col15 {\n",
       "  text-align: left;\n",
       "  border: 1px #231f20 solid !important;\n",
       "  overwrite: False;\n",
       "}\n",
       "#T_117ad_row0_col11 {\n",
       "  text-align: left;\n",
       "  border: 1px #231f20 solid !important;\n",
       "  overwrite: False;\n",
       "  background-color: ;\n",
       "}\n",
       "#T_117ad_row0_col12 {\n",
       "  text-align: left;\n",
       "  border: 1px #231f20 solid !important;\n",
       "  overwrite: False;\n",
       "  background-color: #ffb7b9;\n",
       "}\n",
       "</style>\n",
       "<table id=\"T_117ad\">\n",
       "  <caption>Nodes</caption>\n",
       "  <thead>\n",
       "    <tr>\n",
       "      <th id=\"T_117ad_level0_col0\" class=\"col_heading level0 col0\" >ID</th>\n",
       "      <th id=\"T_117ad_level0_col1\" class=\"col_heading level0 col1\" >Name</th>\n",
       "      <th id=\"T_117ad_level0_col2\" class=\"col_heading level0 col2\" >Cores</th>\n",
       "      <th id=\"T_117ad_level0_col3\" class=\"col_heading level0 col3\" >RAM</th>\n",
       "      <th id=\"T_117ad_level0_col4\" class=\"col_heading level0 col4\" >Disk</th>\n",
       "      <th id=\"T_117ad_level0_col5\" class=\"col_heading level0 col5\" >Image</th>\n",
       "      <th id=\"T_117ad_level0_col6\" class=\"col_heading level0 col6\" >Image Type</th>\n",
       "      <th id=\"T_117ad_level0_col7\" class=\"col_heading level0 col7\" >Host</th>\n",
       "      <th id=\"T_117ad_level0_col8\" class=\"col_heading level0 col8\" >Site</th>\n",
       "      <th id=\"T_117ad_level0_col9\" class=\"col_heading level0 col9\" >Username</th>\n",
       "      <th id=\"T_117ad_level0_col10\" class=\"col_heading level0 col10\" >Management IP</th>\n",
       "      <th id=\"T_117ad_level0_col11\" class=\"col_heading level0 col11\" >State</th>\n",
       "      <th id=\"T_117ad_level0_col12\" class=\"col_heading level0 col12\" >Error</th>\n",
       "      <th id=\"T_117ad_level0_col13\" class=\"col_heading level0 col13\" >SSH Command</th>\n",
       "      <th id=\"T_117ad_level0_col14\" class=\"col_heading level0 col14\" >Public SSH Key File</th>\n",
       "      <th id=\"T_117ad_level0_col15\" class=\"col_heading level0 col15\" >Private SSH Key File</th>\n",
       "    </tr>\n",
       "  </thead>\n",
       "  <tbody>\n",
       "    <tr>\n",
       "      <td id=\"T_117ad_row0_col0\" class=\"data row0 col0\" >3b65daf9-1740-4935-a0cf-ddb9351f5f04</td>\n",
       "      <td id=\"T_117ad_row0_col1\" class=\"data row0 col1\" >Node1</td>\n",
       "      <td id=\"T_117ad_row0_col2\" class=\"data row0 col2\" >2</td>\n",
       "      <td id=\"T_117ad_row0_col3\" class=\"data row0 col3\" >8</td>\n",
       "      <td id=\"T_117ad_row0_col4\" class=\"data row0 col4\" >10</td>\n",
       "      <td id=\"T_117ad_row0_col5\" class=\"data row0 col5\" >default_rocky_8</td>\n",
       "      <td id=\"T_117ad_row0_col6\" class=\"data row0 col6\" >qcow2</td>\n",
       "      <td id=\"T_117ad_row0_col7\" class=\"data row0 col7\" >star-w3.fabric-testbed.net</td>\n",
       "      <td id=\"T_117ad_row0_col8\" class=\"data row0 col8\" >STAR</td>\n",
       "      <td id=\"T_117ad_row0_col9\" class=\"data row0 col9\" >rocky</td>\n",
       "      <td id=\"T_117ad_row0_col10\" class=\"data row0 col10\" ></td>\n",
       "      <td id=\"T_117ad_row0_col11\" class=\"data row0 col11\" >Closed</td>\n",
       "      <td id=\"T_117ad_row0_col12\" class=\"data row0 col12\" >failed lease update- all units failed priming: Exception during create for unit: 3b65daf9-1740-4935-a0cf-ddb9351f5f04 Playbook has failed tasks: volume 6b76128d-c73f-431f-a245-0397586a7d40-FABRIC_Staff_star_50G_1 is not found#all units failed priming: Exception during create for unit: 3b65daf9-1740-4935-a0cf-ddb9351f5f04 Playbook has failed tasks: volume 6b76128d-c73f-431f-a245-0397586a7d40-FABRIC_Staff_star_50G_1 is not found#</td>\n",
       "      <td id=\"T_117ad_row0_col13\" class=\"data row0 col13\" ></td>\n",
       "      <td id=\"T_117ad_row0_col14\" class=\"data row0 col14\" >/home/fabric/work/fabric_config/slice_key.pub</td>\n",
       "      <td id=\"T_117ad_row0_col15\" class=\"data row0 col15\" >/home/fabric/work/fabric_config/slice_key</td>\n",
       "    </tr>\n",
       "  </tbody>\n",
       "</table>\n"
      ],
      "text/plain": [
       "<pandas.io.formats.style.Styler at 0x7f08ac159a30>"
      ]
     },
     "metadata": {},
     "output_type": "display_data"
    }
   ],
   "source": [
    "# Replace with your project's volume name and site\n",
    "site = 'STAR'\n",
    "storage_name = f'FABRIC_Staff_star_50G_1'\n",
    "\n",
    "\n",
    "# Create a slice\n",
    "slice = fablib.new_slice(name=\"MySlice3\")\n",
    "\n",
    "\n",
    "# Add a node\n",
    "node = slice.add_node(name=\"Node1\", site=site)\n",
    "node.add_storage(name=storage_name)\n",
    "\n",
    "\n",
    "# Submit the slice\n",
    "slice.submit();"
   ]
  },
  {
   "cell_type": "markdown",
   "metadata": {},
   "source": [
    "## Observe the Slice's Attributes\n"
   ]
  },
  {
   "cell_type": "code",
   "execution_count": 3,
   "metadata": {
    "tags": []
   },
   "outputs": [
    {
     "data": {
      "text/html": [
       "<style type=\"text/css\">\n",
       "#T_e4150 tr:nth-child(even) {\n",
       "  background: #dbf3ff;\n",
       "  color: #231f20;\n",
       "}\n",
       "#T_e4150 tr:nth-child(odd) {\n",
       "  background: #ffffff;\n",
       "  color: #231f20;\n",
       "}\n",
       "#T_e4150 caption {\n",
       "  text-align: center;\n",
       "  font-size: 150%;\n",
       "}\n",
       "#T_e4150_row0_col0, #T_e4150_row0_col1, #T_e4150_row1_col0, #T_e4150_row1_col1, #T_e4150_row2_col0, #T_e4150_row2_col1, #T_e4150_row3_col0, #T_e4150_row3_col1, #T_e4150_row4_col0, #T_e4150_row4_col1, #T_e4150_row5_col0, #T_e4150_row5_col1 {\n",
       "  text-align: left;\n",
       "  border: 1px #231f20 solid !important;\n",
       "  overwrite: False;\n",
       "}\n",
       "</style>\n",
       "<table id=\"T_e4150\">\n",
       "  <caption>Slice</caption>\n",
       "  <thead>\n",
       "  </thead>\n",
       "  <tbody>\n",
       "    <tr>\n",
       "      <td id=\"T_e4150_row0_col0\" class=\"data row0 col0\" >ID</td>\n",
       "      <td id=\"T_e4150_row0_col1\" class=\"data row0 col1\" >dc502d92-70f0-4ca9-8422-712e7a9e8c06</td>\n",
       "    </tr>\n",
       "    <tr>\n",
       "      <td id=\"T_e4150_row1_col0\" class=\"data row1 col0\" >Name</td>\n",
       "      <td id=\"T_e4150_row1_col1\" class=\"data row1 col1\" >MySlice3</td>\n",
       "    </tr>\n",
       "    <tr>\n",
       "      <td id=\"T_e4150_row2_col0\" class=\"data row2 col0\" >Lease Expiration (UTC)</td>\n",
       "      <td id=\"T_e4150_row2_col1\" class=\"data row2 col1\" >2023-04-18 23:50:48 +0000</td>\n",
       "    </tr>\n",
       "    <tr>\n",
       "      <td id=\"T_e4150_row3_col0\" class=\"data row3 col0\" >Lease Start (UTC)</td>\n",
       "      <td id=\"T_e4150_row3_col1\" class=\"data row3 col1\" >2023-04-17 23:50:48 +0000</td>\n",
       "    </tr>\n",
       "    <tr>\n",
       "      <td id=\"T_e4150_row4_col0\" class=\"data row4 col0\" >Project ID</td>\n",
       "      <td id=\"T_e4150_row4_col1\" class=\"data row4 col1\" >6b76128d-c73f-431f-a245-0397586a7d40</td>\n",
       "    </tr>\n",
       "    <tr>\n",
       "      <td id=\"T_e4150_row5_col0\" class=\"data row5 col0\" >State</td>\n",
       "      <td id=\"T_e4150_row5_col1\" class=\"data row5 col1\" >Closing</td>\n",
       "    </tr>\n",
       "  </tbody>\n",
       "</table>\n"
      ],
      "text/plain": [
       "<pandas.io.formats.style.Styler at 0x7f08ac148640>"
      ]
     },
     "metadata": {},
     "output_type": "display_data"
    },
    {
     "data": {
      "text/html": [
       "<style type=\"text/css\">\n",
       "#T_f8dd8 caption {\n",
       "  text-align: center;\n",
       "  font-size: 150%;\n",
       "  caption-side: top;\n",
       "}\n",
       "#T_f8dd8 th {\n",
       "  text-align: left;\n",
       "}\n",
       "#T_f8dd8 tr:nth-child(even) {\n",
       "  background: #ffffff;\n",
       "  color: #231f20;\n",
       "}\n",
       "#T_f8dd8 tr:nth-child(odd) {\n",
       "  background: #dbf3ff;\n",
       "  color: #231f20;\n",
       "}\n",
       "#T_f8dd8 .level0 {\n",
       "  border: 1px black solid !important;\n",
       "  background: #ffffff;\n",
       "  color: #231f20;\n",
       "}\n",
       "#T_f8dd8_row0_col0, #T_f8dd8_row0_col1, #T_f8dd8_row0_col2, #T_f8dd8_row0_col3, #T_f8dd8_row0_col4, #T_f8dd8_row0_col5, #T_f8dd8_row0_col6, #T_f8dd8_row0_col7, #T_f8dd8_row0_col8, #T_f8dd8_row0_col9, #T_f8dd8_row0_col10, #T_f8dd8_row0_col11, #T_f8dd8_row0_col12, #T_f8dd8_row0_col13, #T_f8dd8_row0_col14, #T_f8dd8_row0_col15 {\n",
       "  text-align: left;\n",
       "  border: 1px #231f20 solid !important;\n",
       "  overwrite: False;\n",
       "}\n",
       "</style>\n",
       "<table id=\"T_f8dd8\">\n",
       "  <caption>Nodes</caption>\n",
       "  <thead>\n",
       "    <tr>\n",
       "      <th id=\"T_f8dd8_level0_col0\" class=\"col_heading level0 col0\" >ID</th>\n",
       "      <th id=\"T_f8dd8_level0_col1\" class=\"col_heading level0 col1\" >Name</th>\n",
       "      <th id=\"T_f8dd8_level0_col2\" class=\"col_heading level0 col2\" >Cores</th>\n",
       "      <th id=\"T_f8dd8_level0_col3\" class=\"col_heading level0 col3\" >RAM</th>\n",
       "      <th id=\"T_f8dd8_level0_col4\" class=\"col_heading level0 col4\" >Disk</th>\n",
       "      <th id=\"T_f8dd8_level0_col5\" class=\"col_heading level0 col5\" >Image</th>\n",
       "      <th id=\"T_f8dd8_level0_col6\" class=\"col_heading level0 col6\" >Image Type</th>\n",
       "      <th id=\"T_f8dd8_level0_col7\" class=\"col_heading level0 col7\" >Host</th>\n",
       "      <th id=\"T_f8dd8_level0_col8\" class=\"col_heading level0 col8\" >Site</th>\n",
       "      <th id=\"T_f8dd8_level0_col9\" class=\"col_heading level0 col9\" >Username</th>\n",
       "      <th id=\"T_f8dd8_level0_col10\" class=\"col_heading level0 col10\" >Management IP</th>\n",
       "      <th id=\"T_f8dd8_level0_col11\" class=\"col_heading level0 col11\" >State</th>\n",
       "      <th id=\"T_f8dd8_level0_col12\" class=\"col_heading level0 col12\" >Error</th>\n",
       "      <th id=\"T_f8dd8_level0_col13\" class=\"col_heading level0 col13\" >SSH Command</th>\n",
       "      <th id=\"T_f8dd8_level0_col14\" class=\"col_heading level0 col14\" >Public SSH Key File</th>\n",
       "      <th id=\"T_f8dd8_level0_col15\" class=\"col_heading level0 col15\" >Private SSH Key File</th>\n",
       "    </tr>\n",
       "  </thead>\n",
       "  <tbody>\n",
       "    <tr>\n",
       "      <td id=\"T_f8dd8_row0_col0\" class=\"data row0 col0\" >3b65daf9-1740-4935-a0cf-ddb9351f5f04</td>\n",
       "      <td id=\"T_f8dd8_row0_col1\" class=\"data row0 col1\" >Node1</td>\n",
       "      <td id=\"T_f8dd8_row0_col2\" class=\"data row0 col2\" >2</td>\n",
       "      <td id=\"T_f8dd8_row0_col3\" class=\"data row0 col3\" >8</td>\n",
       "      <td id=\"T_f8dd8_row0_col4\" class=\"data row0 col4\" >10</td>\n",
       "      <td id=\"T_f8dd8_row0_col5\" class=\"data row0 col5\" >default_rocky_8</td>\n",
       "      <td id=\"T_f8dd8_row0_col6\" class=\"data row0 col6\" >qcow2</td>\n",
       "      <td id=\"T_f8dd8_row0_col7\" class=\"data row0 col7\" >star-w3.fabric-testbed.net</td>\n",
       "      <td id=\"T_f8dd8_row0_col8\" class=\"data row0 col8\" >STAR</td>\n",
       "      <td id=\"T_f8dd8_row0_col9\" class=\"data row0 col9\" >rocky</td>\n",
       "      <td id=\"T_f8dd8_row0_col10\" class=\"data row0 col10\" ></td>\n",
       "      <td id=\"T_f8dd8_row0_col11\" class=\"data row0 col11\" >Closed</td>\n",
       "      <td id=\"T_f8dd8_row0_col12\" class=\"data row0 col12\" >failed lease update- all units failed priming: Exception during create for unit: 3b65daf9-1740-4935-a0cf-ddb9351f5f04 Playbook has failed tasks: volume 6b76128d-c73f-431f-a245-0397586a7d40-FABRIC_Staff_star_50G_1 is not found#all units failed priming: Exception during create for unit: 3b65daf9-1740-4935-a0cf-ddb9351f5f04 Playbook has failed tasks: volume 6b76128d-c73f-431f-a245-0397586a7d40-FABRIC_Staff_star_50G_1 is not found#</td>\n",
       "      <td id=\"T_f8dd8_row0_col13\" class=\"data row0 col13\" ></td>\n",
       "      <td id=\"T_f8dd8_row0_col14\" class=\"data row0 col14\" >/home/fabric/work/fabric_config/slice_key.pub</td>\n",
       "      <td id=\"T_f8dd8_row0_col15\" class=\"data row0 col15\" >/home/fabric/work/fabric_config/slice_key</td>\n",
       "    </tr>\n",
       "  </tbody>\n",
       "</table>\n"
      ],
      "text/plain": [
       "<pandas.io.formats.style.Styler at 0x7f08ac137340>"
      ]
     },
     "metadata": {},
     "output_type": "display_data"
    }
   ],
   "source": [
    "slice.show()\n",
    "slice.list_nodes();"
   ]
  },
  {
   "cell_type": "markdown",
   "metadata": {
    "tags": []
   },
   "source": [
    "## Format the Volume\n",
    "\n",
    "The first time you use your persistent volume it will be a raw block device that needs to be formated."
   ]
  },
  {
   "cell_type": "code",
   "execution_count": 4,
   "metadata": {
    "tags": []
   },
   "outputs": [
    {
     "name": "stdout",
     "output_type": "stream",
     "text": [
      "Storage Device Name: None\n"
     ]
    },
    {
     "ename": "Exception",
     "evalue": "node.execute: Management IP Invalid: None",
     "output_type": "error",
     "traceback": [
      "\u001b[0;31m---------------------------------------------------------------------------\u001b[0m",
      "\u001b[0;31mException\u001b[0m                                 Traceback (most recent call last)",
      "Cell \u001b[0;32mIn[4], line 7\u001b[0m\n\u001b[1;32m      3\u001b[0m storage \u001b[38;5;241m=\u001b[39m node\u001b[38;5;241m.\u001b[39mget_storage(storage_name)\n\u001b[1;32m      5\u001b[0m \u001b[38;5;28mprint\u001b[39m(\u001b[38;5;124mf\u001b[39m\u001b[38;5;124m\"\u001b[39m\u001b[38;5;124mStorage Device Name: \u001b[39m\u001b[38;5;132;01m{\u001b[39;00mstorage\u001b[38;5;241m.\u001b[39mget_device_name()\u001b[38;5;132;01m}\u001b[39;00m\u001b[38;5;124m\"\u001b[39m)  \n\u001b[0;32m----> 7\u001b[0m stdout,stderr \u001b[38;5;241m=\u001b[39m \u001b[43mnode\u001b[49m\u001b[38;5;241;43m.\u001b[39;49m\u001b[43mexecute\u001b[49m\u001b[43m(\u001b[49m\u001b[38;5;124;43mf\u001b[39;49m\u001b[38;5;124;43m\"\u001b[39;49m\u001b[38;5;124;43msudo mkfs.ext4 \u001b[39;49m\u001b[38;5;132;43;01m{\u001b[39;49;00m\u001b[43mstorage\u001b[49m\u001b[38;5;241;43m.\u001b[39;49m\u001b[43mget_device_name\u001b[49m\u001b[43m(\u001b[49m\u001b[43m)\u001b[49m\u001b[38;5;132;43;01m}\u001b[39;49;00m\u001b[38;5;124;43m\"\u001b[39;49m\u001b[43m)\u001b[49m\n",
      "File \u001b[0;32m~/.local/lib/python3.9/site-packages/fabrictestbed_extensions/fablib/node.py:1210\u001b[0m, in \u001b[0;36mNode.execute\u001b[0;34m(self, command, retry, retry_interval, username, private_key_file, private_key_passphrase, quiet, read_timeout, timeout, output_file)\u001b[0m\n\u001b[1;32m   1208\u001b[0m     src_addr \u001b[38;5;241m=\u001b[39m (\u001b[38;5;124m\"\u001b[39m\u001b[38;5;124m0:0:0:0:0:0:0:0\u001b[39m\u001b[38;5;124m\"\u001b[39m, \u001b[38;5;241m22\u001b[39m)\n\u001b[1;32m   1209\u001b[0m \u001b[38;5;28;01melse\u001b[39;00m:\n\u001b[0;32m-> 1210\u001b[0m     \u001b[38;5;28;01mraise\u001b[39;00m \u001b[38;5;167;01mException\u001b[39;00m(\u001b[38;5;124mf\u001b[39m\u001b[38;5;124m\"\u001b[39m\u001b[38;5;124mnode.execute: Management IP Invalid: \u001b[39m\u001b[38;5;132;01m{\u001b[39;00mmanagement_ip\u001b[38;5;132;01m}\u001b[39;00m\u001b[38;5;124m\"\u001b[39m)\n\u001b[1;32m   1211\u001b[0m dest_addr \u001b[38;5;241m=\u001b[39m (management_ip, \u001b[38;5;241m22\u001b[39m)\n\u001b[1;32m   1213\u001b[0m bastion_username \u001b[38;5;241m=\u001b[39m \u001b[38;5;28mself\u001b[39m\u001b[38;5;241m.\u001b[39mget_fablib_manager()\u001b[38;5;241m.\u001b[39mget_bastion_username()\n",
      "\u001b[0;31mException\u001b[0m: node.execute: Management IP Invalid: None"
     ]
    }
   ],
   "source": [
    "node = slice.get_node('Node1')\n",
    "\n",
    "storage = node.get_storage(storage_name)\n",
    "\n",
    "print(f\"Storage Device Name: {storage.get_device_name()}\")  \n",
    "\n",
    "stdout,stderr = node.execute(f\"sudo mkfs.ext4 {storage.get_device_name()}\")"
   ]
  },
  {
   "cell_type": "markdown",
   "metadata": {},
   "source": [
    "## Mount the Volume\n",
    "\n",
    "After you format you volume, you can mount it.  The data in the volume is persisent.  On subseqent uses of the volume, you can mount it and access perviously stored data without formating."
   ]
  },
  {
   "cell_type": "code",
   "execution_count": null,
   "metadata": {
    "tags": []
   },
   "outputs": [],
   "source": [
    "stdout,stderr = node.execute(f\"sudo mkdir /mnt/fabric_storage; \"\n",
    "                     f\"sudo mount {storage.get_device_name()} /mnt/fabric_storage; \"\n",
    "                     f\"df -h\")\n"
   ]
  },
  {
   "cell_type": "markdown",
   "metadata": {
    "tags": []
   },
   "source": [
    "## Delete the Slice\n",
    "\n",
    "Please delete your slice when you are done with your experiment."
   ]
  },
  {
   "cell_type": "code",
   "execution_count": null,
   "metadata": {
    "tags": []
   },
   "outputs": [],
   "source": [
    "slice.delete()"
   ]
  },
  {
   "cell_type": "code",
   "execution_count": null,
   "metadata": {},
   "outputs": [],
   "source": []
  }
 ],
 "metadata": {
  "kernelspec": {
   "display_name": "Python 3 (ipykernel)",
   "language": "python",
   "name": "python3"
  },
  "language_info": {
   "codemirror_mode": {
    "name": "ipython",
    "version": 3
   },
   "file_extension": ".py",
   "mimetype": "text/x-python",
   "name": "python",
   "nbconvert_exporter": "python",
   "pygments_lexer": "ipython3",
   "version": "3.9.13"
  }
 },
 "nbformat": 4,
 "nbformat_minor": 4
}
