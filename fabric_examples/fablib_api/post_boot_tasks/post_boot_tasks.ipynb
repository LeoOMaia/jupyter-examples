{
 "cells": [
  {
   "cell_type": "markdown",
   "metadata": {
    "tags": []
   },
   "source": [
    "# Post Boot Tasks\n",
    "\n",
    "This Jupyter notebook shows you how to add tasks to a slice that are automatically executed immediately after the slice becomes active. \n",
    "\n",
    "## Import the FABlib Library\n",
    "\n",
    "The `show_config` method shows what some environment variables relevant to your FABRIC user are set to. All necessary variables may be set [here](../../../fabric_examples/fablib_api/configure_environment/configure_environment.ipynb).\n",
    "\n",
    "\n"
   ]
  },
  {
   "cell_type": "code",
   "execution_count": null,
   "metadata": {
    "tags": []
   },
   "outputs": [],
   "source": [
    "from fabrictestbed_extensions.fablib.fablib import FablibManager as fablib_manager\n",
    "\n",
    "fablib = fablib_manager()\n",
    "\n",
    "fablib.show_config();"
   ]
  },
  {
   "cell_type": "markdown",
   "metadata": {
    "tags": []
   },
   "source": [
    "The following creates a set of nodes with basic compute capabilities on a random site. \n",
    "\n",
    "The notable steps in this cell are the calls to `add_post_boot_upload_file`, `add_post_boot_upload_directory`, and `add_post_boot_execute`.  These functions are the equivalent of their respective counterparts (`upload_file`, `upload_directory`, and `execute`) that can be used after the slices are active.  The difference is that you can add the post boot tasks before you submit the slice.  Adding a post boot task appends the task to a list of tasks that will be executed in order during the post boot config step. Additionally, the task list for each node is executed in parallel.\n",
    "\n",
    "Specifically, this example copies a directory called `node_tools` from the notebook’s folder to each of the VMs.  It then executes a `config_script.sh` script that is located in the directory.  By default, the script calls `dnf` to install `tcpdump` and create a file.  However, feel free to edit the script to your preference.\n"
   ]
  },
  {
   "cell_type": "code",
   "execution_count": null,
   "metadata": {
    "tags": []
   },
   "outputs": [],
   "source": [
    "slice_name=\"MySlice\"\n",
    "\n",
    "site=fablib.get_random_site()\n",
    "\n",
    "#Create a slice\n",
    "slice = fablib.new_slice(name=slice_name)\n",
    "\n",
    "\n",
    "for i in range(4):\n",
    "    # Add a node\n",
    "    node = slice.add_node(name=f\"Node{i}\", site=site)\n",
    "    \n",
    "    node.add_post_boot_upload_directory('node_tools','.')\n",
    "    node.add_post_boot_execute('chmod +x node_tools/config_script.sh && ./node_tools/config_script.sh')\n",
    "\n",
    "#Submit the Request\n",
    "slice.submit()"
   ]
  },
  {
   "cell_type": "code",
   "execution_count": null,
   "metadata": {
    "tags": []
   },
   "outputs": [],
   "source": [
    "for node in slice.get_nodes():\n",
    "    stdout, stderr = node.execute('echo -n `hostname -s`\": \" && cat post_boot_output.txt')\n"
   ]
  },
  {
   "cell_type": "markdown",
   "metadata": {
    "tags": []
   },
   "source": [
    "## Delete the Slice\n",
    "\n",
    "Please delete your slice when you are done with your experiment."
   ]
  },
  {
   "cell_type": "code",
   "execution_count": null,
   "metadata": {
    "tags": []
   },
   "outputs": [],
   "source": [
    "slice.delete()"
   ]
  },
  {
   "cell_type": "code",
   "execution_count": null,
   "metadata": {},
   "outputs": [],
   "source": []
  }
 ],
 "metadata": {
  "kernelspec": {
   "display_name": "Python 3 (ipykernel)",
   "language": "python",
   "name": "python3"
  },
  "language_info": {
   "codemirror_mode": {
    "name": "ipython",
    "version": 3
   },
   "file_extension": ".py",
   "mimetype": "text/x-python",
   "name": "python",
   "nbconvert_exporter": "python",
   "pygments_lexer": "ipython3",
   "version": "3.9.13"
  }
 },
 "nbformat": 4,
 "nbformat_minor": 4
}
