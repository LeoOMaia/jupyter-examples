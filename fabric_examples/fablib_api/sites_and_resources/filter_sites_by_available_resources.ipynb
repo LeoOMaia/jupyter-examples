{
 "cells": [
  {
   "cell_type": "markdown",
   "metadata": {
    "tags": []
   },
   "source": [
    "# Find Sites with Specific Resources Available \n",
    "\n",
    "Many FABlib objects have `list` and `show` methods that display and return tables of other objects and their properties. This notebook shows how you can choose to display specific fields when displaying these lists.\n",
    "\n",
    "Although this example uses the `fablib.list_sites()` method, all FABlib methods of the form `list_xxx()` will accept the `fields` argument. The specific fields available are different for each object type.  Calling the list method without setting the `fields` argument will show all available fields.\n",
    "\n",
    "Finding sites can be accomplished by specifying a `filter_funtion`.  Typically, a lambda function is used as the `filter_function`.  This notebook shows how to specify `filter_functions` to find sites with specific resources \n"
   ]
  },
  {
   "cell_type": "markdown",
   "metadata": {},
   "source": [
    "## Import FABlib"
   ]
  },
  {
   "cell_type": "code",
   "execution_count": 3,
   "metadata": {},
   "outputs": [
    {
     "data": {
      "text/html": [
       "<style type=\"text/css\">\n",
       "#T_f1a3a tr:nth-child(even) {\n",
       "  background: #dbf3ff;\n",
       "  color: #231f20;\n",
       "}\n",
       "#T_f1a3a tr:nth-child(odd) {\n",
       "  background: #ffffff;\n",
       "  color: #231f20;\n",
       "}\n",
       "#T_f1a3a caption {\n",
       "  text-align: center;\n",
       "  font-size: 150%;\n",
       "}\n",
       "#T_f1a3a_row0_col0, #T_f1a3a_row0_col1, #T_f1a3a_row1_col0, #T_f1a3a_row1_col1, #T_f1a3a_row2_col0, #T_f1a3a_row2_col1, #T_f1a3a_row3_col0, #T_f1a3a_row3_col1, #T_f1a3a_row4_col0, #T_f1a3a_row4_col1, #T_f1a3a_row5_col0, #T_f1a3a_row5_col1, #T_f1a3a_row6_col0, #T_f1a3a_row6_col1, #T_f1a3a_row7_col0, #T_f1a3a_row7_col1, #T_f1a3a_row8_col0, #T_f1a3a_row8_col1, #T_f1a3a_row9_col0, #T_f1a3a_row9_col1, #T_f1a3a_row10_col0, #T_f1a3a_row10_col1, #T_f1a3a_row11_col0, #T_f1a3a_row11_col1, #T_f1a3a_row12_col0, #T_f1a3a_row12_col1 {\n",
       "  text-align: left;\n",
       "  border: 1px #231f20 solid !important;\n",
       "  overwrite: False;\n",
       "}\n",
       "</style>\n",
       "<table id=\"T_f1a3a\">\n",
       "  <caption>FABlib Config</caption>\n",
       "  <thead>\n",
       "  </thead>\n",
       "  <tbody>\n",
       "    <tr>\n",
       "      <td id=\"T_f1a3a_row0_col0\" class=\"data row0 col0\" >credmgr_host</td>\n",
       "      <td id=\"T_f1a3a_row0_col1\" class=\"data row0 col1\" >cm.fabric-testbed.net</td>\n",
       "    </tr>\n",
       "    <tr>\n",
       "      <td id=\"T_f1a3a_row1_col0\" class=\"data row1 col0\" >orchestrator_host</td>\n",
       "      <td id=\"T_f1a3a_row1_col1\" class=\"data row1 col1\" >orchestrator.fabric-testbed.net</td>\n",
       "    </tr>\n",
       "    <tr>\n",
       "      <td id=\"T_f1a3a_row2_col0\" class=\"data row2 col0\" >fabric_token</td>\n",
       "      <td id=\"T_f1a3a_row2_col1\" class=\"data row2 col1\" >/home/fabric/.tokens.json</td>\n",
       "    </tr>\n",
       "    <tr>\n",
       "      <td id=\"T_f1a3a_row3_col0\" class=\"data row3 col0\" >project_id</td>\n",
       "      <td id=\"T_f1a3a_row3_col1\" class=\"data row3 col1\" >990d8a8b-7e50-4d13-a3be-0f133ffa8653</td>\n",
       "    </tr>\n",
       "    <tr>\n",
       "      <td id=\"T_f1a3a_row4_col0\" class=\"data row4 col0\" >bastion_username</td>\n",
       "      <td id=\"T_f1a3a_row4_col1\" class=\"data row4 col1\" >pruth_0000000529</td>\n",
       "    </tr>\n",
       "    <tr>\n",
       "      <td id=\"T_f1a3a_row5_col0\" class=\"data row5 col0\" >bastion_key_filename</td>\n",
       "      <td id=\"T_f1a3a_row5_col1\" class=\"data row5 col1\" >/home/fabric/work/fabric_config/fabric_bastion_key</td>\n",
       "    </tr>\n",
       "    <tr>\n",
       "      <td id=\"T_f1a3a_row6_col0\" class=\"data row6 col0\" >bastion_public_addr</td>\n",
       "      <td id=\"T_f1a3a_row6_col1\" class=\"data row6 col1\" >bastion-1.fabric-testbed.net</td>\n",
       "    </tr>\n",
       "    <tr>\n",
       "      <td id=\"T_f1a3a_row7_col0\" class=\"data row7 col0\" >bastion_passphrase</td>\n",
       "      <td id=\"T_f1a3a_row7_col1\" class=\"data row7 col1\" >None</td>\n",
       "    </tr>\n",
       "    <tr>\n",
       "      <td id=\"T_f1a3a_row8_col0\" class=\"data row8 col0\" >slice_public_key_file</td>\n",
       "      <td id=\"T_f1a3a_row8_col1\" class=\"data row8 col1\" >/home/fabric/work/fabric_config/slice_key.pub</td>\n",
       "    </tr>\n",
       "    <tr>\n",
       "      <td id=\"T_f1a3a_row9_col0\" class=\"data row9 col0\" >slice_private_key_file</td>\n",
       "      <td id=\"T_f1a3a_row9_col1\" class=\"data row9 col1\" >/home/fabric/work/fabric_config/slice_key</td>\n",
       "    </tr>\n",
       "    <tr>\n",
       "      <td id=\"T_f1a3a_row10_col0\" class=\"data row10 col0\" >fabric_slice_private_key_passphrase</td>\n",
       "      <td id=\"T_f1a3a_row10_col1\" class=\"data row10 col1\" >None</td>\n",
       "    </tr>\n",
       "    <tr>\n",
       "      <td id=\"T_f1a3a_row11_col0\" class=\"data row11 col0\" >fablib_log_file</td>\n",
       "      <td id=\"T_f1a3a_row11_col1\" class=\"data row11 col1\" >fablib.log</td>\n",
       "    </tr>\n",
       "    <tr>\n",
       "      <td id=\"T_f1a3a_row12_col0\" class=\"data row12 col0\" >fablib_log_level</td>\n",
       "      <td id=\"T_f1a3a_row12_col1\" class=\"data row12 col1\" >DEBUG</td>\n",
       "    </tr>\n",
       "  </tbody>\n",
       "</table>\n"
      ],
      "text/plain": [
       "<pandas.io.formats.style.Styler at 0x7fcaf962af40>"
      ]
     },
     "metadata": {},
     "output_type": "display_data"
    }
   ],
   "source": [
    "from fabrictestbed_extensions.fablib.fablib import FablibManager as fablib_manager\n",
    "\n",
    "try: \n",
    "    fablib = fablib_manager()\n",
    "                     \n",
    "    fablib.show_config()\n",
    "except Exception as e:\n",
    "    print(f\"Exception: {e}\")"
   ]
  },
  {
   "cell_type": "markdown",
   "metadata": {},
   "source": [
    "## Filter Lists\n",
    "\n",
    "You can use lambda functions to filter the tables/lists using the values of any `field`\n",
    "\n",
    "Let's find all sites with at more than 2 ConnectX-5's available\n"
   ]
  },
  {
   "cell_type": "code",
   "execution_count": null,
   "metadata": {},
   "outputs": [],
   "source": [
    "try:\n",
    "    fablib.list_sites(filter_function=lambda x: x['ConnectX-5 Available'] > 2)\n",
    "except Exception as e:\n",
    "    print(f\"Exception: {e}\")"
   ]
  },
  {
   "cell_type": "markdown",
   "metadata": {},
   "source": [
    "Now lets try to find a site that has more than 2 ConnectX-5's and is west of St. Louis, MO"
   ]
  },
  {
   "cell_type": "code",
   "execution_count": null,
   "metadata": {},
   "outputs": [],
   "source": [
    "st_louis_lat_long=(32.773081, -96.797448)\n",
    "\n",
    "try:\n",
    "    fablib.list_sites(filter_function=lambda x: x['ConnectX-5 Available'] > 2 and x['Location'][1] < st_louis_lat_long[1])\n",
    "except Exception as e:\n",
    "    print(f\"Exception: {e}\")\n"
   ]
  },
  {
   "cell_type": "markdown",
   "metadata": {},
   "source": [
    "## Filter Functions with Specific Fields\n",
    "\n",
    "Set the `fields` argument to a lists of desired field names.  "
   ]
  },
  {
   "cell_type": "code",
   "execution_count": null,
   "metadata": {},
   "outputs": [],
   "source": [
    "st_louis_lat_long=(32.773081, -96.797448)\n",
    "\n",
    "try:\n",
    "    fablib.list_sites(filter_function=lambda x: x['ConnectX-5 Available'] > 2 and x['Location'][1] < st_louis_lat_long[1],\n",
    "                      fields=['Name','Address', 'ConnectX-5 Available'])\n",
    "except Exception as e:\n",
    "    print(f\"Exception: {e}\")\n"
   ]
  },
  {
   "cell_type": "markdown",
   "metadata": {},
   "source": [
    "## Get a Site with Available Resouces\n",
    "\n",
    "Often you want to find a site that has the resouces to support a VM with specfic attributes. FABlib provides this functionality by accepting a `filter_function` in the `fablib.get_random_sites` method.   \n",
    "\n",
    "The example below, finds two sites that have at least one available ConnectX-6 cards with one in eastern U.S. and the other in the west."
   ]
  },
  {
   "cell_type": "code",
   "execution_count": 7,
   "metadata": {},
   "outputs": [
    {
     "name": "stdout",
     "output_type": "stream",
     "text": [
      "west_site: UCSD\n",
      "east_site: MICH\n"
     ]
    }
   ],
   "source": [
    "st_louis_lat_long=(32.773081, -96.797448)\n",
    "\n",
    "\n",
    "try:\n",
    "    west_site = fablib.get_random_site(filter_function=lambda x: x['ConnectX-6 Available'] > 0 and x['Location'][1] < st_louis_lat_long[1])                                                                                                                                                                                                                           \n",
    "    east_site = fablib.get_random_site(filter_function=lambda x: x['ConnectX-6 Available'] > 0 and x['Location'][1] > st_louis_lat_long[1])                                                                                                                                                                                                                           \n",
    "\n",
    "    print(f\"west_site: {west_site}\")\n",
    "    print(f\"east_site: {east_site}\")\n",
    "\n",
    "except Exception as e:\n",
    "    print(f\"Exception: {e}\")"
   ]
  },
  {
   "cell_type": "markdown",
   "metadata": {},
   "source": [
    "## Get Sites with Available Resources\n",
    "\n",
    "Filter functions can also be used with `fablib.get_random_sites`. The following example gets a list of 4 sites that have at least 2 RTX6000's available."
   ]
  },
  {
   "cell_type": "code",
   "execution_count": 8,
   "metadata": {},
   "outputs": [
    {
     "name": "stdout",
     "output_type": "stream",
     "text": [
      "sites: ['NCSA', 'STAR', 'MAX', 'MICH']\n"
     ]
    }
   ],
   "source": [
    "try:\n",
    "    sites = fablib.get_random_sites(count=4, filter_function=lambda x: x['RTX6000 Available'] > 2)                                                                                                                                                                                                                           \n",
    "\n",
    "    print(f\"sites: {sites}\")\n",
    "except Exception as e:\n",
    "    print(f\"Exception: {e}\")"
   ]
  },
  {
   "cell_type": "code",
   "execution_count": null,
   "metadata": {},
   "outputs": [],
   "source": []
  }
 ],
 "metadata": {
  "kernelspec": {
   "display_name": "Python 3 (ipykernel)",
   "language": "python",
   "name": "python3"
  },
  "language_info": {
   "codemirror_mode": {
    "name": "ipython",
    "version": 3
   },
   "file_extension": ".py",
   "mimetype": "text/x-python",
   "name": "python",
   "nbconvert_exporter": "python",
   "pygments_lexer": "ipython3",
   "version": "3.9.7"
  }
 },
 "nbformat": 4,
 "nbformat_minor": 4
}
