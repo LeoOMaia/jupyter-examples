{
 "cells": [
  {
   "cell_type": "markdown",
   "id": "60e3fd3a-d102-4626-9849-755cfdd24948",
   "metadata": {},
   "source": [
    "# List Slice Nodes and Networks"
   ]
  },
  {
   "cell_type": "markdown",
   "id": "bebf9e49-d901-46ec-94e6-62d4be407a4e",
   "metadata": {},
   "source": [
    "## Import FABlib"
   ]
  },
  {
   "cell_type": "code",
   "execution_count": 1,
   "id": "7e2a3475",
   "metadata": {},
   "outputs": [
    {
     "data": {
      "text/html": [
       "<style type=\"text/css\">\n",
       "#T_126fd tr:nth-child(even) {\n",
       "  background: #dbf3ff;\n",
       "  color: #231f20;\n",
       "}\n",
       "#T_126fd tr:nth-child(odd) {\n",
       "  background: #ffffff;\n",
       "  color: #231f20;\n",
       "}\n",
       "#T_126fd caption {\n",
       "  text-align: center;\n",
       "  font-size: 150%;\n",
       "}\n",
       "#T_126fd_row0_col0, #T_126fd_row0_col1, #T_126fd_row1_col0, #T_126fd_row1_col1, #T_126fd_row2_col0, #T_126fd_row2_col1, #T_126fd_row3_col0, #T_126fd_row3_col1, #T_126fd_row4_col0, #T_126fd_row4_col1, #T_126fd_row5_col0, #T_126fd_row5_col1, #T_126fd_row6_col0, #T_126fd_row6_col1, #T_126fd_row7_col0, #T_126fd_row7_col1, #T_126fd_row8_col0, #T_126fd_row8_col1, #T_126fd_row9_col0, #T_126fd_row9_col1, #T_126fd_row10_col0, #T_126fd_row10_col1, #T_126fd_row11_col0, #T_126fd_row11_col1, #T_126fd_row12_col0, #T_126fd_row12_col1 {\n",
       "  text-align: left;\n",
       "  border: 1px #231f20 solid !important;\n",
       "  overwrite: False;\n",
       "}\n",
       "</style>\n",
       "<table id=\"T_126fd\">\n",
       "  <caption>FABlib Config</caption>\n",
       "  <thead>\n",
       "  </thead>\n",
       "  <tbody>\n",
       "    <tr>\n",
       "      <td id=\"T_126fd_row0_col0\" class=\"data row0 col0\" >credmgr_host</td>\n",
       "      <td id=\"T_126fd_row0_col1\" class=\"data row0 col1\" >cm.fabric-testbed.net</td>\n",
       "    </tr>\n",
       "    <tr>\n",
       "      <td id=\"T_126fd_row1_col0\" class=\"data row1 col0\" >orchestrator_host</td>\n",
       "      <td id=\"T_126fd_row1_col1\" class=\"data row1 col1\" >orchestrator.fabric-testbed.net</td>\n",
       "    </tr>\n",
       "    <tr>\n",
       "      <td id=\"T_126fd_row2_col0\" class=\"data row2 col0\" >fabric_token</td>\n",
       "      <td id=\"T_126fd_row2_col1\" class=\"data row2 col1\" >/home/fabric/.tokens.json</td>\n",
       "    </tr>\n",
       "    <tr>\n",
       "      <td id=\"T_126fd_row3_col0\" class=\"data row3 col0\" >project_id</td>\n",
       "      <td id=\"T_126fd_row3_col1\" class=\"data row3 col1\" >990d8a8b-7e50-4d13-a3be-0f133ffa8653</td>\n",
       "    </tr>\n",
       "    <tr>\n",
       "      <td id=\"T_126fd_row4_col0\" class=\"data row4 col0\" >bastion_username</td>\n",
       "      <td id=\"T_126fd_row4_col1\" class=\"data row4 col1\" >pruth_0000000529</td>\n",
       "    </tr>\n",
       "    <tr>\n",
       "      <td id=\"T_126fd_row5_col0\" class=\"data row5 col0\" >bastion_key_filename</td>\n",
       "      <td id=\"T_126fd_row5_col1\" class=\"data row5 col1\" >/home/fabric/work/fabric_config/fabric_bastion_key</td>\n",
       "    </tr>\n",
       "    <tr>\n",
       "      <td id=\"T_126fd_row6_col0\" class=\"data row6 col0\" >bastion_public_addr</td>\n",
       "      <td id=\"T_126fd_row6_col1\" class=\"data row6 col1\" >bastion-1.fabric-testbed.net</td>\n",
       "    </tr>\n",
       "    <tr>\n",
       "      <td id=\"T_126fd_row7_col0\" class=\"data row7 col0\" >bastion_passphrase</td>\n",
       "      <td id=\"T_126fd_row7_col1\" class=\"data row7 col1\" >None</td>\n",
       "    </tr>\n",
       "    <tr>\n",
       "      <td id=\"T_126fd_row8_col0\" class=\"data row8 col0\" >slice_public_key_file</td>\n",
       "      <td id=\"T_126fd_row8_col1\" class=\"data row8 col1\" >/home/fabric/work/fabric_config/slice_key.pub</td>\n",
       "    </tr>\n",
       "    <tr>\n",
       "      <td id=\"T_126fd_row9_col0\" class=\"data row9 col0\" >slice_private_key_file</td>\n",
       "      <td id=\"T_126fd_row9_col1\" class=\"data row9 col1\" >/home/fabric/work/fabric_config/slice_key</td>\n",
       "    </tr>\n",
       "    <tr>\n",
       "      <td id=\"T_126fd_row10_col0\" class=\"data row10 col0\" >fabric_slice_private_key_passphrase</td>\n",
       "      <td id=\"T_126fd_row10_col1\" class=\"data row10 col1\" >None</td>\n",
       "    </tr>\n",
       "    <tr>\n",
       "      <td id=\"T_126fd_row11_col0\" class=\"data row11 col0\" >fablib_log_file</td>\n",
       "      <td id=\"T_126fd_row11_col1\" class=\"data row11 col1\" >fablib.log</td>\n",
       "    </tr>\n",
       "    <tr>\n",
       "      <td id=\"T_126fd_row12_col0\" class=\"data row12 col0\" >fablib_log_level</td>\n",
       "      <td id=\"T_126fd_row12_col1\" class=\"data row12 col1\" >DEBUG</td>\n",
       "    </tr>\n",
       "  </tbody>\n",
       "</table>\n"
      ],
      "text/plain": [
       "<pandas.io.formats.style.Styler at 0x7f6647f00d00>"
      ]
     },
     "metadata": {},
     "output_type": "display_data"
    }
   ],
   "source": [
    "from fabrictestbed_extensions.fablib.fablib import FablibManager as fablib_manager\n",
    "\n",
    "try: \n",
    "    fablib = fablib_manager()\n",
    "                     \n",
    "    fablib.show_config()\n",
    "except Exception as e:\n",
    "    print(f\"Exception: {e}\")"
   ]
  },
  {
   "cell_type": "markdown",
   "id": "69c4611f-a9e2-4756-ad7f-bb6d23ed7b9c",
   "metadata": {},
   "source": [
    "## List the Slices \n",
    "\n",
    "List all slices to find a target slice for the rest of this notebook.  If you do not have any existing slices, you should create one or more before continuing.  For best results using these examples, create a slice with multiple nodes and networks.\n",
    "\n",
    "The output of the following call should print some active slice names and ID that you can cut/paste to the remaining example cells. "
   ]
  },
  {
   "cell_type": "code",
   "execution_count": 6,
   "id": "da8197ff-eb2c-4e60-8a80-20e532d9e3b5",
   "metadata": {},
   "outputs": [
    {
     "data": {
      "text/html": [
       "<style type=\"text/css\">\n",
       "#T_e18a7 caption {\n",
       "  text-align: center;\n",
       "  font-size: 150%;\n",
       "  caption-side: top;\n",
       "}\n",
       "#T_e18a7 th {\n",
       "  text-align: left;\n",
       "}\n",
       "#T_e18a7 tr:nth-child(even) {\n",
       "  background: #dbf3ff;\n",
       "  color: #231f20;\n",
       "}\n",
       "#T_e18a7 tr:nth-child(odd) {\n",
       "  background: #ffffff;\n",
       "  color: #231f20;\n",
       "}\n",
       "#T_e18a7 .level0 {\n",
       "  border: 1px black solid !important;\n",
       "}\n",
       "#T_e18a7_row0_col0, #T_e18a7_row0_col1, #T_e18a7_row0_col2, #T_e18a7_row0_col3, #T_e18a7_row0_col4, #T_e18a7_row0_col5, #T_e18a7_row1_col0, #T_e18a7_row1_col1, #T_e18a7_row1_col2, #T_e18a7_row1_col3, #T_e18a7_row1_col4, #T_e18a7_row1_col5 {\n",
       "  text-align: left;\n",
       "  border: 1px #231f20 solid !important;\n",
       "  overwrite: False;\n",
       "}\n",
       "</style>\n",
       "<table id=\"T_e18a7\">\n",
       "  <caption>Slices</caption>\n",
       "  <thead>\n",
       "    <tr>\n",
       "      <th id=\"T_e18a7_level0_col0\" class=\"col_heading level0 col0\" >ID</th>\n",
       "      <th id=\"T_e18a7_level0_col1\" class=\"col_heading level0 col1\" >Name</th>\n",
       "      <th id=\"T_e18a7_level0_col2\" class=\"col_heading level0 col2\" >Lease Expiration (UTC)</th>\n",
       "      <th id=\"T_e18a7_level0_col3\" class=\"col_heading level0 col3\" >Lease Start (UTC)</th>\n",
       "      <th id=\"T_e18a7_level0_col4\" class=\"col_heading level0 col4\" >Project ID</th>\n",
       "      <th id=\"T_e18a7_level0_col5\" class=\"col_heading level0 col5\" >State</th>\n",
       "    </tr>\n",
       "  </thead>\n",
       "  <tbody>\n",
       "    <tr>\n",
       "      <td id=\"T_e18a7_row0_col0\" class=\"data row0 col0\" >00204fd6-f4a8-48d5-80ba-8464c5a9e6bf</td>\n",
       "      <td id=\"T_e18a7_row0_col1\" class=\"data row0 col1\" >MySlice2</td>\n",
       "      <td id=\"T_e18a7_row0_col2\" class=\"data row0 col2\" >2022-10-23 18:00:48 +0000</td>\n",
       "      <td id=\"T_e18a7_row0_col3\" class=\"data row0 col3\" >2022-10-22 18:00:49 +0000</td>\n",
       "      <td id=\"T_e18a7_row0_col4\" class=\"data row0 col4\" >990d8a8b-7e50-4d13-a3be-0f133ffa8653</td>\n",
       "      <td id=\"T_e18a7_row0_col5\" class=\"data row0 col5\" >Configuring</td>\n",
       "    </tr>\n",
       "    <tr>\n",
       "      <td id=\"T_e18a7_row1_col0\" class=\"data row1 col0\" >00d01f86-6f1b-4d28-9624-29bf80b40ea2</td>\n",
       "      <td id=\"T_e18a7_row1_col1\" class=\"data row1 col1\" >MySlice</td>\n",
       "      <td id=\"T_e18a7_row1_col2\" class=\"data row1 col2\" >2022-10-23 17:05:58 +0000</td>\n",
       "      <td id=\"T_e18a7_row1_col3\" class=\"data row1 col3\" >2022-10-22 17:05:59 +0000</td>\n",
       "      <td id=\"T_e18a7_row1_col4\" class=\"data row1 col4\" >990d8a8b-7e50-4d13-a3be-0f133ffa8653</td>\n",
       "      <td id=\"T_e18a7_row1_col5\" class=\"data row1 col5\" >StableOK</td>\n",
       "    </tr>\n",
       "  </tbody>\n",
       "</table>\n"
      ],
      "text/plain": [
       "<pandas.io.formats.style.Styler at 0x7f668038f700>"
      ]
     },
     "metadata": {},
     "output_type": "display_data"
    }
   ],
   "source": [
    "try: \n",
    "    fablib.list_slices()\n",
    "except Exception as e:\n",
    "    print(f\"Exception: {e}\")"
   ]
  },
  {
   "cell_type": "markdown",
   "id": "f65b0dfe-f435-442b-bec8-cc5f5f4e35c0",
   "metadata": {},
   "source": [
    "## Get a Slice by Name"
   ]
  },
  {
   "cell_type": "code",
   "execution_count": 7,
   "id": "02a727ab-9bf8-47d0-8e45-9f07be92421d",
   "metadata": {},
   "outputs": [
    {
     "data": {
      "text/html": [
       "<style type=\"text/css\">\n",
       "#T_cb6da tr:nth-child(even) {\n",
       "  background: #dbf3ff;\n",
       "  color: #231f20;\n",
       "}\n",
       "#T_cb6da tr:nth-child(odd) {\n",
       "  background: #ffffff;\n",
       "  color: #231f20;\n",
       "}\n",
       "#T_cb6da caption {\n",
       "  text-align: center;\n",
       "  font-size: 150%;\n",
       "}\n",
       "#T_cb6da_row0_col0, #T_cb6da_row0_col1, #T_cb6da_row1_col0, #T_cb6da_row1_col1, #T_cb6da_row2_col0, #T_cb6da_row2_col1, #T_cb6da_row3_col0, #T_cb6da_row3_col1, #T_cb6da_row4_col0, #T_cb6da_row4_col1, #T_cb6da_row5_col0, #T_cb6da_row5_col1 {\n",
       "  text-align: left;\n",
       "  border: 1px #231f20 solid !important;\n",
       "  overwrite: False;\n",
       "}\n",
       "</style>\n",
       "<table id=\"T_cb6da\">\n",
       "  <caption>Slice</caption>\n",
       "  <thead>\n",
       "  </thead>\n",
       "  <tbody>\n",
       "    <tr>\n",
       "      <td id=\"T_cb6da_row0_col0\" class=\"data row0 col0\" >ID</td>\n",
       "      <td id=\"T_cb6da_row0_col1\" class=\"data row0 col1\" >00204fd6-f4a8-48d5-80ba-8464c5a9e6bf</td>\n",
       "    </tr>\n",
       "    <tr>\n",
       "      <td id=\"T_cb6da_row1_col0\" class=\"data row1 col0\" >Name</td>\n",
       "      <td id=\"T_cb6da_row1_col1\" class=\"data row1 col1\" >MySlice2</td>\n",
       "    </tr>\n",
       "    <tr>\n",
       "      <td id=\"T_cb6da_row2_col0\" class=\"data row2 col0\" >Lease Expiration (UTC)</td>\n",
       "      <td id=\"T_cb6da_row2_col1\" class=\"data row2 col1\" >2022-10-23 18:00:48 +0000</td>\n",
       "    </tr>\n",
       "    <tr>\n",
       "      <td id=\"T_cb6da_row3_col0\" class=\"data row3 col0\" >Lease Start (UTC)</td>\n",
       "      <td id=\"T_cb6da_row3_col1\" class=\"data row3 col1\" >2022-10-22 18:00:49 +0000</td>\n",
       "    </tr>\n",
       "    <tr>\n",
       "      <td id=\"T_cb6da_row4_col0\" class=\"data row4 col0\" >Project ID</td>\n",
       "      <td id=\"T_cb6da_row4_col1\" class=\"data row4 col1\" >990d8a8b-7e50-4d13-a3be-0f133ffa8653</td>\n",
       "    </tr>\n",
       "    <tr>\n",
       "      <td id=\"T_cb6da_row5_col0\" class=\"data row5 col0\" >State</td>\n",
       "      <td id=\"T_cb6da_row5_col1\" class=\"data row5 col1\" >Configuring</td>\n",
       "    </tr>\n",
       "  </tbody>\n",
       "</table>\n"
      ],
      "text/plain": [
       "<pandas.io.formats.style.Styler at 0x7f668039acd0>"
      ]
     },
     "metadata": {},
     "output_type": "display_data"
    }
   ],
   "source": [
    "slice_name='MySlice'\n",
    "\n",
    "try:\n",
    "    slice = fablib.get_slice(name=slice_name)\n",
    "    output = slice.show()\n",
    "except Exception as e:\n",
    "    print(f\"Exception: {e}\")"
   ]
  },
  {
   "cell_type": "markdown",
   "id": "0b6adac2-0187-4bf7-9845-1c29ce7a071a",
   "metadata": {},
   "source": [
    "## List Nodes\n",
    "\n",
    "The `slice.list_nodes` method lists all nodes in a slice. Like all, `list` methods, this method prints output as `text`,`pandas`,`json`, or `list`. The output can be filtered using the `fields` and `filter_function` arguments.  See the `list_sites` example notebook for more information about output options."
   ]
  },
  {
   "cell_type": "code",
   "execution_count": 8,
   "id": "b495a088-c776-4c9a-93e9-d95595ce498c",
   "metadata": {},
   "outputs": [
    {
     "data": {
      "text/html": [
       "<style type=\"text/css\">\n",
       "#T_ce9bc caption {\n",
       "  text-align: center;\n",
       "  font-size: 150%;\n",
       "  caption-side: top;\n",
       "}\n",
       "#T_ce9bc th {\n",
       "  text-align: left;\n",
       "}\n",
       "#T_ce9bc tr:nth-child(even) {\n",
       "  background: #dbf3ff;\n",
       "  color: #231f20;\n",
       "}\n",
       "#T_ce9bc tr:nth-child(odd) {\n",
       "  background: #ffffff;\n",
       "  color: #231f20;\n",
       "}\n",
       "#T_ce9bc .level0 {\n",
       "  border: 1px black solid !important;\n",
       "}\n",
       "#T_ce9bc_row0_col0, #T_ce9bc_row0_col1, #T_ce9bc_row0_col2, #T_ce9bc_row0_col3, #T_ce9bc_row0_col4, #T_ce9bc_row0_col5, #T_ce9bc_row0_col6, #T_ce9bc_row0_col7, #T_ce9bc_row0_col8, #T_ce9bc_row0_col9, #T_ce9bc_row0_col10, #T_ce9bc_row1_col0, #T_ce9bc_row1_col1, #T_ce9bc_row1_col2, #T_ce9bc_row1_col3, #T_ce9bc_row1_col4, #T_ce9bc_row1_col5, #T_ce9bc_row1_col6, #T_ce9bc_row1_col7, #T_ce9bc_row1_col8, #T_ce9bc_row1_col9, #T_ce9bc_row1_col10 {\n",
       "  text-align: left;\n",
       "  border: 1px #231f20 solid !important;\n",
       "  overwrite: False;\n",
       "}\n",
       "</style>\n",
       "<table id=\"T_ce9bc\">\n",
       "  <caption>Nodes</caption>\n",
       "  <thead>\n",
       "    <tr>\n",
       "      <th id=\"T_ce9bc_level0_col0\" class=\"col_heading level0 col0\" >ID</th>\n",
       "      <th id=\"T_ce9bc_level0_col1\" class=\"col_heading level0 col1\" >Name</th>\n",
       "      <th id=\"T_ce9bc_level0_col2\" class=\"col_heading level0 col2\" >Site</th>\n",
       "      <th id=\"T_ce9bc_level0_col3\" class=\"col_heading level0 col3\" >Host</th>\n",
       "      <th id=\"T_ce9bc_level0_col4\" class=\"col_heading level0 col4\" >Cores</th>\n",
       "      <th id=\"T_ce9bc_level0_col5\" class=\"col_heading level0 col5\" >RAM</th>\n",
       "      <th id=\"T_ce9bc_level0_col6\" class=\"col_heading level0 col6\" >Disk</th>\n",
       "      <th id=\"T_ce9bc_level0_col7\" class=\"col_heading level0 col7\" >Image</th>\n",
       "      <th id=\"T_ce9bc_level0_col8\" class=\"col_heading level0 col8\" >Management IP</th>\n",
       "      <th id=\"T_ce9bc_level0_col9\" class=\"col_heading level0 col9\" >State</th>\n",
       "      <th id=\"T_ce9bc_level0_col10\" class=\"col_heading level0 col10\" >Error</th>\n",
       "    </tr>\n",
       "  </thead>\n",
       "  <tbody>\n",
       "    <tr>\n",
       "      <td id=\"T_ce9bc_row0_col0\" class=\"data row0 col0\" >6557c58a-e770-450b-bcac-af599db88380</td>\n",
       "      <td id=\"T_ce9bc_row0_col1\" class=\"data row0 col1\" >Node1</td>\n",
       "      <td id=\"T_ce9bc_row0_col2\" class=\"data row0 col2\" >MICH</td>\n",
       "      <td id=\"T_ce9bc_row0_col3\" class=\"data row0 col3\" >mich-w3.fabric-testbed.net</td>\n",
       "      <td id=\"T_ce9bc_row0_col4\" class=\"data row0 col4\" >2</td>\n",
       "      <td id=\"T_ce9bc_row0_col5\" class=\"data row0 col5\" >8</td>\n",
       "      <td id=\"T_ce9bc_row0_col6\" class=\"data row0 col6\" >10</td>\n",
       "      <td id=\"T_ce9bc_row0_col7\" class=\"data row0 col7\" >default_rocky_8</td>\n",
       "      <td id=\"T_ce9bc_row0_col8\" class=\"data row0 col8\" >None</td>\n",
       "      <td id=\"T_ce9bc_row0_col9\" class=\"data row0 col9\" >Ticketed</td>\n",
       "      <td id=\"T_ce9bc_row0_col10\" class=\"data row0 col10\" ></td>\n",
       "    </tr>\n",
       "    <tr>\n",
       "      <td id=\"T_ce9bc_row1_col0\" class=\"data row1 col0\" >62394a89-e7e1-4282-a4cb-1c3fc6334e9b</td>\n",
       "      <td id=\"T_ce9bc_row1_col1\" class=\"data row1 col1\" >Node2</td>\n",
       "      <td id=\"T_ce9bc_row1_col2\" class=\"data row1 col2\" >DALL</td>\n",
       "      <td id=\"T_ce9bc_row1_col3\" class=\"data row1 col3\" >dall-w3.fabric-testbed.net</td>\n",
       "      <td id=\"T_ce9bc_row1_col4\" class=\"data row1 col4\" >2</td>\n",
       "      <td id=\"T_ce9bc_row1_col5\" class=\"data row1 col5\" >8</td>\n",
       "      <td id=\"T_ce9bc_row1_col6\" class=\"data row1 col6\" >10</td>\n",
       "      <td id=\"T_ce9bc_row1_col7\" class=\"data row1 col7\" >default_rocky_8</td>\n",
       "      <td id=\"T_ce9bc_row1_col8\" class=\"data row1 col8\" >None</td>\n",
       "      <td id=\"T_ce9bc_row1_col9\" class=\"data row1 col9\" >Ticketed</td>\n",
       "      <td id=\"T_ce9bc_row1_col10\" class=\"data row1 col10\" ></td>\n",
       "    </tr>\n",
       "  </tbody>\n",
       "</table>\n"
      ],
      "text/plain": [
       "<pandas.io.formats.style.Styler at 0x7f6647f12c40>"
      ]
     },
     "metadata": {},
     "output_type": "display_data"
    }
   ],
   "source": [
    "try:\n",
    "    output = slice.list_nodes()\n",
    "except Exception as e:\n",
    "    print(f\"Exception: {e}\")"
   ]
  },
  {
   "cell_type": "markdown",
   "id": "511cb0c6-e62e-4466-9981-11b52c3fae18",
   "metadata": {
    "tags": []
   },
   "source": [
    "## List Networks\n",
    "\n",
    "The `slice.list_networks` method lists all networks in a slice. Like all, `list` methods, this method prints output as `text`,`pandas`,`json`, or `list`. The output can be filtered using the `fields` and `filter_function` arguments. See the `list_sites` example notebook for more information about output options."
   ]
  },
  {
   "cell_type": "code",
   "execution_count": 9,
   "id": "72edf39c-75b7-4e56-b296-3f002fe4469f",
   "metadata": {},
   "outputs": [
    {
     "data": {
      "text/html": [
       "<style type=\"text/css\">\n",
       "#T_14007 caption {\n",
       "  text-align: center;\n",
       "  font-size: 150%;\n",
       "  caption-side: top;\n",
       "}\n",
       "#T_14007 th {\n",
       "  text-align: left;\n",
       "}\n",
       "#T_14007 tr:nth-child(even) {\n",
       "  background: #dbf3ff;\n",
       "  color: #231f20;\n",
       "}\n",
       "#T_14007 tr:nth-child(odd) {\n",
       "  background: #ffffff;\n",
       "  color: #231f20;\n",
       "}\n",
       "#T_14007 .level0 {\n",
       "  border: 1px black solid !important;\n",
       "}\n",
       "#T_14007_row0_col0, #T_14007_row0_col1, #T_14007_row0_col2, #T_14007_row0_col3, #T_14007_row0_col4, #T_14007_row0_col5, #T_14007_row0_col6, #T_14007_row0_col7, #T_14007_row0_col8, #T_14007_row1_col0, #T_14007_row1_col1, #T_14007_row1_col2, #T_14007_row1_col3, #T_14007_row1_col4, #T_14007_row1_col5, #T_14007_row1_col6, #T_14007_row1_col7, #T_14007_row1_col8 {\n",
       "  text-align: left;\n",
       "  border: 1px #231f20 solid !important;\n",
       "  overwrite: False;\n",
       "}\n",
       "</style>\n",
       "<table id=\"T_14007\">\n",
       "  <caption>Networks</caption>\n",
       "  <thead>\n",
       "    <tr>\n",
       "      <th id=\"T_14007_level0_col0\" class=\"col_heading level0 col0\" >ID</th>\n",
       "      <th id=\"T_14007_level0_col1\" class=\"col_heading level0 col1\" >Name</th>\n",
       "      <th id=\"T_14007_level0_col2\" class=\"col_heading level0 col2\" >Layer</th>\n",
       "      <th id=\"T_14007_level0_col3\" class=\"col_heading level0 col3\" >Type</th>\n",
       "      <th id=\"T_14007_level0_col4\" class=\"col_heading level0 col4\" >Site</th>\n",
       "      <th id=\"T_14007_level0_col5\" class=\"col_heading level0 col5\" >Gateway</th>\n",
       "      <th id=\"T_14007_level0_col6\" class=\"col_heading level0 col6\" >L3 Subnet</th>\n",
       "      <th id=\"T_14007_level0_col7\" class=\"col_heading level0 col7\" >State</th>\n",
       "      <th id=\"T_14007_level0_col8\" class=\"col_heading level0 col8\" >Error</th>\n",
       "    </tr>\n",
       "  </thead>\n",
       "  <tbody>\n",
       "    <tr>\n",
       "      <td id=\"T_14007_row0_col0\" class=\"data row0 col0\" >57f32c72-27aa-472f-ab5a-9fb4767ef2ef</td>\n",
       "      <td id=\"T_14007_row0_col1\" class=\"data row0 col1\" >net1</td>\n",
       "      <td id=\"T_14007_row0_col2\" class=\"data row0 col2\" >L3</td>\n",
       "      <td id=\"T_14007_row0_col3\" class=\"data row0 col3\" >FABNetv4</td>\n",
       "      <td id=\"T_14007_row0_col4\" class=\"data row0 col4\" >MICH</td>\n",
       "      <td id=\"T_14007_row0_col5\" class=\"data row0 col5\" >10.131.1.1</td>\n",
       "      <td id=\"T_14007_row0_col6\" class=\"data row0 col6\" >10.131.1.0/24</td>\n",
       "      <td id=\"T_14007_row0_col7\" class=\"data row0 col7\" >Ticketed</td>\n",
       "      <td id=\"T_14007_row0_col8\" class=\"data row0 col8\" ></td>\n",
       "    </tr>\n",
       "    <tr>\n",
       "      <td id=\"T_14007_row1_col0\" class=\"data row1 col0\" >99bdaacf-3e69-4432-b512-9c9527b8929b</td>\n",
       "      <td id=\"T_14007_row1_col1\" class=\"data row1 col1\" >net2</td>\n",
       "      <td id=\"T_14007_row1_col2\" class=\"data row1 col2\" >L3</td>\n",
       "      <td id=\"T_14007_row1_col3\" class=\"data row1 col3\" >FABNetv4</td>\n",
       "      <td id=\"T_14007_row1_col4\" class=\"data row1 col4\" >DALL</td>\n",
       "      <td id=\"T_14007_row1_col5\" class=\"data row1 col5\" >10.133.133.1</td>\n",
       "      <td id=\"T_14007_row1_col6\" class=\"data row1 col6\" >10.133.133.0/24</td>\n",
       "      <td id=\"T_14007_row1_col7\" class=\"data row1 col7\" >Ticketed</td>\n",
       "      <td id=\"T_14007_row1_col8\" class=\"data row1 col8\" ></td>\n",
       "    </tr>\n",
       "  </tbody>\n",
       "</table>\n"
      ],
      "text/plain": [
       "<pandas.io.formats.style.Styler at 0x7f6644521d00>"
      ]
     },
     "metadata": {},
     "output_type": "display_data"
    }
   ],
   "source": [
    "try:\n",
    "    output = slice.list_networks()\n",
    "except Exception as e:\n",
    "    print(f\"Exception: {e}\")"
   ]
  },
  {
   "cell_type": "markdown",
   "id": "eec0c561-ba73-4ba4-88ca-d63381264266",
   "metadata": {},
   "source": [
    "## List Interfaces\n",
    "\n",
    "The `slice.list_interfaes` method lists all networks in a slice. Like all, `list` methods, this method prints output as `text`,`pandas`,`json`, or `list`. The output can be filtered using the `fields` and `filter_function` arguments. See the `list_sites` example notebook for more information about output options."
   ]
  },
  {
   "cell_type": "code",
   "execution_count": 10,
   "id": "a109654e-4d38-406d-b429-096fc3e973ee",
   "metadata": {},
   "outputs": [
    {
     "data": {
      "text/html": [
       "<style type=\"text/css\">\n",
       "#T_2af51 caption {\n",
       "  text-align: center;\n",
       "  font-size: 150%;\n",
       "  caption-side: top;\n",
       "}\n",
       "#T_2af51 th {\n",
       "  text-align: left;\n",
       "}\n",
       "#T_2af51 tr:nth-child(even) {\n",
       "  background: #dbf3ff;\n",
       "  color: #231f20;\n",
       "}\n",
       "#T_2af51 tr:nth-child(odd) {\n",
       "  background: #ffffff;\n",
       "  color: #231f20;\n",
       "}\n",
       "#T_2af51 .level0 {\n",
       "  border: 1px black solid !important;\n",
       "}\n",
       "#T_2af51_row0_col0, #T_2af51_row0_col1, #T_2af51_row0_col2, #T_2af51_row0_col3, #T_2af51_row0_col4, #T_2af51_row0_col5, #T_2af51_row0_col6, #T_2af51_row1_col0, #T_2af51_row1_col1, #T_2af51_row1_col2, #T_2af51_row1_col3, #T_2af51_row1_col4, #T_2af51_row1_col5, #T_2af51_row1_col6 {\n",
       "  text-align: left;\n",
       "  border: 1px #231f20 solid !important;\n",
       "  overwrite: False;\n",
       "}\n",
       "</style>\n",
       "<table id=\"T_2af51\">\n",
       "  <caption>Interfaces</caption>\n",
       "  <thead>\n",
       "    <tr>\n",
       "      <th id=\"T_2af51_level0_col0\" class=\"col_heading level0 col0\" >Name</th>\n",
       "      <th id=\"T_2af51_level0_col1\" class=\"col_heading level0 col1\" >Node</th>\n",
       "      <th id=\"T_2af51_level0_col2\" class=\"col_heading level0 col2\" >Network</th>\n",
       "      <th id=\"T_2af51_level0_col3\" class=\"col_heading level0 col3\" >Bandwidth</th>\n",
       "      <th id=\"T_2af51_level0_col4\" class=\"col_heading level0 col4\" >VLAN</th>\n",
       "      <th id=\"T_2af51_level0_col5\" class=\"col_heading level0 col5\" >MAC</th>\n",
       "      <th id=\"T_2af51_level0_col6\" class=\"col_heading level0 col6\" >Device</th>\n",
       "    </tr>\n",
       "  </thead>\n",
       "  <tbody>\n",
       "    <tr>\n",
       "      <td id=\"T_2af51_row0_col0\" class=\"data row0 col0\" >Node1-nic1-p1</td>\n",
       "      <td id=\"T_2af51_row0_col1\" class=\"data row0 col1\" >Node1</td>\n",
       "      <td id=\"T_2af51_row0_col2\" class=\"data row0 col2\" >net1</td>\n",
       "      <td id=\"T_2af51_row0_col3\" class=\"data row0 col3\" >100</td>\n",
       "      <td id=\"T_2af51_row0_col4\" class=\"data row0 col4\" >None</td>\n",
       "      <td id=\"T_2af51_row0_col5\" class=\"data row0 col5\" >02:F4:1E:C2:CA:7E</td>\n",
       "      <td id=\"T_2af51_row0_col6\" class=\"data row0 col6\" >None</td>\n",
       "    </tr>\n",
       "    <tr>\n",
       "      <td id=\"T_2af51_row1_col0\" class=\"data row1 col0\" >Node2-nic2-p1</td>\n",
       "      <td id=\"T_2af51_row1_col1\" class=\"data row1 col1\" >Node2</td>\n",
       "      <td id=\"T_2af51_row1_col2\" class=\"data row1 col2\" >net2</td>\n",
       "      <td id=\"T_2af51_row1_col3\" class=\"data row1 col3\" >100</td>\n",
       "      <td id=\"T_2af51_row1_col4\" class=\"data row1 col4\" >None</td>\n",
       "      <td id=\"T_2af51_row1_col5\" class=\"data row1 col5\" >0A:E9:54:EE:5A:01</td>\n",
       "      <td id=\"T_2af51_row1_col6\" class=\"data row1 col6\" >None</td>\n",
       "    </tr>\n",
       "  </tbody>\n",
       "</table>\n"
      ],
      "text/plain": [
       "<pandas.io.formats.style.Styler at 0x7f6680372850>"
      ]
     },
     "metadata": {},
     "output_type": "display_data"
    }
   ],
   "source": [
    "try:\n",
    "    output = slice.list_interfaces()\n",
    "except Exception as e:\n",
    "    print(f\"Exception: {e}\")"
   ]
  },
  {
   "cell_type": "markdown",
   "id": "0ed2166c-04df-4eb5-b692-3e253e98e608",
   "metadata": {},
   "source": [
    "## List Components\n",
    "\n",
    "The `slice.list_interfaes` method lists all networks in a slice. Like all, `list` methods, this method prints output as `text`,`pandas`,`json`, or `list`. The output can be filtered using the `fields` and `filter_function` arguments. See the `list_sites` example notebook for more information about output options."
   ]
  },
  {
   "cell_type": "code",
   "execution_count": 11,
   "id": "f6f2d79d-a2d6-4620-9711-fafea7e4bab0",
   "metadata": {},
   "outputs": [
    {
     "data": {
      "text/html": [
       "<style type=\"text/css\">\n",
       "#T_c85a3 caption {\n",
       "  text-align: center;\n",
       "  font-size: 150%;\n",
       "  caption-side: top;\n",
       "}\n",
       "#T_c85a3 th {\n",
       "  text-align: left;\n",
       "}\n",
       "#T_c85a3 tr:nth-child(even) {\n",
       "  background: #dbf3ff;\n",
       "  color: #231f20;\n",
       "}\n",
       "#T_c85a3 tr:nth-child(odd) {\n",
       "  background: #ffffff;\n",
       "  color: #231f20;\n",
       "}\n",
       "#T_c85a3 .level0 {\n",
       "  border: 1px black solid !important;\n",
       "}\n",
       "#T_c85a3_row0_col0, #T_c85a3_row0_col1, #T_c85a3_row0_col2, #T_c85a3_row0_col3, #T_c85a3_row0_col4, #T_c85a3_row0_col5, #T_c85a3_row0_col6, #T_c85a3_row1_col0, #T_c85a3_row1_col1, #T_c85a3_row1_col2, #T_c85a3_row1_col3, #T_c85a3_row1_col4, #T_c85a3_row1_col5, #T_c85a3_row1_col6 {\n",
       "  text-align: left;\n",
       "  border: 1px #231f20 solid !important;\n",
       "  overwrite: False;\n",
       "}\n",
       "</style>\n",
       "<table id=\"T_c85a3\">\n",
       "  <caption>Components</caption>\n",
       "  <thead>\n",
       "    <tr>\n",
       "      <th id=\"T_c85a3_level0_col0\" class=\"col_heading level0 col0\" >Name</th>\n",
       "      <th id=\"T_c85a3_level0_col1\" class=\"col_heading level0 col1\" >Details</th>\n",
       "      <th id=\"T_c85a3_level0_col2\" class=\"col_heading level0 col2\" >Disk</th>\n",
       "      <th id=\"T_c85a3_level0_col3\" class=\"col_heading level0 col3\" >Units</th>\n",
       "      <th id=\"T_c85a3_level0_col4\" class=\"col_heading level0 col4\" >PCI Address</th>\n",
       "      <th id=\"T_c85a3_level0_col5\" class=\"col_heading level0 col5\" >Model</th>\n",
       "      <th id=\"T_c85a3_level0_col6\" class=\"col_heading level0 col6\" >Type</th>\n",
       "    </tr>\n",
       "  </thead>\n",
       "  <tbody>\n",
       "    <tr>\n",
       "      <td id=\"T_c85a3_row0_col0\" class=\"data row0 col0\" >Node1-nic1</td>\n",
       "      <td id=\"T_c85a3_row0_col1\" class=\"data row0 col1\" >Mellanox ConnectX-6 VPI MCX653 dual port 100Gbps</td>\n",
       "      <td id=\"T_c85a3_row0_col2\" class=\"data row0 col2\" >0</td>\n",
       "      <td id=\"T_c85a3_row0_col3\" class=\"data row0 col3\" >1</td>\n",
       "      <td id=\"T_c85a3_row0_col4\" class=\"data row0 col4\" >0000:e2:0f.3</td>\n",
       "      <td id=\"T_c85a3_row0_col5\" class=\"data row0 col5\" >NIC_Basic</td>\n",
       "      <td id=\"T_c85a3_row0_col6\" class=\"data row0 col6\" >SharedNIC</td>\n",
       "    </tr>\n",
       "    <tr>\n",
       "      <td id=\"T_c85a3_row1_col0\" class=\"data row1 col0\" >Node2-nic2</td>\n",
       "      <td id=\"T_c85a3_row1_col1\" class=\"data row1 col1\" >Mellanox ConnectX-6 VPI MCX653 dual port 100Gbps</td>\n",
       "      <td id=\"T_c85a3_row1_col2\" class=\"data row1 col2\" >0</td>\n",
       "      <td id=\"T_c85a3_row1_col3\" class=\"data row1 col3\" >1</td>\n",
       "      <td id=\"T_c85a3_row1_col4\" class=\"data row1 col4\" >0000:e2:0b.0</td>\n",
       "      <td id=\"T_c85a3_row1_col5\" class=\"data row1 col5\" >NIC_Basic</td>\n",
       "      <td id=\"T_c85a3_row1_col6\" class=\"data row1 col6\" >SharedNIC</td>\n",
       "    </tr>\n",
       "  </tbody>\n",
       "</table>\n"
      ],
      "text/plain": [
       "<pandas.io.formats.style.Styler at 0x7f6644521670>"
      ]
     },
     "metadata": {},
     "output_type": "display_data"
    }
   ],
   "source": [
    "try:\n",
    "    output = slice.list_components()\n",
    "except Exception as e:\n",
    "    print(f\"Exception: {e}\")"
   ]
  }
 ],
 "metadata": {
  "kernelspec": {
   "display_name": "Python 3 (ipykernel)",
   "language": "python",
   "name": "python3"
  },
  "language_info": {
   "codemirror_mode": {
    "name": "ipython",
    "version": 3
   },
   "file_extension": ".py",
   "mimetype": "text/x-python",
   "name": "python",
   "nbconvert_exporter": "python",
   "pygments_lexer": "ipython3",
   "version": "3.9.7"
  }
 },
 "nbformat": 4,
 "nbformat_minor": 5
}
