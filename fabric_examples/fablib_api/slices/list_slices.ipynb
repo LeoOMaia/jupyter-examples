{
 "cells": [
  {
   "cell_type": "markdown",
   "id": "60e3fd3a-d102-4626-9849-755cfdd24948",
   "metadata": {},
   "source": [
    "# List Slices"
   ]
  },
  {
   "cell_type": "markdown",
   "id": "bebf9e49-d901-46ec-94e6-62d4be407a4e",
   "metadata": {},
   "source": [
    "## Import FABlib"
   ]
  },
  {
   "cell_type": "code",
   "execution_count": 1,
   "id": "7e2a3475",
   "metadata": {},
   "outputs": [
    {
     "data": {
      "text/html": [
       "<style type=\"text/css\">\n",
       "#T_a42ad tr:nth-child(even) {\n",
       "  background: #dbf3ff;\n",
       "  color: #231f20;\n",
       "}\n",
       "#T_a42ad tr:nth-child(odd) {\n",
       "  background: #ffffff;\n",
       "  color: #231f20;\n",
       "}\n",
       "#T_a42ad caption {\n",
       "  text-align: center;\n",
       "  font-size: 150%;\n",
       "}\n",
       "#T_a42ad_row0_col0, #T_a42ad_row0_col1, #T_a42ad_row1_col0, #T_a42ad_row1_col1, #T_a42ad_row2_col0, #T_a42ad_row2_col1, #T_a42ad_row3_col0, #T_a42ad_row3_col1, #T_a42ad_row4_col0, #T_a42ad_row4_col1, #T_a42ad_row5_col0, #T_a42ad_row5_col1, #T_a42ad_row6_col0, #T_a42ad_row6_col1, #T_a42ad_row7_col0, #T_a42ad_row7_col1, #T_a42ad_row8_col0, #T_a42ad_row8_col1, #T_a42ad_row9_col0, #T_a42ad_row9_col1, #T_a42ad_row10_col0, #T_a42ad_row10_col1, #T_a42ad_row11_col0, #T_a42ad_row11_col1, #T_a42ad_row12_col0, #T_a42ad_row12_col1 {\n",
       "  text-align: left;\n",
       "  border: 1px #231f20 solid !important;\n",
       "  overwrite: False;\n",
       "}\n",
       "</style>\n",
       "<table id=\"T_a42ad\">\n",
       "  <caption>FABlib Config</caption>\n",
       "  <thead>\n",
       "  </thead>\n",
       "  <tbody>\n",
       "    <tr>\n",
       "      <td id=\"T_a42ad_row0_col0\" class=\"data row0 col0\" >Credential Manager</td>\n",
       "      <td id=\"T_a42ad_row0_col1\" class=\"data row0 col1\" >cm.fabric-testbed.net</td>\n",
       "    </tr>\n",
       "    <tr>\n",
       "      <td id=\"T_a42ad_row1_col0\" class=\"data row1 col0\" >Orchestrator</td>\n",
       "      <td id=\"T_a42ad_row1_col1\" class=\"data row1 col1\" >orchestrator.fabric-testbed.net</td>\n",
       "    </tr>\n",
       "    <tr>\n",
       "      <td id=\"T_a42ad_row2_col0\" class=\"data row2 col0\" >Token File</td>\n",
       "      <td id=\"T_a42ad_row2_col1\" class=\"data row2 col1\" >/home/fabric/.tokens.json</td>\n",
       "    </tr>\n",
       "    <tr>\n",
       "      <td id=\"T_a42ad_row3_col0\" class=\"data row3 col0\" >Project ID</td>\n",
       "      <td id=\"T_a42ad_row3_col1\" class=\"data row3 col1\" >990d8a8b-7e50-4d13-a3be-0f133ffa8653</td>\n",
       "    </tr>\n",
       "    <tr>\n",
       "      <td id=\"T_a42ad_row4_col0\" class=\"data row4 col0\" >Bastion Username</td>\n",
       "      <td id=\"T_a42ad_row4_col1\" class=\"data row4 col1\" >pruth_0031379841</td>\n",
       "    </tr>\n",
       "    <tr>\n",
       "      <td id=\"T_a42ad_row5_col0\" class=\"data row5 col0\" >Bastion Private Key File</td>\n",
       "      <td id=\"T_a42ad_row5_col1\" class=\"data row5 col1\" >/home/fabric/work/fabric_config/fabric_bastion_key</td>\n",
       "    </tr>\n",
       "    <tr>\n",
       "      <td id=\"T_a42ad_row6_col0\" class=\"data row6 col0\" >Bastion Host</td>\n",
       "      <td id=\"T_a42ad_row6_col1\" class=\"data row6 col1\" >bastion-1.fabric-testbed.net</td>\n",
       "    </tr>\n",
       "    <tr>\n",
       "      <td id=\"T_a42ad_row7_col0\" class=\"data row7 col0\" >Bastion Private Key Passphrase</td>\n",
       "      <td id=\"T_a42ad_row7_col1\" class=\"data row7 col1\" >None</td>\n",
       "    </tr>\n",
       "    <tr>\n",
       "      <td id=\"T_a42ad_row8_col0\" class=\"data row8 col0\" >Slice Public Key File</td>\n",
       "      <td id=\"T_a42ad_row8_col1\" class=\"data row8 col1\" >/home/fabric/work/fabric_config/slice_key.pub</td>\n",
       "    </tr>\n",
       "    <tr>\n",
       "      <td id=\"T_a42ad_row9_col0\" class=\"data row9 col0\" >Slice Private Key File</td>\n",
       "      <td id=\"T_a42ad_row9_col1\" class=\"data row9 col1\" >/home/fabric/work/fabric_config/slice_key</td>\n",
       "    </tr>\n",
       "    <tr>\n",
       "      <td id=\"T_a42ad_row10_col0\" class=\"data row10 col0\" >Slice Private Key Passphrase</td>\n",
       "      <td id=\"T_a42ad_row10_col1\" class=\"data row10 col1\" >None</td>\n",
       "    </tr>\n",
       "    <tr>\n",
       "      <td id=\"T_a42ad_row11_col0\" class=\"data row11 col0\" >Log File</td>\n",
       "      <td id=\"T_a42ad_row11_col1\" class=\"data row11 col1\" >/home/fabric/fablib.log</td>\n",
       "    </tr>\n",
       "    <tr>\n",
       "      <td id=\"T_a42ad_row12_col0\" class=\"data row12 col0\" >Log Level</td>\n",
       "      <td id=\"T_a42ad_row12_col1\" class=\"data row12 col1\" >INFO</td>\n",
       "    </tr>\n",
       "  </tbody>\n",
       "</table>\n"
      ],
      "text/plain": [
       "<pandas.io.formats.style.Styler at 0x7fabf7088760>"
      ]
     },
     "metadata": {},
     "output_type": "display_data"
    }
   ],
   "source": [
    "from fabrictestbed_extensions.fablib.fablib import FablibManager as fablib_manager\n",
    "\n",
    "try: \n",
    "    fablib = fablib_manager()\n",
    "                     \n",
    "    fablib.show_config()\n",
    "except Exception as e:\n",
    "    print(f\"Exception: {e}\")"
   ]
  },
  {
   "cell_type": "markdown",
   "id": "f65b0dfe-f435-442b-bec8-cc5f5f4e35c0",
   "metadata": {},
   "source": [
    "## List Slices"
   ]
  },
  {
   "cell_type": "markdown",
   "id": "2ff0ef2c-6e31-48a1-88df-656bfb7f1e9f",
   "metadata": {
    "tags": []
   },
   "source": [
    "You can get a current slice using its name. Names of current slices are unique. However, you can reuse slice names of deleted or failed slices.   If you want to get a deleted or failed slice you cannot use its name because it is not guaranteed to be unique.  \n"
   ]
  },
  {
   "cell_type": "code",
   "execution_count": 2,
   "id": "e73a0c8a-8c56-4f06-ab2a-5a661963cc38",
   "metadata": {},
   "outputs": [
    {
     "data": {
      "text/html": [
       "<style type=\"text/css\">\n",
       "#T_a8bd2 caption {\n",
       "  text-align: center;\n",
       "  font-size: 150%;\n",
       "  caption-side: top;\n",
       "}\n",
       "#T_a8bd2 th {\n",
       "  text-align: left;\n",
       "}\n",
       "#T_a8bd2 tr:nth-child(even) {\n",
       "  background: #ffffff;\n",
       "  color: #231f20;\n",
       "}\n",
       "#T_a8bd2 tr:nth-child(odd) {\n",
       "  background: #dbf3ff;\n",
       "  color: #231f20;\n",
       "}\n",
       "#T_a8bd2 .level0 {\n",
       "  border: 1px black solid !important;\n",
       "  background: #ffffff;\n",
       "  color: #231f20;\n",
       "}\n",
       "</style>\n",
       "<table id=\"T_a8bd2\">\n",
       "  <caption>Slices</caption>\n",
       "  <thead>\n",
       "  </thead>\n",
       "  <tbody>\n",
       "  </tbody>\n",
       "</table>\n"
      ],
      "text/plain": [
       "<pandas.io.formats.style.Styler at 0x7fabf7032040>"
      ]
     },
     "metadata": {},
     "output_type": "display_data"
    }
   ],
   "source": [
    "try: \n",
    "    fablib.list_slices()\n",
    "except Exception as e:\n",
    "    print(f\"Exception: {e}\")"
   ]
  },
  {
   "cell_type": "markdown",
   "id": "c3674bff-9700-4672-8860-04069f31592c",
   "metadata": {},
   "source": [
    "## Select Fields"
   ]
  },
  {
   "cell_type": "code",
   "execution_count": null,
   "id": "b1ad42b6-13db-46f4-ae90-11b6afcd921c",
   "metadata": {},
   "outputs": [],
   "source": [
    "try: \n",
    "    fablib.list_slices(fields=['name','state'])\n",
    "except Exception as e:\n",
    "    print(f\"Exception: {e}\")"
   ]
  },
  {
   "cell_type": "markdown",
   "id": "0e7c8469-44be-4152-995e-b0b4f2fbbd8b",
   "metadata": {},
   "source": [
    "## Filter by Values"
   ]
  },
  {
   "cell_type": "code",
   "execution_count": null,
   "id": "a83a31fb-e2c6-4139-98ee-5f1783672b2f",
   "metadata": {},
   "outputs": [],
   "source": [
    "try: \n",
    "    fablib.list_slices(filter_function=lambda x: x['state'] == 'StableOK' )\n",
    "except Exception as e:\n",
    "    print(f\"Exception: {e}\")"
   ]
  },
  {
   "cell_type": "markdown",
   "id": "b46cebd1-ac8f-4437-825f-0903351a0803",
   "metadata": {},
   "source": [
    "## Output as Pandas DataFrame"
   ]
  },
  {
   "cell_type": "code",
   "execution_count": null,
   "id": "7d889c1f-37f2-42aa-b20b-05be462eec50",
   "metadata": {},
   "outputs": [],
   "source": [
    "try: \n",
    "    output_dataframe = fablib.list_slices(output='pandas')\n",
    "except Exception as e:\n",
    "    print(f\"Exception: {e}\")"
   ]
  },
  {
   "cell_type": "markdown",
   "id": "ee5b9d12-704d-4c0d-96d6-3444409a9a27",
   "metadata": {},
   "source": [
    "## Output as Tabular Text"
   ]
  },
  {
   "cell_type": "code",
   "execution_count": null,
   "id": "635cd8d8-671a-46fb-83c6-926413721163",
   "metadata": {},
   "outputs": [],
   "source": [
    "try: \n",
    "    output_table_string = fablib.list_slices(output='text')\n",
    "except Exception as e:\n",
    "    print(f\"Exception: {e}\")"
   ]
  },
  {
   "cell_type": "markdown",
   "id": "079b7a7e-889a-4f76-bf3d-249b28f327d4",
   "metadata": {},
   "source": [
    "## Output as JSON"
   ]
  },
  {
   "cell_type": "code",
   "execution_count": null,
   "id": "2ca72f64-bdbf-42ad-ab6b-036d78b8717e",
   "metadata": {},
   "outputs": [],
   "source": [
    "try: \n",
    "    output_json = fablib.list_slices(output='json')\n",
    "except Exception as e:\n",
    "    print(f\"Exception: {e}\")"
   ]
  },
  {
   "cell_type": "markdown",
   "id": "976f89fa-a713-4e44-9b2b-bae2b759cc77",
   "metadata": {},
   "source": [
    "## Output as Python List[Dict]"
   ]
  },
  {
   "cell_type": "code",
   "execution_count": null,
   "id": "23a15a14-cf05-41de-b674-3a40a991ba95",
   "metadata": {},
   "outputs": [],
   "source": [
    "try: \n",
    "    output_list = fablib.list_slices(output='list')\n",
    "except Exception as e:\n",
    "    print(f\"Exception: {e}\")"
   ]
  },
  {
   "cell_type": "markdown",
   "id": "2c5732cc-fd8f-449b-a5cc-f90cd9150c8f",
   "metadata": {},
   "source": [
    "Use the list and quiet the method."
   ]
  },
  {
   "cell_type": "code",
   "execution_count": null,
   "id": "50f825cc-2a4b-49e2-93d5-6c07764ecfe8",
   "metadata": {},
   "outputs": [],
   "source": [
    "try: \n",
    "    output_list = fablib.list_slices(output='list', quiet=True)\n",
    "    \n",
    "    for slice in output_list:\n",
    "        print(f\"Slice: {slice['id']}, {slice['name']}, {slice['state']}\")\n",
    "except Exception as e:\n",
    "    print(f\"Exception: {e}\")"
   ]
  },
  {
   "cell_type": "markdown",
   "id": "f7d395fa-ff15-4d1f-b5f3-3c611e4935e1",
   "metadata": {},
   "source": [
    "## Add Colors to Pandas DataFrames\n",
    "\n",
    "The `list_slice` method can return a `pandas.DataFrame`.  You can optionally modify the DataFrame before it is displayed.\n",
    "\n",
    "Note: this will raise an exception if you currently have no slices."
   ]
  },
  {
   "cell_type": "code",
   "execution_count": null,
   "id": "f9110206-b93a-40d3-8263-7cf1a3627e83",
   "metadata": {},
   "outputs": [],
   "source": [
    "import pandas as pd\n",
    "from IPython.display import clear_output\n",
    "\n",
    "\n",
    "def state_color(val):\n",
    "    if val == 'StableOK':\n",
    "        color = f'{fablib.SUCCESS_LIGHT_COLOR}'\n",
    "    elif val == 'Configuring' or val == 'Modifying' or val == 'ModifyOK':\n",
    "        color = f'{fablib.IN_PROGRESS_LIGHT_COLOR}'\n",
    "    elif val == 'StableError':\n",
    "        color = f'{fablib.ERROR_LIGHT_COLOR}'\n",
    "        \n",
    "    else:\n",
    "        color = ''\n",
    "    return 'background-color: %s' % color\n",
    "\n",
    "\n",
    "clear_output(wait=True)\n",
    "\n",
    "\n",
    "pandas_dataframe = fablib.list_slices(output='pandas', quiet=True)\n",
    "pandas_dataframe = pandas_dataframe.applymap(state_color, subset=pd.IndexSlice[:, ['State']]) \n",
    "    \n",
    "display(pandas_dataframe)"
   ]
  },
  {
   "cell_type": "code",
   "execution_count": null,
   "id": "625d22e0-2713-4b02-93ab-996c337627ca",
   "metadata": {},
   "outputs": [],
   "source": []
  }
 ],
 "metadata": {
  "kernelspec": {
   "display_name": "Python 3 (ipykernel)",
   "language": "python",
   "name": "python3"
  },
  "language_info": {
   "codemirror_mode": {
    "name": "ipython",
    "version": 3
   },
   "file_extension": ".py",
   "mimetype": "text/x-python",
   "name": "python",
   "nbconvert_exporter": "python",
   "pygments_lexer": "ipython3",
   "version": "3.9.7"
  }
 },
 "nbformat": 4,
 "nbformat_minor": 5
}
