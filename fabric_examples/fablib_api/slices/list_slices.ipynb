{
 "cells": [
  {
   "cell_type": "markdown",
   "id": "60e3fd3a-d102-4626-9849-755cfdd24948",
   "metadata": {},
   "source": [
    "# List Slices"
   ]
  },
  {
   "cell_type": "markdown",
   "id": "bebf9e49-d901-46ec-94e6-62d4be407a4e",
   "metadata": {},
   "source": [
    "## Import FABlib"
   ]
  },
  {
   "cell_type": "code",
   "execution_count": 1,
   "id": "7e2a3475",
   "metadata": {},
   "outputs": [
    {
     "data": {
      "text/html": [
       "<style type=\"text/css\">\n",
       "#T_675d0 tr:nth-child(even) {\n",
       "  background: #dbf3ff;\n",
       "  color: #231f20;\n",
       "}\n",
       "#T_675d0 tr:nth-child(odd) {\n",
       "  background: #ffffff;\n",
       "  color: #231f20;\n",
       "}\n",
       "#T_675d0 caption {\n",
       "  text-align: center;\n",
       "  font-size: 150%;\n",
       "}\n",
       "#T_675d0_row0_col0, #T_675d0_row0_col1, #T_675d0_row1_col0, #T_675d0_row1_col1, #T_675d0_row2_col0, #T_675d0_row2_col1, #T_675d0_row3_col0, #T_675d0_row3_col1, #T_675d0_row4_col0, #T_675d0_row4_col1, #T_675d0_row5_col0, #T_675d0_row5_col1, #T_675d0_row6_col0, #T_675d0_row6_col1, #T_675d0_row7_col0, #T_675d0_row7_col1, #T_675d0_row8_col0, #T_675d0_row8_col1, #T_675d0_row9_col0, #T_675d0_row9_col1, #T_675d0_row10_col0, #T_675d0_row10_col1, #T_675d0_row11_col0, #T_675d0_row11_col1, #T_675d0_row12_col0, #T_675d0_row12_col1 {\n",
       "  text-align: left;\n",
       "  border: 1px #231f20 solid !important;\n",
       "  overwrite: False;\n",
       "}\n",
       "</style>\n",
       "<table id=\"T_675d0\">\n",
       "  <caption>FABlib Config</caption>\n",
       "  <thead>\n",
       "  </thead>\n",
       "  <tbody>\n",
       "    <tr>\n",
       "      <td id=\"T_675d0_row0_col0\" class=\"data row0 col0\" >credmgr_host</td>\n",
       "      <td id=\"T_675d0_row0_col1\" class=\"data row0 col1\" >cm.fabric-testbed.net</td>\n",
       "    </tr>\n",
       "    <tr>\n",
       "      <td id=\"T_675d0_row1_col0\" class=\"data row1 col0\" >orchestrator_host</td>\n",
       "      <td id=\"T_675d0_row1_col1\" class=\"data row1 col1\" >orchestrator.fabric-testbed.net</td>\n",
       "    </tr>\n",
       "    <tr>\n",
       "      <td id=\"T_675d0_row2_col0\" class=\"data row2 col0\" >fabric_token</td>\n",
       "      <td id=\"T_675d0_row2_col1\" class=\"data row2 col1\" >/home/fabric/.tokens.json</td>\n",
       "    </tr>\n",
       "    <tr>\n",
       "      <td id=\"T_675d0_row3_col0\" class=\"data row3 col0\" >project_id</td>\n",
       "      <td id=\"T_675d0_row3_col1\" class=\"data row3 col1\" >990d8a8b-7e50-4d13-a3be-0f133ffa8653</td>\n",
       "    </tr>\n",
       "    <tr>\n",
       "      <td id=\"T_675d0_row4_col0\" class=\"data row4 col0\" >bastion_username</td>\n",
       "      <td id=\"T_675d0_row4_col1\" class=\"data row4 col1\" >pruth_0000000529</td>\n",
       "    </tr>\n",
       "    <tr>\n",
       "      <td id=\"T_675d0_row5_col0\" class=\"data row5 col0\" >bastion_key_filename</td>\n",
       "      <td id=\"T_675d0_row5_col1\" class=\"data row5 col1\" >/home/fabric/work/fabric_config/fabric_bastion_key</td>\n",
       "    </tr>\n",
       "    <tr>\n",
       "      <td id=\"T_675d0_row6_col0\" class=\"data row6 col0\" >bastion_public_addr</td>\n",
       "      <td id=\"T_675d0_row6_col1\" class=\"data row6 col1\" >bastion-1.fabric-testbed.net</td>\n",
       "    </tr>\n",
       "    <tr>\n",
       "      <td id=\"T_675d0_row7_col0\" class=\"data row7 col0\" >bastion_passphrase</td>\n",
       "      <td id=\"T_675d0_row7_col1\" class=\"data row7 col1\" >None</td>\n",
       "    </tr>\n",
       "    <tr>\n",
       "      <td id=\"T_675d0_row8_col0\" class=\"data row8 col0\" >slice_public_key_file</td>\n",
       "      <td id=\"T_675d0_row8_col1\" class=\"data row8 col1\" >/home/fabric/work/fabric_config/slice_key.pub</td>\n",
       "    </tr>\n",
       "    <tr>\n",
       "      <td id=\"T_675d0_row9_col0\" class=\"data row9 col0\" >slice_private_key_file</td>\n",
       "      <td id=\"T_675d0_row9_col1\" class=\"data row9 col1\" >/home/fabric/work/fabric_config/slice_key</td>\n",
       "    </tr>\n",
       "    <tr>\n",
       "      <td id=\"T_675d0_row10_col0\" class=\"data row10 col0\" >fabric_slice_private_key_passphrase</td>\n",
       "      <td id=\"T_675d0_row10_col1\" class=\"data row10 col1\" >None</td>\n",
       "    </tr>\n",
       "    <tr>\n",
       "      <td id=\"T_675d0_row11_col0\" class=\"data row11 col0\" >fablib_log_file</td>\n",
       "      <td id=\"T_675d0_row11_col1\" class=\"data row11 col1\" >fablib.log</td>\n",
       "    </tr>\n",
       "    <tr>\n",
       "      <td id=\"T_675d0_row12_col0\" class=\"data row12 col0\" >fablib_log_level</td>\n",
       "      <td id=\"T_675d0_row12_col1\" class=\"data row12 col1\" >DEBUG</td>\n",
       "    </tr>\n",
       "  </tbody>\n",
       "</table>\n"
      ],
      "text/plain": [
       "<pandas.io.formats.style.Styler at 0x7fd4f76579d0>"
      ]
     },
     "metadata": {},
     "output_type": "display_data"
    }
   ],
   "source": [
    "from fabrictestbed_extensions.fablib.fablib import FablibManager as fablib_manager\n",
    "\n",
    "try: \n",
    "    fablib = fablib_manager()\n",
    "                     \n",
    "    fablib.show_config()\n",
    "except Exception as e:\n",
    "    print(f\"Exception: {e}\")"
   ]
  },
  {
   "cell_type": "markdown",
   "id": "f65b0dfe-f435-442b-bec8-cc5f5f4e35c0",
   "metadata": {},
   "source": [
    "## List Slices"
   ]
  },
  {
   "cell_type": "markdown",
   "id": "2ff0ef2c-6e31-48a1-88df-656bfb7f1e9f",
   "metadata": {
    "tags": []
   },
   "source": [
    "You can get a current slice using its name. Names of current slices are unique. However, you can reuse slice names of deleted or failed slices.   If you want to get a deleted or failed slice you cannot use its name because it is not guaranteed to be unique.  \n"
   ]
  },
  {
   "cell_type": "code",
   "execution_count": 2,
   "id": "e73a0c8a-8c56-4f06-ab2a-5a661963cc38",
   "metadata": {},
   "outputs": [
    {
     "data": {
      "text/html": [
       "<style type=\"text/css\">\n",
       "#T_885f4 caption {\n",
       "  text-align: center;\n",
       "  font-size: 150%;\n",
       "  caption-side: top;\n",
       "}\n",
       "#T_885f4 th {\n",
       "  text-align: left;\n",
       "}\n",
       "#T_885f4 tr:nth-child(even) {\n",
       "  background: #dbf3ff;\n",
       "  color: #231f20;\n",
       "}\n",
       "#T_885f4 tr:nth-child(odd) {\n",
       "  background: #ffffff;\n",
       "  color: #231f20;\n",
       "}\n",
       "#T_885f4 .level0 {\n",
       "  border: 1px black solid !important;\n",
       "}\n",
       "#T_885f4_row0_col0, #T_885f4_row0_col1, #T_885f4_row0_col2, #T_885f4_row0_col3, #T_885f4_row0_col4, #T_885f4_row0_col5, #T_885f4_row1_col0, #T_885f4_row1_col1, #T_885f4_row1_col2, #T_885f4_row1_col3, #T_885f4_row1_col4, #T_885f4_row1_col5 {\n",
       "  text-align: left;\n",
       "  border: 1px #231f20 solid !important;\n",
       "  overwrite: False;\n",
       "}\n",
       "</style>\n",
       "<table id=\"T_885f4\">\n",
       "  <caption>Slices</caption>\n",
       "  <thead>\n",
       "    <tr>\n",
       "      <th id=\"T_885f4_level0_col0\" class=\"col_heading level0 col0\" >ID</th>\n",
       "      <th id=\"T_885f4_level0_col1\" class=\"col_heading level0 col1\" >Name</th>\n",
       "      <th id=\"T_885f4_level0_col2\" class=\"col_heading level0 col2\" >Lease Expiration (UTC)</th>\n",
       "      <th id=\"T_885f4_level0_col3\" class=\"col_heading level0 col3\" >Lease Start (UTC)</th>\n",
       "      <th id=\"T_885f4_level0_col4\" class=\"col_heading level0 col4\" >Project ID</th>\n",
       "      <th id=\"T_885f4_level0_col5\" class=\"col_heading level0 col5\" >State</th>\n",
       "    </tr>\n",
       "  </thead>\n",
       "  <tbody>\n",
       "    <tr>\n",
       "      <td id=\"T_885f4_row0_col0\" class=\"data row0 col0\" >00204fd6-f4a8-48d5-80ba-8464c5a9e6bf</td>\n",
       "      <td id=\"T_885f4_row0_col1\" class=\"data row0 col1\" >MySlice2</td>\n",
       "      <td id=\"T_885f4_row0_col2\" class=\"data row0 col2\" >2022-10-23 18:00:48 +0000</td>\n",
       "      <td id=\"T_885f4_row0_col3\" class=\"data row0 col3\" >2022-10-22 18:00:49 +0000</td>\n",
       "      <td id=\"T_885f4_row0_col4\" class=\"data row0 col4\" >990d8a8b-7e50-4d13-a3be-0f133ffa8653</td>\n",
       "      <td id=\"T_885f4_row0_col5\" class=\"data row0 col5\" >StableOK</td>\n",
       "    </tr>\n",
       "    <tr>\n",
       "      <td id=\"T_885f4_row1_col0\" class=\"data row1 col0\" >00d01f86-6f1b-4d28-9624-29bf80b40ea2</td>\n",
       "      <td id=\"T_885f4_row1_col1\" class=\"data row1 col1\" >MySlice</td>\n",
       "      <td id=\"T_885f4_row1_col2\" class=\"data row1 col2\" >2022-10-23 17:05:58 +0000</td>\n",
       "      <td id=\"T_885f4_row1_col3\" class=\"data row1 col3\" >2022-10-22 17:05:59 +0000</td>\n",
       "      <td id=\"T_885f4_row1_col4\" class=\"data row1 col4\" >990d8a8b-7e50-4d13-a3be-0f133ffa8653</td>\n",
       "      <td id=\"T_885f4_row1_col5\" class=\"data row1 col5\" >StableOK</td>\n",
       "    </tr>\n",
       "  </tbody>\n",
       "</table>\n"
      ],
      "text/plain": [
       "<pandas.io.formats.style.Styler at 0x7fd5302e6880>"
      ]
     },
     "metadata": {},
     "output_type": "display_data"
    }
   ],
   "source": [
    "try: \n",
    "    fablib.list_slices()\n",
    "except Exception as e:\n",
    "    print(f\"Exception: {e}\")"
   ]
  },
  {
   "cell_type": "markdown",
   "id": "c3674bff-9700-4672-8860-04069f31592c",
   "metadata": {},
   "source": [
    "## Select Fields"
   ]
  },
  {
   "cell_type": "code",
   "execution_count": 3,
   "id": "b1ad42b6-13db-46f4-ae90-11b6afcd921c",
   "metadata": {},
   "outputs": [
    {
     "data": {
      "text/html": [
       "<style type=\"text/css\">\n",
       "#T_de687 caption {\n",
       "  text-align: center;\n",
       "  font-size: 150%;\n",
       "  caption-side: top;\n",
       "}\n",
       "#T_de687 th {\n",
       "  text-align: left;\n",
       "}\n",
       "#T_de687 tr:nth-child(even) {\n",
       "  background: #dbf3ff;\n",
       "  color: #231f20;\n",
       "}\n",
       "#T_de687 tr:nth-child(odd) {\n",
       "  background: #ffffff;\n",
       "  color: #231f20;\n",
       "}\n",
       "#T_de687 .level0 {\n",
       "  border: 1px black solid !important;\n",
       "}\n",
       "#T_de687_row0_col0, #T_de687_row0_col1, #T_de687_row1_col0, #T_de687_row1_col1 {\n",
       "  text-align: left;\n",
       "  border: 1px #231f20 solid !important;\n",
       "  overwrite: False;\n",
       "}\n",
       "</style>\n",
       "<table id=\"T_de687\">\n",
       "  <caption>Slices</caption>\n",
       "  <thead>\n",
       "    <tr>\n",
       "      <th id=\"T_de687_level0_col0\" class=\"col_heading level0 col0\" >Name</th>\n",
       "      <th id=\"T_de687_level0_col1\" class=\"col_heading level0 col1\" >State</th>\n",
       "    </tr>\n",
       "  </thead>\n",
       "  <tbody>\n",
       "    <tr>\n",
       "      <td id=\"T_de687_row0_col0\" class=\"data row0 col0\" >MySlice2</td>\n",
       "      <td id=\"T_de687_row0_col1\" class=\"data row0 col1\" >StableOK</td>\n",
       "    </tr>\n",
       "    <tr>\n",
       "      <td id=\"T_de687_row1_col0\" class=\"data row1 col0\" >MySlice</td>\n",
       "      <td id=\"T_de687_row1_col1\" class=\"data row1 col1\" >StableOK</td>\n",
       "    </tr>\n",
       "  </tbody>\n",
       "</table>\n"
      ],
      "text/plain": [
       "<pandas.io.formats.style.Styler at 0x7fd4f76579d0>"
      ]
     },
     "metadata": {},
     "output_type": "display_data"
    }
   ],
   "source": [
    "try: \n",
    "    fablib.list_slices(fields=['Name','State'])\n",
    "except Exception as e:\n",
    "    print(f\"Exception: {e}\")"
   ]
  },
  {
   "cell_type": "markdown",
   "id": "0e7c8469-44be-4152-995e-b0b4f2fbbd8b",
   "metadata": {},
   "source": [
    "## Filter by Values"
   ]
  },
  {
   "cell_type": "code",
   "execution_count": 4,
   "id": "a83a31fb-e2c6-4139-98ee-5f1783672b2f",
   "metadata": {},
   "outputs": [
    {
     "data": {
      "text/html": [
       "<style type=\"text/css\">\n",
       "#T_37bca caption {\n",
       "  text-align: center;\n",
       "  font-size: 150%;\n",
       "  caption-side: top;\n",
       "}\n",
       "#T_37bca th {\n",
       "  text-align: left;\n",
       "}\n",
       "#T_37bca tr:nth-child(even) {\n",
       "  background: #dbf3ff;\n",
       "  color: #231f20;\n",
       "}\n",
       "#T_37bca tr:nth-child(odd) {\n",
       "  background: #ffffff;\n",
       "  color: #231f20;\n",
       "}\n",
       "#T_37bca .level0 {\n",
       "  border: 1px black solid !important;\n",
       "}\n",
       "#T_37bca_row0_col0, #T_37bca_row0_col1, #T_37bca_row0_col2, #T_37bca_row0_col3, #T_37bca_row0_col4, #T_37bca_row0_col5, #T_37bca_row1_col0, #T_37bca_row1_col1, #T_37bca_row1_col2, #T_37bca_row1_col3, #T_37bca_row1_col4, #T_37bca_row1_col5 {\n",
       "  text-align: left;\n",
       "  border: 1px #231f20 solid !important;\n",
       "  overwrite: False;\n",
       "}\n",
       "</style>\n",
       "<table id=\"T_37bca\">\n",
       "  <caption>Slices</caption>\n",
       "  <thead>\n",
       "    <tr>\n",
       "      <th id=\"T_37bca_level0_col0\" class=\"col_heading level0 col0\" >ID</th>\n",
       "      <th id=\"T_37bca_level0_col1\" class=\"col_heading level0 col1\" >Name</th>\n",
       "      <th id=\"T_37bca_level0_col2\" class=\"col_heading level0 col2\" >Lease Expiration (UTC)</th>\n",
       "      <th id=\"T_37bca_level0_col3\" class=\"col_heading level0 col3\" >Lease Start (UTC)</th>\n",
       "      <th id=\"T_37bca_level0_col4\" class=\"col_heading level0 col4\" >Project ID</th>\n",
       "      <th id=\"T_37bca_level0_col5\" class=\"col_heading level0 col5\" >State</th>\n",
       "    </tr>\n",
       "  </thead>\n",
       "  <tbody>\n",
       "    <tr>\n",
       "      <td id=\"T_37bca_row0_col0\" class=\"data row0 col0\" >00204fd6-f4a8-48d5-80ba-8464c5a9e6bf</td>\n",
       "      <td id=\"T_37bca_row0_col1\" class=\"data row0 col1\" >MySlice2</td>\n",
       "      <td id=\"T_37bca_row0_col2\" class=\"data row0 col2\" >2022-10-23 18:00:48 +0000</td>\n",
       "      <td id=\"T_37bca_row0_col3\" class=\"data row0 col3\" >2022-10-22 18:00:49 +0000</td>\n",
       "      <td id=\"T_37bca_row0_col4\" class=\"data row0 col4\" >990d8a8b-7e50-4d13-a3be-0f133ffa8653</td>\n",
       "      <td id=\"T_37bca_row0_col5\" class=\"data row0 col5\" >StableOK</td>\n",
       "    </tr>\n",
       "    <tr>\n",
       "      <td id=\"T_37bca_row1_col0\" class=\"data row1 col0\" >00d01f86-6f1b-4d28-9624-29bf80b40ea2</td>\n",
       "      <td id=\"T_37bca_row1_col1\" class=\"data row1 col1\" >MySlice</td>\n",
       "      <td id=\"T_37bca_row1_col2\" class=\"data row1 col2\" >2022-10-23 17:05:58 +0000</td>\n",
       "      <td id=\"T_37bca_row1_col3\" class=\"data row1 col3\" >2022-10-22 17:05:59 +0000</td>\n",
       "      <td id=\"T_37bca_row1_col4\" class=\"data row1 col4\" >990d8a8b-7e50-4d13-a3be-0f133ffa8653</td>\n",
       "      <td id=\"T_37bca_row1_col5\" class=\"data row1 col5\" >StableOK</td>\n",
       "    </tr>\n",
       "  </tbody>\n",
       "</table>\n"
      ],
      "text/plain": [
       "<pandas.io.formats.style.Styler at 0x7fd53031fca0>"
      ]
     },
     "metadata": {},
     "output_type": "display_data"
    }
   ],
   "source": [
    "try: \n",
    "    fablib.list_slices(filter_function=lambda x: x['State'] == 'StableOK' )\n",
    "except Exception as e:\n",
    "    print(f\"Exception: {e}\")"
   ]
  },
  {
   "cell_type": "markdown",
   "id": "b46cebd1-ac8f-4437-825f-0903351a0803",
   "metadata": {},
   "source": [
    "## Output as Pandas DataFrame"
   ]
  },
  {
   "cell_type": "code",
   "execution_count": 5,
   "id": "7d889c1f-37f2-42aa-b20b-05be462eec50",
   "metadata": {},
   "outputs": [
    {
     "data": {
      "text/html": [
       "<style type=\"text/css\">\n",
       "#T_9b598 caption {\n",
       "  text-align: center;\n",
       "  font-size: 150%;\n",
       "  caption-side: top;\n",
       "}\n",
       "#T_9b598 th {\n",
       "  text-align: left;\n",
       "}\n",
       "#T_9b598 tr:nth-child(even) {\n",
       "  background: #dbf3ff;\n",
       "  color: #231f20;\n",
       "}\n",
       "#T_9b598 tr:nth-child(odd) {\n",
       "  background: #ffffff;\n",
       "  color: #231f20;\n",
       "}\n",
       "#T_9b598 .level0 {\n",
       "  border: 1px black solid !important;\n",
       "}\n",
       "#T_9b598_row0_col0, #T_9b598_row0_col1, #T_9b598_row0_col2, #T_9b598_row0_col3, #T_9b598_row0_col4, #T_9b598_row0_col5, #T_9b598_row1_col0, #T_9b598_row1_col1, #T_9b598_row1_col2, #T_9b598_row1_col3, #T_9b598_row1_col4, #T_9b598_row1_col5 {\n",
       "  text-align: left;\n",
       "  border: 1px #231f20 solid !important;\n",
       "  overwrite: False;\n",
       "}\n",
       "</style>\n",
       "<table id=\"T_9b598\">\n",
       "  <caption>Slices</caption>\n",
       "  <thead>\n",
       "    <tr>\n",
       "      <th id=\"T_9b598_level0_col0\" class=\"col_heading level0 col0\" >ID</th>\n",
       "      <th id=\"T_9b598_level0_col1\" class=\"col_heading level0 col1\" >Name</th>\n",
       "      <th id=\"T_9b598_level0_col2\" class=\"col_heading level0 col2\" >Lease Expiration (UTC)</th>\n",
       "      <th id=\"T_9b598_level0_col3\" class=\"col_heading level0 col3\" >Lease Start (UTC)</th>\n",
       "      <th id=\"T_9b598_level0_col4\" class=\"col_heading level0 col4\" >Project ID</th>\n",
       "      <th id=\"T_9b598_level0_col5\" class=\"col_heading level0 col5\" >State</th>\n",
       "    </tr>\n",
       "  </thead>\n",
       "  <tbody>\n",
       "    <tr>\n",
       "      <td id=\"T_9b598_row0_col0\" class=\"data row0 col0\" >00204fd6-f4a8-48d5-80ba-8464c5a9e6bf</td>\n",
       "      <td id=\"T_9b598_row0_col1\" class=\"data row0 col1\" >MySlice2</td>\n",
       "      <td id=\"T_9b598_row0_col2\" class=\"data row0 col2\" >2022-10-23 18:00:48 +0000</td>\n",
       "      <td id=\"T_9b598_row0_col3\" class=\"data row0 col3\" >2022-10-22 18:00:49 +0000</td>\n",
       "      <td id=\"T_9b598_row0_col4\" class=\"data row0 col4\" >990d8a8b-7e50-4d13-a3be-0f133ffa8653</td>\n",
       "      <td id=\"T_9b598_row0_col5\" class=\"data row0 col5\" >StableOK</td>\n",
       "    </tr>\n",
       "    <tr>\n",
       "      <td id=\"T_9b598_row1_col0\" class=\"data row1 col0\" >00d01f86-6f1b-4d28-9624-29bf80b40ea2</td>\n",
       "      <td id=\"T_9b598_row1_col1\" class=\"data row1 col1\" >MySlice</td>\n",
       "      <td id=\"T_9b598_row1_col2\" class=\"data row1 col2\" >2022-10-23 17:05:58 +0000</td>\n",
       "      <td id=\"T_9b598_row1_col3\" class=\"data row1 col3\" >2022-10-22 17:05:59 +0000</td>\n",
       "      <td id=\"T_9b598_row1_col4\" class=\"data row1 col4\" >990d8a8b-7e50-4d13-a3be-0f133ffa8653</td>\n",
       "      <td id=\"T_9b598_row1_col5\" class=\"data row1 col5\" >StableOK</td>\n",
       "    </tr>\n",
       "  </tbody>\n",
       "</table>\n"
      ],
      "text/plain": [
       "<pandas.io.formats.style.Styler at 0x7fd4f4410940>"
      ]
     },
     "metadata": {},
     "output_type": "display_data"
    }
   ],
   "source": [
    "try: \n",
    "    output_dataframe = fablib.list_slices(output='pandas')\n",
    "except Exception as e:\n",
    "    print(f\"Exception: {e}\")"
   ]
  },
  {
   "cell_type": "markdown",
   "id": "ee5b9d12-704d-4c0d-96d6-3444409a9a27",
   "metadata": {},
   "source": [
    "## Output as Tabular Text"
   ]
  },
  {
   "cell_type": "code",
   "execution_count": 6,
   "id": "635cd8d8-671a-46fb-83c6-926413721163",
   "metadata": {},
   "outputs": [
    {
     "name": "stdout",
     "output_type": "stream",
     "text": [
      "\n",
      "ID                                    Name      Lease Expiration (UTC)     Lease Start (UTC)          Project ID                            State\n",
      "------------------------------------  --------  -------------------------  -------------------------  ------------------------------------  --------\n",
      "00204fd6-f4a8-48d5-80ba-8464c5a9e6bf  MySlice2  2022-10-23 18:00:48 +0000  2022-10-22 18:00:49 +0000  990d8a8b-7e50-4d13-a3be-0f133ffa8653  StableOK\n",
      "00d01f86-6f1b-4d28-9624-29bf80b40ea2  MySlice   2022-10-23 17:05:58 +0000  2022-10-22 17:05:59 +0000  990d8a8b-7e50-4d13-a3be-0f133ffa8653  StableOK\n"
     ]
    }
   ],
   "source": [
    "try: \n",
    "    output_table_string = fablib.list_slices(output='text')\n",
    "except Exception as e:\n",
    "    print(f\"Exception: {e}\")"
   ]
  },
  {
   "cell_type": "markdown",
   "id": "079b7a7e-889a-4f76-bf3d-249b28f327d4",
   "metadata": {},
   "source": [
    "## Output as JSON"
   ]
  },
  {
   "cell_type": "code",
   "execution_count": 7,
   "id": "2ca72f64-bdbf-42ad-ab6b-036d78b8717e",
   "metadata": {},
   "outputs": [
    {
     "name": "stdout",
     "output_type": "stream",
     "text": [
      "[\n",
      "    {\n",
      "        \"ID\": \"00204fd6-f4a8-48d5-80ba-8464c5a9e6bf\",\n",
      "        \"Name\": \"MySlice2\",\n",
      "        \"Lease Expiration (UTC)\": \"2022-10-23 18:00:48 +0000\",\n",
      "        \"Lease Start (UTC)\": \"2022-10-22 18:00:49 +0000\",\n",
      "        \"Project ID\": \"990d8a8b-7e50-4d13-a3be-0f133ffa8653\",\n",
      "        \"State\": \"StableOK\"\n",
      "    },\n",
      "    {\n",
      "        \"ID\": \"00d01f86-6f1b-4d28-9624-29bf80b40ea2\",\n",
      "        \"Name\": \"MySlice\",\n",
      "        \"Lease Expiration (UTC)\": \"2022-10-23 17:05:58 +0000\",\n",
      "        \"Lease Start (UTC)\": \"2022-10-22 17:05:59 +0000\",\n",
      "        \"Project ID\": \"990d8a8b-7e50-4d13-a3be-0f133ffa8653\",\n",
      "        \"State\": \"StableOK\"\n",
      "    }\n",
      "]\n"
     ]
    }
   ],
   "source": [
    "try: \n",
    "    output_json = fablib.list_slices(output='json')\n",
    "except Exception as e:\n",
    "    print(f\"Exception: {e}\")"
   ]
  },
  {
   "cell_type": "markdown",
   "id": "976f89fa-a713-4e44-9b2b-bae2b759cc77",
   "metadata": {},
   "source": [
    "## Output as Python List[Dict]"
   ]
  },
  {
   "cell_type": "code",
   "execution_count": 8,
   "id": "23a15a14-cf05-41de-b674-3a40a991ba95",
   "metadata": {},
   "outputs": [
    {
     "name": "stdout",
     "output_type": "stream",
     "text": [
      "[{'ID': '00204fd6-f4a8-48d5-80ba-8464c5a9e6bf', 'Name': 'MySlice2', 'Lease Expiration (UTC)': '2022-10-23 18:00:48 +0000', 'Lease Start (UTC)': '2022-10-22 18:00:49 +0000', 'Project ID': '990d8a8b-7e50-4d13-a3be-0f133ffa8653', 'State': 'StableOK'}, {'ID': '00d01f86-6f1b-4d28-9624-29bf80b40ea2', 'Name': 'MySlice', 'Lease Expiration (UTC)': '2022-10-23 17:05:58 +0000', 'Lease Start (UTC)': '2022-10-22 17:05:59 +0000', 'Project ID': '990d8a8b-7e50-4d13-a3be-0f133ffa8653', 'State': 'StableOK'}]\n"
     ]
    }
   ],
   "source": [
    "try: \n",
    "    output_list = fablib.list_slices(output='list')\n",
    "except Exception as e:\n",
    "    print(f\"Exception: {e}\")"
   ]
  },
  {
   "cell_type": "markdown",
   "id": "2c5732cc-fd8f-449b-a5cc-f90cd9150c8f",
   "metadata": {},
   "source": [
    "Use the list and quiet the method."
   ]
  },
  {
   "cell_type": "code",
   "execution_count": 9,
   "id": "50f825cc-2a4b-49e2-93d5-6c07764ecfe8",
   "metadata": {},
   "outputs": [
    {
     "name": "stdout",
     "output_type": "stream",
     "text": [
      "Slice: 00204fd6-f4a8-48d5-80ba-8464c5a9e6bf, MySlice2, StableOK\n",
      "Slice: 00d01f86-6f1b-4d28-9624-29bf80b40ea2, MySlice, StableOK\n"
     ]
    }
   ],
   "source": [
    "try: \n",
    "    output_list = fablib.list_slices(output='list', quiet=True)\n",
    "    \n",
    "    for slice in output_list:\n",
    "        print(f\"Slice: {slice['ID']}, {slice['Name']}, {slice['State']}\")\n",
    "except Exception as e:\n",
    "    print(f\"Exception: {e}\")"
   ]
  },
  {
   "cell_type": "markdown",
   "id": "f7d395fa-ff15-4d1f-b5f3-3c611e4935e1",
   "metadata": {},
   "source": [
    "## Add Colors to Pandas DataFrames\n",
    "\n",
    "The `list_slice` method can return a `pandas.DataFrame`.  You can optionally modify the DataFrame before it is displayed."
   ]
  },
  {
   "cell_type": "code",
   "execution_count": 10,
   "id": "f9110206-b93a-40d3-8263-7cf1a3627e83",
   "metadata": {},
   "outputs": [
    {
     "data": {
      "text/html": [
       "<style type=\"text/css\">\n",
       "#T_da3b4 caption {\n",
       "  text-align: center;\n",
       "  font-size: 150%;\n",
       "  caption-side: top;\n",
       "}\n",
       "#T_da3b4 th {\n",
       "  text-align: left;\n",
       "}\n",
       "#T_da3b4 tr:nth-child(even) {\n",
       "  background: #dbf3ff;\n",
       "  color: #231f20;\n",
       "}\n",
       "#T_da3b4 tr:nth-child(odd) {\n",
       "  background: #ffffff;\n",
       "  color: #231f20;\n",
       "}\n",
       "#T_da3b4 .level0 {\n",
       "  border: 1px black solid !important;\n",
       "}\n",
       "#T_da3b4_row0_col0, #T_da3b4_row0_col1, #T_da3b4_row0_col2, #T_da3b4_row0_col3, #T_da3b4_row0_col4, #T_da3b4_row1_col0, #T_da3b4_row1_col1, #T_da3b4_row1_col2, #T_da3b4_row1_col3, #T_da3b4_row1_col4 {\n",
       "  text-align: left;\n",
       "  border: 1px #231f20 solid !important;\n",
       "  overwrite: False;\n",
       "}\n",
       "#T_da3b4_row0_col5, #T_da3b4_row1_col5 {\n",
       "  text-align: left;\n",
       "  border: 1px #231f20 solid !important;\n",
       "  overwrite: False;\n",
       "  background-color: #c3ffc4;\n",
       "}\n",
       "</style>\n",
       "<table id=\"T_da3b4\">\n",
       "  <caption>Slices</caption>\n",
       "  <thead>\n",
       "    <tr>\n",
       "      <th id=\"T_da3b4_level0_col0\" class=\"col_heading level0 col0\" >ID</th>\n",
       "      <th id=\"T_da3b4_level0_col1\" class=\"col_heading level0 col1\" >Name</th>\n",
       "      <th id=\"T_da3b4_level0_col2\" class=\"col_heading level0 col2\" >Lease Expiration (UTC)</th>\n",
       "      <th id=\"T_da3b4_level0_col3\" class=\"col_heading level0 col3\" >Lease Start (UTC)</th>\n",
       "      <th id=\"T_da3b4_level0_col4\" class=\"col_heading level0 col4\" >Project ID</th>\n",
       "      <th id=\"T_da3b4_level0_col5\" class=\"col_heading level0 col5\" >State</th>\n",
       "    </tr>\n",
       "  </thead>\n",
       "  <tbody>\n",
       "    <tr>\n",
       "      <td id=\"T_da3b4_row0_col0\" class=\"data row0 col0\" >00204fd6-f4a8-48d5-80ba-8464c5a9e6bf</td>\n",
       "      <td id=\"T_da3b4_row0_col1\" class=\"data row0 col1\" >MySlice2</td>\n",
       "      <td id=\"T_da3b4_row0_col2\" class=\"data row0 col2\" >2022-10-23 18:00:48 +0000</td>\n",
       "      <td id=\"T_da3b4_row0_col3\" class=\"data row0 col3\" >2022-10-22 18:00:49 +0000</td>\n",
       "      <td id=\"T_da3b4_row0_col4\" class=\"data row0 col4\" >990d8a8b-7e50-4d13-a3be-0f133ffa8653</td>\n",
       "      <td id=\"T_da3b4_row0_col5\" class=\"data row0 col5\" >StableOK</td>\n",
       "    </tr>\n",
       "    <tr>\n",
       "      <td id=\"T_da3b4_row1_col0\" class=\"data row1 col0\" >00d01f86-6f1b-4d28-9624-29bf80b40ea2</td>\n",
       "      <td id=\"T_da3b4_row1_col1\" class=\"data row1 col1\" >MySlice</td>\n",
       "      <td id=\"T_da3b4_row1_col2\" class=\"data row1 col2\" >2022-10-23 17:05:58 +0000</td>\n",
       "      <td id=\"T_da3b4_row1_col3\" class=\"data row1 col3\" >2022-10-22 17:05:59 +0000</td>\n",
       "      <td id=\"T_da3b4_row1_col4\" class=\"data row1 col4\" >990d8a8b-7e50-4d13-a3be-0f133ffa8653</td>\n",
       "      <td id=\"T_da3b4_row1_col5\" class=\"data row1 col5\" >StableOK</td>\n",
       "    </tr>\n",
       "  </tbody>\n",
       "</table>\n"
      ],
      "text/plain": [
       "<pandas.io.formats.style.Styler at 0x7fd4f4464070>"
      ]
     },
     "metadata": {},
     "output_type": "display_data"
    }
   ],
   "source": [
    "import pandas as pd\n",
    "from IPython.display import clear_output\n",
    "\n",
    "\n",
    "def state_color(val):\n",
    "    if val == 'StableOK':\n",
    "        color = f'{fablib.SUCCESS_LIGHT_COLOR}'\n",
    "    elif val == 'Configuring' or val == 'Modifying' or val == 'ModifyOK':\n",
    "        color = f'{fablib.IN_PROGRESS_LIGHT_COLOR}'\n",
    "    elif val == 'StableError':\n",
    "        color = f'{fablib.ERROR_LIGHT_COLOR}'\n",
    "        \n",
    "    else:\n",
    "        color = ''\n",
    "    return 'background-color: %s' % color\n",
    "\n",
    "\n",
    "clear_output(wait=True)\n",
    "\n",
    "pandas_dataframe = fablib.list_slices(output='pandas', quiet=True)\n",
    "pandas_dataframe = pandas_dataframe.applymap(state_color, subset=pd.IndexSlice[:, ['State']]) \n",
    "\n",
    "display(pandas_dataframe)"
   ]
  },
  {
   "cell_type": "code",
   "execution_count": null,
   "id": "625d22e0-2713-4b02-93ab-996c337627ca",
   "metadata": {},
   "outputs": [],
   "source": []
  }
 ],
 "metadata": {
  "kernelspec": {
   "display_name": "Python 3 (ipykernel)",
   "language": "python",
   "name": "python3"
  },
  "language_info": {
   "codemirror_mode": {
    "name": "ipython",
    "version": 3
   },
   "file_extension": ".py",
   "mimetype": "text/x-python",
   "name": "python",
   "nbconvert_exporter": "python",
   "pygments_lexer": "ipython3",
   "version": "3.9.7"
  }
 },
 "nbformat": 4,
 "nbformat_minor": 5
}
