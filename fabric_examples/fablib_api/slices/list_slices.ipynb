{
 "cells": [
  {
   "cell_type": "markdown",
   "id": "60e3fd3a-d102-4626-9849-755cfdd24948",
   "metadata": {},
   "source": [
    "# List Slices"
   ]
  },
  {
   "cell_type": "markdown",
   "id": "bebf9e49-d901-46ec-94e6-62d4be407a4e",
   "metadata": {},
   "source": [
    "## Import FABlib"
   ]
  },
  {
   "cell_type": "code",
   "execution_count": 3,
   "id": "7e2a3475",
   "metadata": {
    "tags": []
   },
   "outputs": [
    {
     "data": {
      "text/html": [
       "<style type=\"text/css\">\n",
       "#T_d5292 tr:nth-child(even) {\n",
       "  background: #dbf3ff;\n",
       "  color: #231f20;\n",
       "}\n",
       "#T_d5292 tr:nth-child(odd) {\n",
       "  background: #ffffff;\n",
       "  color: #231f20;\n",
       "}\n",
       "#T_d5292 caption {\n",
       "  text-align: center;\n",
       "  font-size: 150%;\n",
       "}\n",
       "#T_d5292_row0_col0, #T_d5292_row0_col1, #T_d5292_row1_col0, #T_d5292_row1_col1, #T_d5292_row2_col0, #T_d5292_row2_col1, #T_d5292_row3_col0, #T_d5292_row3_col1, #T_d5292_row4_col0, #T_d5292_row4_col1, #T_d5292_row5_col0, #T_d5292_row5_col1, #T_d5292_row6_col0, #T_d5292_row6_col1, #T_d5292_row7_col0, #T_d5292_row7_col1, #T_d5292_row8_col0, #T_d5292_row8_col1, #T_d5292_row9_col0, #T_d5292_row9_col1, #T_d5292_row10_col0, #T_d5292_row10_col1, #T_d5292_row11_col0, #T_d5292_row11_col1, #T_d5292_row12_col0, #T_d5292_row12_col1 {\n",
       "  text-align: left;\n",
       "  border: 1px #231f20 solid !important;\n",
       "  overwrite: False;\n",
       "}\n",
       "</style>\n",
       "<table id=\"T_d5292\">\n",
       "  <caption>FABlib Config</caption>\n",
       "  <thead>\n",
       "  </thead>\n",
       "  <tbody>\n",
       "    <tr>\n",
       "      <td id=\"T_d5292_row0_col0\" class=\"data row0 col0\" >Credential Manager</td>\n",
       "      <td id=\"T_d5292_row0_col1\" class=\"data row0 col1\" >cm.fabric-testbed.net</td>\n",
       "    </tr>\n",
       "    <tr>\n",
       "      <td id=\"T_d5292_row1_col0\" class=\"data row1 col0\" >Orchestrator</td>\n",
       "      <td id=\"T_d5292_row1_col1\" class=\"data row1 col1\" >orchestrator.fabric-testbed.net</td>\n",
       "    </tr>\n",
       "    <tr>\n",
       "      <td id=\"T_d5292_row2_col0\" class=\"data row2 col0\" >Token File</td>\n",
       "      <td id=\"T_d5292_row2_col1\" class=\"data row2 col1\" >/home/fabric/work/fabric_config/tokens.json</td>\n",
       "    </tr>\n",
       "    <tr>\n",
       "      <td id=\"T_d5292_row3_col0\" class=\"data row3 col0\" >Project ID</td>\n",
       "      <td id=\"T_d5292_row3_col1\" class=\"data row3 col1\" >990d8a8b-7e50-4d13-a3be-0f133ffa8653</td>\n",
       "    </tr>\n",
       "    <tr>\n",
       "      <td id=\"T_d5292_row4_col0\" class=\"data row4 col0\" >Bastion Username</td>\n",
       "      <td id=\"T_d5292_row4_col1\" class=\"data row4 col1\" >pruth_0031379841</td>\n",
       "    </tr>\n",
       "    <tr>\n",
       "      <td id=\"T_d5292_row5_col0\" class=\"data row5 col0\" >Bastion Private Key File</td>\n",
       "      <td id=\"T_d5292_row5_col1\" class=\"data row5 col1\" >/home/fabric/work/fabric_config/fabric_bastion_key</td>\n",
       "    </tr>\n",
       "    <tr>\n",
       "      <td id=\"T_d5292_row6_col0\" class=\"data row6 col0\" >Bastion Host</td>\n",
       "      <td id=\"T_d5292_row6_col1\" class=\"data row6 col1\" >bastion.fabric-testbed.net</td>\n",
       "    </tr>\n",
       "    <tr>\n",
       "      <td id=\"T_d5292_row7_col0\" class=\"data row7 col0\" >Bastion Private Key Passphrase</td>\n",
       "      <td id=\"T_d5292_row7_col1\" class=\"data row7 col1\" >None</td>\n",
       "    </tr>\n",
       "    <tr>\n",
       "      <td id=\"T_d5292_row8_col0\" class=\"data row8 col0\" >Slice Public Key File</td>\n",
       "      <td id=\"T_d5292_row8_col1\" class=\"data row8 col1\" >/home/fabric/work/fabric_config/slice_key.pub</td>\n",
       "    </tr>\n",
       "    <tr>\n",
       "      <td id=\"T_d5292_row9_col0\" class=\"data row9 col0\" >Slice Private Key File</td>\n",
       "      <td id=\"T_d5292_row9_col1\" class=\"data row9 col1\" >/home/fabric/work/fabric_config/slice_key</td>\n",
       "    </tr>\n",
       "    <tr>\n",
       "      <td id=\"T_d5292_row10_col0\" class=\"data row10 col0\" >Slice Private Key Passphrase</td>\n",
       "      <td id=\"T_d5292_row10_col1\" class=\"data row10 col1\" >None</td>\n",
       "    </tr>\n",
       "    <tr>\n",
       "      <td id=\"T_d5292_row11_col0\" class=\"data row11 col0\" >Log File</td>\n",
       "      <td id=\"T_d5292_row11_col1\" class=\"data row11 col1\" >/home/fabric/work/logs/fablib.log</td>\n",
       "    </tr>\n",
       "    <tr>\n",
       "      <td id=\"T_d5292_row12_col0\" class=\"data row12 col0\" >Log Level</td>\n",
       "      <td id=\"T_d5292_row12_col1\" class=\"data row12 col1\" >DEBUG</td>\n",
       "    </tr>\n",
       "  </tbody>\n",
       "</table>\n"
      ],
      "text/plain": [
       "<pandas.io.formats.style.Styler at 0x7f2ae8160e80>"
      ]
     },
     "metadata": {},
     "output_type": "display_data"
    }
   ],
   "source": [
    "from fabrictestbed_extensions.fablib.fablib import FablibManager as fablib_manager\n",
    "\n",
    "fablib = fablib_manager()\n",
    "                     \n",
    "fablib.show_config();"
   ]
  },
  {
   "cell_type": "markdown",
   "id": "f65b0dfe-f435-442b-bec8-cc5f5f4e35c0",
   "metadata": {},
   "source": [
    "## List Slices"
   ]
  },
  {
   "cell_type": "markdown",
   "id": "2ff0ef2c-6e31-48a1-88df-656bfb7f1e9f",
   "metadata": {
    "tags": []
   },
   "source": [
    "You can get a current slice using its name. Names of current slices are unique. However, you can reuse slice names of deleted or failed slices.   If you want to get a deleted or failed slice you cannot use its name because it is not guaranteed to be unique.  \n"
   ]
  },
  {
   "cell_type": "code",
   "execution_count": 4,
   "id": "e73a0c8a-8c56-4f06-ab2a-5a661963cc38",
   "metadata": {},
   "outputs": [
    {
     "data": {
      "text/html": [
       "<style type=\"text/css\">\n",
       "#T_098ac caption {\n",
       "  text-align: center;\n",
       "  font-size: 150%;\n",
       "  caption-side: top;\n",
       "}\n",
       "#T_098ac th {\n",
       "  text-align: left;\n",
       "}\n",
       "#T_098ac tr:nth-child(even) {\n",
       "  background: #ffffff;\n",
       "  color: #231f20;\n",
       "}\n",
       "#T_098ac tr:nth-child(odd) {\n",
       "  background: #dbf3ff;\n",
       "  color: #231f20;\n",
       "}\n",
       "#T_098ac .level0 {\n",
       "  border: 1px black solid !important;\n",
       "  background: #ffffff;\n",
       "  color: #231f20;\n",
       "}\n",
       "#T_098ac_row0_col0, #T_098ac_row0_col1, #T_098ac_row0_col2, #T_098ac_row0_col3, #T_098ac_row0_col4, #T_098ac_row0_col5, #T_098ac_row1_col0, #T_098ac_row1_col1, #T_098ac_row1_col2, #T_098ac_row1_col3, #T_098ac_row1_col4, #T_098ac_row1_col5, #T_098ac_row2_col0, #T_098ac_row2_col1, #T_098ac_row2_col2, #T_098ac_row2_col3, #T_098ac_row2_col4, #T_098ac_row2_col5, #T_098ac_row3_col0, #T_098ac_row3_col1, #T_098ac_row3_col2, #T_098ac_row3_col3, #T_098ac_row3_col4, #T_098ac_row3_col5 {\n",
       "  text-align: left;\n",
       "  border: 1px #231f20 solid !important;\n",
       "  overwrite: False;\n",
       "}\n",
       "</style>\n",
       "<table id=\"T_098ac\">\n",
       "  <caption>Slices</caption>\n",
       "  <thead>\n",
       "    <tr>\n",
       "      <th id=\"T_098ac_level0_col0\" class=\"col_heading level0 col0\" >ID</th>\n",
       "      <th id=\"T_098ac_level0_col1\" class=\"col_heading level0 col1\" >Name</th>\n",
       "      <th id=\"T_098ac_level0_col2\" class=\"col_heading level0 col2\" >Lease Expiration (UTC)</th>\n",
       "      <th id=\"T_098ac_level0_col3\" class=\"col_heading level0 col3\" >Lease Start (UTC)</th>\n",
       "      <th id=\"T_098ac_level0_col4\" class=\"col_heading level0 col4\" >Project ID</th>\n",
       "      <th id=\"T_098ac_level0_col5\" class=\"col_heading level0 col5\" >State</th>\n",
       "    </tr>\n",
       "  </thead>\n",
       "  <tbody>\n",
       "    <tr>\n",
       "      <td id=\"T_098ac_row0_col0\" class=\"data row0 col0\" >2a84a24d-f5f2-495d-87bf-25fb8a6dfbea</td>\n",
       "      <td id=\"T_098ac_row0_col1\" class=\"data row0 col1\" >MySlice_PersistentStorageService</td>\n",
       "      <td id=\"T_098ac_row0_col2\" class=\"data row0 col2\" >2023-03-10 08:05:00 +0000</td>\n",
       "      <td id=\"T_098ac_row0_col3\" class=\"data row0 col3\" >2023-02-26 16:27:41 +0000</td>\n",
       "      <td id=\"T_098ac_row0_col4\" class=\"data row0 col4\" >990d8a8b-7e50-4d13-a3be-0f133ffa8653</td>\n",
       "      <td id=\"T_098ac_row0_col5\" class=\"data row0 col5\" >StableOK</td>\n",
       "    </tr>\n",
       "    <tr>\n",
       "      <td id=\"T_098ac_row1_col0\" class=\"data row1 col0\" >d71c15ff-ed29-4d6f-908c-48a2b7f0346a</td>\n",
       "      <td id=\"T_098ac_row1_col1\" class=\"data row1 col1\" >frrouting</td>\n",
       "      <td id=\"T_098ac_row1_col2\" class=\"data row1 col2\" >2023-03-06 21:39:20 +0000</td>\n",
       "      <td id=\"T_098ac_row1_col3\" class=\"data row1 col3\" >2023-03-05 21:39:22 +0000</td>\n",
       "      <td id=\"T_098ac_row1_col4\" class=\"data row1 col4\" >990d8a8b-7e50-4d13-a3be-0f133ffa8653</td>\n",
       "      <td id=\"T_098ac_row1_col5\" class=\"data row1 col5\" >StableError</td>\n",
       "    </tr>\n",
       "    <tr>\n",
       "      <td id=\"T_098ac_row2_col0\" class=\"data row2 col0\" >d2853ae3-f7fc-4370-bfa7-12b52e88a1f0</td>\n",
       "      <td id=\"T_098ac_row2_col1\" class=\"data row2 col1\" >BootScripts7</td>\n",
       "      <td id=\"T_098ac_row2_col2\" class=\"data row2 col2\" >2023-03-06 18:19:32 +0000</td>\n",
       "      <td id=\"T_098ac_row2_col3\" class=\"data row2 col3\" >2023-03-05 18:19:33 +0000</td>\n",
       "      <td id=\"T_098ac_row2_col4\" class=\"data row2 col4\" >990d8a8b-7e50-4d13-a3be-0f133ffa8653</td>\n",
       "      <td id=\"T_098ac_row2_col5\" class=\"data row2 col5\" >StableOK</td>\n",
       "    </tr>\n",
       "    <tr>\n",
       "      <td id=\"T_098ac_row3_col0\" class=\"data row3 col0\" >89f3a6b0-b74d-48de-bb01-bd656ad23250</td>\n",
       "      <td id=\"T_098ac_row3_col1\" class=\"data row3 col1\" >BootScripts6</td>\n",
       "      <td id=\"T_098ac_row3_col2\" class=\"data row3 col2\" >2023-03-05 22:13:51 +0000</td>\n",
       "      <td id=\"T_098ac_row3_col3\" class=\"data row3 col3\" >2023-03-04 22:13:51 +0000</td>\n",
       "      <td id=\"T_098ac_row3_col4\" class=\"data row3 col4\" >990d8a8b-7e50-4d13-a3be-0f133ffa8653</td>\n",
       "      <td id=\"T_098ac_row3_col5\" class=\"data row3 col5\" >StableOK</td>\n",
       "    </tr>\n",
       "  </tbody>\n",
       "</table>\n"
      ],
      "text/plain": [
       "<pandas.io.formats.style.Styler at 0x7f2b385bbf40>"
      ]
     },
     "metadata": {},
     "output_type": "display_data"
    }
   ],
   "source": [
    "fablib.list_slices();"
   ]
  },
  {
   "cell_type": "markdown",
   "id": "c3674bff-9700-4672-8860-04069f31592c",
   "metadata": {},
   "source": [
    "## Select Fields"
   ]
  },
  {
   "cell_type": "code",
   "execution_count": null,
   "id": "b1ad42b6-13db-46f4-ae90-11b6afcd921c",
   "metadata": {},
   "outputs": [],
   "source": [
    "fablib.list_slices(fields=['name','state']);"
   ]
  },
  {
   "cell_type": "markdown",
   "id": "0e7c8469-44be-4152-995e-b0b4f2fbbd8b",
   "metadata": {},
   "source": [
    "## Filter by Values"
   ]
  },
  {
   "cell_type": "code",
   "execution_count": null,
   "id": "a83a31fb-e2c6-4139-98ee-5f1783672b2f",
   "metadata": {},
   "outputs": [],
   "source": [
    "fablib.list_slices(filter_function=lambda x: x['state'] == 'StableOK' );"
   ]
  },
  {
   "cell_type": "markdown",
   "id": "b46cebd1-ac8f-4437-825f-0903351a0803",
   "metadata": {},
   "source": [
    "## Output as Pandas DataFrame"
   ]
  },
  {
   "cell_type": "code",
   "execution_count": null,
   "id": "7d889c1f-37f2-42aa-b20b-05be462eec50",
   "metadata": {},
   "outputs": [],
   "source": [
    "output_dataframe = fablib.list_slices(output='pandas')"
   ]
  },
  {
   "cell_type": "markdown",
   "id": "ee5b9d12-704d-4c0d-96d6-3444409a9a27",
   "metadata": {},
   "source": [
    "## Output as Tabular Text"
   ]
  },
  {
   "cell_type": "code",
   "execution_count": null,
   "id": "635cd8d8-671a-46fb-83c6-926413721163",
   "metadata": {},
   "outputs": [],
   "source": [
    "output_table_string = fablib.list_slices(output='text')"
   ]
  },
  {
   "cell_type": "markdown",
   "id": "079b7a7e-889a-4f76-bf3d-249b28f327d4",
   "metadata": {},
   "source": [
    "## Output as JSON"
   ]
  },
  {
   "cell_type": "code",
   "execution_count": null,
   "id": "2ca72f64-bdbf-42ad-ab6b-036d78b8717e",
   "metadata": {},
   "outputs": [],
   "source": [
    "output_json = fablib.list_slices(output='json')"
   ]
  },
  {
   "cell_type": "markdown",
   "id": "976f89fa-a713-4e44-9b2b-bae2b759cc77",
   "metadata": {},
   "source": [
    "## Output as Python List[Dict]"
   ]
  },
  {
   "cell_type": "code",
   "execution_count": null,
   "id": "23a15a14-cf05-41de-b674-3a40a991ba95",
   "metadata": {},
   "outputs": [],
   "source": [
    "output_list = fablib.list_slices(output='list');"
   ]
  },
  {
   "cell_type": "markdown",
   "id": "2c5732cc-fd8f-449b-a5cc-f90cd9150c8f",
   "metadata": {},
   "source": [
    "Use the list and quiet the method."
   ]
  },
  {
   "cell_type": "code",
   "execution_count": null,
   "id": "50f825cc-2a4b-49e2-93d5-6c07764ecfe8",
   "metadata": {
    "tags": []
   },
   "outputs": [],
   "source": [
    "output_list = fablib.list_slices(output='list', quiet=True)\n",
    "    \n",
    "for slice in output_list:\n",
    "    print(f\"Slice: {slice['id']}, {slice['name']}, {slice['state']}\")"
   ]
  },
  {
   "cell_type": "markdown",
   "id": "f7d395fa-ff15-4d1f-b5f3-3c611e4935e1",
   "metadata": {},
   "source": [
    "## Add Colors to Pandas DataFrames\n",
    "\n",
    "The `list_slice` method can return a `pandas.DataFrame`.  You can optionally modify the DataFrame before it is displayed.\n",
    "\n",
    "Note: this will raise an exception if you currently have no slices."
   ]
  },
  {
   "cell_type": "code",
   "execution_count": null,
   "id": "f9110206-b93a-40d3-8263-7cf1a3627e83",
   "metadata": {},
   "outputs": [],
   "source": [
    "import pandas as pd\n",
    "from IPython.display import clear_output\n",
    "\n",
    "\n",
    "def state_color(val):\n",
    "    if val == 'StableOK':\n",
    "        color = f'{fablib.SUCCESS_LIGHT_COLOR}'\n",
    "    elif val == 'Configuring' or val == 'Modifying' or val == 'ModifyOK':\n",
    "        color = f'{fablib.IN_PROGRESS_LIGHT_COLOR}'\n",
    "    elif val == 'StableError':\n",
    "        color = f'{fablib.ERROR_LIGHT_COLOR}'\n",
    "        \n",
    "    else:\n",
    "        color = ''\n",
    "    return 'background-color: %s' % color\n",
    "\n",
    "\n",
    "clear_output(wait=True)\n",
    "\n",
    "\n",
    "pandas_dataframe = fablib.list_slices(output='pandas', quiet=True)\n",
    "pandas_dataframe = pandas_dataframe.applymap(state_color, subset=pd.IndexSlice[:, ['State']]) \n",
    "    \n",
    "display(pandas_dataframe)"
   ]
  },
  {
   "cell_type": "code",
   "execution_count": null,
   "id": "625d22e0-2713-4b02-93ab-996c337627ca",
   "metadata": {},
   "outputs": [],
   "source": []
  }
 ],
 "metadata": {
  "kernelspec": {
   "display_name": "Python 3 (ipykernel)",
   "language": "python",
   "name": "python3"
  },
  "language_info": {
   "codemirror_mode": {
    "name": "ipython",
    "version": 3
   },
   "file_extension": ".py",
   "mimetype": "text/x-python",
   "name": "python",
   "nbconvert_exporter": "python",
   "pygments_lexer": "ipython3",
   "version": "3.9.13"
  }
 },
 "nbformat": 4,
 "nbformat_minor": 5
}
