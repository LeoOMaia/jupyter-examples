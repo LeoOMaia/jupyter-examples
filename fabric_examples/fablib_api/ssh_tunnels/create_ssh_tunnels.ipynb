{
 "cells": [
  {
   "cell_type": "markdown",
   "metadata": {
    "tags": []
   },
   "source": [
    "# Create SSH Tunnels\n",
    "\n",
    " "
   ]
  },
  {
   "cell_type": "markdown",
   "metadata": {
    "tags": []
   },
   "source": [
    "## Import the FABlib Library"
   ]
  },
  {
   "cell_type": "code",
   "execution_count": 1,
   "metadata": {
    "tags": []
   },
   "outputs": [],
   "source": [
    "from fabrictestbed_extensions.fablib.fablib import FablibManager as fablib_manager\n",
    "\n",
    "fablib = fablib_manager()"
   ]
  },
  {
   "cell_type": "markdown",
   "metadata": {
    "tags": []
   },
   "source": [
    "## Create the Experiment Slice\n",
    "\n"
   ]
  },
  {
   "cell_type": "code",
   "execution_count": 2,
   "metadata": {
    "tags": []
   },
   "outputs": [
    {
     "name": "stdout",
     "output_type": "stream",
     "text": [
      "\n",
      "Retry: 7, Time: 182 sec\n"
     ]
    },
    {
     "data": {
      "text/html": [
       "<style type=\"text/css\">\n",
       "#T_83275 tr:nth-child(even) {\n",
       "  background: #dbf3ff;\n",
       "  color: #231f20;\n",
       "}\n",
       "#T_83275 tr:nth-child(odd) {\n",
       "  background: #ffffff;\n",
       "  color: #231f20;\n",
       "}\n",
       "#T_83275 caption {\n",
       "  text-align: center;\n",
       "  font-size: 150%;\n",
       "}\n",
       "#T_83275_row0_col0, #T_83275_row0_col1, #T_83275_row1_col0, #T_83275_row1_col1, #T_83275_row2_col0, #T_83275_row2_col1, #T_83275_row3_col0, #T_83275_row3_col1, #T_83275_row4_col0, #T_83275_row4_col1, #T_83275_row5_col0 {\n",
       "  text-align: left;\n",
       "  border: 1px #231f20 solid !important;\n",
       "  overwrite: False;\n",
       "  background-color: ;\n",
       "}\n",
       "#T_83275_row5_col1 {\n",
       "  text-align: left;\n",
       "  border: 1px #231f20 solid !important;\n",
       "  overwrite: False;\n",
       "  background-color: #c3ffc4;\n",
       "}\n",
       "</style>\n",
       "<table id=\"T_83275\">\n",
       "  <caption>Slice</caption>\n",
       "  <thead>\n",
       "  </thead>\n",
       "  <tbody>\n",
       "    <tr>\n",
       "      <td id=\"T_83275_row0_col0\" class=\"data row0 col0\" >ID</td>\n",
       "      <td id=\"T_83275_row0_col1\" class=\"data row0 col1\" >a6045c67-327d-43d3-8d48-fc84adfbbbe8</td>\n",
       "    </tr>\n",
       "    <tr>\n",
       "      <td id=\"T_83275_row1_col0\" class=\"data row1 col0\" >Name</td>\n",
       "      <td id=\"T_83275_row1_col1\" class=\"data row1 col1\" >MySlice10</td>\n",
       "    </tr>\n",
       "    <tr>\n",
       "      <td id=\"T_83275_row2_col0\" class=\"data row2 col0\" >Lease Expiration (UTC)</td>\n",
       "      <td id=\"T_83275_row2_col1\" class=\"data row2 col1\" >2023-04-20 16:44:32 +0000</td>\n",
       "    </tr>\n",
       "    <tr>\n",
       "      <td id=\"T_83275_row3_col0\" class=\"data row3 col0\" >Lease Start (UTC)</td>\n",
       "      <td id=\"T_83275_row3_col1\" class=\"data row3 col1\" >2023-04-19 16:44:33 +0000</td>\n",
       "    </tr>\n",
       "    <tr>\n",
       "      <td id=\"T_83275_row4_col0\" class=\"data row4 col0\" >Project ID</td>\n",
       "      <td id=\"T_83275_row4_col1\" class=\"data row4 col1\" >990d8a8b-7e50-4d13-a3be-0f133ffa8653</td>\n",
       "    </tr>\n",
       "    <tr>\n",
       "      <td id=\"T_83275_row5_col0\" class=\"data row5 col0\" >State</td>\n",
       "      <td id=\"T_83275_row5_col1\" class=\"data row5 col1\" >StableOK</td>\n",
       "    </tr>\n",
       "  </tbody>\n",
       "</table>\n"
      ],
      "text/plain": [
       "<pandas.io.formats.style.Styler at 0x7f88b80c4cd0>"
      ]
     },
     "metadata": {},
     "output_type": "display_data"
    },
    {
     "data": {
      "text/html": [
       "<style type=\"text/css\">\n",
       "#T_e946c caption {\n",
       "  text-align: center;\n",
       "  font-size: 150%;\n",
       "  caption-side: top;\n",
       "}\n",
       "#T_e946c th {\n",
       "  text-align: left;\n",
       "}\n",
       "#T_e946c tr:nth-child(even) {\n",
       "  background: #ffffff;\n",
       "  color: #231f20;\n",
       "}\n",
       "#T_e946c tr:nth-child(odd) {\n",
       "  background: #dbf3ff;\n",
       "  color: #231f20;\n",
       "}\n",
       "#T_e946c .level0 {\n",
       "  border: 1px black solid !important;\n",
       "  background: #ffffff;\n",
       "  color: #231f20;\n",
       "}\n",
       "#T_e946c_row0_col0, #T_e946c_row0_col1, #T_e946c_row0_col2, #T_e946c_row0_col3, #T_e946c_row0_col4, #T_e946c_row0_col5, #T_e946c_row0_col6, #T_e946c_row0_col7, #T_e946c_row0_col8, #T_e946c_row0_col9, #T_e946c_row0_col10, #T_e946c_row0_col13, #T_e946c_row0_col14, #T_e946c_row0_col15 {\n",
       "  text-align: left;\n",
       "  border: 1px #231f20 solid !important;\n",
       "  overwrite: False;\n",
       "}\n",
       "#T_e946c_row0_col11 {\n",
       "  text-align: left;\n",
       "  border: 1px #231f20 solid !important;\n",
       "  overwrite: False;\n",
       "  background-color: #c3ffc4;\n",
       "}\n",
       "#T_e946c_row0_col12 {\n",
       "  text-align: left;\n",
       "  border: 1px #231f20 solid !important;\n",
       "  overwrite: False;\n",
       "  background-color: ;\n",
       "}\n",
       "</style>\n",
       "<table id=\"T_e946c\">\n",
       "  <caption>Nodes</caption>\n",
       "  <thead>\n",
       "    <tr>\n",
       "      <th id=\"T_e946c_level0_col0\" class=\"col_heading level0 col0\" >ID</th>\n",
       "      <th id=\"T_e946c_level0_col1\" class=\"col_heading level0 col1\" >Name</th>\n",
       "      <th id=\"T_e946c_level0_col2\" class=\"col_heading level0 col2\" >Cores</th>\n",
       "      <th id=\"T_e946c_level0_col3\" class=\"col_heading level0 col3\" >RAM</th>\n",
       "      <th id=\"T_e946c_level0_col4\" class=\"col_heading level0 col4\" >Disk</th>\n",
       "      <th id=\"T_e946c_level0_col5\" class=\"col_heading level0 col5\" >Image</th>\n",
       "      <th id=\"T_e946c_level0_col6\" class=\"col_heading level0 col6\" >Image Type</th>\n",
       "      <th id=\"T_e946c_level0_col7\" class=\"col_heading level0 col7\" >Host</th>\n",
       "      <th id=\"T_e946c_level0_col8\" class=\"col_heading level0 col8\" >Site</th>\n",
       "      <th id=\"T_e946c_level0_col9\" class=\"col_heading level0 col9\" >Username</th>\n",
       "      <th id=\"T_e946c_level0_col10\" class=\"col_heading level0 col10\" >Management IP</th>\n",
       "      <th id=\"T_e946c_level0_col11\" class=\"col_heading level0 col11\" >State</th>\n",
       "      <th id=\"T_e946c_level0_col12\" class=\"col_heading level0 col12\" >Error</th>\n",
       "      <th id=\"T_e946c_level0_col13\" class=\"col_heading level0 col13\" >SSH Command</th>\n",
       "      <th id=\"T_e946c_level0_col14\" class=\"col_heading level0 col14\" >Public SSH Key File</th>\n",
       "      <th id=\"T_e946c_level0_col15\" class=\"col_heading level0 col15\" >Private SSH Key File</th>\n",
       "    </tr>\n",
       "  </thead>\n",
       "  <tbody>\n",
       "    <tr>\n",
       "      <td id=\"T_e946c_row0_col0\" class=\"data row0 col0\" >79092057-a250-44f0-9398-003558307ade</td>\n",
       "      <td id=\"T_e946c_row0_col1\" class=\"data row0 col1\" >Node1</td>\n",
       "      <td id=\"T_e946c_row0_col2\" class=\"data row0 col2\" >2</td>\n",
       "      <td id=\"T_e946c_row0_col3\" class=\"data row0 col3\" >8</td>\n",
       "      <td id=\"T_e946c_row0_col4\" class=\"data row0 col4\" >100</td>\n",
       "      <td id=\"T_e946c_row0_col5\" class=\"data row0 col5\" >docker_rocky_8</td>\n",
       "      <td id=\"T_e946c_row0_col6\" class=\"data row0 col6\" >qcow2</td>\n",
       "      <td id=\"T_e946c_row0_col7\" class=\"data row0 col7\" >ncsa-w3.fabric-testbed.net</td>\n",
       "      <td id=\"T_e946c_row0_col8\" class=\"data row0 col8\" >NCSA</td>\n",
       "      <td id=\"T_e946c_row0_col9\" class=\"data row0 col9\" >rocky</td>\n",
       "      <td id=\"T_e946c_row0_col10\" class=\"data row0 col10\" >2620:0:c80:1001:f816:3eff:fed9:f2d8</td>\n",
       "      <td id=\"T_e946c_row0_col11\" class=\"data row0 col11\" >Active</td>\n",
       "      <td id=\"T_e946c_row0_col12\" class=\"data row0 col12\" ></td>\n",
       "      <td id=\"T_e946c_row0_col13\" class=\"data row0 col13\" >ssh -i /home/fabric/work/fabric_config/slice_key -F /home/fabric/work/fabric_config/ssh_config rocky@2620:0:c80:1001:f816:3eff:fed9:f2d8</td>\n",
       "      <td id=\"T_e946c_row0_col14\" class=\"data row0 col14\" >/home/fabric/work/fabric_config/slice_key.pub</td>\n",
       "      <td id=\"T_e946c_row0_col15\" class=\"data row0 col15\" >/home/fabric/work/fabric_config/slice_key</td>\n",
       "    </tr>\n",
       "  </tbody>\n",
       "</table>\n"
      ],
      "text/plain": [
       "<pandas.io.formats.style.Styler at 0x7f8874498190>"
      ]
     },
     "metadata": {},
     "output_type": "display_data"
    }
   ],
   "source": [
    "# Create a slice\n",
    "slice = fablib.new_slice(name=\"MySlice10\")\n",
    "\n",
    "# Add a node\n",
    "node = slice.add_node(name=\"Node1\", disk=100, image='docker_rocky_8')\n",
    "\n",
    "node.add_post_boot_upload_directory('node_tools','.')\n",
    "node.add_post_boot_execute('node_tools/enable_docker.sh {{ _self_.image }}')\n",
    "\n",
    "\n",
    "# Submit the slice\n",
    "slice.submit();"
   ]
  },
  {
   "cell_type": "markdown",
   "metadata": {
    "tags": []
   },
   "source": [
    "## Run a Web Service on the Node \n",
    "\n",
    "Many FABRIC users want an easy way to transfer files to/from their FABRIC nodes.  [File Browser](https://filebrowser.org/) is a self-hosted webservice for transfering files.\n",
    "\n",
    "The following cell will start a Docker container on you node that serves the File Browser webservice on port 5555.  \n",
    "\n",
    "After running this cell, you can use a browser to connect the File Brower and transfer files to/from the node. However, the node is securely protected by the FABRIC's bastion host.  "
   ]
  },
  {
   "cell_type": "code",
   "execution_count": null,
   "metadata": {
    "tags": []
   },
   "outputs": [],
   "source": [
    "node = slice.get_node('Node1')\n",
    "\n",
    "node.execute(\"docker run -d \"\n",
    "                \"--name filebrowser \"\n",
    "                \"-p 127.0.0.1:5555:5555 \"\n",
    "                f\"-v /home/{node.get_username()}/data:/data \"\n",
    "                \"-e FB_BASEURL=/filebrowser \"\n",
    "                \"-e FB_ROOT=/data \"\n",
    "                \"-e FB_PORT=5555 \"\n",
    "                \"-e FB_NOAUTH=noauth \"\n",
    "                \"filebrowser/filebrowser \"\n",
    "                , quiet=True, output_file=f\"{node.get_name()}.log\");\n"
   ]
  },
  {
   "cell_type": "markdown",
   "metadata": {},
   "source": [
    "## Start the SSH Tunnel\n",
    "\n",
    "- Download your custom `fabric_ssh_tunnel_tools.tgz` tarball from the main jupyter-examples folder OR the fabric_config folder.  This tarball was created when you ran the configure environment notebook. Rerun the configure environment notebook if you do not have fabric_ssh_tunnel_toold.tgz \n",
    "- Untar the tarball and put the resulting folder (`fabric_ssh_tunnel_tools`) somewhere you can access it from the command line.\n",
    "- Open a terminal window. (Windows: use `powershell`) \n",
    "- Use `cd` to navigate to the `fabric_ssh_tunnel_tools` folder.\n",
    "- In your terminal, run the command that results from running the following cell (leave the terminal window open)."
   ]
  },
  {
   "cell_type": "code",
   "execution_count": null,
   "metadata": {
    "tags": []
   },
   "outputs": [],
   "source": [
    "# Port on your local machine that you want to map the File Browser to.\n",
    "local_port='5555'\n",
    "# Local interface to map the File Browser to (can be `localhost`)\n",
    "local_host='127.0.0.1'\n",
    "\n",
    "# Port on the node used by the File Browser Service\n",
    "target_port='5555'\n",
    "\n",
    "# Username/node on FABRIC\n",
    "target_host=f'{node.get_username()}@{node.get_management_ip()}'\n",
    "\n",
    "print(f'ssh  -L {local_host}:{local_port}:127.0.0.1:{target_port} -i slice_key -F ssh_config {target_host}')"
   ]
  },
  {
   "cell_type": "markdown",
   "metadata": {},
   "source": [
    "## Connect to the File Browser\n",
    "\n",
    "The File Browser service on the node is now mapped to 127.0.0.1:5555 on your local machine. You can open a browser and navigate to the following address (or just click the link): \n",
    "\n",
    "[http://127.0.0.1:5555](http://127.0.0.1:5555)\n",
    "\n",
    "The default login/password is admin/admin. If you want to use File Browser in your FABRIC experiments, please pick better passwords.\n",
    "\n",
    "You can now drag/drop files from your laptop to the FABRIC node. By default, the files will be stored in `~/data`.  \n",
    "\n",
    "SSH to the node and observe the files you put there."
   ]
  },
  {
   "cell_type": "markdown",
   "metadata": {
    "tags": []
   },
   "source": [
    "## Delete the Slice\n",
    "\n",
    "Please delete your slice when you are done with your experiment."
   ]
  },
  {
   "cell_type": "code",
   "execution_count": null,
   "metadata": {
    "tags": []
   },
   "outputs": [],
   "source": [
    "slice.delete()"
   ]
  },
  {
   "cell_type": "code",
   "execution_count": null,
   "metadata": {},
   "outputs": [],
   "source": []
  }
 ],
 "metadata": {
  "kernelspec": {
   "display_name": "Python 3 (ipykernel)",
   "language": "python",
   "name": "python3"
  },
  "language_info": {
   "codemirror_mode": {
    "name": "ipython",
    "version": 3
   },
   "file_extension": ".py",
   "mimetype": "text/x-python",
   "name": "python",
   "nbconvert_exporter": "python",
   "pygments_lexer": "ipython3",
   "version": "3.9.13"
  }
 },
 "nbformat": 4,
 "nbformat_minor": 4
}
