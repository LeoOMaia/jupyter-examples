{
 "cells": [
  {
   "cell_type": "markdown",
   "metadata": {
    "tags": []
   },
   "source": [
    "# Create SSH Tunnels\n",
    "\n",
    " "
   ]
  },
  {
   "cell_type": "markdown",
   "metadata": {
    "tags": []
   },
   "source": [
    "## Import the FABlib Library"
   ]
  },
  {
   "cell_type": "code",
   "execution_count": 1,
   "metadata": {
    "tags": []
   },
   "outputs": [],
   "source": [
    "from fabrictestbed_extensions.fablib.fablib import FablibManager as fablib_manager\n",
    "\n",
    "fablib = fablib_manager()"
   ]
  },
  {
   "cell_type": "markdown",
   "metadata": {
    "tags": []
   },
   "source": [
    "## Create the Experiment Slice\n",
    "\n"
   ]
  },
  {
   "cell_type": "code",
   "execution_count": 2,
   "metadata": {
    "tags": []
   },
   "outputs": [
    {
     "name": "stdout",
     "output_type": "stream",
     "text": [
      "\n",
      "Retry: 6, Time: 491 sec\n"
     ]
    },
    {
     "data": {
      "text/html": [
       "<style type=\"text/css\">\n",
       "#T_5c36e tr:nth-child(even) {\n",
       "  background: #dbf3ff;\n",
       "  color: #231f20;\n",
       "}\n",
       "#T_5c36e tr:nth-child(odd) {\n",
       "  background: #ffffff;\n",
       "  color: #231f20;\n",
       "}\n",
       "#T_5c36e caption {\n",
       "  text-align: center;\n",
       "  font-size: 150%;\n",
       "}\n",
       "#T_5c36e_row0_col0, #T_5c36e_row0_col1, #T_5c36e_row1_col0, #T_5c36e_row1_col1, #T_5c36e_row2_col0, #T_5c36e_row2_col1, #T_5c36e_row3_col0, #T_5c36e_row3_col1, #T_5c36e_row4_col0, #T_5c36e_row4_col1, #T_5c36e_row5_col0 {\n",
       "  text-align: left;\n",
       "  border: 1px #231f20 solid !important;\n",
       "  overwrite: False;\n",
       "  background-color: ;\n",
       "}\n",
       "#T_5c36e_row5_col1 {\n",
       "  text-align: left;\n",
       "  border: 1px #231f20 solid !important;\n",
       "  overwrite: False;\n",
       "  background-color: #c3ffc4;\n",
       "}\n",
       "</style>\n",
       "<table id=\"T_5c36e\">\n",
       "  <caption>Slice</caption>\n",
       "  <thead>\n",
       "  </thead>\n",
       "  <tbody>\n",
       "    <tr>\n",
       "      <td id=\"T_5c36e_row0_col0\" class=\"data row0 col0\" >ID</td>\n",
       "      <td id=\"T_5c36e_row0_col1\" class=\"data row0 col1\" >6fcf14ba-7f0c-4de2-90f0-c5725acd5812</td>\n",
       "    </tr>\n",
       "    <tr>\n",
       "      <td id=\"T_5c36e_row1_col0\" class=\"data row1 col0\" >Name</td>\n",
       "      <td id=\"T_5c36e_row1_col1\" class=\"data row1 col1\" >MySlice</td>\n",
       "    </tr>\n",
       "    <tr>\n",
       "      <td id=\"T_5c36e_row2_col0\" class=\"data row2 col0\" >Lease Expiration (UTC)</td>\n",
       "      <td id=\"T_5c36e_row2_col1\" class=\"data row2 col1\" >2023-03-02 22:16:53 +0000</td>\n",
       "    </tr>\n",
       "    <tr>\n",
       "      <td id=\"T_5c36e_row3_col0\" class=\"data row3 col0\" >Lease Start (UTC)</td>\n",
       "      <td id=\"T_5c36e_row3_col1\" class=\"data row3 col1\" >2023-03-01 22:16:54 +0000</td>\n",
       "    </tr>\n",
       "    <tr>\n",
       "      <td id=\"T_5c36e_row4_col0\" class=\"data row4 col0\" >Project ID</td>\n",
       "      <td id=\"T_5c36e_row4_col1\" class=\"data row4 col1\" >990d8a8b-7e50-4d13-a3be-0f133ffa8653</td>\n",
       "    </tr>\n",
       "    <tr>\n",
       "      <td id=\"T_5c36e_row5_col0\" class=\"data row5 col0\" >State</td>\n",
       "      <td id=\"T_5c36e_row5_col1\" class=\"data row5 col1\" >StableOK</td>\n",
       "    </tr>\n",
       "  </tbody>\n",
       "</table>\n"
      ],
      "text/plain": [
       "<pandas.io.formats.style.Styler at 0x7fd34c2dca30>"
      ]
     },
     "metadata": {},
     "output_type": "display_data"
    },
    {
     "data": {
      "text/html": [
       "<style type=\"text/css\">\n",
       "#T_440bf caption {\n",
       "  text-align: center;\n",
       "  font-size: 150%;\n",
       "  caption-side: top;\n",
       "}\n",
       "#T_440bf th {\n",
       "  text-align: left;\n",
       "}\n",
       "#T_440bf tr:nth-child(even) {\n",
       "  background: #ffffff;\n",
       "  color: #231f20;\n",
       "}\n",
       "#T_440bf tr:nth-child(odd) {\n",
       "  background: #dbf3ff;\n",
       "  color: #231f20;\n",
       "}\n",
       "#T_440bf .level0 {\n",
       "  border: 1px black solid !important;\n",
       "  background: #ffffff;\n",
       "  color: #231f20;\n",
       "}\n",
       "#T_440bf_row0_col0, #T_440bf_row0_col1, #T_440bf_row0_col2, #T_440bf_row0_col3, #T_440bf_row0_col4, #T_440bf_row0_col5, #T_440bf_row0_col6, #T_440bf_row0_col7, #T_440bf_row0_col8, #T_440bf_row0_col9, #T_440bf_row0_col10, #T_440bf_row0_col13, #T_440bf_row0_col14, #T_440bf_row0_col15 {\n",
       "  text-align: left;\n",
       "  border: 1px #231f20 solid !important;\n",
       "  overwrite: False;\n",
       "}\n",
       "#T_440bf_row0_col11 {\n",
       "  text-align: left;\n",
       "  border: 1px #231f20 solid !important;\n",
       "  overwrite: False;\n",
       "  background-color: #c3ffc4;\n",
       "}\n",
       "#T_440bf_row0_col12 {\n",
       "  text-align: left;\n",
       "  border: 1px #231f20 solid !important;\n",
       "  overwrite: False;\n",
       "  background-color: ;\n",
       "}\n",
       "</style>\n",
       "<table id=\"T_440bf\">\n",
       "  <caption>Nodes</caption>\n",
       "  <thead>\n",
       "    <tr>\n",
       "      <th id=\"T_440bf_level0_col0\" class=\"col_heading level0 col0\" >ID</th>\n",
       "      <th id=\"T_440bf_level0_col1\" class=\"col_heading level0 col1\" >Name</th>\n",
       "      <th id=\"T_440bf_level0_col2\" class=\"col_heading level0 col2\" >Cores</th>\n",
       "      <th id=\"T_440bf_level0_col3\" class=\"col_heading level0 col3\" >RAM</th>\n",
       "      <th id=\"T_440bf_level0_col4\" class=\"col_heading level0 col4\" >Disk</th>\n",
       "      <th id=\"T_440bf_level0_col5\" class=\"col_heading level0 col5\" >Image</th>\n",
       "      <th id=\"T_440bf_level0_col6\" class=\"col_heading level0 col6\" >Image Type</th>\n",
       "      <th id=\"T_440bf_level0_col7\" class=\"col_heading level0 col7\" >Host</th>\n",
       "      <th id=\"T_440bf_level0_col8\" class=\"col_heading level0 col8\" >Site</th>\n",
       "      <th id=\"T_440bf_level0_col9\" class=\"col_heading level0 col9\" >Username</th>\n",
       "      <th id=\"T_440bf_level0_col10\" class=\"col_heading level0 col10\" >Management IP</th>\n",
       "      <th id=\"T_440bf_level0_col11\" class=\"col_heading level0 col11\" >State</th>\n",
       "      <th id=\"T_440bf_level0_col12\" class=\"col_heading level0 col12\" >Error</th>\n",
       "      <th id=\"T_440bf_level0_col13\" class=\"col_heading level0 col13\" >SSH Command</th>\n",
       "      <th id=\"T_440bf_level0_col14\" class=\"col_heading level0 col14\" >Public SSH Key File</th>\n",
       "      <th id=\"T_440bf_level0_col15\" class=\"col_heading level0 col15\" >Private SSH Key File</th>\n",
       "    </tr>\n",
       "  </thead>\n",
       "  <tbody>\n",
       "    <tr>\n",
       "      <td id=\"T_440bf_row0_col0\" class=\"data row0 col0\" >fcd273f6-69a8-409a-a636-d4c73d0358d9</td>\n",
       "      <td id=\"T_440bf_row0_col1\" class=\"data row0 col1\" >Node1</td>\n",
       "      <td id=\"T_440bf_row0_col2\" class=\"data row0 col2\" >2</td>\n",
       "      <td id=\"T_440bf_row0_col3\" class=\"data row0 col3\" >8</td>\n",
       "      <td id=\"T_440bf_row0_col4\" class=\"data row0 col4\" >100</td>\n",
       "      <td id=\"T_440bf_row0_col5\" class=\"data row0 col5\" >default_rocky_8</td>\n",
       "      <td id=\"T_440bf_row0_col6\" class=\"data row0 col6\" >qcow2</td>\n",
       "      <td id=\"T_440bf_row0_col7\" class=\"data row0 col7\" >clem-w1.fabric-testbed.net</td>\n",
       "      <td id=\"T_440bf_row0_col8\" class=\"data row0 col8\" >CLEM</td>\n",
       "      <td id=\"T_440bf_row0_col9\" class=\"data row0 col9\" >rocky</td>\n",
       "      <td id=\"T_440bf_row0_col10\" class=\"data row0 col10\" >2620:103:a006:12:f816:3eff:fe68:99d2</td>\n",
       "      <td id=\"T_440bf_row0_col11\" class=\"data row0 col11\" >Active</td>\n",
       "      <td id=\"T_440bf_row0_col12\" class=\"data row0 col12\" ></td>\n",
       "      <td id=\"T_440bf_row0_col13\" class=\"data row0 col13\" >ssh -t -i /home/fabric/work/fabric_config/slice_key -F /home/fabric/work/fabric_config/ssh_config rocky@2620:103:a006:12:f816:3eff:fe68:99d2</td>\n",
       "      <td id=\"T_440bf_row0_col14\" class=\"data row0 col14\" >/home/fabric/work/fabric_config/slice_key.pub</td>\n",
       "      <td id=\"T_440bf_row0_col15\" class=\"data row0 col15\" >/home/fabric/work/fabric_config/slice_key</td>\n",
       "    </tr>\n",
       "  </tbody>\n",
       "</table>\n"
      ],
      "text/plain": [
       "<pandas.io.formats.style.Styler at 0x7fd3287c3d60>"
      ]
     },
     "metadata": {},
     "output_type": "display_data"
    }
   ],
   "source": [
    "# Create a slice\n",
    "slice = fablib.new_slice(name=\"MySlice\")\n",
    "\n",
    "# Add a node\n",
    "node = slice.add_node(name=\"Node1\", disk=100)\n",
    "node.enable_docker()   \n",
    "    \n",
    "# Submit the slice\n",
    "slice.submit();"
   ]
  },
  {
   "cell_type": "markdown",
   "metadata": {
    "tags": []
   },
   "source": [
    "## Run a Droppy Server in the Node\n",
    "\n",
    "Note: the Droppy server listens on port 8989 on the node.\n"
   ]
  },
  {
   "cell_type": "code",
   "execution_count": 3,
   "metadata": {
    "tags": []
   },
   "outputs": [],
   "source": [
    "node = slice.get_node('Node1')\n",
    "\n",
    "#node.upload_directory(f'{os.environ[\"HOME\"]}/work/docker_containers','.')\n",
    "node.execute(f\"curl -O https://raw.githubusercontent.com/silverwind/droppy/master/examples/docker-compose.yml ; \" \n",
    "             f\"docker compose up -d ;\"\n",
    "             f\"sudo chown $(id -u):$(id -g) data config ;\"\n",
    "             , quiet=True, output_file=f\"{node.get_name()}.log\");"
   ]
  },
  {
   "cell_type": "markdown",
   "metadata": {},
   "source": [
    "## Start the SSH Tunnel\n",
    "\n",
    "- Download your custom fabric_ssh_tunnel_package.tgz tarball from the main jupyter-examples folder OR the fabric_config folder.  This tarball was created when you ran the configure environment notebook. Rerun the configure environment notebook if you do not have the  fabric_ssh_tunnel_package.tgz \n",
    "- Open the tarball\n",
    "- Run the ssh_tunnel.sh script found in the untarred folder. You can either open a terminal and execute the script or you can double-click the script in a file browser. Note: double-clicking depends on your configuration or your local machine. On a Mac, double-clicking will work if you ensure the ssh_tunnel.sh script is run using Terminal.app (Linux and Windows are tbd.)\n",
    "- The script will ask you for the following:\n",
    "    - Target VM: your VM's username and management IP (ex: rocky@1.2.3.4)\n",
    "    - Local port: Any free port on your localhost (ex. 5555) \n",
    "    - Target_port: The port on the VM that the server is listening to. (In this example, Droppy is listening to port 8989)\n",
    "- After running the script, leave the terminal window open and connect to localhost:<local_port> using a client application that can connect to your VM's service.  In the example, you can connect to Droppy by using a browser to navigate to to http://localhost:5555 \n",
    "- Now use your service.  \n",
    " \n",
    "\n"
   ]
  },
  {
   "cell_type": "markdown",
   "metadata": {
    "tags": []
   },
   "source": [
    "## Delete the Slice\n",
    "\n",
    "Please delete your slice when you are done with your experiment."
   ]
  },
  {
   "cell_type": "code",
   "execution_count": null,
   "metadata": {
    "tags": []
   },
   "outputs": [],
   "source": [
    "slice.delete()"
   ]
  },
  {
   "cell_type": "code",
   "execution_count": null,
   "metadata": {},
   "outputs": [],
   "source": []
  }
 ],
 "metadata": {
  "kernelspec": {
   "display_name": "Python 3 (ipykernel)",
   "language": "python",
   "name": "python3"
  },
  "language_info": {
   "codemirror_mode": {
    "name": "ipython",
    "version": 3
   },
   "file_extension": ".py",
   "mimetype": "text/x-python",
   "name": "python",
   "nbconvert_exporter": "python",
   "pygments_lexer": "ipython3",
   "version": "3.9.13"
  }
 },
 "nbformat": 4,
 "nbformat_minor": 4
}
