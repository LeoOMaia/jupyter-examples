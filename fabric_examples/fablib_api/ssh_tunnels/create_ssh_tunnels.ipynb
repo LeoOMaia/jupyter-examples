{
 "cells": [
  {
   "cell_type": "markdown",
   "metadata": {
    "tags": []
   },
   "source": [
    "# Create SSH Tunnels\n",
    "\n",
    " "
   ]
  },
  {
   "cell_type": "markdown",
   "metadata": {
    "tags": []
   },
   "source": [
    "## Import the FABlib Library"
   ]
  },
  {
   "cell_type": "code",
   "execution_count": null,
   "metadata": {
    "tags": []
   },
   "outputs": [],
   "source": [
    "from fabrictestbed_extensions.fablib.fablib import FablibManager as fablib_manager\n",
    "\n",
    "fablib = fablib_manager()\n",
    "\n",
    "fablib.show_config();"
   ]
  },
  {
   "cell_type": "markdown",
   "metadata": {
    "tags": []
   },
   "source": [
    "## Create the Experiment Slice\n",
    "\n"
   ]
  },
  {
   "cell_type": "code",
   "execution_count": null,
   "metadata": {
    "tags": []
   },
   "outputs": [],
   "source": [
    "# Create a slice\n",
    "slice = fablib.new_slice(name=\"MySlice\")\n",
    "\n",
    "# Add a node\n",
    "node = slice.add_node(name=\"Node1\", disk=100)\n",
    "node.enable_docker()   \n",
    "    \n",
    "# Submit the slice\n",
    "slice.submit();"
   ]
  },
  {
   "cell_type": "markdown",
   "metadata": {
    "tags": []
   },
   "source": [
    "## Run a Droppy Server in the Node\n",
    "\n",
    "Note: the Droppy server listens on port 8989 on the node.\n"
   ]
  },
  {
   "cell_type": "code",
   "execution_count": null,
   "metadata": {
    "tags": []
   },
   "outputs": [],
   "source": [
    "node = slice.get_node('Node1')\n",
    "\n",
    "#node.upload_directory(f'{os.environ[\"HOME\"]}/work/docker_containers','.')\n",
    "node.execute(f\"curl -O https://raw.githubusercontent.com/silverwind/droppy/master/examples/docker-compose.yml ; \" \n",
    "             f\"docker compose up -d ;\"\n",
    "             f\"sudo chown $(id -u):$(id -g) data config ;\"\n",
    "             , quiet=True, output_file=f\"{node.get_name()}.log\");"
   ]
  },
  {
   "cell_type": "markdown",
   "metadata": {},
   "source": [
    "## Start the SSH Tunnel\n",
    "\n",
    "### Download your fabric_ssh_tunnel_package\n",
    "\n",
    "- Download the tarball from the main jupyter-examples folder OR the fabric_config folder.\n",
    "- Open the tarball\n",
    "- Run the ssh_tunnel.sh script. You can either open a termial and execute the script or double-click the script in a file browser. Double-click might require configuring your machine. On a Mac, make sure the .sh file is run using Terminal.app (linux and windowes are tbd.)\n",
    "- The script will ask you for the following:\n",
    "    - Target VM: your VM's username and management IP (ex: rocky@1.2.3.4)\n",
    "    - Local port: Any free port on your localhost (ex. 5555) \n",
    "    - Target_port: The port on the VM that the server is listening to. In this example, Droppy is listening to port 8989\n",
    "- After running the script, leave the terminal window open and connect to localhost:<local_port> using a client application that can connect to your VM's service.  In the example, you can connect ot Droppy by useing a browser to navigate to to http://localhost:5555 \n",
    "- Now use your service.  \n",
    "\n"
   ]
  },
  {
   "cell_type": "markdown",
   "metadata": {
    "tags": []
   },
   "source": [
    "## Delete the Slice\n",
    "\n",
    "Please delete your slice when you are done with your experiment."
   ]
  },
  {
   "cell_type": "code",
   "execution_count": null,
   "metadata": {
    "tags": []
   },
   "outputs": [],
   "source": [
    "slice.delete()"
   ]
  },
  {
   "cell_type": "code",
   "execution_count": null,
   "metadata": {},
   "outputs": [],
   "source": []
  }
 ],
 "metadata": {
  "kernelspec": {
   "display_name": "Python 3 (ipykernel)",
   "language": "python",
   "name": "python3"
  },
  "language_info": {
   "codemirror_mode": {
    "name": "ipython",
    "version": 3
   },
   "file_extension": ".py",
   "mimetype": "text/x-python",
   "name": "python",
   "nbconvert_exporter": "python",
   "pygments_lexer": "ipython3",
   "version": "3.9.13"
  }
 },
 "nbformat": 4,
 "nbformat_minor": 4
}
