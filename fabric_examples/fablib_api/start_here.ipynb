{
 "cells": [
  {
   "cell_type": "markdown",
   "id": "0c2da6f1",
   "metadata": {},
   "source": [
    "# Fablib FABRIC API Examples: Jupyter Notebooks\n",
    "\n",
    "Your FABRIC JupyterHub environment comes with a set of example notebooks. Below is a list of many of the examples. Click the links to open the example notebooks.\n",
    "\n",
    "### Update the Example Notebooks\n",
    "\n",
    "Occasionally, we will add example notebooks and update existing examples. The examples are stored in this [github repo](https://github.com/fabric-testbed/jupyter-examples).\n",
    "\n",
    "Run the following Jupyter cell to ensure you have the most current notebooks. You will need to close and reopen any updated notebooks including the `start_here` notebook that you are currently reading."
   ]
  },
  {
   "cell_type": "code",
   "execution_count": null,
   "id": "a6274b41",
   "metadata": {},
   "outputs": [],
   "source": [
    "cd /home/fabric/work/jupyter-examples\n",
    "git stash\n",
    "git pull origin"
   ]
  },
  {
   "cell_type": "markdown",
   "id": "40bcc917",
   "metadata": {
    "tags": []
   },
   "source": [
    "## FABRIC Account Setup\n",
    "\n",
    "- [Bastion Keypair](./bastion_setup.ipynb): Setup a Bastion Keypair\n",
    "\n",
    "## Getting Started Tutorials\n",
    "\n",
    "- [Hello, FABRIC](./hello_fabric.ipynb): Simple First Slice Example\n",
    "- Intro to FABRIC Tutorial (TODO)\n",
    "\n",
    "## Basic Examples\n",
    "\n",
    "\n",
    "### Testbed Sites and Resources\n",
    "\n",
    "- [Find Available Resources](./get_available_resources.ipynb): Query for a list of currently available resources. \n",
    "\n",
    "### Managing Slices\n",
    "\n",
    "- [Create Slice](./hello_fabric.ipynb): Slice construction\n",
    "- [Delete Slice](./delete_slice.ipynb): Delete a slice\n",
    "- [Get an Existing Slice](./get_slice.ipynb): Get an existing slice.\n",
    "- [Renew a Slice Reservation](./update_slice_renew.ipynb): Renew a slice reservation\n",
    "\n",
    "\n",
    "### Compute Nodes\n",
    "\n",
    "- [Get Nodes](./get_nodes.ipynb): Get the nodes from an existing slice.\n",
    "- [Log into a Node with SSH](./log_into_node_with_ssh.ipynb): Show how to remotely log into a running FABRIC node.\n",
    "- [Setting Node Capacities](./setting_node_capaciites.ipynb): Discusses several options for setting node capacities.\n",
    "- [Create a Node with Components](./create_node.ipynb): Create a single node with components\n",
    "\n",
    "### Storage Components\n",
    "\n",
    "- [Basic NVMe Devices](./basic_nvme_devices.ipynb): Create a node with a NVMe block device.\n",
    "- [Benchmarking FABRIC Storage: Local disk and NVMe](./benchmarking_storage.ipynb): Create and benchmark a node with local disk and NVMe device.\n",
    "\n",
    "### GPU Components\n",
    "\n",
    "- [Basic GPUs Devices](./basic_gpu_devices.ipynb): Create a node with a GPU\n",
    "\n",
    "### Networking\n",
    "\n",
    "- [Create a Basic Layer 2 Network](./create_l2network_basic.ipynb): \n",
    "- [Create a Basic Layer 2 Network with Tagged Interfaces](./create_l2network_basic_tagged.ipynb): \n",
    "- [Create a Wide Area Layer 2 Network](./create_l2network_wide_area.ipynb): \n",
    "\n",
    "## Complex Recipes\n",
    "\n",
    "- [Kubernetes](./kubernetes-simple.ipynb): Basic Creating and managing a Kubernetes cluster.\n",
    "\n"
   ]
  },
  {
   "cell_type": "code",
   "execution_count": null,
   "id": "76146b01",
   "metadata": {},
   "outputs": [],
   "source": []
  }
 ],
 "metadata": {
  "kernelspec": {
   "display_name": "Bash",
   "language": "bash",
   "name": "bash"
  },
  "language_info": {
   "codemirror_mode": "shell",
   "file_extension": ".sh",
   "mimetype": "text/x-sh",
   "name": "bash"
  }
 },
 "nbformat": 4,
 "nbformat_minor": 5
}
