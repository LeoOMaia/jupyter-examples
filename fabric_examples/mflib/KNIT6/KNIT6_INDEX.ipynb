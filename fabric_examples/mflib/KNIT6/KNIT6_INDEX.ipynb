{
 "cells": [
  {
   "attachments": {},
   "cell_type": "markdown",
   "id": "0c2da6f1",
   "metadata": {},
   "source": [
    "# KNIT6 \n",
    "April 24, 2023\n",
    "#### Advanced Measurement Framework Library\n",
    "\n",
    "The MeasurementFramework Library - MFLib - makes it easy to install an extensive collection of monitoring tools into your Fabric experiment.\n",
    "\n",
    "This tutorial creates a small experiment consisting of 3 nodes connected together with a layer 3 network. You will be shown how to create a slice ready to be monitored, how to instrumentize the slice (setup and activate monitoring), how to access and visualize the collected data and how to use advanced timing with PTP and OWL (One Way Latency)"
   ]
  },
  {
   "attachments": {},
   "cell_type": "markdown",
   "id": "40bcc917",
   "metadata": {
    "tags": []
   },
   "source": [
    "\n",
    "## Suggested Order of Tutorial Notebooks\n",
    "\n",
    "#### Setup\n",
    "\n",
    "- [FABRIC Configure](configure.ipynb) This only needs to be done once. If you have previously used FABRIC, you may have to run this again as some features have been added.\n",
    "- [Check MFLib Version/Install](./KNIT6_mflib_version_check.ipynb) Check that MFLib is installed & which version is installed.\n",
    "\n",
    "#### Intro\n",
    "\n",
    "- [Prepare a Slice](./KNIT6_prepare_a_slice_via_images.ipynb): Create a slice using OS disk images ready for instrumentation.\n",
    "- [Instumentize a Slice](./KNIT6_instrumentize_a_slice.ipynb): Instrumentize the slice using MFLib API.\n",
    "- [Prometheus & Grafana in a Slice](./KNIT6_prometheus_grafana.ipynb): Accessing Prometheus metrics with Grafana\n",
    "- [ELK & Kibana in a Slice](./KNIT6_elk_kibana.ipynb) Accessing ELK logs & metrics with Kibana\n",
    "\n",
    "#### More Ways to Use Graphs\n",
    "\n",
    "- [Adding Graphs to Jupyter Notebooks](./KNIT6_mfvis_jupyternotebook_graphs.ipynb): Adding Graphs to Jupyter Notebooks using MFVis API\n",
    "- [Downloading Graphs](./KNIT6_mfvis_graph_downloading.ipynb): Downloading PNG Graphs using MFVis API\n",
    "\n",
    "#### Timing\n",
    "\n",
    "- [Timestamp with MFLib](./KNIT6_mf_timestamp_with_mflib.ipynb) MFLib Timestamp Service Overview\n",
    "- [Stand Alone Timestamp ](./KNIT6_mf_timestamp_standalone.ipynb) Stand Alone Timestamp Service Overview\n",
    "\n",
    "#### OWL \n",
    "\n",
    "- [OWL](./KNIT6_owl_mf.ipynb) OWL\n",
    "- [OWL PTP Docker](./KNIT6_owl-prep_PTPDocker_slice.ipynb) OWL\n",
    "- [OWL Docker](./KNIT6_owl_docker.ipynb) OWL\n",
    "- [OWL Data Analysis](./KNIT6_owl_data_analysis.ipynb) OWL\n",
    "- [OWL Data Analysis Docker](./KNIT6_owl_data_analysis_docker.ipynb) OWL\n",
    "\n",
    "#### Clean Up\n",
    "\n",
    "- [Clean up Slice](./KNIT6_cleanup.ipynb) Please run this after you are done with the tutorial to free up resources."
   ]
  }
 ],
 "metadata": {
  "kernelspec": {
   "display_name": "Python 3.8.10 64-bit",
   "language": "python",
   "name": "python3"
  },
  "language_info": {
   "codemirror_mode": "shell",
   "file_extension": ".sh",
   "mimetype": "text/x-sh",
   "name": "python",
   "version": "3.8.10"
  },
  "vscode": {
   "interpreter": {
    "hash": "916dbcbb3f70747c44a77c7bcd40155683ae19c65e1c03b4aa3499c5328201f1"
   }
  }
 },
 "nbformat": 4,
 "nbformat_minor": 5
}
