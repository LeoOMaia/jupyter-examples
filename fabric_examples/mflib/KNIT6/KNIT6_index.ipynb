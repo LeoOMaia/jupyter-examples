{
 "cells": [
  {
   "attachments": {},
   "cell_type": "markdown",
   "id": "0c2da6f1",
   "metadata": {},
   "source": [
    "# KNIT6 April 24, 2023\n",
    "#### Advanced Measurement Framework Library\n",
    "\n",
    "The MeasurementFramework Library - MFLib - makes it easy to install an extensive collection of monitoring tools into your Fabric experiment.\n",
    "\n",
    "To get started you should:\n",
    "* Have run the basic FABRIC Configure Keys notebook.\n",
    "* Check if MFLib is installed & which version is installed using [Check MFLib Version](./KNIT6_mflib_version_check.ipynb)\n",
    "* Install MFLib if needed. ```pip install --user fabrictestbed-mflib```\n",
    "\n",
    "This tutorial creates a small experiment consisting of 3 nodes connected together with a layer 3 network. You will be shown how to create a slice ready to be monitored, how to instrumnetize the slice (setup and activate monitoring), how to access and visualize the collected data and how to use advanced timing with PTP and OWL (One Wal Latency)\n"
   ]
  },
  {
   "attachments": {},
   "cell_type": "markdown",
   "id": "40bcc917",
   "metadata": {
    "tags": []
   },
   "source": [
    "\n",
    "## Suggested Order of Tutorial Notebooks\n",
    "\n",
    "#### Intro\n",
    "- [Prepare a Slice](./KNIT6_prepare_a_slice_via-images.ipynb): Create a slice using OS disk images ready for instrumentation.\n",
    "- [Instumentize a Slice](./KNIT6_instrumentize_a_slice.ipynb): Instrumentize the slice using MFLib API.\n",
    "- [Prometheus & Grafana in a Slice](./KNIT6_prometheus_grafana.ipynb): Accessing Prometheus metrics with Grafana\n",
    "- [ELK & Kibana in a Slice](./KNIT6_elk_kibana.ipynb) Accessing ELK logs & metrics with Kibana\n",
    "\n",
    "#### More Ways to Use Graphs\n",
    "\n",
    "- [Adding Graphs to Jupyter Notebooks](./KNIT6_mfvis_jupyternotebook_graphs.ipynb): Adding Graphs to Jupyter Notebooks using MFVis API\n",
    "- [Downloading Graphs](./KNIT6_mfvis_graph_downloading.ipynb): Downloading PNG Graphs using MFVis API\n",
    "\n",
    "#### Timing\n",
    "\n",
    "- [Timestamp with MFLib](./KNIT6_mf_timestamp_with_mflib.ipynb) MFLib Timestamp Service Overview\n",
    "- [Stand Alone Timestamp ](./KNIT6_mf_timestamp_with_mflib.ipynb) Stand Alone Timestamp Service Overview\n",
    "\n",
    "#### OWL \n",
    "- [OWL](./KNIT6_owl_mf.ipynb) OWL\n",
    "- [OWL PTP Docker](./KNIT6_owl-prep_PTPDocker_slice.ipynb) OWL\n",
    "- [OWL Docker](./KNIT6_owl_docker.ipynb) OWL\n",
    "- [OWL Data Analysis](./KNIT6_owl_data_analysis.ipynb) OWL\n",
    "- [OWL Data Analysis Docker](./KNIT6_owl_data_analysis_docker.ipynb) OWL\n",
    "\n",
    "#### Data Export\n",
    "- [ELK Data Export](./KNIT6_elk_data_export.ipynb) ELK Data Export"
   ]
  }
 ],
 "metadata": {
  "kernelspec": {
   "display_name": "Python 3.8.10 64-bit",
   "language": "python",
   "name": "python3"
  },
  "language_info": {
   "codemirror_mode": "shell",
   "file_extension": ".sh",
   "mimetype": "text/x-sh",
   "name": "python",
   "version": "3.8.10"
  },
  "vscode": {
   "interpreter": {
    "hash": "916dbcbb3f70747c44a77c7bcd40155683ae19c65e1c03b4aa3499c5328201f1"
   }
  }
 },
 "nbformat": 4,
 "nbformat_minor": 5
}
