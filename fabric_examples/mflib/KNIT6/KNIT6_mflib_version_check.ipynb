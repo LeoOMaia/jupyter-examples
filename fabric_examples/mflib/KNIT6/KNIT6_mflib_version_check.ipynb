{
 "cells": [
  {
   "attachments": {},
   "cell_type": "markdown",
   "metadata": {},
   "source": [
    "# KNIT6\n",
    "\n",
    "## Check Installed Version of MFLib\n",
    "Important - You must restart this notebook kernel if install of MFLib has changed since this notebook was opened.\n",
    "If you need to install MFLib use ```pip install --user fabrictestbed-mflib```"
   ]
  },
  {
   "attachments": {},
   "cell_type": "markdown",
   "metadata": {},
   "source": [
    "Run the following code to check if MFLib is installed and which version is installed.\n",
    "For this tutorial the version should be TODO XXXXX"
   ]
  },
  {
   "cell_type": "code",
   "execution_count": null,
   "metadata": {},
   "outputs": [],
   "source": [
    "try:\n",
    "    import mflib\n",
    "    print(f\"{mflib.__version__} mflib Package version \")\n",
    "    #TODO \n",
    "    # if {mflib.__version__} == \"TODO\":\n",
    "    #     print(\"Version is good\")\n",
    "    # else:\n",
    "    #     print(\"Version is incorrect\")\n",
    "except Exception as e:\n",
    "    print(\"Failed to import MFLib. Has MFLib been installed? Has this notebook kernel been restarted since MFLib was installed?\")\n",
    "    print(e)"
   ]
  }
 ],
 "metadata": {
  "kernelspec": {
   "display_name": "Python 3.8.10 64-bit",
   "language": "python",
   "name": "python3"
  },
  "language_info": {
   "name": "python",
   "version": "3.8.10 (default, Nov 14 2022, 12:59:47) \n[GCC 9.4.0]"
  },
  "orig_nbformat": 4,
  "vscode": {
   "interpreter": {
    "hash": "916dbcbb3f70747c44a77c7bcd40155683ae19c65e1c03b4aa3499c5328201f1"
   }
  }
 },
 "nbformat": 4,
 "nbformat_minor": 2
}
