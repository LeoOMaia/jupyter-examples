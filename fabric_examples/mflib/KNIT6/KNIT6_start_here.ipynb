{
 "cells": [
  {
   "attachments": {},
   "cell_type": "markdown",
   "id": "eabeff41",
   "metadata": {},
   "source": [
    "# Welcome to KNIT6. \n",
    "This is the Advanced Montitoring Tutorial using MFLib.\n",
    "\n",
    "Prerequisites:\n",
    "* Have run the basic [FABRIC Configure Environment](../../fablib_api/configure_environment/configure_environment.ipynb) notebook. Be sure to download the created `fabric_ssh_tunnel_tools.tgz` file and extract it to an easily accessible location.\n",
    "* Check if MFLib is installed & which version is installed using [Check MFLib Version](../mflib_version_check.ipynb)\n",
    "* Install MFLib if needed. `pip install --user fabrictestbed-mflib`\n",
    "\n",
    "\n",
    "The rest of this notebook will create a clean directory with copies of all the needed. \n",
    "Run all cells to the end and click on the final link to begin the tutorial.\n"
   ]
  },
  {
   "cell_type": "markdown",
   "id": "938189e9",
   "metadata": {},
   "source": []
  },
  {
   "cell_type": "code",
   "execution_count": null,
   "id": "e1d800c0",
   "metadata": {},
   "outputs": [],
   "source": [
    "import copier as COPY\n",
    "import os\n"
   ]
  },
  {
   "attachments": {},
   "cell_type": "markdown",
   "id": "6e3f0838",
   "metadata": {},
   "source": [
    "# Choose Slice Name"
   ]
  },
  {
   "cell_type": "code",
   "execution_count": null,
   "id": "ee957b28",
   "metadata": {},
   "outputs": [],
   "source": [
    "slice_name = \"MFLibKNIT6\""
   ]
  },
  {
   "attachments": {},
   "cell_type": "markdown",
   "id": "3a142cc0",
   "metadata": {},
   "source": [
    "# Choose Directory Name\n",
    "This is the name of the directory that will be created in the `/home/fabric/work` directory. This directory will contain all the files needed for the tutorial"
   ]
  },
  {
   "cell_type": "code",
   "execution_count": null,
   "id": "5f6c64cd",
   "metadata": {},
   "outputs": [],
   "source": [
    "dir_name = \"KNIT6_MFLIB_TUTORIAL_01\""
   ]
  },
  {
   "attachments": {},
   "cell_type": "markdown",
   "id": "38ebbf4d",
   "metadata": {},
   "source": [
    "# Copy Needed Files"
   ]
  },
  {
   "cell_type": "code",
   "execution_count": null,
   "id": "183250b5",
   "metadata": {},
   "outputs": [],
   "source": [
    "COPY.create_experiment_directory(os.path.join(\"/\",\"home\",\"fabric\",\"work\", dir_name),slice_name )"
   ]
  },
  {
   "attachments": {},
   "cell_type": "markdown",
   "id": "73777045",
   "metadata": {},
   "source": [
    "# Click Link To Go To Tutorial "
   ]
  },
  {
   "cell_type": "code",
   "execution_count": null,
   "id": "352e538e",
   "metadata": {},
   "outputs": [],
   "source": [
    "print(f\"https://jupyter.fabric-testbed.net/hub/user-redirect/lab/tree/{dir_name}/KNIT6_index.ipynb\")"
   ]
  }
 ],
 "metadata": {
  "kernelspec": {
   "display_name": "Python 3 (ipykernel)",
   "language": "python",
   "name": "python3"
  },
  "language_info": {
   "codemirror_mode": {
    "name": "ipython",
    "version": 3
   },
   "file_extension": ".py",
   "mimetype": "text/x-python",
   "name": "python",
   "nbconvert_exporter": "python",
   "pygments_lexer": "ipython3",
   "version": "3.9.7"
  },
  "vscode": {
   "interpreter": {
    "hash": "916dbcbb3f70747c44a77c7bcd40155683ae19c65e1c03b4aa3499c5328201f1"
   }
  }
 },
 "nbformat": 4,
 "nbformat_minor": 5
}
