{
 "cells": [
  {
   "cell_type": "markdown",
   "metadata": {},
   "source": [
    "# Install correct version of fabrictestbed_extensions\n",
    "The [fabrictestbed-extensions GitHub repository](https://github.com/fabric-testbed/fabrictestbed-extensions) has several versions/releases and branches. Not all of these will work with the MFLIB notebooks.  \n",
    "This notebook will ensure the compatable version of fabrictestbed-extensions is installed.  "
   ]
  },
  {
   "cell_type": "markdown",
   "metadata": {},
   "source": [
    "# Set Branch and Cloned Repo Location\n",
    "Clone the fabrictestbed-extensions repo into the given directory and switch to the needed branch."
   ]
  },
  {
   "cell_type": "code",
   "execution_count": null,
   "metadata": {},
   "outputs": [],
   "source": [
    "# Which Branch to use\n",
    "fabrictestbed_extensions_branch = \"mflib-with-1.3.1\"\n",
    "# Directory where git repo clone is located\n",
    "fabrictestbed_extensions_repo_dir = \"/home/fabric/work/mflib_fabrictestbed-extensions\""
   ]
  },
  {
   "cell_type": "code",
   "execution_count": null,
   "metadata": {},
   "outputs": [],
   "source": [
    "import os\n",
    "from git import Repo\n",
    "\n",
    "if not os.path.exists(fabrictestbed_extensions_repo_dir):\n",
    "    try: \n",
    "        Repo.clone_from(\"https://github.com/fabric-testbed/fabrictestbed-extensions.git\", fabrictestbed_extensions_repo_dir)\n",
    "    except Exception as e:\n",
    "        if \"already exists and is not an empty directory\" in f\"{e}\":\n",
    "            print (\"Repo is already cloned or non-empty directory already exists\")\n"
   ]
  },
  {
   "cell_type": "markdown",
   "metadata": {},
   "source": [
    "# Update Repo & Install\n",
    "If the repo already has been cloned we can switch to the needed branch and pull to ensure it is up to date.\n",
    "Then install using pip."
   ]
  },
  {
   "cell_type": "code",
   "execution_count": null,
   "metadata": {},
   "outputs": [],
   "source": [
    "%%bash -s \"$fabrictestbed_extensions_repo_dir\" \"$fabrictestbed_extensions_branch\" \n",
    "# change to dir where repo will be cloned\n",
    "cd $1\n",
    "pwd\n",
    "\n",
    "# switch to the chosen branch\n",
    "git switch $2\n",
    "\n",
    "# optionally pull if needed\n",
    "git pull\n",
    "\n",
    "echo \"******************Branch*********************\"\n",
    "git branch --show-current\n",
    "echo \"******************Install********************\"\n",
    "\n",
    "# install fabrictestbed-extensions from repo\n",
    "pip install --user ."
   ]
  },
  {
   "cell_type": "markdown",
   "metadata": {},
   "source": [
    "Now run the [fabrictestbed_extensions_version_check](./fabrictesbed_extensions_version_check.ipynb) notebook to ensure the install was sucessfull."
   ]
  }
 ],
 "metadata": {
  "kernelspec": {
   "display_name": "Python 3.8.10 64-bit",
   "language": "python",
   "name": "python3"
  },
  "language_info": {
   "name": "python",
   "version": "3.8.10"
  },
  "orig_nbformat": 4,
  "vscode": {
   "interpreter": {
    "hash": "916dbcbb3f70747c44a77c7bcd40155683ae19c65e1c03b4aa3499c5328201f1"
   }
  }
 },
 "nbformat": 4,
 "nbformat_minor": 2
}
