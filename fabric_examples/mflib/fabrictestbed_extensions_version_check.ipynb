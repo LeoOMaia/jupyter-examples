{
 "cells": [
  {
   "cell_type": "markdown",
   "metadata": {},
   "source": [
    "# Check Installed Versions of fabrictestbed_extensions\n",
    "Important - You must restart this notebook kernal if install of fabrictestbed_extensions has changed since this notebook was opened."
   ]
  },
  {
   "cell_type": "markdown",
   "metadata": {},
   "source": [
    "## Version\n",
    "* fabrictestbed-extensions 1.3.1\n",
    "  * mflib core 1.0.30\n",
    "  * mflib 1.0.30"
   ]
  },
  {
   "cell_type": "code",
   "execution_count": null,
   "metadata": {},
   "outputs": [],
   "source": [
    "import fabrictestbed_extensions\n",
    "print(f\"{fabrictestbed_extensions.__VERSION__} fabrictestbed_extensions Package version \")\n",
    "\n",
    "print(\"Available modules in fabrictestbed_extensions:\")\n",
    "import pkgutil\n",
    "modules = [s[1] for s in list(pkgutil.iter_modules(fabrictestbed_extensions.__path__))]\n",
    "print(f\"  {modules}\")\n",
    "\n",
    "\n",
    "try:\n",
    "\n",
    "    from   fabrictestbed_extensions.mflib.core import Core\n",
    "    from   fabrictestbed_extensions.mflib.mflib import mflib\n",
    "    \n",
    "    print(\"Versions\")\n",
    "    print(f\"  {Core.core_version} mflib core version \")\n",
    "    print(f\"  {mflib.core_version} mflib core inherited version\")\n",
    "    print(f\"  {mflib.mflib_version} mflib version \")\n",
    "except Exception as e:\n",
    "    print(e)"
   ]
  }
 ],
 "metadata": {
  "kernelspec": {
   "display_name": "Python 3.8.10 64-bit",
   "language": "python",
   "name": "python3"
  },
  "language_info": {
   "name": "python",
   "version": "3.8.10"
  },
  "orig_nbformat": 4,
  "vscode": {
   "interpreter": {
    "hash": "916dbcbb3f70747c44a77c7bcd40155683ae19c65e1c03b4aa3499c5328201f1"
   }
  }
 },
 "nbformat": 4,
 "nbformat_minor": 2
}
