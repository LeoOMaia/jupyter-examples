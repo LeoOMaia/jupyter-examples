{
 "cells": [
  {
   "cell_type": "markdown",
   "id": "68ed8929",
   "metadata": {},
   "source": [
    "# Measurement Framework Libray (mflib)\n",
    "Add measurement capabilities while creating new slice.\n",
    "\n",
    "Currently the mflib branch must be installed for fabrictestbed-extensions. If you are using the a local mflib.py file you can use the fablib1.1.4dev1 branch. \n",
    " \n",
    "\n",
    "git clone https://github.com/fabric-testbed/fabrictestbed-extensions.git   \n",
    "cd fabrictestbed-extensions  \n",
    "git checkout mflib  \n",
    "pip install --user .  \n",
    "\n"
   ]
  },
  {
   "cell_type": "markdown",
   "id": "f898f800",
   "metadata": {},
   "source": [
    "## Setup Environment"
   ]
  },
  {
   "cell_type": "code",
   "execution_count": null,
   "id": "31984353-a7ed-4717-9ee7-277296c27487",
   "metadata": {},
   "outputs": [],
   "source": [
    "import os\n",
    "\n",
    "# If you are using the FABRIC JupyterHub, the following three evnrionment vars\n",
    "# were automatically provided when you logged in.\n",
    "#os.environ['FABRIC_CREDMGR_HOST']='cm.fabric-testbed.net'\n",
    "#os.environ['FABRIC_ORCHESTRATOR_HOST']='orchestrator.fabric-testbed.net'\n",
    "#os.environ['FABRIC_TOKEN_LOCATION']=os.environ['HOME']+'/work/fabric_token.json'\n",
    "\n",
    "# Bastion IPs\n",
    "os.environ['FABRIC_BASTION_HOST'] = 'bastion-1.fabric-testbed.net'\n",
    "\n",
    "# Set your Bastion username and private key\n",
    "os.environ['FABRIC_BASTION_USERNAME']=<INSERT_YOUR_FABRIC_USERNAME>\n",
    "os.environ['FABRIC_BASTION_KEY_LOCATION']=os.environ['HOME']+'/work/fabric_bastion_key'\n",
    "\n",
    "# Set the keypair FABRIC will install in your slice. \n",
    "os.environ['FABRIC_SLICE_PRIVATE_KEY_FILE']=os.environ['HOME']+'/.ssh/id_rsa'\n",
    "os.environ['FABRIC_SLICE_PUBLIC_KEY_FILE']=os.environ['HOME']+'/.ssh/id_rsa.pub'\n",
    "\n",
    "# If your slice private key uses a passphrase, set the passphrase\n",
    "#from getpass import getpass\n",
    "#print('Please input private key passphrase. Press enter for no passphrase.')\n",
    "#os.environ['FABRIC_SLICE_PRIVATE_KEY_PASSPHRASE']=getpass()\n",
    "import json\n",
    "import traceback\n",
    "\n",
    "from fabrictestbed_extensions.fablib.fablib import fablib\n",
    "\n",
    "\n",
    "slice_name = \"MFMAX8\"\n",
    "site = 'MAX'\n",
    "node1_name = 'Node1'\n",
    "node2_name = 'Node2'\n",
    "network_name='net1'\n",
    "node1_nic_name = 'nic1'\n",
    "node2_nic_name = 'nic2'\n",
    "image = 'default_ubuntu_20'\n",
    "image_type = 'qcow2'\n",
    "cores = 2\n",
    "ram = 8\n",
    "disk = 10"
   ]
  },
  {
   "cell_type": "markdown",
   "id": "923449b1",
   "metadata": {},
   "source": [
    "## Import mflib and create new mflib object."
   ]
  },
  {
   "cell_type": "markdown",
   "id": "4f5bb6e7",
   "metadata": {},
   "source": [
    "### Choose if you are using mflib branch code or using a local copy of mflib.py"
   ]
  },
  {
   "cell_type": "code",
   "execution_count": null,
   "id": "8ae02102",
   "metadata": {},
   "outputs": [],
   "source": [
    "# If you installed the mflib branch you can use:\n",
    "from fabrictestbed_extensions.mflib.mflib import mflib\n",
    "# If you are using a local copy of the mflib.py file use:\n",
    "#from mflib import mflib\n"
   ]
  },
  {
   "cell_type": "code",
   "execution_count": null,
   "id": "64238aac",
   "metadata": {},
   "outputs": [],
   "source": [
    "mf = mflib()"
   ]
  },
  {
   "cell_type": "markdown",
   "id": "40c2ba87",
   "metadata": {},
   "source": [
    "## Add measurement node to slice topology and submit the slice."
   ]
  },
  {
   "cell_type": "code",
   "execution_count": null,
   "id": "06d9fcd6-d453-4248-aea0-59c8ccc9d97c",
   "metadata": {},
   "outputs": [],
   "source": [
    "try:\n",
    "    #Create Slice\n",
    "    slice = fablib.new_slice(name=slice_name)\n",
    "\n",
    "    # Node1\n",
    "    node1 = slice.add_node(name=node1_name, site=site)\n",
    "    node1.set_capacities(cores=cores, ram=ram, disk=disk)\n",
    "    node1.set_image(image)\n",
    "    iface1 = node1.add_component(model='NIC_Basic', name=node1_nic_name).get_interfaces()[0]\n",
    "   \n",
    "    # Node2\n",
    "    node2 = slice.add_node(name=node2_name, site=site)\n",
    "    node2.set_capacities(cores=cores, ram=ram, disk=disk)\n",
    "    node2.set_image(image)\n",
    "    iface2 = node2.add_component(model='NIC_Basic', name=node2_nic_name).get_interfaces()[0]\n",
    "    \n",
    "    # Network\n",
    "    net1 = slice.add_l2network(name=network_name, interfaces=[iface1, iface2])\n",
    "    \n",
    "    # Add measurement node to topology.\n",
    "    mf.addMeasNode(slice)\n",
    "    # Submit Slice Request\n",
    "    print(\"Submitting the new slice...\")\n",
    "    slice.submit()\n",
    "    print(\"Slice creation done.\")\n",
    "\n",
    "except Exception as e:\n",
    "    print(f\"Slice Fail: {e}\")\n",
    "    traceback.print_exc()"
   ]
  },
  {
   "cell_type": "markdown",
   "id": "a9a291b1",
   "metadata": {},
   "source": [
    "## Initialize the measurement capabilities to the slice. "
   ]
  },
  {
   "cell_type": "code",
   "execution_count": null,
   "id": "deb3e6e2-9b24-40a8-972e-909f54b5f57a",
   "metadata": {},
   "outputs": [],
   "source": [
    "mf.init(slice_name)"
   ]
  },
  {
   "cell_type": "markdown",
   "id": "e21fc037",
   "metadata": {},
   "source": [
    "## Instrumentize the slice to start the collection of metrics."
   ]
  },
  {
   "cell_type": "code",
   "execution_count": null,
   "id": "4d8d937e-d43a-4a7f-ab13-daeaff4065bf",
   "metadata": {},
   "outputs": [],
   "source": [
    "mf.instrumentize()"
   ]
  },
  {
   "cell_type": "markdown",
   "id": "26ef6c45",
   "metadata": {},
   "source": [
    "## Get Prometheus Access Info\n",
    "To access the Prometheus Metrics go to the grafana interface.   \n",
    "From your local machine, tunnel into the measure node using `ssh -L 10010:localhost:443 -F <fabric-ssh-config-file> -i <your portal_slice_id_rsa-file> <slice-username>@<meas_node-ip>`   \n",
    "Browse to [https://localhost:10010/grafana/](https://localhost:10010/grafana/)    \n",
    "You will need to accept the self-signed certificate.   \n",
    "There is a bug in the url, once you have accepted the certificate you will have to add the :10010 back to the url.  \n",
    "The Grafana view opens to the default user. To login as and admin click on the door icon at the bottom left and enter u: admin  p: <grafana_admin_password (see below)>\n",
    "    "
   ]
  },
  {
   "cell_type": "code",
   "execution_count": null,
   "id": "d52b0c5b",
   "metadata": {},
   "outputs": [],
   "source": [
    "# The prometheus service was created by the mf.instrumentize call.\n",
    "mf.info(\"prometheus\")"
   ]
  },
  {
   "cell_type": "code",
   "execution_count": null,
   "id": "ade6ab0e",
   "metadata": {},
   "outputs": [],
   "source": [
    "# To get specific info use:\n",
    "data = {}\n",
    "data[\"grafana_admin_password\"] = True\n",
    "info_results = mf.info(\"prometheus\", data)\n",
    "print(info_results[\"grafana_admin_password\"])"
   ]
  },
  {
   "cell_type": "code",
   "execution_count": null,
   "id": "153b7afc",
   "metadata": {},
   "outputs": [],
   "source": [
    "# Elk requires ht access user and pass\n",
    "data = {}\n",
    "data[\"ht_password\"] = True\n",
    "data[\"ht_user\"] = True\n",
    "info_results = mf.info(\"prometheus\", data)\n",
    "print(info_results)"
   ]
  },
  {
   "cell_type": "markdown",
   "id": "c6de2ef9",
   "metadata": {},
   "source": [
    "## Explore User Services"
   ]
  },
  {
   "cell_type": "code",
   "execution_count": null,
   "id": "ec849792",
   "metadata": {},
   "outputs": [],
   "source": [
    "# Prometheus service was created during the intrumentize call.\n",
    "mf.info(\"prometheus\")"
   ]
  },
  {
   "cell_type": "code",
   "execution_count": null,
   "id": "4cffceeb-0b8a-40be-90d3-14a62ef49abc",
   "metadata": {},
   "outputs": [],
   "source": [
    "# Create the overview service - used for debugging.\n",
    "mf.create(\"overview\")"
   ]
  },
  {
   "cell_type": "code",
   "execution_count": null,
   "id": "f0ebcce1",
   "metadata": {},
   "outputs": [],
   "source": [
    "# Get the default overview information.\n",
    "mf.info(\"overview\")"
   ]
  },
  {
   "cell_type": "code",
   "execution_count": null,
   "id": "3e20a23b",
   "metadata": {},
   "outputs": [],
   "source": [
    "# Request the returned readmes in a certain format.\n",
    "data = {}\n",
    "data[\"readme_format\"] = \"combined\"\n",
    "mf.info(\"overview\", data)"
   ]
  },
  {
   "cell_type": "markdown",
   "id": "85bfc8d7",
   "metadata": {},
   "source": [
    "# Helpers for standard slice actions.\n",
    "## Helper to get slice information and login commands."
   ]
  },
  {
   "cell_type": "code",
   "execution_count": null,
   "id": "656543d1-9830-482b-b9c5-8e11203ec4cb",
   "metadata": {},
   "outputs": [],
   "source": [
    "try:\n",
    "    slice = fablib.get_slice(name=slice_name)\n",
    "    for node in slice.get_nodes():\n",
    "        print(\"Node:\")\n",
    "        print(f\"   Name              : {node.get_name()}\")\n",
    "        print(f\"   Cores             : {node.get_cores()}\")\n",
    "        print(f\"   RAM               : {node.get_ram()}\")\n",
    "        print(f\"   Disk              : {node.get_disk()}\")\n",
    "        print(f\"   Image             : {node.get_image()}\")\n",
    "        print(f\"   Image Type        : {node.get_image_type()}\")\n",
    "        print(f\"   Host              : {node.get_host()}\")\n",
    "        print(f\"   Site              : {node.get_site()}\")\n",
    "        print(f\"   Management IP     : {node.get_management_ip()}\")\n",
    "        print(f\"   Reservation ID    : {node.get_reservation_id()}\")\n",
    "        print(f\"   Reservation State : {node.get_reservation_state()}\")\n",
    "        print(f\"   SSH Command       : {node.get_ssh_command()}\")\n",
    "        print(f\"   Components        :  \")\n",
    "        for component in node.get_components():\n",
    "            print(f\"      Name             : {component.get_name()}\")\n",
    "            print(f\"      Details          : {component.get_details()}\")\n",
    "            print(f\"      Disk (G)         : {component.get_disk()}\")\n",
    "            print(f\"      Units            : {component.get_unit()}\")\n",
    "            print(f\"      PCI Address      : {component.get_pci_addr()}\")\n",
    "            print(f\"      Model            : {component.get_model()}\")\n",
    "            print(f\"      Type             : {component.get_type()}\") \n",
    "        print(f\"   Interfaces        :  \")\n",
    "        for interface in node.get_interfaces():\n",
    "            print(f\"       Name                : {interface.get_name()}\")\n",
    "            print(f\"           Bandwidth           : {interface.get_bandwidth()}\")\n",
    "            print(f\"           VLAN                : {interface.get_vlan()}\")  \n",
    "            print(f\"           MAC                 : {interface.get_mac()}\") \n",
    "            print(f\"           OS iface name       : {interface.get_os_interface()}\")\n",
    "    for network in slice.get_l2networks():\n",
    "        print(\"Network:\")\n",
    "        print(f\"    Name:            {network.get_name()}\")\n",
    "    print(f\"Interface Map: {slice.get_interface_map()}\")\n",
    "except Exception as e:\n",
    "    print(f\"Fail: {e}\")\n",
    "    traceback.print_exc()"
   ]
  },
  {
   "cell_type": "markdown",
   "id": "b0f8e12c-dc34-40f4-8dd9-75ab0f837e07",
   "metadata": {},
   "source": []
  },
  {
   "cell_type": "markdown",
   "id": "9023adfe",
   "metadata": {},
   "source": [
    "## Check/extend slice life."
   ]
  },
  {
   "cell_type": "code",
   "execution_count": null,
   "id": "972dc1de-6d20-476e-877f-f7d8941cba3d",
   "metadata": {},
   "outputs": [],
   "source": [
    "try:\n",
    "    slice = fablib.get_slice(name=slice_name)\n",
    "    print(f\"Lease End         : {slice.get_lease_end()}\")\n",
    "       \n",
    "except Exception as e:\n",
    "    print(f\"Exception: {e}\")"
   ]
  },
  {
   "cell_type": "code",
   "execution_count": null,
   "id": "ab2e493b-124f-4394-98c5-2ee8af660a63",
   "metadata": {},
   "outputs": [],
   "source": [
    "import datetime\n",
    "\n",
    "#Extend slice\n",
    "end_date = (datetime.datetime.now() + datetime.timedelta(days=6)).strftime(\"%Y-%m-%d %H:%M:%S\")\n",
    "\n",
    "try:\n",
    "    slice = fablib.get_slice(name=slice_name)\n",
    "    slice.renew(end_date)\n",
    "except Exception as e:\n",
    "    print(f\"Exception: {e}\")"
   ]
  },
  {
   "cell_type": "markdown",
   "id": "f2434532",
   "metadata": {},
   "source": [
    "## Delete Slice"
   ]
  },
  {
   "cell_type": "code",
   "execution_count": null,
   "id": "33b42855-f9a9-45f5-b692-31593213e1be",
   "metadata": {},
   "outputs": [],
   "source": [
    "try:\n",
    "    slice = fablib.get_slice(name=slice_name)\n",
    "    slice.delete()\n",
    "except Exception as e:\n",
    "    print(f\"Fail: {e}\")\n",
    "    traceback.print_exc()"
   ]
  }
 ],
 "metadata": {
  "kernelspec": {
   "display_name": "Python 3 (ipykernel)",
   "language": "python",
   "name": "python3"
  },
  "language_info": {
   "codemirror_mode": {
    "name": "ipython",
    "version": 3
   },
   "file_extension": ".py",
   "mimetype": "text/x-python",
   "name": "python",
   "nbconvert_exporter": "python",
   "pygments_lexer": "ipython3",
   "version": "3.9.2"
  }
 },
 "nbformat": 4,
 "nbformat_minor": 5
}
