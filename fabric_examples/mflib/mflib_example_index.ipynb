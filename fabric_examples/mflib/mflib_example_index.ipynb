{
 "cells": [
  {
   "cell_type": "markdown",
   "id": "0c2da6f1",
   "metadata": {},
   "source": [
    "# MFLib - FABRIC API Examples: Jupyter Notebooks\n",
    "The MeasurementFramework Library - MFLib - makes it easy to install an extensive collection of monitoring tools into your Fabric experiment.\n",
    "\n"
   ]
  },
  {
   "cell_type": "markdown",
   "id": "40bcc917",
   "metadata": {
    "tags": []
   },
   "source": [
    "\n",
    "## Getting Started Tutorials\n",
    "\n",
    "- [Configure Key Copies](./configure_keys.ipynb): Setup keys for SSH tunnels required for accessing Grafana & Kibana\n",
    "- [Instumentize a Slice](./intro_to_mflib.ipynb): Baisc First Slice Instrumentation using MFLib API\n",
    "- [Indepth MFLib](./intro_to_mflib_full.ipynb): Indepth Slice Instrumentation\n",
    "- [Adding Graphs to Jupyter Notebooks](./mfvis_jupyternotebook_graphs.ipynb): Adding Graphs to Jupyter Notebooks using MFVis API\n",
    "- [Downloading Graphs](./mfvis_graph_downloading.ipynb): Downloading Graphs using MFVis API\n"
   ]
  }
 ],
 "metadata": {
  "kernelspec": {
   "display_name": "Python 3.8.10 64-bit",
   "language": "python",
   "name": "python3"
  },
  "language_info": {
   "codemirror_mode": "shell",
   "file_extension": ".sh",
   "mimetype": "text/x-sh",
   "name": "python",
   "version": "3.8.10"
  },
  "vscode": {
   "interpreter": {
    "hash": "916dbcbb3f70747c44a77c7bcd40155683ae19c65e1c03b4aa3499c5328201f1"
   }
  }
 },
 "nbformat": 4,
 "nbformat_minor": 5
}
