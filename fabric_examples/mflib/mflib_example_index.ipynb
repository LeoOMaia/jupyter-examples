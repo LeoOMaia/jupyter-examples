{
 "cells": [
  {
   "attachments": {},
   "cell_type": "markdown",
   "id": "0c2da6f1",
   "metadata": {},
   "source": [
    "#### Measurement Framework Library\n",
    "# MFLib API Examples: Jupyter Notebooks\n",
    "The MeasurementFramework Library - MFLib - makes it easy to install an extensive collection of monitoring tools into your Fabric experiment.\n",
    "\n",
    "To get started you should:\n",
    "* Check if you need to [Configure Key Copies](./configure_keys.ipynb) on your local machine. Most likely you will as this is the most common use case.  \n",
    "* Check if MFLib is installed & which version is installed using [Check MFLib Version](./mflib_version_check.ipynb)\n",
    "* Install MFLib if needed. [Install MFLIB using PIP (recommended)](./mflib_install.ipynb) or [Install MFLIB using source code](./mflib_install.ipynb).\n",
    "\n",
    "Next go to [Prepare a Slice](./prepare_a_slice.ipynb) to learn how to create a slice ready to have the Measurement Framework installed.  \n",
    "Then go to [Instumentize a Slice](./instrumentize_a_slice.ipynb) to learn how to add monitoring to your experiment. This notebook will get your slice instrumentized and gathering data.   \n",
    "\n",
    "Once the slice is Instrumentized and gathering data go to [Prometheus & Grafana in a Slice](./prometheus_grafana.ipynb) and [ELK & Kibana in a Slice](./elk_kibana.ipynb) to learn how to access the collected data.  \n",
    "Then go on to the More Ways to Use Graphs notebooks to learn how to add static and dynamic graphs to your notebooks.  \n",
    "\n"
   ]
  },
  {
   "attachments": {},
   "cell_type": "markdown",
   "id": "40bcc917",
   "metadata": {
    "tags": []
   },
   "source": [
    "\n",
    "## Getting Started Tutorials\n",
    "\n",
    "- [Configure Key Copies](./configure_keys.ipynb): Setup keys for SSH tunnels required for accessing Grafana & Kibana\n",
    "\n",
    "- [Check MFLib Version](./mflib_version_check.ipynb)\n",
    "\n",
    "- [Install MFLib via PIP (recommended)](./mflib_install_via_pip.ipynb)\n",
    "- [Install MFLib via source code](./mflib_install_via_source.ipynb)\n",
    "\n",
    "- [Prepare a Slice](./prepare_a_slice.ipynb): Create a slice that is ready be Instrumentized\n",
    "- [Instumentize a Slice](./instrumentize_a_slice.ipynb): Instrumentize a slice using MFLib API  \n",
    "\n",
    "- [Prometheus & Grafana in a Slice](./prometheus_grafana.ipynb): Accessing Prometheus metrics with Grafana\n",
    "- [ELK & Kibana in a Slice](./elk_kibana.ipynb) Accessing ELK logs & metrics with Kibana\n",
    "\n",
    "## More Ways to Use Graphs\n",
    "\n",
    "- [Adding Graphs to Jupyter Notebooks](./mfvis_jupyternotebook_graphs.ipynb): Adding Graphs to Jupyter Notebooks using MFVis API\n",
    "- [Downloading Graphs](./mfvis_graph_downloading.ipynb): Downloading PNG Graphs using MFVis API\n",
    "\n",
    "## Workshop Tutorials\n",
    "### KNIT6\n",
    "- [Prepare a KNIT6 Slice ](./KNIT6_prepare_a_slice.ipynb): Create a slice that is ready to be Instrumentized.\n",
    "- [Prepare a KNIT6 Slice Via Images](./KNIT6_prepare_a_slice_via_images.ipynb): Create a slice using disk images that is ready to be Instrumentized."
   ]
  },
  {
   "cell_type": "markdown",
   "id": "a0963a31",
   "metadata": {},
   "source": []
  }
 ],
 "metadata": {
  "kernelspec": {
   "display_name": "Python 3.8.10 64-bit",
   "language": "python",
   "name": "python3"
  },
  "language_info": {
   "codemirror_mode": "shell",
   "file_extension": ".sh",
   "mimetype": "text/x-sh",
   "name": "python",
   "version": "3.8.10"
  },
  "vscode": {
   "interpreter": {
    "hash": "916dbcbb3f70747c44a77c7bcd40155683ae19c65e1c03b4aa3499c5328201f1"
   }
  }
 },
 "nbformat": 4,
 "nbformat_minor": 5
}
