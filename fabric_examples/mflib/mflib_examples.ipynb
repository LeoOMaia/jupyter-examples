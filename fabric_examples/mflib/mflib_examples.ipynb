{
 "cells": [
  {
   "cell_type": "markdown",
   "id": "0c2da6f1",
   "metadata": {},
   "source": [
    "# MFLib - FABRIC API Examples: Jupyter Notebooks\n",
    "The MeasurementFramework Library - MFLib - makes it easy to install an extensive collection of monitoring tools into your Fabric experiment.\n",
    "\n"
   ]
  },
  {
   "cell_type": "markdown",
   "id": "40bcc917",
   "metadata": {
    "tags": []
   },
   "source": [
    "\n",
    "## Getting Started Tutorials\n",
    "\n",
    "- [Intro to MFLIB](./intro_to_mflib.ipynb): Simple First Slice with Instrumentation Example\n",
    "- etc...\n"
   ]
  }
 ],
 "metadata": {
  "kernelspec": {
   "display_name": "Bash",
   "language": "bash",
   "name": "bash"
  },
  "language_info": {
   "codemirror_mode": "shell",
   "file_extension": ".sh",
   "mimetype": "text/x-sh",
   "name": "bash"
  }
 },
 "nbformat": 4,
 "nbformat_minor": 5
}
