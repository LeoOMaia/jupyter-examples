{
 "cells": [
  {
   "cell_type": "markdown",
   "id": "0c2da6f1",
   "metadata": {},
   "source": [
    "# MFLib - FABRIC API Examples: Jupyter Notebooks\n",
    "The MeasurementFramework Library - MFLib - makes it easy to install an extensive collection of monitoring tools into your Fabric experiment.\n",
    "\n"
   ]
  },
  {
   "cell_type": "markdown",
   "id": "40bcc917",
   "metadata": {
    "tags": []
   },
   "source": [
    "\n",
    "## Getting Started Tutorials\n",
    "\n",
    "- [Configure Key Copies](./configure_keys.ipynb): Setup keys for SSH tunnel\n",
    "- [Intro to MFLIB](./intro_to_mflib.ipynb): Simple First Slice with Instrumentation Example\n",
    "#- [Test Notebook](./mf_extensive_test.ipynb): For testing/debugging many aspects of MFLIB\n",
    "- [Visualize Graphs](./mfvis.ipynb): Viewing graphs\n",
    "- [Visualize Testing](./mfvis_test.ipynb): For testing/debuggin MFVIS\n",
    "- etc...\n"
   ]
  }
 ],
 "metadata": {
  "kernelspec": {
   "display_name": "Python 3.8.10 64-bit",
   "language": "python",
   "name": "python3"
  },
  "language_info": {
   "codemirror_mode": "shell",
   "file_extension": ".sh",
   "mimetype": "text/x-sh",
   "name": "python",
   "version": "3.8.10"
  },
  "vscode": {
   "interpreter": {
    "hash": "916dbcbb3f70747c44a77c7bcd40155683ae19c65e1c03b4aa3499c5328201f1"
   }
  }
 },
 "nbformat": 4,
 "nbformat_minor": 5
}
