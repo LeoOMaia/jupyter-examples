{
 "cells": [
  {
   "attachments": {},
   "cell_type": "markdown",
   "metadata": {},
   "source": [
    "# MFLib Install\n",
    "\n",
    "MFLib is a python package and can be installed multiple ways.\n",
    "\n",
    "The recommended way is [Install MFLib via PIP](./mflib_install_via_pip.ipynb)  \n",
    "\n",
    "Advanced users may use [Install MFLib via source code](./mflib_install_via_source.ipynb)"
   ]
  }
 ],
 "metadata": {
  "kernelspec": {
   "display_name": "Python 3",
   "language": "python",
   "name": "python3"
  },
  "language_info": {
   "name": "python",
   "version": "3.8.10 (default, Nov 14 2022, 12:59:47) \n[GCC 9.4.0]"
  },
  "orig_nbformat": 4,
  "vscode": {
   "interpreter": {
    "hash": "916dbcbb3f70747c44a77c7bcd40155683ae19c65e1c03b4aa3499c5328201f1"
   }
  }
 },
 "nbformat": 4,
 "nbformat_minor": 2
}
