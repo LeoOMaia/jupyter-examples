{
 "cells": [
  {
   "attachments": {},
   "cell_type": "markdown",
   "metadata": {},
   "source": [
    "# Check Installed Version of MFLib\n",
    "Important - You must restart this notebook kernal if install of MFLib has changed since this notebook was opened."
   ]
  },
  {
   "attachments": {},
   "cell_type": "markdown",
   "metadata": {},
   "source": [
    "## Version\n",
    "Run the following code to check if MFLib is installed and which version is installed."
   ]
  },
  {
   "cell_type": "code",
   "execution_count": null,
   "metadata": {},
   "outputs": [],
   "source": [
    "import mflib\n",
    "print(f\"{mflib.__VERSION__} mflib Package version \")\n",
    "\n",
    "print(\"Available modules in mflib:\")\n",
    "import pkgutil\n",
    "modules = [s[1] for s in list(pkgutil.iter_modules(mflib.__path__))]\n",
    "print(f\"  {modules}\")\n",
    "\n",
    "\n",
    "try:\n",
    "\n",
    "    from   mflib.core import Core\n",
    "    from   mflib.mflib import MFLib\n",
    "    from   mflib.mfvis import MFVis\n",
    "    \n",
    "    print(\"Class Versions\")\n",
    "    print(\"  Core\")\n",
    "    print(f\"    {Core.core_class_version} mflib core class version \")\n",
    "    \n",
    "    print(f\"  MFLib\")\n",
    "    print(f\"    {MFLib.mflib_class_version} mflib class version\")\n",
    "    print(f\"    {MFLib.core_class_version} mflib core inherited class version\")\n",
    "    \n",
    "    print(f\"  MFVis\")\n",
    "    print(f\"    {MFVis.mfvis_class_version} mfvis class version\")\n",
    "    print(f\"    {MFVis.mflib_class_version} mflib class version\")\n",
    "    print(f\"    {MFVis.core_class_version} mflib core inherited class version\")\n",
    "    \n",
    "except Exception as e:\n",
    "    print(e)"
   ]
  }
 ],
 "metadata": {
  "kernelspec": {
   "display_name": "Python 3.8.10 64-bit",
   "language": "python",
   "name": "python3"
  },
  "language_info": {
   "name": "python",
   "version": "3.8.10 (default, Nov 14 2022, 12:59:47) \n[GCC 9.4.0]"
  },
  "orig_nbformat": 4,
  "vscode": {
   "interpreter": {
    "hash": "916dbcbb3f70747c44a77c7bcd40155683ae19c65e1c03b4aa3499c5328201f1"
   }
  }
 },
 "nbformat": 4,
 "nbformat_minor": 2
}
