{
 "cells": [
  {
   "attachments": {},
   "cell_type": "markdown",
   "metadata": {},
   "source": [
    "# Check Installed Versions of MFLib\n",
    "Important - You must restart this notebook kernal if install of MFLib has changed since this notebook was opened."
   ]
  },
  {
   "cell_type": "markdown",
   "metadata": {},
   "source": [
    "## Version\n",
    "* fabrictestbed-extensions 1.3.1\n",
    "  * mflib core 1.0.30\n",
    "  * mflib 1.0.30"
   ]
  },
  {
   "cell_type": "code",
   "execution_count": null,
   "metadata": {},
   "outputs": [],
   "source": [
    "import mflib\n",
    "print(f\"{mflib.__VERSION__} mflib Package version \")\n",
    "\n",
    "print(\"Available modules in mflib:\")\n",
    "import pkgutil\n",
    "modules = [s[1] for s in list(pkgutil.iter_modules(mflib.__path__))]\n",
    "print(f\"  {modules}\")\n",
    "\n",
    "\n",
    "try:\n",
    "\n",
    "    from   mflib.core import Core\n",
    "    from   mflib.mflib import MFLib\n",
    "    \n",
    "    print(\"Versions\")\n",
    "    print(f\"  {Core.core_version} mflib core version \")\n",
    "    print(f\"  {MFLib.core_version} mflib core inherited version\")\n",
    "    print(f\"  {MFLib.mflib_version} mflib version \")\n",
    "except Exception as e:\n",
    "    print(e)"
   ]
  }
 ],
 "metadata": {
  "kernelspec": {
   "display_name": "Python 3.8.10 64-bit",
   "language": "python",
   "name": "python3"
  },
  "language_info": {
   "name": "python",
   "version": "3.8.10 (default, Nov 14 2022, 12:59:47) \n[GCC 9.4.0]"
  },
  "orig_nbformat": 4,
  "vscode": {
   "interpreter": {
    "hash": "916dbcbb3f70747c44a77c7bcd40155683ae19c65e1c03b4aa3499c5328201f1"
   }
  }
 },
 "nbformat": 4,
 "nbformat_minor": 2
}
