{
 "cells": [
  {
   "cell_type": "code",
   "execution_count": null,
   "id": "e2fb4450-c644-4f76-ae18-73b21b3b4e08",
   "metadata": {},
   "outputs": [],
   "source": []
  },
  {
   "cell_type": "markdown",
   "id": "06111d9a-3db5-42df-8616-0aaa30eb8976",
   "metadata": {},
   "source": [
    "This notebook shows how to get graphs for an existing instumentized slice. See ?TODO some other notebook? for creating/init/instrumentize a slice. Once a slice is instrumentized you can get the graphs anytime using a few lines of code."
   ]
  },
  {
   "cell_type": "code",
   "execution_count": null,
   "id": "685af98f",
   "metadata": {},
   "outputs": [],
   "source": [
    "# Set the slice name.\n",
    "slice_name = \"existingslice\""
   ]
  },
  {
   "cell_type": "code",
   "execution_count": null,
   "id": "0a901465-bb9a-4934-9f7b-5e3582ed1f3c",
   "metadata": {},
   "outputs": [],
   "source": [
    "import os\n",
    "import json\n",
    "import traceback\n",
    "\n",
    "from fabrictestbed_extensions.fablib.fablib import fablib\n",
    "from mflib import mflib\n",
    "import mfvis"
   ]
  },
  {
   "cell_type": "markdown",
   "id": "0e559aff-f2dc-48db-8d58-2536c30b8eac",
   "metadata": {},
   "source": [
    "## Create the mflib object & initialize with slice_name\n"
   ]
  },
  {
   "cell_type": "code",
   "execution_count": null,
   "id": "43c4ac8d-ee59-4c87-bcc4-1d58bc33a8ec",
   "metadata": {},
   "outputs": [],
   "source": [
    "mf = mflib()\n",
    "mf.init(slice_name)\n",
    "print(mf.sanity_version)"
   ]
  },
  {
   "cell_type": "markdown",
   "id": "357883bf",
   "metadata": {},
   "source": [
    "## Create the mfvis object passing in the mflib object"
   ]
  },
  {
   "cell_type": "code",
   "execution_count": null,
   "id": "11f66eda",
   "metadata": {},
   "outputs": [],
   "source": [
    "mfv = mfvis.mfvis(mf)\n",
    "mfv.sanity_version"
   ]
  },
  {
   "cell_type": "markdown",
   "id": "1be77a4c",
   "metadata": {},
   "source": [
    "## Load in dashboard information\n",
    "??TODO?? This will have to be done at some point. Should we include a python file with the data preloaded??"
   ]
  },
  {
   "cell_type": "markdown",
   "id": "4505df95",
   "metadata": {},
   "source": [
    "### Load the Node Exporter Full dashboard"
   ]
  },
  {
   "cell_type": "code",
   "execution_count": null,
   "id": "e2c1707b-09c1-4cb5-94f2-20c522fff332",
   "metadata": {},
   "outputs": [],
   "source": [
    "mfv.grafana_tunnel_host = \"localhost:10010\"\n",
    "url = mfv.grafana_dashboard_url(\"node-exporter-full\")\n",
    "print(url)\n",
    "url = mfv.grafana_panel_url(\"network-traffic-dashboard\", \"Network Traffic by Packets\")\n",
    "url = mfv.add_node_name(url, \"Node1\")\n",
    "url = mfv.add_time_filter(url, \"5 minutes\")\n",
    "print(url)\n",
    "var_name = \"device\"\n",
    "var_value = \"ens3\"\n",
    "url = mfv.add_var(url, var_name, var_value)\n",
    "\n",
    "print(url)\n"
   ]
  },
  {
   "cell_type": "code",
   "execution_count": null,
   "id": "dc96cfbf-e8aa-4f41-bdbb-1c2a4becbaf7",
   "metadata": {},
   "outputs": [],
   "source": [
    "mfv.visualize_prometheus()"
   ]
  },
  {
   "cell_type": "code",
   "execution_count": null,
   "id": "ccf4cd6d-ee0b-4200-8213-d396e2d992c6",
   "metadata": {},
   "outputs": [],
   "source": [
    "mfv.visualize_prometheus()\n"
   ]
  }
 ],
 "metadata": {
  "kernelspec": {
   "display_name": "Python 3.8.10 64-bit",
   "language": "python",
   "name": "python3"
  },
  "language_info": {
   "codemirror_mode": {
    "name": "ipython",
    "version": 3
   },
   "file_extension": ".py",
   "mimetype": "text/x-python",
   "name": "python",
   "nbconvert_exporter": "python",
   "pygments_lexer": "ipython3",
   "version": "3.8.10"
  },
  "vscode": {
   "interpreter": {
    "hash": "916dbcbb3f70747c44a77c7bcd40155683ae19c65e1c03b4aa3499c5328201f1"
   }
  }
 },
 "nbformat": 4,
 "nbformat_minor": 5
}
