{
 "cells": [
  {
   "cell_type": "markdown",
   "id": "23752ea0",
   "metadata": {},
   "source": [
    "## Setup Experiment Slice"
   ]
  },
  {
   "cell_type": "markdown",
   "id": "4b35910e",
   "metadata": {},
   "source": [
    "### Set slice information"
   ]
  },
  {
   "cell_type": "code",
   "execution_count": null,
   "id": "e9dae98a",
   "metadata": {},
   "outputs": [],
   "source": [
    "slice_name = \"MF\""
   ]
  },
  {
   "cell_type": "markdown",
   "id": "ad328fe9",
   "metadata": {},
   "source": [
    "# Visualize Measurement Graphs in JupyterHub"
   ]
  },
  {
   "cell_type": "markdown",
   "id": "1e3a4c14",
   "metadata": {},
   "source": [
    "## Import mfvis and create new mfvis object with slice name"
   ]
  },
  {
   "cell_type": "code",
   "execution_count": null,
   "id": "fbbe84a2",
   "metadata": {},
   "outputs": [],
   "source": [
    "# If you installed the mfvis branch you can use:\n",
    "#from fabrictestbed_extensions.mflib.mfvis import mfvis\n",
    "# If you are using a local copy of the mflib.py file use:\n",
    "from mfvis import mfvis"
   ]
  },
  {
   "cell_type": "code",
   "execution_count": null,
   "id": "af94c90e",
   "metadata": {},
   "outputs": [],
   "source": [
    "mfv = mfvis(slice_name)"
   ]
  },
  {
   "cell_type": "markdown",
   "id": "a2a67502",
   "metadata": {},
   "source": [
    "# Open SSH Tunnel\n",
    "Ensure that the tunnel is open to the Measurement Node running Grafana.\n",
    "If you are running multiplel slices you may want to set a custom local port for your slice. You may choose any port you want being sure to avoid common ports."
   ]
  },
  {
   "cell_type": "code",
   "execution_count": null,
   "id": "81527360",
   "metadata": {},
   "outputs": [],
   "source": [
    "#mfv.grafana_tunnel_local_port = 10099\n",
    "mfv.grafana_tunnel"
   ]
  },
  {
   "cell_type": "markdown",
   "id": "0355ab29",
   "metadata": {},
   "source": [
    "## Display the interactive GUI and show the real-time graph."
   ]
  },
  {
   "cell_type": "code",
   "execution_count": null,
   "id": "2005208e",
   "metadata": {},
   "outputs": [],
   "source": [
    "mfv.visualize_live_prometheus()"
   ]
  },
  {
   "cell_type": "markdown",
   "id": "bf6e74bb",
   "metadata": {},
   "source": [
    "Note if tunnel is not open or self-signed cert has not been accepted....\n"
   ]
  }
 ],
 "metadata": {
  "kernelspec": {
   "display_name": "Python 3 (ipykernel)",
   "language": "python",
   "name": "python3"
  },
  "language_info": {
   "codemirror_mode": {
    "name": "ipython",
    "version": 3
   },
   "file_extension": ".py",
   "mimetype": "text/x-python",
   "name": "python",
   "nbconvert_exporter": "python",
   "pygments_lexer": "ipython3",
   "version": "3.8.10"
  },
  "vscode": {
   "interpreter": {
    "hash": "916dbcbb3f70747c44a77c7bcd40155683ae19c65e1c03b4aa3499c5328201f1"
   }
  }
 },
 "nbformat": 4,
 "nbformat_minor": 5
}
