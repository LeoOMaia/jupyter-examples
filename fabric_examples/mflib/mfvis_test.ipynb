{
 "cells": [
  {
   "cell_type": "code",
   "execution_count": null,
   "id": "e2fb4450-c644-4f76-ae18-73b21b3b4e08",
   "metadata": {},
   "outputs": [],
   "source": []
  },
  {
   "cell_type": "code",
   "execution_count": null,
   "id": "06111d9a-3db5-42df-8616-0aaa30eb8976",
   "metadata": {},
   "outputs": [],
   "source": []
  },
  {
   "cell_type": "code",
   "execution_count": null,
   "id": "0a901465-bb9a-4934-9f7b-5e3582ed1f3c",
   "metadata": {},
   "outputs": [],
   "source": [
    "import os\n",
    "import json\n",
    "import traceback\n",
    "\n",
    "from fabrictestbed_extensions.fablib.fablib import fablib\n",
    "\n",
    "\n",
    "slice_name = \"mon_RENAME_MAX_01\""
   ]
  },
  {
   "cell_type": "code",
   "execution_count": null,
   "id": "0e559aff-f2dc-48db-8d58-2536c30b8eac",
   "metadata": {},
   "outputs": [],
   "source": [
    "from mflib import mflib\n"
   ]
  },
  {
   "cell_type": "code",
   "execution_count": null,
   "id": "43c4ac8d-ee59-4c87-bcc4-1d58bc33a8ec",
   "metadata": {},
   "outputs": [],
   "source": [
    "mf = mflib()\n",
    "print(mf.sanity_version)"
   ]
  },
  {
   "cell_type": "code",
   "execution_count": null,
   "id": "b0595509-580e-466e-96e5-577229e64207",
   "metadata": {},
   "outputs": [],
   "source": []
  },
  {
   "cell_type": "code",
   "execution_count": null,
   "id": "36e20733-6f3e-4053-b715-1891bab77deb",
   "metadata": {},
   "outputs": [],
   "source": [
    "# mf.repo_branch = \"experiment_node_rename\"\n",
    "\n",
    "mf.init(slice_name)"
   ]
  },
  {
   "cell_type": "code",
   "execution_count": null,
   "id": "c70d53d2-44bb-4596-a4ca-fc126b19b676",
   "metadata": {},
   "outputs": [],
   "source": []
  },
  {
   "cell_type": "code",
   "execution_count": null,
   "id": "6abba814-dcd5-4230-837b-5f0555a7f0c3",
   "metadata": {},
   "outputs": [],
   "source": []
  },
  {
   "cell_type": "code",
   "execution_count": null,
   "id": "f7d3a514-ba20-4a31-9bba-796c75c9dde2",
   "metadata": {},
   "outputs": [],
   "source": [
    "import mfvis2"
   ]
  },
  {
   "cell_type": "code",
   "execution_count": null,
   "id": "323f14e7-6e4a-4487-ac48-ae5d881879a2",
   "metadata": {},
   "outputs": [],
   "source": [
    "import importlib\n",
    "importlib.reload(mfvis2)"
   ]
  },
  {
   "cell_type": "code",
   "execution_count": null,
   "id": "035c1c0e-3bac-4670-88c5-e73789379997",
   "metadata": {},
   "outputs": [],
   "source": [
    "mfv = mfvis2.mfvis2(mf)\n",
    "mfv.sanity_version"
   ]
  },
  {
   "cell_type": "code",
   "execution_count": null,
   "id": "bfb15258-3e91-439f-be20-4cc7751fb3bc",
   "metadata": {},
   "outputs": [],
   "source": [
    "print(mfv.mf.meas_node_ip)"
   ]
  },
  {
   "cell_type": "code",
   "execution_count": null,
   "id": "b722a505-1980-4b80-ba90-87b52820c7fd",
   "metadata": {},
   "outputs": [],
   "source": [
    "mfv.dashboard_info"
   ]
  },
  {
   "cell_type": "code",
   "execution_count": null,
   "id": "3e962616",
   "metadata": {},
   "outputs": [],
   "source": [
    "node_dashboard = { 'uid': 'rYdddlPWk', 'name': 'node-exporter-full', 'vars':[{'name':'job', 'default':'node'} , {'name':'DS_PROMETHEUS', 'default':'default'}, {'name':'diskdevices', 'default':'%5Ba-z%5D%2B%7Cnvme%5B0-9%5D%2Bn%5B0-9%5D%2B'}, {'name':'node'}] }\n",
    "mfv.add_dashboard(node_dashboard)\n",
    "\n",
    "\n",
    "panel = [{'name': 'CPU Busy', 'id': 20}, {'name': 'Sys Load (5m avg)', 'id': 155}, {'name': 'Sys Load (15m avg)', 'id': 19}, {'name': 'RAM Used', 'id': 16}, {'name': 'SWAP Used', 'id': 21}, {'name': 'Root FS Used', 'id': 154}, {'name': 'CPU Cores', 'id': 14}, {'name': 'Uptime', 'id': 15}, {'name': 'RootFS Total', 'id': 23}, {'name': 'RAM Total', 'id': 75}, {'name': 'SWAP Total', 'id': 18}, {'name': 'CPU Basic', 'id': 77}, {'name': 'Memory Basic', 'id': 78}, {'name': 'Network Traffic Basic', 'id': 74}, {'name': 'Disk Space Used Basic', 'id': 152}, {'name': 'CPU', 'id': 3}, {'name': 'Memory Stack', 'id': 24}, {'name': 'Network Traffic', 'id': 84}, {'name': 'Disk Space Used', 'id': 156}, {'name': 'Disk IOps', 'id': 229}, {'name': 'I/O Usage Read / Write', 'id': 42}, {'name': 'I/O Utilization', 'id': 127}, {'name': 'Memory Active / Inactive', 'id': 136}, {'name': 'Memory Commited', 'id': 135}, {'name': 'Memory Active / Inactive Detail', 'id': 191}, {'name': 'Memory Writeback and Dirty', 'id': 130}, {'name': 'Memory Shared and Mapped', 'id': 138}, {'name': 'Memory Slab', 'id': 131}, {'name': 'Memory Vmalloc', 'id': 70}, {'name': 'Memory Bounce', 'id': 159}, {'name': 'Memory Anonymous', 'id': 129}, {'name': 'Memory Kernel / CPU', 'id': 160}, {'name': 'Memory HugePages Counter', 'id': 140}, {'name': 'Memory HugePages Size', 'id': 71}, {'name': 'Memory DirectMap', 'id': 128}, {'name': 'Memory Unevictable and MLocked', 'id': 137}, {'name': 'Memory NFS', 'id': 132}, {'name': 'Memory Pages In / Out', 'id': 176}, {'name': 'Memory Pages Swap In / Out', 'id': 22}, {'name': 'Memory Page Faults', 'id': 175}, {'name': 'OOM Killer', 'id': 307}, {'name': 'Time Syncronized Drift', 'id': 260}, {'name': 'Time PLL Adjust', 'id': 291}, {'name': 'Time Syncronized Status', 'id': 168}, {'name': 'Time Misc', 'id': 294}, {'name': 'Processes Status', 'id': 62}, {'name': 'Processes State', 'id': 315}, {'name': 'Processes  Forks', 'id': 148}, {'name': 'Processes Memory', 'id': 149}, {'name': 'PIDs Number and Limit', 'id': 313}, {'name': 'Process schedule stats Running / Waiting', 'id': 305}, {'name': 'Threads Number and Limit', 'id': 314}, {'name': 'Context Switches / Interrupts', 'id': 8}, {'name': 'System Load', 'id': 7}, {'name': 'Interrupts Detail', 'id': 259}, {'name': 'Schedule timeslices executed by each cpu', 'id': 306}, {'name': 'Entropy', 'id': 151}, {'name': 'CPU time spent in user and system contexts', 'id': 308}, {'name': 'File Descriptors', 'id': 64}, {'name': 'Hardware temperature monitor', 'id': 158}, {'name': 'Throttle cooling device', 'id': 300}, {'name': 'Power supply', 'id': 302}, {'name': 'Systemd Sockets', 'id': 297}, {'name': 'Systemd Units State', 'id': 298}, {'name': 'Disk IOps Completed', 'id': 9}, {'name': 'Disk R/W Data', 'id': 33}, {'name': 'Disk Average Wait Time', 'id': 37}, {'name': 'Average Queue Size', 'id': 35}, {'name': 'Disk R/W Merged', 'id': 133}, {'name': 'Time Spent Doing I/Os', 'id': 36}, {'name': 'Instantaneous Queue Size', 'id': 34}, {'name': 'Disk IOps Discards completed / merged', 'id': 301}, {'name': 'Filesystem space available', 'id': 43}, {'name': 'File Nodes Free', 'id': 41}, {'name': 'File Descriptor', 'id': 28}, {'name': 'File Nodes Size', 'id': 219}, {'name': 'Filesystem in ReadOnly / Error', 'id': 44}, {'name': 'Network Traffic by Packets', 'id': 60}, {'name': 'Network Traffic Errors', 'id': 142}, {'name': 'Network Traffic Drop', 'id': 143}, {'name': 'Network Traffic Compressed', 'id': 141}, {'name': 'Network Traffic Multicast', 'id': 146}, {'name': 'Network Traffic Fifo', 'id': 144}, {'name': 'Network Traffic Frame', 'id': 145}, {'name': 'Network Traffic Carrier', 'id': 231}, {'name': 'Network Traffic Colls', 'id': 232}, {'name': 'NF Contrack', 'id': 61}, {'name': 'ARP Entries', 'id': 230}, {'name': 'MTU', 'id': 288}, {'name': 'Speed', 'id': 280}, {'name': 'Queue Length', 'id': 289}, {'name': 'Softnet Packets', 'id': 290}, {'name': 'Softnet Out of Quota', 'id': 310}, {'name': 'Network Operational Status', 'id': 309}, {'name': 'Sockstat TCP', 'id': 63}, {'name': 'Sockstat UDP', 'id': 124}, {'name': 'Sockstat FRAG / RAW', 'id': 125}, {'name': 'Sockstat Memory Size', 'id': 220}, {'name': 'Sockstat Used', 'id': 126}, {'name': 'Netstat IP In / Out Octets', 'id': 221}, {'name': 'Netstat IP Forwarding', 'id': 81}, {'name': 'ICMP In / Out', 'id': 115}, {'name': 'ICMP Errors', 'id': 50}, {'name': 'UDP In / Out', 'id': 55}, {'name': 'UDP Errors', 'id': 109}, {'name': 'TCP In / Out', 'id': 299}, {'name': 'TCP Errors', 'id': 104}, {'name': 'TCP Connections', 'id': 85}, {'name': 'TCP SynCookie', 'id': 91}, {'name': 'TCP Direct Transition', 'id': 82}, {'name': 'Node Exporter Scrape Time', 'id': 40}, {'name': 'Node Exporter Scrape', 'id': 157}]\n",
    "mfv.add_panel('node-exporter-full', panel)"
   ]
  },
  {
   "cell_type": "code",
   "execution_count": null,
   "id": "c7cf2a04-89aa-4ad1-a096-8cf9c7afd820",
   "metadata": {},
   "outputs": [],
   "source": [
    "network_traffic_dashboard = { 'uid': 'dHEquNzGz', 'name': 'network-traffic-dashboard', 'vars':[{'name':'job', 'default':'node'} , {'name':'DS_PROMETHEUS', 'default':'default'}, {'name':'device'}, {'name':'node'}] }\n",
    "\n",
    "\n",
    "mfv.add_dashboard(network_traffic_dashboard)\n",
    "\n",
    "panel = [{'name': 'Network Traffic by Packets', 'id': 8}, {'name': 'TCP In / Out', 'id': 13}, {'name': 'TCP Errors', 'id': 14}, {'name': 'UDP In / Out', 'id': 16}, {'name': 'UDP Errors', 'id': 17}, {'name': 'Network Traffic Received Errors', 'id': 10}, {'name': 'Network Traffic Send Errors', 'id': 11}]\n",
    "mfv.add_panel(\"network-traffic-dashboard\", panel)"
   ]
  },
  {
   "cell_type": "code",
   "execution_count": null,
   "id": "6813f3bd-652e-423b-8611-9d8d53d592a7",
   "metadata": {},
   "outputs": [],
   "source": [
    "mfv.dashboard_info"
   ]
  },
  {
   "cell_type": "code",
   "execution_count": null,
   "id": "1b85d34e-8d2f-42da-87e8-26025eb3342a",
   "metadata": {},
   "outputs": [],
   "source": [
    "mfv.dashboard_info"
   ]
  },
  {
   "cell_type": "code",
   "execution_count": null,
   "id": "39d36441-a47e-441d-8d35-e0b16e370400",
   "metadata": {},
   "outputs": [],
   "source": [
    "url = mfv.grafana_dashboard_url(\"node-exporter-full\")\n",
    "print(url)"
   ]
  },
  {
   "cell_type": "code",
   "execution_count": null,
   "id": "e2c1707b-09c1-4cb5-94f2-20c522fff332",
   "metadata": {},
   "outputs": [],
   "source": [
    "mfv.grafana_tunnel_host = \"localhost:10010\"\n",
    "url = mfv.grafana_dashboard_url(\"node-exporter-full\")\n",
    "print(url)\n",
    "url = mfv.grafana_panel_url(\"node-exporter-full\", \"prometheus network traffic\")\n",
    "print(url)"
   ]
  },
  {
   "cell_type": "code",
   "execution_count": null,
   "id": "5981d713-3e6b-4c0e-b10d-43b096f76508",
   "metadata": {},
   "outputs": [],
   "source": []
  },
  {
   "cell_type": "code",
   "execution_count": null,
   "id": "094becfc-99d9-416e-81fd-66090716c566",
   "metadata": {},
   "outputs": [],
   "source": [
    "https://localhost:10010/grafana/d/rYdddlPWk/node-exporter-full?orgId=1&refresh=5s"
   ]
  },
  {
   "cell_type": "code",
   "execution_count": null,
   "id": "dc96cfbf-e8aa-4f41-bdbb-1c2a4becbaf7",
   "metadata": {},
   "outputs": [],
   "source": [
    "mfv.visualize_prometheus()"
   ]
  },
  {
   "cell_type": "code",
   "execution_count": null,
   "id": "ccf4cd6d-ee0b-4200-8213-d396e2d992c6",
   "metadata": {},
   "outputs": [],
   "source": [
    "mfv.visualize_prometheus()\n"
   ]
  },
  {
   "cell_type": "code",
   "execution_count": null,
   "id": "71ea78cb-3c24-46aa-a40a-047887dc217f",
   "metadata": {},
   "outputs": [],
   "source": []
  },
  {
   "cell_type": "code",
   "execution_count": null,
   "id": "a33fa24c-86bd-4349-8f4b-6257187ed723",
   "metadata": {},
   "outputs": [],
   "source": []
  },
  {
   "cell_type": "code",
   "execution_count": null,
   "id": "9f639fa7-4ebe-4074-859c-b6ed1018503c",
   "metadata": {},
   "outputs": [],
   "source": []
  }
 ],
 "metadata": {
  "kernelspec": {
   "display_name": "Python 3.8.10 64-bit",
   "language": "python",
   "name": "python3"
  },
  "language_info": {
   "codemirror_mode": {
    "name": "ipython",
    "version": 3
   },
   "file_extension": ".py",
   "mimetype": "text/x-python",
   "name": "python",
   "nbconvert_exporter": "python",
   "pygments_lexer": "ipython3",
   "version": "3.8.10"
  },
  "vscode": {
   "interpreter": {
    "hash": "916dbcbb3f70747c44a77c7bcd40155683ae19c65e1c03b4aa3499c5328201f1"
   }
  }
 },
 "nbformat": 4,
 "nbformat_minor": 5
}
