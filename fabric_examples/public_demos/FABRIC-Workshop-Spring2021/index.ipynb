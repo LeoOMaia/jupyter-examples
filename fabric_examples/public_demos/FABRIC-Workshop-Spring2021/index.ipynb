{
 "cells": [
  {
   "cell_type": "markdown",
   "id": "0c2da6f1",
   "metadata": {},
   "source": [
    "# FABRIC Demos and Tutorials\n",
    "\n",
    "\n"
   ]
  },
  {
   "cell_type": "markdown",
   "id": "19651fde-76e0-4e82-ada1-29e3b8d0541a",
   "metadata": {},
   "source": [
    "## Internet2 TechEx (Dec 2022)\n",
    "\n",
    "- [Configure Environment](./configure.ipynb): Configure you Environment including creating the `fabric_rc` and `ssh_config` files.\n",
    "\n",
    "## SC22 (Nov 2022)\n",
    "\n",
    "## KNIT5 (Sept 2022)\n",
    "\n",
    "\n",
    "\n"
   ]
  },
  {
   "cell_type": "code",
   "execution_count": null,
   "id": "76146b01",
   "metadata": {},
   "outputs": [],
   "source": []
  }
 ],
 "metadata": {
  "kernelspec": {
   "display_name": "Bash",
   "language": "bash",
   "name": "bash"
  },
  "language_info": {
   "codemirror_mode": "shell",
   "file_extension": ".sh",
   "mimetype": "text/x-sh",
   "name": "bash"
  }
 },
 "nbformat": 4,
 "nbformat_minor": 5
}
