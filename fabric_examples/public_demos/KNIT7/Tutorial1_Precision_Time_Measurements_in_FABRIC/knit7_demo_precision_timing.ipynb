{
 "cells": [
  {
   "cell_type": "markdown",
   "id": "dfb6199e-9894-4896-89f4-4707eacb30ac",
   "metadata": {
    "tags": []
   },
   "source": [
    "# KNIT7\n",
    "# Demonstrate the use of Precision Timing Capability\n",
    "In this experiment, we will start a tcpdump process to capture all ICMP request packets with a nano-second high precison timestamp obtained from the NIC/PHC Clock into `PCAP` files. We will then send 5 ping packets from Node1 to Node4 and once the ping operation is complete, we will gather the pcap files and perform an analysis \n",
    "on the packets timestamps by tracking each packet as it flows though all the hops to reach its destination.\n",
    "\n",
    "## Install python-scapy library"
   ]
  },
  {
   "cell_type": "code",
   "execution_count": null,
   "id": "ac6b54c3-2c5e-4020-ae2e-7dd95fe4ab93",
   "metadata": {
    "tags": []
   },
   "outputs": [],
   "source": [
    "%%bash\n",
    "pip install scapy"
   ]
  },
  {
   "cell_type": "markdown",
   "id": "65ecf58f-557e-42a4-b52d-35ead0fb1232",
   "metadata": {},
   "source": [
    "## Import the FABlib Library"
   ]
  },
  {
   "cell_type": "code",
   "execution_count": null,
   "id": "593099ca-343a-498e-b052-1a0de11e764c",
   "metadata": {
    "tags": []
   },
   "outputs": [],
   "source": [
    "from fabrictestbed_extensions.fablib.fablib import FablibManager as fablib_manager\n",
    "import requests\n",
    "from scapy.all import *\n",
    "\n",
    "try:\n",
    "    fablib = fablib_manager()\n",
    "                     \n",
    "    fablib.show_config()\n",
    "except Exception as e:\n",
    "    print(f\"Exception: {e}\")"
   ]
  },
  {
   "cell_type": "markdown",
   "id": "007d0d42-34da-4d9e-b6e7-dfaf5b82e458",
   "metadata": {},
   "source": [
    "## Get Slice Name"
   ]
  },
  {
   "cell_type": "code",
   "execution_count": null,
   "id": "ac0f08df-5d20-4d36-b3b4-9dd2e849bdcc",
   "metadata": {},
   "outputs": [],
   "source": [
    "slice_name=f\"Slice for KNIT7 Precision Timing Tutorial\"\n",
    "slice = fablib.get_slice(name = slice_name)\n",
    "slice.show()\n",
    "slice.list_nodes()\n",
    "slice.list_networks()\n",
    "slice.list_interfaces()"
   ]
  },
  {
   "cell_type": "markdown",
   "id": "544ecabf-f344-4779-9c27-fd51e0644241",
   "metadata": {},
   "source": [
    "## Experiment Setup\n",
    "1. Upload  bash scripts in tools directory that will perform tcpdumps\n",
    "2. Start tcpdump on all nodes\n",
    "3. Start a series of 5 pings from Node1 to Node4\n",
    "4. Stop the tcpdump operation.\n",
    "5. Gather all pcap files from the tcpdump operation"
   ]
  },
  {
   "cell_type": "code",
   "execution_count": null,
   "id": "e6a17783-3eab-4b90-8821-f7369eafacb6",
   "metadata": {
    "tags": []
   },
   "outputs": [],
   "source": [
    "nodes = slice.get_nodes()\n",
    "node1 = None\n",
    "for node in nodes:\n",
    "    node.upload_directory('tools','~/')\n",
    "    iface_name = None\n",
    "    node_name = node.get_name()\n",
    "    if(node_name in ['node1']):\n",
    "        iface_name = (node.get_interfaces()[0]).get_physical_os_interface_name()\n",
    "        node1 = node\n",
    "    elif(node_name in ['node4']):\n",
    "        iface_name = (node.get_interfaces()[0]).get_physical_os_interface_name()\n",
    "    elif(node_name in ['node2']):\n",
    "        iface_name = (node.get_interface(network_name='net1')).get_physical_os_interface_name()\n",
    "    else:\n",
    "        iface_name = (node.get_interface(network_name='net2')).get_physical_os_interface_name()\n",
    "    print (f\"Starting tcpdump on {node_name}\")\n",
    "    node.execute_thread(f\"sudo -b tools/start_dump.sh {node_name} {iface_name}\")\n",
    "    \n",
    "stdout,stderr = node1.execute(f\"ping -c10 node4\")\n",
    "\n",
    "for node in nodes:\n",
    "    node_name = node.get_name()\n",
    "    print (f\"Stop TCPDUMP and Download pcap file to {node_name}.pcap\")\n",
    "    stdout,stderr = node.execute(f\"sudo -b tools/stop_dump.sh\")\n",
    "    #stdout,stderr = node.execute(f\"sudo killall tcpdump\")\n",
    "    node.download_file(f'{node_name}.pcap',f'{node_name}.pcap')"
   ]
  },
  {
   "cell_type": "markdown",
   "id": "fc646bab-6d53-43b1-9820-0036bc0d4647",
   "metadata": {},
   "source": [
    "## Analyze packet captures\n",
    "As the ping packets traverse thru node2 and node3 to reach node4, we collect pcap files at each hop on the incomming interfaces. Using the packet traces we identify each packet and compare the packet capture timestamps. If the clocks on all NICS were synchrinized via GPS clocks, then we should see timestamps incrementing. If for some reason the clock on any one of the NICs is not synchronized, the timestamps may not sequentially match up and lead to miscalcuations in computing transit times at intermediate(or end) hops."
   ]
  },
  {
   "cell_type": "code",
   "execution_count": null,
   "id": "0497b412-20f8-4cde-9a8f-1dd1ba0823c7",
   "metadata": {},
   "outputs": [],
   "source": [
    "node4_packets = rdpcap('node4.pcap')\n",
    "node3_packets = rdpcap('node3.pcap')\n",
    "node2_packets = rdpcap('node2.pcap')\n",
    "node1_packets = rdpcap('node1.pcap')\n",
    "\n",
    "def compare_packet(my_packet,other_packets):\n",
    "    for packet in other_packets:\n",
    "        if (my_packet[IP].src == packet[IP].src) and (my_packet[IP].dst == packet[IP].dst) and (my_packet[IP].id == packet[IP].id):\n",
    "            return packet\n",
    "    return None\n",
    "        \n",
    "    \n",
    "for node1_packet in node1_packets:\n",
    "    node2_packet = compare_packet(node1_packet,node2_packets)\n",
    "    node3_packet = compare_packet(node1_packet,node3_packets)\n",
    "    node4_packet = compare_packet(node1_packet,node4_packets)\n",
    "    if node2_packet is not None and node3_packet is not None and node4_packet is not None:\n",
    "        print (f\"{node1_packet.summary()} with ICMP SEQ# {node1_packet[ICMP].seq} found exiting \\n \\\n",
    "        node1 at {node1_packet.time} and then entering \\n \\\n",
    "        node2 at {node2_packet.time} and then entering \\n \\\n",
    "        node3 at {node3_packet.time} and then entering \\n \\\n",
    "        node4 at {node4_packet.time} and then entering \\n \\\n",
    "        \\n\\n\")"
   ]
  }
 ],
 "metadata": {
  "kernelspec": {
   "display_name": "Python 3 (ipykernel)",
   "language": "python",
   "name": "python3"
  },
  "language_info": {
   "codemirror_mode": {
    "name": "ipython",
    "version": 3
   },
   "file_extension": ".py",
   "mimetype": "text/x-python",
   "name": "python",
   "nbconvert_exporter": "python",
   "pygments_lexer": "ipython3",
   "version": "3.10.6"
  }
 },
 "nbformat": 4,
 "nbformat_minor": 5
}
