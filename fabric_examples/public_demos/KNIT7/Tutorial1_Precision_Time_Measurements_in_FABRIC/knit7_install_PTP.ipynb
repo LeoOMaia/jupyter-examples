{
 "cells": [
  {
   "cell_type": "markdown",
   "id": "dfb6199e-9894-4896-89f4-4707eacb30ac",
   "metadata": {
    "tags": []
   },
   "source": [
    "# KNIT7\n",
    "# Enable Precision Timing Capability on Nodes\n",
    "This notebook downloads the FABRIC [Measurement Framework repository](https://github.com/fabric-testbed/MeasurementFramework) from github onto your jupyterhub instance and copies off an ansible playbook that would deploy the [linuxptp software package](https://linuxptp.sourceforge.net/) to enable PTP on your nodes. Sites used in the topology should be PTP capable.\n",
    "\n",
    "## Import the FABlib Library"
   ]
  },
  {
   "cell_type": "code",
   "execution_count": null,
   "id": "593099ca-343a-498e-b052-1a0de11e764c",
   "metadata": {
    "tags": []
   },
   "outputs": [],
   "source": [
    "from fabrictestbed_extensions.fablib.fablib import FablibManager as fablib_manager\n",
    "import requests\n",
    "\n",
    "try:\n",
    "    fablib = fablib_manager()\n",
    "                     \n",
    "    fablib.show_config()\n",
    "except Exception as e:\n",
    "    print(f\"Exception: {e}\")"
   ]
  },
  {
   "cell_type": "markdown",
   "id": "007d0d42-34da-4d9e-b6e7-dfaf5b82e458",
   "metadata": {},
   "source": [
    "## Get Slice Name"
   ]
  },
  {
   "cell_type": "code",
   "execution_count": null,
   "id": "ac0f08df-5d20-4d36-b3b4-9dd2e849bdcc",
   "metadata": {},
   "outputs": [],
   "source": [
    "slice_name=f\"Slice for KNIT7 Precision Timing Tutorial\"\n",
    "mySlice = fablib.get_slice(name = slice_name)"
   ]
  },
  {
   "cell_type": "markdown",
   "id": "0bd81c1f-9e24-434e-b642-b137f6bad81b",
   "metadata": {},
   "source": [
    "## Observe Slice Attributes"
   ]
  },
  {
   "cell_type": "code",
   "execution_count": null,
   "id": "f4273273-726d-4869-b37b-55ae80818f44",
   "metadata": {},
   "outputs": [],
   "source": [
    "try:\n",
    "    slice = fablib.get_slice(name=slice_name)\n",
    "    slice.show()\n",
    "    slice.list_nodes()\n",
    "    slice.list_networks()\n",
    "    slice.list_interfaces()\n",
    "except Exception as e:\n",
    "    print(f\"Exception: {e}\")"
   ]
  },
  {
   "cell_type": "markdown",
   "id": "544ecabf-f344-4779-9c27-fd51e0644241",
   "metadata": {},
   "source": [
    "## Check if nodes in the slice are PTP Capable\n",
    "Not all FABRIC sites have PTP Capability. The VMs use a virtual PTP device which is synced by the host. If the host is in sync with PTP, then the PTP time in the VMs will be accurate. If the SITE/HOST is not PTP Capable, the VM will receive time in the virtual PTP device that may not be true PTP. But that does not prevent the VMs from installing the software. So its up to you to decide whether to proceed or not in case the SITE/Node is not PTP Capable."
   ]
  },
  {
   "cell_type": "code",
   "execution_count": null,
   "id": "e6a17783-3eab-4b90-8821-f7369eafacb6",
   "metadata": {},
   "outputs": [],
   "source": [
    "nodes = mySlice.get_nodes()\n",
    "for node in nodes:\n",
    "    print (f\"{node.get_name()} is hosted on {node.get_host()}\")\n",
    "    ad = fablib.get_site_advertisement(node.get_site())\n",
    "    print (f\"PTP Capable: { ad.flags.ptp}\")"
   ]
  },
  {
   "cell_type": "markdown",
   "id": "f740c5b7-bbcd-451c-ba1a-448c87b44961",
   "metadata": {},
   "source": [
    "## Install and setup linuxptp package  on nodes\n",
    "Download the Ansible role to configure and install the LinuxPTP software. We use code hosted in the FABRIC Measurement Framework github repository. For more details regarding the steps performed in the playbook, please refer to the repo at [https://github.com/fabric-testbed/MeasurementFramework/tree/main/instrumentize/ptp/ansible/roles/linuxptp](https://github.com/fabric-testbed/MeasurementFramework/tree/main/instrumentize/ptp/ansible/roles/linuxptp)"
   ]
  },
  {
   "cell_type": "code",
   "execution_count": null,
   "id": "dade7cfa-5e29-4782-89af-14c6f4a065df",
   "metadata": {},
   "outputs": [],
   "source": [
    "pre_requisites = None\n",
    "\n",
    "clone_instructions = f\"\"\"\n",
    "cd /tmp/;git clone --filter=blob:none --no-checkout --depth 1 --sparse https://github.com/fabric-testbed/MeasurementFramework.git;\n",
    "cd /tmp/MeasurementFramework;git sparse-checkout add instrumentize/ptp/ansible;git checkout;\n",
    "\"\"\"\n",
    "\n",
    "ansible_instructions = f\"\"\"\n",
    "cd /tmp/MeasurementFramework/instrumentize/ptp/ansible;\n",
    "ansible-playbook --connection=local --inventory 127.0.0.1, --limit 127.0.0.1 playbook_fabric_experiment_ptp.yml;\n",
    "\"\"\"\n",
    "\n",
    "#Create execute threads\n",
    "execute_threads = {}\n",
    "\n",
    "for node in nodes:\n",
    "    if [ele for ele in [\"rocky\", \"centos\"] if (ele in node.get_image())]:\n",
    "        pre_requisites = f\"\"\"\n",
    "        sudo dnf -y install epel-release ; sudo dnf -y install ansible git; mkdir /tmp/ptp_ansible/;\n",
    "        \"\"\"\n",
    "    elif [ele for ele in [\"ubuntu\", \"debian\"] if (ele in node.get_image())]:\n",
    "        pre_requisites = f\"\"\"sudo apt-get update;sudo apt-get -y install ansible git;\"\"\"\n",
    "    else:\n",
    "        pre_requisites = None\n",
    "    print (f\"Installing PTP on {node.get_name()}\")\n",
    "    execute_threads[node] = node.execute_thread(\\\n",
    "                f\"{pre_requisites}\"\\\n",
    "                f\"{clone_instructions}\"\\\n",
    "                f\"{ansible_instructions}\",\\\n",
    "                output_file=f\"/tmp/{node.get_name()}_ptpinstall.log\"\\\n",
    "                )\n",
    "\n",
    "    #Wait for results from threads\n",
    "for node,thread in execute_threads.items():\n",
    "    print(f\"Waiting for result from node {node.get_name()}\")\n",
    "    stdout,stderr = thread.result()\n",
    "    #print(f\"stdout: {stdout}\")\n",
    "    #print(f\"stderr: {stderr}\")\n",
    "    #node.execute(f\"{pre_requisites}\"\\\n",
    "    #             f\"{ansible_instructions}\"\\\n",
    "    #            )\n",
    "\n",
    "print (f\"Installation of PTP Completed\\n\\n\")"
   ]
  },
  {
   "cell_type": "code",
   "execution_count": null,
   "id": "01d44b95-70ba-4e6e-a303-10fb69833b14",
   "metadata": {},
   "outputs": [],
   "source": []
  },
  {
   "cell_type": "code",
   "execution_count": null,
   "id": "6d857cf3-ea45-4805-8504-03138070f316",
   "metadata": {},
   "outputs": [],
   "source": []
  }
 ],
 "metadata": {
  "kernelspec": {
   "display_name": "Python 3 (ipykernel)",
   "language": "python",
   "name": "python3"
  },
  "language_info": {
   "codemirror_mode": {
    "name": "ipython",
    "version": 3
   },
   "file_extension": ".py",
   "mimetype": "text/x-python",
   "name": "python",
   "nbconvert_exporter": "python",
   "pygments_lexer": "ipython3",
   "version": "3.10.6"
  }
 },
 "nbformat": 4,
 "nbformat_minor": 5
}
