{
 "cells": [
  {
   "cell_type": "markdown",
   "id": "dfb6199e-9894-4896-89f4-4707eacb30ac",
   "metadata": {
    "tags": []
   },
   "source": [
    "# KNIT7 \n",
    "# Skew Clock Times in NIC\n",
    "This notebook select one node on the path and disables PTP synchronization at the NIC Clocks and intentionally skews the TIME set in those clocks. \n",
    "\n",
    "## Import the FABlib Library"
   ]
  },
  {
   "cell_type": "code",
   "execution_count": null,
   "id": "593099ca-343a-498e-b052-1a0de11e764c",
   "metadata": {
    "tags": []
   },
   "outputs": [],
   "source": [
    "from fabrictestbed_extensions.fablib.fablib import FablibManager as fablib_manager\n",
    "import requests\n",
    "\n",
    "try:\n",
    "    fablib = fablib_manager()\n",
    "                     \n",
    "    fablib.show_config()\n",
    "except Exception as e:\n",
    "    print(f\"Exception: {e}\")"
   ]
  },
  {
   "cell_type": "markdown",
   "id": "007d0d42-34da-4d9e-b6e7-dfaf5b82e458",
   "metadata": {},
   "source": [
    "## Get Slice Name"
   ]
  },
  {
   "cell_type": "code",
   "execution_count": null,
   "id": "ac0f08df-5d20-4d36-b3b4-9dd2e849bdcc",
   "metadata": {},
   "outputs": [],
   "source": [
    "slice_name=f\"Slice for KNIT7 Precision Timing Tutorial\"\n",
    "mySlice = fablib.get_slice(name = slice_name)"
   ]
  },
  {
   "cell_type": "markdown",
   "id": "0bd81c1f-9e24-434e-b642-b137f6bad81b",
   "metadata": {},
   "source": [
    "## Observe Slice Attributes"
   ]
  },
  {
   "cell_type": "code",
   "execution_count": null,
   "id": "f4273273-726d-4869-b37b-55ae80818f44",
   "metadata": {},
   "outputs": [],
   "source": [
    "try:\n",
    "    slice = fablib.get_slice(name=slice_name)\n",
    "    slice.show()\n",
    "    slice.list_nodes()\n",
    "    slice.list_networks()\n",
    "    slice.list_interfaces()\n",
    "except Exception as e:\n",
    "    print(f\"Exception: {e}\")"
   ]
  },
  {
   "cell_type": "markdown",
   "id": "f740c5b7-bbcd-451c-ba1a-448c87b44961",
   "metadata": {},
   "source": [
    "## Disable PTP Synchronization and Skew Clock time on NICs Node3"
   ]
  },
  {
   "cell_type": "code",
   "execution_count": null,
   "id": "dade7cfa-5e29-4782-89af-14c6f4a065df",
   "metadata": {},
   "outputs": [],
   "source": [
    "import datetime\n",
    "node3 = slice.get_node(name='node3')\n",
    "for interface in ['ens7' ,'ens8']:\n",
    "    print (f\"Working on node3->{interface}\")\n",
    "    print (f\" Stopping PTP Synchronization on node3->{interface}\")\n",
    "    stdout,stderr = node3.execute(f'sudo systemctl stop phc2sys@{interface}.service')\n",
    "    \n",
    "    print (f\" Get Time from node3->{interface} CLOCK/PHC\")\n",
    "    stdout,stderr = node3.execute(\"sudo ethtool -T \"+interface+\"|grep 'PTP Hardware Clock:'|awk '{print $4}'\",quiet=True)\n",
    "    ptp_index = stdout.strip()\n",
    "    stdout,stderr = node3.execute(f\"sudo phc_ctl /dev/ptp{ptp_index} get\")\n",
    "    curr_time = float(stdout.split()[4])\n",
    "    print (f\" Skew Time on node3->{interface} CLOCK/PHC by -5 seconds...\")\n",
    "    stdout,stderr = node3.execute(\"sudo phc_ctl /dev/ptp\"+ptp_index+\" set \" + str(int(curr_time) - 5) + \";sudo phc_ctl /dev/ptp\"+ptp_index+\" cmp\")\n",
    "\n",
    "print (f\"Time Skew Operation Completed\\n\\n\")"
   ]
  }
 ],
 "metadata": {
  "kernelspec": {
   "display_name": "Python 3 (ipykernel)",
   "language": "python",
   "name": "python3"
  },
  "language_info": {
   "codemirror_mode": {
    "name": "ipython",
    "version": 3
   },
   "file_extension": ".py",
   "mimetype": "text/x-python",
   "name": "python",
   "nbconvert_exporter": "python",
   "pygments_lexer": "ipython3",
   "version": "3.10.6"
  }
 },
 "nbformat": 4,
 "nbformat_minor": 5
}
