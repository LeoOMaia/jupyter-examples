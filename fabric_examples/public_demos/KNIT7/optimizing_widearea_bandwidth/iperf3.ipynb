{
 "cells": [
  {
   "cell_type": "markdown",
   "metadata": {},
   "source": [
    "# Optimizations for High-bandwidth Wide-area Networking Experiments\n",
    "\n",
    "This example shows how to deploy a FABRIC slice across a wide-area connection and measure the bandwidth using iPerf3.\n",
    "\n",
    "### Background: iPerf3\n",
    "\n",
    "[iPerf](https://github.com/esnet/iperf) is a tool for measuring the maximum bandwidth achievable across IP networks. iPerf can be complicated to master and this notebook provides several tips and tricks for using iPerf on the high-bandwidth, high-latency dedicated links across the FABRIC testbed. The primary tips for using iPerf on FABRIC are to use the multithreaded version of iPerf3 and tune the host configuration.  \n",
    "\n",
    "The version of iPerf3 available from most Linux package managers (apt-get, yum, dnf, etc.) is limited by being single threaded. This can be confusing because all iPerf3 versions allow the `-P` option to set the number of parallel streams.  Although this option does change the number of streams, it typically uses a [single thread for all streams](https://fasterdata.es.net/performance-testing/network-troubleshooting-tools/iperf/multi-stream-iperf3/). Single-threaded iPerf3 will be limited to 20-30 Gbps. An updated multi-threaded version of [iPerf](https://github.com/esnet/iperf) is available from ESnet and can be used to test higher bandwidths. In order to simplify the use of multi-threaded iPerf3, FABRIC includes it in a Docker image that can be easily deployed in your experiment.  This notebook shows how to deploy and use this Docker container. \n",
    "\n",
    "Regardless of which version of iPerf3 you use, you will need to tune your host TCP/IP parameters in order to achieve higher bandwidths. ESnet's website contains a [discussion of host tuning](https://fasterdata.es.net/host-tuning/linux/) for network performance. This example provides a script with some initial tuning parameters. These tuning parameters are only suggestions and will not be optimal for all FABRIC networks. For maximum performance, you will need to optimize your configuration for your experiment.\n",
    "\n",
    "### Additional Features\n",
    "\n",
    "In addition to the new iPerf3 and tuning features, this notebook uses a few other advanced features.  You can learn about these features  in this notebook but additional information can be found at the links included here.\n",
    "\n",
    "- Automatic FABnet ([example](../../../fabric_examples/fablib_api/create_l3network_fabnet_ipv4_full_auto/create_l3network_fabnet_ipv4_full_auto.ipynb))\n",
    "- Templated Post boot tasks  ([example](../../../fabric_examples/fablib_api/post_boot_task_templates/post_boot_task_templates.ipynb))\n",
    "- Docker containers  ([example](../../../fabric_examples/fablib_api/docker_containers/docker_containers.ipynb))\n",
    "\n",
    "\n",
    "### FABlib API References\n",
    "\n",
    "- [fablib.get_random_sites](https://fabric-fablib.readthedocs.io/en/latest/fablib.html#fabrictestbed_extensions.fablib.fablib.FablibManager.get_random_sites)\n",
    "- [node.add_fabnet](https://fabric-fablib.readthedocs.io/en/latest/node.html#fabrictestbed_extensions.fablib.node.Node.add_fabnet)\n",
    "- [node.add_post_boot_upload_directory](https://fabric-fablib.readthedocs.io/en/latest/node.html#fabrictestbed_extensions.fablib.node.Node.add_post_boot_upload_directory)\n",
    "- [node.add_post_boot_execute](https://fabric-fablib.readthedocs.io/en/latest/node.html#fabrictestbed_extensions.fablib.node.Node.add_post_boot_execute)\n",
    "- [node.numa_tune](https://fabric-fablib.readthedocs.io/en/latest/node.html#fabrictestbed_extensions.fablib.node.Node.numa_tune)\n",
    "- [node.pin_cpu](https://fabric-fablib.readthedocs.io/en/latest/node.html#fabrictestbed_extensions.fablib.node.Node.pin_cpu)\n",
    "- [node.os_reboot](https://fabric-fablib.readthedocs.io/en/latest/node.html#fabrictestbed_extensions.fablib.node.Node.os_reboot)\n",
    "\n",
    "\n"
   ]
  },
  {
   "cell_type": "markdown",
   "metadata": {},
   "source": [
    "## Import the FABlib Library\n"
   ]
  },
  {
   "cell_type": "code",
   "execution_count": 1,
   "metadata": {
    "tags": []
   },
   "outputs": [
    {
     "data": {
      "text/html": [
       "<style type=\"text/css\">\n",
       "#T_c9992 tr:nth-child(even) {\n",
       "  background: #dbf3ff;\n",
       "  color: #231f20;\n",
       "}\n",
       "#T_c9992 tr:nth-child(odd) {\n",
       "  background: #ffffff;\n",
       "  color: #231f20;\n",
       "}\n",
       "#T_c9992 caption {\n",
       "  text-align: center;\n",
       "  font-size: 150%;\n",
       "}\n",
       "#T_c9992_row0_col0, #T_c9992_row0_col1, #T_c9992_row1_col0, #T_c9992_row1_col1, #T_c9992_row2_col0, #T_c9992_row2_col1, #T_c9992_row3_col0, #T_c9992_row3_col1, #T_c9992_row4_col0, #T_c9992_row4_col1, #T_c9992_row5_col0, #T_c9992_row5_col1, #T_c9992_row6_col0, #T_c9992_row6_col1, #T_c9992_row7_col0, #T_c9992_row7_col1, #T_c9992_row8_col0, #T_c9992_row8_col1, #T_c9992_row9_col0, #T_c9992_row9_col1, #T_c9992_row10_col0, #T_c9992_row10_col1, #T_c9992_row11_col0, #T_c9992_row11_col1, #T_c9992_row12_col0, #T_c9992_row12_col1, #T_c9992_row13_col0, #T_c9992_row13_col1 {\n",
       "  text-align: left;\n",
       "  border: 1px #231f20 solid !important;\n",
       "  overwrite: False;\n",
       "}\n",
       "</style>\n",
       "<table id=\"T_c9992\">\n",
       "  <caption>FABlib Config</caption>\n",
       "  <thead>\n",
       "  </thead>\n",
       "  <tbody>\n",
       "    <tr>\n",
       "      <td id=\"T_c9992_row0_col0\" class=\"data row0 col0\" >Credential Manager</td>\n",
       "      <td id=\"T_c9992_row0_col1\" class=\"data row0 col1\" >cm.fabric-testbed.net</td>\n",
       "    </tr>\n",
       "    <tr>\n",
       "      <td id=\"T_c9992_row1_col0\" class=\"data row1 col0\" >Orchestrator</td>\n",
       "      <td id=\"T_c9992_row1_col1\" class=\"data row1 col1\" >orchestrator.fabric-testbed.net</td>\n",
       "    </tr>\n",
       "    <tr>\n",
       "      <td id=\"T_c9992_row2_col0\" class=\"data row2 col0\" >Token File</td>\n",
       "      <td id=\"T_c9992_row2_col1\" class=\"data row2 col1\" >/home/fabric/work/fabric_config/id_tokens.json</td>\n",
       "    </tr>\n",
       "    <tr>\n",
       "      <td id=\"T_c9992_row3_col0\" class=\"data row3 col0\" >Project ID</td>\n",
       "      <td id=\"T_c9992_row3_col1\" class=\"data row3 col1\" >990d8a8b-7e50-4d13-a3be-0f133ffa8653</td>\n",
       "    </tr>\n",
       "    <tr>\n",
       "      <td id=\"T_c9992_row4_col0\" class=\"data row4 col0\" >Bastion Username</td>\n",
       "      <td id=\"T_c9992_row4_col1\" class=\"data row4 col1\" >pruth_0031379841</td>\n",
       "    </tr>\n",
       "    <tr>\n",
       "      <td id=\"T_c9992_row5_col0\" class=\"data row5 col0\" >Bastion Private Key File</td>\n",
       "      <td id=\"T_c9992_row5_col1\" class=\"data row5 col1\" >/home/fabric/work/fabric_config/fabric_bastion_key</td>\n",
       "    </tr>\n",
       "    <tr>\n",
       "      <td id=\"T_c9992_row6_col0\" class=\"data row6 col0\" >Bastion Host</td>\n",
       "      <td id=\"T_c9992_row6_col1\" class=\"data row6 col1\" >bastion.fabric-testbed.net</td>\n",
       "    </tr>\n",
       "    <tr>\n",
       "      <td id=\"T_c9992_row7_col0\" class=\"data row7 col0\" >Bastion Private Key Passphrase</td>\n",
       "      <td id=\"T_c9992_row7_col1\" class=\"data row7 col1\" >None</td>\n",
       "    </tr>\n",
       "    <tr>\n",
       "      <td id=\"T_c9992_row8_col0\" class=\"data row8 col0\" >Slice Public Key File</td>\n",
       "      <td id=\"T_c9992_row8_col1\" class=\"data row8 col1\" >/home/fabric/work/fabric_config/slice_key.pub</td>\n",
       "    </tr>\n",
       "    <tr>\n",
       "      <td id=\"T_c9992_row9_col0\" class=\"data row9 col0\" >Slice Private Key File</td>\n",
       "      <td id=\"T_c9992_row9_col1\" class=\"data row9 col1\" >/home/fabric/work/fabric_config/slice_key</td>\n",
       "    </tr>\n",
       "    <tr>\n",
       "      <td id=\"T_c9992_row10_col0\" class=\"data row10 col0\" >Slice Private Key Passphrase</td>\n",
       "      <td id=\"T_c9992_row10_col1\" class=\"data row10 col1\" >None</td>\n",
       "    </tr>\n",
       "    <tr>\n",
       "      <td id=\"T_c9992_row11_col0\" class=\"data row11 col0\" >Log File</td>\n",
       "      <td id=\"T_c9992_row11_col1\" class=\"data row11 col1\" >/home/fabric/fablib.log</td>\n",
       "    </tr>\n",
       "    <tr>\n",
       "      <td id=\"T_c9992_row12_col0\" class=\"data row12 col0\" >Log Level</td>\n",
       "      <td id=\"T_c9992_row12_col1\" class=\"data row12 col1\" >INFO</td>\n",
       "    </tr>\n",
       "    <tr>\n",
       "      <td id=\"T_c9992_row13_col0\" class=\"data row13 col0\" >Version</td>\n",
       "      <td id=\"T_c9992_row13_col1\" class=\"data row13 col1\" >1.5.5</td>\n",
       "    </tr>\n",
       "  </tbody>\n",
       "</table>\n"
      ],
      "text/plain": [
       "<pandas.io.formats.style.Styler at 0x7f9aae8142d0>"
      ]
     },
     "metadata": {},
     "output_type": "display_data"
    }
   ],
   "source": [
    "from fabrictestbed_extensions.fablib.fablib import FablibManager as fablib_manager\n",
    "\n",
    "fablib = fablib_manager()\n",
    "\n",
    "fablib.show_config();"
   ]
  },
  {
   "cell_type": "markdown",
   "metadata": {
    "tags": []
   },
   "source": [
    "## Create the Experiment Slice\n",
    "\n",
    "The simplest slice that can be used for wide-area iPerf3 performance tests is a pair of nodes on two different FABRIC sites connected to the FABnet network.  The following cells build an appropriate slice including post boot configuration of Docker and host network tuning. \n",
    "\n",
    "The slice deployed here uses basic NICs and VMs with modest amounts of compute cores and memory. Achieving the highest bandwidths possible will require additional infrastructure and tuning including VMs with larger capacities, dedicated network cards, and pinning cores/memory to NUMA domains. \n",
    "\n",
    "<img src=\"./figs/iperf3_dumbell.png\" width=\"70%\"><br>\n",
    "\n",
    "\n",
    "\n"
   ]
  },
  {
   "cell_type": "markdown",
   "metadata": {},
   "source": [
    "### Get Two Random Sites"
   ]
  },
  {
   "cell_type": "code",
   "execution_count": 2,
   "metadata": {
    "tags": []
   },
   "outputs": [
    {
     "name": "stdout",
     "output_type": "stream",
     "text": [
      "Sites: STAR, TACC\n"
     ]
    }
   ],
   "source": [
    "slice_name = 'iPerf3'\n",
    "[site1, site2] = fablib.get_random_sites(count=2)\n",
    "#site1='NEWY'\n",
    "#site2='SALT'\n",
    "\n",
    "print(f\"Sites: {site1}, {site2}\")"
   ]
  },
  {
   "cell_type": "markdown",
   "metadata": {},
   "source": [
    "### Create the Slice"
   ]
  },
  {
   "cell_type": "code",
   "execution_count": 3,
   "metadata": {
    "tags": []
   },
   "outputs": [],
   "source": [
    "#Create Slice\n",
    "slice = fablib.new_slice(name=slice_name)"
   ]
  },
  {
   "cell_type": "markdown",
   "metadata": {},
   "source": [
    "### Add a Nodes and Network\n",
    "\n",
    "Add two nodes to the slice. Place one node on each of the sites.  \n",
    "\n",
    "Add a fully automatic FABnetv4 network to each node using the `add_fabnet` method.  This method will create a FABnet network on each site, add a basic NIC to each node, and automatically configure IP addresses and routes.\n",
    "\n",
    "Note the use of the `docker_rocky_8` image. This image comes with Docker pre-installed enabling fast/simple deployment of Docker containers. \n",
    "\n",
    "The nodes are configured with only 4 cores and 8 GB of RAM. Higher bandwidth will require larger VMs.\n",
    "\n",
    "\n"
   ]
  },
  {
   "cell_type": "code",
   "execution_count": 4,
   "metadata": {
    "tags": []
   },
   "outputs": [],
   "source": [
    "node1 = slice.add_node(name='Node1', cores=8, ram=16, disk=100, site=site1) #, image='docker_ubuntu_22')\n",
    "node1.add_fabnet()\n",
    "\n",
    "node2 = slice.add_node(name='Node2', cores=8, ram=16, disk=100, site=site2) #, image='docker_ubuntu_22')\n",
    "node2.add_fabnet()"
   ]
  },
  {
   "cell_type": "markdown",
   "metadata": {},
   "source": [
    "### Add Post Boot Configuration Tasks\n",
    "\n",
    "This example includes a directory containing a couple scripts that should be used to configure the nodes. The following post boot tasks will execute after the nodes are booted.  \n",
    "\n",
    "The tasks include:\n",
    "\n",
    "- Upload node tools: Copy the `node_tools` directory to each node. This directory contains the custom configuration scripts. \n",
    "- Execute `host_tune.sh`: Execute the script that tunes the host for high-bandwidth, high-latency data transfers. Feel free to customize this script for your specific experiment.\n",
    "- Execute `enable_docker.sh`: This script enables the pre-installed Docker services. The image argument is an example of using templated post boot tasks. \n",
    "- Execute Docker pull to get required Docker container\n"
   ]
  },
  {
   "cell_type": "code",
   "execution_count": 5,
   "metadata": {
    "tags": []
   },
   "outputs": [],
   "source": [
    "node1.add_post_boot_upload_directory('node_tools','.')\n",
    "node1.add_post_boot_execute('sudo node_tools/host_tune.sh')\n",
    "node1.add_post_boot_execute('node_tools/enable_docker.sh {{ _self_.image }} ')\n",
    "node1.add_post_boot_execute('docker pull fabrictestbed/slice-vm-rocky8-multitool:0.0.2 ')\n",
    "#node1.add_post_boot_execute('chmod +x node_tools/escp_install.sh ')\n",
    "#node1.add_post_boot_execute('node_tools/escp_install.sh ')\n",
    "\n",
    "\n",
    "node2.add_post_boot_upload_directory('node_tools','.')\n",
    "node2.add_post_boot_execute('sudo node_tools/host_tune.sh')\n",
    "node2.add_post_boot_execute('node_tools/enable_docker.sh {{ _self_.image }} ')\n",
    "node2.add_post_boot_execute('docker pull fabrictestbed/slice-vm-rocky8-multitool:0.0.2 ')\n",
    "#node2.add_post_boot_execute('chmod +x node_tools/escp_install.sh ')\n",
    "#node2.add_post_boot_execute('node_tools/escp_install.sh ')"
   ]
  },
  {
   "cell_type": "markdown",
   "metadata": {},
   "source": [
    "### Submit the Slice\n",
    "\n",
    "The slice request is complete and you can now submit the request. Notice the `post_boot_config` step. During this step, the FABnet network and post boot tasks that were added in the previous cells are executed."
   ]
  },
  {
   "cell_type": "code",
   "execution_count": 6,
   "metadata": {
    "tags": []
   },
   "outputs": [
    {
     "name": "stdout",
     "output_type": "stream",
     "text": [
      "\n",
      "Retry: 9, Time: 416 sec\n"
     ]
    },
    {
     "data": {
      "text/html": [
       "<style type=\"text/css\">\n",
       "#T_4fe38 tr:nth-child(even) {\n",
       "  background: #dbf3ff;\n",
       "  color: #231f20;\n",
       "}\n",
       "#T_4fe38 tr:nth-child(odd) {\n",
       "  background: #ffffff;\n",
       "  color: #231f20;\n",
       "}\n",
       "#T_4fe38 caption {\n",
       "  text-align: center;\n",
       "  font-size: 150%;\n",
       "}\n",
       "#T_4fe38_row0_col0, #T_4fe38_row0_col1, #T_4fe38_row1_col0, #T_4fe38_row1_col1, #T_4fe38_row2_col0, #T_4fe38_row2_col1, #T_4fe38_row3_col0, #T_4fe38_row3_col1, #T_4fe38_row4_col0, #T_4fe38_row4_col1, #T_4fe38_row5_col0 {\n",
       "  text-align: left;\n",
       "  border: 1px #231f20 solid !important;\n",
       "  overwrite: False;\n",
       "  background-color: ;\n",
       "}\n",
       "#T_4fe38_row5_col1 {\n",
       "  text-align: left;\n",
       "  border: 1px #231f20 solid !important;\n",
       "  overwrite: False;\n",
       "  background-color: #c3ffc4;\n",
       "}\n",
       "</style>\n",
       "<table id=\"T_4fe38\">\n",
       "  <caption>Slice</caption>\n",
       "  <thead>\n",
       "  </thead>\n",
       "  <tbody>\n",
       "    <tr>\n",
       "      <td id=\"T_4fe38_row0_col0\" class=\"data row0 col0\" >ID</td>\n",
       "      <td id=\"T_4fe38_row0_col1\" class=\"data row0 col1\" >0ab799a8-7bc4-492a-9e28-0754a7f4fccb</td>\n",
       "    </tr>\n",
       "    <tr>\n",
       "      <td id=\"T_4fe38_row1_col0\" class=\"data row1 col0\" >Name</td>\n",
       "      <td id=\"T_4fe38_row1_col1\" class=\"data row1 col1\" >iPerf3</td>\n",
       "    </tr>\n",
       "    <tr>\n",
       "      <td id=\"T_4fe38_row2_col0\" class=\"data row2 col0\" >Lease Expiration (UTC)</td>\n",
       "      <td id=\"T_4fe38_row2_col1\" class=\"data row2 col1\" >2023-09-25 18:30:01 +0000</td>\n",
       "    </tr>\n",
       "    <tr>\n",
       "      <td id=\"T_4fe38_row3_col0\" class=\"data row3 col0\" >Lease Start (UTC)</td>\n",
       "      <td id=\"T_4fe38_row3_col1\" class=\"data row3 col1\" >2023-09-24 18:30:01 +0000</td>\n",
       "    </tr>\n",
       "    <tr>\n",
       "      <td id=\"T_4fe38_row4_col0\" class=\"data row4 col0\" >Project ID</td>\n",
       "      <td id=\"T_4fe38_row4_col1\" class=\"data row4 col1\" >990d8a8b-7e50-4d13-a3be-0f133ffa8653</td>\n",
       "    </tr>\n",
       "    <tr>\n",
       "      <td id=\"T_4fe38_row5_col0\" class=\"data row5 col0\" >State</td>\n",
       "      <td id=\"T_4fe38_row5_col1\" class=\"data row5 col1\" >StableOK</td>\n",
       "    </tr>\n",
       "  </tbody>\n",
       "</table>\n"
      ],
      "text/plain": [
       "<pandas.io.formats.style.Styler at 0x7f9a9c307850>"
      ]
     },
     "metadata": {},
     "output_type": "display_data"
    },
    {
     "data": {
      "text/html": [
       "<style type=\"text/css\">\n",
       "#T_d715f caption {\n",
       "  text-align: center;\n",
       "  font-size: 150%;\n",
       "  caption-side: top;\n",
       "}\n",
       "#T_d715f th {\n",
       "  text-align: left;\n",
       "}\n",
       "#T_d715f tr:nth-child(even) {\n",
       "  background: #ffffff;\n",
       "  color: #231f20;\n",
       "}\n",
       "#T_d715f tr:nth-child(odd) {\n",
       "  background: #dbf3ff;\n",
       "  color: #231f20;\n",
       "}\n",
       "#T_d715f .level0 {\n",
       "  border: 1px black solid !important;\n",
       "  background: #ffffff;\n",
       "  color: #231f20;\n",
       "}\n",
       "#T_d715f_row0_col0, #T_d715f_row0_col1, #T_d715f_row0_col2, #T_d715f_row0_col3, #T_d715f_row0_col4, #T_d715f_row0_col5, #T_d715f_row0_col6, #T_d715f_row0_col7, #T_d715f_row0_col8, #T_d715f_row0_col9, #T_d715f_row0_col10, #T_d715f_row0_col13, #T_d715f_row0_col14, #T_d715f_row0_col15, #T_d715f_row1_col0, #T_d715f_row1_col1, #T_d715f_row1_col2, #T_d715f_row1_col3, #T_d715f_row1_col4, #T_d715f_row1_col5, #T_d715f_row1_col6, #T_d715f_row1_col7, #T_d715f_row1_col8, #T_d715f_row1_col9, #T_d715f_row1_col10, #T_d715f_row1_col13, #T_d715f_row1_col14, #T_d715f_row1_col15 {\n",
       "  text-align: left;\n",
       "  border: 1px #231f20 solid !important;\n",
       "  overwrite: False;\n",
       "}\n",
       "#T_d715f_row0_col11, #T_d715f_row1_col11 {\n",
       "  text-align: left;\n",
       "  border: 1px #231f20 solid !important;\n",
       "  overwrite: False;\n",
       "  background-color: #c3ffc4;\n",
       "}\n",
       "#T_d715f_row0_col12, #T_d715f_row1_col12 {\n",
       "  text-align: left;\n",
       "  border: 1px #231f20 solid !important;\n",
       "  overwrite: False;\n",
       "  background-color: ;\n",
       "}\n",
       "</style>\n",
       "<table id=\"T_d715f\">\n",
       "  <caption>Nodes</caption>\n",
       "  <thead>\n",
       "    <tr>\n",
       "      <th id=\"T_d715f_level0_col0\" class=\"col_heading level0 col0\" >ID</th>\n",
       "      <th id=\"T_d715f_level0_col1\" class=\"col_heading level0 col1\" >Name</th>\n",
       "      <th id=\"T_d715f_level0_col2\" class=\"col_heading level0 col2\" >Cores</th>\n",
       "      <th id=\"T_d715f_level0_col3\" class=\"col_heading level0 col3\" >RAM</th>\n",
       "      <th id=\"T_d715f_level0_col4\" class=\"col_heading level0 col4\" >Disk</th>\n",
       "      <th id=\"T_d715f_level0_col5\" class=\"col_heading level0 col5\" >Image</th>\n",
       "      <th id=\"T_d715f_level0_col6\" class=\"col_heading level0 col6\" >Image Type</th>\n",
       "      <th id=\"T_d715f_level0_col7\" class=\"col_heading level0 col7\" >Host</th>\n",
       "      <th id=\"T_d715f_level0_col8\" class=\"col_heading level0 col8\" >Site</th>\n",
       "      <th id=\"T_d715f_level0_col9\" class=\"col_heading level0 col9\" >Username</th>\n",
       "      <th id=\"T_d715f_level0_col10\" class=\"col_heading level0 col10\" >Management IP</th>\n",
       "      <th id=\"T_d715f_level0_col11\" class=\"col_heading level0 col11\" >State</th>\n",
       "      <th id=\"T_d715f_level0_col12\" class=\"col_heading level0 col12\" >Error</th>\n",
       "      <th id=\"T_d715f_level0_col13\" class=\"col_heading level0 col13\" >SSH Command</th>\n",
       "      <th id=\"T_d715f_level0_col14\" class=\"col_heading level0 col14\" >Public SSH Key File</th>\n",
       "      <th id=\"T_d715f_level0_col15\" class=\"col_heading level0 col15\" >Private SSH Key File</th>\n",
       "    </tr>\n",
       "  </thead>\n",
       "  <tbody>\n",
       "    <tr>\n",
       "      <td id=\"T_d715f_row0_col0\" class=\"data row0 col0\" >371b881b-fb60-4790-aaf7-d55fd20750ce</td>\n",
       "      <td id=\"T_d715f_row0_col1\" class=\"data row0 col1\" >Node1</td>\n",
       "      <td id=\"T_d715f_row0_col2\" class=\"data row0 col2\" >8</td>\n",
       "      <td id=\"T_d715f_row0_col3\" class=\"data row0 col3\" >16</td>\n",
       "      <td id=\"T_d715f_row0_col4\" class=\"data row0 col4\" >100</td>\n",
       "      <td id=\"T_d715f_row0_col5\" class=\"data row0 col5\" >default_rocky_8</td>\n",
       "      <td id=\"T_d715f_row0_col6\" class=\"data row0 col6\" >qcow2</td>\n",
       "      <td id=\"T_d715f_row0_col7\" class=\"data row0 col7\" >star-w5.fabric-testbed.net</td>\n",
       "      <td id=\"T_d715f_row0_col8\" class=\"data row0 col8\" >STAR</td>\n",
       "      <td id=\"T_d715f_row0_col9\" class=\"data row0 col9\" >rocky</td>\n",
       "      <td id=\"T_d715f_row0_col10\" class=\"data row0 col10\" >2001:400:a100:3030:f816:3eff:fe1e:98c5</td>\n",
       "      <td id=\"T_d715f_row0_col11\" class=\"data row0 col11\" >Active</td>\n",
       "      <td id=\"T_d715f_row0_col12\" class=\"data row0 col12\" ></td>\n",
       "      <td id=\"T_d715f_row0_col13\" class=\"data row0 col13\" >ssh -i /home/fabric/work/fabric_config/slice_key -F /home/fabric/work/fabric_config/ssh_config rocky@2001:400:a100:3030:f816:3eff:fe1e:98c5</td>\n",
       "      <td id=\"T_d715f_row0_col14\" class=\"data row0 col14\" >/home/fabric/work/fabric_config/slice_key.pub</td>\n",
       "      <td id=\"T_d715f_row0_col15\" class=\"data row0 col15\" >/home/fabric/work/fabric_config/slice_key</td>\n",
       "    </tr>\n",
       "    <tr>\n",
       "      <td id=\"T_d715f_row1_col0\" class=\"data row1 col0\" >1f827a67-e8da-4bd5-ac79-5d83ee0d7ff2</td>\n",
       "      <td id=\"T_d715f_row1_col1\" class=\"data row1 col1\" >Node2</td>\n",
       "      <td id=\"T_d715f_row1_col2\" class=\"data row1 col2\" >8</td>\n",
       "      <td id=\"T_d715f_row1_col3\" class=\"data row1 col3\" >16</td>\n",
       "      <td id=\"T_d715f_row1_col4\" class=\"data row1 col4\" >100</td>\n",
       "      <td id=\"T_d715f_row1_col5\" class=\"data row1 col5\" >default_rocky_8</td>\n",
       "      <td id=\"T_d715f_row1_col6\" class=\"data row1 col6\" >qcow2</td>\n",
       "      <td id=\"T_d715f_row1_col7\" class=\"data row1 col7\" >tacc-w1.fabric-testbed.net</td>\n",
       "      <td id=\"T_d715f_row1_col8\" class=\"data row1 col8\" >TACC</td>\n",
       "      <td id=\"T_d715f_row1_col9\" class=\"data row1 col9\" >rocky</td>\n",
       "      <td id=\"T_d715f_row1_col10\" class=\"data row1 col10\" >129.114.110.106</td>\n",
       "      <td id=\"T_d715f_row1_col11\" class=\"data row1 col11\" >Active</td>\n",
       "      <td id=\"T_d715f_row1_col12\" class=\"data row1 col12\" ></td>\n",
       "      <td id=\"T_d715f_row1_col13\" class=\"data row1 col13\" >ssh -i /home/fabric/work/fabric_config/slice_key -F /home/fabric/work/fabric_config/ssh_config rocky@129.114.110.106</td>\n",
       "      <td id=\"T_d715f_row1_col14\" class=\"data row1 col14\" >/home/fabric/work/fabric_config/slice_key.pub</td>\n",
       "      <td id=\"T_d715f_row1_col15\" class=\"data row1 col15\" >/home/fabric/work/fabric_config/slice_key</td>\n",
       "    </tr>\n",
       "  </tbody>\n",
       "</table>\n"
      ],
      "text/plain": [
       "<pandas.io.formats.style.Styler at 0x7f9aac2deb10>"
      ]
     },
     "metadata": {},
     "output_type": "display_data"
    },
    {
     "data": {
      "text/html": [
       "<style type=\"text/css\">\n",
       "#T_4db23 caption {\n",
       "  text-align: center;\n",
       "  font-size: 150%;\n",
       "  caption-side: top;\n",
       "}\n",
       "#T_4db23 th {\n",
       "  text-align: left;\n",
       "}\n",
       "#T_4db23 tr:nth-child(even) {\n",
       "  background: #ffffff;\n",
       "  color: #231f20;\n",
       "}\n",
       "#T_4db23 tr:nth-child(odd) {\n",
       "  background: #dbf3ff;\n",
       "  color: #231f20;\n",
       "}\n",
       "#T_4db23 .level0 {\n",
       "  border: 1px black solid !important;\n",
       "  background: #ffffff;\n",
       "  color: #231f20;\n",
       "}\n",
       "#T_4db23_row0_col0, #T_4db23_row0_col1, #T_4db23_row0_col2, #T_4db23_row0_col3, #T_4db23_row0_col4, #T_4db23_row0_col5, #T_4db23_row0_col6, #T_4db23_row1_col0, #T_4db23_row1_col1, #T_4db23_row1_col2, #T_4db23_row1_col3, #T_4db23_row1_col4, #T_4db23_row1_col5, #T_4db23_row1_col6 {\n",
       "  text-align: left;\n",
       "  border: 1px #231f20 solid !important;\n",
       "  overwrite: False;\n",
       "}\n",
       "#T_4db23_row0_col7, #T_4db23_row1_col7 {\n",
       "  text-align: left;\n",
       "  border: 1px #231f20 solid !important;\n",
       "  overwrite: False;\n",
       "  background-color: #c3ffc4;\n",
       "}\n",
       "#T_4db23_row0_col8, #T_4db23_row1_col8 {\n",
       "  text-align: left;\n",
       "  border: 1px #231f20 solid !important;\n",
       "  overwrite: False;\n",
       "  background-color: ;\n",
       "}\n",
       "</style>\n",
       "<table id=\"T_4db23\">\n",
       "  <caption>Networks</caption>\n",
       "  <thead>\n",
       "    <tr>\n",
       "      <th id=\"T_4db23_level0_col0\" class=\"col_heading level0 col0\" >ID</th>\n",
       "      <th id=\"T_4db23_level0_col1\" class=\"col_heading level0 col1\" >Name</th>\n",
       "      <th id=\"T_4db23_level0_col2\" class=\"col_heading level0 col2\" >Layer</th>\n",
       "      <th id=\"T_4db23_level0_col3\" class=\"col_heading level0 col3\" >Type</th>\n",
       "      <th id=\"T_4db23_level0_col4\" class=\"col_heading level0 col4\" >Site</th>\n",
       "      <th id=\"T_4db23_level0_col5\" class=\"col_heading level0 col5\" >Subnet</th>\n",
       "      <th id=\"T_4db23_level0_col6\" class=\"col_heading level0 col6\" >Gateway</th>\n",
       "      <th id=\"T_4db23_level0_col7\" class=\"col_heading level0 col7\" >State</th>\n",
       "      <th id=\"T_4db23_level0_col8\" class=\"col_heading level0 col8\" >Error</th>\n",
       "    </tr>\n",
       "  </thead>\n",
       "  <tbody>\n",
       "    <tr>\n",
       "      <td id=\"T_4db23_row0_col0\" class=\"data row0 col0\" >0479c6a9-59d3-41fe-9531-31a09495c023</td>\n",
       "      <td id=\"T_4db23_row0_col1\" class=\"data row0 col1\" >FABNET_IPv4_STAR</td>\n",
       "      <td id=\"T_4db23_row0_col2\" class=\"data row0 col2\" >L3</td>\n",
       "      <td id=\"T_4db23_row0_col3\" class=\"data row0 col3\" >FABNetv4</td>\n",
       "      <td id=\"T_4db23_row0_col4\" class=\"data row0 col4\" >STAR</td>\n",
       "      <td id=\"T_4db23_row0_col5\" class=\"data row0 col5\" >10.129.129.0/24</td>\n",
       "      <td id=\"T_4db23_row0_col6\" class=\"data row0 col6\" >10.129.129.1</td>\n",
       "      <td id=\"T_4db23_row0_col7\" class=\"data row0 col7\" >Active</td>\n",
       "      <td id=\"T_4db23_row0_col8\" class=\"data row0 col8\" ></td>\n",
       "    </tr>\n",
       "    <tr>\n",
       "      <td id=\"T_4db23_row1_col0\" class=\"data row1 col0\" >b2716fe1-0399-4c37-b667-a080c74a6dd7</td>\n",
       "      <td id=\"T_4db23_row1_col1\" class=\"data row1 col1\" >FABNET_IPv4_TACC</td>\n",
       "      <td id=\"T_4db23_row1_col2\" class=\"data row1 col2\" >L3</td>\n",
       "      <td id=\"T_4db23_row1_col3\" class=\"data row1 col3\" >FABNetv4</td>\n",
       "      <td id=\"T_4db23_row1_col4\" class=\"data row1 col4\" >TACC</td>\n",
       "      <td id=\"T_4db23_row1_col5\" class=\"data row1 col5\" >10.130.138.0/24</td>\n",
       "      <td id=\"T_4db23_row1_col6\" class=\"data row1 col6\" >10.130.138.1</td>\n",
       "      <td id=\"T_4db23_row1_col7\" class=\"data row1 col7\" >Active</td>\n",
       "      <td id=\"T_4db23_row1_col8\" class=\"data row1 col8\" ></td>\n",
       "    </tr>\n",
       "  </tbody>\n",
       "</table>\n"
      ],
      "text/plain": [
       "<pandas.io.formats.style.Styler at 0x7f9aac0bce90>"
      ]
     },
     "metadata": {},
     "output_type": "display_data"
    },
    {
     "data": {
      "text/html": [
       "<style type=\"text/css\">\n",
       "#T_b8242 caption {\n",
       "  text-align: center;\n",
       "  font-size: 150%;\n",
       "  caption-side: top;\n",
       "}\n",
       "#T_b8242 th {\n",
       "  text-align: left;\n",
       "}\n",
       "#T_b8242 tr:nth-child(even) {\n",
       "  background: #ffffff;\n",
       "  color: #231f20;\n",
       "}\n",
       "#T_b8242 tr:nth-child(odd) {\n",
       "  background: #dbf3ff;\n",
       "  color: #231f20;\n",
       "}\n",
       "#T_b8242 .level0 {\n",
       "  border: 1px black solid !important;\n",
       "  background: #ffffff;\n",
       "  color: #231f20;\n",
       "}\n",
       "#T_b8242_row0_col0, #T_b8242_row0_col1, #T_b8242_row0_col2, #T_b8242_row0_col3, #T_b8242_row0_col4, #T_b8242_row0_col5, #T_b8242_row0_col6, #T_b8242_row0_col7, #T_b8242_row0_col8, #T_b8242_row0_col9, #T_b8242_row0_col10, #T_b8242_row0_col11, #T_b8242_row1_col0, #T_b8242_row1_col1, #T_b8242_row1_col2, #T_b8242_row1_col3, #T_b8242_row1_col4, #T_b8242_row1_col5, #T_b8242_row1_col6, #T_b8242_row1_col7, #T_b8242_row1_col8, #T_b8242_row1_col9, #T_b8242_row1_col10, #T_b8242_row1_col11 {\n",
       "  text-align: left;\n",
       "  border: 1px #231f20 solid !important;\n",
       "  overwrite: False;\n",
       "}\n",
       "</style>\n",
       "<table id=\"T_b8242\">\n",
       "  <caption>Interfaces</caption>\n",
       "  <thead>\n",
       "    <tr>\n",
       "      <th id=\"T_b8242_level0_col0\" class=\"col_heading level0 col0\" >Name</th>\n",
       "      <th id=\"T_b8242_level0_col1\" class=\"col_heading level0 col1\" >Short Name</th>\n",
       "      <th id=\"T_b8242_level0_col2\" class=\"col_heading level0 col2\" >Node</th>\n",
       "      <th id=\"T_b8242_level0_col3\" class=\"col_heading level0 col3\" >Network</th>\n",
       "      <th id=\"T_b8242_level0_col4\" class=\"col_heading level0 col4\" >Bandwidth</th>\n",
       "      <th id=\"T_b8242_level0_col5\" class=\"col_heading level0 col5\" >Mode</th>\n",
       "      <th id=\"T_b8242_level0_col6\" class=\"col_heading level0 col6\" >VLAN</th>\n",
       "      <th id=\"T_b8242_level0_col7\" class=\"col_heading level0 col7\" >MAC</th>\n",
       "      <th id=\"T_b8242_level0_col8\" class=\"col_heading level0 col8\" >Physical Device</th>\n",
       "      <th id=\"T_b8242_level0_col9\" class=\"col_heading level0 col9\" >Device</th>\n",
       "      <th id=\"T_b8242_level0_col10\" class=\"col_heading level0 col10\" >IP Address</th>\n",
       "      <th id=\"T_b8242_level0_col11\" class=\"col_heading level0 col11\" >Numa Node</th>\n",
       "    </tr>\n",
       "  </thead>\n",
       "  <tbody>\n",
       "    <tr>\n",
       "      <td id=\"T_b8242_row0_col0\" class=\"data row0 col0\" >Node1-FABNET_IPv4_STAR_nic-p1</td>\n",
       "      <td id=\"T_b8242_row0_col1\" class=\"data row0 col1\" >p1</td>\n",
       "      <td id=\"T_b8242_row0_col2\" class=\"data row0 col2\" >Node1</td>\n",
       "      <td id=\"T_b8242_row0_col3\" class=\"data row0 col3\" >FABNET_IPv4_STAR</td>\n",
       "      <td id=\"T_b8242_row0_col4\" class=\"data row0 col4\" >100</td>\n",
       "      <td id=\"T_b8242_row0_col5\" class=\"data row0 col5\" >auto</td>\n",
       "      <td id=\"T_b8242_row0_col6\" class=\"data row0 col6\" ></td>\n",
       "      <td id=\"T_b8242_row0_col7\" class=\"data row0 col7\" >02:A3:D4:83:27:12</td>\n",
       "      <td id=\"T_b8242_row0_col8\" class=\"data row0 col8\" >eth1</td>\n",
       "      <td id=\"T_b8242_row0_col9\" class=\"data row0 col9\" >eth1</td>\n",
       "      <td id=\"T_b8242_row0_col10\" class=\"data row0 col10\" >10.129.129.2</td>\n",
       "      <td id=\"T_b8242_row0_col11\" class=\"data row0 col11\" >4</td>\n",
       "    </tr>\n",
       "    <tr>\n",
       "      <td id=\"T_b8242_row1_col0\" class=\"data row1 col0\" >Node2-FABNET_IPv4_TACC_nic-p1</td>\n",
       "      <td id=\"T_b8242_row1_col1\" class=\"data row1 col1\" >p1</td>\n",
       "      <td id=\"T_b8242_row1_col2\" class=\"data row1 col2\" >Node2</td>\n",
       "      <td id=\"T_b8242_row1_col3\" class=\"data row1 col3\" >FABNET_IPv4_TACC</td>\n",
       "      <td id=\"T_b8242_row1_col4\" class=\"data row1 col4\" >100</td>\n",
       "      <td id=\"T_b8242_row1_col5\" class=\"data row1 col5\" >auto</td>\n",
       "      <td id=\"T_b8242_row1_col6\" class=\"data row1 col6\" ></td>\n",
       "      <td id=\"T_b8242_row1_col7\" class=\"data row1 col7\" >0A:17:19:63:79:9E</td>\n",
       "      <td id=\"T_b8242_row1_col8\" class=\"data row1 col8\" >eth1</td>\n",
       "      <td id=\"T_b8242_row1_col9\" class=\"data row1 col9\" >eth1</td>\n",
       "      <td id=\"T_b8242_row1_col10\" class=\"data row1 col10\" >10.130.138.2</td>\n",
       "      <td id=\"T_b8242_row1_col11\" class=\"data row1 col11\" >6</td>\n",
       "    </tr>\n",
       "  </tbody>\n",
       "</table>\n"
      ],
      "text/plain": [
       "<pandas.io.formats.style.Styler at 0x7f9a9c34a010>"
      ]
     },
     "metadata": {},
     "output_type": "display_data"
    },
    {
     "name": "stdout",
     "output_type": "stream",
     "text": [
      "\n",
      "Time to print interfaces 416 seconds\n"
     ]
    }
   ],
   "source": [
    "#Submit Slice Request\n",
    "slice.submit();"
   ]
  },
  {
   "cell_type": "markdown",
   "metadata": {},
   "source": [
    "## Run iPerf3\n",
    "\n",
    "Running iPerf3 is simple using the supplied Docker image.  \n",
    "\n",
    "This cell gets both `node1` and `node2` then gets the target IP address `node1` uses on the FABnet data plane.  It then starts an iPerf3 server in a Docker container on `node1` and an iPerf3 client in a Docker container on `node2`.  The server is configured with the `-1` parameter instructing it to exit after one iPerf3 session. The client is configured to connect to the server's data plane IP.\n",
    "\n",
    "This cell can be re-run many times.  You may wish to modify the iPerf3 parameters that are passed to the client Docker container to see how they affect the performance."
   ]
  },
  {
   "cell_type": "code",
   "execution_count": 7,
   "metadata": {
    "tags": []
   },
   "outputs": [
    {
     "name": "stdout",
     "output_type": "stream",
     "text": [
      "Connecting to host 10.129.129.2, port 5201\n",
      "[  5] local 10.130.138.2 port 59104 connected to 10.129.129.2 port 5201\n",
      "[  7] local 10.130.138.2 port 59110 connected to 10.129.129.2 port 5201\n",
      "[  9] local 10.130.138.2 port 59124 connected to 10.129.129.2 port 5201\n",
      "[ 11] local 10.130.138.2 port 59132 connected to 10.129.129.2 port 5201\n",
      "[ ID] Interval           Transfer     Bitrate         Retr  Cwnd\n",
      "[  5]   0.00-10.01  sec  19.0 GBytes  16.3 Gbits/sec  14957    124 MBytes       (omitted)\n",
      "[  7]   0.00-10.01  sec  10.7 GBytes  9.16 Gbits/sec  84989   70.6 MBytes       (omitted)\n",
      "[  9]   0.00-10.01  sec  12.2 GBytes  10.5 Gbits/sec  86420   38.7 MBytes       (omitted)\n",
      "[ 11]   0.00-10.01  sec  10.0 GBytes  8.60 Gbits/sec  70945   31.5 MBytes       (omitted)\n",
      "[SUM]   0.00-10.01  sec  51.9 GBytes  44.6 Gbits/sec  257311             (omitted)\n",
      "- - - - - - - - - - - - - - - - - - - - - - - - -\n",
      "[  5]   0.00-10.01  sec  18.2 GBytes  15.6 Gbits/sec   42    115 MBytes       \n",
      "[  7]   0.00-10.01  sec  12.6 GBytes  10.9 Gbits/sec  49448    108 MBytes       \n",
      "[  9]   0.00-10.01  sec  13.5 GBytes  11.5 Gbits/sec  46673   76.0 MBytes       \n",
      "[ 11]   0.00-10.01  sec  13.5 GBytes  11.6 Gbits/sec  47365   71.5 MBytes       \n",
      "[SUM]   0.00-10.01  sec  57.8 GBytes  49.6 Gbits/sec  143528             \n",
      "- - - - - - - - - - - - - - - - - - - - - - - - -\n",
      "[  5]  10.01-20.01  sec  18.5 GBytes  15.9 Gbits/sec    0    121 MBytes       \n",
      "[  7]  10.01-20.01  sec  10.8 GBytes  9.29 Gbits/sec  94653   76.2 MBytes       \n",
      "[  9]  10.01-20.01  sec  12.9 GBytes  11.0 Gbits/sec  113438   71.4 MBytes       \n",
      "[ 11]  10.01-20.01  sec  11.6 GBytes  9.98 Gbits/sec  100128   97.3 MBytes       \n",
      "[SUM]  10.01-20.01  sec  53.8 GBytes  46.2 Gbits/sec  308219             \n",
      "- - - - - - - - - - - - - - - - - - - - - - - - -\n",
      "[  5]  20.01-29.99  sec  18.4 GBytes  15.8 Gbits/sec    0    119 MBytes       \n",
      "[  7]  20.01-29.99  sec  12.8 GBytes  11.1 Gbits/sec  54672   78.2 MBytes       \n",
      "[  9]  20.01-29.99  sec  14.5 GBytes  12.5 Gbits/sec  68824   87.2 MBytes       \n",
      "[ 11]  20.01-29.99  sec  11.8 GBytes  10.1 Gbits/sec  58933   82.0 MBytes       \n",
      "[SUM]  20.01-29.99  sec  57.5 GBytes  49.5 Gbits/sec  182429             \n",
      "- - - - - - - - - - - - - - - - - - - - - - - - -\n",
      "[ ID] Interval           Transfer     Bitrate         Retr\n",
      "[  5]   0.00-29.99  sec  55.0 GBytes  15.8 Gbits/sec   42             sender\n",
      "[  5]   0.00-30.03  sec  55.0 GBytes  15.7 Gbits/sec                  receiver\n",
      "[  7]   0.00-29.99  sec  36.3 GBytes  10.4 Gbits/sec  198773             sender\n",
      "[  7]   0.00-30.03  sec  36.4 GBytes  10.4 Gbits/sec                  receiver\n",
      "[  9]   0.00-29.99  sec  40.8 GBytes  11.7 Gbits/sec  228935             sender\n",
      "[  9]   0.00-30.03  sec  40.9 GBytes  11.7 Gbits/sec                  receiver\n",
      "[ 11]   0.00-29.99  sec  36.9 GBytes  10.6 Gbits/sec  206426             sender\n",
      "[ 11]   0.00-30.03  sec  37.0 GBytes  10.6 Gbits/sec                  receiver\n",
      "[SUM]   0.00-29.99  sec   169 GBytes  48.4 Gbits/sec  634176             sender\n",
      "[SUM]   0.00-30.03  sec   169 GBytes  48.4 Gbits/sec                  receiver\n",
      "\n",
      "iperf Done.\n"
     ]
    }
   ],
   "source": [
    "slice = fablib.get_slice(slice_name)\n",
    "\n",
    "node1 = slice.get_node(name='Node1')        \n",
    "node2 = slice.get_node(name='Node2')           \n",
    "\n",
    "node1_addr = node1.get_interface(network_name=f'FABNET_IPv4_{node1.get_site()}').get_ip_addr()\n",
    "\n",
    "stdout1, stderr1 = node1.execute(\"docker run -d --rm \"\n",
    "                                \"--network host \"\n",
    "                                \"fabrictestbed/slice-vm-rocky8-multitool:0.0.2 \"\n",
    "                                \"iperf3 -s -1\"\n",
    "                                , quiet=True, output_file=f\"{node1.get_name()}.log\");\n",
    "\n",
    "stdout2, stderr2 = node2.execute(\"docker run --rm \"\n",
    "                                \"--network host \"\n",
    "                                \"fabrictestbed/slice-vm-rocky8-multitool:0.0.2 \"\n",
    "                                f\"iperf3 -c {node1_addr} -P 4 -t 30 -i 10 -O 10\"\n",
    "                                , quiet=False, output_file=f\"{node2.get_name()}.log\");"
   ]
  },
  {
   "cell_type": "markdown",
   "metadata": {},
   "source": [
    "## (Optional) NUMA Tuning\n",
    "\n",
    "Higher bandwidths can only be achieved with larger VMs that have their CPU cores pinned to the same NUMA domain as the PCI bus that handles their NIC.  The following cell will attempt to pin all of the CPU cores and memory used by your VMs to the same NUMA domain as the NIC that they are using.  \n",
    "\n",
    "It is important to note that core and memory pinning grants a VM exclusive access to specific resources in the host machines.  NUMA tuning may not be possible because cores and memory cannot be pinned to resources that are already allocated to other VMs owned by other users. If NUMA pinning is not possible, you will see an appropriate error stating that the resources are not currently available.\n",
    "\n",
    "Note that if you are currently attending a tutorial, there is an increased likelihood that the resources you are requesting have already been allocated to one of your fellow attendees.\n",
    "\n",
    "### Pin CPUs and Memory\n",
    "\n",
    "The `pin_cpu` method attempts to pin all of your CPU cores to the same NUMA domain as the PCI component that is your NIC. The `numa_tune` method attempts to pin all of your VM's memory to the same NUMA domain as the PCI component that is your NIC.  After pinning, you must reboot each node.\n",
    "\n",
    "\n"
   ]
  },
  {
   "cell_type": "code",
   "execution_count": 8,
   "metadata": {},
   "outputs": [
    {
     "name": "stdout",
     "output_type": "stream",
     "text": [
      "----- Pinning vCPUs for node Node1 ------\n",
      "Pinning Node: Node1 CPUs for component: FABNET_IPv4_STAR_nic to Numa Node: 4\n",
      "Numa tune Node: Node1 Memory to Numa  Nodes: ['4']\n",
      "----- Pinning vCPUs for node Node2 ------\n",
      "Pinning Node: Node2 CPUs for component: FABNET_IPv4_TACC_nic to Numa Node: 6\n",
      "Cannot numatune VM to Numa Nodes ['6']; requested memory 16384 exceeds available: 13742\n"
     ]
    }
   ],
   "source": [
    "slice = fablib.get_slice(slice_name)\n",
    "\n",
    "for node in slice.get_nodes():\n",
    "\n",
    "    print(f'----- Pinning vCPUs for node {node.get_name()} ------')\n",
    "\n",
    "    try:\n",
    "       # Pin all vCPUs for VM to same Numa node as the component\n",
    "        node.pin_cpu(component_name=f'FABNET_IPv4_{node.get_site()}_nic')\n",
    "        \n",
    "        # User can also pass in the range of the vCPUs to be pinned \n",
    "        #node.pin_cpu(component_name=nic_name, cpu_range_to_pin=\"0-3\")\n",
    "        \n",
    "        # Pin memmory for VM to same Numa node as the components\n",
    "        node.numa_tune()\n",
    "        \n",
    "        # Reboot the VM\n",
    "        node.os_reboot()\n",
    "    except Exception as e:\n",
    "        print(f'{e}')"
   ]
  },
  {
   "cell_type": "markdown",
   "metadata": {},
   "source": [
    "### Wait and Reconfigure\n",
    "\n",
    "Use the `wait_ssh` method to block and wait for your nodes to reboot and be accessible using ssh.\n",
    "\n",
    "After rebooting, you will need to reconfigure the IP addresses of the interfaces and restart the Docker services.\n"
   ]
  },
  {
   "cell_type": "code",
   "execution_count": 9,
   "metadata": {},
   "outputs": [
    {
     "name": "stdout",
     "output_type": "stream",
     "text": [
      "All nodes are back up!\n",
      "Reconfiguring node Node1\n",
      "Reconfiguring node Node2\n"
     ]
    }
   ],
   "source": [
    "slice = fablib.get_slice(slice_name)\n",
    "\n",
    "# Wait for the SSH Connectivity to be back\n",
    "slice.wait_ssh()\n",
    "\n",
    "print(\"All nodes are back up!\")\n",
    "\n",
    "# Reconfiguring the Network\n",
    "for node in slice.get_nodes():\n",
    "    print(f'Reconfiguring node {node.get_name()}')\n",
    "    node.config()\n",
    "\n",
    "    stdout1, stderr1 = node.execute(f\"sudo systemctl start docker\", \n",
    "                                    output_file=f'{node.get_name()}.log', quiet=True)    \n",
    "    stdout1, stderr1 = node.execute(f\"sudo ./node_tools/host_tune.sh\", \n",
    "                                    output_file=f'{node.get_name()}.log', quiet=True)"
   ]
  },
  {
   "cell_type": "markdown",
   "metadata": {},
   "source": [
    "## Re-Run iPerf3\n",
    "\n",
    "Re-run iPerf3 exactly as you ran it before.  \n",
    "\n",
    "Did you achieve higher performance? Why or why not?\n",
    "\n",
    "Can you configure your slice to achieve performance approaching the 100 Gbps limit imposed by these FABRIC NICs?\n",
    "\n",
    "\n"
   ]
  },
  {
   "cell_type": "code",
   "execution_count": 10,
   "metadata": {
    "tags": []
   },
   "outputs": [
    {
     "name": "stdout",
     "output_type": "stream",
     "text": [
      "Connecting to host 10.129.129.2, port 5201\n",
      "[  5] local 10.130.138.2 port 39910 connected to 10.129.129.2 port 5201\n",
      "[  7] local 10.130.138.2 port 39924 connected to 10.129.129.2 port 5201\n",
      "[  9] local 10.130.138.2 port 39930 connected to 10.129.129.2 port 5201\n",
      "[ 11] local 10.130.138.2 port 39938 connected to 10.129.129.2 port 5201\n",
      "[ 13] local 10.130.138.2 port 39946 connected to 10.129.129.2 port 5201\n",
      "[ 15] local 10.130.138.2 port 39962 connected to 10.129.129.2 port 5201\n",
      "[ 17] local 10.130.138.2 port 39970 connected to 10.129.129.2 port 5201\n",
      "[ 19] local 10.130.138.2 port 39978 connected to 10.129.129.2 port 5201\n",
      "[ ID] Interval           Transfer     Bitrate         Retr  Cwnd\n",
      "[  5]   0.00-10.01  sec  9.15 GBytes  7.85 Gbits/sec  14921   67.2 MBytes       (omitted)\n",
      "[  7]   0.00-10.05  sec  8.51 GBytes  7.27 Gbits/sec  15140   29.0 MBytes       (omitted)\n",
      "[  9]   0.00-10.05  sec  8.12 GBytes  6.94 Gbits/sec  1272   19.0 MBytes       (omitted)\n",
      "[ 11]   0.00-10.05  sec  7.97 GBytes  6.82 Gbits/sec  4103   25.6 MBytes       (omitted)\n",
      "[ 13]   0.00-10.06  sec  9.59 GBytes  8.19 Gbits/sec  5518   17.5 MBytes       (omitted)\n",
      "[ 15]   0.00-10.06  sec  8.97 GBytes  7.66 Gbits/sec  15267   26.1 MBytes       (omitted)\n",
      "[ 17]   0.00-10.06  sec  6.36 GBytes  5.43 Gbits/sec  10318   25.7 MBytes       (omitted)\n",
      "[ 19]   0.00-10.06  sec  9.43 GBytes  8.05 Gbits/sec  2044   24.8 MBytes       (omitted)\n",
      "[SUM]   0.00-10.01  sec  68.1 GBytes  58.4 Gbits/sec  68583             (omitted)\n",
      "- - - - - - - - - - - - - - - - - - - - - - - - -\n",
      "[  5]   0.05-9.96   sec  9.23 GBytes  7.92 Gbits/sec  7876   14.3 MBytes       \n",
      "[  7]   0.01-9.98   sec  7.09 GBytes  6.10 Gbits/sec  5138   76.6 MBytes       \n",
      "[  9]   0.01-9.98   sec  7.72 GBytes  6.63 Gbits/sec  1304   62.8 MBytes       \n",
      "[ 11]   0.01-9.98   sec  8.69 GBytes  7.47 Gbits/sec  1201   72.1 MBytes       \n",
      "[ 13]   0.00-9.99   sec  8.00 GBytes  6.87 Gbits/sec  1449   94.4 MBytes       \n",
      "[ 15]   0.00-10.01  sec  8.26 GBytes  7.09 Gbits/sec  6205   64.2 MBytes       \n",
      "[ 17]   0.00-10.05  sec  7.83 GBytes  6.69 Gbits/sec  5904   27.3 MBytes       \n",
      "[ 19]   0.00-10.06  sec  9.35 GBytes  7.98 Gbits/sec  1876   24.0 MBytes       \n",
      "[SUM]   0.05-9.96   sec  66.2 GBytes  56.8 Gbits/sec  30953             \n",
      "- - - - - - - - - - - - - - - - - - - - - - - - -\n",
      "[  5]   9.96-19.96  sec  8.35 GBytes  7.17 Gbits/sec  8808   60.8 MBytes       \n",
      "[  7]   9.98-19.99  sec  8.10 GBytes  6.95 Gbits/sec  8361   67.7 MBytes       \n",
      "[  9]   9.98-20.01  sec  7.15 GBytes  6.12 Gbits/sec  1539   71.0 MBytes       \n",
      "[ 11]   9.98-20.02  sec  7.83 GBytes  6.70 Gbits/sec  1642   34.5 MBytes       \n",
      "[ 13]   9.99-20.03  sec  9.27 GBytes  7.93 Gbits/sec  2021   24.6 MBytes       \n",
      "[ 15]  10.01-20.03  sec  10.9 GBytes  9.35 Gbits/sec  11267   45.7 MBytes       \n",
      "[ 17]  10.05-20.05  sec  9.42 GBytes  8.09 Gbits/sec  10670   52.3 MBytes       \n",
      "[ 19]  10.06-20.05  sec  7.13 GBytes  6.13 Gbits/sec  1594   45.7 MBytes       \n",
      "[SUM]   9.96-19.96  sec  68.2 GBytes  58.5 Gbits/sec  45902             \n",
      "- - - - - - - - - - - - - - - - - - - - - - - - -\n",
      "[  5]  19.96-29.96  sec  7.56 GBytes  6.50 Gbits/sec  10915   64.3 MBytes       \n",
      "[  7]  19.99-29.96  sec  7.64 GBytes  6.59 Gbits/sec  6901   49.8 MBytes       \n",
      "[  9]  20.01-29.96  sec  6.39 GBytes  5.52 Gbits/sec  1497   64.6 MBytes       \n",
      "[ 11]  20.02-29.96  sec  6.70 GBytes  5.80 Gbits/sec  1456   73.6 MBytes       \n",
      "[ 13]  20.03-29.96  sec  7.98 GBytes  6.90 Gbits/sec  1650   71.6 MBytes       \n",
      "[ 15]  20.03-29.96  sec  12.3 GBytes  10.6 Gbits/sec  14878   79.3 MBytes       \n",
      "[ 17]  20.05-29.96  sec  9.82 GBytes  8.52 Gbits/sec  10204   65.0 MBytes       \n",
      "[ 19]  20.05-29.96  sec  9.22 GBytes  7.99 Gbits/sec  1993    111 MBytes       \n",
      "[SUM]  19.96-29.96  sec  67.6 GBytes  58.1 Gbits/sec  49494             \n",
      "- - - - - - - - - - - - - - - - - - - - - - - - -\n",
      "[ ID] Interval           Transfer     Bitrate         Retr\n",
      "[  5]   0.00-29.96  sec  25.2 GBytes  7.22 Gbits/sec  27599             sender\n",
      "[  5]   0.00-30.20  sec  25.5 GBytes  7.25 Gbits/sec                  receiver\n",
      "[  7]   0.00-29.96  sec  22.9 GBytes  6.56 Gbits/sec  20400             sender\n",
      "[  7]   0.00-30.20  sec  22.9 GBytes  6.51 Gbits/sec                  receiver\n",
      "[  9]   0.00-29.96  sec  21.3 GBytes  6.10 Gbits/sec  4340             sender\n",
      "[  9]   0.00-30.20  sec  21.3 GBytes  6.06 Gbits/sec                  receiver\n",
      "[ 11]   0.00-29.96  sec  23.2 GBytes  6.66 Gbits/sec  4299             sender\n",
      "[ 11]   0.00-30.20  sec  23.3 GBytes  6.63 Gbits/sec                  receiver\n",
      "[ 13]   0.00-29.96  sec  25.3 GBytes  7.25 Gbits/sec  5120             sender\n",
      "[ 13]   0.00-30.20  sec  25.4 GBytes  7.22 Gbits/sec                  receiver\n",
      "[ 15]   0.00-29.96  sec  31.5 GBytes  9.03 Gbits/sec  32350             sender\n",
      "[ 15]   0.00-30.20  sec  31.8 GBytes  9.04 Gbits/sec                  receiver\n",
      "[ 17]   0.00-29.96  sec  27.1 GBytes  7.76 Gbits/sec  26778             sender\n",
      "[ 17]   0.00-30.20  sec  27.5 GBytes  7.82 Gbits/sec                  receiver\n",
      "[ 19]   0.00-29.96  sec  25.8 GBytes  7.39 Gbits/sec  5463             sender\n",
      "[ 19]   0.00-30.20  sec  26.0 GBytes  7.40 Gbits/sec                  receiver\n",
      "[SUM]   0.00-29.96  sec   202 GBytes  58.0 Gbits/sec  126349             sender\n",
      "[SUM]   0.00-30.20  sec   204 GBytes  57.9 Gbits/sec                  receiver\n",
      "\n",
      "iperf Done.\n"
     ]
    }
   ],
   "source": [
    "slice = fablib.get_slice(slice_name)\n",
    "\n",
    "node1 = slice.get_node(name='Node1')        \n",
    "node2 = slice.get_node(name='Node2')           \n",
    "\n",
    "node1_addr = node1.get_interface(network_name=f'FABNET_IPv4_{node1.get_site()}').get_ip_addr()\n",
    "\n",
    "stdout1, stderr1 = node1.execute(\"docker run -d --rm \"\n",
    "                                \"--network host \"\n",
    "                                \"fabrictestbed/slice-vm-rocky8-multitool:0.0.2 \"\n",
    "                                \"iperf3 -s -1\"\n",
    "                                , quiet=True, output_file=f\"{node1.get_name()}.log\");\n",
    "\n",
    "stdout2, stderr2 = node2.execute(\"docker run --rm \"\n",
    "                                \"--network host \"\n",
    "                                \"fabrictestbed/slice-vm-rocky8-multitool:0.0.2 \"\n",
    "                                f\"iperf3 -c {node1_addr} -P 8 -t 30 -i 10 -O 10\"\n",
    "                                , quiet=False, output_file=f\"{node2.get_name()}.log\");\n",
    "\n",
    "\n"
   ]
  },
  {
   "cell_type": "markdown",
   "metadata": {},
   "source": [
    "## Delete the Slice\n",
    "\n",
    "Please delete your slice when you are done with your experiment."
   ]
  },
  {
   "cell_type": "code",
   "execution_count": 11,
   "metadata": {
    "tags": []
   },
   "outputs": [],
   "source": [
    "slice = fablib.get_slice(slice_name)\n",
    "slice.delete()"
   ]
  },
  {
   "cell_type": "code",
   "execution_count": null,
   "metadata": {},
   "outputs": [],
   "source": []
  }
 ],
 "metadata": {
  "kernelspec": {
   "display_name": "Python 3 (ipykernel)",
   "language": "python",
   "name": "python3"
  },
  "language_info": {
   "codemirror_mode": {
    "name": "ipython",
    "version": 3
   },
   "file_extension": ".py",
   "mimetype": "text/x-python",
   "name": "python",
   "nbconvert_exporter": "python",
   "pygments_lexer": "ipython3",
   "version": "3.11.2"
  }
 },
 "nbformat": 4,
 "nbformat_minor": 4
}
