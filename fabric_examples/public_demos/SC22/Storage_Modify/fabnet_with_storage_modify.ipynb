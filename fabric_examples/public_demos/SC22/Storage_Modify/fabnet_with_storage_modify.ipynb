{
 "cells": [
  {
   "cell_type": "markdown",
   "metadata": {},
   "source": [
    "# Creating FABnet IPv4 Network with Storage"
   ]
  },
  {
   "cell_type": "markdown",
   "metadata": {},
   "source": [
    "## Import the FABlib Library\n"
   ]
  },
  {
   "cell_type": "code",
   "execution_count": null,
   "metadata": {},
   "outputs": [],
   "source": [
    "from fabrictestbed_extensions.fablib.fablib import FablibManager as fablib_manager\n",
    "\n",
    "try:\n",
    "    fablib = fablib_manager()\n",
    "           \n",
    "    fablib.show_config()\n",
    "except Exception as e:\n",
    "    print(f\"Exception: {e}\") "
   ]
  },
  {
   "cell_type": "code",
   "execution_count": null,
   "metadata": {},
   "outputs": [],
   "source": [
    "slices = fablib.list_slices()\n"
   ]
  },
  {
   "cell_type": "markdown",
   "metadata": {},
   "source": [
    "## (Optional): Query for Available Testbed Resources and Settings\n",
    "\n",
    "This optional command queries the FABRIC services to find the available resources. It may be useful for finding a site with available capacity."
   ]
  },
  {
   "cell_type": "code",
   "execution_count": null,
   "metadata": {},
   "outputs": [],
   "source": [
    "try:\n",
    "    fablib.list_sites()\n",
    "except Exception as e:\n",
    "    print(f\"Exception: {e}\")"
   ]
  },
  {
   "cell_type": "markdown",
   "metadata": {
    "tags": []
   },
   "source": [
    "# Create the Experiment Slice\n",
    "\n",
    "NIC component models options:\n",
    "- NIC_Basic: 100 Gbps Mellanox ConnectX-6 SR-IOV VF (1 Port)\n",
    "- NIC_ConnectX_5: 25 Gbps Dedicated Mellanox ConnectX-5 PCI Device (2 Ports) \n",
    "- NIC_ConnectX_6: 100 Gbps Dedicated Mellanox ConnectX-6 PCI Device (2 Ports) "
   ]
  },
  {
   "cell_type": "code",
   "execution_count": null,
   "metadata": {},
   "outputs": [],
   "source": [
    "server_site = 'DALL'\n",
    "\n",
    "#client_sites = fablib.get_random_sites(count=5,avoid=[server_site, 'FIU','UCSD','GPN','CLEM','MAX','STAR'])\n",
    "client_sites = fablib.get_random_sites(count=10,avoid=[server_site])\n",
    "\n",
    "\n",
    "\n",
    "\n",
    "print(f\"server_site: {server_site},  client_sites: {client_sites}\")\n",
    "slice_name = f'MySliceFABNETStorage2'\n",
    "\n",
    "\n"
   ]
  },
  {
   "cell_type": "code",
   "execution_count": null,
   "metadata": {},
   "outputs": [],
   "source": [
    "try:\n",
    "    print(f\"Slice: {slice_name}\")\n",
    "\n",
    "    site = server_site\n",
    "    storage_name = f'FABRIC_Staff_{site.lower()}_1T'\n",
    "    node_name = f'{site}1'\n",
    "    net_name=f\"net{server_site}\"\n",
    "    \n",
    "    #Create Slice\n",
    "    slice = fablib.new_slice(name=slice_name)\n",
    "\n",
    "    ifaces = []\n",
    "    node = slice.add_node(name=node_name, site=site, cores=8, ram=32, disk=500)\n",
    "    node.add_storage(name=storage_name)\n",
    "    ifaces.append(node.add_component(model='NIC_Basic', name='nic1').get_interfaces()[0])\n",
    "    node.add_component(model='NVME_P4510', name='nvme')\n",
    "\n",
    "    # Network\n",
    "    net = slice.add_l3network(name=net_name, interfaces=ifaces, type='IPv4')\n",
    "\n",
    "    #Submit Slice Request\n",
    "    slice.submit(wait_interval=10)\n",
    "except Exception as e:\n",
    "    print(f\"Exception: {e}\")"
   ]
  },
  {
   "cell_type": "markdown",
   "metadata": {
    "tags": []
   },
   "source": [
    "## Configure the Server "
   ]
  },
  {
   "cell_type": "code",
   "execution_count": null,
   "metadata": {},
   "outputs": [],
   "source": [
    "try:\n",
    "    site = server_site\n",
    "    storage_name = f'FABRIC_Staff_{site.lower()}_1T'\n",
    "    node_name = f'{site}1'\n",
    "    net_name=f\"net{server_site}\"\n",
    "    \n",
    "    \n",
    "    network = slice.get_network(name=net_name)\n",
    "    network_available_ips = network.get_available_ips()\n",
    "    network.show()\n",
    "except Exception as e:\n",
    "    print(f\"Exception: {e}\")"
   ]
  },
  {
   "cell_type": "code",
   "execution_count": null,
   "metadata": {},
   "outputs": [],
   "source": [
    "from ipaddress import ip_address, IPv4Address, IPv6Address, IPv4Network, IPv6Network\n",
    "\n",
    "\n",
    "try:\n",
    "    node = slice.get_node(name=node_name)        \n",
    "    node_iface = node.get_interface(network_name=net_name)  \n",
    "    node_addr = network_available_ips.pop(0)\n",
    "    server_addr = node_addr\n",
    "    node_iface.ip_addr_add(addr=node_addr, subnet=network.get_subnet())\n",
    "    output_file = f'logs/{node_name}.log'\n",
    "    \n",
    "    node.ip_route_add(subnet=IPv4Network('10.128.0.0/10'), gateway=network.get_gateway())\n",
    "    \n",
    "    stdout, stderr = node.execute(f'ip addr show {node_iface.get_os_interface()}', quiet=True,  output_file=output_file)\n",
    "    #print (stdout)\n",
    "    \n",
    "    stdout, stderr = node.execute(f'ip route list',quiet=True, output_file=output_file)\n",
    "    #print (stdout)\n",
    "except Exception as e:\n",
    "    print(f\"Exception: {e}\")\n",
    "    raise e"
   ]
  },
  {
   "cell_type": "code",
   "execution_count": null,
   "metadata": {},
   "outputs": [],
   "source": [
    "try:\n",
    "    node1 = slice.get_node(name=node_name)   \n",
    "                                    \n",
    "    rtnval = node1.upload_directory(\"fabric_node_tools\",\".\")\n",
    "    stdout, stderr = node1.execute(f'sudo chmod +x ./fabric_node_tools/*.sh; '\n",
    "                                   f'sudo ./fabric_node_tools/host_tune_redhat.sh ', \n",
    "                                   output_file=output_file,\n",
    "                                   quiet=True)\n",
    "\n",
    "except Exception as e:\n",
    "    print(f\"Exception: {e}\")"
   ]
  },
  {
   "cell_type": "code",
   "execution_count": null,
   "metadata": {},
   "outputs": [],
   "source": [
    "try:\n",
    "    site = server_site\n",
    "    storage_name = f'FABRIC_Staff_{site.lower()}_1T'\n",
    "    node_name = f'{site}1'\n",
    "    net_name=f\"net{server_site}\"\n",
    "    \n",
    "    node1 = slice.get_node(name=node_name) \n",
    "    \n",
    "    #print(f\"{node}\")\n",
    "    storage = node.get_storage(storage_name)\n",
    "    #print(f\"{storage}\")\n",
    "    print(f\"Storage Device Name: {storage.get_device_name()}\")  \n",
    "\n",
    "    #stdout, stderr = node1.execute(f'sudo dnf update -y ', quiet=False)\n",
    "    #stdout, stderr = node1.execute(f'sudo dnf install -y epel-release ', quiet=False)\n",
    "\n",
    "    \n",
    "    stdout, stderr = node1.execute( f'sudo dnf install -y epel-release; '\n",
    "                                    f'sudo /usr/bin/crb enable; '\n",
    "                                    f'sudo dnf install -y httpd iproute-tc net-tools pciutils tcpdump iftop iperf3 vim; '\n",
    "                                    f\"sudo mount {storage.get_device_name()} /var/www/html; \"\n",
    "                                    f\"sudo chmod -R 775 /var/www/html; \"\n",
    "                                    f'sudo systemctl start httpd; '\n",
    "                                    f'sudo systemctl enable httpd; '\n",
    "                                    f'sudo systemctl status httpd;'\n",
    "                                    f'sudo setenforce 0',\n",
    "                                    output_file=output_file,\n",
    "                                    quiet=True)\n",
    "    \n",
    "    print('done!')\n",
    "    \n",
    "except Exception as e:\n",
    "    print(f\"Exception: {e}\")"
   ]
  },
  {
   "cell_type": "markdown",
   "metadata": {},
   "source": [
    "## Add the Client Nodes"
   ]
  },
  {
   "cell_type": "code",
   "execution_count": null,
   "metadata": {},
   "outputs": [],
   "source": [
    "from itertools import zip_longest\n",
    "\n",
    "\n",
    "try:\n",
    "    print(f\"Slice: {slice_name}\")\n",
    "    \n",
    "    #Create Slice\n",
    "    slice = fablib.get_slice(name=slice_name)\n",
    "\n",
    "    site_batches = zip_longest(*(iter(client_sites),) * 5)\n",
    "    for site_batch in site_batches:\n",
    "        for site in site_batch:\n",
    "            if site == None: \n",
    "                continue\n",
    "            \n",
    "            storage_name = f'FABRIC_Staff_{site.lower()}_1T'\n",
    "            node_name = f'{site}1'\n",
    "            net_name=f\"net{site}\"\n",
    "            \n",
    "\n",
    "            ifaces = []\n",
    "            node = slice.add_node(name=node_name, site=site, cores=8, ram=32, disk=100)\n",
    "            node.add_storage(name=storage_name)\n",
    "            ifaces.append(node.add_component(model='NIC_Basic', name='nic1').get_interfaces()[0])\n",
    "            node.add_component(model='NVME_P4510', name='nvme')\n",
    "\n",
    "            # Network\n",
    "            net = slice.add_l3network(name=net_name, interfaces=ifaces, type='IPv4')\n",
    "\n",
    "        #Submit Slice Request\n",
    "        slice.submit(wait_interval=10)\n",
    "except Exception as e:\n",
    "    print(f\"Exception: {e}\")"
   ]
  },
  {
   "cell_type": "code",
   "execution_count": null,
   "metadata": {},
   "outputs": [],
   "source": [
    "from ipaddress import ip_address, IPv4Address, IPv6Address, IPv4Network, IPv6Network\n",
    "\n",
    "\n",
    "\n",
    "try:\n",
    "    for site in client_sites:\n",
    "        storage_name = f'FABRIC_Staff_{site.lower()}_1T'\n",
    "        node_name = f'{site}1'\n",
    "        net_name=f\"net{site}\"\n",
    "        output_file = f'logs/{node_name}.log'\n",
    "\n",
    "        network = slice.get_network(name=net_name)\n",
    "        network_available_ips = network.get_available_ips()\n",
    "        #network.show()\n",
    "        \n",
    "        \n",
    "        \n",
    "        node = slice.get_node(name=node_name) \n",
    "        node_iface = node.get_interface(network_name=net_name)  \n",
    "        node_addr = network_available_ips.pop(0)\n",
    "        node_iface.ip_addr_add(addr=node_addr, subnet=network.get_subnet())\n",
    "\n",
    "        print(f\"{node_name} {node_addr}\")\n",
    "        \n",
    "        node.ip_route_add(subnet=IPv4Network('10.128.0.0/10'), gateway=network.get_gateway())\n",
    "\n",
    "        stdout, stderr = node.execute(f'ip addr show {node_iface.get_os_interface()}', quiet=True, output_file=output_file)\n",
    "        stdout, stderr = node.execute(f'ip route list', quiet=True, output_file=output_file)\n",
    "except Exception as e:\n",
    "    print(f\"Exception: {e}\")"
   ]
  },
  {
   "cell_type": "code",
   "execution_count": null,
   "metadata": {},
   "outputs": [],
   "source": [
    "try:\n",
    "    \n",
    "    threads = {}\n",
    "    for site in client_sites:\n",
    "        print(f\"Starting site: {site}\")\n",
    "        storage_name = f'FABRIC_Staff_{site.lower()}_1T'\n",
    "        node_name = f'{site}1'\n",
    "        net_name=f\"net{site}\"\n",
    "        output_file = f'logs/{node_name}.log'\n",
    "\n",
    "    \n",
    "        node = slice.get_node(name=node_name) \n",
    "\n",
    "        #print(f\"{node}\")\n",
    "        storage = node.get_storage(storage_name)\n",
    "        #print(f\"{storage}\")\n",
    "        print(f\"Storage Device Name: {storage.get_device_name()}\")  \n",
    "\n",
    "\n",
    "        rtnval = node.upload_directory(\"fabric_node_tools\",\".\")\n",
    "        stdout, stderr = node.execute(f'sudo chmod +x ./fabric_node_tools/*.sh; ',\n",
    "                                       output_file=output_file)\n",
    "\n",
    "\n",
    "        #stdout, stderr = node.execute(f'sudo dnf update -y ', quiet=False)\n",
    "        #stdout, stderr = node.execute(f'sudo dnf install -y epel-release ', quiet=False)\n",
    "\n",
    "\n",
    "        threads[site] = node.execute_thread(f'sudo dnf install -y epel-release; '\n",
    "                                            f'sudo /usr/bin/crb enable; '\n",
    "                                            f'sudo dnf install -y httpd iproute-tc net-tools pciutils tcpdump iftop iperf3 vim; '\n",
    "                                            f'sudo ./fabric_node_tools/host_tune_redhat.sh; ' \n",
    "                                            f\"sudo mkdir /mnt/fabric_storage; \"\n",
    "                                            f\"sudo mkfs.ext4 {storage.get_device_name()}; \"\n",
    "                                            f\"sudo mount {storage.get_device_name()} /mnt/fabric_storage; \"\n",
    "                                            f\"sudo chmod -R 775 /mnt/fabric_storage; \",\n",
    "                                            output_file=output_file)  \n",
    "        \n",
    "\n",
    "    for site,mythread in threads.items():\n",
    "        print(f\"site: {site}\", end='')\n",
    "        stdout,stderr = mythread.result()\n",
    "        print('done!')\n",
    "            \n",
    "    print('all done!')\n",
    "    \n",
    "except Exception as e:\n",
    "    print(f\"Exception: {e}\")\n",
    "    raise e"
   ]
  },
  {
   "cell_type": "markdown",
   "metadata": {},
   "source": [
    "## Run the Experiemnt"
   ]
  },
  {
   "cell_type": "code",
   "execution_count": null,
   "metadata": {},
   "outputs": [],
   "source": [
    "try:\n",
    "    #client_sites = ['MASS', 'TACC', 'UTAH', 'NCSA', 'WASH']\n",
    "    #slice = fablib.get_slice('MySliceFABNETStorage')\n",
    "    #server_addr = '10.133.129.2'\n",
    "\n",
    "    \n",
    "    threads = {}\n",
    "    \n",
    "    print(f\"server_addr: {server_addr}\")\n",
    "    \n",
    "    command =   f\"sudo curl http://{server_addr}/file.1G --output /mnt/fabric_storage/file.1G; \"\n",
    "    command +=  f\"sudo curl http://{server_addr}/file.10G --output /mnt/fabric_storage/file.10G; \"\n",
    "    command +=  f\"sudo curl http://{server_addr}/file.20G --output /mnt/fabric_storage/file.20G; \"\n",
    "    command +=  f\"sudo curl http://{server_addr}/file.50G --output /mnt/fabric_storage/file.50G; \"\n",
    "    command +=  f\"sudo curl http://{server_addr}/file.100G --output /mnt/fabric_storage/file.100G; \"\n",
    "    \n",
    "    print(f\"command: {command}\")\n",
    "    \n",
    "    for site in client_sites:\n",
    "        storage_name = f'FABRIC_Staff_{site.lower()}_1T'\n",
    "        node_name = f'{site}1'\n",
    "        net_name=f\"net{site}\"\n",
    "        output_file = f'logs/{node_name}.log'\n",
    "\n",
    "    \n",
    "        node = slice.get_node(name=node_name)  \n",
    "        print(f\"node: {node.get_name()}\")\n",
    "        threads[site] = node.execute_thread(command, output_file=output_file)  \n",
    "        \n",
    "    \n",
    "    for site,mythread in threads.items():\n",
    "        stdout,stderr = mythread.result()\n",
    "        \n",
    "        print(f\"site: {site}, stdout: {stdout}, stderr: {stderr}\")\n",
    "        \n",
    "except Exception as e:\n",
    "    print(f\"Exception: {e}\")\n",
    "\n"
   ]
  },
  {
   "cell_type": "code",
   "execution_count": null,
   "metadata": {},
   "outputs": [],
   "source": [
    "try:\n",
    "    slice = fablib.get_slice(name=slice_name)\n",
    "    \n",
    "    \n",
    "    threads = {}\n",
    "    \n",
    "    #server_addr = '10.133.132.2'\n",
    "    print(f\"server_addr: {server_addr}\")\n",
    "    \n",
    "    command =   f\"sudo rm /mnt/fabric_storage/file.* ; \"\n",
    "    command +=  f\"sudo sync; \"\n",
    "    command +=  f\"sudo  sh -c 'echo 1 > /proc/sys/vm/drop_caches'; \"\n",
    "\n",
    "\n",
    "    for site in client_sites:\n",
    "        print(f\"site: {site}\")\n",
    "        storage_name = f'FABRIC_Staff_{site.lower()}_1T'\n",
    "        node_name = f'{site}1'\n",
    "        net_name=f\"net{site}\"\n",
    "        output_file = f'logs/{node_name}.log'\n",
    "\n",
    "    \n",
    "        node1 = slice.get_node(name=node_name)                \n",
    "        threads[site] = node1.execute_thread(command, output_file=output_file)  \n",
    "        \n",
    "    \n",
    "    for site,mythread in threads.items():\n",
    "        stdout,stderr = mythread.result()\n",
    "        \n",
    "        print(f\"site: {site}, stdout: {stdout}, stderr: {stderr}\")\n",
    "        \n",
    "except Exception as e:\n",
    "    print(f\"Exception: {e}\")\n",
    "    raise e\n",
    "\n"
   ]
  },
  {
   "cell_type": "markdown",
   "metadata": {},
   "source": [
    "## Delete the Slice\n",
    "\n",
    "Please delete your slice when you are done with your experiment."
   ]
  },
  {
   "cell_type": "code",
   "execution_count": null,
   "metadata": {},
   "outputs": [],
   "source": [
    "try:\n",
    "    slice = fablib.get_slice(name=slice_name)\n",
    "    slice.delete()\n",
    "except Exception as e:\n",
    "    print(f\"Exception: {e}\")"
   ]
  },
  {
   "cell_type": "code",
   "execution_count": null,
   "metadata": {},
   "outputs": [],
   "source": []
  }
 ],
 "metadata": {
  "kernelspec": {
   "display_name": "Python 3 (ipykernel)",
   "language": "python",
   "name": "python3"
  },
  "language_info": {
   "codemirror_mode": {
    "name": "ipython",
    "version": 3
   },
   "file_extension": ".py",
   "mimetype": "text/x-python",
   "name": "python",
   "nbconvert_exporter": "python",
   "pygments_lexer": "ipython3",
   "version": "3.9.7"
  }
 },
 "nbformat": 4,
 "nbformat_minor": 4
}
