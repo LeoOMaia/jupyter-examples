{
 "cells": [
  {
   "cell_type": "markdown",
   "id": "0c2da6f1",
   "metadata": {},
   "source": [
    "# SC22 RENCI Booth Demos/Presentations\n",
    "\n",
    "- [Slides](./FRRouting/frr_ospf_chameleon_SC22b1.ipynb): \n"
   ]
  },
  {
   "cell_type": "markdown",
   "id": "19651fde-76e0-4e82-ada1-29e3b8d0541a",
   "metadata": {},
   "source": [
    "### FRRouting with Chameleon Stitching\n",
    "\n",
    "- [Notebook](./FRRouting/frr_ospf_chameleon_SC22b1.ipynb): \n",
    "\n",
    "### Storage and Modify\n",
    "\n",
    "- [Notebook](./Storage_Modify/fabnet_with_storage_modify.ipynb): \n",
    "\n",
    "\n",
    "\n",
    "\n"
   ]
  },
  {
   "cell_type": "code",
   "execution_count": null,
   "id": "76146b01",
   "metadata": {},
   "outputs": [],
   "source": []
  }
 ],
 "metadata": {
  "kernelspec": {
   "display_name": "Bash",
   "language": "bash",
   "name": "bash"
  },
  "language_info": {
   "codemirror_mode": "shell",
   "file_extension": ".sh",
   "mimetype": "text/x-sh",
   "name": "bash"
  }
 },
 "nbformat": 4,
 "nbformat_minor": 5
}
