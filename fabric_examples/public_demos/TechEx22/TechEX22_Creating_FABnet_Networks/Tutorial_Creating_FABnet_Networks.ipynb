{
 "cells": [
  {
   "cell_type": "markdown",
   "metadata": {},
   "source": [
    "# Creating FABnet Networks\n",
    "\n",
    "One of the primary features of FABRIC is its ability to deploy distributed sets of VMs connected with high-performance wide-area networks. FABRIC provides two WAN services at two levels, layer 2 circuits and layer 3 IP connectivity.  Both types of networks use FABRIC’s high-performance network infrastructure.  \n",
    "\n",
    "Some FABRIC experiments require the lower layer 2 circuits.  These experiments tend to involve users needing to configure routers/switches in the core of the network.  However, many experiments are able to use standard IP (layer 3) services.  These experiments tend to involve connecting applications or data management services across FABRIC’s high-performance wide-area networks.  \n",
    "\n",
    "This tutorial walks the user through creating and configuring experiments using FABRIC’s FABnetv4 (IPv4) networking services. During this tutorial users will create FABnet networks and configure the subnets, IP addresses, and routes for several common usecases. \n",
    "\n",
    "After completing this tutorial, users will be able to: \n",
    "\n",
    "- Create FABnet networks\n",
    "- Configure routes on nodes to use FABnet networks with a slice\n",
    "- Configure routes on nodes to use FABnet networks between slices\n",
    "- Selectively configure routes on nodes to allow/prevent communication between specific slices\n",
    "\n",
    "## FABnetv4 and FABnetv6\n",
    "\n",
    "FABRIC provides a pair of layer 3 IP networking services across every FABRIC site.  FABnetv4 (IPv4) and FABnetv6 (IPv6). You can think of these services as pair of private internets that connect  FABRIC sites using its high-performance network links.  Users can create private subnets that can route IP traffic through the shared FABnet networks.\n",
    "\n",
    "The FABlib API enables FABRIC users to create isolated FABnet networks.  Each FABnet network is issued a subnet of the greater FABnet internets.  Individual VMs can be added to any FABnet networks colocated with he VM. \n",
    "\n",
    "Upon creation, your individual FABnet network is issued a subnet and gateway by the FABRIC control framework. The user is responsible for configuring the subnet, routes, and IP addresses for their slice and can do so in any way that they wish.  FABRIC is responsible for forwarding traffic between all FABnet networks on behalf of the users.\n",
    "\n"
   ]
  },
  {
   "cell_type": "markdown",
   "metadata": {},
   "source": [
    "## Imports\n",
    "\n",
    "Import the FABlib library and create a FABlib manager. For this turtorial you will also need to import some Python IP handling packages."
   ]
  },
  {
   "cell_type": "code",
   "execution_count": null,
   "metadata": {},
   "outputs": [],
   "source": [
    "from ipaddress import ip_address, IPv4Address, IPv6Address, IPv4Network, IPv6Network\n",
    "\n",
    "from fabrictestbed_extensions.fablib.fablib import FablibManager as fablib_manager\n",
    "fablib = fablib_manager()             \n",
    "config = fablib.show_config()\n"
   ]
  },
  {
   "cell_type": "markdown",
   "metadata": {},
   "source": [
    "# Exercise 1 (Beginner): FABnet Networks"
   ]
  },
  {
   "cell_type": "markdown",
   "metadata": {
    "tags": []
   },
   "source": [
    "\n",
    "<img src=\"./figs/fabnet_2_sites.png\" width=\"80%\"><br>\n",
    "\n",
    "## Create the Experiment Slice\n",
    "\n",
    "\n",
    "The following cells creates two nodes, on different sites, with basic NICs connected to FABRIC's FABnetv4 internet.  This slice will be (re)used by all exercises in this tutorial.\n",
    "\n",
    "Running the cell creates two node with one NIC component is added to each node.  This example uses components of model `NIC_Basic` which are SR-IOV Virtual Function on a 100 Gpbs Mellanox ConnectX-6 PCI device.  The `get_interfaces` method returns a list of all interfaces associated with the NIC.  Since a `NIC_Basic` has only one interface, you will find only one interface in the list. \n",
    "\n",
    "Next, add a separate `l3network` for each site and pass the list of interfaces on that site that you want to connect to FABnetv4. All interfaces passed to `l3network` must be on the same site and each network will be placed on that site.  By default, a node is put on a random site.  If you want to ensure that your nodes are all on different sites you can specify the name of the sites in the `add_node` methods.  You can use the `fablib.get_random_site()` method to get a set of random site names that guarantee that the sites are different. \n"
   ]
  },
  {
   "cell_type": "code",
   "execution_count": null,
   "metadata": {},
   "outputs": [],
   "source": [
    "slice_name = 'MySlice'\n",
    "[site1,site2] = fablib.get_random_sites(count=2)\n",
    "print(f\"Sites: {site1}, {site2}\")\n",
    "\n",
    "node1_name = 'Node1'\n",
    "node2_name = 'Node2'\n",
    "\n",
    "network1_name='net1'\n",
    "network2_name='net2'\n",
    "\n",
    "node1_nic_name = 'nic1'\n",
    "node2_nic_name = 'nic2'"
   ]
  },
  {
   "cell_type": "code",
   "execution_count": null,
   "metadata": {
    "tags": []
   },
   "outputs": [],
   "source": [
    "try:\n",
    "    #Create Slice\n",
    "    slice = fablib.new_slice(name=slice_name)\n",
    "    \n",
    "    # Node1\n",
    "    node1 = slice.add_node(name=node1_name, site=site1)\n",
    "    iface1 = node1.add_component(model='NIC_Basic', name=node1_nic_name).get_interfaces()[0]\n",
    "    \n",
    "    # Node2\n",
    "    node2 = slice.add_node(name=node2_name, site=site2)\n",
    "    iface2 = node2.add_component(model='NIC_Basic', name=node2_nic_name).get_interfaces()[0]\n",
    "    \n",
    "    # NetworkS\n",
    "    net1 = slice.add_l3network(name=network1_name, interfaces=[iface1], type='IPv4')\n",
    "    net2 = slice.add_l3network(name=network2_name, interfaces=[iface2], type='IPv4')\n",
    "    \n",
    "    #Submit Slice Request\n",
    "    slice.submit()\n",
    "except Exception as e:\n",
    "    print(f\"Exception: {e}\")"
   ]
  },
  {
   "cell_type": "markdown",
   "metadata": {
    "tags": []
   },
   "source": [
    "## Configure IP Addresses\n",
    "\n",
    "\n",
    "Now you need to configure IP addresses on their new nodes.  FABlib provides some useful methods to help you configure basic IP addresses. \n",
    "\n",
    "### Get the Assigned Subnets\n",
    "\n",
    "FABnetv4 networks are assigned a subnet and gateway by FABRIC.  You can get the subnet and available IPs from the FABlib objects. "
   ]
  },
  {
   "cell_type": "code",
   "execution_count": null,
   "metadata": {},
   "outputs": [],
   "source": [
    "try:\n",
    "    network1 = slice.get_network(name=network1_name)\n",
    "    network1.show()\n",
    "\n",
    "    network2 = slice.get_network(name=network2_name)\n",
    "    network2.show()\n",
    "except Exception as e:\n",
    "    print(f\"Exception: {e}\")"
   ]
  },
  {
   "cell_type": "markdown",
   "metadata": {},
   "source": [
    "### Get Configuration Variables\n",
    "\n",
    "Get and print the values needed for the configuration below.\n",
    "\n",
    "\n",
    "<img src=\"./figs/fabnet_routes.png\" width=\"80%\"><br>\n"
   ]
  },
  {
   "cell_type": "code",
   "execution_count": null,
   "metadata": {},
   "outputs": [],
   "source": [
    "try:\n",
    "    network1_gateway = network1.get_gateway()\n",
    "    network1_subnet = network1.get_subnet()\n",
    "\n",
    "    network2_gateway = network2.get_gateway()\n",
    "    network2_subnet = network2.get_subnet()\n",
    "    \n",
    "    node1 = slice.get_node(name=node1_name)        \n",
    "    node1_iface = node1.get_interface(network_name=network1_name)  \n",
    "    node1_dev = node1_iface.get_os_interface()\n",
    "    node1_ip_addr = network1.get_available_ips()[0]\n",
    "    \n",
    "    node2 = slice.get_node(name=node2_name)        \n",
    "    node2_iface = node2.get_interface(network_name=network2_name)  \n",
    "    node2_dev = node2_iface.get_os_interface()\n",
    "    node2_ip_addr = network2.get_available_ips()[0]\n",
    "\n",
    "    \n",
    "    print(f\"Network1:\")\n",
    "    print(f\"network1_gateway: {network1_gateway}\")\n",
    "    print(f\"network1_subnet: {network1_subnet}\")\n",
    "\n",
    "    print(f\"\\nNetwork2:\")\n",
    "    print(f\"network2_gateway: {network2_gateway}\")\n",
    "    print(f\"network2_subnet: {network2_subnet}\")\n",
    "\n",
    "    print(f\"\\nNode1:\")\n",
    "    print(f\"node1_ip_addr: {node1_ip_addr}\")\n",
    "    print(f\"node1_dev: {node1_dev}\")\n",
    "\n",
    "    print(f\"\\nNode2:\")\n",
    "    print(f\"node2_ip_addr: {node2_ip_addr}\")\n",
    "    print(f\"node2_dev: {node2_dev}\")\n",
    "\n",
    "except Exception as e:\n",
    "    print(f\"Exception: {e}\")"
   ]
  },
  {
   "cell_type": "markdown",
   "metadata": {},
   "source": [
    "### Configure Node1\n",
    "\n",
    "Get the node and the interface you wish to configure.  You can use `node.get_interface` to get the interface that is connected to the specified network.  Then get an IP address from the list of available IPs and call `iface.ip_addr_add` to set the IP and subnet.  \n",
    "\n",
    "Then set a route from *this network* to the *other network* through the specified gateway.\n",
    "\n",
    "\n",
    "Optionally, use the `node.execute()` method to show the results of adding the IP address and route.\n",
    "\n"
   ]
  },
  {
   "cell_type": "code",
   "execution_count": null,
   "metadata": {},
   "outputs": [],
   "source": [
    "try:\n",
    "    node1 = slice.get_node(name=node1_name)        \n",
    "    node1_iface = node1.get_interface(network_name=network1_name)  \n",
    "    \n",
    "    print(f\"Assigning IP {node1_ip_addr} to {node1.get_name()} dev {node1_dev}\") \n",
    "    node1_iface.ip_addr_add(addr=node1_ip_addr, subnet=network1_subnet)\n",
    "    \n",
    "    print (f\"\\nNetwork settings for dev {node1_dev}:\")\n",
    "    stdout, stderr = node1.execute(f'ip addr show {node1_dev}')\n",
    "    \n",
    "    print(f\"Adding route, subnet: {network2_subnet}, gateway: {network1_gateway}\") \n",
    "    node1.ip_route_add(subnet=network2_subnet, gateway=network1_gateway)\n",
    "    \n",
    "    print (f\"{node1.get_name()} Routes:\")\n",
    "    stdout, stderr = node1.execute(f'ip route list')\n",
    "except Exception as e:\n",
    "    print(f\"Exception: {e}\")"
   ]
  },
  {
   "cell_type": "markdown",
   "metadata": {},
   "source": [
    "### Configure Node2\n",
    "\n",
    "Repeat the steps to add the next available IP to the second node and a route to the first network."
   ]
  },
  {
   "cell_type": "code",
   "execution_count": null,
   "metadata": {},
   "outputs": [],
   "source": [
    "try:\n",
    "    node2 = slice.get_node(name=node2_name)        \n",
    "    node2_iface = node2.get_interface(network_name=network2_name)  \n",
    "    \n",
    "    print(f\"Assigning IP {node2_ip_addr} to {node2.get_name()} dev {node2_dev}\") \n",
    "    node2_iface.ip_addr_add(addr=node2_ip_addr, subnet=network2_subnet)\n",
    "    \n",
    "    print (f\"\\nNetwork settings for dev {node2_iface.get_os_interface()}:\")\n",
    "    stdout, stderr = node2.execute(f'ip addr show {node2_dev}')\n",
    "    \n",
    "    print(f\"Adding route, subnet: {network1_subnet}, gateway: {network2_gateway}\") \n",
    "    node2.ip_route_add(subnet=network1_subnet, gateway=network2_gateway)\n",
    "    \n",
    "    print (f\"{node2.get_name()} Routes:\")\n",
    "    stdout, stderr = node2.execute(f'ip route list')\n",
    "except Exception as e:\n",
    "    print(f\"Exception: {e}\")"
   ]
  },
  {
   "cell_type": "markdown",
   "metadata": {},
   "source": [
    "## Test the connection\n",
    "\n",
    "- `ping`: Tests connectivity and latency\n",
    "- `tracepath`: Shows hops through each router\n"
   ]
  },
  {
   "cell_type": "code",
   "execution_count": null,
   "metadata": {},
   "outputs": [],
   "source": [
    "try:\n",
    "    node1 = slice.get_node(name=node1_name)        \n",
    "\n",
    "    stdout, stderr = node1.execute(f'ping -c 5 {node2_ip_addr}')\n",
    "    stdout, stderr = node1.execute(f'tracepath {node2_ip_addr}')\n",
    "except Exception as e:\n",
    "    print(f\"Exception: {e}\")"
   ]
  },
  {
   "cell_type": "markdown",
   "metadata": {},
   "source": [
    "## Questions:\n",
    "    \n",
    "- Is this the expected RTT?\n",
    "- Why are some of the tracepath entries missing?\n",
    "- What would happen if you set the VMs default route to the FABnet gateway? "
   ]
  },
  {
   "cell_type": "markdown",
   "metadata": {},
   "source": [
    "## Clean up for the next Exercise\n",
    "\n",
    "Remove the routes you added to your VMs before moving on to the next level."
   ]
  },
  {
   "cell_type": "code",
   "execution_count": null,
   "metadata": {},
   "outputs": [],
   "source": [
    "try:    \n",
    "    print(f\"Clean up node1\")\n",
    "    node1 = slice.get_node(name=node1_name)        \n",
    "    node1_iface = node1.get_interface(network_name=network1_name)  \n",
    "    \n",
    "    print(f\"Removing route, subnet: {network2_subnet}, gateway: {network1_gateway}\") \n",
    "    node1.ip_route_del(subnet=network2_subnet, gateway=network1_gateway)\n",
    "    \n",
    "    print (f\"{node1.get_name()} Routes:\")\n",
    "    stdout, stderr = node1.execute(f'ip route list')\n",
    "    \n",
    "except Exception as e:\n",
    "    print(f\"Exception: {e}\")\n",
    "    \n",
    "try:    \n",
    "    print(f\"Clean up node2\")\n",
    "    node2 = slice.get_node(name=node2_name)        \n",
    "    node2_iface = node2.get_interface(network_name=network2_name)  \n",
    "    \n",
    "    print(f\"Removing route, subnet: {network1_subnet}, gateway: {network2_gateway}\") \n",
    "    node2.ip_route_del(subnet=network1_subnet, gateway=network2_gateway)\n",
    "    \n",
    "    print (f\"{node2.get_name()} Routes:\")\n",
    "    stdout, stderr = node2.execute(f'ip route list')\n",
    "    \n",
    "except Exception as e:\n",
    "    print(f\"Exception: {e}\")"
   ]
  },
  {
   "cell_type": "markdown",
   "metadata": {},
   "source": [
    "# Exercise 2 (Intermediate): Enable Connections to your Neighbor's Nodes\n",
    "\n",
    "Like the public Internet, the FABnet routers forward traffic on behalf of all FABRIC slices.  In the previous exercise, you configured your VMs with routes such that only traffic destined to subnets within your slice are routed to FABnet.  For many experiments, only setting routes to/from your slice is adequate.  However, you can also use FABnet to send traffic to/from other slices.  Communication between slices using FABnet can be accomplished by including additional routes in your VMs. In this exercise you will work with a partner and send traffic to/from each other's VMs.\n",
    "\n",
    "The easiest way to set up routes between two slices is to set one route that matches all possible subnets on FABnet.  In FABnetv4, all subnets issued to users come from `10.128.0.0/10`.  In order to send traffic between your VMs and your partner's VMs, you both can set routes in your VMs to `10.128.0.0/10` via the gateway assigned to your respective networks.\n",
    "\n",
    "<img src=\"./figs/fabnet_route_all.png\" width=\"80%\"><br>\n",
    "\n",
    "\n",
    "## Set the FABnet Subnet\n",
    "\n",
    "\n"
   ]
  },
  {
   "cell_type": "code",
   "execution_count": null,
   "metadata": {},
   "outputs": [],
   "source": [
    "fabnetv4_subnet = IPv4Network('10.128.0.0/10')"
   ]
  },
  {
   "cell_type": "markdown",
   "metadata": {},
   "source": [
    "## Add a route in Node1 to all of FABnet subnet via the Gateway"
   ]
  },
  {
   "cell_type": "code",
   "execution_count": null,
   "metadata": {},
   "outputs": [],
   "source": [
    "try:    \n",
    "    node1 = slice.get_node(name=node1_name)        \n",
    "    node1_iface = node1.get_interface(network_name=network1_name)  \n",
    "     \n",
    "    print(f\"Adding route, subnet: {fabnetv4_subnet}, gateway: {network1_gateway}\") \n",
    "    node1.ip_route_add(subnet=fabnetv4_subnet, gateway=network1_gateway)\n",
    "\n",
    "    print (f\"{node1.get_name()} Routes:\")\n",
    "    stdout, stderr = node1.execute(f'ip route list')\n",
    "except Exception as e:\n",
    "    print(f\"Exception: {e}\")"
   ]
  },
  {
   "cell_type": "markdown",
   "metadata": {},
   "source": [
    "## Add a route in Node2 to all of FABnet subnet via the Gateway"
   ]
  },
  {
   "cell_type": "code",
   "execution_count": null,
   "metadata": {},
   "outputs": [],
   "source": [
    "try:    \n",
    "    node2 = slice.get_node(name=node2_name)        \n",
    "    node2_iface = node2.get_interface(network_name=network2_name)  \n",
    "        \n",
    "    print(f\"Adding route, subnet: {fabnetv4_subnet}, gateway: {network2_gateway}\") \n",
    "    node2.ip_route_add(subnet=fabnetv4_subnet, gateway=network2_gateway)\n",
    "    \n",
    "    print (f\"{node2.get_name()} Routes:\")\n",
    "    stdout, stderr = node2.execute(f'ip route list')\n",
    "except Exception as e:\n",
    "    print(f\"Exception: {e}\")"
   ]
  },
  {
   "cell_type": "markdown",
   "metadata": {},
   "source": [
    "## Test the route between your VMs"
   ]
  },
  {
   "cell_type": "code",
   "execution_count": null,
   "metadata": {},
   "outputs": [],
   "source": [
    "try:\n",
    "    node1 = slice.get_node(name=node1_name)        \n",
    "\n",
    "    stdout, stderr = node1.execute(f'ping -c 5 {node2_ip_addr}')\n",
    "    stdout, stderr = node1.execute(f'tracepath {node2_ip_addr}')\n",
    "except Exception as e:\n",
    "    print(f\"Exception: {e}\")"
   ]
  },
  {
   "cell_type": "markdown",
   "metadata": {},
   "source": [
    "## Test the route between your VMs and your Partner's VMS\n",
    "\n",
    "Say \"Hi\" to your neighbor and exchange the IP addresses that you have each assigned to your respective VMs.  \n",
    "\n",
    "Set the `partner_vm_ip` in the following cell to the IP address of your partner's VM. Test the connection with `ping` and `tracepath`.\n"
   ]
  },
  {
   "cell_type": "code",
   "execution_count": null,
   "metadata": {},
   "outputs": [],
   "source": [
    "try:\n",
    "    partner_vm_ip = '<PARTNER_VM_IP>'\n",
    "    \n",
    "    node1 = slice.get_node(name=node1_name)        \n",
    "\n",
    "    stdout, stderr = node1.execute(f'ping -c 5 {partner_vm_ip}')\n",
    "    stdout, stderr = node1.execute(f'tracepath {partner_vm_ip}')\n",
    "except Exception as e:\n",
    "    print(f\"Exception: {e}\")"
   ]
  },
  {
   "cell_type": "markdown",
   "metadata": {},
   "source": [
    "## Questions:\n",
    "    \n",
    "- What could you use this capability for?\n",
    "- Try providing a service to your partner's VM from your own."
   ]
  },
  {
   "cell_type": "markdown",
   "metadata": {},
   "source": [
    "## Clean up for the next Exercise \n",
    "\n",
    "Remove the routes you added to your VMs before moving on to the next level."
   ]
  },
  {
   "cell_type": "code",
   "execution_count": null,
   "metadata": {},
   "outputs": [],
   "source": [
    "try:    \n",
    "    print(f\"Clean up node1\")\n",
    "    node1 = slice.get_node(name=node1_name)        \n",
    "    node1_iface = node1.get_interface(network_name=network1_name)  \n",
    "    \n",
    "    print(f\"Removing route, subnet: {fabnetv4_subnet}, gateway: {network1_gateway}\") \n",
    "    node1.ip_route_del(subnet=fabnetv4_subnet, gateway=network1_gateway)\n",
    "    \n",
    "    print (f\"{node1.get_name()} Routes:\")\n",
    "    stdout, stderr = node1.execute(f'ip route list')\n",
    "    \n",
    "except Exception as e:\n",
    "    print(f\"Exception: {e}\")\n",
    "    \n",
    "try:    \n",
    "    print(f\"Clean up node2\")\n",
    "    node2 = slice.get_node(name=node2_name)        \n",
    "    node2_iface = node2.get_interface(network_name=network2_name)  \n",
    "    \n",
    "    print(f\"Removing route, subnet: {fabnetv4_subnet}, gateway: {network2_gateway}\") \n",
    "    node2.ip_route_del(subnet=fabnetv4_subnet, gateway=network1_gateway)\n",
    "    \n",
    "    print (f\"{node2.get_name()} Routes:\")\n",
    "    stdout, stderr = node2.execute(f'ip route list')\n",
    "    \n",
    "except Exception as e:\n",
    "    print(f\"Exception: {e}\")"
   ]
  },
  {
   "cell_type": "markdown",
   "metadata": {},
   "source": [
    "# Exercise 3 (Advanced): Use Specific Routes to your Neighbor's Nodes\n",
    "\n",
    "Although it is easier to set a general route to all possible FABnet subnets, doing so enables any FABRIC VM to connect to your VM. Often you will want to prevent most other FABRIC slices from accessing your VMs.  \n",
    "\n",
    "In this exercise, use the `ip_route_del` and `ip_route_add` method that you have learned about to selectively add routes to your VMs such that only other specific subnets can access your VMs.  \n",
    "\n",
    "Try the following:\n",
    "\n",
    "- Allow connection to multiple partners without allowing access to all other slices.\n",
    "- Allow connection to your partner from some of your VMs but not all of them.\n",
    "- Allow connections from some of your partner's VMs but not all of them.\n",
    "\n",
    "<img src=\"./figs/fabnet_specific_routes.png\" width=\"80%\"><br>\n",
    "\n",
    "\n",
    "\n"
   ]
  },
  {
   "cell_type": "code",
   "execution_count": null,
   "metadata": {},
   "outputs": [],
   "source": [
    "partner_vm_ip = '1.2.3.4'\n",
    "partner_subnet = IPv4Network('1.2.3.0/24')"
   ]
  },
  {
   "cell_type": "code",
   "execution_count": null,
   "metadata": {},
   "outputs": [],
   "source": [
    "try:\n",
    "    node1 = slice.get_node(name=node1_name)        \n",
    "    node1_iface = node1.get_interface(network_name=network1_name)  \n",
    "    \n",
    "    print(f\"Adding route, subnet: {partner_subnet}, gateway: {network1_gateway}\") \n",
    "    node1.ip_route_add(subnet=partner_subnet, gateway=network1_gateway)\n",
    "    \n",
    "    print (f\"{node1.get_name()} Routes:\")\n",
    "    stdout, stderr = node1.execute(f'ip route list')\n",
    "except Exception as e:\n",
    "    print(f\"Exception: {e}\")"
   ]
  },
  {
   "cell_type": "markdown",
   "metadata": {},
   "source": [
    "## Test the routes you have configured\n",
    "\n",
    "Try to ping other nodes owned by your partner.  Try to set and reset the routes to control which other users can access your VMs.\n"
   ]
  },
  {
   "cell_type": "code",
   "execution_count": null,
   "metadata": {},
   "outputs": [],
   "source": [
    "try:\n",
    "    partner_vm_ip = '<PARTNER_VM_IP>'\n",
    "    \n",
    "    node1 = slice.get_node(name=node1_name)        \n",
    "\n",
    "    stdout, stderr = node1.execute(f'ping -c 5 {partner_vm_ip}')\n",
    "    stdout, stderr = node1.execute(f'tracepath {partner_vm_ip}')\n",
    "except Exception as e:\n",
    "    print(f\"Exception: {e}\")"
   ]
  },
  {
   "cell_type": "markdown",
   "metadata": {},
   "source": [
    "# Delete the Slice\n",
    "\n",
    "Please delete your slice when you are done with your experiment."
   ]
  },
  {
   "cell_type": "code",
   "execution_count": null,
   "metadata": {},
   "outputs": [],
   "source": [
    "try:\n",
    "    slice = fablib.get_slice(name=slice_name)\n",
    "    slice.delete()\n",
    "except Exception as e:\n",
    "    print(f\"Exception: {e}\")"
   ]
  },
  {
   "cell_type": "code",
   "execution_count": null,
   "metadata": {},
   "outputs": [],
   "source": []
  }
 ],
 "metadata": {
  "kernelspec": {
   "display_name": "Python 3 (ipykernel)",
   "language": "python",
   "name": "python3"
  },
  "language_info": {
   "codemirror_mode": {
    "name": "ipython",
    "version": 3
   },
   "file_extension": ".py",
   "mimetype": "text/x-python",
   "name": "python",
   "nbconvert_exporter": "python",
   "pygments_lexer": "ipython3",
   "version": "3.9.7"
  }
 },
 "nbformat": 4,
 "nbformat_minor": 4
}
