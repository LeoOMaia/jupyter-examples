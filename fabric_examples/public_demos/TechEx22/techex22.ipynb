{
 "cells": [
  {
   "cell_type": "markdown",
   "id": "0c2da6f1",
   "metadata": {},
   "source": [
    "# TechEx22 Tutorial\n",
    "\n",
    "- [Presentation Slides](https://docs.google.com/presentation/d/1TfQUumKmAwE0vJTAeYM4dKLWVwrFMIa3uvvotCZ3pvw/edit?usp=sharing): Slide from the presentation\n",
    "- [Tutorial Notebook](./TechEX22_Creating_FABnet_Networks/Tutorial_Creating_FABnet_Networks.ipynb): Jupyter Notebook with FABnet networking tutorial.\n",
    "\n",
    "\n"
   ]
  },
  {
   "cell_type": "code",
   "execution_count": null,
   "id": "ec7f0b13-ef5c-4359-bebb-6877e4c2ee48",
   "metadata": {},
   "outputs": [],
   "source": []
  }
 ],
 "metadata": {
  "kernelspec": {
   "display_name": "Bash",
   "language": "bash",
   "name": "bash"
  },
  "language_info": {
   "codemirror_mode": "shell",
   "file_extension": ".sh",
   "mimetype": "text/x-sh",
   "name": "bash"
  }
 },
 "nbformat": 4,
 "nbformat_minor": 5
}
