{
 "cells": [
  {
   "cell_type": "markdown",
   "id": "0c2da6f1",
   "metadata": {},
   "source": [
    "# FABRIC Demos and Tutorials\n",
    "\n",
    "These links are provided for participants of live demos and tutorials. \n",
    "\n",
    "Note: Although all of these examples are useful references for creating your own experiments, many of these presentations were created for specific live events and may not be updated to work with current FABRIC software/infrastructure.   In addition, many of these examples are designed to work for a specific project or user.  You will likely need to modify the demos for your specific situation. \n"
   ]
  },
  {
   "cell_type": "markdown",
   "id": "19651fde-76e0-4e82-ada1-29e3b8d0541a",
   "metadata": {},
   "source": [
    "## KNIT 7 (Sept 2023)\n",
    "\n",
    "- Tutorial 1: [Precision Timing](./KNIT7/Tutorial1_Precision_Time_Measurements_in_FABRIC/start_here.ipynb)\n",
    "- Tutorial 2: [Exporting User Measurements](./KNIT7/Tutorial2_Exporting_User_Measurements_in_FABRIC/start_here.ipynb)\n",
    "- Tutorial 3: One Way Latency Measurements\n",
    "    - Part 1 \n",
    "        - [Preparation](./KNIT7/one_way_latency_measurements/knit7_owl_demo_prep1.ipynb)\n",
    "        - [One-way Latency Demo](./KNIT7/one_way_latency_measurements/knit7_owl_demo1.ipynb)\n",
    "    - Part 2 \n",
    "        - [Preparation](./KNIT7/one_way_latency_measurements/knit7_owl_demo_prep2.ipynb)\n",
    "        - [Live Visualization with InfluxDB](./KNIT7/one_way_latency_measurements/knit7_owl_demo2.ipynb)\n",
    "\n",
    "## KNIT5 (Sept 2022)\n",
    "\n",
    "- [Demos](./KNIT5/demos_index.ipynb): Demos presented at KNIT5\n",
    "- [Tutorial](./KNIT5/tutorials_index.ipynb): Tutorials presented at KNIT5\n",
    "\n",
    "## SC22 (Nov 2022)\n",
    "\n",
    "- [RENCI Booth Demos](./SC22/sc22_demos.ipynb): Demos presented in the RENCI booth at SC22\n",
    "\n",
    "## Internet2 TechEx22 (Dec 2022)\n",
    "\n",
    "- [Tutorial](./TechEx22/techex22.ipynb): Tutorial presented at TechEx22\n",
    "\n",
    "\n",
    "\n",
    "\n",
    "\n",
    "\n",
    "\n"
   ]
  },
  {
   "cell_type": "code",
   "execution_count": null,
   "id": "76146b01",
   "metadata": {},
   "outputs": [],
   "source": []
  }
 ],
 "metadata": {
  "kernelspec": {
   "display_name": "Bash",
   "language": "bash",
   "name": "bash"
  },
  "language_info": {
   "codemirror_mode": "shell",
   "file_extension": ".sh",
   "mimetype": "text/x-sh",
   "name": "bash"
  }
 },
 "nbformat": 4,
 "nbformat_minor": 5
}
