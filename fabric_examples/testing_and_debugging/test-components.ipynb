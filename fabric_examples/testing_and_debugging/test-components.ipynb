{
 "cells": [
  {
   "cell_type": "markdown",
   "metadata": {
    "tags": []
   },
   "source": [
    "# Hello, FABRIC: Create your first FABRIC slice\n",
    "\n",
    "## Configure the Environment\n",
    "\n",
    "Set the environment variable that will be used by this notebook. If you are using the FABRIC, JupyterHub some of the environment will be automatically configured for you.  You will only need to set your bastion username, upload your bastion private key, and set the path to where you put your bastion private key. Your bastion username and private key should already be in your possession.  If you do not have a bastion username and private key, please contact the FABRIC admins using the [FABRIC User Forum](https://learn.fabric-testbed.net/forums/) \n",
    "\n",
    "If you are using the FABRIC API outside of the JupyterHub you will need to configure all of the environment variables. Defaults below will be correct in many situations but you will need to confirm your configuration.  If you have questions about this configuration, please contact the FABRIC admins using the [FABRIC User Forum](https://learn.fabric-testbed.net/forums/) \n",
    "\n",
    "More information about accessing your experiments through the FABRIC bastion hosts can be found [here](https://learn.fabric-testbed.net/knowledge-base/logging-into-fabric-vms/)."
   ]
  },
  {
   "cell_type": "code",
   "execution_count": null,
   "metadata": {},
   "outputs": [],
   "source": [
    "import os\n",
    "\n",
    "# If you are using the FABRIC JupyterHub, the following three evnrionment vars\n",
    "# were automatically provided when you logged in.\n",
    "#os.environ['FABRIC_CREDMGR_HOST']='cm.fabric-testbed.net'\n",
    "#os.environ['FABRIC_ORCHESTRATOR_HOST']='orchestrator.fabric-testbed.net'\n",
    "#os.environ['FABRIC_TOKEN_LOCATION']=os.environ['HOME']+'/work/fabric_token.json'\n",
    "\n",
    "# Bastion IPs\n",
    "os.environ['FABRIC_BASTION_HOST'] = 'bastion-1.fabric-testbed.net'\n",
    "\n",
    "# Set your Bastion username and private key\n",
    "os.environ['FABRIC_BASTION_USERNAME']=<INSERT_YOUR_FABRIC_USERNAME>\n",
    "os.environ['FABRIC_BASTION_KEY_LOCATION']=os.environ['HOME']+'/work/.ssh/id_rsa_fabric'\n",
    "\n",
    "# Set the keypair FABRIC will install in your slice. \n",
    "os.environ['FABRIC_SLICE_PRIVATE_KEY_FILE']=os.environ['HOME']+'/.ssh/id_rsa'\n",
    "os.environ['FABRIC_SLICE_PUBLIC_KEY_FILE']=os.environ['HOME']+'/.ssh/id_rsa.pub'\n",
    "\n",
    "# If your slice private key uses a passphrase, set the passphrase\n",
    "#from getpass import getpass\n",
    "#print('Please input private key passphrase. Press enter for no passphrase.')\n",
    "#os.environ['FABRIC_SLICE_PRIVATE_KEY_PASSPHRASE']=getpass()"
   ]
  },
  {
   "cell_type": "markdown",
   "metadata": {
    "tags": []
   },
   "source": [
    "## Setup the Experiment\n",
    "\n",
    "#### Import the FABRIC API"
   ]
  },
  {
   "cell_type": "code",
   "execution_count": null,
   "metadata": {
    "tags": []
   },
   "outputs": [],
   "source": [
    "import json\n",
    "import traceback\n",
    "from fabrictestbed_extensions.fablib.fablib import fablib"
   ]
  },
  {
   "cell_type": "markdown",
   "metadata": {},
   "source": [
    "#### Create the FABRIC Proxies\n",
    "\n",
    "The FABRIC API is used via proxy objects that manage connections to the control framework.  "
   ]
  },
  {
   "cell_type": "markdown",
   "metadata": {
    "tags": []
   },
   "source": [
    "#### (Optional) Query Available Resources\n",
    "\n",
    "This optional command queries the FABRIC services to find the available resources. It may be useful for finding a site with available capacity."
   ]
  },
  {
   "cell_type": "code",
   "execution_count": null,
   "metadata": {},
   "outputs": [],
   "source": [
    "try:\n",
    "    available_resources = fablib.get_available_resources()\n",
    "    print(f\"Available Resources: {available_resources}\")\n",
    "    available_resources.draw()\n",
    "except Exception as e:\n",
    "    print(f\"Error: {e}\")\n",
    "    traceback.print_exc()"
   ]
  },
  {
   "cell_type": "markdown",
   "metadata": {
    "tags": []
   },
   "source": [
    "## Create the Experiment Slice\n",
    "\n",
    "Load aggragate ads."
   ]
  },
  {
   "cell_type": "code",
   "execution_count": null,
   "metadata": {},
   "outputs": [],
   "source": [
    "import glob\n",
    "import json\n",
    "\n",
    "#aggregate_json_dir=os.environ['HOME']+\"/work/git/jupyter-examples/fabric_examples/testing_and_debugging/aggregates/\"\n",
    "aggregate_json_dir=\"./aggregates/\"\n",
    "\n",
    "aggregates = {}\n",
    "aggregate_files = glob.glob(aggregate_json_dir+\"*.json\")\n",
    "for file_name in aggregate_files:\n",
    "    print(f\"Reading {file_name}\")\n",
    "    site_name = file_name.replace(aggregate_json_dir,\"\",1).split(\".\")[0]\n",
    "    #print(f\"{site_name}\")\n",
    "    with open(file_name, 'r') as infile:\n",
    "        site_info = json.load(infile)\n",
    "    #print(f\"{site_json}\")\n",
    "    aggregates[site_name] = site_info"
   ]
  },
  {
   "cell_type": "markdown",
   "metadata": {
    "tags": []
   },
   "source": [
    "#### Configure the Experiment Parameters\n",
    "\n"
   ]
  },
  {
   "cell_type": "code",
   "execution_count": null,
   "metadata": {},
   "outputs": [],
   "source": [
    "slice_name_base = 'MySlice_Components_Test'\n",
    "#test_sites = [ 'UKY', 'RENC', 'LBNL' ]\n",
    "#test_sites = [ 'TACC', 'MAX', 'UTAH', 'NCSA', 'MICH', 'WASH', 'DALL', 'SALT']\n",
    "#test_sites = [ 'TACC', 'UTAH', 'NCSA', 'MICH', 'WASH', 'DALL', 'SALT' ]\n",
    "test_sites = [ 'MAX' ]\n",
    "\n",
    "node_name_base = 'node'\n",
    "#image = 'default_centos_8'\n",
    "image = 'default_ubuntu_20'\n",
    "#image = 'default_rocky_8'\n",
    "cores = 2\n",
    "ram = 8\n",
    "disk = 10\n",
    "\n",
    "node_count=5\n",
    "\n"
   ]
  },
  {
   "cell_type": "code",
   "execution_count": null,
   "metadata": {},
   "outputs": [],
   "source": [
    "#tests = {}\n",
    "#for site in sites:\n",
    "#    workers = []\n",
    "#    for worker_num in range(1,4):\n",
    "#        workers.append(f\"{site.lower()}-w{worker_num}.fabric-testbed.net\")\n",
    "#    tests[site] = workers\n",
    "\n",
    "#print(f\"{tests}\")\n",
    "\n",
    "\n",
    "for site in test_sites:\n",
    "    print(f\"{site}\")\n",
    "    site_info = aggregates[site]\n",
    "    for node_info in site_info['Nodes']:\n",
    "        print(f\"{node_info['Name']}\")\n",
    "        skipped_first_cx6 = False\n",
    "        for component_info in node_info['Components']:\n",
    "            if not skipped_first_cx6 and component_info['Model'] == 'ConnectX-6':\n",
    "                skipped_first_cx6 = True\n",
    "                continue\n",
    "                                                    \n",
    "            print(f\"{component_info['Type']} : {component_info['Model'].replace(' ','').replace('/','-')}\")\n"
   ]
  },
  {
   "cell_type": "markdown",
   "metadata": {
    "tags": []
   },
   "source": [
    "### Create Slice\n",
    "\n",
    "<img src=\"./figs/SingleNode.png\" width=\"20%\"><br>\n",
    "\n",
    "Create a single node with basic compute capabilities. The submit function will block until the node is ready and will display a progress bar.\n"
   ]
  },
  {
   "cell_type": "code",
   "execution_count": null,
   "metadata": {},
   "outputs": [],
   "source": [
    "slice_name=f\"{slice_name_base}\"\n",
    "print(f\"Creating slice {slice_name}\")\n",
    "\n",
    "try:\n",
    "    slice = fablib.new_slice(slice_name)\n",
    "    for site in test_sites:\n",
    "        print(f\"{site}\")\n",
    "        site_info = aggregates[site]\n",
    "        for node_info in site_info['Nodes']:\n",
    "            print(f\"{node_info['Name']}\")\n",
    "            worker = node_info['Name']\n",
    "            worker_short_name = worker.split(\".\")[0]\n",
    "            print(f\"slice name: {worker}\")\n",
    "\n",
    "            skipped_first_cx6 = False\n",
    "            cx6_count = 0\n",
    "            cx5_count = 0\n",
    "            node_num = 0\n",
    "            for component_info in node_info['Components']:\n",
    "                if not skipped_first_cx6 and component_info['Model'] == 'ConnectX-6':\n",
    "                    skipped_first_cx6 = True\n",
    "                    continue\n",
    "\n",
    "                if cx6_count == 0 and component_info['Model'] == 'ConnectX-6':\n",
    "                    cx6_count += 1\n",
    "                    continue\n",
    "            \n",
    "                if cx5_count == 0 and component_info['Model'] == 'ConnectX-5':\n",
    "                    cx5_count += 1\n",
    "                    continue\n",
    "                    \n",
    "                node_num += 1\n",
    "\n",
    "                node_name = f\"{node_name_base}_{worker_short_name}_{node_num}_{component_info['Model'].replace(' ','').replace('/','-')}\"\n",
    "                # Add node\n",
    "                node = slice.add_node(name=node_name, site=site)\n",
    "                node.set_capacities(cores=cores, ram=ram, disk=disk)\n",
    "                node.set_image(image)\n",
    "                node.set_host(worker)\n",
    "\n",
    "\n",
    "                # NIC_Basic \n",
    "                # NIC_ConnectX_6\n",
    "                # NIC_ConnectX_5\n",
    "                # NVME_P4510\n",
    "                # GPU_TeslaT4\n",
    "                # GPU_RTX6000\n",
    "                if component_info['Type'] == \"EthernetCardPF\" and component_info['Model'] == \"ConnectX-6\":\n",
    "                    fablib_compenent_model = 'NIC_ConnectX_6'\n",
    "                    cx6_count = 0\n",
    "                elif component_info['Type'] == \"EthernetCardPF\" and component_info['Model'] == \"ConnectX-5\":\n",
    "                    fablib_compenent_model = 'NIC_ConnectX_5'\n",
    "                    cx5_count = 0\n",
    "                elif component_info['Type'] == \"NVMe\" and component_info['Model'] == \"P4510\":\n",
    "                    fablib_compenent_model = 'NVME_P4510'\n",
    "                elif component_info['Type'] == \"GPU\" and component_info['Model'] == \"Tesla T4\":\n",
    "                    fablib_compenent_model = 'GPU_TeslaT4'\n",
    "                elif component_info['Type'] == \"GPU\" and component_info['Model'] == \"Quadro RTX 6000/8000\":\n",
    "                    fablib_compenent_model = 'GPU_RTX6000'\n",
    "\n",
    "                node.add_component(model=fablib_compenent_model, name=f\"{node_name}_{fablib_compenent_model}\")\n",
    "\n",
    "    #Submit Slice Request\n",
    "    slice.submit(wait_progress=False)\n",
    "except Exception as e:\n",
    "    print(f\"Slice Failed: {e}\")\n",
    "    traceback.print_exc()\n"
   ]
  },
  {
   "cell_type": "code",
   "execution_count": null,
   "metadata": {},
   "outputs": [],
   "source": [
    "import time\n",
    "from fabrictestbed.slice_manager import SliceManager, Status, SliceState\n",
    "\n",
    "while True:\n",
    "    try:\n",
    "        print(\"Trying ... \",end=\"\")\n",
    "        slices = fablib.get_slices()\n",
    "        #slices = fablib.get_slice_list(excludes=[SliceState.Dead,SliceState.Closing],verbose=False)\n",
    "        #slices = fablib.get_slice_list(excludes=[],verbose=False)\n",
    "        for slice in slices:\n",
    "            #print(f\"{slice}\")\n",
    "            print(f\"{slice.get_name()}, {slice.get_state()}, {slice.get_slice_id()}\")\n",
    "            #slice.delete()\n",
    "        #break\n",
    "    except Exception as e:\n",
    "        print(f\"Get Slices Fail: {e}\")\n",
    "        #time.sleep(30)\n",
    "        #traceback.print_exc()\n",
    "        #print(f\"Waking\")\n",
    "    print(\"sleeping\")\n",
    "    time.sleep(30)\n",
    "print(f\"done!\")\n"
   ]
  },
  {
   "cell_type": "code",
   "execution_count": null,
   "metadata": {},
   "outputs": [],
   "source": [
    "#closing_slices = slices\n",
    "#all_slices = slices\n",
    "print(f\"{len(slices)}\")\n",
    "for slice in all_slices:\n",
    "    print(f\"{slice.slice_state}\")\n",
    "    print(f\"{slice}\")"
   ]
  },
  {
   "cell_type": "code",
   "execution_count": null,
   "metadata": {
    "tags": []
   },
   "outputs": [],
   "source": [
    "import time\n",
    "\n",
    "slice_name=f\"{slice_name_base}\"\n",
    "            \n",
    "try:\n",
    "    print(f\"Waiting for slice {slice_name} \")\n",
    "\n",
    "    #Get Slice\n",
    "    slice = fablib.get_slice(slice_name)\n",
    "\n",
    "    #Wait for ssh to be active\n",
    "    slice.wait_ssh(progress=True, timeout=600,interval=60)\n",
    "    #time.sleep(30)\n",
    "    \n",
    "    #Run post boo config\n",
    "    slice.post_boot_config(verbose=False)\n",
    "except Exception as e:\n",
    "    print(f\"Slice Failed: {e}\")\n",
    "    traceback.print_exc()"
   ]
  },
  {
   "cell_type": "markdown",
   "metadata": {
    "tags": []
   },
   "source": [
    "### Print the Node's Attributes\n",
    "\n",
    "Each node in the slice has a set of get functions that return the node's attributes."
   ]
  },
  {
   "cell_type": "code",
   "execution_count": null,
   "metadata": {},
   "outputs": [],
   "source": [
    "slice_name=f\"{slice_name_base}\"\n",
    "print(f\"Getting slice {slice_name} \")\n",
    "try: \n",
    "    slice = fablib.get_slice(slice_name)\n",
    " \n",
    "    for node in slice.get_nodes():\n",
    "        print(\"Node:\")\n",
    "        print(f\"   Name              : {node.get_name()}\")\n",
    "        print(f\"   Cores             : {node.get_cores()}\")\n",
    "        print(f\"   RAM               : {node.get_ram()}\")\n",
    "        print(f\"   Disk              : {node.get_disk()}\")\n",
    "        print(f\"   Image             : {node.get_image()}\")\n",
    "        print(f\"   Image Type        : {node.get_image_type()}\")\n",
    "        print(f\"   Host              : {node.get_host()}\")\n",
    "        print(f\"   Site              : {node.get_site()}\")\n",
    "        print(f\"   Management IP     : {node.get_management_ip()}\")\n",
    "        print(f\"   Reservation ID    : {node.get_reservation_id()}\")\n",
    "        print(f\"   Reservation State : {node.get_reservation_state()}\")\n",
    "        print(f\"   SSH Command       : {node.get_ssh_command()}\")\n",
    "        print(f\"   SSH Test Result   : {node.test_ssh()}\")\n",
    "\n",
    "\n",
    "        for component in node.get_components():\n",
    "            print(f\"      Name             : {component.get_name()}\")\n",
    "            print(f\"      Details          : {component.get_details()}\")\n",
    "            print(f\"      Disk (G)         : {component.get_disk()}\")\n",
    "            print(f\"      Units            : {component.get_unit()}\")\n",
    "            print(f\"      PCI Address      : {component.get_pci_addr()}\")\n",
    "            print(f\"      Model            : {component.get_model()}\")\n",
    "            print(f\"      Type             : {component.get_type()}\") \n",
    "        print(f\"   Interfaces        :  \")\n",
    "        for interface in node.get_interfaces():\n",
    "            print(f\"       Name                : {interface.get_name()}\")\n",
    "            print(f\"           Bandwidth           : {interface.get_bandwidth()}\")\n",
    "            print(f\"           VLAN                : {interface.get_vlan()}\")       \n",
    "            print(f\"           OS Interface        : {interface.get_os_interface()}\")       \n",
    "\n",
    "        print()    \n",
    "except Exception as e:\n",
    "    print(f\"Fail: {e}\")"
   ]
  },
  {
   "cell_type": "markdown",
   "metadata": {},
   "source": [
    "### Test SSH"
   ]
  },
  {
   "cell_type": "code",
   "execution_count": null,
   "metadata": {},
   "outputs": [],
   "source": [
    "slice_name=f\"{slice_name_base}\"\n",
    "print(f\"Getting slice {slice_name} \")\n",
    "try: \n",
    "    slice = fablib.get_slice(slice_name)\n",
    "    for node in slice.get_nodes():\n",
    "        print(f\"Node: {node.get_name()}, Host: {node.get_host()}, SSH Test: {node.test_ssh()}\")\n",
    "        \n",
    "except Exception as e:\n",
    "    print(f\"Fail: {e}\")"
   ]
  },
  {
   "cell_type": "markdown",
   "metadata": {
    "tags": []
   },
   "source": [
    "## Accessing the VM\n"
   ]
  },
  {
   "cell_type": "markdown",
   "metadata": {},
   "source": [
    "#### SSH with fablib\n",
    "\n",
    "Most experiments will require automated configuration and execution. You can use the fablib library to execute arbitrary commands on your node. \n",
    "\n",
    "The following code demonstrates how to use fablib to execute a \"Hello, FABRIC\" bash script. The library uses the bastion and VM keys defined at the top of this notebook to jump through the bastion host and execute the script."
   ]
  },
  {
   "cell_type": "code",
   "execution_count": null,
   "metadata": {},
   "outputs": [],
   "source": [
    "slice_name=f\"{slice_name_base}\"\n",
    "print(f\"Getting slice {slice_name} \")\n",
    "try: \n",
    "    slice = fablib.get_slice(slice_name)\n",
    "    for node in slice.get_nodes():\n",
    "        component = node.get_components()[0]\n",
    "        #print(f\"{component.get_type()} - {component.get_model()}\")\n",
    "        if str(component.get_type()) == \"SmartNIC\" and str(component.get_model()) == \"ConnectX-6\":\n",
    "            search_string = \"Mellanox Technologies MT28908 Family [ConnectX-6]\"\n",
    "        elif str(component.get_type()) == \"SmartNIC\" and str(component.get_model()) == \"ConnectX-5\":\n",
    "            search_string = \"Mellanox Technologies MT27800 Family [ConnectX-5]\"\n",
    "        elif str(component.get_type()) == \"NVME\"  and str(component.get_model()) == \"P4510\":\n",
    "            search_string = \"Toshiba Corporation NVMe SSD Controller\"\n",
    "        elif str(component.get_type())== \"GPU\"  and str(component.get_model()) == \"Tesla T4\":\n",
    "            search_string = \"NVIDIA Corporation TU104GL [Tesla T4]\"\n",
    "        elif str(component.get_type()) == \"GPU\"  and str(component.get_model()) == \"RTX6000\":\n",
    "            search_string = \"NVIDIA Corporation TU102GL [Quadro RTX 6000/8000]\"\n",
    "        else:\n",
    "            search_string = \"None\"\n",
    "\n",
    "        #print(f\"search_string: {search_string}\")\n",
    "        stdout, stderr = node.execute(f'lspci')\n",
    "        #print(f\"stdout: {stdout}\")\n",
    "        if search_string in stdout:\n",
    "            print(f\"Node: {node.get_name()}: {component.get_type()} - {component.get_model()} : Success\")\n",
    "        else:\n",
    "            print(f\"Node: {node.get_name()}: {component.get_type()} - {component.get_model()} : Fail\")\n",
    "            \n",
    "        #print(stdout)\n",
    "except Exception as e:\n",
    "    print(f\"Fail: {e}\")"
   ]
  },
  {
   "cell_type": "markdown",
   "metadata": {
    "tags": []
   },
   "source": [
    "## Delete Slice\n",
    "\n",
    "Please delete your slicd when you are done with your experiment."
   ]
  },
  {
   "cell_type": "code",
   "execution_count": null,
   "metadata": {},
   "outputs": [],
   "source": [
    "slice_name=f\"{slice_name_base}\"\n",
    "print(f\"Getting slice {slice_name} \")\n",
    "try: \n",
    "    slice = fablib.get_slice(slice_name)\n",
    "    slice.delete()\n",
    "except Exception as e:\n",
    "    print(f\"Fail: {e}\")"
   ]
  },
  {
   "cell_type": "code",
   "execution_count": null,
   "metadata": {},
   "outputs": [],
   "source": []
  },
  {
   "cell_type": "code",
   "execution_count": null,
   "metadata": {},
   "outputs": [],
   "source": []
  }
 ],
 "metadata": {
  "kernelspec": {
   "display_name": "Python 3 (ipykernel)",
   "language": "python",
   "name": "python3"
  },
  "language_info": {
   "codemirror_mode": {
    "name": "ipython",
    "version": 3
   },
   "file_extension": ".py",
   "mimetype": "text/x-python",
   "name": "python",
   "nbconvert_exporter": "python",
   "pygments_lexer": "ipython3",
   "version": "3.9.2"
  }
 },
 "nbformat": 4,
 "nbformat_minor": 4
}
