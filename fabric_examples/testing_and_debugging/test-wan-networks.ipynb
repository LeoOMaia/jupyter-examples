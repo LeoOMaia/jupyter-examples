{
 "cells": [
  {
   "cell_type": "markdown",
   "metadata": {},
   "source": [
    "# This notebook shows how to use Orchestrator APIs for user experiments\n",
    "\n",
    "## Configure the Environment"
   ]
  },
  {
   "cell_type": "code",
   "execution_count": null,
   "metadata": {},
   "outputs": [],
   "source": [
    "import os\n",
    "\n",
    "# If you are using the FABRIC JupyterHub, the following three evnrionment vars\n",
    "# were automatically provided when you logged in.\n",
    "#os.environ['FABRIC_CREDMGR_HOST']='cm.fabric-testbed.net'\n",
    "#os.environ['FABRIC_ORCHESTRATOR_HOST']='orchestrator.fabric-testbed.net'\n",
    "#os.environ['FABRIC_TOKEN_LOCATION']=os.environ['HOME']+'/work/fabric_token.json'\n",
    "\n",
    "# Bastion IPs\n",
    "os.environ['FABRIC_BASTION_HOST'] = 'bastion-1.fabric-testbed.net'\n",
    "\n",
    "# Set your Bastion username and private key\n",
    "os.environ['FABRIC_BASTION_USERNAME']=<INSERT_YOUR_FABRIC_USERNAME>\n",
    "os.environ['FABRIC_BASTION_KEY_LOCATION']=os.environ['HOME']+'/work/.ssh/id_rsa_fabric'\n",
    "\n",
    "# Set the keypair FABRIC will install in your slice. \n",
    "os.environ['FABRIC_SLICE_PRIVATE_KEY_FILE']=os.environ['HOME']+'/.ssh/id_rsa'\n",
    "os.environ['FABRIC_SLICE_PUBLIC_KEY_FILE']=os.environ['HOME']+'/.ssh/id_rsa.pub'\n",
    "\n",
    "# If your slice private key uses a passphrase, set the passphrase\n",
    "#from getpass import getpass\n",
    "#print('Please input private key passphrase. Press enter for no passphrase.')\n",
    "#os.environ['FABRIC_SLICE_PRIVATE_KEY_PASSPHRASE']=getpass()"
   ]
  },
  {
   "cell_type": "markdown",
   "metadata": {},
   "source": [
    "## Setup the Experiment\n",
    "\n",
    "#### Import FABRIC API"
   ]
  },
  {
   "cell_type": "code",
   "execution_count": null,
   "metadata": {},
   "outputs": [],
   "source": [
    "import json\n",
    "import traceback\n",
    "\n",
    "from fabrictestbed_extensions.fablib.fablib import fablib"
   ]
  },
  {
   "cell_type": "markdown",
   "metadata": {
    "tags": []
   },
   "source": [
    "## Create Slice"
   ]
  },
  {
   "cell_type": "markdown",
   "metadata": {
    "tags": []
   },
   "source": [
    "## Configure Slice Parameters\n",
    "\n"
   ]
  },
  {
   "cell_type": "code",
   "execution_count": null,
   "metadata": {},
   "outputs": [],
   "source": [
    "slice_name = 'MySliceL2Net'\n",
    "site1 = 'STAR'\n",
    "site2 = 'DALL'\n",
    "\n",
    "\n",
    "\n",
    "node1_name = 'Node1'\n",
    "node2_name = 'Node2'\n",
    "\n",
    "\n",
    "\n",
    "network_name='net1'\n",
    "\n",
    "node1_nic_name = 'nic1'\n",
    "node2_nic_name = 'nic2'\n",
    "\n",
    "node1_dataplane_ip = '192.168.1.10'\n",
    "node2_dataplane_ip = '192.168.1.12'\n",
    "network_cidr = '24'\n",
    "\n",
    "#image = 'default_ubuntu_20'\n",
    "image = 'default_rocky_8'\n",
    "cores = 8\n",
    "ram = 32\n",
    "disk = 100"
   ]
  },
  {
   "cell_type": "code",
   "execution_count": null,
   "metadata": {},
   "outputs": [],
   "source": [
    " try:\n",
    "    available_resources = fablib.get_available_resources()\n",
    "    print(f\"Available Resources: {available_resources}\")\n",
    "    available_resources.draw()\n",
    "except Exception as e:\n",
    "    print(f\"Error: {e}\")\n",
    "    traceback.print_exc()"
   ]
  },
  {
   "cell_type": "markdown",
   "metadata": {},
   "source": [
    "NIC component models options:\n",
    "- NIC_ Basic \n",
    "- NIC_ConnectX_5 \n",
    "- NIC_ConnectX_6"
   ]
  },
  {
   "cell_type": "code",
   "execution_count": null,
   "metadata": {
    "tags": []
   },
   "outputs": [],
   "source": [
    "try:\n",
    "    #Create Slice\n",
    "    slice = fablib.new_slice(name=slice_name)\n",
    "\n",
    "    # Node1\n",
    "    node1 = slice.add_node(name=node1_name, site=site1)\n",
    "    node1.set_capacities(cores=cores, ram=ram, disk=disk)\n",
    "    node1.set_image(image)\n",
    "    iface1 = node1.add_component(model='NIC_ConnectX_6', name=node1_nic_name).get_interfaces()[0]\n",
    "    iface1.set_vlan(vlan='1000')\n",
    "    \n",
    "    # Node2\n",
    "    node2 = slice.add_node(name=node2_name, site=site2)\n",
    "    node2.set_capacities(cores=cores, ram=ram, disk=disk)\n",
    "    node2.set_image(image)\n",
    "    iface2 = node2.add_component(model='NIC_ConnectX_6', name=node2_nic_name).get_interfaces()[0]\n",
    "    iface2.set_vlan(vlan='1000')\n",
    "    \n",
    "    # Network\n",
    "    net1 = slice.add_l2network(name=network_name, interfaces=[iface1, iface2])\n",
    "\n",
    "    #Submit Slice Request\n",
    "    slice.submit(wait_progress=False)\n",
    "except Exception as e:\n",
    "    print(f\"Slice Fail: {e}\")\n",
    "    traceback.print_exc()"
   ]
  },
  {
   "cell_type": "code",
   "execution_count": null,
   "metadata": {},
   "outputs": [],
   "source": [
    "import time\n",
    "\n",
    "            \n",
    "try:\n",
    "    print(f\"Waiting for slice {slice_name} \")\n",
    "\n",
    "    #Get Slice\n",
    "    slice = fablib.get_slice(slice_name)\n",
    "\n",
    "    #Wait for ssh to be active\n",
    "    slice.wait_ssh(progress=True, timeout=600,interval=60)\n",
    "    #time.sleep(30)\n",
    "    \n",
    "    #Run post boo config\n",
    "    slice.post_boot_config(verbose=True)\n",
    "except Exception as e:\n",
    "    print(f\"Slice Failed: {e}\")\n",
    "    traceback.print_exc()"
   ]
  },
  {
   "cell_type": "markdown",
   "metadata": {
    "tags": []
   },
   "source": [
    "## Get the Slice"
   ]
  },
  {
   "cell_type": "code",
   "execution_count": null,
   "metadata": {},
   "outputs": [],
   "source": [
    "try:\n",
    "    slice = fablib.get_slice(name=slice_name)\n",
    "    for node in slice.get_nodes():\n",
    "        print(\"Node:\")\n",
    "        print(f\"   Name              : {node.get_name()}\")\n",
    "        print(f\"   Cores             : {node.get_cores()}\")\n",
    "        print(f\"   RAM               : {node.get_ram()}\")\n",
    "        print(f\"   Disk              : {node.get_disk()}\")\n",
    "        print(f\"   Image             : {node.get_image()}\")\n",
    "        print(f\"   Image Type        : {node.get_image_type()}\")\n",
    "        print(f\"   Host              : {node.get_host()}\")\n",
    "        print(f\"   Site              : {node.get_site()}\")\n",
    "        print(f\"   Management IP     : {node.get_management_ip()}\")\n",
    "        print(f\"   Reservation ID    : {node.get_reservation_id()}\")\n",
    "        print(f\"   Reservation State : {node.get_reservation_state()}\")\n",
    "        print(f\"   SSH Command       : {node.get_ssh_command()}\")\n",
    "        print(f\"   Components        :  \")\n",
    "        for component in node.get_components():\n",
    "            print(f\"      Name             : {component.get_name()}\")\n",
    "            print(f\"      Details          : {component.get_details()}\")\n",
    "            print(f\"      Disk (G)         : {component.get_disk()}\")\n",
    "            print(f\"      Units            : {component.get_unit()}\")\n",
    "            print(f\"      PCI Address      : {component.get_pci_addr()}\")\n",
    "            print(f\"      Model            : {component.get_model()}\")\n",
    "            print(f\"      Type             : {component.get_type()}\") \n",
    "        print(f\"   Interfaces        :  \")\n",
    "        for interface in node.get_interfaces():\n",
    "            print(f\"       Name                : {interface.get_name()}\")\n",
    "            print(f\"           Bandwidth           : {interface.get_bandwidth()}\")\n",
    "            print(f\"           VLAN                : {interface.get_vlan()}\")      \n",
    "            print(f\"           OS Interface        : {interface.get_os_interface()}\")       \n",
    "    \n",
    "except Exception as e:\n",
    "    print(f\"Fail: {e}\")\n",
    "    traceback.print_exc()"
   ]
  },
  {
   "cell_type": "markdown",
   "metadata": {
    "tags": []
   },
   "source": [
    "## Get the Nodes\n",
    "\n",
    "Retrieve the node information and save the management IP address.\n"
   ]
  },
  {
   "cell_type": "markdown",
   "metadata": {},
   "source": [
    "### Configure Node1\n",
    "\n",
    "Use ssh to configure eth1 on  node 1.  \n",
    "\n",
    "```\n",
    "ip link add link eth1 name eth1.200 type vlan id 200\n",
    "ip link set dev eth1.200 up\n",
    "ip addr add 192.168.1.10/24 dev eth1.200\n",
    "\n",
    "```"
   ]
  },
  {
   "cell_type": "code",
   "execution_count": null,
   "metadata": {},
   "outputs": [],
   "source": [
    "try:\n",
    "    slice = fablib.get_slice(name=slice_name)\n",
    "    \n",
    "    node1 = slice.get_node(name=node1_name)        \n",
    "    node1_iface = node1.get_interface(network_name=network_name)  \n",
    "    node1_iface.set_ip(ip=node1_dataplane_ip, cidr=network_cidr, mtu=\"9000\")\n",
    "    \n",
    "    stdout, stderr = node1.execute(f'ip addr list')\n",
    "    print (stdout)\n",
    "except Exception as e:\n",
    "    print(f\"Error: {e}\")\n",
    "    traceback.print_exc() "
   ]
  },
  {
   "cell_type": "markdown",
   "metadata": {},
   "source": [
    "### Configure Node2\n",
    "\n",
    "Use ssh to configure eth1 on each Node 2.  \n",
    "\n",
    "```\n",
    "ip link add link eth1 name eth1.200 type vlan id 200\n",
    "ip link set dev eth1.200 up\n",
    "ip addr add 192.168.1.11/24 dev eth1.200\n",
    "```"
   ]
  },
  {
   "cell_type": "code",
   "execution_count": null,
   "metadata": {},
   "outputs": [],
   "source": [
    "try:\n",
    "    slice = fablib.get_slice(name=slice_name)\n",
    "    \n",
    "    node2 = slice.get_node(name=node2_name)        \n",
    "    node2_iface = node2.get_interface(network_name=network_name)  \n",
    "    node2_iface.set_ip(ip=node2_dataplane_ip, cidr=network_cidr, mtu='9000')\n",
    "    \n",
    "    stdout, stderr = node2.execute(f'ip addr list')\n",
    "    print (stdout)\n",
    "except Exception as e:\n",
    "    print(f\"Error: {e}\")\n",
    "    traceback.print_exc() "
   ]
  },
  {
   "cell_type": "markdown",
   "metadata": {},
   "source": [
    "### Test Network\n",
    "\n",
    "#### Util functions"
   ]
  },
  {
   "cell_type": "code",
   "execution_count": null,
   "metadata": {},
   "outputs": [],
   "source": [
    "def mtu_test(node1, node2, node2_ip, verbose=True):\n",
    "    if verbose: print(\"Testing MTU:\")\n",
    "\n",
    "    #Run test\n",
    "    output = {}\n",
    "\n",
    "    ping_packets_count = 3\n",
    "    #ping_packet_sizes = [9000, 8950, 8000, 1500, 1450, 1400, 1000, 500, 100, 50]\n",
    "    max_success = -1\n",
    "    min_fail = 10000\n",
    "\n",
    "    #Test min ping\n",
    "    current_size = 0\n",
    "\n",
    "    stdout, stderr = node1.execute('ping -M do -s ' + str(current_size) + ' -c ' + str(ping_packets_count) + ' ' + node2_ip + \" | grep transmitted\")\n",
    "    ping_string = stdout\n",
    "\n",
    "    data_array = ping_string.split(\" \")\n",
    "    recieved_packets = 0\n",
    "    if len(data_array) > 3:\n",
    "        recieved_packets = data_array[3]\n",
    "\n",
    "    if(int(recieved_packets) == ping_packets_count):\n",
    "        max_success = current_size\n",
    "        min_fail = 10000\n",
    "    else:\n",
    "        min_fail = 0\n",
    "        max_success = -1\n",
    "\n",
    "\n",
    "    while max_success < min_fail - 1:\n",
    "\n",
    "        current_size = int((min_fail+max_success)/2)\n",
    "        #print(\"min_fail: {}, max_success: {}, current_size: {}\".format(str(min_fail),str(max_success), str(current_size)))\n",
    "\n",
    "        stdout, stderr = node1.execute('ping -M do -s ' + str(current_size) + ' -c ' + str(ping_packets_count) + ' ' + node2_ip + \" | grep transmitted\")\n",
    "        ping_string = stdout\n",
    "\n",
    "        #print(\"current_size: {}, output: {}\".format(str(current_size),ping_string))\n",
    "\n",
    "        data_array = ping_string.split(\" \")\n",
    "        recieved_packets = 0\n",
    "        if len(data_array) > 3:\n",
    "            recieved_packets = data_array[3]\n",
    "\n",
    "        #print(\"recieved_packets: {}, ping_packets_count: {}\".format(str(recieved_packets),str(ping_packets_count)))\n",
    "        if(int(recieved_packets) == int(ping_packets_count)):\n",
    "            max_success = current_size\n",
    "        else:\n",
    "            min_fail = current_size\n",
    "\n",
    "    if max_success > 0:\n",
    "        output['mtu'] = str(max_success+28)\n",
    "    else:\n",
    "        output['mtu'] = 0\n",
    "\n",
    "    if verbose: print(\", mtu: {}\".format(output['mtu']),end='')\n",
    "\n",
    "    return output\n",
    "\n",
    "\n",
    "def bandwidth_test(node1, node2, node1_ip, node2_ip, verbose=True):\n",
    "    if verbose: print(\"Testing Bandwidth:\")\n",
    "    output = {}\n",
    "\n",
    "    #stdout, stderr = node1.execute('echo \"net.core.rmem_max = 2147483647\\nnet.core.wmem_max = 2147483647\\nnet.ipv4.tcp_rmem = 4096 87380 2147483647\\nnet.ipv4.tcp_wmem = 4096 65536 2147483647\\nnet.ipv4.tcp_congestion_control=htcp\\nnet.ipv4.tcp_mtu_probing=1\\nnet.core.default_qdisc = fq\\n\" | sudo tee -a /etc/sysctl.conf && sudo sysctl -p')\n",
    "    #stdout, stderr = node2.execute('echo \"net.core.rmem_max = 2147483647\\nnet.core.wmem_max = 2147483647\\nnet.ipv4.tcp_rmem = 4096 87380 2147483647\\nnet.ipv4.tcp_wmem = 4096 65536 2147483647\\nnet.ipv4.tcp_congestion_control=htcp\\nnet.ipv4.tcp_mtu_probing=1\\nnet.core.default_qdisc = fq\\n\" | sudo tee -a /etc/sysctl.conf && sudo sysctl -p')\n",
    "\n",
    "\n",
    "    stdout, stderr = node1.execute('iperf3 -s > /dev/null 2>&1 &')\n",
    "\n",
    "    #stdout, stderr = node2.execute('iperf3 -J -c ' + node1_ip + ' -t 60 -P 1 -w 512M')\n",
    "    stdout, stderr = node2.execute('iperf3 -J -c ' + node1_ip + ' -t 60 -P 1')\n",
    "    #print(f\"stdout {stdout}\")\n",
    "    try:\n",
    "        results = json.loads(stdout)\n",
    "        output['forward'] = results\n",
    "    except Exception as e:\n",
    "        print(\"error {}\".format(e))\n",
    "        print(\"iperf raw stdout: {}\".format(stdout))\n",
    "        traceback.print_exc()\n",
    "\n",
    "    #stdout, stderr = node2.execute('iperf3 -J -R -c ' + node1_ip + ' -t 60 -P 1 -w 512M')\n",
    "    stdout, stderr = node2.execute('iperf3 -J -R -c ' + node1_ip + ' -t 60 -P 1')\n",
    "    try:\n",
    "        results = json.loads(stdout)\n",
    "        output['reverse'] = results\n",
    "    except Exception as e:\n",
    "        print(\"error {}\".format(e))\n",
    "        print(\"iperf raw stdout: {}\".format(stdout))\n",
    "        traceback.print_exc()\n",
    "\n",
    "    #return {'bandwidth_test': output}\n",
    "    return output"
   ]
  },
  {
   "cell_type": "markdown",
   "metadata": {},
   "source": [
    "### Config Networking Tools"
   ]
  },
  {
   "cell_type": "code",
   "execution_count": null,
   "metadata": {},
   "outputs": [],
   "source": [
    "from ipaddress import ip_address, IPv4Address, IPv6Address\n",
    "\n",
    "try:\n",
    "    slice = fablib.get_slice(name=slice_name)\n",
    "    for node in slice.get_nodes():\n",
    "        if type(ip_address(node.get_management_ip())) is IPv6Address:\n",
    "            print(f\"{node.get_name()}: IPv6\")\n",
    "            #stdout, stderr = node.execute('sudo echo \"nameserver 2001:4860:4860::8888\" > /etc/resolv.conf && sudo echo \"nameserver 2001:4860:4860::8844\" >> /etc/resolv.conf')\n",
    "            #print(f\"stdout: {stdout}\")\n",
    "            #print(f\"stderr: {stderr}\")\n",
    "            \n",
    "        #https://srcc.stanford.edu/100g-network-adapter-tuning\n",
    "        #https://fasterdata.es.net/host-tuning/linux/\n",
    "        stdout, stderr = node.execute('sudo echo \"net.core.rmem_max = 268435456\" >  /etc/sysctl.conf')\n",
    "        stdout, stderr = node.execute('sudo echo \"net.core.wmem_max = 268435456\" >>  /etc/sysctl.conf')\n",
    "        stdout, stderr = node.execute('sudo echo \"net.ipv4.tcp_rmem = 4096 87380 134217728\" >>  /etc/sysctl.conf')\n",
    "        stdout, stderr = node.execute('sudo echo \"net.ipv4.tcp_wmem = 4096 65536 134217728\" >>  /etc/sysctl.conf')\n",
    "        stdout, stderr = node.execute('sudo echo \"net.ipv4.tcp_congestion_control=bbr\" >>  /etc/sysctl.conf')\n",
    "        stdout, stderr = node.execute('sudo echo \"net.ipv4.tcp_mtu_probing=1\" >>  /etc/sysctl.conf')\n",
    "        stdout, stderr = node.execute('sudo echo \"net.core.default_qdisc = fq\" >>  /etc/sysctl.conf')\n",
    "        stdout, stderr = node.execute('sudo echo \"net.core.netdev_max_backlog = 250000\" >>  /etc/sysctl.conf')\n",
    "        stdout, stderr = node.execute('net.ipv4.tcp_no_metrics_save = 1\" >>  /etc/sysctl.conf')\n",
    "        stdout, stderr = node.execute('sudo sysctl -p')\n",
    "        \n",
    "        print(f\"{node.get_interface(network_name=network_name).get_physical_os_interface()['ifname']}\")\n",
    "        print(f\"{node.get_interface(network_name=network_name).get_os_interface()}\")\n",
    "        stdout, stderr = node.execute(f\"sudo ethtool -K {node.get_interface(network_name=network_name).get_physical_os_interface()['ifname']} lro on\")\n",
    "        stdout, stderr = node.execute(f\"sudo ifconfig {node.get_interface(network_name=network_name).get_physical_os_interface()['ifname']} txqueuelen 20000\")\n",
    "        stdout, stderr = node.execute(f\"sudo ethtool -K {node.get_interface(network_name=network_name).get_os_interface()} lro on\")\n",
    "        stdout, stderr = node.execute(f\"sudo ifconfig {node.get_interface(network_name=network_name).get_os_interface()} txqueuelen 20000\")\n",
    "        stdout, stderr = node.execute(f\"sudo systemctl stop irqbalance\")\n",
    "    \n",
    "        stdout, stderr = node.execute('sudo yum install -y iperf3 net-tools vim')\n",
    "except Exception as e:\n",
    "    print(f\"{e}\")"
   ]
  },
  {
   "cell_type": "markdown",
   "metadata": {},
   "source": [
    "### Latency Test"
   ]
  },
  {
   "cell_type": "code",
   "execution_count": null,
   "metadata": {},
   "outputs": [],
   "source": [
    "#Latency Test\n",
    "try:\n",
    "    node1 = slice.get_node(name=node1_name)    \n",
    "    node2 = slice.get_node(name=node2_name)  \n",
    "    node2_iface = node2.get_interface(network_name=network_name)  \n",
    "  \n",
    "    stdout, stderr = node1.execute(f'ping -c 3 {node2_dataplane_ip}')\n",
    "    print (stdout)\n",
    "except Exception as e:\n",
    "    print(f\"Error: {e}\")\n",
    "    traceback.print_exc() "
   ]
  },
  {
   "cell_type": "code",
   "execution_count": null,
   "metadata": {},
   "outputs": [],
   "source": [
    "try:\n",
    "    print(f\"MTU: {mtu_test(node1, node2, node2_dataplane_ip, verbose=False)}\")\n",
    "except Exception as e:\n",
    "    print(f\"Error: {e}\")\n",
    "    traceback.print_exc()"
   ]
  },
  {
   "cell_type": "code",
   "execution_count": null,
   "metadata": {},
   "outputs": [],
   "source": [
    "try:\n",
    "    iperf_output = bandwidth_test(node1, node2, node1_dataplane_ip, node2_dataplane_ip)\n",
    "    \n",
    "    print(f\"Forward bandwidth: {float(iperf_output['forward']['end']['sum_received']['bits_per_second'])/1000000000:.3f} Gbps\")\n",
    "    print(f\"Reverse bandwidth: {float(iperf_output['reverse']['end']['sum_received']['bits_per_second'])/1000000000:.3f} Gbps\")\n",
    "\n",
    "except Exception as e:\n",
    "    print(f\"Error: {e}\")\n",
    "    traceback.print_exc()"
   ]
  },
  {
   "cell_type": "markdown",
   "metadata": {},
   "source": [
    "## Delete Slice"
   ]
  },
  {
   "cell_type": "code",
   "execution_count": null,
   "metadata": {},
   "outputs": [],
   "source": [
    "try:\n",
    "    slice = fablib.get_slice(name=slice_name)\n",
    "    slice.delete()\n",
    "except Exception as e:\n",
    "    print(f\"Fail: {e}\")\n",
    "    traceback.print_exc()"
   ]
  },
  {
   "cell_type": "code",
   "execution_count": null,
   "metadata": {},
   "outputs": [],
   "source": []
  }
 ],
 "metadata": {
  "kernelspec": {
   "display_name": "Python 3 (ipykernel)",
   "language": "python",
   "name": "python3"
  },
  "language_info": {
   "codemirror_mode": {
    "name": "ipython",
    "version": 3
   },
   "file_extension": ".py",
   "mimetype": "text/x-python",
   "name": "python",
   "nbconvert_exporter": "python",
   "pygments_lexer": "ipython3",
   "version": "3.9.2"
  }
 },
 "nbformat": 4,
 "nbformat_minor": 4
}
